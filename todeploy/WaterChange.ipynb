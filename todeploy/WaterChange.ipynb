{
 "cells": [
  {
   "cell_type": "markdown",
   "metadata": {},
   "source": [
    "# Water Change\n",
    "<img src=\"https://arcgis01.satapps.org/portal/sharing/rest/content/items/a499849ccd1f4c7fb0403b4c719f9dc1/resources/vF_Water%20Change.png\" />\n",
    "[find out more](https://arcgis01.satapps.org/portal/apps/sites/?fromEdit=true#/data/pages/data-cube)\n",
    "This product enables the change in surface area of water between two time periods to be detected."
   ]
  },
  {
   "cell_type": "code",
   "execution_count": null,
   "metadata": {},
   "outputs": [],
   "source": [
    "# jupyteronly\n",
    "%matplotlib inline\n",
    "import datacube\n",
    "import matplotlib.gridspec as gridspec\n",
    "import matplotlib.pyplot as plt\n",
    "\n",
    "from matplotlib.cm import RdYlGn, Greens\n",
    "from datacube_utilities.interactive_maps import display_map"
   ]
  },
  {
   "cell_type": "markdown",
   "metadata": {},
   "source": [
    "### Import required modules"
   ]
  },
  {
   "cell_type": "code",
   "execution_count": null,
   "metadata": {},
   "outputs": [],
   "source": [
    "import numpy as np\n",
    "import xarray as xr\n",
    "from pyproj import Proj, transform\n",
    "\n",
    "from datacube.storage import masking\n",
    "from datacube_utilities.createAOI import create_lat_lon\n",
    "from datacube_utilities.dc_water_classifier import wofs_classify\n",
    "from datacube_utilities.dc_utilities import write_geotiff_from_xr\n",
    "from datacube.utils.cog import write_cog\n",
    "\n",
    "\n",
    "import dask\n",
    "from dask.distributed import Client\n",
    "\n",
    "client = Client('dask-scheduler.dask.svc.cluster.local:8786')\n",
    "\n",
    "client.get_versions(check=True)\n",
    "client"
   ]
  },
  {
   "cell_type": "markdown",
   "metadata": {},
   "source": [
    "## Initialise"
   ]
  },
  {
   "cell_type": "code",
   "execution_count": null,
   "metadata": {},
   "outputs": [],
   "source": [
    "# jupyteronly\n",
    "dc = datacube.Datacube(app='water-change')"
   ]
  },
  {
   "cell_type": "markdown",
   "metadata": {},
   "source": [
    "## Set up datacube query.\n",
    "This includes options for crs, a groupby for overlapping datasets, a time range, and a spatial extent. "
   ]
  },
  {
   "cell_type": "code",
   "execution_count": 5,
   "metadata": {},
   "outputs": [],
   "source": [
    "# parameters\n",
    "\n",
    "#area of interest: load in as wkt\n",
    "#parameter display_name=\"Area of Interest\" description=\"The area for which the product is required.\" datatype=\"wkt\",\n",
    "aoi_wkt = \"POLYGON ((177.62557983398438 -17.590848708679893, 177.77372360229492 -17.590848708679893, 177.77372360229492 -17.488875828028657, 177.62557983398438 -17.488875828028657, 177.62557983398438 -17.590848708679893))\"\n",
    "\n",
    "#set start and end dates for time period of interest\n",
    "#parameter display_name=\"Baseline Start Date\" description='Start of the baseline time period window' datatype=\"date\"\n",
    "baseline_time_start = '1990-3-1'\n",
    "#parameter display_name=\"Baseline End Date\" description='End of the baseline time period window' datatype=\"date\"\n",
    "baseline_time_end = '1995-9-1'\n",
    "\n",
    "#set start and end dates for time period of interest\n",
    "#parameter display_name=\"Analysis Start Date\" description='Start of the analysis time period window' datatype=\"date\"\n",
    "analysis_time_start = '1993-3-1'\n",
    "#parameter display_name=\"Analysis End Date\" description='End of the analysis time period window' datatype=\"date\"\n",
    "analysis_time_end = '1995-9-1'\n",
    "\n",
    "#set resolution\n",
    "#parameter display_name=\"Resolution (m)\" description=\"Size of pixels\" datatype=\"int\"\n",
    "res = (30)\n",
    "\n",
    "#choose sensor\n",
    "#parameter display_name=\"Baseline Sensor\" description=\"Satellite to use for baseline time period, more than one can be selected.\" datatype=\"multi\" options=[\"sentinel_2\", \"landsat_4\", \"landsat_5\", \"landsat_7\", \"landsat_8\", \"sentinel_1\"],\n",
    "#baseline_platform = [\"landsat_8\", \"sentinel_2\"]\n",
    "baseline_platform = [\"landsat_5\", \"landsat_4\"]\n",
    "\n",
    "#choose sensor\n",
    "#parameter display_name=\"Analysis Sensor\" description=\"Satellite to use for analysis time period, more than one can be selected.\" datatype=\"multi\" options=[\"sentinel_2\", \"landsat_4\", \"landsat_5\", \"landsat_7\", \"landsat_8\", \"sentinel_1\"],\n",
    "#analysis_platform = [\"landsat_8\", \"sentinel_2\"]\n",
    "analysis_platform = [\"landsat_5\", \"landsat_4\"]\n",
    "\n",
    "\n",
    "#parameter display_name=\"Coordinate Reference System\" description=\"The EPSG code for the CRS, for Fiji this will be 3460.\" datatype=\"string\" options=[\"3460\", \"3832\"],\n",
    "crs = \"3460\"\n",
    "\n",
    "#this parameter should be restricted to between 1 and 100, should not be valid for landsat4 and landsat5\n",
    "#parameter display_name=\"Percentage Confidence\" description=\"The level of confidence acceptable for an individual pixel, recommended to start with 5%\" datatype=\"int\", options=[0,100]\n",
    "confidenceLevel = (5)\n",
    "\n",
    "#parameter which determines what water threshold we accept as being water. Restrict to be between 0 and 1. \n",
    "#parameter display_name=\"Water Threshold\" description=\"The value for how strict the water masking should be, ranging from 0 for always land and 1 for always water.\" datatype=\"float\" options=[0,1]\n",
    "waterThresh = 0.3\n"
   ]
  },
  {
   "cell_type": "markdown",
   "metadata": {},
   "source": [
    "### Reformat Parameters"
   ]
  },
  {
   "cell_type": "code",
   "execution_count": 6,
   "metadata": {},
   "outputs": [],
   "source": [
    "#get latitude and longitude\n",
    "lat_extents, lon_extents = create_lat_lon(aoi_wkt)"
   ]
  },
  {
   "cell_type": "code",
   "execution_count": 7,
   "metadata": {},
   "outputs": [
    {
     "data": {
      "text/html": [
       "<div style=\"width:100%;\"><div style=\"position:relative;width:100%;height:0;padding-bottom:60%;\"><iframe src=\"data:text/html;charset=utf-8;base64,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\" style=\"position:absolute;width:100%;height:100%;left:0;top:0;border:none !important;\" allowfullscreen webkitallowfullscreen mozallowfullscreen></iframe></div></div>"
      ],
      "text/plain": [
       "<folium.folium.Map at 0x7fd3cc230358>"
      ]
     },
     "execution_count": 7,
     "metadata": {},
     "output_type": "execute_result"
    }
   ],
   "source": [
    "# jupyteronly\n",
    "## The code below renders a map that can be used to orient yourself with the region.\n",
    "display_map(latitude = lat_extents, longitude = lon_extents)"
   ]
  },
  {
   "cell_type": "code",
   "execution_count": 8,
   "metadata": {},
   "outputs": [
    {
     "name": "stderr",
     "output_type": "stream",
     "text": [
      "/opt/conda/envs/cubeenv/lib/python3.6/site-packages/pyproj/crs/crs.py:280: FutureWarning: '+init=<authority>:<code>' syntax is deprecated. '<authority>:<code>' is the preferred initialization method. When making the change, be mindful of axis order changes: https://pyproj4.github.io/pyproj/stable/gotchas.html#axis-order-changes-in-proj-6\n",
      "  projstring = _prepare_from_string(projparams)\n",
      "/opt/conda/envs/cubeenv/lib/python3.6/site-packages/pyproj/crs/crs.py:280: FutureWarning: '+init=<authority>:<code>' syntax is deprecated. '<authority>:<code>' is the preferred initialization method. When making the change, be mindful of axis order changes: https://pyproj4.github.io/pyproj/stable/gotchas.html#axis-order-changes-in-proj-6\n",
      "  projstring = _prepare_from_string(projparams)\n",
      "/opt/conda/envs/cubeenv/lib/python3.6/site-packages/ipykernel_launcher.py:6: DeprecationWarning: This function is deprecated. See: https://pyproj4.github.io/pyproj/stable/gotchas.html#upgrading-to-pyproj-2-from-pyproj-1\n",
      "  \n",
      "/opt/conda/envs/cubeenv/lib/python3.6/site-packages/ipykernel_launcher.py:7: DeprecationWarning: This function is deprecated. See: https://pyproj4.github.io/pyproj/stable/gotchas.html#upgrading-to-pyproj-2-from-pyproj-1\n",
      "  import sys\n"
     ]
    },
    {
     "name": "stdout",
     "output_type": "stream",
     "text": [
      "(3934260.914984402, 3945633.577378467)\n",
      "(1880642.0275783802, 1896308.818778341)\n"
     ]
    }
   ],
   "source": [
    "#reprojection of AOI into input CRS and reformat\n",
    "inProj  = Proj(\"+init=EPSG:4326\")\n",
    "outProj = Proj(\"+init=EPSG:\"+crs)\n",
    "min_lat, max_lat = (lat_extents) \n",
    "min_lon, max_lon = (lon_extents)\n",
    "x_A, y_A = transform(inProj, outProj, min_lon, min_lat)\n",
    "x_B, y_B = transform(inProj, outProj, max_lon, max_lat)\n",
    "lat_range = (y_A, y_B)\n",
    "lon_range = (x_A, x_B)\n",
    "print(lat_range)\n",
    "print(lon_range)"
   ]
  },
  {
   "cell_type": "code",
   "execution_count": 9,
   "metadata": {},
   "outputs": [],
   "source": [
    "productDict = {\"sentinel_2\":\"sentinel_2_mlwater\", \n",
    "    \"sentinel_1\": \"sentinel_1_mlwater\",\n",
    "    \"landsat_8\": \"landsat_8_mlwater\",\n",
    "    \"landsat_7\": \"landsat_7_mlwater\",\n",
    "    \"landsat_5\": \"landsat_5_mlwater\",\n",
    "    \"landsat_4\": \"landsat_4_wofs\",\n",
    "}\n",
    "\n",
    "def getWaterProduct(platform):\n",
    "    return [productDict[i] for i in platform]"
   ]
  },
  {
   "cell_type": "code",
   "execution_count": 10,
   "metadata": {},
   "outputs": [
    {
     "name": "stdout",
     "output_type": "stream",
     "text": [
      "['landsat_5_mlwater', 'landsat_4_wofs']\n",
      "['landsat_5_mlwater', 'landsat_4_wofs']\n"
     ]
    }
   ],
   "source": [
    "#get names of desired water products\n",
    "baseline_water_product = getWaterProduct(baseline_platform)\n",
    "print(baseline_water_product)\n",
    "\n",
    "analysis_water_product = getWaterProduct(analysis_platform)\n",
    "print(analysis_water_product)"
   ]
  },
  {
   "cell_type": "code",
   "execution_count": 11,
   "metadata": {},
   "outputs": [],
   "source": [
    "#create resolution\n",
    "resolution = (-res, res)"
   ]
  },
  {
   "cell_type": "code",
   "execution_count": 12,
   "metadata": {},
   "outputs": [],
   "source": [
    "dask_chunks = dict(\n",
    "    time = 1,\n",
    "    x = 2000,\n",
    "    y = 2000\n",
    ")"
   ]
  },
  {
   "cell_type": "code",
   "execution_count": 13,
   "metadata": {},
   "outputs": [],
   "source": [
    "#time_range\n",
    "#format dates\n",
    "from datetime import datetime\n",
    "def createDate(inputStart, inputEnd):\n",
    "    start = datetime.strptime(inputStart, '%Y-%m-%d')\n",
    "    end = datetime.strptime(inputEnd, '%Y-%m-%d')\n",
    "    startDates = start.date()\n",
    "    endDates = end.date()\n",
    "    time_period = (startDates, endDates)\n",
    "    return time_period\n",
    "baseline_time_period = createDate(baseline_time_start, baseline_time_end)\n",
    "analysis_time_period = createDate(analysis_time_start, analysis_time_end)\n"
   ]
  },
  {
   "cell_type": "markdown",
   "metadata": {},
   "source": [
    "## Load Data "
   ]
  },
  {
   "cell_type": "code",
   "execution_count": 14,
   "metadata": {},
   "outputs": [],
   "source": [
    "#generic for load query\n",
    "query = {\n",
    "    'longitude': lon_range,\n",
    "    'latitude': lat_range,\n",
    "    'output_crs': \"EPSG:\"+crs,\n",
    "    'resolution': resolution,\n",
    "    'dask_chunks': dask_chunks,\n",
    "    'crs': \"EPSG:\"+crs\n",
    "}"
   ]
  },
  {
   "cell_type": "code",
   "execution_count": 15,
   "metadata": {},
   "outputs": [],
   "source": [
    "#function to check if datasets are empty\n",
    "def is_dataset_empty(ds:xr.Dataset) -> bool:\n",
    "    checks_for_empty = [\n",
    "                        lambda x: len(x.dims) == 0,      #Dataset has no dimensions\n",
    "                        lambda x: len(x.data_vars) == 0  #Dataset no variables \n",
    "                       ]\n",
    "    for f in checks_for_empty:\n",
    "         if f(ds) == True:\n",
    "                return True\n",
    "    return False"
   ]
  },
  {
   "cell_type": "markdown",
   "metadata": {},
   "source": [
    "### Load in water masks"
   ]
  },
  {
   "cell_type": "markdown",
   "metadata": {},
   "source": [
    "#go through dataset list and load those which have data based on the query. \n",
    "def loadWaterMask(productList, time_period):\n",
    "    #print(productList)\n",
    "    product_data = []\n",
    "    print(productList)\n",
    "    for productInput in productList:\n",
    "        if productInput in [\"s2_water_mlclassification\", \"s1_water_mlclassification\", \"ls8_water_mlclassification\", \"ls7_water_mlclassification\"]:\n",
    "            print(productInput)\n",
    "            water_scenes = dc.load(product=productInput,\n",
    "                  measurements = [\"watermask\", \"waterprob\"],\n",
    "                                   time = time_period,\n",
    "                   **query)\n",
    "            #print(productInput)\n",
    "            #print(water_scenes)\n",
    "            if is_dataset_empty(water_scenes):\n",
    "                print(productInput, 'is empty')\n",
    "            #change clouds to no data value\n",
    "            else:\n",
    "                water_classes = water_scenes.where(water_scenes >= 0)\n",
    "                good_quality_water = (\n",
    "                   (water_scenes.watermask >= 0) & # no data\n",
    "                    (\n",
    "                     (water_scenes.waterprob <= confidenceLevel) |\n",
    "                        (water_scenes.waterprob >= 100-confidenceLevel)\n",
    "                    )\n",
    "                    )\n",
    "                water_classes = water_scenes.where(good_quality_water)\n",
    "                water_classes['waterprob'] = (100-water_classes['waterprob']) # assign nodata vals consistent w/ other prods\n",
    "                product_data.append(water_classes)\n",
    "        elif productInput in [\"ls5_water_classification\", \"ls4_water_classification\"]:\n",
    "            water_scenes = dc.load(product=productInput,\n",
    "                                   measurements = [\"water\"],\n",
    "                                   time = time_period,\n",
    "                                       **query)\n",
    "            if is_dataset_empty(water_scenes):\n",
    "                print(productInput, 'is empty')\n",
    "            else:\n",
    "                water_classes1 = water_scenes.where(water_scenes != -9999)\n",
    "                water_classes1['watermask'] = water_classes1['water']\n",
    "                water_classes = water_classes1.drop(['water'])\n",
    "                product_data.append(water_classes)\n",
    "        else:\n",
    "            print('invalid platform')\n",
    "    return product_data\n",
    "\n"
   ]
  },
  {
   "cell_type": "code",
   "execution_count": 16,
   "metadata": {},
   "outputs": [],
   "source": [
    "#go through dataset list and load those which have data based on the query. \n",
    "def loadWaterMask(productList, time_period):\n",
    "    #print(productList)\n",
    "    product_data = []\n",
    "    print(productList)\n",
    "    for productInput in productList:\n",
    "        if productInput in [\"sentinel_2_mlwater\", \"sentinel_1_mlwater\", \"landsat_8_mlwater\", \"landsat_7_mlwater\", \"landsat_5_mlwater\"]:\n",
    "            print(productInput)\n",
    "            water_scenes = dc.load(product=productInput,\n",
    "                  measurements = [\"water_ml\", \"waterprob_ml\"],\n",
    "                                   time = time_period,\n",
    "                   **query)\n",
    "            #print(productInput)\n",
    "            #print(water_scenes)\n",
    "            if is_dataset_empty(water_scenes):\n",
    "                print(productInput, 'is empty')\n",
    "            #change clouds to no data value\n",
    "            else:\n",
    "                water_classes = water_scenes.where(water_scenes >= 0)\n",
    "                good_quality_water = (\n",
    "                   (water_scenes.water_ml >= 0) & # no data\n",
    "                    (\n",
    "                     (water_scenes.waterprob_ml <= confidenceLevel) |\n",
    "                        (water_scenes.waterprob_ml >= 100-confidenceLevel)\n",
    "                    )\n",
    "                    )\n",
    "                water_classes = water_scenes.where(good_quality_water)\n",
    "                water_classes['waterprob_ml'] = (100-water_classes['waterprob_ml']) # assign nodata vals consistent w/ other prods\n",
    "                product_data.append(water_classes)\n",
    "        elif productInput in [\"landsat_4_wofs\"]:\n",
    "            water_scenes = dc.load(product=productInput,\n",
    "                                   measurements = [\"water_wofs\"],\n",
    "                                   time = time_period,\n",
    "                                       **query)\n",
    "            if is_dataset_empty(water_scenes):\n",
    "                print(productInput, 'is empty')\n",
    "            else:\n",
    "                water_classes1 = water_scenes.where(water_scenes != -9999)\n",
    "                water_classes1['water_ml'] = water_classes1['water_wofs']\n",
    "                water_classes = water_classes1.drop(['water_wofs'])\n",
    "                product_data.append(water_classes)\n",
    "        else:\n",
    "            print('invalid platform')\n",
    "    return product_data"
   ]
  },
  {
   "cell_type": "code",
   "execution_count": 17,
   "metadata": {},
   "outputs": [],
   "source": [
    "#baseline_water_product = [\"ls8_water_mlclassification\", \"ls8_water_mlclassification\" ]\n",
    "# \"s2_water_mlclassification\""
   ]
  },
  {
   "cell_type": "code",
   "execution_count": 18,
   "metadata": {},
   "outputs": [],
   "source": [
    "#print(baseline_water_product)"
   ]
  },
  {
   "cell_type": "code",
   "execution_count": 19,
   "metadata": {},
   "outputs": [
    {
     "name": "stdout",
     "output_type": "stream",
     "text": [
      "['landsat_5_mlwater', 'landsat_4_wofs']\n"
     ]
    }
   ],
   "source": [
    "print(baseline_water_product)"
   ]
  },
  {
   "cell_type": "code",
   "execution_count": null,
   "metadata": {},
   "outputs": [],
   "source": []
  },
  {
   "cell_type": "code",
   "execution_count": 20,
   "metadata": {},
   "outputs": [
    {
     "name": "stdout",
     "output_type": "stream",
     "text": [
      "['landsat_5_mlwater', 'landsat_4_wofs']\n",
      "landsat_5_mlwater\n"
     ]
    },
    {
     "ename": "ValueError",
     "evalue": "'waterprob_ml' is not present in all datasets.",
     "output_type": "error",
     "traceback": [
      "\u001b[0;31m---------------------------------------------------------------------------\u001b[0m",
      "\u001b[0;31mKeyError\u001b[0m                                  Traceback (most recent call last)",
      "\u001b[0;32m/opt/conda/envs/cubeenv/lib/python3.6/site-packages/xarray/core/concat.py\u001b[0m in \u001b[0;36m_dataset_concat\u001b[0;34m(datasets, dim, data_vars, coords, compat, positions, fill_value, join, combine_attrs)\u001b[0m\n\u001b[1;32m    402\u001b[0m             \u001b[0;32mtry\u001b[0m\u001b[0;34m:\u001b[0m\u001b[0;34m\u001b[0m\u001b[0;34m\u001b[0m\u001b[0m\n\u001b[0;32m--> 403\u001b[0;31m                 \u001b[0mvars\u001b[0m \u001b[0;34m=\u001b[0m \u001b[0mensure_common_dims\u001b[0m\u001b[0;34m(\u001b[0m\u001b[0;34m[\u001b[0m\u001b[0mds\u001b[0m\u001b[0;34m.\u001b[0m\u001b[0mvariables\u001b[0m\u001b[0;34m[\u001b[0m\u001b[0mk\u001b[0m\u001b[0;34m]\u001b[0m \u001b[0;32mfor\u001b[0m \u001b[0mds\u001b[0m \u001b[0;32min\u001b[0m \u001b[0mdatasets\u001b[0m\u001b[0;34m]\u001b[0m\u001b[0;34m)\u001b[0m\u001b[0;34m\u001b[0m\u001b[0;34m\u001b[0m\u001b[0m\n\u001b[0m\u001b[1;32m    404\u001b[0m             \u001b[0;32mexcept\u001b[0m \u001b[0mKeyError\u001b[0m\u001b[0;34m:\u001b[0m\u001b[0;34m\u001b[0m\u001b[0;34m\u001b[0m\u001b[0m\n",
      "\u001b[0;32m/opt/conda/envs/cubeenv/lib/python3.6/site-packages/xarray/core/concat.py\u001b[0m in \u001b[0;36m<listcomp>\u001b[0;34m(.0)\u001b[0m\n\u001b[1;32m    402\u001b[0m             \u001b[0;32mtry\u001b[0m\u001b[0;34m:\u001b[0m\u001b[0;34m\u001b[0m\u001b[0;34m\u001b[0m\u001b[0m\n\u001b[0;32m--> 403\u001b[0;31m                 \u001b[0mvars\u001b[0m \u001b[0;34m=\u001b[0m \u001b[0mensure_common_dims\u001b[0m\u001b[0;34m(\u001b[0m\u001b[0;34m[\u001b[0m\u001b[0mds\u001b[0m\u001b[0;34m.\u001b[0m\u001b[0mvariables\u001b[0m\u001b[0;34m[\u001b[0m\u001b[0mk\u001b[0m\u001b[0;34m]\u001b[0m \u001b[0;32mfor\u001b[0m \u001b[0mds\u001b[0m \u001b[0;32min\u001b[0m \u001b[0mdatasets\u001b[0m\u001b[0;34m]\u001b[0m\u001b[0;34m)\u001b[0m\u001b[0;34m\u001b[0m\u001b[0;34m\u001b[0m\u001b[0m\n\u001b[0m\u001b[1;32m    404\u001b[0m             \u001b[0;32mexcept\u001b[0m \u001b[0mKeyError\u001b[0m\u001b[0;34m:\u001b[0m\u001b[0;34m\u001b[0m\u001b[0;34m\u001b[0m\u001b[0m\n",
      "\u001b[0;32m/opt/conda/envs/cubeenv/lib/python3.6/site-packages/xarray/core/utils.py\u001b[0m in \u001b[0;36m__getitem__\u001b[0;34m(self, key)\u001b[0m\n\u001b[1;32m    421\u001b[0m     \u001b[0;32mdef\u001b[0m \u001b[0m__getitem__\u001b[0m\u001b[0;34m(\u001b[0m\u001b[0mself\u001b[0m\u001b[0;34m,\u001b[0m \u001b[0mkey\u001b[0m\u001b[0;34m:\u001b[0m \u001b[0mK\u001b[0m\u001b[0;34m)\u001b[0m \u001b[0;34m->\u001b[0m \u001b[0mV\u001b[0m\u001b[0;34m:\u001b[0m\u001b[0;34m\u001b[0m\u001b[0;34m\u001b[0m\u001b[0m\n\u001b[0;32m--> 422\u001b[0;31m         \u001b[0;32mreturn\u001b[0m \u001b[0mself\u001b[0m\u001b[0;34m.\u001b[0m\u001b[0mmapping\u001b[0m\u001b[0;34m[\u001b[0m\u001b[0mkey\u001b[0m\u001b[0;34m]\u001b[0m\u001b[0;34m\u001b[0m\u001b[0;34m\u001b[0m\u001b[0m\n\u001b[0m\u001b[1;32m    423\u001b[0m \u001b[0;34m\u001b[0m\u001b[0m\n",
      "\u001b[0;31mKeyError\u001b[0m: 'waterprob_ml'",
      "\nDuring handling of the above exception, another exception occurred:\n",
      "\u001b[0;31mValueError\u001b[0m                                Traceback (most recent call last)",
      "\u001b[0;32m<ipython-input-20-c7bf4849df98>\u001b[0m in \u001b[0;36m<module>\u001b[0;34m\u001b[0m\n\u001b[1;32m      1\u001b[0m \u001b[0mwaterclass_baseline\u001b[0m \u001b[0;34m=\u001b[0m \u001b[0mloadWaterMask\u001b[0m\u001b[0;34m(\u001b[0m\u001b[0mbaseline_water_product\u001b[0m\u001b[0;34m,\u001b[0m \u001b[0mbaseline_time_period\u001b[0m\u001b[0;34m)\u001b[0m\u001b[0;34m\u001b[0m\u001b[0;34m\u001b[0m\u001b[0m\n\u001b[0;32m----> 2\u001b[0;31m \u001b[0mwc_baseline\u001b[0m \u001b[0;34m=\u001b[0m \u001b[0mxr\u001b[0m\u001b[0;34m.\u001b[0m\u001b[0mconcat\u001b[0m\u001b[0;34m(\u001b[0m\u001b[0mwaterclass_baseline\u001b[0m\u001b[0;34m,\u001b[0m \u001b[0mdim\u001b[0m\u001b[0;34m=\u001b[0m\u001b[0;34m'time'\u001b[0m\u001b[0;34m)\u001b[0m\u001b[0;34m.\u001b[0m\u001b[0msortby\u001b[0m\u001b[0;34m(\u001b[0m\u001b[0;34m'time'\u001b[0m\u001b[0;34m)\u001b[0m\u001b[0;34m\u001b[0m\u001b[0;34m\u001b[0m\u001b[0m\n\u001b[0m\u001b[1;32m      3\u001b[0m \u001b[0mwc_baseline\u001b[0m\u001b[0;34m.\u001b[0m\u001b[0mnbytes\u001b[0m\u001b[0;34m/\u001b[0m\u001b[0;36m1000000000\u001b[0m\u001b[0;34m,\u001b[0m \u001b[0mwc_baseline\u001b[0m\u001b[0;34m\u001b[0m\u001b[0;34m\u001b[0m\u001b[0m\n",
      "\u001b[0;32m/opt/conda/envs/cubeenv/lib/python3.6/site-packages/xarray/core/concat.py\u001b[0m in \u001b[0;36mconcat\u001b[0;34m(objs, dim, data_vars, coords, compat, positions, fill_value, join, combine_attrs)\u001b[0m\n\u001b[1;32m    141\u001b[0m         )\n\u001b[1;32m    142\u001b[0m     return f(\n\u001b[0;32m--> 143\u001b[0;31m         \u001b[0mobjs\u001b[0m\u001b[0;34m,\u001b[0m \u001b[0mdim\u001b[0m\u001b[0;34m,\u001b[0m \u001b[0mdata_vars\u001b[0m\u001b[0;34m,\u001b[0m \u001b[0mcoords\u001b[0m\u001b[0;34m,\u001b[0m \u001b[0mcompat\u001b[0m\u001b[0;34m,\u001b[0m \u001b[0mpositions\u001b[0m\u001b[0;34m,\u001b[0m \u001b[0mfill_value\u001b[0m\u001b[0;34m,\u001b[0m \u001b[0mjoin\u001b[0m\u001b[0;34m,\u001b[0m \u001b[0mcombine_attrs\u001b[0m\u001b[0;34m\u001b[0m\u001b[0;34m\u001b[0m\u001b[0m\n\u001b[0m\u001b[1;32m    144\u001b[0m     )\n\u001b[1;32m    145\u001b[0m \u001b[0;34m\u001b[0m\u001b[0m\n",
      "\u001b[0;32m/opt/conda/envs/cubeenv/lib/python3.6/site-packages/xarray/core/concat.py\u001b[0m in \u001b[0;36m_dataset_concat\u001b[0;34m(datasets, dim, data_vars, coords, compat, positions, fill_value, join, combine_attrs)\u001b[0m\n\u001b[1;32m    403\u001b[0m                 \u001b[0mvars\u001b[0m \u001b[0;34m=\u001b[0m \u001b[0mensure_common_dims\u001b[0m\u001b[0;34m(\u001b[0m\u001b[0;34m[\u001b[0m\u001b[0mds\u001b[0m\u001b[0;34m.\u001b[0m\u001b[0mvariables\u001b[0m\u001b[0;34m[\u001b[0m\u001b[0mk\u001b[0m\u001b[0;34m]\u001b[0m \u001b[0;32mfor\u001b[0m \u001b[0mds\u001b[0m \u001b[0;32min\u001b[0m \u001b[0mdatasets\u001b[0m\u001b[0;34m]\u001b[0m\u001b[0;34m)\u001b[0m\u001b[0;34m\u001b[0m\u001b[0;34m\u001b[0m\u001b[0m\n\u001b[1;32m    404\u001b[0m             \u001b[0;32mexcept\u001b[0m \u001b[0mKeyError\u001b[0m\u001b[0;34m:\u001b[0m\u001b[0;34m\u001b[0m\u001b[0;34m\u001b[0m\u001b[0m\n\u001b[0;32m--> 405\u001b[0;31m                 \u001b[0;32mraise\u001b[0m \u001b[0mValueError\u001b[0m\u001b[0;34m(\u001b[0m\u001b[0;34m\"%r is not present in all datasets.\"\u001b[0m \u001b[0;34m%\u001b[0m \u001b[0mk\u001b[0m\u001b[0;34m)\u001b[0m\u001b[0;34m\u001b[0m\u001b[0;34m\u001b[0m\u001b[0m\n\u001b[0m\u001b[1;32m    406\u001b[0m             \u001b[0mcombined\u001b[0m \u001b[0;34m=\u001b[0m \u001b[0mconcat_vars\u001b[0m\u001b[0;34m(\u001b[0m\u001b[0mvars\u001b[0m\u001b[0;34m,\u001b[0m \u001b[0mdim\u001b[0m\u001b[0;34m,\u001b[0m \u001b[0mpositions\u001b[0m\u001b[0;34m)\u001b[0m\u001b[0;34m\u001b[0m\u001b[0;34m\u001b[0m\u001b[0m\n\u001b[1;32m    407\u001b[0m             \u001b[0;32massert\u001b[0m \u001b[0misinstance\u001b[0m\u001b[0;34m(\u001b[0m\u001b[0mcombined\u001b[0m\u001b[0;34m,\u001b[0m \u001b[0mVariable\u001b[0m\u001b[0;34m)\u001b[0m\u001b[0;34m\u001b[0m\u001b[0;34m\u001b[0m\u001b[0m\n",
      "\u001b[0;31mValueError\u001b[0m: 'waterprob_ml' is not present in all datasets."
     ]
    }
   ],
   "source": [
    "waterclass_baseline = loadWaterMask(baseline_water_product, baseline_time_period)\n",
    "wc_baseline = xr.concat(waterclass_baseline, dim='time').sortby('time')\n",
    "wc_baseline.nbytes/1000000000, wc_baseline"
   ]
  },
  {
   "cell_type": "code",
   "execution_count": null,
   "metadata": {},
   "outputs": [],
   "source": [
    "print(wc_baseline)"
   ]
  },
  {
   "cell_type": "code",
   "execution_count": null,
   "metadata": {},
   "outputs": [],
   "source": [
    "waterclass_analysis = loadWaterMask(analysis_water_product, analysis_time_period)\n",
    "wc_analysis = xr.concat(waterclass_analysis, dim='time').sortby('time')\n",
    "wc_analysis.nbytes/1000000000, wc_analysis"
   ]
  },
  {
   "cell_type": "markdown",
   "metadata": {},
   "source": [
    "## Create mosaic of water mask"
   ]
  },
  {
   "cell_type": "code",
   "execution_count": null,
   "metadata": {},
   "outputs": [],
   "source": [
    "wc_baseline_mean = wc_baseline.water_ml.mean(dim='time')\n",
    "wc_baseline_mean "
   ]
  },
  {
   "cell_type": "code",
   "execution_count": null,
   "metadata": {},
   "outputs": [],
   "source": [
    "wc_analysis_mean = wc_analysis.water_ml.mean(dim='time')\n",
    "wc_analysis_mean"
   ]
  },
  {
   "cell_type": "code",
   "execution_count": null,
   "metadata": {},
   "outputs": [],
   "source": [
    "#fig, ax = plt.subplots(figsize=(50,50))\n",
    "#ax.imshow(wc_baseline_mean)"
   ]
  },
  {
   "cell_type": "code",
   "execution_count": 21,
   "metadata": {},
   "outputs": [],
   "source": [
    "#fig, ax = plt.subplots(figsize=(50,50))\n",
    "#ax.imshow(wc_analysis_mean)"
   ]
  },
  {
   "cell_type": "code",
   "execution_count": 140,
   "metadata": {},
   "outputs": [],
   "source": [
    "#water_pc = (landsat_resampled_prob*100).where((landsat_resampled_prob == False),-9999) # assign nodata vals consistent w/ other prods"
   ]
  },
  {
   "cell_type": "markdown",
   "metadata": {},
   "source": [
    "### Make difference range product"
   ]
  },
  {
   "cell_type": "code",
   "execution_count": 141,
   "metadata": {
    "tags": []
   },
   "outputs": [],
   "source": [
    "###This is the second output we want.\n",
    "difference_range = (wc_analysis_mean - wc_baseline_mean)"
   ]
  },
  {
   "cell_type": "code",
   "execution_count": null,
   "metadata": {},
   "outputs": [],
   "source": [
    "# jupyteronly\n",
    "difference_range = difference_range.compute()\n",
    "plt.figure(figsize = (8,8))\n",
    "difference_range.plot(vmin=-1, vmax=1, cmap=RdYlGn)"
   ]
  },
  {
   "cell_type": "markdown",
   "metadata": {},
   "source": [
    "### Make threshold difference product"
   ]
  },
  {
   "cell_type": "code",
   "execution_count": null,
   "metadata": {},
   "outputs": [],
   "source": [
    "%%time\n",
    "T0_nd_water = np.isnan(wc_baseline_mean)\n",
    "wc_baseline_rc_int = wc_baseline_mean.where((wc_baseline_mean < waterThresh) | (T0_nd_water == True), 1) # fix > prob to water\n",
    "wc_baseline_rc = wc_baseline_rc_int.where((wc_baseline_rc_int >= waterThresh) | (T0_nd_water == True), 0) # fix < prob to no water"
   ]
  },
  {
   "cell_type": "code",
   "execution_count": null,
   "metadata": {},
   "outputs": [],
   "source": [
    "%%time\n",
    "T1_nd_water = np.isnan(wc_analysis_mean)\n",
    "wc_analysis_rc_int = wc_analysis_mean.where((wc_analysis_mean < waterThresh) | (T1_nd_water == True), 1) # fix > prob to water\n",
    "wc_analysis_rc = wc_analysis_rc_int.where((wc_analysis_rc_int >= waterThresh) | (T1_nd_water == True), 0) # fix < prob to no water"
   ]
  },
  {
   "cell_type": "code",
   "execution_count": null,
   "metadata": {},
   "outputs": [],
   "source": [
    "# jupyteronly\n",
    "# plotting\n",
    "# compute intermediary so we can plot it\n",
    "wc_baseline_rc_comp = wc_baseline_rc.compute()\n",
    "fig, ax = plt.subplots(figsize=(50,50))\n",
    "ax.imshow(wc_baseline_rc_comp)"
   ]
  },
  {
   "cell_type": "code",
   "execution_count": null,
   "metadata": {},
   "outputs": [],
   "source": [
    "# jupyteronly\n",
    "# compute intermediary so we can plot it\n",
    "wc_analysis_rc_comp = wc_analysis_rc.compute()\n",
    "fig, ax = plt.subplots(figsize=(50,50))\n",
    "ax.imshow(wc_analysis_rc_comp)"
   ]
  },
  {
   "cell_type": "code",
   "execution_count": null,
   "metadata": {},
   "outputs": [],
   "source": [
    "### difference is one of the outputs we want.\n",
    "difference = (wc_analysis_rc - wc_baseline_rc)"
   ]
  },
  {
   "cell_type": "code",
   "execution_count": null,
   "metadata": {},
   "outputs": [],
   "source": [
    "%%time\n",
    "difference_thresh = difference.compute()"
   ]
  },
  {
   "cell_type": "code",
   "execution_count": null,
   "metadata": {},
   "outputs": [],
   "source": [
    "# jupyteronly\n",
    "plt.figure(figsize = (8,8))\n",
    "difference_thresh.plot(vmin=-1, vmax=1, cmap=RdYlGn)"
   ]
  },
  {
   "cell_type": "markdown",
   "metadata": {},
   "source": [
    "### Export"
   ]
  },
  {
   "cell_type": "code",
   "execution_count": null,
   "metadata": {},
   "outputs": [],
   "source": [
    "#export range product as cog\n",
    "write_cog(geo_im=difference_range,\n",
    "          fname='WCRange.tif',\n",
    "          overwrite=True)"
   ]
  },
  {
   "cell_type": "code",
   "execution_count": null,
   "metadata": {},
   "outputs": [],
   "source": [
    "#export threshold product as cog\n",
    "write_cog(geo_im=difference_thresh,\n",
    "          fname='WCThres.tif',\n",
    "          overwrite=True)"
   ]
  },
  {
   "cell_type": "code",
   "execution_count": null,
   "metadata": {},
   "outputs": [],
   "source": [
    "#export as tifs\n",
    "#write_geotiff_from_xr('difference_range.tiff', difference_range, crs=output_projection, x_coord = 'x', y_coord = 'y')\n",
    "#write_geotiff_from_xr('difference_thresh.tiff', difference, crs=output_projection, x_coord = 'x', y_coord = 'y')"
   ]
  },
  {
   "cell_type": "code",
   "execution_count": null,
   "metadata": {},
   "outputs": [],
   "source": [
    "#naming exports for ESRI to pick up\n",
    "['WCRange.tif', 'WCThres.tif' ]"
   ]
  },
  {
   "cell_type": "markdown",
   "metadata": {},
   "source": [
    "---"
   ]
  }
 ],
 "metadata": {
  "kernelspec": {
   "display_name": "Python [conda env:cubeenv]",
   "language": "python",
   "name": "conda-env-cubeenv-py"
  },
  "language_info": {
   "codemirror_mode": {
    "name": "ipython",
    "version": 3
   },
   "file_extension": ".py",
   "mimetype": "text/x-python",
   "name": "python",
   "nbconvert_exporter": "python",
   "pygments_lexer": "ipython3",
   "version": "3.6.10"
  }
 },
 "nbformat": 4,
 "nbformat_minor": 4
}
