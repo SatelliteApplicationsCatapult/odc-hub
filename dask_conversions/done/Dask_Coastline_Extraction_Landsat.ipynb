{
 "cells": [
  {
   "cell_type": "code",
   "execution_count": 1,
   "metadata": {},
   "outputs": [],
   "source": [
    "# Magic + imports likely common across all notebooks\n",
    "%load_ext autoreload\n",
    "%autoreload 2\n",
    "%matplotlib inline\n",
    "# Supress Warning \n",
    "import warnings\n",
    "warnings.filterwarnings('ignore')\n",
    "# Set reference for util modules\n",
    "import sys\n",
    "sys.path.append('/home/jovyan/odc-hub/')\n",
    "# Generic python\n",
    "import matplotlib.pyplot as plt\n",
    "import numpy as np\n",
    "import xarray as xr \n",
    "\n",
    "# Bonus vector manipulation\n",
    "import pandas as pd\n",
    "import geopandas as gpd\n",
    "from shapely import wkt\n",
    "from datetime import datetime\n",
    "\n"
   ]
  },
  {
   "cell_type": "markdown",
   "metadata": {},
   "source": [
    "# Coastal Erosion Notebook\n",
    "\n",
    "## Summary\n",
    "This notebook takes advantage of a time series of Landsat-8 to produce an annual coastline product. \n",
    "\n",
    "## Overview\n",
    "This product is produced, by loading in Landsat-8 data on an annual basis. For each scene a wofs product is produced to identify pixels containing water, as well as cloud and shadows masked. (This step could be replaced in further iterations by using pre-loaded wofs products to increase the computatoinal efficiency). Each scene is matched with it's equivalent tidal height and filtered images within a certain tidal range. Summary annual products are then produced, then shorelines extracted. \n",
    "\n",
    "This notebook takes advantage of DASK."
   ]
  },
  {
   "cell_type": "markdown",
   "metadata": {},
   "source": [
    "## Install requirements"
   ]
  },
  {
   "cell_type": "code",
   "execution_count": 2,
   "metadata": {},
   "outputs": [
    {
     "name": "stdout",
     "output_type": "stream",
     "text": [
      "Requirement already satisfied: datacube_utilities from git+https://github.com/dtip/datacube-utilities.git#egg=datacube_utilities in /opt/conda/envs/cubeenv/lib/python3.6/site-packages (0.0.2)\n",
      "Requirement already satisfied: scikit-image==0.16.2 in /opt/conda/envs/cubeenv/lib/python3.6/site-packages (from datacube_utilities) (0.16.2)\n",
      "Requirement already satisfied: boto3==1.12.28 in /opt/conda/envs/cubeenv/lib/python3.6/site-packages (from datacube_utilities) (1.12.28)\n",
      "Requirement already satisfied: ipyleaflet==0.12.3 in /opt/conda/envs/cubeenv/lib/python3.6/site-packages (from datacube_utilities) (0.12.3)\n",
      "Requirement already satisfied: folium==0.10.1 in /opt/conda/envs/cubeenv/lib/python3.6/site-packages (from datacube_utilities) (0.10.1)\n",
      "Requirement already satisfied: toolz==0.10.0 in /opt/conda/envs/cubeenv/lib/python3.6/site-packages (from datacube_utilities) (0.10.0)\n",
      "Requirement already satisfied: lz4==3.0.2 in /opt/conda/envs/cubeenv/lib/python3.6/site-packages (from datacube_utilities) (3.0.2)\n",
      "Requirement already satisfied: lcmap-pyccd==2017.08.18 in /opt/conda/envs/cubeenv/lib/python3.6/site-packages (from datacube_utilities) (2017.8.18)\n",
      "Requirement already satisfied: cloudpickle==1.3.0 in /opt/conda/envs/cubeenv/lib/python3.6/site-packages (from datacube_utilities) (1.3.0)\n",
      "Requirement already satisfied: distributed==2.12.0 in /opt/conda/envs/cubeenv/lib/python3.6/site-packages (from datacube_utilities) (2.12.0)\n",
      "Requirement already satisfied: geopandas==0.7.0 in /opt/conda/envs/cubeenv/lib/python3.6/site-packages (from datacube_utilities) (0.7.0)\n",
      "Requirement already satisfied: rasterstats==0.14.0 in /opt/conda/envs/cubeenv/lib/python3.6/site-packages (from datacube_utilities) (0.14.0)\n",
      "Requirement already satisfied: matplotlib==3.2.1 in /opt/conda/envs/cubeenv/lib/python3.6/site-packages (from datacube_utilities) (3.2.1)\n",
      "Requirement already satisfied: numpy==1.18.1 in /opt/conda/envs/cubeenv/lib/python3.6/site-packages (from datacube_utilities) (1.18.1)\n",
      "Requirement already satisfied: msgpack==1.0.0 in /opt/conda/envs/cubeenv/lib/python3.6/site-packages (from datacube_utilities) (1.0.0)\n",
      "Requirement already satisfied: xarray==0.15.0 in /opt/conda/envs/cubeenv/lib/python3.6/site-packages (from datacube_utilities) (0.15.0)\n",
      "Requirement already satisfied: scikit-learn==0.22.2 in /opt/conda/envs/cubeenv/lib/python3.6/site-packages (from datacube_utilities) (0.22.2)\n",
      "Requirement already satisfied: dask==2.12.0 in /opt/conda/envs/cubeenv/lib/python3.6/site-packages (from datacube_utilities) (2.12.0)\n",
      "Requirement already satisfied: ruamel.yaml==0.16.6 in /opt/conda/envs/cubeenv/lib/python3.6/site-packages (from datacube_utilities) (0.16.6)\n",
      "Requirement already satisfied: scipy==1.4.1 in /opt/conda/envs/cubeenv/lib/python3.6/site-packages (from datacube_utilities) (1.4.1)\n",
      "Requirement already satisfied: descartes==1.1.0 in /opt/conda/envs/cubeenv/lib/python3.6/site-packages (from datacube_utilities) (1.1.0)\n",
      "Requirement already satisfied: datacube==1.7 in /opt/conda/envs/cubeenv/lib/python3.6/site-packages (from datacube_utilities) (1.7)\n",
      "Requirement already satisfied: hdmedians==0.13 in /opt/conda/envs/cubeenv/lib/python3.6/site-packages (from datacube_utilities) (0.13)\n",
      "Requirement already satisfied: seaborn==0.10.0 in /opt/conda/envs/cubeenv/lib/python3.6/site-packages (from datacube_utilities) (0.10.0)\n",
      "Requirement already satisfied: shapely==1.7.0 in /opt/conda/envs/cubeenv/lib/python3.6/site-packages (from datacube_utilities) (1.7.0)\n",
      "Requirement already satisfied: tornado==6.0.4 in /opt/conda/envs/cubeenv/lib/python3.6/site-packages (from datacube_utilities) (6.0.4)\n",
      "Requirement already satisfied: blosc==1.8.3 in /opt/conda/envs/cubeenv/lib/python3.6/site-packages (from datacube_utilities) (1.8.3)\n",
      "Requirement already satisfied: imageio>=2.3.0 in /opt/conda/envs/cubeenv/lib/python3.6/site-packages (from scikit-image==0.16.2->datacube_utilities) (2.5.0)\n",
      "Requirement already satisfied: pillow>=4.3.0 in /opt/conda/envs/cubeenv/lib/python3.6/site-packages (from scikit-image==0.16.2->datacube_utilities) (6.0.0)\n",
      "Requirement already satisfied: PyWavelets>=0.4.0 in /opt/conda/envs/cubeenv/lib/python3.6/site-packages (from scikit-image==0.16.2->datacube_utilities) (1.0.3)\n",
      "Requirement already satisfied: networkx>=2.0 in /opt/conda/envs/cubeenv/lib/python3.6/site-packages (from scikit-image==0.16.2->datacube_utilities) (2.3)\n",
      "Requirement already satisfied: jmespath<1.0.0,>=0.7.1 in /opt/conda/envs/cubeenv/lib/python3.6/site-packages (from boto3==1.12.28->datacube_utilities) (0.9.4)\n",
      "Requirement already satisfied: s3transfer<0.4.0,>=0.3.0 in /opt/conda/envs/cubeenv/lib/python3.6/site-packages (from boto3==1.12.28->datacube_utilities) (0.3.3)\n",
      "Requirement already satisfied: botocore<1.16.0,>=1.15.28 in /opt/conda/envs/cubeenv/lib/python3.6/site-packages (from boto3==1.12.28->datacube_utilities) (1.15.35)\n",
      "Requirement already satisfied: traittypes<3,>=0.2.1 in /opt/conda/envs/cubeenv/lib/python3.6/site-packages (from ipyleaflet==0.12.3->datacube_utilities) (0.2.1)\n",
      "Requirement already satisfied: ipywidgets<8,>=7.5.0 in /opt/conda/envs/cubeenv/lib/python3.6/site-packages (from ipyleaflet==0.12.3->datacube_utilities) (7.5.1)\n",
      "Requirement already satisfied: branca<0.4,>=0.3.1 in /opt/conda/envs/cubeenv/lib/python3.6/site-packages (from ipyleaflet==0.12.3->datacube_utilities) (0.3.1)\n",
      "Requirement already satisfied: requests in /opt/conda/envs/cubeenv/lib/python3.6/site-packages (from folium==0.10.1->datacube_utilities) (2.22.0)\n",
      "Requirement already satisfied: jinja2>=2.9 in /opt/conda/envs/cubeenv/lib/python3.6/site-packages (from folium==0.10.1->datacube_utilities) (2.10.1)\n",
      "Requirement already satisfied: click-plugins>=1.0.3 in /opt/conda/envs/cubeenv/lib/python3.6/site-packages (from lcmap-pyccd==2017.08.18->datacube_utilities) (1.1.1)\n",
      "Requirement already satisfied: click>=6.6 in /opt/conda/envs/cubeenv/lib/python3.6/site-packages (from lcmap-pyccd==2017.08.18->datacube_utilities) (7.0)\n",
      "Requirement already satisfied: cachetools>=2.0.0 in /opt/conda/envs/cubeenv/lib/python3.6/site-packages (from lcmap-pyccd==2017.08.18->datacube_utilities) (3.1.1)\n",
      "Requirement already satisfied: PyYAML>=3.12 in /opt/conda/envs/cubeenv/lib/python3.6/site-packages (from lcmap-pyccd==2017.08.18->datacube_utilities) (5.1)\n",
      "Requirement already satisfied: psutil>=5.0 in /opt/conda/envs/cubeenv/lib/python3.6/site-packages (from distributed==2.12.0->datacube_utilities) (5.6.3)\n",
      "Requirement already satisfied: sortedcontainers!=2.0.0,!=2.0.1 in /opt/conda/envs/cubeenv/lib/python3.6/site-packages (from distributed==2.12.0->datacube_utilities) (2.1.0)\n",
      "Requirement already satisfied: tblib>=1.6.0 in /opt/conda/envs/cubeenv/lib/python3.6/site-packages (from distributed==2.12.0->datacube_utilities) (1.6.0)\n",
      "Requirement already satisfied: setuptools in /opt/conda/envs/cubeenv/lib/python3.6/site-packages (from distributed==2.12.0->datacube_utilities) (41.0.1)\n",
      "Requirement already satisfied: zict>=0.1.3 in /opt/conda/envs/cubeenv/lib/python3.6/site-packages (from distributed==2.12.0->datacube_utilities) (1.0.0)\n",
      "Requirement already satisfied: pyproj>=2.2.0 in /opt/conda/envs/cubeenv/lib/python3.6/site-packages (from geopandas==0.7.0->datacube_utilities) (2.2.1)\n",
      "Requirement already satisfied: fiona in /opt/conda/envs/cubeenv/lib/python3.6/site-packages (from geopandas==0.7.0->datacube_utilities) (1.8.6)\n",
      "Requirement already satisfied: pandas>=0.23.0 in /opt/conda/envs/cubeenv/lib/python3.6/site-packages (from geopandas==0.7.0->datacube_utilities) (1.0.3)\n",
      "Requirement already satisfied: rasterio>=1.0 in /opt/conda/envs/cubeenv/lib/python3.6/site-packages (from rasterstats==0.14.0->datacube_utilities) (1.0.22)\n",
      "Requirement already satisfied: simplejson in /opt/conda/envs/cubeenv/lib/python3.6/site-packages (from rasterstats==0.14.0->datacube_utilities) (3.16.1)\n",
      "Requirement already satisfied: cligj>=0.4 in /opt/conda/envs/cubeenv/lib/python3.6/site-packages (from rasterstats==0.14.0->datacube_utilities) (0.5.0)\n",
      "Requirement already satisfied: affine<3.0 in /opt/conda/envs/cubeenv/lib/python3.6/site-packages (from rasterstats==0.14.0->datacube_utilities) (2.2.2)\n",
      "Requirement already satisfied: cycler>=0.10 in /opt/conda/envs/cubeenv/lib/python3.6/site-packages (from matplotlib==3.2.1->datacube_utilities) (0.10.0)\n",
      "Requirement already satisfied: python-dateutil>=2.1 in /opt/conda/envs/cubeenv/lib/python3.6/site-packages (from matplotlib==3.2.1->datacube_utilities) (2.8.0)\n",
      "Requirement already satisfied: pyparsing!=2.0.4,!=2.1.2,!=2.1.6,>=2.0.1 in /opt/conda/envs/cubeenv/lib/python3.6/site-packages (from matplotlib==3.2.1->datacube_utilities) (2.4.0)\n",
      "Requirement already satisfied: kiwisolver>=1.0.1 in /opt/conda/envs/cubeenv/lib/python3.6/site-packages (from matplotlib==3.2.1->datacube_utilities) (1.1.0)\n",
      "Requirement already satisfied: joblib>=0.11 in /opt/conda/envs/cubeenv/lib/python3.6/site-packages (from scikit-learn==0.22.2->datacube_utilities) (0.13.2)\n",
      "Requirement already satisfied: ruamel.yaml.clib>=0.1.2; platform_python_implementation == \"CPython\" and python_version < \"3.8\" in /opt/conda/envs/cubeenv/lib/python3.6/site-packages (from ruamel.yaml==0.16.6->datacube_utilities) (0.2.0)\n",
      "Requirement already satisfied: gdal>=1.9 in /opt/conda/envs/cubeenv/lib/python3.6/site-packages (from datacube==1.7->datacube_utilities) (2.4.1)\n",
      "Requirement already satisfied: sqlalchemy in /opt/conda/envs/cubeenv/lib/python3.6/site-packages (from datacube==1.7->datacube_utilities) (1.3.5)\n",
      "Requirement already satisfied: pypeg2 in /opt/conda/envs/cubeenv/lib/python3.6/site-packages (from datacube==1.7->datacube_utilities) (2.15.2)\n",
      "Requirement already satisfied: lark-parser>=0.6.7 in /opt/conda/envs/cubeenv/lib/python3.6/site-packages (from datacube==1.7->datacube_utilities) (0.8.2)\n",
      "Requirement already satisfied: netcdf4 in /opt/conda/envs/cubeenv/lib/python3.6/site-packages (from datacube==1.7->datacube_utilities) (1.5.1.2)\n",
      "Requirement already satisfied: psycopg2 in /opt/conda/envs/cubeenv/lib/python3.6/site-packages (from datacube==1.7->datacube_utilities) (2.8.3)\n",
      "Requirement already satisfied: jsonschema in /opt/conda/envs/cubeenv/lib/python3.6/site-packages (from datacube==1.7->datacube_utilities) (3.0.1)\n",
      "Requirement already satisfied: singledispatch in /opt/conda/envs/cubeenv/lib/python3.6/site-packages (from datacube==1.7->datacube_utilities) (3.4.0.3)\n",
      "Requirement already satisfied: Cython>=0.23 in /opt/conda/envs/cubeenv/lib/python3.6/site-packages (from hdmedians==0.13->datacube_utilities) (0.29.15)\n",
      "Requirement already satisfied: decorator>=4.3.0 in /opt/conda/envs/cubeenv/lib/python3.6/site-packages (from networkx>=2.0->scikit-image==0.16.2->datacube_utilities) (4.4.0)\n",
      "Requirement already satisfied: urllib3<1.26,>=1.20; python_version != \"3.4\" in /opt/conda/envs/cubeenv/lib/python3.6/site-packages (from botocore<1.16.0,>=1.15.28->boto3==1.12.28->datacube_utilities) (1.24.3)\n",
      "Requirement already satisfied: docutils<0.16,>=0.10 in /opt/conda/envs/cubeenv/lib/python3.6/site-packages (from botocore<1.16.0,>=1.15.28->boto3==1.12.28->datacube_utilities) (0.14)\n",
      "Requirement already satisfied: traitlets>=4.2.2 in /opt/conda/envs/cubeenv/lib/python3.6/site-packages (from traittypes<3,>=0.2.1->ipyleaflet==0.12.3->datacube_utilities) (4.3.2)\n",
      "Requirement already satisfied: ipykernel>=4.5.1 in /opt/conda/envs/cubeenv/lib/python3.6/site-packages (from ipywidgets<8,>=7.5.0->ipyleaflet==0.12.3->datacube_utilities) (5.1.1)\n",
      "Requirement already satisfied: nbformat>=4.2.0 in /opt/conda/envs/cubeenv/lib/python3.6/site-packages (from ipywidgets<8,>=7.5.0->ipyleaflet==0.12.3->datacube_utilities) (4.4.0)\n",
      "Requirement already satisfied: widgetsnbextension~=3.5.0 in /opt/conda/envs/cubeenv/lib/python3.6/site-packages (from ipywidgets<8,>=7.5.0->ipyleaflet==0.12.3->datacube_utilities) (3.5.1)\n",
      "Requirement already satisfied: ipython>=4.0.0; python_version >= \"3.3\" in /opt/conda/envs/cubeenv/lib/python3.6/site-packages (from ipywidgets<8,>=7.5.0->ipyleaflet==0.12.3->datacube_utilities) (7.5.0)\n",
      "Requirement already satisfied: six in /opt/conda/envs/cubeenv/lib/python3.6/site-packages (from branca<0.4,>=0.3.1->ipyleaflet==0.12.3->datacube_utilities) (1.12.0)\n",
      "Requirement already satisfied: chardet<3.1.0,>=3.0.2 in /opt/conda/envs/cubeenv/lib/python3.6/site-packages (from requests->folium==0.10.1->datacube_utilities) (3.0.4)\n",
      "Requirement already satisfied: certifi>=2017.4.17 in /opt/conda/envs/cubeenv/lib/python3.6/site-packages (from requests->folium==0.10.1->datacube_utilities) (2019.11.28)\n",
      "Requirement already satisfied: idna<2.9,>=2.5 in /opt/conda/envs/cubeenv/lib/python3.6/site-packages (from requests->folium==0.10.1->datacube_utilities) (2.8)\n",
      "Requirement already satisfied: MarkupSafe>=0.23 in /opt/conda/envs/cubeenv/lib/python3.6/site-packages (from jinja2>=2.9->folium==0.10.1->datacube_utilities) (1.1.1)\n",
      "Requirement already satisfied: heapdict in /opt/conda/envs/cubeenv/lib/python3.6/site-packages (from zict>=0.1.3->distributed==2.12.0->datacube_utilities) (1.0.0)\n",
      "Requirement already satisfied: attrs>=17 in /opt/conda/envs/cubeenv/lib/python3.6/site-packages (from fiona->geopandas==0.7.0->datacube_utilities) (19.1.0)\n",
      "Requirement already satisfied: munch in /opt/conda/envs/cubeenv/lib/python3.6/site-packages (from fiona->geopandas==0.7.0->datacube_utilities) (2.3.2)\n",
      "Requirement already satisfied: pytz>=2017.2 in /opt/conda/envs/cubeenv/lib/python3.6/site-packages (from pandas>=0.23.0->geopandas==0.7.0->datacube_utilities) (2019.1)\n",
      "Requirement already satisfied: snuggs>=1.4.1 in /opt/conda/envs/cubeenv/lib/python3.6/site-packages (from rasterio>=1.0->rasterstats==0.14.0->datacube_utilities) (1.4.6)\n",
      "Requirement already satisfied: cftime in /opt/conda/envs/cubeenv/lib/python3.6/site-packages (from netcdf4->datacube==1.7->datacube_utilities) (1.0.3.4)\n",
      "Requirement already satisfied: pyrsistent>=0.14.0 in /opt/conda/envs/cubeenv/lib/python3.6/site-packages (from jsonschema->datacube==1.7->datacube_utilities) (0.15.2)\n",
      "Requirement already satisfied: ipython_genutils in /opt/conda/envs/cubeenv/lib/python3.6/site-packages (from traitlets>=4.2.2->traittypes<3,>=0.2.1->ipyleaflet==0.12.3->datacube_utilities) (0.2.0)\n",
      "Requirement already satisfied: jupyter-client in /opt/conda/envs/cubeenv/lib/python3.6/site-packages (from ipykernel>=4.5.1->ipywidgets<8,>=7.5.0->ipyleaflet==0.12.3->datacube_utilities) (5.2.4)\n",
      "Requirement already satisfied: jupyter_core in /opt/conda/envs/cubeenv/lib/python3.6/site-packages (from nbformat>=4.2.0->ipywidgets<8,>=7.5.0->ipyleaflet==0.12.3->datacube_utilities) (4.4.0)\n",
      "Requirement already satisfied: notebook>=4.4.1 in /opt/conda/envs/cubeenv/lib/python3.6/site-packages (from widgetsnbextension~=3.5.0->ipywidgets<8,>=7.5.0->ipyleaflet==0.12.3->datacube_utilities) (5.7.8)\n",
      "Requirement already satisfied: pexpect; sys_platform != \"win32\" in /opt/conda/envs/cubeenv/lib/python3.6/site-packages (from ipython>=4.0.0; python_version >= \"3.3\"->ipywidgets<8,>=7.5.0->ipyleaflet==0.12.3->datacube_utilities) (4.7.0)\n",
      "Requirement already satisfied: jedi>=0.10 in /opt/conda/envs/cubeenv/lib/python3.6/site-packages (from ipython>=4.0.0; python_version >= \"3.3\"->ipywidgets<8,>=7.5.0->ipyleaflet==0.12.3->datacube_utilities) (0.14.0)\n",
      "Requirement already satisfied: pickleshare in /opt/conda/envs/cubeenv/lib/python3.6/site-packages (from ipython>=4.0.0; python_version >= \"3.3\"->ipywidgets<8,>=7.5.0->ipyleaflet==0.12.3->datacube_utilities) (0.7.5)\n",
      "Requirement already satisfied: prompt-toolkit<2.1.0,>=2.0.0 in /opt/conda/envs/cubeenv/lib/python3.6/site-packages (from ipython>=4.0.0; python_version >= \"3.3\"->ipywidgets<8,>=7.5.0->ipyleaflet==0.12.3->datacube_utilities) (2.0.9)\n",
      "Requirement already satisfied: backcall in /opt/conda/envs/cubeenv/lib/python3.6/site-packages (from ipython>=4.0.0; python_version >= \"3.3\"->ipywidgets<8,>=7.5.0->ipyleaflet==0.12.3->datacube_utilities) (0.1.0)\n",
      "Requirement already satisfied: pygments in /opt/conda/envs/cubeenv/lib/python3.6/site-packages (from ipython>=4.0.0; python_version >= \"3.3\"->ipywidgets<8,>=7.5.0->ipyleaflet==0.12.3->datacube_utilities) (2.4.2)\n",
      "Requirement already satisfied: pyzmq>=13 in /opt/conda/envs/cubeenv/lib/python3.6/site-packages (from jupyter-client->ipykernel>=4.5.1->ipywidgets<8,>=7.5.0->ipyleaflet==0.12.3->datacube_utilities) (18.0.2)\n",
      "Requirement already satisfied: prometheus-client in /opt/conda/envs/cubeenv/lib/python3.6/site-packages (from notebook>=4.4.1->widgetsnbextension~=3.5.0->ipywidgets<8,>=7.5.0->ipyleaflet==0.12.3->datacube_utilities) (0.7.1)\n",
      "Requirement already satisfied: Send2Trash in /opt/conda/envs/cubeenv/lib/python3.6/site-packages (from notebook>=4.4.1->widgetsnbextension~=3.5.0->ipywidgets<8,>=7.5.0->ipyleaflet==0.12.3->datacube_utilities) (1.5.0)\n",
      "Requirement already satisfied: terminado>=0.8.1 in /opt/conda/envs/cubeenv/lib/python3.6/site-packages (from notebook>=4.4.1->widgetsnbextension~=3.5.0->ipywidgets<8,>=7.5.0->ipyleaflet==0.12.3->datacube_utilities) (0.8.2)\n",
      "Requirement already satisfied: nbconvert in /opt/conda/envs/cubeenv/lib/python3.6/site-packages (from notebook>=4.4.1->widgetsnbextension~=3.5.0->ipywidgets<8,>=7.5.0->ipyleaflet==0.12.3->datacube_utilities) (5.5.0)\n",
      "Requirement already satisfied: ptyprocess>=0.5 in /opt/conda/envs/cubeenv/lib/python3.6/site-packages (from pexpect; sys_platform != \"win32\"->ipython>=4.0.0; python_version >= \"3.3\"->ipywidgets<8,>=7.5.0->ipyleaflet==0.12.3->datacube_utilities) (0.6.0)\n",
      "Requirement already satisfied: parso>=0.3.0 in /opt/conda/envs/cubeenv/lib/python3.6/site-packages (from jedi>=0.10->ipython>=4.0.0; python_version >= \"3.3\"->ipywidgets<8,>=7.5.0->ipyleaflet==0.12.3->datacube_utilities) (0.5.0)\n",
      "Requirement already satisfied: wcwidth in /opt/conda/envs/cubeenv/lib/python3.6/site-packages (from prompt-toolkit<2.1.0,>=2.0.0->ipython>=4.0.0; python_version >= \"3.3\"->ipywidgets<8,>=7.5.0->ipyleaflet==0.12.3->datacube_utilities) (0.1.7)\n",
      "Requirement already satisfied: mistune>=0.8.1 in /opt/conda/envs/cubeenv/lib/python3.6/site-packages (from nbconvert->notebook>=4.4.1->widgetsnbextension~=3.5.0->ipywidgets<8,>=7.5.0->ipyleaflet==0.12.3->datacube_utilities) (0.8.4)\n",
      "Requirement already satisfied: pandocfilters>=1.4.1 in /opt/conda/envs/cubeenv/lib/python3.6/site-packages (from nbconvert->notebook>=4.4.1->widgetsnbextension~=3.5.0->ipywidgets<8,>=7.5.0->ipyleaflet==0.12.3->datacube_utilities) (1.4.2)\n",
      "Requirement already satisfied: defusedxml in /opt/conda/envs/cubeenv/lib/python3.6/site-packages (from nbconvert->notebook>=4.4.1->widgetsnbextension~=3.5.0->ipywidgets<8,>=7.5.0->ipyleaflet==0.12.3->datacube_utilities) (0.5.0)\n",
      "Requirement already satisfied: bleach in /opt/conda/envs/cubeenv/lib/python3.6/site-packages (from nbconvert->notebook>=4.4.1->widgetsnbextension~=3.5.0->ipywidgets<8,>=7.5.0->ipyleaflet==0.12.3->datacube_utilities) (3.1.0)\n",
      "Requirement already satisfied: testpath in /opt/conda/envs/cubeenv/lib/python3.6/site-packages (from nbconvert->notebook>=4.4.1->widgetsnbextension~=3.5.0->ipywidgets<8,>=7.5.0->ipyleaflet==0.12.3->datacube_utilities) (0.4.2)\n",
      "Requirement already satisfied: entrypoints>=0.2.2 in /opt/conda/envs/cubeenv/lib/python3.6/site-packages (from nbconvert->notebook>=4.4.1->widgetsnbextension~=3.5.0->ipywidgets<8,>=7.5.0->ipyleaflet==0.12.3->datacube_utilities) (0.3)\n",
      "Requirement already satisfied: webencodings in /opt/conda/envs/cubeenv/lib/python3.6/site-packages (from bleach->nbconvert->notebook>=4.4.1->widgetsnbextension~=3.5.0->ipywidgets<8,>=7.5.0->ipyleaflet==0.12.3->datacube_utilities) (0.5.1)\n"
     ]
    }
   ],
   "source": [
    "# The dtip fork of datacude_utilities includes some updated requirements which we need for the notebook to run on the updated dask cluster\n",
    "!pip install git+https://github.com/dtip/datacube-utilities.git#egg=datacube_utilities\n",
    "#!pip install git+https://github.com/SatelliteApplicationsCatapult/datacube-utilities.git#egg=datacube_utilities"
   ]
  },
  {
   "cell_type": "markdown",
   "metadata": {},
   "source": [
    "## Import Required DC utils"
   ]
  },
  {
   "cell_type": "code",
   "execution_count": 3,
   "metadata": {},
   "outputs": [],
   "source": [
    "# import required datacube modules\n",
    "from datacube_utilities.interactive_maps import display_map\n",
    "from datacube_utilities.clean_mask import landsat_qa_clean_mask\n",
    "import datacube_utilities.waterline_functions_deaafrica as waterline_funcs\n",
    "from datacube_utilities.dc_water_classifier import wofs_classify\n",
    "from datacube_utilities.createAOI import create_lat_lon\n",
    "import glob\n",
    "import datacube\n",
    "\n",
    "dc = datacube.Datacube(app='wofs dask')"
   ]
  },
  {
   "cell_type": "code",
   "execution_count": 4,
   "metadata": {},
   "outputs": [
    {
     "data": {
      "text/html": [
       "<table style=\"border: 2px solid white;\">\n",
       "<tr>\n",
       "<td style=\"vertical-align: top; border: 0px solid white\">\n",
       "<h3 style=\"text-align: left;\">Client</h3>\n",
       "<ul style=\"text-align: left; list-style: none; margin: 0; padding: 0;\">\n",
       "  <li><b>Scheduler: </b>tcp://dask-scheduler.dask.svc.cluster.local:8786</li>\n",
       "  <li><b>Dashboard: </b><a href='http://dask-scheduler.dask.svc.cluster.local:8787/status' target='_blank'>http://dask-scheduler.dask.svc.cluster.local:8787/status</a>\n",
       "</ul>\n",
       "</td>\n",
       "<td style=\"vertical-align: top; border: 0px solid white\">\n",
       "<h3 style=\"text-align: left;\">Cluster</h3>\n",
       "<ul style=\"text-align: left; list-style:none; margin: 0; padding: 0;\">\n",
       "  <li><b>Workers: </b>3</li>\n",
       "  <li><b>Cores: </b>24</li>\n",
       "  <li><b>Memory: </b>101.19 GB</li>\n",
       "</ul>\n",
       "</td>\n",
       "</tr>\n",
       "</table>"
      ],
      "text/plain": [
       "<Client: 'tcp://10.244.1.165:8786' processes=3 threads=24, memory=101.19 GB>"
      ]
     },
     "execution_count": 4,
     "metadata": {},
     "output_type": "execute_result"
    }
   ],
   "source": [
    "import dask\n",
    "from dask.distributed import Client\n",
    "\n",
    "assert(xr.__version__ == \"0.15.0\")\n",
    "assert(dask.__version__ == \"2.12.0\")\n",
    "\n",
    "client = Client('dask-scheduler.dask.svc.cluster.local:8786')\n",
    "client.get_versions(check=True)\n",
    "client"
   ]
  },
  {
   "cell_type": "markdown",
   "metadata": {},
   "source": [
    "### Set Variables"
   ]
  },
  {
   "cell_type": "code",
   "execution_count": 5,
   "metadata": {},
   "outputs": [],
   "source": [
    "#aoi_wkt = \"POLYGON((178.12 -18.25,178.15 -18.25,178.15 -18.27,178.12 -18.27,178.12 -18.25))\"\n",
    "\n",
    "aoi_wkt = \"POLYGON((178.67520332337 -18.046588897702, 178.68601799012 -18.046588897702, 178.68610382081 -18.057231903073, 178.67537498475 -18.05740356445, 178.67520332337 -18.046588897702))\"\n",
    "#aoi_wkt = \"POLYGON((178.68713378906 -17.997493743896, 178.69846343994 -18.00624847412, 178.68301391601 -18.024959564208, 178.67288589477 -18.017063140868, 178.67305755615 -18.017063140868, 178.68713378906 -17.997493743896))\"\n",
    "\n",
    "time_range = (\"2000\", \"2019\")\n",
    "\n",
    "tide_range = (0.00, 1.5)\n",
    "\n",
    "time_step = '1Y'\n",
    "\n",
    "#output_projection = \"EPSG:32760\"\n",
    "output_projection = \"EPSG:3460\"\n",
    "crs = \"EPSG:3460\"\n",
    "\n",
    "res = (30)"
   ]
  },
  {
   "cell_type": "code",
   "execution_count": 6,
   "metadata": {},
   "outputs": [],
   "source": [
    "tide_files = glob.glob(\"/home/jovyan/odc-hub/tides/*.csv\")"
   ]
  },
  {
   "cell_type": "markdown",
   "metadata": {},
   "source": [
    "### Create AOI"
   ]
  },
  {
   "cell_type": "code",
   "execution_count": 7,
   "metadata": {},
   "outputs": [],
   "source": [
    "lat_extents, lon_extents = create_lat_lon(aoi_wkt)"
   ]
  },
  {
   "cell_type": "code",
   "execution_count": 8,
   "metadata": {},
   "outputs": [],
   "source": [
    "#waterline_funcs.display_map(latitude=lat_extents, longitude=lon_extents)"
   ]
  },
  {
   "cell_type": "code",
   "execution_count": 9,
   "metadata": {},
   "outputs": [],
   "source": [
    "from pyproj import Proj, transform\n",
    "inProj  = Proj(\"+init=EPSG:4326\")\n",
    "outProj = Proj(\"+init=EPSG:3460\")"
   ]
  },
  {
   "cell_type": "code",
   "execution_count": 10,
   "metadata": {},
   "outputs": [],
   "source": [
    "min_lat, max_lat = (lat_extents) \n",
    "min_lon, max_lon = (lon_extents)"
   ]
  },
  {
   "cell_type": "code",
   "execution_count": 11,
   "metadata": {},
   "outputs": [
    {
     "name": "stdout",
     "output_type": "stream",
     "text": [
      "CPU times: user 120 ms, sys: 27.9 ms, total: 148 ms\n",
      "Wall time: 147 ms\n"
     ]
    }
   ],
   "source": [
    "%%time\n",
    "x_A, y_A = transform(inProj, outProj, min_lon, min_lat)\n",
    "x_B, y_B = transform(inProj, outProj, max_lon, max_lat)"
   ]
  },
  {
   "cell_type": "code",
   "execution_count": 12,
   "metadata": {},
   "outputs": [],
   "source": [
    "lat_range = (y_A, y_B)\n",
    "lon_range = (x_A, x_B)"
   ]
  },
  {
   "cell_type": "code",
   "execution_count": 13,
   "metadata": {},
   "outputs": [],
   "source": [
    "#create resolution\n",
    "resolution = (-res, res)"
   ]
  },
  {
   "cell_type": "code",
   "execution_count": 14,
   "metadata": {},
   "outputs": [],
   "source": [
    "dask_chunks = dict(\n",
    "    time = 1,\n",
    "    x = 1000,\n",
    "    y = 1000\n",
    ")"
   ]
  },
  {
   "cell_type": "markdown",
   "metadata": {},
   "source": [
    "### Import Landsat-8 data"
   ]
  },
  {
   "cell_type": "code",
   "execution_count": 15,
   "metadata": {},
   "outputs": [],
   "source": [
    "# Create the 'query' dictionary object, which contains the longitudes, latitudes and time provided above\n",
    "query = {\n",
    "    'y': lat_range,\n",
    "    'x': lon_range,\n",
    "    'time': time_range,\n",
    "    'output_crs': output_projection,\n",
    "    'crs': crs,\n",
    "    'resolution': resolution,\n",
    "    'dask_chunks': dask_chunks\n",
    "}"
   ]
  },
  {
   "cell_type": "code",
   "execution_count": 16,
   "metadata": {},
   "outputs": [],
   "source": [
    "def load_ard(dc,\n",
    "             products=None,\n",
    "             min_gooddata=0.0,\n",
    "             fmask_gooddata=[1, 4, 5],\n",
    "             mask_pixel_quality=True,\n",
    "             mask_invalid_data=True,\n",
    "             mask_contiguity='nbart_contiguity',\n",
    "             mask_dtype=np.float32,\n",
    "             ls7_slc_off=True,\n",
    "             product_metadata=False,\n",
    "             **dcload_kwargs):\n",
    "    '''\n",
    "    Loads Landsat Collection 3 or Sentinel 2 Definitive and Near Real \n",
    "    Time data for multiple sensors (i.e. ls5t, ls7e and ls8c for \n",
    "    Landsat; s2a and s2b for Sentinel 2), and returns a single masked \n",
    "    xarray dataset containing only observations that contain greater \n",
    "    than a given proportion of good quality pixels. This can be used \n",
    "    to extract clean time series of observations that are not affected \n",
    "    by cloud, for example as an input to the `animated_timeseries` \n",
    "    function from `dea_plotting`.\n",
    "    \n",
    "    The proportion of good quality pixels is calculated by summing the \n",
    "    pixels flagged as good quality in `fmask`. By default non-cloudy or \n",
    "    shadowed land, snow and water pixels are treated as good quality, \n",
    "    but this can be customised using the `fmask_gooddata` parameter.\n",
    "    \n",
    "    Last modified: February 2020\n",
    "    \n",
    "    Parameters\n",
    "    ----------  \n",
    "    dc : datacube Datacube object\n",
    "        The Datacube to connect to, i.e. `dc = datacube.Datacube()`.\n",
    "        This allows you to also use development datacubes if required.    \n",
    "    products : list\n",
    "        A list of product names to load data from. Valid options are \n",
    "        ['ga_ls5t_ard_3', 'ga_ls7e_ard_3', 'ga_ls8c_ard_3'] for Landsat,\n",
    "        ['s2a_ard_granule', 's2b_ard_granule'] for Sentinel 2 Definitive, \n",
    "        and ['s2a_nrt_granule', 's2b_nrt_granule'] for Sentinel 2 Near \n",
    "        Real Time (on the DEA Sandbox only).\n",
    "    min_gooddata : float, optional\n",
    "        An optional float giving the minimum percentage of good quality \n",
    "        pixels required for a satellite observation to be loaded. \n",
    "        Defaults to 0.0 which will return all observations regardless of\n",
    "        pixel quality (set to e.g. 0.99 to return only observations with\n",
    "        more than 99% good quality pixels).\n",
    "    fmask_gooddata : list, optional\n",
    "        An optional list of fmask values to treat as good quality \n",
    "        observations in the above `min_gooddata` calculation. The \n",
    "        default is `[1, 4, 5]` which will return non-cloudy or shadowed \n",
    "        land, snow and water pixels. Choose from: \n",
    "        `{'0': 'nodata', '1': 'valid', '2': 'cloud', \n",
    "          '3': 'shadow', '4': 'snow', '5': 'water'}`.\n",
    "    mask_pixel_quality : bool, optional\n",
    "        An optional boolean indicating whether to apply the good data \n",
    "        mask to all observations that were not filtered out for having \n",
    "        less good quality pixels than `min_gooddata`. E.g. if \n",
    "        `min_gooddata=0.99`, the filtered observations may still contain \n",
    "        up to 1% poor quality pixels. The default of False simply \n",
    "        returns the resulting observations without masking out these \n",
    "        pixels; True masks them and sets them to NaN using the good data \n",
    "        mask. This will convert numeric values to floating point values \n",
    "        which can cause memory issues, set to False to prevent this.\n",
    "    mask_invalid_data : bool, optional\n",
    "        An optional boolean indicating whether invalid -999 nodata \n",
    "        values should be replaced with NaN. These invalid values can be\n",
    "        caused by missing data along the edges of scenes, or terrain \n",
    "        effects (for NBART). Be aware that masking out invalid values \n",
    "        will convert all numeric values to floating point values when \n",
    "        -999 values are replaced with NaN, which can cause memory issues.\n",
    "    mask_contiguity : str or bool, optional\n",
    "        An optional string or boolean indicating whether to mask out \n",
    "        pixels missing data in any band (i.e. \"non-contiguous\" values). \n",
    "        Although most missing data issues are resolved by \n",
    "        `mask_invalid_data`, this step is important for generating \n",
    "        clean and concistent composite datasets. The default\n",
    "        is `mask_contiguity='nbart_contiguity'` which will set any \n",
    "        pixels with non-contiguous values to NaN based on NBART data. \n",
    "        If you are loading NBAR data instead, you should specify\n",
    "        `mask_contiguity='nbar_contiguity'` instead. To ignore non-\n",
    "        contiguous values completely, set `mask_contiguity=False`.\n",
    "        Be aware that masking out non-contiguous values will convert \n",
    "        all numeric values to floating point values when -999 values \n",
    "        are replaced with NaN, which can cause memory issues.\n",
    "    mask_dtype : numpy dtype, optional\n",
    "        An optional parameter that controls the data type/dtype that\n",
    "        layers are coerced to when when `mask_pixel_quality=True` or \n",
    "        `mask_contiguity=True`. Defaults to `np.float32`, which uses\n",
    "        approximately 1/2 the memory of `np.float64`.\n",
    "    ls7_slc_off : bool, optional\n",
    "        An optional boolean indicating whether to include data from \n",
    "        after the Landsat 7 SLC failure (i.e. SLC-off). Defaults to \n",
    "        True, which keeps all Landsat 7 observations > May 31 2003. \n",
    "    product_metadata : bool, optional\n",
    "        An optional boolean indicating whether to return the dataset \n",
    "        with a `product` variable that gives the name of the product \n",
    "        that each observation in the time series came from (e.g. \n",
    "        'ga_ls5t_ard_3'). Defaults to False.\n",
    "    **dcload_kwargs : \n",
    "        A set of keyword arguments to `dc.load` that define the \n",
    "        spatiotemporal query used to extract data. This typically\n",
    "        includes `measurements`, `x`, `y`, `time`, `resolution`, \n",
    "        `resampling`, `group_by` and `crs`. Keyword arguments can \n",
    "        either be listed directly in the `load_ard` call like any \n",
    "        other parameter (e.g. `measurements=['nbart_red']`), or by \n",
    "        passing in a query kwarg dictionary (e.g. `**query`). For a \n",
    "        list of possible options, see the `dc.load` documentation: \n",
    "        https://datacube-core.readthedocs.io/en/latest/dev/api/generate/datacube.Datacube.load.html          \n",
    "        \n",
    "    Returns\n",
    "    -------\n",
    "    combined_ds : xarray Dataset\n",
    "        An xarray dataset containing only satellite observations that \n",
    "        contains greater than `min_gooddata` proportion of good quality \n",
    "        pixels.   \n",
    "        \n",
    "    '''\n",
    "    \n",
    "    # Due to possible bug in xarray 0.13.0, define temporary function \n",
    "    # which converts dtypes in a way that preserves attributes\n",
    "    def astype_attrs(da, dtype=np.float32):\n",
    "        '''\n",
    "        Loop through all data variables in the dataset, record \n",
    "        attributes, convert to a custom dtype, then reassign attributes. \n",
    "        If the data variable cannot be converted to the custom dtype \n",
    "        (e.g. trying to convert non-numeric dtype like strings to \n",
    "        floats), skip and return the variable unchanged.\n",
    "        \n",
    "        This can be combined with `.where()` to save memory. By casting \n",
    "        to e.g. np.float32, we prevent `.where()` from automatically \n",
    "        casting to np.float64, using 2x the memory. np.float16 could be \n",
    "        used to save even more memory (although this may not be \n",
    "        compatible with all downstream applications).\n",
    "        \n",
    "        This custom function is required instead of using xarray's \n",
    "        built-in `.astype()`, due to a bug in xarray 0.13.0 that drops\n",
    "        attributes: https://github.com/pydata/xarray/issues/3348\n",
    "        '''\n",
    "        \n",
    "        try:            \n",
    "            da_attr = da.attrs\n",
    "            da = da.astype(dtype)\n",
    "            da = da.assign_attrs(**da_attr)\n",
    "            return da\n",
    "        \n",
    "        except ValueError:        \n",
    "            return da         \n",
    "    dcload_kwargs = deepcopy(dcload_kwargs)  \n",
    "    \n",
    "    # Determine if lazy loading is required\n",
    "    lazy_load = 'dask_chunks' in dcload_kwargs\n",
    "    \n",
    "    # Warn user if they combine lazy load with min_gooddata\n",
    "    if (min_gooddata > 0.0) & lazy_load:\n",
    "                warnings.warn(\"Setting 'min_gooddata' percentage to > 0.0 \"\n",
    "                              \"will cause dask arrays to compute when \"\n",
    "                              \"loading pixel-quality data to calculate \"\n",
    "                              \"'good pixel' percentage. This can \"\n",
    "                              \"significantly slow the return of your dataset.\")\n",
    "    \n",
    "    # Verify that products were provided, and that only Sentinel-2 or \n",
    "    # only Landsat products are being loaded at the same time\n",
    "    if not products:\n",
    "        raise ValueError(\"Please provide a list of product names \"\n",
    "                         \"to load data from. Valid options are: \\n\"\n",
    "                         \"['ga_ls5t_ard_3', 'ga_ls7e_ard_3', 'ga_ls8c_ard_3'] \" \n",
    "                         \"for Landsat, ['s2a_ard_granule', \"\n",
    "                         \"'s2b_ard_granule'] \\nfor Sentinel 2 Definitive, or \"\n",
    "                         \"['s2a_nrt_granule', 's2b_nrt_granule'] for \"\n",
    "                         \"Sentinel 2 Near Real Time\")\n",
    "    elif all(['ls' in product for product in products]):\n",
    "        product_type = 'ls'\n",
    "    elif all(['s2' in product for product in products]):\n",
    "        product_type = 's2'\n",
    "    else:\n",
    "        raise ValueError(\"Loading both Sentinel-2 and Landsat data \"\n",
    "                         \"at the same time is currently not supported\")\n",
    "\n",
    "    # Create a list to hold data for each product\n",
    "    product_data = []\n",
    "\n",
    "    # Iterate through each requested product\n",
    "    for product in products:\n",
    "\n",
    "        try:\n",
    "\n",
    "            # Load data including fmask band\n",
    "            print(f'Loading {product} data')\n",
    "            try:\n",
    "                \n",
    "                # If dask_chunks is specified, load data using query\n",
    "                if lazy_load:\n",
    "                    ds = dc.load(product=f'{product}',\n",
    "                                 **dcload_kwargs)\n",
    "                \n",
    "                # If no dask chunks specified, add this param so that\n",
    "                # we can lazy load data before filtering by good data\n",
    "                else:\n",
    "                    ds = dc.load(product=f'{product}',\n",
    "                                 dask_chunks={},\n",
    "                                 **dcload_kwargs) \n",
    "                \n",
    "            except KeyError as e:\n",
    "                raise ValueError(f'Band {e} does not exist in this product. '\n",
    "                                 f'Verify all requested `measurements` exist '\n",
    "                                 f'in {products}')\n",
    "            \n",
    "            # Keep a record of the original number of observations\n",
    "            total_obs = len(ds.time)\n",
    "            print(total_obs)\n",
    "            \n",
    "            # Identify all pixels not affected by cloud/shadow/invalid\n",
    "            good_quality = ds\n",
    "                \n",
    "            # If any data was returned\n",
    "            if len(ds.time) > 0:\n",
    "\n",
    "                # Optionally apply pixel quality mask to observations \n",
    "                # remaining after the filtering step above to mask out \n",
    "                # all remaining bad quality pixels\n",
    "                if mask_pixel_quality:\n",
    "                    print('    Applying pixel quality/cloud mask')\n",
    "\n",
    "                    # Change dtype to custom float before masking to \n",
    "                    # save memory. See `astype_attrs` func docstring \n",
    "                    # above for details  \n",
    "                    ds = ds.apply(astype_attrs, \n",
    "                                  dtype=mask_dtype, \n",
    "                                  keep_attrs=True)\n",
    "                    ds = ds.where(good_quality)\n",
    "                    \n",
    "                # Optionally filter to replace no data values with nans\n",
    "                if mask_invalid_data:\n",
    "                    print('    Applying invalid data mask')\n",
    "\n",
    "                    # Change dtype to custom float before masking to \n",
    "                    # save memory. See `astype_attrs` func docstring \n",
    "                    # above for details           \n",
    "                    ds = ds.apply(astype_attrs, \n",
    "                                  dtype=mask_dtype, \n",
    "                                  keep_attrs=True)\n",
    "                    ds = masking.mask_invalid_data(ds)\n",
    "\n",
    "                # If any data was returned, add result to list\n",
    "                product_data.append(ds)\n",
    "               \n",
    "            # If no data is returned, print status\n",
    "            else:\n",
    "                print(f'    No data for {product}')\n",
    "                \n",
    "\n",
    "            # If  AttributeError due to there being no variables in\n",
    "            # the dataset, skip this product and move on to the next\n",
    "        except AttributeError:\n",
    "            print(f'    No data for {product}')\n",
    "               # If any data was returned above, combine into one xarray\n",
    "    if (len(product_data) > 0):\n",
    "        # Concatenate results and sort by time\n",
    "        print(f'Combining and sorting data')\n",
    "        combined_ds = xr.concat(product_data, dim='time').sortby('time')\n",
    "        \n",
    "        # If `lazy_load` is True, return data as a dask array without\n",
    "        # actually loading it in\n",
    "        if lazy_load:\n",
    "            print(f'    Returning {len(combined_ds.time)} observations'' as a dask array')\n",
    "            return combined_ds\n",
    "        else:\n",
    "            print(f'    Returning {len(combined_ds.time)} observations ')\n",
    "            return combined_ds.compute()\n",
    "\n",
    "            # If no data was returned:\n",
    "    else:\n",
    "        print('No data returned for query')\n",
    "        return None"
   ]
  },
  {
   "cell_type": "code",
   "execution_count": 17,
   "metadata": {},
   "outputs": [],
   "source": [
    "from copy import deepcopy"
   ]
  },
  {
   "cell_type": "code",
   "execution_count": 18,
   "metadata": {},
   "outputs": [],
   "source": [
    "# load in the tide data. Edit this to make sure you have data that overlaps with what you are working on.\n",
    "# the data here comes from http://www.bom.gov.au/oceanography/projects/spslcmp/data/index.shtml for fiji"
   ]
  },
  {
   "cell_type": "code",
   "execution_count": 19,
   "metadata": {},
   "outputs": [
    {
     "name": "stdout",
     "output_type": "stream",
     "text": [
      "Loading ls8_water_classification data\n",
      "145\n",
      "Loading ls7_water_classification data\n",
      "167\n",
      "Loading ls5_water_classification data\n",
      "    No data for ls5_water_classification\n",
      "Loading ls4_water_classification data\n",
      "    No data for ls4_water_classification\n",
      "Combining and sorting data\n",
      "    Returning 312 observations as a dask array\n"
     ]
    },
    {
     "data": {
      "text/html": [
       "<pre>&lt;xarray.Dataset&gt;\n",
       "Dimensions:  (time: 312, x: 39, y: 41)\n",
       "Coordinates:\n",
       "  * y        (y) float64 3.884e+06 3.884e+06 3.884e+06 ... 3.883e+06 3.883e+06\n",
       "  * x        (x) float64 1.992e+06 1.992e+06 1.992e+06 ... 1.993e+06 1.993e+06\n",
       "  * time     (time) datetime64[ns] 2000-02-02T10:59:42 ... 2019-09-10T22:06:52\n",
       "Data variables:\n",
       "    water    (time, y, x) int16 dask.array&lt;chunksize=(1, 41, 39), meta=np.ndarray&gt;\n",
       "Attributes:\n",
       "    crs:      EPSG:3460</pre>"
      ],
      "text/plain": [
       "<xarray.Dataset>\n",
       "Dimensions:  (time: 312, x: 39, y: 41)\n",
       "Coordinates:\n",
       "  * y        (y) float64 3.884e+06 3.884e+06 3.884e+06 ... 3.883e+06 3.883e+06\n",
       "  * x        (x) float64 1.992e+06 1.992e+06 1.992e+06 ... 1.993e+06 1.993e+06\n",
       "  * time     (time) datetime64[ns] 2000-02-02T10:59:42 ... 2019-09-10T22:06:52\n",
       "Data variables:\n",
       "    water    (time, y, x) int16 dask.array<chunksize=(1, 41, 39), meta=np.ndarray>\n",
       "Attributes:\n",
       "    crs:      EPSG:3460"
      ]
     },
     "execution_count": 19,
     "metadata": {},
     "output_type": "execute_result"
    }
   ],
   "source": [
    "# Load available data from all three Landsat satellites\n",
    "landsat_ds = load_ard(dc=dc,\n",
    "                      products=['ls8_water_classification', \n",
    "                                'ls7_water_classification',\n",
    "                                'ls5_water_classification',\n",
    "                                'ls4_water_classification'],\n",
    "                      group_by='solar_day',\n",
    "                      mask_invalid_data=False,\n",
    "                      mask_pixel_quality=False,                      \n",
    "                      **query)\n",
    "landsat_ds"
   ]
  },
  {
   "cell_type": "code",
   "execution_count": 20,
   "metadata": {},
   "outputs": [
    {
     "name": "stdout",
     "output_type": "stream",
     "text": [
      "CPU times: user 11.8 ms, sys: 0 ns, total: 11.8 ms\n",
      "Wall time: 11.7 ms\n"
     ]
    }
   ],
   "source": [
    "%%time\n",
    "water_classes = landsat_ds.where(landsat_ds >= 0)\n",
    "water_classes"
   ]
  },
  {
   "cell_type": "code",
   "execution_count": 21,
   "metadata": {},
   "outputs": [
    {
     "name": "stdout",
     "output_type": "stream",
     "text": [
      "variable2 correct\n",
      "variable2 correct\n",
      "variable2 correct\n",
      "variable2 correct\n",
      "variable2 correct\n",
      "variable2 correct\n",
      "CPU times: user 46 s, sys: 171 ms, total: 46.2 s\n",
      "Wall time: 46.2 s\n"
     ]
    }
   ],
   "source": [
    "%%time\n",
    "dfs = []\n",
    "# the data here comes from http://www.bom.gov.au/oceanography/projects/spslcmp/data/index.shtml for fij\n",
    "for f in tide_files:\n",
    "    # We must read the data now because it doesn't exist on the dask workers\n",
    "    df = pd.read_csv(f)\n",
    "    \n",
    "    if 'Sea Level' in df.columns: \n",
    "        df['tides'] = df['Sea Level']\n",
    "        df = pd.DataFrame.drop(df, columns=['Sea Level'])\n",
    "    elif 'tide' in df.columns:\n",
    "        df['tides'] = df['tide']\n",
    "        df = pd.DataFrame.drop(df, columns=['tide'])\n",
    "    else: \n",
    "        print('variables correct')\n",
    "    if ' Date & UTC Time' in df.columns:\n",
    "        df['time'] = df[' Date & UTC Time']\n",
    "        df = pd.DataFrame.drop(df, columns=[' Date & UTC Time'])\n",
    "    else:\n",
    "        print('variable2 correct')\n",
    "        \n",
    "    dfs.append(df)\n",
    "    \n",
    "tide_data = pd.concat(dfs)\n",
    "tide_data['time'] = pd.to_datetime(tide_data['time'], infer_datetime_format=True)"
   ]
  },
  {
   "cell_type": "markdown",
   "metadata": {},
   "source": []
  },
  {
   "cell_type": "markdown",
   "metadata": {},
   "source": [
    "### Import tide height data \n",
    "Into pandas and concatenate each year together.\n",
    "\n",
    "Shoreline location varies with tides, only tide heights at specific conditions are kept - determined by tide_range setting. If tide_range values at 0.00, 2.00 then only tides between 0 and 2m relative to Mean Sea Level are kept. "
   ]
  },
  {
   "cell_type": "code",
   "execution_count": 22,
   "metadata": {},
   "outputs": [
    {
     "data": {
      "text/html": [
       "<div>\n",
       "<style scoped>\n",
       "    .dataframe tbody tr th:only-of-type {\n",
       "        vertical-align: middle;\n",
       "    }\n",
       "\n",
       "    .dataframe tbody tr th {\n",
       "        vertical-align: top;\n",
       "    }\n",
       "\n",
       "    .dataframe thead th {\n",
       "        text-align: right;\n",
       "    }\n",
       "</style>\n",
       "<table border=\"1\" class=\"dataframe\">\n",
       "  <thead>\n",
       "    <tr style=\"text-align: right;\">\n",
       "      <th></th>\n",
       "      <th>Water Temperature</th>\n",
       "      <th>Air Temperature</th>\n",
       "      <th>Barometric Pressure</th>\n",
       "      <th>Residuals</th>\n",
       "      <th>Adjusted Residuals</th>\n",
       "      <th>Wind Direction</th>\n",
       "      <th>Wind Gust</th>\n",
       "      <th>Wind Speed</th>\n",
       "      <th>Lautoka</th>\n",
       "      <th>Fiji</th>\n",
       "      <th>tides</th>\n",
       "      <th>Fiji</th>\n",
       "      <th>tide_height</th>\n",
       "    </tr>\n",
       "    <tr>\n",
       "      <th>time</th>\n",
       "      <th></th>\n",
       "      <th></th>\n",
       "      <th></th>\n",
       "      <th></th>\n",
       "      <th></th>\n",
       "      <th></th>\n",
       "      <th></th>\n",
       "      <th></th>\n",
       "      <th></th>\n",
       "      <th></th>\n",
       "      <th></th>\n",
       "      <th></th>\n",
       "      <th></th>\n",
       "    </tr>\n",
       "  </thead>\n",
       "  <tbody>\n",
       "    <tr>\n",
       "      <th>1996-01-02 06:00:00</th>\n",
       "      <td>-9999.0</td>\n",
       "      <td>23.8</td>\n",
       "      <td>1007.2</td>\n",
       "      <td>0.041</td>\n",
       "      <td>-0.022</td>\n",
       "      <td>161</td>\n",
       "      <td>3.1</td>\n",
       "      <td>2.1</td>\n",
       "      <td>NaN</td>\n",
       "      <td>NaN</td>\n",
       "      <td>1.763</td>\n",
       "      <td>NaN</td>\n",
       "      <td>1.763</td>\n",
       "    </tr>\n",
       "    <tr>\n",
       "      <th>1996-01-02 07:00:00</th>\n",
       "      <td>-9999.0</td>\n",
       "      <td>23.7</td>\n",
       "      <td>1007.1</td>\n",
       "      <td>0.066</td>\n",
       "      <td>0.007</td>\n",
       "      <td>164</td>\n",
       "      <td>4.5</td>\n",
       "      <td>2.6</td>\n",
       "      <td>NaN</td>\n",
       "      <td>NaN</td>\n",
       "      <td>1.438</td>\n",
       "      <td>NaN</td>\n",
       "      <td>1.438</td>\n",
       "    </tr>\n",
       "    <tr>\n",
       "      <th>1996-01-02 08:00:00</th>\n",
       "      <td>-9999.0</td>\n",
       "      <td>24.2</td>\n",
       "      <td>1007.1</td>\n",
       "      <td>0.058</td>\n",
       "      <td>-0.004</td>\n",
       "      <td>157</td>\n",
       "      <td>5.2</td>\n",
       "      <td>1.9</td>\n",
       "      <td>NaN</td>\n",
       "      <td>NaN</td>\n",
       "      <td>1.127</td>\n",
       "      <td>NaN</td>\n",
       "      <td>1.127</td>\n",
       "    </tr>\n",
       "    <tr>\n",
       "      <th>1996-01-02 09:00:00</th>\n",
       "      <td>-9999.0</td>\n",
       "      <td>24.2</td>\n",
       "      <td>1007.7</td>\n",
       "      <td>0.070</td>\n",
       "      <td>0.009</td>\n",
       "      <td>76</td>\n",
       "      <td>2.3</td>\n",
       "      <td>1.0</td>\n",
       "      <td>NaN</td>\n",
       "      <td>NaN</td>\n",
       "      <td>0.821</td>\n",
       "      <td>NaN</td>\n",
       "      <td>0.821</td>\n",
       "    </tr>\n",
       "    <tr>\n",
       "      <th>1996-01-02 10:00:00</th>\n",
       "      <td>-9999.0</td>\n",
       "      <td>23.8</td>\n",
       "      <td>1007.9</td>\n",
       "      <td>0.059</td>\n",
       "      <td>0.004</td>\n",
       "      <td>65</td>\n",
       "      <td>3.7</td>\n",
       "      <td>2.2</td>\n",
       "      <td>NaN</td>\n",
       "      <td>NaN</td>\n",
       "      <td>0.631</td>\n",
       "      <td>NaN</td>\n",
       "      <td>0.631</td>\n",
       "    </tr>\n",
       "    <tr>\n",
       "      <th>...</th>\n",
       "      <td>...</td>\n",
       "      <td>...</td>\n",
       "      <td>...</td>\n",
       "      <td>...</td>\n",
       "      <td>...</td>\n",
       "      <td>...</td>\n",
       "      <td>...</td>\n",
       "      <td>...</td>\n",
       "      <td>...</td>\n",
       "      <td>...</td>\n",
       "      <td>...</td>\n",
       "      <td>...</td>\n",
       "      <td>...</td>\n",
       "    </tr>\n",
       "    <tr>\n",
       "      <th>2012-12-31 19:00:00</th>\n",
       "      <td>29.1</td>\n",
       "      <td>26.7</td>\n",
       "      <td>1010.6</td>\n",
       "      <td>0.057</td>\n",
       "      <td>0.024</td>\n",
       "      <td>-9999</td>\n",
       "      <td>-9999.0</td>\n",
       "      <td>-9999.0</td>\n",
       "      <td>NaN</td>\n",
       "      <td>NaN</td>\n",
       "      <td>1.726</td>\n",
       "      <td>NaN</td>\n",
       "      <td>1.726</td>\n",
       "    </tr>\n",
       "    <tr>\n",
       "      <th>2012-12-31 20:00:00</th>\n",
       "      <td>29.1</td>\n",
       "      <td>27.3</td>\n",
       "      <td>1010.7</td>\n",
       "      <td>0.051</td>\n",
       "      <td>0.025</td>\n",
       "      <td>-9999</td>\n",
       "      <td>-9999.0</td>\n",
       "      <td>-9999.0</td>\n",
       "      <td>NaN</td>\n",
       "      <td>NaN</td>\n",
       "      <td>1.905</td>\n",
       "      <td>NaN</td>\n",
       "      <td>1.905</td>\n",
       "    </tr>\n",
       "    <tr>\n",
       "      <th>2012-12-31 21:00:00</th>\n",
       "      <td>29.1</td>\n",
       "      <td>27.9</td>\n",
       "      <td>1010.9</td>\n",
       "      <td>0.076</td>\n",
       "      <td>0.051</td>\n",
       "      <td>-9999</td>\n",
       "      <td>-9999.0</td>\n",
       "      <td>-9999.0</td>\n",
       "      <td>NaN</td>\n",
       "      <td>NaN</td>\n",
       "      <td>1.964</td>\n",
       "      <td>NaN</td>\n",
       "      <td>1.964</td>\n",
       "    </tr>\n",
       "    <tr>\n",
       "      <th>2012-12-31 22:00:00</th>\n",
       "      <td>29.1</td>\n",
       "      <td>28.0</td>\n",
       "      <td>1010.6</td>\n",
       "      <td>0.065</td>\n",
       "      <td>0.041</td>\n",
       "      <td>-9999</td>\n",
       "      <td>-9999.0</td>\n",
       "      <td>-9999.0</td>\n",
       "      <td>NaN</td>\n",
       "      <td>NaN</td>\n",
       "      <td>1.841</td>\n",
       "      <td>NaN</td>\n",
       "      <td>1.841</td>\n",
       "    </tr>\n",
       "    <tr>\n",
       "      <th>2012-12-31 23:00:00</th>\n",
       "      <td>29.2</td>\n",
       "      <td>29.0</td>\n",
       "      <td>1010.0</td>\n",
       "      <td>0.075</td>\n",
       "      <td>0.049</td>\n",
       "      <td>-9999</td>\n",
       "      <td>-9999.0</td>\n",
       "      <td>-9999.0</td>\n",
       "      <td>NaN</td>\n",
       "      <td>NaN</td>\n",
       "      <td>1.624</td>\n",
       "      <td>NaN</td>\n",
       "      <td>1.624</td>\n",
       "    </tr>\n",
       "  </tbody>\n",
       "</table>\n",
       "<p>236088 rows × 13 columns</p>\n",
       "</div>"
      ],
      "text/plain": [
       "                     Water Temperature  Air Temperature  Barometric Pressure  \\\n",
       "time                                                                           \n",
       "1996-01-02 06:00:00            -9999.0             23.8               1007.2   \n",
       "1996-01-02 07:00:00            -9999.0             23.7               1007.1   \n",
       "1996-01-02 08:00:00            -9999.0             24.2               1007.1   \n",
       "1996-01-02 09:00:00            -9999.0             24.2               1007.7   \n",
       "1996-01-02 10:00:00            -9999.0             23.8               1007.9   \n",
       "...                                ...              ...                  ...   \n",
       "2012-12-31 19:00:00               29.1             26.7               1010.6   \n",
       "2012-12-31 20:00:00               29.1             27.3               1010.7   \n",
       "2012-12-31 21:00:00               29.1             27.9               1010.9   \n",
       "2012-12-31 22:00:00               29.1             28.0               1010.6   \n",
       "2012-12-31 23:00:00               29.2             29.0               1010.0   \n",
       "\n",
       "                     Residuals  Adjusted Residuals  Wind Direction  Wind Gust  \\\n",
       "time                                                                            \n",
       "1996-01-02 06:00:00      0.041              -0.022             161        3.1   \n",
       "1996-01-02 07:00:00      0.066               0.007             164        4.5   \n",
       "1996-01-02 08:00:00      0.058              -0.004             157        5.2   \n",
       "1996-01-02 09:00:00      0.070               0.009              76        2.3   \n",
       "1996-01-02 10:00:00      0.059               0.004              65        3.7   \n",
       "...                        ...                 ...             ...        ...   \n",
       "2012-12-31 19:00:00      0.057               0.024           -9999    -9999.0   \n",
       "2012-12-31 20:00:00      0.051               0.025           -9999    -9999.0   \n",
       "2012-12-31 21:00:00      0.076               0.051           -9999    -9999.0   \n",
       "2012-12-31 22:00:00      0.065               0.041           -9999    -9999.0   \n",
       "2012-12-31 23:00:00      0.075               0.049           -9999    -9999.0   \n",
       "\n",
       "                     Wind Speed  Lautoka   Fiji  tides  Fiji  tide_height  \n",
       "time                                                                       \n",
       "1996-01-02 06:00:00         2.1      NaN    NaN  1.763   NaN        1.763  \n",
       "1996-01-02 07:00:00         2.6      NaN    NaN  1.438   NaN        1.438  \n",
       "1996-01-02 08:00:00         1.9      NaN    NaN  1.127   NaN        1.127  \n",
       "1996-01-02 09:00:00         1.0      NaN    NaN  0.821   NaN        0.821  \n",
       "1996-01-02 10:00:00         2.2      NaN    NaN  0.631   NaN        0.631  \n",
       "...                         ...      ...    ...    ...   ...          ...  \n",
       "2012-12-31 19:00:00     -9999.0      NaN    NaN  1.726   NaN        1.726  \n",
       "2012-12-31 20:00:00     -9999.0      NaN    NaN  1.905   NaN        1.905  \n",
       "2012-12-31 21:00:00     -9999.0      NaN    NaN  1.964   NaN        1.964  \n",
       "2012-12-31 22:00:00     -9999.0      NaN    NaN  1.841   NaN        1.841  \n",
       "2012-12-31 23:00:00     -9999.0      NaN    NaN  1.624   NaN        1.624  \n",
       "\n",
       "[236088 rows x 13 columns]"
      ]
     },
     "execution_count": 22,
     "metadata": {},
     "output_type": "execute_result"
    }
   ],
   "source": [
    "#%%time\n",
    "tide_data['tide_height'] = tide_data['tides']\n",
    "new = tide_data.set_index('time')\n",
    "df3 = new.loc[~new.index.duplicated(keep='first')]\n",
    "df4 = df3[df3.tides != -9999]\n",
    "df4"
   ]
  },
  {
   "cell_type": "code",
   "execution_count": 23,
   "metadata": {},
   "outputs": [
    {
     "name": "stdout",
     "output_type": "stream",
     "text": [
      "CPU times: user 66.1 ms, sys: 19.7 ms, total: 85.8 ms\n",
      "Wall time: 86.4 ms\n"
     ]
    }
   ],
   "source": [
    "%%time\n",
    "# First, we convert the data to an xarray dataset so we can analyse it in the same way as our Landsat data\n",
    "tide_data_xr = df4.to_xarray()[[\"tide_height\"]].chunk(chunks={\"time\": -1})\n",
    "# We want to convert our hourly tide heights to estimates of exactly how high the tide was at the time that\n",
    "# each satellite image was taken. To do this, we can use `.interp` to 'interpolate' a tide height for each\n",
    "# Landsat timestamp:\n",
    "landsat_tideheights = tide_data_xr.interp(time=water_classes.time)\n",
    "\n",
    "# We then want to put these values back into the Landsat dataset so that each image has an estimated tide height:\n",
    "water_classes['tide_height'] = landsat_tideheights.tide_height"
   ]
  },
  {
   "cell_type": "code",
   "execution_count": 24,
   "metadata": {},
   "outputs": [
    {
     "data": {
      "text/html": [
       "<pre>&lt;xarray.Dataset&gt;\n",
       "Dimensions:      (time: 312, x: 39, y: 41)\n",
       "Coordinates:\n",
       "  * y            (y) float64 3.884e+06 3.884e+06 ... 3.883e+06 3.883e+06\n",
       "  * x            (x) float64 1.992e+06 1.992e+06 ... 1.993e+06 1.993e+06\n",
       "  * time         (time) datetime64[ns] 2000-02-02T10:59:42 ... 2019-09-10T22:06:52\n",
       "Data variables:\n",
       "    water        (time, y, x) float64 dask.array&lt;chunksize=(1, 41, 39), meta=np.ndarray&gt;\n",
       "    tide_height  (time) float64 dask.array&lt;chunksize=(312,), meta=np.ndarray&gt;\n",
       "Attributes:\n",
       "    crs:      EPSG:3460</pre>"
      ],
      "text/plain": [
       "<xarray.Dataset>\n",
       "Dimensions:      (time: 312, x: 39, y: 41)\n",
       "Coordinates:\n",
       "  * y            (y) float64 3.884e+06 3.884e+06 ... 3.883e+06 3.883e+06\n",
       "  * x            (x) float64 1.992e+06 1.992e+06 ... 1.993e+06 1.993e+06\n",
       "  * time         (time) datetime64[ns] 2000-02-02T10:59:42 ... 2019-09-10T22:06:52\n",
       "Data variables:\n",
       "    water        (time, y, x) float64 dask.array<chunksize=(1, 41, 39), meta=np.ndarray>\n",
       "    tide_height  (time) float64 dask.array<chunksize=(312,), meta=np.ndarray>\n",
       "Attributes:\n",
       "    crs:      EPSG:3460"
      ]
     },
     "execution_count": 24,
     "metadata": {},
     "output_type": "execute_result"
    }
   ],
   "source": [
    "water_classes"
   ]
  },
  {
   "cell_type": "code",
   "execution_count": 25,
   "metadata": {},
   "outputs": [
    {
     "name": "stdout",
     "output_type": "stream",
     "text": [
      "CPU times: user 2.65 s, sys: 143 ms, total: 2.79 s\n",
      "Wall time: 1min 38s\n"
     ]
    }
   ],
   "source": [
    "%%time\n",
    "# compute\n",
    "water_classes_comp = water_classes.compute()"
   ]
  },
  {
   "cell_type": "code",
   "execution_count": 26,
   "metadata": {},
   "outputs": [
    {
     "data": {
      "text/html": [
       "<pre>&lt;xarray.Dataset&gt;\n",
       "Dimensions:      (time: 312, x: 39, y: 41)\n",
       "Coordinates:\n",
       "  * y            (y) float64 3.884e+06 3.884e+06 ... 3.883e+06 3.883e+06\n",
       "  * x            (x) float64 1.992e+06 1.992e+06 ... 1.993e+06 1.993e+06\n",
       "  * time         (time) datetime64[ns] 2000-02-02T10:59:42 ... 2019-09-10T22:06:52\n",
       "Data variables:\n",
       "    water        (time, y, x) float64 0.0 0.0 1.0 0.0 1.0 ... nan nan nan nan\n",
       "    tide_height  (time) float64 0.5965 1.792 1.047 0.8232 ... 0.76 0.7443 0.6041\n",
       "Attributes:\n",
       "    crs:      EPSG:3460</pre>"
      ],
      "text/plain": [
       "<xarray.Dataset>\n",
       "Dimensions:      (time: 312, x: 39, y: 41)\n",
       "Coordinates:\n",
       "  * y            (y) float64 3.884e+06 3.884e+06 ... 3.883e+06 3.883e+06\n",
       "  * x            (x) float64 1.992e+06 1.992e+06 ... 1.993e+06 1.993e+06\n",
       "  * time         (time) datetime64[ns] 2000-02-02T10:59:42 ... 2019-09-10T22:06:52\n",
       "Data variables:\n",
       "    water        (time, y, x) float64 0.0 0.0 1.0 0.0 1.0 ... nan nan nan nan\n",
       "    tide_height  (time) float64 0.5965 1.792 1.047 0.8232 ... 0.76 0.7443 0.6041\n",
       "Attributes:\n",
       "    crs:      EPSG:3460"
      ]
     },
     "execution_count": 26,
     "metadata": {},
     "output_type": "execute_result"
    }
   ],
   "source": [
    "water_classes_comp"
   ]
  },
  {
   "cell_type": "code",
   "execution_count": 27,
   "metadata": {},
   "outputs": [
    {
     "data": {
      "image/png": "[encoded data removed]",
      "text/plain": [
       "<Figure size 432x288 with 1 Axes>"
      ]
     },
     "metadata": {
      "needs_background": "light"
     },
     "output_type": "display_data"
    }
   ],
   "source": [
    "# Plot the resulting tide heights for each Landsat image:\n",
    "water_classes_comp.tide_height.plot()\n",
    "plt.show()"
   ]
  },
  {
   "cell_type": "markdown",
   "metadata": {},
   "source": [
    "### Filter Landsat Images by tide height"
   ]
  },
  {
   "cell_type": "markdown",
   "metadata": {},
   "source": [
    "Only keep the Landsat Images which correspond to the desired tide height."
   ]
  },
  {
   "cell_type": "code",
   "execution_count": 28,
   "metadata": {},
   "outputs": [
    {
     "name": "stdout",
     "output_type": "stream",
     "text": [
      "CPU times: user 75.4 ms, sys: 4.11 ms, total: 79.5 ms\n",
      "Wall time: 176 ms\n"
     ]
    }
   ],
   "source": [
    "%%time\n",
    "# This hits the scheduler for a second. Not entirely sure why and not sure it's worth the time to investigate.\n",
    "landsat_hightide = water_classes.where((water_classes.tide_height > tide_range[0]) & (water_classes.tide_height < tide_range[1]), drop=True)"
   ]
  },
  {
   "cell_type": "code",
   "execution_count": 29,
   "metadata": {},
   "outputs": [
    {
     "data": {
      "text/html": [
       "<pre>&lt;xarray.Dataset&gt;\n",
       "Dimensions:      (time: 213, x: 39, y: 41)\n",
       "Coordinates:\n",
       "  * y            (y) float64 3.884e+06 3.884e+06 ... 3.883e+06 3.883e+06\n",
       "  * x            (x) float64 1.992e+06 1.992e+06 ... 1.993e+06 1.993e+06\n",
       "  * time         (time) datetime64[ns] 2000-02-02T10:59:42 ... 2019-09-10T22:06:52\n",
       "Data variables:\n",
       "    water        (time, y, x) float64 dask.array&lt;chunksize=(1, 41, 39), meta=np.ndarray&gt;\n",
       "    tide_height  (time) float64 dask.array&lt;chunksize=(213,), meta=np.ndarray&gt;\n",
       "Attributes:\n",
       "    crs:      EPSG:3460</pre>"
      ],
      "text/plain": [
       "<xarray.Dataset>\n",
       "Dimensions:      (time: 213, x: 39, y: 41)\n",
       "Coordinates:\n",
       "  * y            (y) float64 3.884e+06 3.884e+06 ... 3.883e+06 3.883e+06\n",
       "  * x            (x) float64 1.992e+06 1.992e+06 ... 1.993e+06 1.993e+06\n",
       "  * time         (time) datetime64[ns] 2000-02-02T10:59:42 ... 2019-09-10T22:06:52\n",
       "Data variables:\n",
       "    water        (time, y, x) float64 dask.array<chunksize=(1, 41, 39), meta=np.ndarray>\n",
       "    tide_height  (time) float64 dask.array<chunksize=(213,), meta=np.ndarray>\n",
       "Attributes:\n",
       "    crs:      EPSG:3460"
      ]
     },
     "execution_count": 29,
     "metadata": {},
     "output_type": "execute_result"
    }
   ],
   "source": [
    "landsat_hightide"
   ]
  },
  {
   "cell_type": "code",
   "execution_count": 30,
   "metadata": {},
   "outputs": [
    {
     "name": "stdout",
     "output_type": "stream",
     "text": [
      "CPU times: user 1.77 s, sys: 122 ms, total: 1.9 s\n",
      "Wall time: 1min 15s\n"
     ]
    }
   ],
   "source": [
    "%%time\n",
    "landsat_hightide_comp = landsat_hightide.compute()"
   ]
  },
  {
   "cell_type": "code",
   "execution_count": 31,
   "metadata": {},
   "outputs": [
    {
     "data": {
      "text/html": [
       "<pre>&lt;xarray.Dataset&gt;\n",
       "Dimensions:      (time: 213, x: 39, y: 41)\n",
       "Coordinates:\n",
       "  * y            (y) float64 3.884e+06 3.884e+06 ... 3.883e+06 3.883e+06\n",
       "  * x            (x) float64 1.992e+06 1.992e+06 ... 1.993e+06 1.993e+06\n",
       "  * time         (time) datetime64[ns] 2000-02-02T10:59:42 ... 2019-09-10T22:06:52\n",
       "Data variables:\n",
       "    water        (time, y, x) float64 0.0 0.0 1.0 0.0 1.0 ... nan nan nan nan\n",
       "    tide_height  (time) float64 0.5965 1.047 0.8232 ... 0.76 0.7443 0.6041\n",
       "Attributes:\n",
       "    crs:      EPSG:3460</pre>"
      ],
      "text/plain": [
       "<xarray.Dataset>\n",
       "Dimensions:      (time: 213, x: 39, y: 41)\n",
       "Coordinates:\n",
       "  * y            (y) float64 3.884e+06 3.884e+06 ... 3.883e+06 3.883e+06\n",
       "  * x            (x) float64 1.992e+06 1.992e+06 ... 1.993e+06 1.993e+06\n",
       "  * time         (time) datetime64[ns] 2000-02-02T10:59:42 ... 2019-09-10T22:06:52\n",
       "Data variables:\n",
       "    water        (time, y, x) float64 0.0 0.0 1.0 0.0 1.0 ... nan nan nan nan\n",
       "    tide_height  (time) float64 0.5965 1.047 0.8232 ... 0.76 0.7443 0.6041\n",
       "Attributes:\n",
       "    crs:      EPSG:3460"
      ]
     },
     "execution_count": 31,
     "metadata": {},
     "output_type": "execute_result"
    }
   ],
   "source": [
    "landsat_hightide_comp"
   ]
  },
  {
   "cell_type": "code",
   "execution_count": 32,
   "metadata": {},
   "outputs": [
    {
     "data": {
      "image/png": "[encoded data removed]",
      "text/plain": [
       "<Figure size 432x288 with 1 Axes>"
      ]
     },
     "metadata": {
      "needs_background": "light"
     },
     "output_type": "display_data"
    }
   ],
   "source": [
    "# Plot the resulting tide heights for each Landsat image:\n",
    "landsat_hightide_comp.tide_height.plot()\n",
    "plt.show()"
   ]
  },
  {
   "cell_type": "markdown",
   "metadata": {},
   "source": [
    "### Create Summary Images of Water."
   ]
  },
  {
   "cell_type": "code",
   "execution_count": 33,
   "metadata": {},
   "outputs": [
    {
     "name": "stdout",
     "output_type": "stream",
     "text": [
      "CPU times: user 5.43 s, sys: 618 ms, total: 6.04 s\n",
      "Wall time: 1min 15s\n"
     ]
    },
    {
     "data": {
      "image/png": "[encoded data removed]",
      "text/plain": [
       "<Figure size 720x1512 with 22 Axes>"
      ]
     },
     "metadata": {
      "needs_background": "light"
     },
     "output_type": "display_data"
    }
   ],
   "source": [
    "%%time\n",
    "landsat_resampled = landsat_hightide.water.resample(time=time_step).mean('time')\n",
    "landsat_resampled.plot(col='time', cmap='RdBu', col_wrap=3, vmin=0, vmax=1)"
   ]
  },
  {
   "cell_type": "code",
   "execution_count": 34,
   "metadata": {},
   "outputs": [
    {
     "name": "stdout",
     "output_type": "stream",
     "text": [
      "CPU times: user 2.16 s, sys: 204 ms, total: 2.36 s\n",
      "Wall time: 1min 20s\n"
     ]
    }
   ],
   "source": [
    "%%time\n",
    "landsat_resampled_comp = landsat_resampled.compute()"
   ]
  },
  {
   "cell_type": "markdown",
   "metadata": {},
   "source": [
    "### Extract Shorelines from Imagery"
   ]
  },
  {
   "cell_type": "code",
   "execution_count": 35,
   "metadata": {},
   "outputs": [
    {
     "name": "stdout",
     "output_type": "stream",
     "text": [
      "Operating in single z-value, multiple arrays mode\n",
      "    Extracting contour 0\n",
      "    Extracting contour 1\n",
      "    Extracting contour 2\n",
      "    Extracting contour 3\n",
      "    Extracting contour 4\n",
      "    Extracting contour 5\n",
      "    Extracting contour 6\n",
      "    Extracting contour 7\n",
      "    Extracting contour 8\n",
      "    Extracting contour 9\n",
      "    Extracting contour 10\n",
      "    Extracting contour 11\n",
      "    Extracting contour 12\n",
      "    Extracting contour 13\n",
      "    Extracting contour 14\n",
      "    Extracting contour 15\n",
      "    Extracting contour 16\n",
      "    Extracting contour 17\n",
      "    Extracting contour 18\n",
      "    Extracting contour 19\n",
      "Exporting contour shapefile to output_waterlines.shp\n",
      "CPU times: user 1.49 s, sys: 272 ms, total: 1.76 s\n",
      "Wall time: 1.59 s\n"
     ]
    },
    {
     "data": {
      "image/png": "[encoded data removed]",
      "text/plain": [
       "<Figure size 1440x504 with 2 Axes>"
      ]
     },
     "metadata": {
      "needs_background": "light"
     },
     "output_type": "display_data"
    }
   ],
   "source": [
    "%%time\n",
    "# Set up attributes to assign to each waterline\n",
    "attribute_data = {'time': [str(i)[0:10] for i in landsat_resampled_comp.time.values]}\n",
    "attribute_dtypes = {'time': 'str'}\n",
    "\n",
    "contour_gdf = waterline_funcs.contour_extract(\n",
    "    z_values=[0],\n",
    "    ds_array=landsat_resampled_comp,\n",
    "    ds_crs=landsat_ds.crs,\n",
    "    ds_affine=landsat_ds.geobox.transform,\n",
    "    output_shp=f'output_waterlines.shp',\n",
    "    attribute_data=attribute_data,\n",
    "    attribute_dtypes=attribute_dtypes,\n",
    "    min_vertices=5\n",
    ")\n",
    "\n",
    "# Plot output shapefile over the top of the first year's MNDWI layer\n",
    "fig, ax = plt.subplots(1, 1, figsize=(20, 7))\n",
    "landsat_resampled_comp.isel(time=-1).plot(ax=ax, cmap='Greys', alpha=1.0, edgecolors=None)\n",
    "contour_gdf.plot(cmap='YlOrRd', ax=ax)\n"
   ]
  },
  {
   "cell_type": "markdown",
   "metadata": {},
   "source": [
    "### Plot Interactive map of output shorelines coloured by time"
   ]
  },
  {
   "cell_type": "code",
   "execution_count": 36,
   "metadata": {},
   "outputs": [
    {
     "data": {
      "application/vnd.jupyter.widget-view+json": {
       "model_id": "9e317980b702496d90b4160fcf0a6b61",
       "version_major": 2,
       "version_minor": 0
      },
      "text/plain": [
       "Map(center=[-18.05223531988053, 178.67884692191527], controls=(ZoomControl(options=['position', 'zoom_in_text'…"
      ]
     },
     "metadata": {},
     "output_type": "display_data"
    }
   ],
   "source": [
    "waterline_funcs.map_shapefile(gdf=contour_gdf)"
   ]
  }
 ],
 "metadata": {
  "kernelspec": {
   "display_name": "Python [conda env:cubeenv]",
   "language": "python",
   "name": "conda-env-cubeenv-py"
  },
  "language_info": {
   "codemirror_mode": {
    "name": "ipython",
    "version": 3
   },
   "file_extension": ".py",
   "mimetype": "text/x-python",
   "name": "python",
   "nbconvert_exporter": "python",
   "pygments_lexer": "ipython3",
   "version": "3.6.7"
  }
 },
 "nbformat": 4,
 "nbformat_minor": 2
}
