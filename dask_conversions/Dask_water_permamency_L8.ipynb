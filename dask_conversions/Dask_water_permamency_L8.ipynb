{
 "cells": [
  {
   "cell_type": "code",
   "execution_count": 1,
   "metadata": {},
   "outputs": [],
   "source": [
    "# Magic + imports likely common across all notebooks\n",
    "%load_ext autoreload\n",
    "%autoreload 2\n",
    "%matplotlib inline\n",
    "# Supress Warning \n",
    "import warnings\n",
    "warnings.filterwarnings('ignore')\n",
    "# Set reference for util modules\n",
    "import sys\n",
    "sys.path.append('/home/jovyan/odc-hub/')\n",
    "# Generic python\n",
    "import matplotlib.pyplot as plt\n",
    "import numpy as np\n",
    "\n",
    "# Bonus vector manipulation\n",
    "import pandas as pd\n",
    "#from pandas import Dataframe\n",
    "import geopandas as gpd\n",
    "from shapely import wkt\n",
    "from datetime import datetime\n",
    "import xarray as xr\n",
    "\n",
    "import dask"
   ]
  },
  {
   "cell_type": "code",
   "execution_count": 2,
   "metadata": {},
   "outputs": [
    {
     "name": "stdout",
     "output_type": "stream",
     "text": [
      "Requirement already satisfied: datacube_utilities from git+https://github.com/SatelliteApplicationsCatapult/datacube-utilities.git#egg=datacube_utilities in /opt/conda/envs/cubeenv/lib/python3.6/site-packages (0.0.1)\n",
      "Requirement already satisfied: gdal==2.4.4 in /opt/conda/envs/cubeenv/lib/python3.6/site-packages (from datacube_utilities) (2.4.4)\n",
      "Requirement already satisfied: ipyleaflet==0.12.3 in /opt/conda/envs/cubeenv/lib/python3.6/site-packages (from datacube_utilities) (0.12.3)\n",
      "Requirement already satisfied: scikit-learn==0.22.2.post1 in /opt/conda/envs/cubeenv/lib/python3.6/site-packages (from datacube_utilities) (0.22.2.post1)\n",
      "Requirement already satisfied: rasterstats==0.14.0 in /opt/conda/envs/cubeenv/lib/python3.6/site-packages (from datacube_utilities) (0.14.0)\n",
      "Requirement already satisfied: lcmap-pyccd==2017.08.18 in /opt/conda/envs/cubeenv/lib/python3.6/site-packages (from datacube_utilities) (2017.8.18)\n",
      "Requirement already satisfied: msgpack==1.0.0 in /opt/conda/envs/cubeenv/lib/python3.6/site-packages (from datacube_utilities) (1.0.0)\n",
      "Requirement already satisfied: scikit-image==0.16.2 in /opt/conda/envs/cubeenv/lib/python3.6/site-packages (from datacube_utilities) (0.16.2)\n",
      "Requirement already satisfied: xarray==0.15.1 in /opt/conda/envs/cubeenv/lib/python3.6/site-packages (from datacube_utilities) (0.15.1)\n",
      "Requirement already satisfied: lz4==3.0.2 in /opt/conda/envs/cubeenv/lib/python3.6/site-packages (from datacube_utilities) (3.0.2)\n",
      "Requirement already satisfied: folium==0.10.1 in /opt/conda/envs/cubeenv/lib/python3.6/site-packages (from datacube_utilities) (0.10.1)\n",
      "Requirement already satisfied: boto3==1.12.36 in /opt/conda/envs/cubeenv/lib/python3.6/site-packages (from datacube_utilities) (1.12.36)\n",
      "Requirement already satisfied: cloudpickle==1.3.0 in /opt/conda/envs/cubeenv/lib/python3.6/site-packages (from datacube_utilities) (1.3.0)\n",
      "Requirement already satisfied: dask==2.14.0 in /opt/conda/envs/cubeenv/lib/python3.6/site-packages (from datacube_utilities) (2.14.0)\n",
      "Requirement already satisfied: shapely==1.7.0 in /opt/conda/envs/cubeenv/lib/python3.6/site-packages (from datacube_utilities) (1.7.0)\n",
      "Requirement already satisfied: datacube==1.7 in /opt/conda/envs/cubeenv/lib/python3.6/site-packages (from datacube_utilities) (1.7)\n",
      "Requirement already satisfied: distributed==2.14.0 in /opt/conda/envs/cubeenv/lib/python3.6/site-packages (from datacube_utilities) (2.14.0)\n",
      "Requirement already satisfied: scipy==1.4.1 in /opt/conda/envs/cubeenv/lib/python3.6/site-packages (from datacube_utilities) (1.4.1)\n",
      "Requirement already satisfied: toolz==0.10.0 in /opt/conda/envs/cubeenv/lib/python3.6/site-packages (from datacube_utilities) (0.10.0)\n",
      "Requirement already satisfied: descartes==1.1.0 in /opt/conda/envs/cubeenv/lib/python3.6/site-packages (from datacube_utilities) (1.1.0)\n",
      "Requirement already satisfied: hdmedians==0.13 in /opt/conda/envs/cubeenv/lib/python3.6/site-packages (from datacube_utilities) (0.13)\n",
      "Requirement already satisfied: ruamel.yaml==0.15.87 in /opt/conda/envs/cubeenv/lib/python3.6/site-packages (from datacube_utilities) (0.15.87)\n",
      "Requirement already satisfied: geopandas==0.7.0 in /opt/conda/envs/cubeenv/lib/python3.6/site-packages (from datacube_utilities) (0.7.0)\n",
      "Requirement already satisfied: tornado==6.0.4 in /opt/conda/envs/cubeenv/lib/python3.6/site-packages (from datacube_utilities) (6.0.4)\n",
      "Requirement already satisfied: numpy==1.18.1 in /opt/conda/envs/cubeenv/lib/python3.6/site-packages (from datacube_utilities) (1.18.1)\n",
      "Requirement already satisfied: blosc==1.9.0 in /opt/conda/envs/cubeenv/lib/python3.6/site-packages (from datacube_utilities) (1.9.0)\n",
      "Requirement already satisfied: seaborn==0.10.0 in /opt/conda/envs/cubeenv/lib/python3.6/site-packages (from datacube_utilities) (0.10.0)\n",
      "Requirement already satisfied: matplotlib==3.2.1 in /opt/conda/envs/cubeenv/lib/python3.6/site-packages (from datacube_utilities) (3.2.1)\n",
      "Requirement already satisfied: branca<0.4,>=0.3.1 in /opt/conda/envs/cubeenv/lib/python3.6/site-packages (from ipyleaflet==0.12.3->datacube_utilities) (0.3.1)\n",
      "Requirement already satisfied: traittypes<3,>=0.2.1 in /opt/conda/envs/cubeenv/lib/python3.6/site-packages (from ipyleaflet==0.12.3->datacube_utilities) (0.2.1)\n",
      "Requirement already satisfied: ipywidgets<8,>=7.5.0 in /opt/conda/envs/cubeenv/lib/python3.6/site-packages (from ipyleaflet==0.12.3->datacube_utilities) (7.5.1)\n",
      "Requirement already satisfied: joblib>=0.11 in /opt/conda/envs/cubeenv/lib/python3.6/site-packages (from scikit-learn==0.22.2.post1->datacube_utilities) (0.14.1)\n",
      "Requirement already satisfied: affine<3.0 in /opt/conda/envs/cubeenv/lib/python3.6/site-packages (from rasterstats==0.14.0->datacube_utilities) (2.3.0)\n",
      "Requirement already satisfied: simplejson in /opt/conda/envs/cubeenv/lib/python3.6/site-packages (from rasterstats==0.14.0->datacube_utilities) (3.17.0)\n",
      "Requirement already satisfied: cligj>=0.4 in /opt/conda/envs/cubeenv/lib/python3.6/site-packages (from rasterstats==0.14.0->datacube_utilities) (0.5.0)\n",
      "Requirement already satisfied: fiona in /opt/conda/envs/cubeenv/lib/python3.6/site-packages (from rasterstats==0.14.0->datacube_utilities) (1.8.9.post2)\n",
      "Requirement already satisfied: rasterio>=1.0 in /opt/conda/envs/cubeenv/lib/python3.6/site-packages (from rasterstats==0.14.0->datacube_utilities) (1.1.3)\n",
      "Requirement already satisfied: click>=6.6 in /opt/conda/envs/cubeenv/lib/python3.6/site-packages (from lcmap-pyccd==2017.08.18->datacube_utilities) (7.1.1)\n",
      "Requirement already satisfied: PyYAML>=3.12 in /opt/conda/envs/cubeenv/lib/python3.6/site-packages (from lcmap-pyccd==2017.08.18->datacube_utilities) (5.3.1)\n",
      "Requirement already satisfied: cachetools>=2.0.0 in /opt/conda/envs/cubeenv/lib/python3.6/site-packages (from lcmap-pyccd==2017.08.18->datacube_utilities) (3.1.1)\n",
      "Requirement already satisfied: click-plugins>=1.0.3 in /opt/conda/envs/cubeenv/lib/python3.6/site-packages (from lcmap-pyccd==2017.08.18->datacube_utilities) (1.1.1)\n",
      "Requirement already satisfied: networkx>=2.0 in /opt/conda/envs/cubeenv/lib/python3.6/site-packages (from scikit-image==0.16.2->datacube_utilities) (2.4)\n",
      "Requirement already satisfied: pillow>=4.3.0 in /opt/conda/envs/cubeenv/lib/python3.6/site-packages (from scikit-image==0.16.2->datacube_utilities) (7.1.1)\n",
      "Requirement already satisfied: imageio>=2.3.0 in /opt/conda/envs/cubeenv/lib/python3.6/site-packages (from scikit-image==0.16.2->datacube_utilities) (2.8.0)\n",
      "Requirement already satisfied: PyWavelets>=0.4.0 in /opt/conda/envs/cubeenv/lib/python3.6/site-packages (from scikit-image==0.16.2->datacube_utilities) (1.1.1)\n",
      "Requirement already satisfied: setuptools>=41.2 in /opt/conda/envs/cubeenv/lib/python3.6/site-packages (from xarray==0.15.1->datacube_utilities) (46.1.3.post20200325)\n",
      "Requirement already satisfied: pandas>=0.25 in /opt/conda/envs/cubeenv/lib/python3.6/site-packages (from xarray==0.15.1->datacube_utilities) (1.0.1)\n",
      "Requirement already satisfied: jinja2>=2.9 in /opt/conda/envs/cubeenv/lib/python3.6/site-packages (from folium==0.10.1->datacube_utilities) (2.11.1)\n",
      "Requirement already satisfied: requests in /opt/conda/envs/cubeenv/lib/python3.6/site-packages (from folium==0.10.1->datacube_utilities) (2.23.0)\n",
      "Requirement already satisfied: s3transfer<0.4.0,>=0.3.0 in /opt/conda/envs/cubeenv/lib/python3.6/site-packages (from boto3==1.12.36->datacube_utilities) (0.3.3)\n",
      "Requirement already satisfied: botocore<1.16.0,>=1.15.36 in /opt/conda/envs/cubeenv/lib/python3.6/site-packages (from boto3==1.12.36->datacube_utilities) (1.15.36)\n",
      "Requirement already satisfied: jmespath<1.0.0,>=0.7.1 in /opt/conda/envs/cubeenv/lib/python3.6/site-packages (from boto3==1.12.36->datacube_utilities) (0.9.5)\n",
      "Requirement already satisfied: pypeg2 in /opt/conda/envs/cubeenv/lib/python3.6/site-packages (from datacube==1.7->datacube_utilities) (2.15.2)\n",
      "Requirement already satisfied: lark-parser>=0.6.7 in /opt/conda/envs/cubeenv/lib/python3.6/site-packages (from datacube==1.7->datacube_utilities) (0.8.5)\n",
      "Requirement already satisfied: singledispatch in /opt/conda/envs/cubeenv/lib/python3.6/site-packages (from datacube==1.7->datacube_utilities) (3.4.0.3)\n",
      "Requirement already satisfied: jsonschema in /opt/conda/envs/cubeenv/lib/python3.6/site-packages (from datacube==1.7->datacube_utilities) (3.2.0)\n",
      "Requirement already satisfied: netcdf4 in /opt/conda/envs/cubeenv/lib/python3.6/site-packages (from datacube==1.7->datacube_utilities) (1.5.3)\n",
      "Requirement already satisfied: python-dateutil in /opt/conda/envs/cubeenv/lib/python3.6/site-packages (from datacube==1.7->datacube_utilities) (2.8.1)\n",
      "Requirement already satisfied: sqlalchemy in /opt/conda/envs/cubeenv/lib/python3.6/site-packages (from datacube==1.7->datacube_utilities) (1.3.15)\n",
      "Requirement already satisfied: psycopg2 in /opt/conda/envs/cubeenv/lib/python3.6/site-packages (from datacube==1.7->datacube_utilities) (2.8.4)\n",
      "Requirement already satisfied: zict>=0.1.3 in /opt/conda/envs/cubeenv/lib/python3.6/site-packages (from distributed==2.14.0->datacube_utilities) (2.0.0)\n",
      "Requirement already satisfied: sortedcontainers!=2.0.0,!=2.0.1 in /opt/conda/envs/cubeenv/lib/python3.6/site-packages (from distributed==2.14.0->datacube_utilities) (2.1.0)\n",
      "Requirement already satisfied: tblib>=1.6.0 in /opt/conda/envs/cubeenv/lib/python3.6/site-packages (from distributed==2.14.0->datacube_utilities) (1.6.0)\n",
      "Requirement already satisfied: psutil>=5.0 in /opt/conda/envs/cubeenv/lib/python3.6/site-packages (from distributed==2.14.0->datacube_utilities) (5.7.0)\n",
      "Requirement already satisfied: Cython>=0.23 in /opt/conda/envs/cubeenv/lib/python3.6/site-packages (from hdmedians==0.13->datacube_utilities) (0.29.16)\n",
      "Requirement already satisfied: pyproj>=2.2.0 in /opt/conda/envs/cubeenv/lib/python3.6/site-packages (from geopandas==0.7.0->datacube_utilities) (2.5.0)\n",
      "Requirement already satisfied: pyparsing!=2.0.4,!=2.1.2,!=2.1.6,>=2.0.1 in /opt/conda/envs/cubeenv/lib/python3.6/site-packages (from matplotlib==3.2.1->datacube_utilities) (2.4.6)\n",
      "Requirement already satisfied: kiwisolver>=1.0.1 in /opt/conda/envs/cubeenv/lib/python3.6/site-packages (from matplotlib==3.2.1->datacube_utilities) (1.2.0)\n",
      "Requirement already satisfied: cycler>=0.10 in /opt/conda/envs/cubeenv/lib/python3.6/site-packages (from matplotlib==3.2.1->datacube_utilities) (0.10.0)\n",
      "Requirement already satisfied: six in /opt/conda/envs/cubeenv/lib/python3.6/site-packages (from branca<0.4,>=0.3.1->ipyleaflet==0.12.3->datacube_utilities) (1.14.0)\n",
      "Requirement already satisfied: traitlets>=4.2.2 in /opt/conda/envs/cubeenv/lib/python3.6/site-packages (from traittypes<3,>=0.2.1->ipyleaflet==0.12.3->datacube_utilities) (4.3.3)\n",
      "Requirement already satisfied: widgetsnbextension~=3.5.0 in /opt/conda/envs/cubeenv/lib/python3.6/site-packages (from ipywidgets<8,>=7.5.0->ipyleaflet==0.12.3->datacube_utilities) (3.5.1)\n",
      "Requirement already satisfied: ipython>=4.0.0; python_version >= \"3.3\" in /opt/conda/envs/cubeenv/lib/python3.6/site-packages (from ipywidgets<8,>=7.5.0->ipyleaflet==0.12.3->datacube_utilities) (7.13.0)\n",
      "Requirement already satisfied: nbformat>=4.2.0 in /opt/conda/envs/cubeenv/lib/python3.6/site-packages (from ipywidgets<8,>=7.5.0->ipyleaflet==0.12.3->datacube_utilities) (5.0.4)\n",
      "Requirement already satisfied: ipykernel>=4.5.1 in /opt/conda/envs/cubeenv/lib/python3.6/site-packages (from ipywidgets<8,>=7.5.0->ipyleaflet==0.12.3->datacube_utilities) (5.2.0)\n",
      "Requirement already satisfied: attrs>=17 in /opt/conda/envs/cubeenv/lib/python3.6/site-packages (from fiona->rasterstats==0.14.0->datacube_utilities) (19.3.0)\n",
      "Requirement already satisfied: munch in /opt/conda/envs/cubeenv/lib/python3.6/site-packages (from fiona->rasterstats==0.14.0->datacube_utilities) (2.5.0)\n",
      "Requirement already satisfied: snuggs>=1.4.1 in /opt/conda/envs/cubeenv/lib/python3.6/site-packages (from rasterio>=1.0->rasterstats==0.14.0->datacube_utilities) (1.4.7)\n",
      "Requirement already satisfied: decorator>=4.3.0 in /opt/conda/envs/cubeenv/lib/python3.6/site-packages (from networkx>=2.0->scikit-image==0.16.2->datacube_utilities) (4.4.2)\n",
      "Requirement already satisfied: pytz>=2017.2 in /opt/conda/envs/cubeenv/lib/python3.6/site-packages (from pandas>=0.25->xarray==0.15.1->datacube_utilities) (2019.3)\n",
      "Requirement already satisfied: MarkupSafe>=0.23 in /opt/conda/envs/cubeenv/lib/python3.6/site-packages (from jinja2>=2.9->folium==0.10.1->datacube_utilities) (1.1.1)\n",
      "Requirement already satisfied: certifi>=2017.4.17 in /opt/conda/envs/cubeenv/lib/python3.6/site-packages (from requests->folium==0.10.1->datacube_utilities) (2020.4.5.1)\n",
      "Requirement already satisfied: idna<3,>=2.5 in /opt/conda/envs/cubeenv/lib/python3.6/site-packages (from requests->folium==0.10.1->datacube_utilities) (2.9)\n",
      "Requirement already satisfied: urllib3!=1.25.0,!=1.25.1,<1.26,>=1.21.1 in /opt/conda/envs/cubeenv/lib/python3.6/site-packages (from requests->folium==0.10.1->datacube_utilities) (1.25.7)\n",
      "Requirement already satisfied: chardet<4,>=3.0.2 in /opt/conda/envs/cubeenv/lib/python3.6/site-packages (from requests->folium==0.10.1->datacube_utilities) (3.0.4)\n",
      "Requirement already satisfied: docutils<0.16,>=0.10 in /opt/conda/envs/cubeenv/lib/python3.6/site-packages (from botocore<1.16.0,>=1.15.36->boto3==1.12.36->datacube_utilities) (0.15.2)\n",
      "Requirement already satisfied: pyrsistent>=0.14.0 in /opt/conda/envs/cubeenv/lib/python3.6/site-packages (from jsonschema->datacube==1.7->datacube_utilities) (0.16.0)\n",
      "Requirement already satisfied: importlib-metadata; python_version < \"3.8\" in /opt/conda/envs/cubeenv/lib/python3.6/site-packages (from jsonschema->datacube==1.7->datacube_utilities) (1.6.0)\n",
      "Requirement already satisfied: cftime in /opt/conda/envs/cubeenv/lib/python3.6/site-packages (from netcdf4->datacube==1.7->datacube_utilities) (1.1.1.2)\n",
      "Requirement already satisfied: heapdict in /opt/conda/envs/cubeenv/lib/python3.6/site-packages (from zict>=0.1.3->distributed==2.14.0->datacube_utilities) (1.0.1)\n",
      "Requirement already satisfied: ipython-genutils in /opt/conda/envs/cubeenv/lib/python3.6/site-packages (from traitlets>=4.2.2->traittypes<3,>=0.2.1->ipyleaflet==0.12.3->datacube_utilities) (0.2.0)\n",
      "Requirement already satisfied: notebook>=4.4.1 in /opt/conda/envs/cubeenv/lib/python3.6/site-packages (from widgetsnbextension~=3.5.0->ipywidgets<8,>=7.5.0->ipyleaflet==0.12.3->datacube_utilities) (6.0.3)\n",
      "Requirement already satisfied: pickleshare in /opt/conda/envs/cubeenv/lib/python3.6/site-packages (from ipython>=4.0.0; python_version >= \"3.3\"->ipywidgets<8,>=7.5.0->ipyleaflet==0.12.3->datacube_utilities) (0.7.5)\n",
      "Requirement already satisfied: pygments in /opt/conda/envs/cubeenv/lib/python3.6/site-packages (from ipython>=4.0.0; python_version >= \"3.3\"->ipywidgets<8,>=7.5.0->ipyleaflet==0.12.3->datacube_utilities) (2.6.1)\n",
      "Requirement already satisfied: pexpect; sys_platform != \"win32\" in /opt/conda/envs/cubeenv/lib/python3.6/site-packages (from ipython>=4.0.0; python_version >= \"3.3\"->ipywidgets<8,>=7.5.0->ipyleaflet==0.12.3->datacube_utilities) (4.8.0)\n",
      "Requirement already satisfied: prompt-toolkit!=3.0.0,!=3.0.1,<3.1.0,>=2.0.0 in /opt/conda/envs/cubeenv/lib/python3.6/site-packages (from ipython>=4.0.0; python_version >= \"3.3\"->ipywidgets<8,>=7.5.0->ipyleaflet==0.12.3->datacube_utilities) (3.0.5)\n",
      "Requirement already satisfied: jedi>=0.10 in /opt/conda/envs/cubeenv/lib/python3.6/site-packages (from ipython>=4.0.0; python_version >= \"3.3\"->ipywidgets<8,>=7.5.0->ipyleaflet==0.12.3->datacube_utilities) (0.16.0)\n",
      "Requirement already satisfied: backcall in /opt/conda/envs/cubeenv/lib/python3.6/site-packages (from ipython>=4.0.0; python_version >= \"3.3\"->ipywidgets<8,>=7.5.0->ipyleaflet==0.12.3->datacube_utilities) (0.1.0)\n",
      "Requirement already satisfied: jupyter-core in /opt/conda/envs/cubeenv/lib/python3.6/site-packages (from nbformat>=4.2.0->ipywidgets<8,>=7.5.0->ipyleaflet==0.12.3->datacube_utilities) (4.6.3)\n",
      "Requirement already satisfied: jupyter-client in /opt/conda/envs/cubeenv/lib/python3.6/site-packages (from ipykernel>=4.5.1->ipywidgets<8,>=7.5.0->ipyleaflet==0.12.3->datacube_utilities) (6.1.2)\n",
      "Requirement already satisfied: zipp>=0.5 in /opt/conda/envs/cubeenv/lib/python3.6/site-packages (from importlib-metadata; python_version < \"3.8\"->jsonschema->datacube==1.7->datacube_utilities) (3.1.0)\n",
      "Requirement already satisfied: pyzmq>=17 in /opt/conda/envs/cubeenv/lib/python3.6/site-packages (from notebook>=4.4.1->widgetsnbextension~=3.5.0->ipywidgets<8,>=7.5.0->ipyleaflet==0.12.3->datacube_utilities) (19.0.0)\n",
      "Requirement already satisfied: nbconvert in /opt/conda/envs/cubeenv/lib/python3.6/site-packages (from notebook>=4.4.1->widgetsnbextension~=3.5.0->ipywidgets<8,>=7.5.0->ipyleaflet==0.12.3->datacube_utilities) (5.6.1)\n",
      "Requirement already satisfied: prometheus-client in /opt/conda/envs/cubeenv/lib/python3.6/site-packages (from notebook>=4.4.1->widgetsnbextension~=3.5.0->ipywidgets<8,>=7.5.0->ipyleaflet==0.12.3->datacube_utilities) (0.7.1)\n",
      "Requirement already satisfied: terminado>=0.8.1 in /opt/conda/envs/cubeenv/lib/python3.6/site-packages (from notebook>=4.4.1->widgetsnbextension~=3.5.0->ipywidgets<8,>=7.5.0->ipyleaflet==0.12.3->datacube_utilities) (0.8.3)\n",
      "Requirement already satisfied: Send2Trash in /opt/conda/envs/cubeenv/lib/python3.6/site-packages (from notebook>=4.4.1->widgetsnbextension~=3.5.0->ipywidgets<8,>=7.5.0->ipyleaflet==0.12.3->datacube_utilities) (1.5.0)\n",
      "Requirement already satisfied: ptyprocess>=0.5 in /opt/conda/envs/cubeenv/lib/python3.6/site-packages (from pexpect; sys_platform != \"win32\"->ipython>=4.0.0; python_version >= \"3.3\"->ipywidgets<8,>=7.5.0->ipyleaflet==0.12.3->datacube_utilities) (0.6.0)\n",
      "Requirement already satisfied: wcwidth in /opt/conda/envs/cubeenv/lib/python3.6/site-packages (from prompt-toolkit!=3.0.0,!=3.0.1,<3.1.0,>=2.0.0->ipython>=4.0.0; python_version >= \"3.3\"->ipywidgets<8,>=7.5.0->ipyleaflet==0.12.3->datacube_utilities) (0.1.9)\n",
      "Requirement already satisfied: parso>=0.5.2 in /opt/conda/envs/cubeenv/lib/python3.6/site-packages (from jedi>=0.10->ipython>=4.0.0; python_version >= \"3.3\"->ipywidgets<8,>=7.5.0->ipyleaflet==0.12.3->datacube_utilities) (0.6.2)\n",
      "Requirement already satisfied: defusedxml in /opt/conda/envs/cubeenv/lib/python3.6/site-packages (from nbconvert->notebook>=4.4.1->widgetsnbextension~=3.5.0->ipywidgets<8,>=7.5.0->ipyleaflet==0.12.3->datacube_utilities) (0.6.0)\n",
      "Requirement already satisfied: pandocfilters>=1.4.1 in /opt/conda/envs/cubeenv/lib/python3.6/site-packages (from nbconvert->notebook>=4.4.1->widgetsnbextension~=3.5.0->ipywidgets<8,>=7.5.0->ipyleaflet==0.12.3->datacube_utilities) (1.4.2)\n",
      "Requirement already satisfied: mistune<2,>=0.8.1 in /opt/conda/envs/cubeenv/lib/python3.6/site-packages (from nbconvert->notebook>=4.4.1->widgetsnbextension~=3.5.0->ipywidgets<8,>=7.5.0->ipyleaflet==0.12.3->datacube_utilities) (0.8.4)\n",
      "Requirement already satisfied: entrypoints>=0.2.2 in /opt/conda/envs/cubeenv/lib/python3.6/site-packages (from nbconvert->notebook>=4.4.1->widgetsnbextension~=3.5.0->ipywidgets<8,>=7.5.0->ipyleaflet==0.12.3->datacube_utilities) (0.3)\n",
      "Requirement already satisfied: bleach in /opt/conda/envs/cubeenv/lib/python3.6/site-packages (from nbconvert->notebook>=4.4.1->widgetsnbextension~=3.5.0->ipywidgets<8,>=7.5.0->ipyleaflet==0.12.3->datacube_utilities) (3.1.4)\n",
      "Requirement already satisfied: testpath in /opt/conda/envs/cubeenv/lib/python3.6/site-packages (from nbconvert->notebook>=4.4.1->widgetsnbextension~=3.5.0->ipywidgets<8,>=7.5.0->ipyleaflet==0.12.3->datacube_utilities) (0.4.4)\n",
      "Requirement already satisfied: webencodings in /opt/conda/envs/cubeenv/lib/python3.6/site-packages (from bleach->nbconvert->notebook>=4.4.1->widgetsnbextension~=3.5.0->ipywidgets<8,>=7.5.0->ipyleaflet==0.12.3->datacube_utilities) (0.5.1)\n"
     ]
    }
   ],
   "source": [
    "!pip install git+https://github.com/SatelliteApplicationsCatapult/datacube-utilities.git#egg=datacube_utilities"
   ]
  },
  {
   "cell_type": "markdown",
   "metadata": {},
   "source": [
    "# **Water Permamency**\n"
   ]
  },
  {
   "cell_type": "markdown",
   "metadata": {},
   "source": [
    "Import required DC utils"
   ]
  },
  {
   "cell_type": "code",
   "execution_count": 3,
   "metadata": {},
   "outputs": [],
   "source": [
    "import datacube\n",
    "# DC utilities\n",
    "from datacube_utilities.dc_display_map import display_map\n",
    "from datacube_utilities.clean_mask import landsat_qa_clean_mask\n",
    "from datacube_utilities.dc_water_classifier import wofs_classify\n",
    "from datacube_utilities.import_export import export_xarray_to_netcdf\n",
    "from datacube_utilities.createAOI import create_lat_lon\n",
    "from datacube.storage import masking\n",
    "from datacube_utilities.clean_mask import lee_filter\n",
    "from datacube_utilities.dc_utilities import write_geotiff_from_xr\n"
   ]
  },
  {
   "cell_type": "markdown",
   "metadata": {},
   "source": [
    "Define aoi via wkt polygon (could be subbed or shapefile)"
   ]
  },
  {
   "cell_type": "code",
   "execution_count": 4,
   "metadata": {},
   "outputs": [],
   "source": [
    "#aoi_wkt = \"POLYGON((178.12 -18.25,178.15 -18.25,178.15 -18.27,178.12 -18.27,178.12 -18.25))\"\n",
    "#testarea\n",
    "#aoi_wkt = \"POLYGON((177.75226467901712 -17.879622210337537,177.80204647833352 -17.879622210337537,177.80204647833352 -17.914988456071715,177.75226467901712 -17.914988456071715,177.75226467901712 -17.879622210337537))\"\n",
    "#aoi_wkt = \"POLYGON((177.75226467901712 -17.879622210337537,177.80204647833352 -17.879622210337537,177.80204647833352 -17.914988456071715,177.75226467901712 -17.914988456071715,177.75226467901712 -17.879622210337537))\"\n",
    "aoi_wkt = \"POLYGON((177.34673877691375 -17.587272740290974,177.6955546948825 -17.587272740290974,177.6955546948825 -17.800529711996226,177.34673877691375 -17.800529711996226,177.34673877691375 -17.587272740290974))\"\n",
    "#whole country\n",
    "#aoi_wkt = \"POLYGON((177.34096527101 -17.746353149414, 177.43160247804 -17.744293212891, 177.4364089966 -17.834930419922, 177.34165191652 -17.833557128906, 177.34096527101 -17.746353149414))\"\n",
    "#lake\n",
    "aoi_wkt = \"POLYGON((177.59915340432389 -17.691752026788183,177.72892940530045 -17.691752026788183,177.72892940530045 -17.786908616177815,177.59915340432389 -17.786908616177815,177.59915340432389 -17.691752026788183))\"\n",
    "aoi = gpd.GeoDataFrame(pd.DataFrame({'geoms':[wkt.loads(aoi_wkt)]}), geometry='geoms')"
   ]
  },
  {
   "cell_type": "code",
   "execution_count": 24,
   "metadata": {},
   "outputs": [],
   "source": [
    "#set baseline start and end of period\n",
    "start_date = '2000-1-1'\n",
    "end_date = '2003-12-30'\n",
    "res = (30)\n",
    "\n",
    "output_projection = \"EPSG:3460\"\n",
    "crs = \"EPSG:3460\""
   ]
  },
  {
   "cell_type": "code",
   "execution_count": 25,
   "metadata": {},
   "outputs": [],
   "source": [
    "dc = datacube.Datacube(app=\"water permamency\")"
   ]
  },
  {
   "cell_type": "code",
   "execution_count": 26,
   "metadata": {},
   "outputs": [],
   "source": [
    "dask_chunks=dict(\n",
    "    x=1000,\n",
    "    y=1000\n",
    ")"
   ]
  },
  {
   "cell_type": "code",
   "execution_count": 27,
   "metadata": {},
   "outputs": [],
   "source": [
    "lat_extents, lon_extents = create_lat_lon(aoi_wkt)"
   ]
  },
  {
   "cell_type": "code",
   "execution_count": 28,
   "metadata": {},
   "outputs": [
    {
     "data": {
      "text/html": [
       "<div style=\"width:100%;\"><div style=\"position:relative;width:100%;height:0;padding-bottom:60%;\"><iframe src=\"data:text/html;charset=utf-8;base64,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\" style=\"position:absolute;width:100%;height:100%;left:0;top:0;border:none !important;\" allowfullscreen webkitallowfullscreen mozallowfullscreen></iframe></div></div>"
      ],
      "text/plain": [
       "<folium.folium.Map at 0x7f31e72bf160>"
      ]
     },
     "execution_count": 28,
     "metadata": {},
     "output_type": "execute_result"
    }
   ],
   "source": [
    "display_map(latitude = lat_extents, longitude = lon_extents)"
   ]
  },
  {
   "cell_type": "code",
   "execution_count": 29,
   "metadata": {},
   "outputs": [],
   "source": [
    "from pyproj import Proj, transform\n",
    "inProj  = Proj(\"+init=EPSG:4326\")\n",
    "outProj = Proj(\"+init=EPSG:3460\")"
   ]
  },
  {
   "cell_type": "code",
   "execution_count": 30,
   "metadata": {},
   "outputs": [],
   "source": [
    "min_lat, max_lat = (lat_extents) \n",
    "min_lon, max_lon = (lon_extents)"
   ]
  },
  {
   "cell_type": "code",
   "execution_count": 31,
   "metadata": {},
   "outputs": [],
   "source": [
    "x_A, y_A = transform(inProj, outProj, min_lon, min_lat)\n",
    "x_B, y_B = transform(inProj, outProj, max_lon, max_lat)"
   ]
  },
  {
   "cell_type": "code",
   "execution_count": 32,
   "metadata": {},
   "outputs": [],
   "source": [
    "lat_range = (y_A, y_B)\n",
    "lon_range = (x_A, x_B)"
   ]
  },
  {
   "cell_type": "code",
   "execution_count": 33,
   "metadata": {},
   "outputs": [],
   "source": [
    "#create resolution\n",
    "resolution = (-res, res)"
   ]
  },
  {
   "cell_type": "code",
   "execution_count": 34,
   "metadata": {},
   "outputs": [],
   "source": [
    "#format dates\n",
    "def createDate(inputStart, inputEnd):\n",
    "    start = datetime.strptime(inputStart, '%Y-%m-%d')\n",
    "    end = datetime.strptime(inputEnd, '%Y-%m-%d')\n",
    "    startDates = start.date()\n",
    "    endDates = end.date()\n",
    "    time_period = (startDates, endDates)\n",
    "    return time_period\n",
    "\n",
    "baseline_time_period = createDate(start_date, end_date)"
   ]
  },
  {
   "cell_type": "markdown",
   "metadata": {},
   "source": [
    "### Load Data"
   ]
  },
  {
   "cell_type": "markdown",
   "metadata": {},
   "source": [
    "Generic query specs"
   ]
  },
  {
   "cell_type": "code",
   "execution_count": 35,
   "metadata": {},
   "outputs": [],
   "source": [
    "query = dict(latitude = lat_range,\n",
    "             longitude = lon_range,\n",
    "             output_crs = output_projection,\n",
    "             crs = crs,\n",
    "             time = baseline_time_period,\n",
    "             resolution = resolution,\n",
    "             group_by = 'solar_day',\n",
    "             dask_chunks = dask_chunks,   \n",
    "            )\n"
   ]
  },
  {
   "cell_type": "markdown",
   "metadata": {},
   "source": [
    "Dataset-specifics"
   ]
  },
  {
   "cell_type": "code",
   "execution_count": 36,
   "metadata": {},
   "outputs": [],
   "source": [
    "dsL8 = dc.load(product='ls7_water_classification',\n",
    "               measurements = [\"water\"],\n",
    "               **query)"
   ]
  },
  {
   "cell_type": "code",
   "execution_count": 37,
   "metadata": {},
   "outputs": [],
   "source": [
    "\n",
    "def is_dataset_empty(ds:xr.Dataset) -> bool:\n",
    "    checks_for_empty = [\n",
    "                        lambda x: len(x.dims) == 0,      #Dataset has no dimensions\n",
    "                        lambda x: len(x.data_vars) == 0  #Dataset no variables \n",
    "                       ]\n",
    "    for f in checks_for_empty:\n",
    "         if f(ds) == True:\n",
    "                return True\n",
    "    return False"
   ]
  },
  {
   "cell_type": "code",
   "execution_count": 38,
   "metadata": {},
   "outputs": [],
   "source": [
    "waterL8 = dsL8.where(dsL8 != -9999)"
   ]
  },
  {
   "cell_type": "code",
   "execution_count": 39,
   "metadata": {},
   "outputs": [],
   "source": [
    "waterL8_comp = waterL8.compute()"
   ]
  },
  {
   "cell_type": "code",
   "execution_count": 40,
   "metadata": {},
   "outputs": [],
   "source": [
    "water_composite_mean = waterL8_comp.water.mean(dim='time')"
   ]
  },
  {
   "cell_type": "markdown",
   "metadata": {},
   "source": [
    "Visualise wofs summary product"
   ]
  },
  {
   "cell_type": "code",
   "execution_count": 41,
   "metadata": {},
   "outputs": [
    {
     "data": {
      "image/png": "[encoded data removed]",
      "text/plain": [
       "<Figure size 1200x960 with 2 Axes>"
      ]
     },
     "metadata": {
      "needs_background": "light"
     },
     "output_type": "display_data"
    }
   ],
   "source": [
    "plt.figure(figsize = (10,8), dpi=120)\n",
    "waterL8_comp.water.mean(dim='time').plot();"
   ]
  },
  {
   "cell_type": "code",
   "execution_count": 23,
   "metadata": {},
   "outputs": [],
   "source": [
    "#ndvi_anomaly_export = xr.DataArray.to_dataset(merged, dim = None, name = 'ls8')\n",
    "write_geotiff_from_xr('ls8_water.tiff', water_composite_mean, [\"water\"], crs=output_projection, x_coord = 'x', y_coord = 'y')"
   ]
  },
  {
   "cell_type": "code",
   "execution_count": null,
   "metadata": {},
   "outputs": [],
   "source": []
  }
 ],
 "metadata": {
  "kernelspec": {
   "display_name": "Python [conda env:cubeenv]",
   "language": "python",
   "name": "conda-env-cubeenv-py"
  },
  "language_info": {
   "codemirror_mode": {
    "name": "ipython",
    "version": 3
   },
   "file_extension": ".py",
   "mimetype": "text/x-python",
   "name": "python",
   "nbconvert_exporter": "python",
   "pygments_lexer": "ipython3",
   "version": "3.6.10"
  }
 },
 "nbformat": 4,
 "nbformat_minor": 2
}
