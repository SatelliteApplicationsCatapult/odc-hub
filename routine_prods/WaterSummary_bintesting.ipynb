{
 "cells": [
  {
   "cell_type": "code",
   "execution_count": 1,
   "metadata": {},
   "outputs": [],
   "source": [
    "%matplotlib inline\n",
    "import dask.array\n",
    "import numpy as np\n",
    "import xarray as xr\n",
    "import matplotlib.pyplot as plt"
   ]
  },
  {
   "cell_type": "code",
   "execution_count": 2,
   "metadata": {},
   "outputs": [
    {
     "data": {
      "text/html": [
       "<table style=\"border: 2px solid white;\">\n",
       "<tr>\n",
       "<td style=\"vertical-align: top; border: 0px solid white\">\n",
       "<h3>Client</h3>\n",
       "<ul>\n",
       "  <li><b>Scheduler: </b>tcp://dask-scheduler.dask.svc.cluster.local:8786\n",
       "  <li><b>Dashboard: </b><a href='http://dask-scheduler.dask.svc.cluster.local:8787/status' target='_blank'>http://dask-scheduler.dask.svc.cluster.local:8787/status</a>\n",
       "</ul>\n",
       "</td>\n",
       "<td style=\"vertical-align: top; border: 0px solid white\">\n",
       "<h3>Cluster</h3>\n",
       "<ul>\n",
       "  <li><b>Workers: </b>5</li>\n",
       "  <li><b>Cores: </b>40</li>\n",
       "  <li><b>Memory: </b>168.65 GB</li>\n",
       "</ul>\n",
       "</td>\n",
       "</tr>\n",
       "</table>"
      ],
      "text/plain": [
       "<Client: scheduler='tcp://10.244.4.62:8786' processes=5 cores=40>"
      ]
     },
     "execution_count": 2,
     "metadata": {},
     "output_type": "execute_result"
    }
   ],
   "source": [
    "\n",
    "import dask\n",
    "from dask.distributed import Client\n",
    "client = Client('dask-scheduler.dask.svc.cluster.local:8786')\n",
    "client"
   ]
  },
  {
   "cell_type": "code",
   "execution_count": 3,
   "metadata": {},
   "outputs": [],
   "source": [
    "from datacube import Datacube\n",
    "from datacube.storage.masking import mask_invalid_data\n",
    "\n",
    "dc = Datacube()"
   ]
  },
  {
   "cell_type": "code",
   "execution_count": 4,
   "metadata": {},
   "outputs": [],
   "source": [
    "product = 'ls8_water_classification'\n",
    "measurements = ['water']\n",
    "\n",
    "output_crs = 'EPSG:3460'\n",
    "resolution = (-30, 30)"
   ]
  },
  {
   "cell_type": "code",
   "execution_count": 5,
   "metadata": {},
   "outputs": [],
   "source": [
    "\n",
    "# Sub-region selection - e.g. Viti Levu\n",
    "latitude = (-18.2962, -17.2867)\n",
    "longitude = (177.1594, 178.7222)\n",
    "\n",
    "# Sub-region selection - e.g. Viti Levu's eastern coast\n",
    "#latitude = (-18.0438, -17.5391)\n",
    "#longitude = (178.3315, 178.7222)\n",
    "\n",
    "# Sub-region selection - e.g. the city of Suva\n",
    "#latitude = (-18.2316, -18.0516)\n",
    "#longitude = (178.2819, 178.6019)\n",
    "\n",
    "time_extents = ('2017-01-01', '2019-01-01')"
   ]
  },
  {
   "cell_type": "code",
   "execution_count": 6,
   "metadata": {},
   "outputs": [
    {
     "data": {
      "text/plain": [
       "<xarray.Dataset>\n",
       "Dimensions:  (time: 137, x: 5540, y: 3749)\n",
       "Coordinates:\n",
       "  * time     (time) datetime64[ns] 2017-01-07T22:06:49 ... 2018-12-28T22:06:30\n",
       "  * y        (y) float64 3.968e+06 3.968e+06 3.968e+06 ... 3.856e+06 3.856e+06\n",
       "  * x        (x) float64 1.831e+06 1.831e+06 1.831e+06 ... 1.997e+06 1.997e+06\n",
       "Data variables:\n",
       "    water    (time, y, x) int16 dask.array<shape=(137, 3749, 5540), chunksize=(1, 1000, 1000)>\n",
       "Attributes:\n",
       "    crs:      EPSG:3460"
      ]
     },
     "execution_count": 6,
     "metadata": {},
     "output_type": "execute_result"
    }
   ],
   "source": [
    "\n",
    "water_dataset = dc.load(\n",
    "    product=product,\n",
    "    time=time_extents,\n",
    "    lat=latitude,\n",
    "    lon=longitude,\n",
    "    output_crs=output_crs,\n",
    "    resolution=resolution,\n",
    "    measurements = measurements,\n",
    "    group_by='solar_day',\n",
    "    dask_chunks={\n",
    "        #'time': 1,\n",
    "        'x': 1000,\n",
    "        'y': 1000,\n",
    "    }\n",
    ")\n",
    "water_dataset"
   ]
  },
  {
   "cell_type": "code",
   "execution_count": 7,
   "metadata": {},
   "outputs": [
    {
     "name": "stdout",
     "output_type": "stream",
     "text": [
      "Up to 2.85 billion pixels might be involved\n"
     ]
    }
   ],
   "source": [
    "print(\"Up to {:2.2f} billion pixels might be involved\".format((len(water_dataset.x) * len(water_dataset.y) * len(water_dataset.time)) / 1e9))"
   ]
  },
  {
   "cell_type": "code",
   "execution_count": 8,
   "metadata": {},
   "outputs": [],
   "source": [
    "# Identify pixels with valid data (requires working with native resolution datasets)\n",
    "good_quality = (\n",
    "    (water_dataset.water != -9999) # Exclude \"nodata\" pixels\n",
    ")\n",
    "\n",
    "# Apply mask\n",
    "water_dataset = water_dataset.where(good_quality)"
   ]
  },
  {
   "cell_type": "code",
   "execution_count": 9,
   "metadata": {},
   "outputs": [],
   "source": [
    "mean_dataset = water_dataset.water.mean(dim='time')\n"
   ]
  },
  {
   "cell_type": "code",
   "execution_count": null,
   "metadata": {},
   "outputs": [],
   "source": [
    "%%time\n",
    "mean_dataset = mean_dataset.compute()"
   ]
  },
  {
   "cell_type": "code",
   "execution_count": null,
   "metadata": {},
   "outputs": [],
   "source": [
    "del water_dataset"
   ]
  },
  {
   "cell_type": "code",
   "execution_count": null,
   "metadata": {},
   "outputs": [],
   "source": [
    "fig, ax = plt.subplots(figsize=(100, 100))\n",
    "ax.imshow(mean_dataset)"
   ]
  },
  {
   "cell_type": "code",
   "execution_count": null,
   "metadata": {},
   "outputs": [],
   "source": [
    "client.restart()"
   ]
  },
  {
   "cell_type": "code",
   "execution_count": null,
   "metadata": {},
   "outputs": [],
   "source": []
  }
 ],
 "metadata": {
  "kernelspec": {
   "display_name": "Python [conda env:cubeenv]",
   "language": "python",
   "name": "conda-env-cubeenv-py"
  },
  "language_info": {
   "codemirror_mode": {
    "name": "ipython",
    "version": 3
   },
   "file_extension": ".py",
   "mimetype": "text/x-python",
   "name": "python",
   "nbconvert_exporter": "python",
   "pygments_lexer": "ipython3",
   "version": "3.6.7"
  }
 },
 "nbformat": 4,
 "nbformat_minor": 2
}
