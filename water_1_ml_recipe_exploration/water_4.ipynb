{
 "cells": [
  {
   "cell_type": "markdown",
   "metadata": {},
   "source": [
    "# **Framework for Near-Real Time Sensor-Agnostic Water Classification**\n",
    "\n",
    "A new image is acquired at T1. Landsat (and potentially Sentinel-2) water masks are aggregated from a period of time T0 (T1-3months). Assuming no significant (TBD) change between T0 and T1 in water extent, it should be possible to identify likely change pixels at the boundary of class distributions if sampled across a representative a large enough area (TBD). Omitting such potential change features enables a significant no. training samples at T1 and these may be used to provide water (+ probability) masks at T1 for all clearsky pixels at T1.\n",
    "\n",
    "Assumptions\n",
    "- At least 'somewhat' a complete water mask can be obtained by generating a water summary product for T0\n",
    "- There is a sufficient area of 'clearsky' within the T1 image\n",
    "- Class transitions are on a sufficiently limited scale that either\n",
    "    - (1) they do not need to be omitted and model selection will be robust enough to treat them as outliers, or\n",
    "    - (2) they can be identified as outliers from the major class distributions using skewness/kurtosis\n",
    "- "
   ]
  },
  {
   "cell_type": "code",
   "execution_count": null,
   "metadata": {},
   "outputs": [],
   "source": [
    "!pip install salem"
   ]
  },
  {
   "cell_type": "code",
   "execution_count": null,
   "metadata": {},
   "outputs": [
    {
     "name": "stdout",
     "output_type": "stream",
     "text": [
      "The autoreload extension is already loaded. To reload it, use:\n",
      "  %reload_ext autoreload\n"
     ]
    }
   ],
   "source": [
    "# Magic + imports likely common across all notebooks\n",
    "%load_ext autoreload\n",
    "%autoreload 2\n",
    "%matplotlib inline\n",
    "# Supress Warning \n",
    "import warnings\n",
    "warnings.filterwarnings('ignore')\n",
    "# Set reference for util modules\n",
    "import sys\n",
    "sys.path.append('/home/jovyan/odc-hub/')\n",
    "# Generic python\n",
    "import matplotlib.pyplot as plt\n",
    "import numpy as np\n",
    "import xarray as xr \n",
    "from datetime import datetime\n",
    "from datetime import timedelta\n",
    "import pandas as pd\n",
    "import geopandas as gpd\n",
    "from shapely import wkt\n",
    "import rasterio\n",
    "import rasterio.features\n",
    "import salem\n",
    "\n",
    "# sac-specific\n",
    "from sac_utils.createAOI import create_lat_lon\n",
    "\n",
    "# dc-specific\n",
    "from datacube import Datacube\n",
    "from datacube.storage.masking import mask_invalid_data\n",
    "dc = Datacube()\n",
    "\n",
    "# ml stuff\n",
    "from sklearn.ensemble import RandomForestClassifier\n",
    "\n",
    "import utils_dcal.data_cube_utilities.data_access_api as dc_api\n",
    "api = dc_api.DataAccessApi()\n",
    "\n",
    "# dask stuff\n",
    "import dask.array\n",
    "import dask\n",
    "from dask.distributed import Client\n",
    "client = Client('dask-scheduler.dask.svc.cluster.local:8786')\n",
    "client"
   ]
  },
  {
   "cell_type": "markdown",
   "metadata": {},
   "source": [
    "# **(0) Set consistent params**"
   ]
  },
  {
   "cell_type": "markdown",
   "metadata": {},
   "source": [
    "overall aoi and search criteria to assertain datasets across which to run app"
   ]
  },
  {
   "cell_type": "code",
   "execution_count": 2,
   "metadata": {},
   "outputs": [],
   "source": [
    "# dc.list_measurements()"
   ]
  },
  {
   "cell_type": "code",
   "execution_count": 3,
   "metadata": {},
   "outputs": [
    {
     "data": {
      "text/plain": [
       "((-19.214508611536765, -16.369503321696154),\n",
       " (177.0476310089793, 179.1570060089793))"
      ]
     },
     "execution_count": 3,
     "metadata": {},
     "output_type": "execute_result"
    }
   ],
   "source": [
    "viti_levu = \"POLYGON((177.47747109686992 -17.376103328077992,178.74364541327617 -17.376103328077992,178.74364541327617 -18.317280451285484,177.47747109686992 -18.317280451285484,177.47747109686992 -17.376103328077992))\"\n",
    "suva = \"POLYGON((178.38384316718242 -18.090287234637962,178.49645303046367 -18.090287234637962,178.49645303046367 -18.181641888359497,178.38384316718242 -18.181641888359497,178.38384316718242 -18.090287234637962))\"\n",
    "left = \"POLYGON((177.0476310089793 -16.369503321696154,179.1570060089793 -16.369503321696154,179.1570060089793 -19.214508611536765,177.0476310089793 -19.214508611536765,177.0476310089793 -16.369503321696154))\"\n",
    "overall_aoi_wkt = left\n",
    "overall_aoi_gdf = pd.DataFrame({'geometry':[overall_aoi_wkt]})\n",
    "overall_aoi_gdf['geometry'] = overall_aoi_gdf['geometry'].apply(wkt.loads)\n",
    "overall_aoi_gdf['aoi'] = 'aoi'\n",
    "overall_aoi_gdf = gpd.GeoDataFrame(overall_aoi_gdf, geometry='geometry', crs={\"init\": \"epsg:4326\"}) # using {init} important\n",
    "latitude, longitude = create_lat_lon(overall_aoi_wkt)\n",
    "\n",
    "product = \"s2_esa_sr_granule\"\n",
    "measurements = [\"green\",\"red\",\"blue\",\"nir\",\"swir1\",\"swir2\", \"pixel_qa\"]\n",
    "\n",
    "latitude, longitude"
   ]
  },
  {
   "cell_type": "markdown",
   "metadata": {},
   "source": [
    "**find datasets** - *note*: lat lon returns all anti-meridian scenes at that longitude, so need additional filtering here"
   ]
  },
  {
   "cell_type": "code",
   "execution_count": 4,
   "metadata": {},
   "outputs": [
    {
     "data": {
      "text/plain": [
       "(1504,)"
      ]
     },
     "execution_count": 4,
     "metadata": {},
     "output_type": "execute_result"
    }
   ],
   "source": [
    "ds = dc.find_datasets(\n",
    "    product=product,\n",
    "    lat=latitude,\n",
    "    lon=longitude,\n",
    "#     measurements = measurements,\n",
    ") \n",
    "len(ds), # vars(ds[0])"
   ]
  },
  {
   "cell_type": "markdown",
   "metadata": {},
   "source": [
    "get **ds footprints & dates** - *note*: ds.extent.wkt doesn't play nice so use yml metadata as already in 4326 wkt"
   ]
  },
  {
   "cell_type": "code",
   "execution_count": 5,
   "metadata": {},
   "outputs": [
    {
     "data": {
      "text/html": [
       "<div>\n",
       "<style scoped>\n",
       "    .dataframe tbody tr th:only-of-type {\n",
       "        vertical-align: middle;\n",
       "    }\n",
       "\n",
       "    .dataframe tbody tr th {\n",
       "        vertical-align: top;\n",
       "    }\n",
       "\n",
       "    .dataframe thead th {\n",
       "        text-align: right;\n",
       "    }\n",
       "</style>\n",
       "<table border=\"1\" class=\"dataframe\">\n",
       "  <thead>\n",
       "    <tr style=\"text-align: right;\">\n",
       "      <th></th>\n",
       "      <th>Date</th>\n",
       "      <th>xmin</th>\n",
       "      <th>xmax</th>\n",
       "      <th>ymin</th>\n",
       "      <th>ymax</th>\n",
       "      <th>id</th>\n",
       "      <th>all_meta</th>\n",
       "      <th>geometry</th>\n",
       "      <th>des</th>\n",
       "    </tr>\n",
       "  </thead>\n",
       "  <tbody>\n",
       "    <tr>\n",
       "      <th>246</th>\n",
       "      <td>2019-11-20 22:19:41</td>\n",
       "      <td>178.871208</td>\n",
       "      <td>179.912981</td>\n",
       "      <td>-17.264590</td>\n",
       "      <td>-16.260991</td>\n",
       "      <td>9ca139f3-447a-57f5-a926-d5d5e883c21c</td>\n",
       "      <td>Dataset &lt;id=9ca139f3-447a-57f5-a926-d5d5e883c2...</td>\n",
       "      <td>POLYGON ((178.8712080102933 -17.26458962887194...</td>\n",
       "      <td>True</td>\n",
       "    </tr>\n",
       "    <tr>\n",
       "      <th>245</th>\n",
       "      <td>2019-11-20 22:19:41</td>\n",
       "      <td>178.880040</td>\n",
       "      <td>179.927585</td>\n",
       "      <td>-18.167626</td>\n",
       "      <td>-17.163442</td>\n",
       "      <td>da9f2c84-67a4-5b2a-ba4f-b392627c9162</td>\n",
       "      <td>Dataset &lt;id=da9f2c84-67a4-5b2a-ba4f-b392627c91...</td>\n",
       "      <td>POLYGON ((178.8800402421058 -18.16762619603008...</td>\n",
       "      <td>True</td>\n",
       "    </tr>\n",
       "  </tbody>\n",
       "</table>\n",
       "</div>"
      ],
      "text/plain": [
       "                   Date        xmin        xmax       ymin       ymax  \\\n",
       "246 2019-11-20 22:19:41  178.871208  179.912981 -17.264590 -16.260991   \n",
       "245 2019-11-20 22:19:41  178.880040  179.927585 -18.167626 -17.163442   \n",
       "\n",
       "                                       id  \\\n",
       "246  9ca139f3-447a-57f5-a926-d5d5e883c21c   \n",
       "245  da9f2c84-67a4-5b2a-ba4f-b392627c9162   \n",
       "\n",
       "                                              all_meta  \\\n",
       "246  Dataset <id=9ca139f3-447a-57f5-a926-d5d5e883c2...   \n",
       "245  Dataset <id=da9f2c84-67a4-5b2a-ba4f-b392627c91...   \n",
       "\n",
       "                                              geometry   des  \n",
       "246  POLYGON ((178.8712080102933 -17.26458962887194...  True  \n",
       "245  POLYGON ((178.8800402421058 -18.16762619603008...  True  "
      ]
     },
     "execution_count": 5,
     "metadata": {},
     "output_type": "execute_result"
    },
    {
     "data": {
      "image/png": "[encoded data removed]",
      "text/plain": [
       "<Figure size 432x288 with 1 Axes>"
      ]
     },
     "metadata": {
      "needs_background": "light"
     },
     "output_type": "display_data"
    }
   ],
   "source": [
    "def parsemetaparams(df):\n",
    "    g = []\n",
    "    for index, row in df.iterrows():\n",
    "        g.append(f\"Polygon(({row.xmin} {row.ymin}, {row.xmax} {row.ymin}, {row.xmax} {row.ymax}, {row.xmin} {row.ymax}, {row.xmin} {row.ymin}))\")\n",
    "    df['geometry'] = g\n",
    "    return df\n",
    "df=pd.DataFrame({\n",
    "    'Date': [i.metadata.time[0] for i in ds],\n",
    "    'xmin': [i.metadata.lon[0] for i in ds],\n",
    "    'xmax': [i.metadata.lon[1] for i in ds],\n",
    "    'ymin': [i.metadata.lat[0] for i in ds],\n",
    "    'ymax': [i.metadata.lat[1] for i in ds],\n",
    "    'id': [i.metadata.id for i in ds],\n",
    "    'all_meta': [i for i in ds]\n",
    "})\n",
    "df = parsemetaparams(df)\n",
    "df['geometry'] = df['geometry'].apply(wkt.loads)\n",
    "gdf = gpd.GeoDataFrame(df, geometry='geometry', crs=({\"init\":\"epsg:4326\"}))\n",
    "# repro and intersect to omit potemtial am scenes\n",
    "a = overall_aoi_gdf.to_crs({\"init\": \"epsg:3460\"}) # speed intersect up by repro-ing aoi first\n",
    "gdf['des'] = gdf.to_crs({\"init\": \"epsg:3460\"}).geometry.map(lambda x: x.intersects(a.geometry.any())) # repro and test intersect\n",
    "gdf = gdf[gdf['des']==True] # subset\n",
    "gdf = gdf.sort_values(by=['Date'], ascending=False)\n",
    "\n",
    "# check expected footprints etc.\n",
    "fig, ax = plt.subplots()\n",
    "gdf.to_crs({\"init\": \"epsg:3460\"}).plot(facecolor=\"\",edgecolor=\"b\", ax=ax);\n",
    "overall_aoi_gdf.to_crs({\"init\": \"epsg:3460\"}).plot(facecolor=\"\",edgecolor=\"r\", ax=ax);\n",
    "gdf.head(2)"
   ]
  },
  {
   "cell_type": "markdown",
   "metadata": {},
   "source": [
    "create jobs off **grouped mosaic** datasets & determine **outer extent**"
   ]
  },
  {
   "cell_type": "code",
   "execution_count": 8,
   "metadata": {},
   "outputs": [
    {
     "data": {
      "text/plain": [
       "160"
      ]
     },
     "execution_count": 8,
     "metadata": {},
     "output_type": "execute_result"
    }
   ],
   "source": [
    "# grab individual acq days\n",
    "gdf['Day'] = [pd.to_datetime(i).date() for i in gdf.Date.values]\n",
    "acq_days = np.sort(np.unique(gdf.Day.values))\n",
    "len(acq_days)"
   ]
  },
  {
   "cell_type": "code",
   "execution_count": null,
   "metadata": {},
   "outputs": [],
   "source": [
    "# # explore available groups\n",
    "# for d in acq_days[:]:\n",
    "#     gr = gdf[gdf['Day'] == d]\n",
    "#     fig, ax = plt.subplots()\n",
    "#     overall_aoi_gdf.to_crs({\"init\": \"epsg:3460\"}).plot(ax=ax, facecolor='', edgecolor='r')\n",
    "#     gr.to_crs({\"init\": \"epsg:3460\"}).plot(ax=ax, facecolor='', edgecolor='b')\n",
    "#     ax.set_title(f\"Date: {d}\")"
   ]
  },
  {
   "cell_type": "code",
   "execution_count": null,
   "metadata": {},
   "outputs": [],
   "source": [
    "# select test day\n",
    "d = acq_days[22]\n",
    "scenes = gdf[gdf.Day==d]\n",
    "d"
   ]
  },
  {
   "cell_type": "code",
   "execution_count": 9,
   "metadata": {},
   "outputs": [],
   "source": [
    "n = 15"
   ]
  },
  {
   "cell_type": "code",
   "execution_count": 12,
   "metadata": {},
   "outputs": [
    {
     "name": "stdout",
     "output_type": "stream",
     "text": [
      "(-17.27119367437816, -16.27172610547512) (177.9359264529424, 178.9734609915334)\n",
      "('2019-11-18', '2019-11-18') ('2019-08-19', '2019-11-17')\n",
      "swir1\n"
     ]
    }
   ],
   "source": [
    "# buffer\n",
    "buffer_path = './FijiCoastalBuffer_shp.shp'\n",
    "# original scene meta for yaml + export later\n",
    "# original_metadata = gdf.iloc[[n]]['all_meta'].values[0]\n",
    "# format acquistion date of image being classified\n",
    "# T = pd.to_datetime(d).date()\n",
    "T = pd.to_datetime(gdf.iloc[[n]].Day.values[0]).date()\n",
    "# add a day on to satisfy dc.load time range req\n",
    "T1 = (str(T), str(pd.to_datetime(T +pd.DateOffset(0)).date())) # no off-set for now\n",
    "# create T0 range of 90 days prior to acquisition\n",
    "T0 = (str(pd.to_datetime(T + pd.DateOffset(-91)).date()), str(pd.to_datetime(T + pd.DateOffset(-1)).date()))\n",
    "# lat and lon taken from image metadate\n",
    "latitude, longitude = create_lat_lon(str(gdf.iloc[[n]].geometry.values[0]))\n",
    "# b = scenes.total_bounds\n",
    "# latitude, longitude = (b[1],b[3]),(b[0],b[2])\n",
    "# hopefully fiji crs avoids major AM issues\n",
    "output_crs = \"EPSG:32760\"\n",
    "resolution = (-10,10)\n",
    "ref_channel = 'swir1'\n",
    "\n",
    "T1_prod = \"s2_esa_sr_granule\"\n",
    "T1_measurements = [\"green\",\"red\",\"blue\",\"nir\",\"swir1\",\"swir2\", \"scene_classification\"]\n",
    "T1_vars = ['green','red','blue','nir','swir1','swir2']\n",
    "\n",
    "print(latitude, longitude)\n",
    "print(T1, T0)\n",
    "print(ref_channel)"
   ]
  },
  {
   "cell_type": "markdown",
   "metadata": {},
   "source": [
    "# **(1) create T0 water mask (T1-3months)**"
   ]
  },
  {
   "cell_type": "markdown",
   "metadata": {},
   "source": [
    "**load T0 water masks**"
   ]
  },
  {
   "cell_type": "code",
   "execution_count": 13,
   "metadata": {},
   "outputs": [
    {
     "data": {
      "text/plain": [
       "<xarray.Dataset>\n",
       "Dimensions:  (time: 6, x: 11142, y: 11141)\n",
       "Coordinates:\n",
       "  * time     (time) datetime64[ns] 2019-08-25T22:06:24 ... 2019-09-10T22:06:52\n",
       "  * y        (y) float64 8.201e+06 8.201e+06 8.201e+06 ... 8.089e+06 8.089e+06\n",
       "  * x        (x) float64 5.995e+05 5.995e+05 5.995e+05 ... 7.109e+05 7.109e+05\n",
       "Data variables:\n",
       "    water    (time, y, x) int16 dask.array<shape=(6, 11141, 11142), chunksize=(1, 1000, 1000)>\n",
       "Attributes:\n",
       "    crs:      EPSG:32760"
      ]
     },
     "execution_count": 13,
     "metadata": {},
     "output_type": "execute_result"
    }
   ],
   "source": [
    "product = 'ls8_water_classification'\n",
    "measurements = ['water']\n",
    "\n",
    "water_dataset = dc.load(\n",
    "    product=product,\n",
    "    time=T0, # quarter prior to T1 \n",
    "    lat=latitude,\n",
    "    lon=longitude,\n",
    "    output_crs=output_crs,\n",
    "    resolution=resolution,\n",
    "    measurements = measurements,\n",
    "    group_by='solar_day',\n",
    "    dask_chunks={\n",
    "        #'time': 1,\n",
    "        'x': 1000,\n",
    "        'y': 1000,\n",
    "    }\n",
    ")\n",
    "water_dataset"
   ]
  },
  {
   "cell_type": "markdown",
   "metadata": {},
   "source": [
    "fully **remove nodata** pixels (can't just use ==-9999 due to potential nn averaging within dc.load() at res <native"
   ]
  },
  {
   "cell_type": "code",
   "execution_count": 14,
   "metadata": {},
   "outputs": [],
   "source": [
    "# Identify pixels with valid data\n",
    "good_quality = (\n",
    "    (water_dataset.water >= 0) # no data\n",
    ")\n",
    "# Apply mask\n",
    "water_dataset = water_dataset.where(good_quality)"
   ]
  },
  {
   "cell_type": "code",
   "execution_count": 15,
   "metadata": {},
   "outputs": [
    {
     "data": {
      "text/plain": [
       "5.958563368"
      ]
     },
     "execution_count": 15,
     "metadata": {},
     "output_type": "execute_result"
    }
   ],
   "source": [
    "water_dataset.nbytes/1000000000"
   ]
  },
  {
   "cell_type": "code",
   "execution_count": 16,
   "metadata": {},
   "outputs": [],
   "source": [
    "shdf = salem.read_shapefile(buffer_path)"
   ]
  },
  {
   "cell_type": "code",
   "execution_count": 17,
   "metadata": {},
   "outputs": [],
   "source": [
    "water_dataset.attrs['pyproj_srs'] = str(water_dataset.attrs['crs'])"
   ]
  },
  {
   "cell_type": "code",
   "execution_count": 18,
   "metadata": {},
   "outputs": [],
   "source": [
    "water_dataset = water_dataset.salem.roi(shape=shdf, other=1)"
   ]
  },
  {
   "cell_type": "code",
   "execution_count": 19,
   "metadata": {},
   "outputs": [
    {
     "data": {
      "text/plain": [
       "5.958563368"
      ]
     },
     "execution_count": 19,
     "metadata": {},
     "output_type": "execute_result"
    }
   ],
   "source": [
    "water_dataset.nbytes/1000000000"
   ]
  },
  {
   "cell_type": "markdown",
   "metadata": {},
   "source": [
    "**define dask computation** of water summary product"
   ]
  },
  {
   "cell_type": "code",
   "execution_count": 20,
   "metadata": {},
   "outputs": [],
   "source": [
    "mean_dataset = water_dataset.water.mean(dim='time')"
   ]
  },
  {
   "cell_type": "code",
   "execution_count": 21,
   "metadata": {},
   "outputs": [
    {
     "data": {
      "text/plain": [
       "0.993064176"
      ]
     },
     "execution_count": 21,
     "metadata": {},
     "output_type": "execute_result"
    }
   ],
   "source": [
    "mean_dataset.nbytes/1000000000"
   ]
  },
  {
   "cell_type": "markdown",
   "metadata": {},
   "source": [
    "**apply computation** to water masks dataset & plot"
   ]
  },
  {
   "cell_type": "code",
   "execution_count": 22,
   "metadata": {},
   "outputs": [
    {
     "name": "stdout",
     "output_type": "stream",
     "text": [
      "CPU times: user 2.61 s, sys: 2.82 s, total: 5.43 s\n",
      "Wall time: 46.3 s\n"
     ]
    }
   ],
   "source": [
    "%%time\n",
    "mean_dataset = mean_dataset.compute()"
   ]
  },
  {
   "cell_type": "markdown",
   "metadata": {},
   "source": [
    "mask to obvious **ocean buffer**"
   ]
  },
  {
   "cell_type": "code",
   "execution_count": null,
   "metadata": {},
   "outputs": [],
   "source": []
  },
  {
   "cell_type": "code",
   "execution_count": null,
   "metadata": {},
   "outputs": [],
   "source": []
  },
  {
   "cell_type": "code",
   "execution_count": null,
   "metadata": {},
   "outputs": [],
   "source": [
    "water_dataset['mean_dataset'] = (('y','x'), mean_dataset)\n",
    "water_dataset = water_dataset[['mean_dataset']]\n",
    "mean_dataset = None"
   ]
  },
  {
   "cell_type": "code",
   "execution_count": null,
   "metadata": {},
   "outputs": [],
   "source": [
    "shdf = salem.read_shapefile(buffer_path)"
   ]
  },
  {
   "cell_type": "code",
   "execution_count": null,
   "metadata": {},
   "outputs": [],
   "source": [
    "water_dataset.attrs['pyproj_srs'] = str(water_dataset.attrs['crs'])"
   ]
  },
  {
   "cell_type": "code",
   "execution_count": null,
   "metadata": {},
   "outputs": [],
   "source": [
    "water_dataset = water_dataset.salem.roi(shape=shdf, other=1)\n",
    "mean_dataset = water_dataset.mean_dataset\n",
    "water_dataset = None"
   ]
  },
  {
   "cell_type": "code",
   "execution_count": null,
   "metadata": {},
   "outputs": [],
   "source": []
  },
  {
   "cell_type": "code",
   "execution_count": 23,
   "metadata": {},
   "outputs": [
    {
     "name": "stdout",
     "output_type": "stream",
     "text": [
      "CPU times: user 1.72 s, sys: 1.52 s, total: 3.25 s\n",
      "Wall time: 3.24 s\n"
     ]
    },
    {
     "data": {
      "image/png": "[encoded data removed]",
      "text/plain": [
       "<Figure size 3600x3600 with 1 Axes>"
      ]
     },
     "metadata": {
      "needs_background": "light"
     },
     "output_type": "display_data"
    }
   ],
   "source": [
    "%%time\n",
    "fig, ax = plt.subplots(figsize=(50,50))\n",
    "ax.imshow(mean_dataset)"
   ]
  },
  {
   "cell_type": "code",
   "execution_count": 24,
   "metadata": {},
   "outputs": [
    {
     "data": {
      "text/html": [
       "<table style=\"border: 2px solid white;\">\n",
       "<tr>\n",
       "<td style=\"vertical-align: top; border: 0px solid white\">\n",
       "<h3>Client</h3>\n",
       "<ul>\n",
       "  <li><b>Scheduler: </b>tcp://dask-scheduler.dask.svc.cluster.local:8786\n",
       "  <li><b>Dashboard: </b><a href='http://dask-scheduler.dask.svc.cluster.local:8787/status' target='_blank'>http://dask-scheduler.dask.svc.cluster.local:8787/status</a>\n",
       "</ul>\n",
       "</td>\n",
       "<td style=\"vertical-align: top; border: 0px solid white\">\n",
       "<h3>Cluster</h3>\n",
       "<ul>\n",
       "  <li><b>Workers: </b>7</li>\n",
       "  <li><b>Cores: </b>56</li>\n",
       "  <li><b>Memory: </b>236.12 GB</li>\n",
       "</ul>\n",
       "</td>\n",
       "</tr>\n",
       "</table>"
      ],
      "text/plain": [
       "<Client: scheduler='tcp://10.244.7.69:8786' processes=7 cores=56>"
      ]
     },
     "execution_count": 24,
     "metadata": {},
     "output_type": "execute_result"
    }
   ],
   "source": [
    "# del water_dataset\n",
    "client.restart()"
   ]
  },
  {
   "cell_type": "markdown",
   "metadata": {},
   "source": [
    "**create binary water mask** based on summary product (based off likelihood of being persistent water bodies)"
   ]
  },
  {
   "cell_type": "code",
   "execution_count": 25,
   "metadata": {},
   "outputs": [
    {
     "name": "stdout",
     "output_type": "stream",
     "text": [
      "CPU times: user 1.62 s, sys: 1.37 s, total: 2.99 s\n",
      "Wall time: 3 s\n"
     ]
    }
   ],
   "source": [
    "%%time\n",
    "waterpres_prob = 0.5\n",
    "T0_nd_water = np.isnan(mean_dataset)\n",
    "T0_water = mean_dataset.where((mean_dataset < waterpres_prob) | (T0_nd_water == True), 1) # fix > prob to water\n",
    "T0_water = T0_water.where((T0_water >= waterpres_prob) | (T0_nd_water == True), 0) # fix < prob to no water "
   ]
  },
  {
   "cell_type": "code",
   "execution_count": 28,
   "metadata": {},
   "outputs": [],
   "source": [
    "mean_dataset = None"
   ]
  },
  {
   "cell_type": "code",
   "execution_count": 26,
   "metadata": {},
   "outputs": [
    {
     "data": {
      "text/plain": [
       "<matplotlib.image.AxesImage at 0x7f1551ee1cf8>"
      ]
     },
     "execution_count": 26,
     "metadata": {},
     "output_type": "execute_result"
    },
    {
     "data": {
      "image/png": "[encoded data removed]",
      "text/plain": [
       "<Figure size 3600x3600 with 1 Axes>"
      ]
     },
     "metadata": {
      "needs_background": "light"
     },
     "output_type": "display_data"
    }
   ],
   "source": [
    "fig, ax = plt.subplots(figsize=(50,50))\n",
    "ax.imshow(T0_water)"
   ]
  },
  {
   "cell_type": "markdown",
   "metadata": {},
   "source": [
    "# **(2) load T1 image**"
   ]
  },
  {
   "cell_type": "markdown",
   "metadata": {},
   "source": [
    "**load** l8"
   ]
  },
  {
   "cell_type": "code",
   "execution_count": 57,
   "metadata": {},
   "outputs": [
    {
     "data": {
      "text/plain": [
       "<xarray.Dataset>\n",
       "Dimensions:               (time: 1, x: 11142, y: 11141)\n",
       "Coordinates:\n",
       "  * time                  (time) datetime64[ns] 2019-11-18T22:30:09\n",
       "  * y                     (y) float64 8.201e+06 8.201e+06 ... 8.089e+06\n",
       "  * x                     (x) float64 5.995e+05 5.995e+05 ... 7.109e+05\n",
       "Data variables:\n",
       "    green                 (time, y, x) uint16 dask.array<shape=(1, 11141, 11142), chunksize=(1, 1000, 1000)>\n",
       "    red                   (time, y, x) uint16 dask.array<shape=(1, 11141, 11142), chunksize=(1, 1000, 1000)>\n",
       "    blue                  (time, y, x) uint16 dask.array<shape=(1, 11141, 11142), chunksize=(1, 1000, 1000)>\n",
       "    nir                   (time, y, x) uint16 dask.array<shape=(1, 11141, 11142), chunksize=(1, 1000, 1000)>\n",
       "    swir1                 (time, y, x) uint16 dask.array<shape=(1, 11141, 11142), chunksize=(1, 1000, 1000)>\n",
       "    swir2                 (time, y, x) uint16 dask.array<shape=(1, 11141, 11142), chunksize=(1, 1000, 1000)>\n",
       "    scene_classification  (time, y, x) uint8 dask.array<shape=(1, 11141, 11142), chunksize=(1, 1000, 1000)>\n",
       "Attributes:\n",
       "    crs:      EPSG:32760"
      ]
     },
     "execution_count": 57,
     "metadata": {},
     "output_type": "execute_result"
    }
   ],
   "source": [
    "product = T1_prod\n",
    "measurements = T1_measurements\n",
    "\n",
    "T1_dataset = dc.load(\n",
    "    product=product,\n",
    "    time=T1, # \n",
    "    lat=latitude,\n",
    "    lon=longitude,\n",
    "    output_crs=output_crs,\n",
    "    resolution=resolution,\n",
    "    measurements = T1_measurements,\n",
    "    group_by='solar_day',\n",
    "    dask_chunks={\n",
    "        #'time': 1,\n",
    "        'x': 1000,\n",
    "        'y': 1000,\n",
    "    }\n",
    ")\n",
    "T1_dataset"
   ]
  },
  {
   "cell_type": "markdown",
   "metadata": {},
   "source": [
    "apply **clearsky mask** to image"
   ]
  },
  {
   "cell_type": "code",
   "execution_count": 58,
   "metadata": {},
   "outputs": [],
   "source": [
    "# Identify pixels with valid data\n",
    "if 'usgs' in product:\n",
    "    good_quality = (\n",
    "        (T1_dataset.pixel_qa == 322)  | # clear\n",
    "        (T1_dataset.pixel_qa == 386)  |\n",
    "        (T1_dataset.pixel_qa == 834)  |\n",
    "        (T1_dataset.pixel_qa == 898)  |\n",
    "        (T1_dataset.pixel_qa == 1346) |\n",
    "        (T1_dataset.pixel_qa == 324)  | # water\n",
    "        (T1_dataset.pixel_qa == 388)  |\n",
    "        (T1_dataset.pixel_qa == 836)  |\n",
    "        (T1_dataset.pixel_qa == 900)  |\n",
    "        (T1_dataset.pixel_qa == 1348)\n",
    "    )\n",
    "elif 's2_esa' in product:\n",
    "    good_quality = (\n",
    "    (T1_dataset.scene_classification != 0) & # mask out NO_DATA\n",
    "    (T1_dataset.scene_classification != 1) & # mask out SATURATED_OR_DEFECTIVE\n",
    "    (T1_dataset.scene_classification != 2) & # mask out DARK_AREA_PIXELS\n",
    "    (T1_dataset.scene_classification != 3) & # mask out CLOUD_SHADOWS\n",
    "    (T1_dataset.scene_classification != 8) & # mask out CLOUD_MEDIUM_PROBABILITY\n",
    "    (T1_dataset.scene_classification != 9) & # mask out CLOUD_HIGH_PROBABILITY\n",
    "    (T1_dataset.scene_classification != 10)&  # mask out THIN_CIRRUS\n",
    "    (T1_dataset.scene_classification != 11)  # mask out SNOW\n",
    ")\n",
    "else:\n",
    "    print('nope')\n",
    "\n",
    "# Apply mask\n",
    "T1_dataset = T1_dataset.where(good_quality)"
   ]
  },
  {
   "cell_type": "code",
   "execution_count": 59,
   "metadata": {},
   "outputs": [],
   "source": [
    "shdf = salem.read_shapefile(buffer_path)"
   ]
  },
  {
   "cell_type": "code",
   "execution_count": 62,
   "metadata": {},
   "outputs": [],
   "source": [
    "T1_dataset.attrs['pyproj_srs'] = str(T1_dataset.attrs['crs'])"
   ]
  },
  {
   "cell_type": "code",
   "execution_count": 67,
   "metadata": {},
   "outputs": [],
   "source": [
    "T1_dataset = T1_dataset.salem.roi(shape=shdf, other=np.nan)\n",
    "# T1_dataset = T1_dataset.where(T1_dataset!=0).astype(np.uint16)"
   ]
  },
  {
   "cell_type": "code",
   "execution_count": 68,
   "metadata": {},
   "outputs": [
    {
     "data": {
      "text/plain": [
       "<xarray.Dataset>\n",
       "Dimensions:               (time: 1, x: 11142, y: 11141)\n",
       "Coordinates:\n",
       "  * time                  (time) datetime64[ns] 2019-11-18T22:30:09\n",
       "  * y                     (y) float64 8.201e+06 8.201e+06 ... 8.089e+06\n",
       "  * x                     (x) float64 5.995e+05 5.995e+05 ... 7.109e+05\n",
       "Data variables:\n",
       "    green                 (time, y, x) float64 dask.array<shape=(1, 11141, 11142), chunksize=(1, 1000, 1000)>\n",
       "    red                   (time, y, x) float64 dask.array<shape=(1, 11141, 11142), chunksize=(1, 1000, 1000)>\n",
       "    blue                  (time, y, x) float64 dask.array<shape=(1, 11141, 11142), chunksize=(1, 1000, 1000)>\n",
       "    nir                   (time, y, x) float64 dask.array<shape=(1, 11141, 11142), chunksize=(1, 1000, 1000)>\n",
       "    swir1                 (time, y, x) float64 dask.array<shape=(1, 11141, 11142), chunksize=(1, 1000, 1000)>\n",
       "    swir2                 (time, y, x) float64 dask.array<shape=(1, 11141, 11142), chunksize=(1, 1000, 1000)>\n",
       "    scene_classification  (time, y, x) float64 dask.array<shape=(1, 11141, 11142), chunksize=(1, 1000, 1000)>\n",
       "Attributes:\n",
       "    crs:         EPSG:32760\n",
       "    pyproj_srs:  +proj=utm +zone=60 +south +datum=WGS84 +units=m +no_defs"
      ]
     },
     "execution_count": 68,
     "metadata": {},
     "output_type": "execute_result"
    }
   ],
   "source": [
    "T1_dataset"
   ]
  },
  {
   "cell_type": "markdown",
   "metadata": {},
   "source": [
    "**isolate image**"
   ]
  },
  {
   "cell_type": "code",
   "execution_count": 69,
   "metadata": {},
   "outputs": [],
   "source": [
    "T1_img = T1_dataset.isel(time = 0)"
   ]
  },
  {
   "cell_type": "code",
   "execution_count": 70,
   "metadata": {},
   "outputs": [
    {
     "name": "stdout",
     "output_type": "stream",
     "text": [
      "CPU times: user 3.87 s, sys: 4.52 s, total: 8.39 s\n",
      "Wall time: 23.6 s\n"
     ]
    },
    {
     "data": {
      "image/png": "[encoded data removed]",
      "text/plain": [
       "<Figure size 3600x3600 with 1 Axes>"
      ]
     },
     "metadata": {
      "needs_background": "light"
     },
     "output_type": "display_data"
    }
   ],
   "source": [
    "%%time\n",
    "fig, ax = plt.subplots(figsize=(50,50))\n",
    "ax.imshow(T1_img[ref_channel])"
   ]
  },
  {
   "cell_type": "markdown",
   "metadata": {},
   "source": [
    "# **(#) Load T1 Water Mask** for validation"
   ]
  },
  {
   "cell_type": "markdown",
   "metadata": {},
   "source": [
    "**load T1 water mask** for validation"
   ]
  },
  {
   "cell_type": "code",
   "execution_count": 71,
   "metadata": {},
   "outputs": [],
   "source": [
    "# product = 'ls8_water_classification'\n",
    "# measurements = ['water']\n",
    "\n",
    "# water_dataset = dc.load(\n",
    "#     product=product,\n",
    "#     time=T1, \n",
    "#     lat=latitude,\n",
    "#     lon=longitude,\n",
    "#     output_crs=output_crs,\n",
    "#     resolution=resolution,\n",
    "#     measurements = measurements,\n",
    "#     group_by='solar_day',\n",
    "#     dask_chunks={\n",
    "#         #'time': 1,\n",
    "#         'x': 1000,\n",
    "#         'y': 1000,\n",
    "#     }\n",
    "# )\n",
    "# water_dataset"
   ]
  },
  {
   "cell_type": "markdown",
   "metadata": {},
   "source": [
    "fully remove nodata pixels (can't just use ==-9999 due to potential nn averaging within dc.load() at res <native"
   ]
  },
  {
   "cell_type": "code",
   "execution_count": 72,
   "metadata": {},
   "outputs": [],
   "source": [
    "# # Identify pixels with valid data\n",
    "# good_quality = (\n",
    "#     (water_dataset.water >= 0) # no data\n",
    "# )\n",
    "# # Apply mask\n",
    "# water_dataset = water_dataset.where(good_quality)\n",
    "\n",
    "# T1_water = water_dataset.isel(time = 0).water\n",
    "# fig, ax = plt.subplots(figsize=(50,50))\n",
    "# # T1_img[ref_channel].plot(ax=ax)\n",
    "# ax.imshow(T1_water)"
   ]
  },
  {
   "cell_type": "markdown",
   "metadata": {},
   "source": [
    "# **(3) Data fusion prep**"
   ]
  },
  {
   "cell_type": "markdown",
   "metadata": {},
   "source": [
    "Training (class exploration + training):\n",
    "- create outside merge nodata mask\n",
    "- apply outside merge nodata mask\n",
    "- numpify xr dataset(arrays)\n",
    "- flatten\n",
    "- remove nodata (can't be sparse for training)\n",
    "- transpose\n",
    "\n",
    "Inference\n",
    "- [create outside merge, if validating]\n",
    "- [apply no data mask]\n",
    "- numpify\n",
    "- flatten\n",
    "- [1] remove nodata for accurate validation\n",
    "- [2] replace nodata to maintain positioning"
   ]
  },
  {
   "cell_type": "markdown",
   "metadata": {},
   "source": [
    "## (3A) Training prep"
   ]
  },
  {
   "cell_type": "markdown",
   "metadata": {},
   "source": [
    "**create outside merge of nodata** - T1 img + T0 water mask"
   ]
  },
  {
   "cell_type": "code",
   "execution_count": 73,
   "metadata": {},
   "outputs": [
    {
     "name": "stdout",
     "output_type": "stream",
     "text": [
      "CPU times: user 5.35 s, sys: 0 ns, total: 5.35 s\n",
      "Wall time: 5.35 s\n"
     ]
    }
   ],
   "source": [
    "%%time\n",
    "# create mask\n",
    "T0_nd_img = np.isnan(T1_img)[ref_channel]\n",
    "T0_nd = T0_nd_water.where((T0_nd_img == False),True)\n",
    "\n",
    "# apply mask\n",
    "Ytrain = T0_water.where((T0_nd == False))\n",
    "Xtrain = T1_img.where((T0_nd == False))\n",
    "\n",
    "# fig, ax = plt.subplots(figsize=(50,50))\n",
    "# ax.imshow(Ytrain)\n",
    "# fig, ax = plt.subplots(figsize=(50,50))\n",
    "# # ax.imshow(Xtrain.where(Xtrain[ref_channel]>0)[ref_channel])\n",
    "# ax.imshow(Xtrain[ref_channel])"
   ]
  },
  {
   "cell_type": "markdown",
   "metadata": {},
   "source": [
    "**numpify** T1 image data"
   ]
  },
  {
   "cell_type": "code",
   "execution_count": 74,
   "metadata": {},
   "outputs": [
    {
     "name": "stdout",
     "output_type": "stream",
     "text": [
      "0 green\n",
      "1 red\n",
      "2 blue\n",
      "3 nir\n",
      "4 swir1\n",
      "5 swir2\n",
      "6 scene_classification\n",
      "CPU times: user 31.6 s, sys: 25.6 s, total: 57.2 s\n",
      "Wall time: 3min 6s\n"
     ]
    }
   ],
   "source": [
    "%%time\n",
    "des_vars = T1_vars\n",
    "\n",
    "lenx, leny = np.shape(Xtrain[ref_channel]) # dims of each raster\n",
    "dsvals = np.zeros([len(des_vars),lenx, leny]) #set up array based on shape of xr and no. des bands\n",
    "\n",
    "for i, m in zip(np.arange(0,len(Xtrain.data_vars),1), Xtrain.variables): # loop through bands in xr\n",
    "    print(i, m)\n",
    "    if m in des_vars: # only want relevant channels\n",
    "        vals = np.array(Xtrain[m].values) # extract only the reflectance values\n",
    "        dsvals[i,:,:] = vals # append to 'master' ND array\n",
    "# plt.imshow(dsvals[0,:,:])"
   ]
  },
  {
   "cell_type": "markdown",
   "metadata": {},
   "source": [
    "**re-shape**/flatten T1 data + T0 labels"
   ]
  },
  {
   "cell_type": "code",
   "execution_count": 75,
   "metadata": {},
   "outputs": [
    {
     "data": {
      "text/plain": [
       "((6, 124133022), (124133022,))"
      ]
     },
     "execution_count": 75,
     "metadata": {},
     "output_type": "execute_result"
    }
   ],
   "source": [
    "Xtrain = dsvals.reshape(dsvals.shape[0], lenx * leny)  # reshape into nbands x 1D arrays\n",
    "Ytrain = Ytrain.values.flatten()\n",
    "\n",
    "Xtrain.shape, Ytrain.shape"
   ]
  },
  {
   "cell_type": "markdown",
   "metadata": {},
   "source": [
    "**remove coincident nd from arrays** variables"
   ]
  },
  {
   "cell_type": "code",
   "execution_count": 76,
   "metadata": {},
   "outputs": [
    {
     "data": {
      "text/plain": [
       "((6, 22665005), (22665005,))"
      ]
     },
     "execution_count": 76,
     "metadata": {},
     "output_type": "execute_result"
    }
   ],
   "source": [
    "Xtrain = np.array([i[~np.isnan(i)] for i in Xtrain])\n",
    "Ytrain = Ytrain[~np.isnan(Ytrain)]\n",
    "\n",
    "Xtrain.shape, Ytrain.shape"
   ]
  },
  {
   "cell_type": "markdown",
   "metadata": {},
   "source": [
    "**transpose** variables"
   ]
  },
  {
   "cell_type": "code",
   "execution_count": 77,
   "metadata": {},
   "outputs": [
    {
     "data": {
      "text/plain": [
       "((22665005, 6), (22665005,))"
      ]
     },
     "execution_count": 77,
     "metadata": {},
     "output_type": "execute_result"
    }
   ],
   "source": [
    "Xtrain = Xtrain.transpose()  # transpose so that bands are read as features\n",
    "\n",
    "Xtrain.shape, Ytrain.shape"
   ]
  },
  {
   "cell_type": "markdown",
   "metadata": {},
   "source": [
    "## (3B) Inference Validation Prep"
   ]
  },
  {
   "cell_type": "markdown",
   "metadata": {},
   "source": [
    "**create outside merge of nodata** - T1 img + T1 water mask"
   ]
  },
  {
   "cell_type": "code",
   "execution_count": null,
   "metadata": {},
   "outputs": [],
   "source": [
    "# # create\n",
    "# T1_nd_water = np.isnan(T1_water)\n",
    "# T1_img_nd = np.isnan(T1_img)[ref_channel]\n",
    "# T1_merge_nd = T1_nd_water.where((T1_img_nd == False),True)\n",
    "# # apply\n",
    "# Yval = T1_water.where((T1_merge_nd == False))\n",
    "# Xval = T1_img.where((T1_merge_nd == False))\n",
    "\n",
    "# fig, ax = plt.subplots(figsize=(50,50))\n",
    "# # Yval.plot(ax=ax)\n",
    "# ax.imshow(Yval)\n",
    "# fig, ax = plt.subplots(figsize=(50,50))\n",
    "# # Xval.where(Xval[ref_channel]>0)[ref_channel].plot(ax=ax)\n",
    "# ax.imshow(Xval[ref_channel])"
   ]
  },
  {
   "cell_type": "markdown",
   "metadata": {},
   "source": [
    "**numpify** T1 image data - within merge"
   ]
  },
  {
   "cell_type": "code",
   "execution_count": null,
   "metadata": {},
   "outputs": [],
   "source": [
    "# des_vars = T1_vars\n",
    "\n",
    "# lenx, leny = np.shape(Xval[ref_channel]) # dims of each raster\n",
    "# dsvals = np.zeros([len(des_vars),lenx, leny]) #set up array based on shape of xr and no. des bands\n",
    "\n",
    "# for i, m in zip(np.arange(0,len(Xval.data_vars),1), Xval.variables): # loop through bands in xr\n",
    "#     print(i, m)\n",
    "#     if m in des_vars: # only want relevant channels\n",
    "#         vals = np.array(Xval[m].values) # extract only the reflectance values\n",
    "#         dsvals[i,:,:] = vals # append to 'master' ND array\n",
    "# # plt.imshow(dsvals[0,:,:])"
   ]
  },
  {
   "cell_type": "markdown",
   "metadata": {},
   "source": [
    "**re-shape**/flatten T1 data + T1 labels"
   ]
  },
  {
   "cell_type": "code",
   "execution_count": null,
   "metadata": {},
   "outputs": [],
   "source": [
    "# Xval = dsvals.reshape(dsvals.shape[0], lenx * leny)  # reshape into nbands x 1D arrays\n",
    "# Yval = Yval.values.flatten()\n",
    "\n",
    "# Xval.shape, Yval.shape"
   ]
  },
  {
   "cell_type": "markdown",
   "metadata": {},
   "source": [
    "**remove coincident nd from arrays** variables"
   ]
  },
  {
   "cell_type": "code",
   "execution_count": null,
   "metadata": {},
   "outputs": [],
   "source": [
    "# Xval = np.array([i[~np.isnan(i)] for i in Xval])\n",
    "# Yval = Yval[~np.isnan(Yval)]\n",
    "\n",
    "# Xval.shape, Yval.shape"
   ]
  },
  {
   "cell_type": "markdown",
   "metadata": {},
   "source": [
    "**transpose** variables"
   ]
  },
  {
   "cell_type": "code",
   "execution_count": null,
   "metadata": {},
   "outputs": [],
   "source": [
    "# Xval = Xval.transpose()  # transpose so that bands are read as features\n",
    "\n",
    "# Xval.shape, Yval.shape"
   ]
  },
  {
   "cell_type": "markdown",
   "metadata": {},
   "source": [
    "## (3C) Inference Implementation Prep"
   ]
  },
  {
   "cell_type": "markdown",
   "metadata": {},
   "source": [
    "**numpify** T1 image data - within merge"
   ]
  },
  {
   "cell_type": "code",
   "execution_count": 86,
   "metadata": {},
   "outputs": [
    {
     "name": "stderr",
     "output_type": "stream",
     "text": [
      "tornado.application - ERROR - Exception in callback functools.partial(<bound method IOLoop._discard_future_result of <zmq.eventloop.ioloop.ZMQIOLoop object at 0x7f1570ace400>>, <Future finished exception=NameError(\"name 'PY3' is not defined\",)>)\n",
      "Traceback (most recent call last):\n",
      "  File \"/opt/conda/envs/cubeenv/lib/python3.6/site-packages/tornado/ioloop.py\", line 743, in _run_callback\n",
      "    ret = callback()\n",
      "  File \"/opt/conda/envs/cubeenv/lib/python3.6/site-packages/tornado/ioloop.py\", line 767, in _discard_future_result\n",
      "    future.result()\n",
      "  File \"/opt/conda/envs/cubeenv/lib/python3.6/site-packages/tornado/gen.py\", line 742, in run\n",
      "    yielded = self.gen.throw(*exc_info)  # type: ignore\n",
      "  File \"/opt/conda/envs/cubeenv/lib/python3.6/site-packages/distributed/client.py\", line 1060, in _update_scheduler_info\n",
      "    raise\n",
      "  File \"/opt/conda/envs/cubeenv/lib/python3.6/site-packages/tornado/gen.py\", line 735, in run\n",
      "    value = future.result()\n",
      "  File \"/opt/conda/envs/cubeenv/lib/python3.6/site-packages/tornado/gen.py\", line 742, in run\n",
      "    yielded = self.gen.throw(*exc_info)  # type: ignore\n",
      "  File \"/opt/conda/envs/cubeenv/lib/python3.6/site-packages/distributed/core.py\", line 741, in send_recv_from_rpc\n",
      "    self.serializers = serializers\n",
      "  File \"/opt/conda/envs/cubeenv/lib/python3.6/site-packages/tornado/gen.py\", line 735, in run\n",
      "    value = future.result()\n",
      "  File \"/opt/conda/envs/cubeenv/lib/python3.6/site-packages/tornado/gen.py\", line 742, in run\n",
      "    yielded = self.gen.throw(*exc_info)  # type: ignore\n",
      "  File \"/opt/conda/envs/cubeenv/lib/python3.6/site-packages/distributed/core.py\", line 533, in send_recv\n",
      "    deserializers = serializers\n",
      "  File \"/opt/conda/envs/cubeenv/lib/python3.6/site-packages/tornado/gen.py\", line 735, in run\n",
      "    value = future.result()\n",
      "  File \"/opt/conda/envs/cubeenv/lib/python3.6/site-packages/tornado/gen.py\", line 748, in run\n",
      "    yielded = self.gen.send(value)\n",
      "  File \"/opt/conda/envs/cubeenv/lib/python3.6/site-packages/distributed/comm/tcp.py\", line 245, in write\n",
      "    # Can't wait for the write() Future as it may be lost\n",
      "NameError: name 'PY3' is not defined\n"
     ]
    },
    {
     "name": "stdout",
     "output_type": "stream",
     "text": [
      "WARNING: The conda.compat module is deprecated and will be removed in a future release.\n"
     ]
    },
    {
     "name": "stderr",
     "output_type": "stream",
     "text": [
      "tornado.application - ERROR - Exception in callback functools.partial(<bound method IOLoop._discard_future_result of <zmq.eventloop.ioloop.ZMQIOLoop object at 0x7f1570ace400>>, <Future finished exception=NameError(\"name 'PY3' is not defined\",)>)\n",
      "Traceback (most recent call last):\n",
      "  File \"/opt/conda/envs/cubeenv/lib/python3.6/site-packages/tornado/ioloop.py\", line 743, in _run_callback\n",
      "    ret = callback()\n",
      "  File \"/opt/conda/envs/cubeenv/lib/python3.6/site-packages/tornado/ioloop.py\", line 767, in _discard_future_result\n",
      "    future.result()\n",
      "  File \"/opt/conda/envs/cubeenv/lib/python3.6/site-packages/tornado/gen.py\", line 742, in run\n",
      "    yielded = self.gen.throw(*exc_info)  # type: ignore\n",
      "  File \"/opt/conda/envs/cubeenv/lib/python3.6/site-packages/distributed/client.py\", line 1060, in _update_scheduler_info\n",
      "    raise\n",
      "  File \"/opt/conda/envs/cubeenv/lib/python3.6/site-packages/tornado/gen.py\", line 735, in run\n",
      "    value = future.result()\n",
      "  File \"/opt/conda/envs/cubeenv/lib/python3.6/site-packages/tornado/gen.py\", line 742, in run\n",
      "    yielded = self.gen.throw(*exc_info)  # type: ignore\n",
      "  File \"/opt/conda/envs/cubeenv/lib/python3.6/site-packages/distributed/core.py\", line 741, in send_recv_from_rpc\n",
      "    self.serializers = serializers\n",
      "  File \"/opt/conda/envs/cubeenv/lib/python3.6/site-packages/tornado/gen.py\", line 735, in run\n",
      "    value = future.result()\n",
      "  File \"/opt/conda/envs/cubeenv/lib/python3.6/site-packages/tornado/gen.py\", line 742, in run\n",
      "    yielded = self.gen.throw(*exc_info)  # type: ignore\n",
      "  File \"/opt/conda/envs/cubeenv/lib/python3.6/site-packages/distributed/core.py\", line 533, in send_recv\n",
      "    deserializers = serializers\n",
      "  File \"/opt/conda/envs/cubeenv/lib/python3.6/site-packages/tornado/gen.py\", line 735, in run\n",
      "    value = future.result()\n",
      "  File \"/opt/conda/envs/cubeenv/lib/python3.6/site-packages/tornado/gen.py\", line 748, in run\n",
      "    yielded = self.gen.send(value)\n",
      "  File \"/opt/conda/envs/cubeenv/lib/python3.6/site-packages/distributed/comm/tcp.py\", line 245, in write\n",
      "    # Can't wait for the write() Future as it may be lost\n",
      "NameError: name 'PY3' is not defined\n",
      "tornado.application - ERROR - Exception in callback functools.partial(<bound method IOLoop._discard_future_result of <zmq.eventloop.ioloop.ZMQIOLoop object at 0x7f1570ace400>>, <Future finished exception=NameError(\"name 'PY3' is not defined\",)>)\n",
      "Traceback (most recent call last):\n",
      "  File \"/opt/conda/envs/cubeenv/lib/python3.6/site-packages/tornado/ioloop.py\", line 743, in _run_callback\n",
      "    ret = callback()\n",
      "  File \"/opt/conda/envs/cubeenv/lib/python3.6/site-packages/tornado/ioloop.py\", line 767, in _discard_future_result\n",
      "    future.result()\n",
      "  File \"/opt/conda/envs/cubeenv/lib/python3.6/site-packages/tornado/gen.py\", line 742, in run\n",
      "    yielded = self.gen.throw(*exc_info)  # type: ignore\n",
      "  File \"/opt/conda/envs/cubeenv/lib/python3.6/site-packages/distributed/client.py\", line 1060, in _update_scheduler_info\n",
      "    raise\n",
      "  File \"/opt/conda/envs/cubeenv/lib/python3.6/site-packages/tornado/gen.py\", line 735, in run\n",
      "    value = future.result()\n",
      "  File \"/opt/conda/envs/cubeenv/lib/python3.6/site-packages/tornado/gen.py\", line 742, in run\n",
      "    yielded = self.gen.throw(*exc_info)  # type: ignore\n",
      "  File \"/opt/conda/envs/cubeenv/lib/python3.6/site-packages/distributed/core.py\", line 741, in send_recv_from_rpc\n",
      "    self.serializers = serializers\n",
      "  File \"/opt/conda/envs/cubeenv/lib/python3.6/site-packages/tornado/gen.py\", line 735, in run\n",
      "    value = future.result()\n",
      "  File \"/opt/conda/envs/cubeenv/lib/python3.6/site-packages/tornado/gen.py\", line 742, in run\n",
      "    yielded = self.gen.throw(*exc_info)  # type: ignore\n",
      "  File \"/opt/conda/envs/cubeenv/lib/python3.6/site-packages/distributed/core.py\", line 533, in send_recv\n",
      "    deserializers = serializers\n",
      "  File \"/opt/conda/envs/cubeenv/lib/python3.6/site-packages/tornado/gen.py\", line 735, in run\n",
      "    value = future.result()\n",
      "  File \"/opt/conda/envs/cubeenv/lib/python3.6/site-packages/tornado/gen.py\", line 748, in run\n",
      "    yielded = self.gen.send(value)\n",
      "  File \"/opt/conda/envs/cubeenv/lib/python3.6/site-packages/distributed/comm/tcp.py\", line 245, in write\n",
      "    # Can't wait for the write() Future as it may be lost\n",
      "NameError: name 'PY3' is not defined\n",
      "tornado.application - ERROR - Exception in callback functools.partial(<bound method IOLoop._discard_future_result of <zmq.eventloop.ioloop.ZMQIOLoop object at 0x7f1570ace400>>, <Future finished exception=NameError(\"name 'PY3' is not defined\",)>)\n",
      "Traceback (most recent call last):\n",
      "  File \"/opt/conda/envs/cubeenv/lib/python3.6/site-packages/tornado/ioloop.py\", line 743, in _run_callback\n",
      "    ret = callback()\n",
      "  File \"/opt/conda/envs/cubeenv/lib/python3.6/site-packages/tornado/ioloop.py\", line 767, in _discard_future_result\n",
      "    future.result()\n",
      "  File \"/opt/conda/envs/cubeenv/lib/python3.6/site-packages/tornado/gen.py\", line 742, in run\n",
      "    yielded = self.gen.throw(*exc_info)  # type: ignore\n",
      "  File \"/opt/conda/envs/cubeenv/lib/python3.6/site-packages/distributed/client.py\", line 1060, in _update_scheduler_info\n",
      "    raise\n",
      "  File \"/opt/conda/envs/cubeenv/lib/python3.6/site-packages/tornado/gen.py\", line 735, in run\n",
      "    value = future.result()\n",
      "  File \"/opt/conda/envs/cubeenv/lib/python3.6/site-packages/tornado/gen.py\", line 742, in run\n",
      "    yielded = self.gen.throw(*exc_info)  # type: ignore\n",
      "  File \"/opt/conda/envs/cubeenv/lib/python3.6/site-packages/distributed/core.py\", line 741, in send_recv_from_rpc\n",
      "    self.serializers = serializers\n",
      "  File \"/opt/conda/envs/cubeenv/lib/python3.6/site-packages/tornado/gen.py\", line 735, in run\n",
      "    value = future.result()\n",
      "  File \"/opt/conda/envs/cubeenv/lib/python3.6/site-packages/tornado/gen.py\", line 742, in run\n",
      "    yielded = self.gen.throw(*exc_info)  # type: ignore\n",
      "  File \"/opt/conda/envs/cubeenv/lib/python3.6/site-packages/distributed/core.py\", line 533, in send_recv\n",
      "    deserializers = serializers\n",
      "  File \"/opt/conda/envs/cubeenv/lib/python3.6/site-packages/tornado/gen.py\", line 735, in run\n",
      "    value = future.result()\n",
      "  File \"/opt/conda/envs/cubeenv/lib/python3.6/site-packages/tornado/gen.py\", line 748, in run\n",
      "    yielded = self.gen.send(value)\n",
      "  File \"/opt/conda/envs/cubeenv/lib/python3.6/site-packages/distributed/comm/tcp.py\", line 245, in write\n",
      "    # Can't wait for the write() Future as it may be lost\n",
      "NameError: name 'PY3' is not defined\n",
      "tornado.application - ERROR - Exception in callback functools.partial(<bound method IOLoop._discard_future_result of <zmq.eventloop.ioloop.ZMQIOLoop object at 0x7f1570ace400>>, <Future finished exception=NameError(\"name 'PY3' is not defined\",)>)\n",
      "Traceback (most recent call last):\n",
      "  File \"/opt/conda/envs/cubeenv/lib/python3.6/site-packages/tornado/ioloop.py\", line 743, in _run_callback\n",
      "    ret = callback()\n",
      "  File \"/opt/conda/envs/cubeenv/lib/python3.6/site-packages/tornado/ioloop.py\", line 767, in _discard_future_result\n",
      "    future.result()\n",
      "  File \"/opt/conda/envs/cubeenv/lib/python3.6/site-packages/tornado/gen.py\", line 742, in run\n",
      "    yielded = self.gen.throw(*exc_info)  # type: ignore\n",
      "  File \"/opt/conda/envs/cubeenv/lib/python3.6/site-packages/distributed/client.py\", line 1060, in _update_scheduler_info\n",
      "    raise\n",
      "  File \"/opt/conda/envs/cubeenv/lib/python3.6/site-packages/tornado/gen.py\", line 735, in run\n",
      "    value = future.result()\n",
      "  File \"/opt/conda/envs/cubeenv/lib/python3.6/site-packages/tornado/gen.py\", line 742, in run\n",
      "    yielded = self.gen.throw(*exc_info)  # type: ignore\n",
      "  File \"/opt/conda/envs/cubeenv/lib/python3.6/site-packages/distributed/core.py\", line 741, in send_recv_from_rpc\n",
      "    self.serializers = serializers\n",
      "  File \"/opt/conda/envs/cubeenv/lib/python3.6/site-packages/tornado/gen.py\", line 735, in run\n",
      "    value = future.result()\n",
      "  File \"/opt/conda/envs/cubeenv/lib/python3.6/site-packages/tornado/gen.py\", line 742, in run\n",
      "    yielded = self.gen.throw(*exc_info)  # type: ignore\n",
      "  File \"/opt/conda/envs/cubeenv/lib/python3.6/site-packages/distributed/core.py\", line 533, in send_recv\n",
      "    deserializers = serializers\n",
      "  File \"/opt/conda/envs/cubeenv/lib/python3.6/site-packages/tornado/gen.py\", line 735, in run\n",
      "    value = future.result()\n",
      "  File \"/opt/conda/envs/cubeenv/lib/python3.6/site-packages/tornado/gen.py\", line 748, in run\n",
      "    yielded = self.gen.send(value)\n",
      "  File \"/opt/conda/envs/cubeenv/lib/python3.6/site-packages/distributed/comm/tcp.py\", line 245, in write\n",
      "    # Can't wait for the write() Future as it may be lost\n",
      "NameError: name 'PY3' is not defined\n",
      "tornado.application - ERROR - Exception in callback functools.partial(<bound method IOLoop._discard_future_result of <zmq.eventloop.ioloop.ZMQIOLoop object at 0x7f1570ace400>>, <Future finished exception=NameError(\"name 'PY3' is not defined\",)>)\n",
      "Traceback (most recent call last):\n",
      "  File \"/opt/conda/envs/cubeenv/lib/python3.6/site-packages/tornado/ioloop.py\", line 743, in _run_callback\n",
      "    ret = callback()\n",
      "  File \"/opt/conda/envs/cubeenv/lib/python3.6/site-packages/tornado/ioloop.py\", line 767, in _discard_future_result\n",
      "    future.result()\n",
      "  File \"/opt/conda/envs/cubeenv/lib/python3.6/site-packages/tornado/gen.py\", line 742, in run\n",
      "    yielded = self.gen.throw(*exc_info)  # type: ignore\n",
      "  File \"/opt/conda/envs/cubeenv/lib/python3.6/site-packages/distributed/client.py\", line 1060, in _update_scheduler_info\n",
      "    raise\n",
      "  File \"/opt/conda/envs/cubeenv/lib/python3.6/site-packages/tornado/gen.py\", line 735, in run\n",
      "    value = future.result()\n",
      "  File \"/opt/conda/envs/cubeenv/lib/python3.6/site-packages/tornado/gen.py\", line 742, in run\n",
      "    yielded = self.gen.throw(*exc_info)  # type: ignore\n",
      "  File \"/opt/conda/envs/cubeenv/lib/python3.6/site-packages/distributed/core.py\", line 741, in send_recv_from_rpc\n",
      "    self.serializers = serializers\n",
      "  File \"/opt/conda/envs/cubeenv/lib/python3.6/site-packages/tornado/gen.py\", line 735, in run\n",
      "    value = future.result()\n",
      "  File \"/opt/conda/envs/cubeenv/lib/python3.6/site-packages/tornado/gen.py\", line 742, in run\n",
      "    yielded = self.gen.throw(*exc_info)  # type: ignore\n",
      "  File \"/opt/conda/envs/cubeenv/lib/python3.6/site-packages/distributed/core.py\", line 533, in send_recv\n",
      "    deserializers = serializers\n",
      "  File \"/opt/conda/envs/cubeenv/lib/python3.6/site-packages/tornado/gen.py\", line 735, in run\n",
      "    value = future.result()\n",
      "  File \"/opt/conda/envs/cubeenv/lib/python3.6/site-packages/tornado/gen.py\", line 748, in run\n",
      "    yielded = self.gen.send(value)\n",
      "  File \"/opt/conda/envs/cubeenv/lib/python3.6/site-packages/distributed/comm/tcp.py\", line 245, in write\n",
      "    # Can't wait for the write() Future as it may be lost\n",
      "NameError: name 'PY3' is not defined\n",
      "tornado.application - ERROR - Exception in callback functools.partial(<bound method IOLoop._discard_future_result of <zmq.eventloop.ioloop.ZMQIOLoop object at 0x7f1570ace400>>, <Future finished exception=NameError(\"name 'PY3' is not defined\",)>)\n",
      "Traceback (most recent call last):\n",
      "  File \"/opt/conda/envs/cubeenv/lib/python3.6/site-packages/tornado/ioloop.py\", line 743, in _run_callback\n",
      "    ret = callback()\n",
      "  File \"/opt/conda/envs/cubeenv/lib/python3.6/site-packages/tornado/ioloop.py\", line 767, in _discard_future_result\n",
      "    future.result()\n",
      "  File \"/opt/conda/envs/cubeenv/lib/python3.6/site-packages/tornado/gen.py\", line 742, in run\n",
      "    yielded = self.gen.throw(*exc_info)  # type: ignore\n",
      "  File \"/opt/conda/envs/cubeenv/lib/python3.6/site-packages/distributed/client.py\", line 1060, in _update_scheduler_info\n",
      "    raise\n",
      "  File \"/opt/conda/envs/cubeenv/lib/python3.6/site-packages/tornado/gen.py\", line 735, in run\n",
      "    value = future.result()\n",
      "  File \"/opt/conda/envs/cubeenv/lib/python3.6/site-packages/tornado/gen.py\", line 742, in run\n",
      "    yielded = self.gen.throw(*exc_info)  # type: ignore\n",
      "  File \"/opt/conda/envs/cubeenv/lib/python3.6/site-packages/distributed/core.py\", line 741, in send_recv_from_rpc\n",
      "    self.serializers = serializers\n",
      "  File \"/opt/conda/envs/cubeenv/lib/python3.6/site-packages/tornado/gen.py\", line 735, in run\n",
      "    value = future.result()\n",
      "  File \"/opt/conda/envs/cubeenv/lib/python3.6/site-packages/tornado/gen.py\", line 742, in run\n",
      "    yielded = self.gen.throw(*exc_info)  # type: ignore\n",
      "  File \"/opt/conda/envs/cubeenv/lib/python3.6/site-packages/distributed/core.py\", line 533, in send_recv\n",
      "    deserializers = serializers\n",
      "  File \"/opt/conda/envs/cubeenv/lib/python3.6/site-packages/tornado/gen.py\", line 735, in run\n",
      "    value = future.result()\n",
      "  File \"/opt/conda/envs/cubeenv/lib/python3.6/site-packages/tornado/gen.py\", line 748, in run\n",
      "    yielded = self.gen.send(value)\n",
      "  File \"/opt/conda/envs/cubeenv/lib/python3.6/site-packages/distributed/comm/tcp.py\", line 245, in write\n",
      "    # Can't wait for the write() Future as it may be lost\n",
      "NameError: name 'PY3' is not defined\n"
     ]
    },
    {
     "name": "stdout",
     "output_type": "stream",
     "text": [
      "Collecting package metadata: \\ ^C\n",
      "failed\n",
      "\n",
      "CondaError: KeyboardInterrupt\n",
      "\n"
     ]
    },
    {
     "name": "stderr",
     "output_type": "stream",
     "text": [
      "tornado.application - ERROR - Exception in callback functools.partial(<bound method IOLoop._discard_future_result of <zmq.eventloop.ioloop.ZMQIOLoop object at 0x7f1570ace400>>, <Future finished exception=NameError(\"name 'PY3' is not defined\",)>)\n",
      "Traceback (most recent call last):\n",
      "  File \"/opt/conda/envs/cubeenv/lib/python3.6/site-packages/tornado/ioloop.py\", line 743, in _run_callback\n",
      "    ret = callback()\n",
      "  File \"/opt/conda/envs/cubeenv/lib/python3.6/site-packages/tornado/ioloop.py\", line 767, in _discard_future_result\n",
      "    future.result()\n",
      "  File \"/opt/conda/envs/cubeenv/lib/python3.6/site-packages/tornado/gen.py\", line 742, in run\n",
      "    yielded = self.gen.throw(*exc_info)  # type: ignore\n",
      "  File \"/opt/conda/envs/cubeenv/lib/python3.6/site-packages/distributed/client.py\", line 1060, in _update_scheduler_info\n",
      "    raise\n",
      "  File \"/opt/conda/envs/cubeenv/lib/python3.6/site-packages/tornado/gen.py\", line 735, in run\n",
      "    value = future.result()\n",
      "  File \"/opt/conda/envs/cubeenv/lib/python3.6/site-packages/tornado/gen.py\", line 742, in run\n",
      "    yielded = self.gen.throw(*exc_info)  # type: ignore\n",
      "  File \"/opt/conda/envs/cubeenv/lib/python3.6/site-packages/distributed/core.py\", line 741, in send_recv_from_rpc\n",
      "    self.serializers = serializers\n",
      "  File \"/opt/conda/envs/cubeenv/lib/python3.6/site-packages/tornado/gen.py\", line 735, in run\n",
      "    value = future.result()\n",
      "  File \"/opt/conda/envs/cubeenv/lib/python3.6/site-packages/tornado/gen.py\", line 742, in run\n",
      "    yielded = self.gen.throw(*exc_info)  # type: ignore\n",
      "  File \"/opt/conda/envs/cubeenv/lib/python3.6/site-packages/distributed/core.py\", line 533, in send_recv\n",
      "    deserializers = serializers\n",
      "  File \"/opt/conda/envs/cubeenv/lib/python3.6/site-packages/tornado/gen.py\", line 735, in run\n",
      "    value = future.result()\n",
      "  File \"/opt/conda/envs/cubeenv/lib/python3.6/site-packages/tornado/gen.py\", line 748, in run\n",
      "    yielded = self.gen.send(value)\n",
      "  File \"/opt/conda/envs/cubeenv/lib/python3.6/site-packages/distributed/comm/tcp.py\", line 245, in write\n",
      "    # Can't wait for the write() Future as it may be lost\n",
      "NameError: name 'PY3' is not defined\n",
      "tornado.application - ERROR - Exception in callback functools.partial(<bound method IOLoop._discard_future_result of <zmq.eventloop.ioloop.ZMQIOLoop object at 0x7f1570ace400>>, <Future finished exception=NameError(\"name 'PY3' is not defined\",)>)\n",
      "Traceback (most recent call last):\n",
      "  File \"/opt/conda/envs/cubeenv/lib/python3.6/site-packages/tornado/ioloop.py\", line 743, in _run_callback\n",
      "    ret = callback()\n",
      "  File \"/opt/conda/envs/cubeenv/lib/python3.6/site-packages/tornado/ioloop.py\", line 767, in _discard_future_result\n",
      "    future.result()\n",
      "  File \"/opt/conda/envs/cubeenv/lib/python3.6/site-packages/tornado/gen.py\", line 742, in run\n",
      "    yielded = self.gen.throw(*exc_info)  # type: ignore\n",
      "  File \"/opt/conda/envs/cubeenv/lib/python3.6/site-packages/distributed/client.py\", line 1060, in _update_scheduler_info\n",
      "    raise\n",
      "  File \"/opt/conda/envs/cubeenv/lib/python3.6/site-packages/tornado/gen.py\", line 735, in run\n",
      "    value = future.result()\n",
      "  File \"/opt/conda/envs/cubeenv/lib/python3.6/site-packages/tornado/gen.py\", line 742, in run\n",
      "    yielded = self.gen.throw(*exc_info)  # type: ignore\n",
      "  File \"/opt/conda/envs/cubeenv/lib/python3.6/site-packages/distributed/core.py\", line 741, in send_recv_from_rpc\n",
      "    self.serializers = serializers\n",
      "  File \"/opt/conda/envs/cubeenv/lib/python3.6/site-packages/tornado/gen.py\", line 735, in run\n",
      "    value = future.result()\n",
      "  File \"/opt/conda/envs/cubeenv/lib/python3.6/site-packages/tornado/gen.py\", line 742, in run\n",
      "    yielded = self.gen.throw(*exc_info)  # type: ignore\n",
      "  File \"/opt/conda/envs/cubeenv/lib/python3.6/site-packages/distributed/core.py\", line 533, in send_recv\n",
      "    deserializers = serializers\n",
      "  File \"/opt/conda/envs/cubeenv/lib/python3.6/site-packages/tornado/gen.py\", line 735, in run\n",
      "    value = future.result()\n",
      "  File \"/opt/conda/envs/cubeenv/lib/python3.6/site-packages/tornado/gen.py\", line 748, in run\n",
      "    yielded = self.gen.send(value)\n",
      "  File \"/opt/conda/envs/cubeenv/lib/python3.6/site-packages/distributed/comm/tcp.py\", line 245, in write\n",
      "    # Can't wait for the write() Future as it may be lost\n",
      "NameError: name 'PY3' is not defined\n",
      "tornado.application - ERROR - Exception in callback functools.partial(<bound method IOLoop._discard_future_result of <zmq.eventloop.ioloop.ZMQIOLoop object at 0x7f1570ace400>>, <Future finished exception=NameError(\"name 'PY3' is not defined\",)>)\n",
      "Traceback (most recent call last):\n",
      "  File \"/opt/conda/envs/cubeenv/lib/python3.6/site-packages/tornado/ioloop.py\", line 743, in _run_callback\n",
      "    ret = callback()\n",
      "  File \"/opt/conda/envs/cubeenv/lib/python3.6/site-packages/tornado/ioloop.py\", line 767, in _discard_future_result\n",
      "    future.result()\n",
      "  File \"/opt/conda/envs/cubeenv/lib/python3.6/site-packages/tornado/gen.py\", line 742, in run\n",
      "    yielded = self.gen.throw(*exc_info)  # type: ignore\n",
      "  File \"/opt/conda/envs/cubeenv/lib/python3.6/site-packages/distributed/client.py\", line 1060, in _update_scheduler_info\n",
      "    raise\n",
      "  File \"/opt/conda/envs/cubeenv/lib/python3.6/site-packages/tornado/gen.py\", line 735, in run\n",
      "    value = future.result()\n",
      "  File \"/opt/conda/envs/cubeenv/lib/python3.6/site-packages/tornado/gen.py\", line 742, in run\n",
      "    yielded = self.gen.throw(*exc_info)  # type: ignore\n",
      "  File \"/opt/conda/envs/cubeenv/lib/python3.6/site-packages/distributed/core.py\", line 741, in send_recv_from_rpc\n",
      "    self.serializers = serializers\n",
      "  File \"/opt/conda/envs/cubeenv/lib/python3.6/site-packages/tornado/gen.py\", line 735, in run\n",
      "    value = future.result()\n",
      "  File \"/opt/conda/envs/cubeenv/lib/python3.6/site-packages/tornado/gen.py\", line 742, in run\n",
      "    yielded = self.gen.throw(*exc_info)  # type: ignore\n",
      "  File \"/opt/conda/envs/cubeenv/lib/python3.6/site-packages/distributed/core.py\", line 533, in send_recv\n",
      "    deserializers = serializers\n",
      "  File \"/opt/conda/envs/cubeenv/lib/python3.6/site-packages/tornado/gen.py\", line 735, in run\n",
      "    value = future.result()\n",
      "  File \"/opt/conda/envs/cubeenv/lib/python3.6/site-packages/tornado/gen.py\", line 748, in run\n",
      "    yielded = self.gen.send(value)\n",
      "  File \"/opt/conda/envs/cubeenv/lib/python3.6/site-packages/distributed/comm/tcp.py\", line 245, in write\n",
      "    # Can't wait for the write() Future as it may be lost\n",
      "NameError: name 'PY3' is not defined\n",
      "tornado.application - ERROR - Exception in callback functools.partial(<bound method IOLoop._discard_future_result of <zmq.eventloop.ioloop.ZMQIOLoop object at 0x7f1570ace400>>, <Future finished exception=NameError(\"name 'PY3' is not defined\",)>)\n",
      "Traceback (most recent call last):\n",
      "  File \"/opt/conda/envs/cubeenv/lib/python3.6/site-packages/tornado/ioloop.py\", line 743, in _run_callback\n",
      "    ret = callback()\n",
      "  File \"/opt/conda/envs/cubeenv/lib/python3.6/site-packages/tornado/ioloop.py\", line 767, in _discard_future_result\n",
      "    future.result()\n",
      "  File \"/opt/conda/envs/cubeenv/lib/python3.6/site-packages/tornado/gen.py\", line 742, in run\n",
      "    yielded = self.gen.throw(*exc_info)  # type: ignore\n",
      "  File \"/opt/conda/envs/cubeenv/lib/python3.6/site-packages/distributed/client.py\", line 1060, in _update_scheduler_info\n",
      "    raise\n",
      "  File \"/opt/conda/envs/cubeenv/lib/python3.6/site-packages/tornado/gen.py\", line 735, in run\n",
      "    value = future.result()\n",
      "  File \"/opt/conda/envs/cubeenv/lib/python3.6/site-packages/tornado/gen.py\", line 742, in run\n",
      "    yielded = self.gen.throw(*exc_info)  # type: ignore\n",
      "  File \"/opt/conda/envs/cubeenv/lib/python3.6/site-packages/distributed/core.py\", line 741, in send_recv_from_rpc\n",
      "    self.serializers = serializers\n",
      "  File \"/opt/conda/envs/cubeenv/lib/python3.6/site-packages/tornado/gen.py\", line 735, in run\n",
      "    value = future.result()\n",
      "  File \"/opt/conda/envs/cubeenv/lib/python3.6/site-packages/tornado/gen.py\", line 742, in run\n",
      "    yielded = self.gen.throw(*exc_info)  # type: ignore\n",
      "  File \"/opt/conda/envs/cubeenv/lib/python3.6/site-packages/distributed/core.py\", line 533, in send_recv\n",
      "    deserializers = serializers\n",
      "  File \"/opt/conda/envs/cubeenv/lib/python3.6/site-packages/tornado/gen.py\", line 735, in run\n",
      "    value = future.result()\n",
      "  File \"/opt/conda/envs/cubeenv/lib/python3.6/site-packages/tornado/gen.py\", line 748, in run\n",
      "    yielded = self.gen.send(value)\n",
      "  File \"/opt/conda/envs/cubeenv/lib/python3.6/site-packages/distributed/comm/tcp.py\", line 245, in write\n",
      "    # Can't wait for the write() Future as it may be lost\n",
      "NameError: name 'PY3' is not defined\n",
      "tornado.application - ERROR - Exception in callback functools.partial(<bound method IOLoop._discard_future_result of <zmq.eventloop.ioloop.ZMQIOLoop object at 0x7f1570ace400>>, <Future finished exception=NameError(\"name 'PY3' is not defined\",)>)\n",
      "Traceback (most recent call last):\n",
      "  File \"/opt/conda/envs/cubeenv/lib/python3.6/site-packages/tornado/ioloop.py\", line 743, in _run_callback\n",
      "    ret = callback()\n",
      "  File \"/opt/conda/envs/cubeenv/lib/python3.6/site-packages/tornado/ioloop.py\", line 767, in _discard_future_result\n",
      "    future.result()\n",
      "  File \"/opt/conda/envs/cubeenv/lib/python3.6/site-packages/tornado/gen.py\", line 742, in run\n",
      "    yielded = self.gen.throw(*exc_info)  # type: ignore\n",
      "  File \"/opt/conda/envs/cubeenv/lib/python3.6/site-packages/distributed/client.py\", line 1060, in _update_scheduler_info\n",
      "    raise\n",
      "  File \"/opt/conda/envs/cubeenv/lib/python3.6/site-packages/tornado/gen.py\", line 735, in run\n",
      "    value = future.result()\n",
      "  File \"/opt/conda/envs/cubeenv/lib/python3.6/site-packages/tornado/gen.py\", line 742, in run\n",
      "    yielded = self.gen.throw(*exc_info)  # type: ignore\n",
      "  File \"/opt/conda/envs/cubeenv/lib/python3.6/site-packages/distributed/core.py\", line 741, in send_recv_from_rpc\n",
      "    self.serializers = serializers\n",
      "  File \"/opt/conda/envs/cubeenv/lib/python3.6/site-packages/tornado/gen.py\", line 735, in run\n",
      "    value = future.result()\n",
      "  File \"/opt/conda/envs/cubeenv/lib/python3.6/site-packages/tornado/gen.py\", line 742, in run\n",
      "    yielded = self.gen.throw(*exc_info)  # type: ignore\n",
      "  File \"/opt/conda/envs/cubeenv/lib/python3.6/site-packages/distributed/core.py\", line 533, in send_recv\n",
      "    deserializers = serializers\n",
      "  File \"/opt/conda/envs/cubeenv/lib/python3.6/site-packages/tornado/gen.py\", line 735, in run\n",
      "    value = future.result()\n",
      "  File \"/opt/conda/envs/cubeenv/lib/python3.6/site-packages/tornado/gen.py\", line 748, in run\n",
      "    yielded = self.gen.send(value)\n",
      "  File \"/opt/conda/envs/cubeenv/lib/python3.6/site-packages/distributed/comm/tcp.py\", line 245, in write\n",
      "    # Can't wait for the write() Future as it may be lost\n",
      "NameError: name 'PY3' is not defined\n",
      "tornado.application - ERROR - Exception in callback functools.partial(<bound method IOLoop._discard_future_result of <zmq.eventloop.ioloop.ZMQIOLoop object at 0x7f1570ace400>>, <Future finished exception=NameError(\"name 'PY3' is not defined\",)>)\n",
      "Traceback (most recent call last):\n",
      "  File \"/opt/conda/envs/cubeenv/lib/python3.6/site-packages/tornado/ioloop.py\", line 743, in _run_callback\n",
      "    ret = callback()\n",
      "  File \"/opt/conda/envs/cubeenv/lib/python3.6/site-packages/tornado/ioloop.py\", line 767, in _discard_future_result\n",
      "    future.result()\n",
      "  File \"/opt/conda/envs/cubeenv/lib/python3.6/site-packages/tornado/gen.py\", line 742, in run\n",
      "    yielded = self.gen.throw(*exc_info)  # type: ignore\n",
      "  File \"/opt/conda/envs/cubeenv/lib/python3.6/site-packages/distributed/client.py\", line 1060, in _update_scheduler_info\n",
      "    raise\n",
      "  File \"/opt/conda/envs/cubeenv/lib/python3.6/site-packages/tornado/gen.py\", line 735, in run\n",
      "    value = future.result()\n",
      "  File \"/opt/conda/envs/cubeenv/lib/python3.6/site-packages/tornado/gen.py\", line 742, in run\n",
      "    yielded = self.gen.throw(*exc_info)  # type: ignore\n",
      "  File \"/opt/conda/envs/cubeenv/lib/python3.6/site-packages/distributed/core.py\", line 741, in send_recv_from_rpc\n",
      "    self.serializers = serializers\n",
      "  File \"/opt/conda/envs/cubeenv/lib/python3.6/site-packages/tornado/gen.py\", line 735, in run\n",
      "    value = future.result()\n",
      "  File \"/opt/conda/envs/cubeenv/lib/python3.6/site-packages/tornado/gen.py\", line 742, in run\n",
      "    yielded = self.gen.throw(*exc_info)  # type: ignore\n",
      "  File \"/opt/conda/envs/cubeenv/lib/python3.6/site-packages/distributed/core.py\", line 533, in send_recv\n",
      "    deserializers = serializers\n",
      "  File \"/opt/conda/envs/cubeenv/lib/python3.6/site-packages/tornado/gen.py\", line 735, in run\n",
      "    value = future.result()\n",
      "  File \"/opt/conda/envs/cubeenv/lib/python3.6/site-packages/tornado/gen.py\", line 748, in run\n",
      "    yielded = self.gen.send(value)\n",
      "  File \"/opt/conda/envs/cubeenv/lib/python3.6/site-packages/distributed/comm/tcp.py\", line 245, in write\n",
      "    # Can't wait for the write() Future as it may be lost\n",
      "NameError: name 'PY3' is not defined\n",
      "tornado.application - ERROR - Exception in callback functools.partial(<bound method IOLoop._discard_future_result of <zmq.eventloop.ioloop.ZMQIOLoop object at 0x7f1570ace400>>, <Future finished exception=NameError(\"name 'PY3' is not defined\",)>)\n",
      "Traceback (most recent call last):\n",
      "  File \"/opt/conda/envs/cubeenv/lib/python3.6/site-packages/tornado/ioloop.py\", line 743, in _run_callback\n",
      "    ret = callback()\n",
      "  File \"/opt/conda/envs/cubeenv/lib/python3.6/site-packages/tornado/ioloop.py\", line 767, in _discard_future_result\n",
      "    future.result()\n",
      "  File \"/opt/conda/envs/cubeenv/lib/python3.6/site-packages/tornado/gen.py\", line 742, in run\n",
      "    yielded = self.gen.throw(*exc_info)  # type: ignore\n",
      "  File \"/opt/conda/envs/cubeenv/lib/python3.6/site-packages/distributed/client.py\", line 1060, in _update_scheduler_info\n",
      "    raise\n",
      "  File \"/opt/conda/envs/cubeenv/lib/python3.6/site-packages/tornado/gen.py\", line 735, in run\n",
      "    value = future.result()\n",
      "  File \"/opt/conda/envs/cubeenv/lib/python3.6/site-packages/tornado/gen.py\", line 742, in run\n",
      "    yielded = self.gen.throw(*exc_info)  # type: ignore\n",
      "  File \"/opt/conda/envs/cubeenv/lib/python3.6/site-packages/distributed/core.py\", line 741, in send_recv_from_rpc\n",
      "    self.serializers = serializers\n",
      "  File \"/opt/conda/envs/cubeenv/lib/python3.6/site-packages/tornado/gen.py\", line 735, in run\n",
      "    value = future.result()\n",
      "  File \"/opt/conda/envs/cubeenv/lib/python3.6/site-packages/tornado/gen.py\", line 742, in run\n",
      "    yielded = self.gen.throw(*exc_info)  # type: ignore\n",
      "  File \"/opt/conda/envs/cubeenv/lib/python3.6/site-packages/distributed/core.py\", line 533, in send_recv\n",
      "    deserializers = serializers\n",
      "  File \"/opt/conda/envs/cubeenv/lib/python3.6/site-packages/tornado/gen.py\", line 735, in run\n",
      "    value = future.result()\n",
      "  File \"/opt/conda/envs/cubeenv/lib/python3.6/site-packages/tornado/gen.py\", line 748, in run\n",
      "    yielded = self.gen.send(value)\n",
      "  File \"/opt/conda/envs/cubeenv/lib/python3.6/site-packages/distributed/comm/tcp.py\", line 245, in write\n",
      "    # Can't wait for the write() Future as it may be lost\n",
      "NameError: name 'PY3' is not defined\n",
      "tornado.application - ERROR - Exception in callback functools.partial(<bound method IOLoop._discard_future_result of <zmq.eventloop.ioloop.ZMQIOLoop object at 0x7f1570ace400>>, <Future finished exception=NameError(\"name 'PY3' is not defined\",)>)\n",
      "Traceback (most recent call last):\n",
      "  File \"/opt/conda/envs/cubeenv/lib/python3.6/site-packages/tornado/ioloop.py\", line 743, in _run_callback\n",
      "    ret = callback()\n",
      "  File \"/opt/conda/envs/cubeenv/lib/python3.6/site-packages/tornado/ioloop.py\", line 767, in _discard_future_result\n",
      "    future.result()\n",
      "  File \"/opt/conda/envs/cubeenv/lib/python3.6/site-packages/tornado/gen.py\", line 742, in run\n",
      "    yielded = self.gen.throw(*exc_info)  # type: ignore\n",
      "  File \"/opt/conda/envs/cubeenv/lib/python3.6/site-packages/distributed/client.py\", line 1060, in _update_scheduler_info\n",
      "    raise\n",
      "  File \"/opt/conda/envs/cubeenv/lib/python3.6/site-packages/tornado/gen.py\", line 735, in run\n",
      "    value = future.result()\n",
      "  File \"/opt/conda/envs/cubeenv/lib/python3.6/site-packages/tornado/gen.py\", line 742, in run\n",
      "    yielded = self.gen.throw(*exc_info)  # type: ignore\n",
      "  File \"/opt/conda/envs/cubeenv/lib/python3.6/site-packages/distributed/core.py\", line 741, in send_recv_from_rpc\n",
      "    self.serializers = serializers\n",
      "  File \"/opt/conda/envs/cubeenv/lib/python3.6/site-packages/tornado/gen.py\", line 735, in run\n",
      "    value = future.result()\n",
      "  File \"/opt/conda/envs/cubeenv/lib/python3.6/site-packages/tornado/gen.py\", line 742, in run\n",
      "    yielded = self.gen.throw(*exc_info)  # type: ignore\n",
      "  File \"/opt/conda/envs/cubeenv/lib/python3.6/site-packages/distributed/core.py\", line 533, in send_recv\n",
      "    deserializers = serializers\n",
      "  File \"/opt/conda/envs/cubeenv/lib/python3.6/site-packages/tornado/gen.py\", line 735, in run\n",
      "    value = future.result()\n",
      "  File \"/opt/conda/envs/cubeenv/lib/python3.6/site-packages/tornado/gen.py\", line 748, in run\n",
      "    yielded = self.gen.send(value)\n",
      "  File \"/opt/conda/envs/cubeenv/lib/python3.6/site-packages/distributed/comm/tcp.py\", line 245, in write\n",
      "    # Can't wait for the write() Future as it may be lost\n",
      "NameError: name 'PY3' is not defined\n",
      "tornado.application - ERROR - Exception in callback functools.partial(<bound method IOLoop._discard_future_result of <zmq.eventloop.ioloop.ZMQIOLoop object at 0x7f1570ace400>>, <Future finished exception=NameError(\"name 'PY3' is not defined\",)>)\n",
      "Traceback (most recent call last):\n",
      "  File \"/opt/conda/envs/cubeenv/lib/python3.6/site-packages/tornado/ioloop.py\", line 743, in _run_callback\n",
      "    ret = callback()\n",
      "  File \"/opt/conda/envs/cubeenv/lib/python3.6/site-packages/tornado/ioloop.py\", line 767, in _discard_future_result\n",
      "    future.result()\n",
      "  File \"/opt/conda/envs/cubeenv/lib/python3.6/site-packages/tornado/gen.py\", line 742, in run\n",
      "    yielded = self.gen.throw(*exc_info)  # type: ignore\n",
      "  File \"/opt/conda/envs/cubeenv/lib/python3.6/site-packages/distributed/client.py\", line 1060, in _update_scheduler_info\n",
      "    raise\n",
      "  File \"/opt/conda/envs/cubeenv/lib/python3.6/site-packages/tornado/gen.py\", line 735, in run\n",
      "    value = future.result()\n",
      "  File \"/opt/conda/envs/cubeenv/lib/python3.6/site-packages/tornado/gen.py\", line 742, in run\n",
      "    yielded = self.gen.throw(*exc_info)  # type: ignore\n",
      "  File \"/opt/conda/envs/cubeenv/lib/python3.6/site-packages/distributed/core.py\", line 741, in send_recv_from_rpc\n",
      "    self.serializers = serializers\n",
      "  File \"/opt/conda/envs/cubeenv/lib/python3.6/site-packages/tornado/gen.py\", line 735, in run\n",
      "    value = future.result()\n",
      "  File \"/opt/conda/envs/cubeenv/lib/python3.6/site-packages/tornado/gen.py\", line 742, in run\n",
      "    yielded = self.gen.throw(*exc_info)  # type: ignore\n",
      "  File \"/opt/conda/envs/cubeenv/lib/python3.6/site-packages/distributed/core.py\", line 533, in send_recv\n",
      "    deserializers = serializers\n",
      "  File \"/opt/conda/envs/cubeenv/lib/python3.6/site-packages/tornado/gen.py\", line 735, in run\n",
      "    value = future.result()\n",
      "  File \"/opt/conda/envs/cubeenv/lib/python3.6/site-packages/tornado/gen.py\", line 748, in run\n",
      "    yielded = self.gen.send(value)\n",
      "  File \"/opt/conda/envs/cubeenv/lib/python3.6/site-packages/distributed/comm/tcp.py\", line 245, in write\n",
      "    # Can't wait for the write() Future as it may be lost\n",
      "NameError: name 'PY3' is not defined\n",
      "tornado.application - ERROR - Exception in callback functools.partial(<bound method IOLoop._discard_future_result of <zmq.eventloop.ioloop.ZMQIOLoop object at 0x7f1570ace400>>, <Future finished exception=NameError(\"name 'PY3' is not defined\",)>)\n",
      "Traceback (most recent call last):\n",
      "  File \"/opt/conda/envs/cubeenv/lib/python3.6/site-packages/tornado/ioloop.py\", line 743, in _run_callback\n",
      "    ret = callback()\n",
      "  File \"/opt/conda/envs/cubeenv/lib/python3.6/site-packages/tornado/ioloop.py\", line 767, in _discard_future_result\n",
      "    future.result()\n",
      "  File \"/opt/conda/envs/cubeenv/lib/python3.6/site-packages/tornado/gen.py\", line 742, in run\n",
      "    yielded = self.gen.throw(*exc_info)  # type: ignore\n",
      "  File \"/opt/conda/envs/cubeenv/lib/python3.6/site-packages/distributed/client.py\", line 1060, in _update_scheduler_info\n",
      "    raise\n",
      "  File \"/opt/conda/envs/cubeenv/lib/python3.6/site-packages/tornado/gen.py\", line 735, in run\n",
      "    value = future.result()\n",
      "  File \"/opt/conda/envs/cubeenv/lib/python3.6/site-packages/tornado/gen.py\", line 742, in run\n",
      "    yielded = self.gen.throw(*exc_info)  # type: ignore\n",
      "  File \"/opt/conda/envs/cubeenv/lib/python3.6/site-packages/distributed/core.py\", line 741, in send_recv_from_rpc\n",
      "    self.serializers = serializers\n",
      "  File \"/opt/conda/envs/cubeenv/lib/python3.6/site-packages/tornado/gen.py\", line 735, in run\n",
      "    value = future.result()\n",
      "  File \"/opt/conda/envs/cubeenv/lib/python3.6/site-packages/tornado/gen.py\", line 742, in run\n",
      "    yielded = self.gen.throw(*exc_info)  # type: ignore\n",
      "  File \"/opt/conda/envs/cubeenv/lib/python3.6/site-packages/distributed/core.py\", line 533, in send_recv\n",
      "    deserializers = serializers\n",
      "  File \"/opt/conda/envs/cubeenv/lib/python3.6/site-packages/tornado/gen.py\", line 735, in run\n",
      "    value = future.result()\n",
      "  File \"/opt/conda/envs/cubeenv/lib/python3.6/site-packages/tornado/gen.py\", line 748, in run\n",
      "    yielded = self.gen.send(value)\n",
      "  File \"/opt/conda/envs/cubeenv/lib/python3.6/site-packages/distributed/comm/tcp.py\", line 245, in write\n",
      "    # Can't wait for the write() Future as it may be lost\n",
      "NameError: name 'PY3' is not defined\n",
      "tornado.application - ERROR - Exception in callback functools.partial(<bound method IOLoop._discard_future_result of <zmq.eventloop.ioloop.ZMQIOLoop object at 0x7f1570ace400>>, <Future finished exception=NameError(\"name 'PY3' is not defined\",)>)\n",
      "Traceback (most recent call last):\n",
      "  File \"/opt/conda/envs/cubeenv/lib/python3.6/site-packages/tornado/ioloop.py\", line 743, in _run_callback\n",
      "    ret = callback()\n",
      "  File \"/opt/conda/envs/cubeenv/lib/python3.6/site-packages/tornado/ioloop.py\", line 767, in _discard_future_result\n",
      "    future.result()\n",
      "  File \"/opt/conda/envs/cubeenv/lib/python3.6/site-packages/tornado/gen.py\", line 742, in run\n",
      "    yielded = self.gen.throw(*exc_info)  # type: ignore\n",
      "  File \"/opt/conda/envs/cubeenv/lib/python3.6/site-packages/distributed/client.py\", line 1060, in _update_scheduler_info\n",
      "    raise\n",
      "  File \"/opt/conda/envs/cubeenv/lib/python3.6/site-packages/tornado/gen.py\", line 735, in run\n",
      "    value = future.result()\n",
      "  File \"/opt/conda/envs/cubeenv/lib/python3.6/site-packages/tornado/gen.py\", line 742, in run\n",
      "    yielded = self.gen.throw(*exc_info)  # type: ignore\n",
      "  File \"/opt/conda/envs/cubeenv/lib/python3.6/site-packages/distributed/core.py\", line 741, in send_recv_from_rpc\n",
      "    self.serializers = serializers\n",
      "  File \"/opt/conda/envs/cubeenv/lib/python3.6/site-packages/tornado/gen.py\", line 735, in run\n",
      "    value = future.result()\n",
      "  File \"/opt/conda/envs/cubeenv/lib/python3.6/site-packages/tornado/gen.py\", line 742, in run\n",
      "    yielded = self.gen.throw(*exc_info)  # type: ignore\n",
      "  File \"/opt/conda/envs/cubeenv/lib/python3.6/site-packages/distributed/core.py\", line 533, in send_recv\n",
      "    deserializers = serializers\n",
      "  File \"/opt/conda/envs/cubeenv/lib/python3.6/site-packages/tornado/gen.py\", line 735, in run\n",
      "    value = future.result()\n",
      "  File \"/opt/conda/envs/cubeenv/lib/python3.6/site-packages/tornado/gen.py\", line 748, in run\n",
      "    yielded = self.gen.send(value)\n",
      "  File \"/opt/conda/envs/cubeenv/lib/python3.6/site-packages/distributed/comm/tcp.py\", line 245, in write\n",
      "    # Can't wait for the write() Future as it may be lost\n",
      "NameError: name 'PY3' is not defined\n",
      "tornado.application - ERROR - Exception in callback functools.partial(<bound method IOLoop._discard_future_result of <zmq.eventloop.ioloop.ZMQIOLoop object at 0x7f1570ace400>>, <Future finished exception=NameError(\"name 'PY3' is not defined\",)>)\n",
      "Traceback (most recent call last):\n",
      "  File \"/opt/conda/envs/cubeenv/lib/python3.6/site-packages/tornado/ioloop.py\", line 743, in _run_callback\n",
      "    ret = callback()\n",
      "  File \"/opt/conda/envs/cubeenv/lib/python3.6/site-packages/tornado/ioloop.py\", line 767, in _discard_future_result\n",
      "    future.result()\n",
      "  File \"/opt/conda/envs/cubeenv/lib/python3.6/site-packages/tornado/gen.py\", line 742, in run\n",
      "    yielded = self.gen.throw(*exc_info)  # type: ignore\n",
      "  File \"/opt/conda/envs/cubeenv/lib/python3.6/site-packages/distributed/client.py\", line 1060, in _update_scheduler_info\n",
      "    raise\n",
      "  File \"/opt/conda/envs/cubeenv/lib/python3.6/site-packages/tornado/gen.py\", line 735, in run\n",
      "    value = future.result()\n",
      "  File \"/opt/conda/envs/cubeenv/lib/python3.6/site-packages/tornado/gen.py\", line 742, in run\n",
      "    yielded = self.gen.throw(*exc_info)  # type: ignore\n",
      "  File \"/opt/conda/envs/cubeenv/lib/python3.6/site-packages/distributed/core.py\", line 741, in send_recv_from_rpc\n",
      "    self.serializers = serializers\n",
      "  File \"/opt/conda/envs/cubeenv/lib/python3.6/site-packages/tornado/gen.py\", line 735, in run\n",
      "    value = future.result()\n",
      "  File \"/opt/conda/envs/cubeenv/lib/python3.6/site-packages/tornado/gen.py\", line 742, in run\n",
      "    yielded = self.gen.throw(*exc_info)  # type: ignore\n",
      "  File \"/opt/conda/envs/cubeenv/lib/python3.6/site-packages/distributed/core.py\", line 533, in send_recv\n",
      "    deserializers = serializers\n",
      "  File \"/opt/conda/envs/cubeenv/lib/python3.6/site-packages/tornado/gen.py\", line 735, in run\n",
      "    value = future.result()\n",
      "  File \"/opt/conda/envs/cubeenv/lib/python3.6/site-packages/tornado/gen.py\", line 748, in run\n",
      "    yielded = self.gen.send(value)\n",
      "  File \"/opt/conda/envs/cubeenv/lib/python3.6/site-packages/distributed/comm/tcp.py\", line 245, in write\n",
      "    # Can't wait for the write() Future as it may be lost\n",
      "NameError: name 'PY3' is not defined\n",
      "tornado.application - ERROR - Exception in callback functools.partial(<bound method IOLoop._discard_future_result of <zmq.eventloop.ioloop.ZMQIOLoop object at 0x7f1570ace400>>, <Future finished exception=NameError(\"name 'PY3' is not defined\",)>)\n",
      "Traceback (most recent call last):\n",
      "  File \"/opt/conda/envs/cubeenv/lib/python3.6/site-packages/tornado/ioloop.py\", line 743, in _run_callback\n",
      "    ret = callback()\n",
      "  File \"/opt/conda/envs/cubeenv/lib/python3.6/site-packages/tornado/ioloop.py\", line 767, in _discard_future_result\n",
      "    future.result()\n",
      "  File \"/opt/conda/envs/cubeenv/lib/python3.6/site-packages/tornado/gen.py\", line 742, in run\n",
      "    yielded = self.gen.throw(*exc_info)  # type: ignore\n",
      "  File \"/opt/conda/envs/cubeenv/lib/python3.6/site-packages/distributed/client.py\", line 1060, in _update_scheduler_info\n",
      "    raise\n",
      "  File \"/opt/conda/envs/cubeenv/lib/python3.6/site-packages/tornado/gen.py\", line 735, in run\n",
      "    value = future.result()\n",
      "  File \"/opt/conda/envs/cubeenv/lib/python3.6/site-packages/tornado/gen.py\", line 742, in run\n",
      "    yielded = self.gen.throw(*exc_info)  # type: ignore\n",
      "  File \"/opt/conda/envs/cubeenv/lib/python3.6/site-packages/distributed/core.py\", line 741, in send_recv_from_rpc\n",
      "    self.serializers = serializers\n",
      "  File \"/opt/conda/envs/cubeenv/lib/python3.6/site-packages/tornado/gen.py\", line 735, in run\n",
      "    value = future.result()\n",
      "  File \"/opt/conda/envs/cubeenv/lib/python3.6/site-packages/tornado/gen.py\", line 742, in run\n",
      "    yielded = self.gen.throw(*exc_info)  # type: ignore\n",
      "  File \"/opt/conda/envs/cubeenv/lib/python3.6/site-packages/distributed/core.py\", line 533, in send_recv\n",
      "    deserializers = serializers\n",
      "  File \"/opt/conda/envs/cubeenv/lib/python3.6/site-packages/tornado/gen.py\", line 735, in run\n",
      "    value = future.result()\n",
      "  File \"/opt/conda/envs/cubeenv/lib/python3.6/site-packages/tornado/gen.py\", line 748, in run\n",
      "    yielded = self.gen.send(value)\n",
      "  File \"/opt/conda/envs/cubeenv/lib/python3.6/site-packages/distributed/comm/tcp.py\", line 245, in write\n",
      "    # Can't wait for the write() Future as it may be lost\n",
      "NameError: name 'PY3' is not defined\n",
      "tornado.application - ERROR - Exception in callback functools.partial(<bound method IOLoop._discard_future_result of <zmq.eventloop.ioloop.ZMQIOLoop object at 0x7f1570ace400>>, <Future finished exception=NameError(\"name 'PY3' is not defined\",)>)\n",
      "Traceback (most recent call last):\n",
      "  File \"/opt/conda/envs/cubeenv/lib/python3.6/site-packages/tornado/ioloop.py\", line 743, in _run_callback\n",
      "    ret = callback()\n",
      "  File \"/opt/conda/envs/cubeenv/lib/python3.6/site-packages/tornado/ioloop.py\", line 767, in _discard_future_result\n",
      "    future.result()\n",
      "  File \"/opt/conda/envs/cubeenv/lib/python3.6/site-packages/tornado/gen.py\", line 742, in run\n",
      "    yielded = self.gen.throw(*exc_info)  # type: ignore\n",
      "  File \"/opt/conda/envs/cubeenv/lib/python3.6/site-packages/distributed/client.py\", line 1060, in _update_scheduler_info\n",
      "    raise\n",
      "  File \"/opt/conda/envs/cubeenv/lib/python3.6/site-packages/tornado/gen.py\", line 735, in run\n",
      "    value = future.result()\n",
      "  File \"/opt/conda/envs/cubeenv/lib/python3.6/site-packages/tornado/gen.py\", line 742, in run\n",
      "    yielded = self.gen.throw(*exc_info)  # type: ignore\n",
      "  File \"/opt/conda/envs/cubeenv/lib/python3.6/site-packages/distributed/core.py\", line 741, in send_recv_from_rpc\n",
      "    self.serializers = serializers\n",
      "  File \"/opt/conda/envs/cubeenv/lib/python3.6/site-packages/tornado/gen.py\", line 735, in run\n",
      "    value = future.result()\n",
      "  File \"/opt/conda/envs/cubeenv/lib/python3.6/site-packages/tornado/gen.py\", line 742, in run\n",
      "    yielded = self.gen.throw(*exc_info)  # type: ignore\n",
      "  File \"/opt/conda/envs/cubeenv/lib/python3.6/site-packages/distributed/core.py\", line 533, in send_recv\n",
      "    deserializers = serializers\n",
      "  File \"/opt/conda/envs/cubeenv/lib/python3.6/site-packages/tornado/gen.py\", line 735, in run\n",
      "    value = future.result()\n",
      "  File \"/opt/conda/envs/cubeenv/lib/python3.6/site-packages/tornado/gen.py\", line 748, in run\n",
      "    yielded = self.gen.send(value)\n",
      "  File \"/opt/conda/envs/cubeenv/lib/python3.6/site-packages/distributed/comm/tcp.py\", line 245, in write\n",
      "    # Can't wait for the write() Future as it may be lost\n",
      "NameError: name 'PY3' is not defined\n",
      "tornado.application - ERROR - Exception in callback functools.partial(<bound method IOLoop._discard_future_result of <zmq.eventloop.ioloop.ZMQIOLoop object at 0x7f1570ace400>>, <Future finished exception=NameError(\"name 'PY3' is not defined\",)>)\n",
      "Traceback (most recent call last):\n",
      "  File \"/opt/conda/envs/cubeenv/lib/python3.6/site-packages/tornado/ioloop.py\", line 743, in _run_callback\n",
      "    ret = callback()\n",
      "  File \"/opt/conda/envs/cubeenv/lib/python3.6/site-packages/tornado/ioloop.py\", line 767, in _discard_future_result\n",
      "    future.result()\n",
      "  File \"/opt/conda/envs/cubeenv/lib/python3.6/site-packages/tornado/gen.py\", line 742, in run\n",
      "    yielded = self.gen.throw(*exc_info)  # type: ignore\n",
      "  File \"/opt/conda/envs/cubeenv/lib/python3.6/site-packages/distributed/client.py\", line 1060, in _update_scheduler_info\n",
      "    raise\n",
      "  File \"/opt/conda/envs/cubeenv/lib/python3.6/site-packages/tornado/gen.py\", line 735, in run\n",
      "    value = future.result()\n",
      "  File \"/opt/conda/envs/cubeenv/lib/python3.6/site-packages/tornado/gen.py\", line 742, in run\n",
      "    yielded = self.gen.throw(*exc_info)  # type: ignore\n",
      "  File \"/opt/conda/envs/cubeenv/lib/python3.6/site-packages/distributed/core.py\", line 741, in send_recv_from_rpc\n",
      "    self.serializers = serializers\n",
      "  File \"/opt/conda/envs/cubeenv/lib/python3.6/site-packages/tornado/gen.py\", line 735, in run\n",
      "    value = future.result()\n",
      "  File \"/opt/conda/envs/cubeenv/lib/python3.6/site-packages/tornado/gen.py\", line 742, in run\n",
      "    yielded = self.gen.throw(*exc_info)  # type: ignore\n",
      "  File \"/opt/conda/envs/cubeenv/lib/python3.6/site-packages/distributed/core.py\", line 533, in send_recv\n",
      "    deserializers = serializers\n",
      "  File \"/opt/conda/envs/cubeenv/lib/python3.6/site-packages/tornado/gen.py\", line 735, in run\n",
      "    value = future.result()\n",
      "  File \"/opt/conda/envs/cubeenv/lib/python3.6/site-packages/tornado/gen.py\", line 748, in run\n",
      "    yielded = self.gen.send(value)\n",
      "  File \"/opt/conda/envs/cubeenv/lib/python3.6/site-packages/distributed/comm/tcp.py\", line 245, in write\n",
      "    # Can't wait for the write() Future as it may be lost\n",
      "NameError: name 'PY3' is not defined\n",
      "tornado.application - ERROR - Exception in callback functools.partial(<bound method IOLoop._discard_future_result of <zmq.eventloop.ioloop.ZMQIOLoop object at 0x7f1570ace400>>, <Future finished exception=NameError(\"name 'PY3' is not defined\",)>)\n",
      "Traceback (most recent call last):\n",
      "  File \"/opt/conda/envs/cubeenv/lib/python3.6/site-packages/tornado/ioloop.py\", line 743, in _run_callback\n",
      "    ret = callback()\n",
      "  File \"/opt/conda/envs/cubeenv/lib/python3.6/site-packages/tornado/ioloop.py\", line 767, in _discard_future_result\n",
      "    future.result()\n",
      "  File \"/opt/conda/envs/cubeenv/lib/python3.6/site-packages/tornado/gen.py\", line 742, in run\n",
      "    yielded = self.gen.throw(*exc_info)  # type: ignore\n",
      "  File \"/opt/conda/envs/cubeenv/lib/python3.6/site-packages/distributed/client.py\", line 1060, in _update_scheduler_info\n",
      "    raise\n",
      "  File \"/opt/conda/envs/cubeenv/lib/python3.6/site-packages/tornado/gen.py\", line 735, in run\n",
      "    value = future.result()\n",
      "  File \"/opt/conda/envs/cubeenv/lib/python3.6/site-packages/tornado/gen.py\", line 742, in run\n",
      "    yielded = self.gen.throw(*exc_info)  # type: ignore\n",
      "  File \"/opt/conda/envs/cubeenv/lib/python3.6/site-packages/distributed/core.py\", line 741, in send_recv_from_rpc\n",
      "    self.serializers = serializers\n",
      "  File \"/opt/conda/envs/cubeenv/lib/python3.6/site-packages/tornado/gen.py\", line 735, in run\n",
      "    value = future.result()\n",
      "  File \"/opt/conda/envs/cubeenv/lib/python3.6/site-packages/tornado/gen.py\", line 742, in run\n",
      "    yielded = self.gen.throw(*exc_info)  # type: ignore\n",
      "  File \"/opt/conda/envs/cubeenv/lib/python3.6/site-packages/distributed/core.py\", line 533, in send_recv\n",
      "    deserializers = serializers\n",
      "  File \"/opt/conda/envs/cubeenv/lib/python3.6/site-packages/tornado/gen.py\", line 735, in run\n",
      "    value = future.result()\n",
      "  File \"/opt/conda/envs/cubeenv/lib/python3.6/site-packages/tornado/gen.py\", line 748, in run\n",
      "    yielded = self.gen.send(value)\n",
      "  File \"/opt/conda/envs/cubeenv/lib/python3.6/site-packages/distributed/comm/tcp.py\", line 245, in write\n",
      "    # Can't wait for the write() Future as it may be lost\n",
      "NameError: name 'PY3' is not defined\n",
      "tornado.application - ERROR - Exception in callback functools.partial(<bound method IOLoop._discard_future_result of <zmq.eventloop.ioloop.ZMQIOLoop object at 0x7f1570ace400>>, <Future finished exception=NameError(\"name 'PY3' is not defined\",)>)\n",
      "Traceback (most recent call last):\n",
      "  File \"/opt/conda/envs/cubeenv/lib/python3.6/site-packages/tornado/ioloop.py\", line 743, in _run_callback\n",
      "    ret = callback()\n",
      "  File \"/opt/conda/envs/cubeenv/lib/python3.6/site-packages/tornado/ioloop.py\", line 767, in _discard_future_result\n",
      "    future.result()\n",
      "  File \"/opt/conda/envs/cubeenv/lib/python3.6/site-packages/tornado/gen.py\", line 742, in run\n",
      "    yielded = self.gen.throw(*exc_info)  # type: ignore\n",
      "  File \"/opt/conda/envs/cubeenv/lib/python3.6/site-packages/distributed/client.py\", line 1060, in _update_scheduler_info\n",
      "    raise\n",
      "  File \"/opt/conda/envs/cubeenv/lib/python3.6/site-packages/tornado/gen.py\", line 735, in run\n",
      "    value = future.result()\n",
      "  File \"/opt/conda/envs/cubeenv/lib/python3.6/site-packages/tornado/gen.py\", line 742, in run\n",
      "    yielded = self.gen.throw(*exc_info)  # type: ignore\n",
      "  File \"/opt/conda/envs/cubeenv/lib/python3.6/site-packages/distributed/core.py\", line 741, in send_recv_from_rpc\n",
      "    self.serializers = serializers\n",
      "  File \"/opt/conda/envs/cubeenv/lib/python3.6/site-packages/tornado/gen.py\", line 735, in run\n",
      "    value = future.result()\n",
      "  File \"/opt/conda/envs/cubeenv/lib/python3.6/site-packages/tornado/gen.py\", line 742, in run\n",
      "    yielded = self.gen.throw(*exc_info)  # type: ignore\n",
      "  File \"/opt/conda/envs/cubeenv/lib/python3.6/site-packages/distributed/core.py\", line 533, in send_recv\n",
      "    deserializers = serializers\n",
      "  File \"/opt/conda/envs/cubeenv/lib/python3.6/site-packages/tornado/gen.py\", line 735, in run\n",
      "    value = future.result()\n",
      "  File \"/opt/conda/envs/cubeenv/lib/python3.6/site-packages/tornado/gen.py\", line 748, in run\n",
      "    yielded = self.gen.send(value)\n",
      "  File \"/opt/conda/envs/cubeenv/lib/python3.6/site-packages/distributed/comm/tcp.py\", line 245, in write\n",
      "    # Can't wait for the write() Future as it may be lost\n",
      "NameError: name 'PY3' is not defined\n",
      "tornado.application - ERROR - Exception in callback functools.partial(<bound method IOLoop._discard_future_result of <zmq.eventloop.ioloop.ZMQIOLoop object at 0x7f1570ace400>>, <Future finished exception=NameError(\"name 'PY3' is not defined\",)>)\n",
      "Traceback (most recent call last):\n",
      "  File \"/opt/conda/envs/cubeenv/lib/python3.6/site-packages/tornado/ioloop.py\", line 743, in _run_callback\n",
      "    ret = callback()\n",
      "  File \"/opt/conda/envs/cubeenv/lib/python3.6/site-packages/tornado/ioloop.py\", line 767, in _discard_future_result\n",
      "    future.result()\n",
      "  File \"/opt/conda/envs/cubeenv/lib/python3.6/site-packages/tornado/gen.py\", line 742, in run\n",
      "    yielded = self.gen.throw(*exc_info)  # type: ignore\n",
      "  File \"/opt/conda/envs/cubeenv/lib/python3.6/site-packages/distributed/client.py\", line 1060, in _update_scheduler_info\n",
      "    raise\n",
      "  File \"/opt/conda/envs/cubeenv/lib/python3.6/site-packages/tornado/gen.py\", line 735, in run\n",
      "    value = future.result()\n",
      "  File \"/opt/conda/envs/cubeenv/lib/python3.6/site-packages/tornado/gen.py\", line 742, in run\n",
      "    yielded = self.gen.throw(*exc_info)  # type: ignore\n",
      "  File \"/opt/conda/envs/cubeenv/lib/python3.6/site-packages/distributed/core.py\", line 741, in send_recv_from_rpc\n",
      "    self.serializers = serializers\n",
      "  File \"/opt/conda/envs/cubeenv/lib/python3.6/site-packages/tornado/gen.py\", line 735, in run\n",
      "    value = future.result()\n",
      "  File \"/opt/conda/envs/cubeenv/lib/python3.6/site-packages/tornado/gen.py\", line 742, in run\n",
      "    yielded = self.gen.throw(*exc_info)  # type: ignore\n",
      "  File \"/opt/conda/envs/cubeenv/lib/python3.6/site-packages/distributed/core.py\", line 533, in send_recv\n",
      "    deserializers = serializers\n",
      "  File \"/opt/conda/envs/cubeenv/lib/python3.6/site-packages/tornado/gen.py\", line 735, in run\n",
      "    value = future.result()\n",
      "  File \"/opt/conda/envs/cubeenv/lib/python3.6/site-packages/tornado/gen.py\", line 748, in run\n",
      "    yielded = self.gen.send(value)\n",
      "  File \"/opt/conda/envs/cubeenv/lib/python3.6/site-packages/distributed/comm/tcp.py\", line 245, in write\n",
      "    # Can't wait for the write() Future as it may be lost\n",
      "NameError: name 'PY3' is not defined\n",
      "tornado.application - ERROR - Exception in callback functools.partial(<bound method IOLoop._discard_future_result of <zmq.eventloop.ioloop.ZMQIOLoop object at 0x7f1570ace400>>, <Future finished exception=NameError(\"name 'PY3' is not defined\",)>)\n",
      "Traceback (most recent call last):\n",
      "  File \"/opt/conda/envs/cubeenv/lib/python3.6/site-packages/tornado/ioloop.py\", line 743, in _run_callback\n",
      "    ret = callback()\n",
      "  File \"/opt/conda/envs/cubeenv/lib/python3.6/site-packages/tornado/ioloop.py\", line 767, in _discard_future_result\n",
      "    future.result()\n",
      "  File \"/opt/conda/envs/cubeenv/lib/python3.6/site-packages/tornado/gen.py\", line 742, in run\n",
      "    yielded = self.gen.throw(*exc_info)  # type: ignore\n",
      "  File \"/opt/conda/envs/cubeenv/lib/python3.6/site-packages/distributed/client.py\", line 1060, in _update_scheduler_info\n",
      "    raise\n",
      "  File \"/opt/conda/envs/cubeenv/lib/python3.6/site-packages/tornado/gen.py\", line 735, in run\n",
      "    value = future.result()\n",
      "  File \"/opt/conda/envs/cubeenv/lib/python3.6/site-packages/tornado/gen.py\", line 742, in run\n",
      "    yielded = self.gen.throw(*exc_info)  # type: ignore\n",
      "  File \"/opt/conda/envs/cubeenv/lib/python3.6/site-packages/distributed/core.py\", line 741, in send_recv_from_rpc\n",
      "    self.serializers = serializers\n",
      "  File \"/opt/conda/envs/cubeenv/lib/python3.6/site-packages/tornado/gen.py\", line 735, in run\n",
      "    value = future.result()\n",
      "  File \"/opt/conda/envs/cubeenv/lib/python3.6/site-packages/tornado/gen.py\", line 742, in run\n",
      "    yielded = self.gen.throw(*exc_info)  # type: ignore\n",
      "  File \"/opt/conda/envs/cubeenv/lib/python3.6/site-packages/distributed/core.py\", line 533, in send_recv\n",
      "    deserializers = serializers\n",
      "  File \"/opt/conda/envs/cubeenv/lib/python3.6/site-packages/tornado/gen.py\", line 735, in run\n",
      "    value = future.result()\n",
      "  File \"/opt/conda/envs/cubeenv/lib/python3.6/site-packages/tornado/gen.py\", line 748, in run\n",
      "    yielded = self.gen.send(value)\n",
      "  File \"/opt/conda/envs/cubeenv/lib/python3.6/site-packages/distributed/comm/tcp.py\", line 245, in write\n",
      "    # Can't wait for the write() Future as it may be lost\n",
      "NameError: name 'PY3' is not defined\n"
     ]
    }
   ],
   "source": [
    "!conda install -c conda-forge dask-ml"
   ]
  },
  {
   "cell_type": "code",
   "execution_count": 85,
   "metadata": {},
   "outputs": [
    {
     "ename": "ContextualVersionConflict",
     "evalue": "(distributed 2.0.1 (/opt/conda/envs/cubeenv/lib/python3.6/site-packages), Requirement.parse('distributed>=2.4.0'), {'dask-ml'})",
     "output_type": "error",
     "traceback": [
      "\u001b[0;31m---------------------------------------------------------------------------\u001b[0m",
      "\u001b[0;31mContextualVersionConflict\u001b[0m                 Traceback (most recent call last)",
      "\u001b[0;32m<ipython-input-85-0f3d1638aea9>\u001b[0m in \u001b[0;36m<module>\u001b[0;34m\u001b[0m\n\u001b[0;32m----> 1\u001b[0;31m \u001b[0;32mfrom\u001b[0m \u001b[0mdask_ml\u001b[0m\u001b[0;34m.\u001b[0m\u001b[0mpreprocessing\u001b[0m \u001b[0;32mimport\u001b[0m \u001b[0mCategorizer\u001b[0m\u001b[0;34m,\u001b[0m \u001b[0mDummyEncoder\u001b[0m\u001b[0;34m\u001b[0m\u001b[0;34m\u001b[0m\u001b[0m\n\u001b[0m",
      "\u001b[0;32m/opt/conda/envs/cubeenv/lib/python3.6/site-packages/dask_ml/__init__.py\u001b[0m in \u001b[0;36m<module>\u001b[0;34m\u001b[0m\n\u001b[1;32m      2\u001b[0m \u001b[0;34m\u001b[0m\u001b[0m\n\u001b[1;32m      3\u001b[0m \u001b[0;32mtry\u001b[0m\u001b[0;34m:\u001b[0m\u001b[0;34m\u001b[0m\u001b[0;34m\u001b[0m\u001b[0m\n\u001b[0;32m----> 4\u001b[0;31m     \u001b[0m__version__\u001b[0m \u001b[0;34m=\u001b[0m \u001b[0mget_distribution\u001b[0m\u001b[0;34m(\u001b[0m\u001b[0m__name__\u001b[0m\u001b[0;34m)\u001b[0m\u001b[0;34m.\u001b[0m\u001b[0mversion\u001b[0m\u001b[0;34m\u001b[0m\u001b[0;34m\u001b[0m\u001b[0m\n\u001b[0m\u001b[1;32m      5\u001b[0m \u001b[0;32mexcept\u001b[0m \u001b[0mDistributionNotFound\u001b[0m\u001b[0;34m:\u001b[0m\u001b[0;34m\u001b[0m\u001b[0;34m\u001b[0m\u001b[0m\n\u001b[1;32m      6\u001b[0m     \u001b[0;31m# package is not installed\u001b[0m\u001b[0;34m\u001b[0m\u001b[0;34m\u001b[0m\u001b[0;34m\u001b[0m\u001b[0m\n",
      "\u001b[0;32m/opt/conda/envs/cubeenv/lib/python3.6/site-packages/pkg_resources/__init__.py\u001b[0m in \u001b[0;36mget_distribution\u001b[0;34m(dist)\u001b[0m\n\u001b[1;32m    479\u001b[0m         \u001b[0mdist\u001b[0m \u001b[0;34m=\u001b[0m \u001b[0mRequirement\u001b[0m\u001b[0;34m.\u001b[0m\u001b[0mparse\u001b[0m\u001b[0;34m(\u001b[0m\u001b[0mdist\u001b[0m\u001b[0;34m)\u001b[0m\u001b[0;34m\u001b[0m\u001b[0;34m\u001b[0m\u001b[0m\n\u001b[1;32m    480\u001b[0m     \u001b[0;32mif\u001b[0m \u001b[0misinstance\u001b[0m\u001b[0;34m(\u001b[0m\u001b[0mdist\u001b[0m\u001b[0;34m,\u001b[0m \u001b[0mRequirement\u001b[0m\u001b[0;34m)\u001b[0m\u001b[0;34m:\u001b[0m\u001b[0;34m\u001b[0m\u001b[0;34m\u001b[0m\u001b[0m\n\u001b[0;32m--> 481\u001b[0;31m         \u001b[0mdist\u001b[0m \u001b[0;34m=\u001b[0m \u001b[0mget_provider\u001b[0m\u001b[0;34m(\u001b[0m\u001b[0mdist\u001b[0m\u001b[0;34m)\u001b[0m\u001b[0;34m\u001b[0m\u001b[0;34m\u001b[0m\u001b[0m\n\u001b[0m\u001b[1;32m    482\u001b[0m     \u001b[0;32mif\u001b[0m \u001b[0;32mnot\u001b[0m \u001b[0misinstance\u001b[0m\u001b[0;34m(\u001b[0m\u001b[0mdist\u001b[0m\u001b[0;34m,\u001b[0m \u001b[0mDistribution\u001b[0m\u001b[0;34m)\u001b[0m\u001b[0;34m:\u001b[0m\u001b[0;34m\u001b[0m\u001b[0;34m\u001b[0m\u001b[0m\n\u001b[1;32m    483\u001b[0m         \u001b[0;32mraise\u001b[0m \u001b[0mTypeError\u001b[0m\u001b[0;34m(\u001b[0m\u001b[0;34m\"Expected string, Requirement, or Distribution\"\u001b[0m\u001b[0;34m,\u001b[0m \u001b[0mdist\u001b[0m\u001b[0;34m)\u001b[0m\u001b[0;34m\u001b[0m\u001b[0;34m\u001b[0m\u001b[0m\n",
      "\u001b[0;32m/opt/conda/envs/cubeenv/lib/python3.6/site-packages/pkg_resources/__init__.py\u001b[0m in \u001b[0;36mget_provider\u001b[0;34m(moduleOrReq)\u001b[0m\n\u001b[1;32m    355\u001b[0m     \u001b[0;34m\"\"\"Return an IResourceProvider for the named module or requirement\"\"\"\u001b[0m\u001b[0;34m\u001b[0m\u001b[0;34m\u001b[0m\u001b[0m\n\u001b[1;32m    356\u001b[0m     \u001b[0;32mif\u001b[0m \u001b[0misinstance\u001b[0m\u001b[0;34m(\u001b[0m\u001b[0mmoduleOrReq\u001b[0m\u001b[0;34m,\u001b[0m \u001b[0mRequirement\u001b[0m\u001b[0;34m)\u001b[0m\u001b[0;34m:\u001b[0m\u001b[0;34m\u001b[0m\u001b[0;34m\u001b[0m\u001b[0m\n\u001b[0;32m--> 357\u001b[0;31m         \u001b[0;32mreturn\u001b[0m \u001b[0mworking_set\u001b[0m\u001b[0;34m.\u001b[0m\u001b[0mfind\u001b[0m\u001b[0;34m(\u001b[0m\u001b[0mmoduleOrReq\u001b[0m\u001b[0;34m)\u001b[0m \u001b[0;32mor\u001b[0m \u001b[0mrequire\u001b[0m\u001b[0;34m(\u001b[0m\u001b[0mstr\u001b[0m\u001b[0;34m(\u001b[0m\u001b[0mmoduleOrReq\u001b[0m\u001b[0;34m)\u001b[0m\u001b[0;34m)\u001b[0m\u001b[0;34m[\u001b[0m\u001b[0;36m0\u001b[0m\u001b[0;34m]\u001b[0m\u001b[0;34m\u001b[0m\u001b[0;34m\u001b[0m\u001b[0m\n\u001b[0m\u001b[1;32m    358\u001b[0m     \u001b[0;32mtry\u001b[0m\u001b[0;34m:\u001b[0m\u001b[0;34m\u001b[0m\u001b[0;34m\u001b[0m\u001b[0m\n\u001b[1;32m    359\u001b[0m         \u001b[0mmodule\u001b[0m \u001b[0;34m=\u001b[0m \u001b[0msys\u001b[0m\u001b[0;34m.\u001b[0m\u001b[0mmodules\u001b[0m\u001b[0;34m[\u001b[0m\u001b[0mmoduleOrReq\u001b[0m\u001b[0;34m]\u001b[0m\u001b[0;34m\u001b[0m\u001b[0;34m\u001b[0m\u001b[0m\n",
      "\u001b[0;32m/opt/conda/envs/cubeenv/lib/python3.6/site-packages/pkg_resources/__init__.py\u001b[0m in \u001b[0;36mrequire\u001b[0;34m(self, *requirements)\u001b[0m\n\u001b[1;32m    898\u001b[0m         \u001b[0mincluded\u001b[0m\u001b[0;34m,\u001b[0m \u001b[0meven\u001b[0m \u001b[0;32mif\u001b[0m \u001b[0mthey\u001b[0m \u001b[0mwere\u001b[0m \u001b[0malready\u001b[0m \u001b[0mactivated\u001b[0m \u001b[0;32min\u001b[0m \u001b[0mthis\u001b[0m \u001b[0mworking\u001b[0m \u001b[0mset\u001b[0m\u001b[0;34m.\u001b[0m\u001b[0;34m\u001b[0m\u001b[0;34m\u001b[0m\u001b[0m\n\u001b[1;32m    899\u001b[0m         \"\"\"\n\u001b[0;32m--> 900\u001b[0;31m         \u001b[0mneeded\u001b[0m \u001b[0;34m=\u001b[0m \u001b[0mself\u001b[0m\u001b[0;34m.\u001b[0m\u001b[0mresolve\u001b[0m\u001b[0;34m(\u001b[0m\u001b[0mparse_requirements\u001b[0m\u001b[0;34m(\u001b[0m\u001b[0mrequirements\u001b[0m\u001b[0;34m)\u001b[0m\u001b[0;34m)\u001b[0m\u001b[0;34m\u001b[0m\u001b[0;34m\u001b[0m\u001b[0m\n\u001b[0m\u001b[1;32m    901\u001b[0m \u001b[0;34m\u001b[0m\u001b[0m\n\u001b[1;32m    902\u001b[0m         \u001b[0;32mfor\u001b[0m \u001b[0mdist\u001b[0m \u001b[0;32min\u001b[0m \u001b[0mneeded\u001b[0m\u001b[0;34m:\u001b[0m\u001b[0;34m\u001b[0m\u001b[0;34m\u001b[0m\u001b[0m\n",
      "\u001b[0;32m/opt/conda/envs/cubeenv/lib/python3.6/site-packages/pkg_resources/__init__.py\u001b[0m in \u001b[0;36mresolve\u001b[0;34m(self, requirements, env, installer, replace_conflicting, extras)\u001b[0m\n\u001b[1;32m    789\u001b[0m                 \u001b[0;31m# Oops, the \"best\" so far conflicts with a dependency\u001b[0m\u001b[0;34m\u001b[0m\u001b[0;34m\u001b[0m\u001b[0;34m\u001b[0m\u001b[0m\n\u001b[1;32m    790\u001b[0m                 \u001b[0mdependent_req\u001b[0m \u001b[0;34m=\u001b[0m \u001b[0mrequired_by\u001b[0m\u001b[0;34m[\u001b[0m\u001b[0mreq\u001b[0m\u001b[0;34m]\u001b[0m\u001b[0;34m\u001b[0m\u001b[0;34m\u001b[0m\u001b[0m\n\u001b[0;32m--> 791\u001b[0;31m                 \u001b[0;32mraise\u001b[0m \u001b[0mVersionConflict\u001b[0m\u001b[0;34m(\u001b[0m\u001b[0mdist\u001b[0m\u001b[0;34m,\u001b[0m \u001b[0mreq\u001b[0m\u001b[0;34m)\u001b[0m\u001b[0;34m.\u001b[0m\u001b[0mwith_context\u001b[0m\u001b[0;34m(\u001b[0m\u001b[0mdependent_req\u001b[0m\u001b[0;34m)\u001b[0m\u001b[0;34m\u001b[0m\u001b[0;34m\u001b[0m\u001b[0m\n\u001b[0m\u001b[1;32m    792\u001b[0m \u001b[0;34m\u001b[0m\u001b[0m\n\u001b[1;32m    793\u001b[0m             \u001b[0;31m# push the new requirements onto the stack\u001b[0m\u001b[0;34m\u001b[0m\u001b[0;34m\u001b[0m\u001b[0;34m\u001b[0m\u001b[0m\n",
      "\u001b[0;31mContextualVersionConflict\u001b[0m: (distributed 2.0.1 (/opt/conda/envs/cubeenv/lib/python3.6/site-packages), Requirement.parse('distributed>=2.4.0'), {'dask-ml'})"
     ]
    },
    {
     "name": "stderr",
     "output_type": "stream",
     "text": [
      "tornado.application - ERROR - Exception in callback functools.partial(<bound method IOLoop._discard_future_result of <zmq.eventloop.ioloop.ZMQIOLoop object at 0x7f1570ace400>>, <Future finished exception=NameError(\"name 'PY3' is not defined\",)>)\n",
      "Traceback (most recent call last):\n",
      "  File \"/opt/conda/envs/cubeenv/lib/python3.6/site-packages/tornado/ioloop.py\", line 743, in _run_callback\n",
      "    ret = callback()\n",
      "  File \"/opt/conda/envs/cubeenv/lib/python3.6/site-packages/tornado/ioloop.py\", line 767, in _discard_future_result\n",
      "    future.result()\n",
      "  File \"/opt/conda/envs/cubeenv/lib/python3.6/site-packages/tornado/gen.py\", line 742, in run\n",
      "    yielded = self.gen.throw(*exc_info)  # type: ignore\n",
      "  File \"/opt/conda/envs/cubeenv/lib/python3.6/site-packages/distributed/client.py\", line 1060, in _update_scheduler_info\n",
      "    raise\n",
      "  File \"/opt/conda/envs/cubeenv/lib/python3.6/site-packages/tornado/gen.py\", line 735, in run\n",
      "    value = future.result()\n",
      "  File \"/opt/conda/envs/cubeenv/lib/python3.6/site-packages/tornado/gen.py\", line 742, in run\n",
      "    yielded = self.gen.throw(*exc_info)  # type: ignore\n",
      "  File \"/opt/conda/envs/cubeenv/lib/python3.6/site-packages/distributed/core.py\", line 741, in send_recv_from_rpc\n",
      "    self.serializers = serializers\n",
      "  File \"/opt/conda/envs/cubeenv/lib/python3.6/site-packages/tornado/gen.py\", line 735, in run\n",
      "    value = future.result()\n",
      "  File \"/opt/conda/envs/cubeenv/lib/python3.6/site-packages/tornado/gen.py\", line 742, in run\n",
      "    yielded = self.gen.throw(*exc_info)  # type: ignore\n",
      "  File \"/opt/conda/envs/cubeenv/lib/python3.6/site-packages/distributed/core.py\", line 533, in send_recv\n",
      "    deserializers = serializers\n",
      "  File \"/opt/conda/envs/cubeenv/lib/python3.6/site-packages/tornado/gen.py\", line 735, in run\n",
      "    value = future.result()\n",
      "  File \"/opt/conda/envs/cubeenv/lib/python3.6/site-packages/tornado/gen.py\", line 748, in run\n",
      "    yielded = self.gen.send(value)\n",
      "  File \"/opt/conda/envs/cubeenv/lib/python3.6/site-packages/distributed/comm/tcp.py\", line 245, in write\n",
      "    # Can't wait for the write() Future as it may be lost\n",
      "NameError: name 'PY3' is not defined\n",
      "tornado.application - ERROR - Exception in callback functools.partial(<bound method IOLoop._discard_future_result of <zmq.eventloop.ioloop.ZMQIOLoop object at 0x7f1570ace400>>, <Future finished exception=NameError(\"name 'PY3' is not defined\",)>)\n",
      "Traceback (most recent call last):\n",
      "  File \"/opt/conda/envs/cubeenv/lib/python3.6/site-packages/tornado/ioloop.py\", line 743, in _run_callback\n",
      "    ret = callback()\n",
      "  File \"/opt/conda/envs/cubeenv/lib/python3.6/site-packages/tornado/ioloop.py\", line 767, in _discard_future_result\n",
      "    future.result()\n",
      "  File \"/opt/conda/envs/cubeenv/lib/python3.6/site-packages/tornado/gen.py\", line 742, in run\n",
      "    yielded = self.gen.throw(*exc_info)  # type: ignore\n",
      "  File \"/opt/conda/envs/cubeenv/lib/python3.6/site-packages/distributed/client.py\", line 1060, in _update_scheduler_info\n",
      "    raise\n",
      "  File \"/opt/conda/envs/cubeenv/lib/python3.6/site-packages/tornado/gen.py\", line 735, in run\n",
      "    value = future.result()\n",
      "  File \"/opt/conda/envs/cubeenv/lib/python3.6/site-packages/tornado/gen.py\", line 742, in run\n",
      "    yielded = self.gen.throw(*exc_info)  # type: ignore\n",
      "  File \"/opt/conda/envs/cubeenv/lib/python3.6/site-packages/distributed/core.py\", line 741, in send_recv_from_rpc\n",
      "    self.serializers = serializers\n",
      "  File \"/opt/conda/envs/cubeenv/lib/python3.6/site-packages/tornado/gen.py\", line 735, in run\n",
      "    value = future.result()\n",
      "  File \"/opt/conda/envs/cubeenv/lib/python3.6/site-packages/tornado/gen.py\", line 742, in run\n",
      "    yielded = self.gen.throw(*exc_info)  # type: ignore\n",
      "  File \"/opt/conda/envs/cubeenv/lib/python3.6/site-packages/distributed/core.py\", line 533, in send_recv\n",
      "    deserializers = serializers\n",
      "  File \"/opt/conda/envs/cubeenv/lib/python3.6/site-packages/tornado/gen.py\", line 735, in run\n",
      "    value = future.result()\n",
      "  File \"/opt/conda/envs/cubeenv/lib/python3.6/site-packages/tornado/gen.py\", line 748, in run\n",
      "    yielded = self.gen.send(value)\n",
      "  File \"/opt/conda/envs/cubeenv/lib/python3.6/site-packages/distributed/comm/tcp.py\", line 245, in write\n",
      "    # Can't wait for the write() Future as it may be lost\n",
      "NameError: name 'PY3' is not defined\n",
      "tornado.application - ERROR - Exception in callback functools.partial(<bound method IOLoop._discard_future_result of <zmq.eventloop.ioloop.ZMQIOLoop object at 0x7f1570ace400>>, <Future finished exception=NameError(\"name 'PY3' is not defined\",)>)\n",
      "Traceback (most recent call last):\n",
      "  File \"/opt/conda/envs/cubeenv/lib/python3.6/site-packages/tornado/ioloop.py\", line 743, in _run_callback\n",
      "    ret = callback()\n",
      "  File \"/opt/conda/envs/cubeenv/lib/python3.6/site-packages/tornado/ioloop.py\", line 767, in _discard_future_result\n",
      "    future.result()\n",
      "  File \"/opt/conda/envs/cubeenv/lib/python3.6/site-packages/tornado/gen.py\", line 742, in run\n",
      "    yielded = self.gen.throw(*exc_info)  # type: ignore\n",
      "  File \"/opt/conda/envs/cubeenv/lib/python3.6/site-packages/distributed/client.py\", line 1060, in _update_scheduler_info\n",
      "    raise\n",
      "  File \"/opt/conda/envs/cubeenv/lib/python3.6/site-packages/tornado/gen.py\", line 735, in run\n",
      "    value = future.result()\n",
      "  File \"/opt/conda/envs/cubeenv/lib/python3.6/site-packages/tornado/gen.py\", line 742, in run\n",
      "    yielded = self.gen.throw(*exc_info)  # type: ignore\n",
      "  File \"/opt/conda/envs/cubeenv/lib/python3.6/site-packages/distributed/core.py\", line 741, in send_recv_from_rpc\n",
      "    self.serializers = serializers\n",
      "  File \"/opt/conda/envs/cubeenv/lib/python3.6/site-packages/tornado/gen.py\", line 735, in run\n",
      "    value = future.result()\n",
      "  File \"/opt/conda/envs/cubeenv/lib/python3.6/site-packages/tornado/gen.py\", line 742, in run\n",
      "    yielded = self.gen.throw(*exc_info)  # type: ignore\n",
      "  File \"/opt/conda/envs/cubeenv/lib/python3.6/site-packages/distributed/core.py\", line 533, in send_recv\n",
      "    deserializers = serializers\n",
      "  File \"/opt/conda/envs/cubeenv/lib/python3.6/site-packages/tornado/gen.py\", line 735, in run\n",
      "    value = future.result()\n",
      "  File \"/opt/conda/envs/cubeenv/lib/python3.6/site-packages/tornado/gen.py\", line 748, in run\n",
      "    yielded = self.gen.send(value)\n",
      "  File \"/opt/conda/envs/cubeenv/lib/python3.6/site-packages/distributed/comm/tcp.py\", line 245, in write\n",
      "    # Can't wait for the write() Future as it may be lost\n",
      "NameError: name 'PY3' is not defined\n",
      "tornado.application - ERROR - Exception in callback functools.partial(<bound method IOLoop._discard_future_result of <zmq.eventloop.ioloop.ZMQIOLoop object at 0x7f1570ace400>>, <Future finished exception=NameError(\"name 'PY3' is not defined\",)>)\n",
      "Traceback (most recent call last):\n",
      "  File \"/opt/conda/envs/cubeenv/lib/python3.6/site-packages/tornado/ioloop.py\", line 743, in _run_callback\n",
      "    ret = callback()\n",
      "  File \"/opt/conda/envs/cubeenv/lib/python3.6/site-packages/tornado/ioloop.py\", line 767, in _discard_future_result\n",
      "    future.result()\n",
      "  File \"/opt/conda/envs/cubeenv/lib/python3.6/site-packages/tornado/gen.py\", line 742, in run\n",
      "    yielded = self.gen.throw(*exc_info)  # type: ignore\n",
      "  File \"/opt/conda/envs/cubeenv/lib/python3.6/site-packages/distributed/client.py\", line 1060, in _update_scheduler_info\n",
      "    raise\n",
      "  File \"/opt/conda/envs/cubeenv/lib/python3.6/site-packages/tornado/gen.py\", line 735, in run\n",
      "    value = future.result()\n",
      "  File \"/opt/conda/envs/cubeenv/lib/python3.6/site-packages/tornado/gen.py\", line 742, in run\n",
      "    yielded = self.gen.throw(*exc_info)  # type: ignore\n",
      "  File \"/opt/conda/envs/cubeenv/lib/python3.6/site-packages/distributed/core.py\", line 741, in send_recv_from_rpc\n",
      "    self.serializers = serializers\n",
      "  File \"/opt/conda/envs/cubeenv/lib/python3.6/site-packages/tornado/gen.py\", line 735, in run\n",
      "    value = future.result()\n",
      "  File \"/opt/conda/envs/cubeenv/lib/python3.6/site-packages/tornado/gen.py\", line 742, in run\n",
      "    yielded = self.gen.throw(*exc_info)  # type: ignore\n",
      "  File \"/opt/conda/envs/cubeenv/lib/python3.6/site-packages/distributed/core.py\", line 533, in send_recv\n",
      "    deserializers = serializers\n",
      "  File \"/opt/conda/envs/cubeenv/lib/python3.6/site-packages/tornado/gen.py\", line 735, in run\n",
      "    value = future.result()\n",
      "  File \"/opt/conda/envs/cubeenv/lib/python3.6/site-packages/tornado/gen.py\", line 748, in run\n",
      "    yielded = self.gen.send(value)\n",
      "  File \"/opt/conda/envs/cubeenv/lib/python3.6/site-packages/distributed/comm/tcp.py\", line 245, in write\n",
      "    # Can't wait for the write() Future as it may be lost\n",
      "NameError: name 'PY3' is not defined\n",
      "tornado.application - ERROR - Exception in callback functools.partial(<bound method IOLoop._discard_future_result of <zmq.eventloop.ioloop.ZMQIOLoop object at 0x7f1570ace400>>, <Future finished exception=NameError(\"name 'PY3' is not defined\",)>)\n",
      "Traceback (most recent call last):\n",
      "  File \"/opt/conda/envs/cubeenv/lib/python3.6/site-packages/tornado/ioloop.py\", line 743, in _run_callback\n",
      "    ret = callback()\n",
      "  File \"/opt/conda/envs/cubeenv/lib/python3.6/site-packages/tornado/ioloop.py\", line 767, in _discard_future_result\n",
      "    future.result()\n",
      "  File \"/opt/conda/envs/cubeenv/lib/python3.6/site-packages/tornado/gen.py\", line 742, in run\n",
      "    yielded = self.gen.throw(*exc_info)  # type: ignore\n",
      "  File \"/opt/conda/envs/cubeenv/lib/python3.6/site-packages/distributed/client.py\", line 1060, in _update_scheduler_info\n",
      "    raise\n",
      "  File \"/opt/conda/envs/cubeenv/lib/python3.6/site-packages/tornado/gen.py\", line 735, in run\n",
      "    value = future.result()\n",
      "  File \"/opt/conda/envs/cubeenv/lib/python3.6/site-packages/tornado/gen.py\", line 742, in run\n",
      "    yielded = self.gen.throw(*exc_info)  # type: ignore\n",
      "  File \"/opt/conda/envs/cubeenv/lib/python3.6/site-packages/distributed/core.py\", line 741, in send_recv_from_rpc\n",
      "    self.serializers = serializers\n",
      "  File \"/opt/conda/envs/cubeenv/lib/python3.6/site-packages/tornado/gen.py\", line 735, in run\n",
      "    value = future.result()\n",
      "  File \"/opt/conda/envs/cubeenv/lib/python3.6/site-packages/tornado/gen.py\", line 742, in run\n",
      "    yielded = self.gen.throw(*exc_info)  # type: ignore\n",
      "  File \"/opt/conda/envs/cubeenv/lib/python3.6/site-packages/distributed/core.py\", line 533, in send_recv\n",
      "    deserializers = serializers\n",
      "  File \"/opt/conda/envs/cubeenv/lib/python3.6/site-packages/tornado/gen.py\", line 735, in run\n",
      "    value = future.result()\n",
      "  File \"/opt/conda/envs/cubeenv/lib/python3.6/site-packages/tornado/gen.py\", line 748, in run\n",
      "    yielded = self.gen.send(value)\n",
      "  File \"/opt/conda/envs/cubeenv/lib/python3.6/site-packages/distributed/comm/tcp.py\", line 245, in write\n",
      "    # Can't wait for the write() Future as it may be lost\n",
      "NameError: name 'PY3' is not defined\n",
      "tornado.application - ERROR - Exception in callback functools.partial(<bound method IOLoop._discard_future_result of <zmq.eventloop.ioloop.ZMQIOLoop object at 0x7f1570ace400>>, <Future finished exception=NameError(\"name 'PY3' is not defined\",)>)\n",
      "Traceback (most recent call last):\n",
      "  File \"/opt/conda/envs/cubeenv/lib/python3.6/site-packages/tornado/ioloop.py\", line 743, in _run_callback\n",
      "    ret = callback()\n",
      "  File \"/opt/conda/envs/cubeenv/lib/python3.6/site-packages/tornado/ioloop.py\", line 767, in _discard_future_result\n",
      "    future.result()\n",
      "  File \"/opt/conda/envs/cubeenv/lib/python3.6/site-packages/tornado/gen.py\", line 742, in run\n",
      "    yielded = self.gen.throw(*exc_info)  # type: ignore\n",
      "  File \"/opt/conda/envs/cubeenv/lib/python3.6/site-packages/distributed/client.py\", line 1060, in _update_scheduler_info\n",
      "    raise\n",
      "  File \"/opt/conda/envs/cubeenv/lib/python3.6/site-packages/tornado/gen.py\", line 735, in run\n",
      "    value = future.result()\n",
      "  File \"/opt/conda/envs/cubeenv/lib/python3.6/site-packages/tornado/gen.py\", line 742, in run\n",
      "    yielded = self.gen.throw(*exc_info)  # type: ignore\n",
      "  File \"/opt/conda/envs/cubeenv/lib/python3.6/site-packages/distributed/core.py\", line 741, in send_recv_from_rpc\n",
      "    self.serializers = serializers\n",
      "  File \"/opt/conda/envs/cubeenv/lib/python3.6/site-packages/tornado/gen.py\", line 735, in run\n",
      "    value = future.result()\n",
      "  File \"/opt/conda/envs/cubeenv/lib/python3.6/site-packages/tornado/gen.py\", line 742, in run\n",
      "    yielded = self.gen.throw(*exc_info)  # type: ignore\n",
      "  File \"/opt/conda/envs/cubeenv/lib/python3.6/site-packages/distributed/core.py\", line 533, in send_recv\n",
      "    deserializers = serializers\n",
      "  File \"/opt/conda/envs/cubeenv/lib/python3.6/site-packages/tornado/gen.py\", line 735, in run\n",
      "    value = future.result()\n",
      "  File \"/opt/conda/envs/cubeenv/lib/python3.6/site-packages/tornado/gen.py\", line 748, in run\n",
      "    yielded = self.gen.send(value)\n",
      "  File \"/opt/conda/envs/cubeenv/lib/python3.6/site-packages/distributed/comm/tcp.py\", line 245, in write\n",
      "    # Can't wait for the write() Future as it may be lost\n",
      "NameError: name 'PY3' is not defined\n",
      "tornado.application - ERROR - Exception in callback functools.partial(<bound method IOLoop._discard_future_result of <zmq.eventloop.ioloop.ZMQIOLoop object at 0x7f1570ace400>>, <Future finished exception=NameError(\"name 'PY3' is not defined\",)>)\n",
      "Traceback (most recent call last):\n",
      "  File \"/opt/conda/envs/cubeenv/lib/python3.6/site-packages/tornado/ioloop.py\", line 743, in _run_callback\n",
      "    ret = callback()\n",
      "  File \"/opt/conda/envs/cubeenv/lib/python3.6/site-packages/tornado/ioloop.py\", line 767, in _discard_future_result\n",
      "    future.result()\n",
      "  File \"/opt/conda/envs/cubeenv/lib/python3.6/site-packages/tornado/gen.py\", line 742, in run\n",
      "    yielded = self.gen.throw(*exc_info)  # type: ignore\n",
      "  File \"/opt/conda/envs/cubeenv/lib/python3.6/site-packages/distributed/client.py\", line 1060, in _update_scheduler_info\n",
      "    raise\n",
      "  File \"/opt/conda/envs/cubeenv/lib/python3.6/site-packages/tornado/gen.py\", line 735, in run\n",
      "    value = future.result()\n",
      "  File \"/opt/conda/envs/cubeenv/lib/python3.6/site-packages/tornado/gen.py\", line 742, in run\n",
      "    yielded = self.gen.throw(*exc_info)  # type: ignore\n",
      "  File \"/opt/conda/envs/cubeenv/lib/python3.6/site-packages/distributed/core.py\", line 741, in send_recv_from_rpc\n",
      "    self.serializers = serializers\n",
      "  File \"/opt/conda/envs/cubeenv/lib/python3.6/site-packages/tornado/gen.py\", line 735, in run\n",
      "    value = future.result()\n",
      "  File \"/opt/conda/envs/cubeenv/lib/python3.6/site-packages/tornado/gen.py\", line 742, in run\n",
      "    yielded = self.gen.throw(*exc_info)  # type: ignore\n",
      "  File \"/opt/conda/envs/cubeenv/lib/python3.6/site-packages/distributed/core.py\", line 533, in send_recv\n",
      "    deserializers = serializers\n",
      "  File \"/opt/conda/envs/cubeenv/lib/python3.6/site-packages/tornado/gen.py\", line 735, in run\n",
      "    value = future.result()\n",
      "  File \"/opt/conda/envs/cubeenv/lib/python3.6/site-packages/tornado/gen.py\", line 748, in run\n",
      "    yielded = self.gen.send(value)\n",
      "  File \"/opt/conda/envs/cubeenv/lib/python3.6/site-packages/distributed/comm/tcp.py\", line 245, in write\n",
      "    # Can't wait for the write() Future as it may be lost\n",
      "NameError: name 'PY3' is not defined\n",
      "tornado.application - ERROR - Exception in callback functools.partial(<bound method IOLoop._discard_future_result of <zmq.eventloop.ioloop.ZMQIOLoop object at 0x7f1570ace400>>, <Future finished exception=NameError(\"name 'PY3' is not defined\",)>)\n",
      "Traceback (most recent call last):\n",
      "  File \"/opt/conda/envs/cubeenv/lib/python3.6/site-packages/tornado/ioloop.py\", line 743, in _run_callback\n",
      "    ret = callback()\n",
      "  File \"/opt/conda/envs/cubeenv/lib/python3.6/site-packages/tornado/ioloop.py\", line 767, in _discard_future_result\n",
      "    future.result()\n",
      "  File \"/opt/conda/envs/cubeenv/lib/python3.6/site-packages/tornado/gen.py\", line 742, in run\n",
      "    yielded = self.gen.throw(*exc_info)  # type: ignore\n",
      "  File \"/opt/conda/envs/cubeenv/lib/python3.6/site-packages/distributed/client.py\", line 1060, in _update_scheduler_info\n",
      "    raise\n",
      "  File \"/opt/conda/envs/cubeenv/lib/python3.6/site-packages/tornado/gen.py\", line 735, in run\n",
      "    value = future.result()\n",
      "  File \"/opt/conda/envs/cubeenv/lib/python3.6/site-packages/tornado/gen.py\", line 742, in run\n",
      "    yielded = self.gen.throw(*exc_info)  # type: ignore\n",
      "  File \"/opt/conda/envs/cubeenv/lib/python3.6/site-packages/distributed/core.py\", line 741, in send_recv_from_rpc\n",
      "    self.serializers = serializers\n",
      "  File \"/opt/conda/envs/cubeenv/lib/python3.6/site-packages/tornado/gen.py\", line 735, in run\n",
      "    value = future.result()\n",
      "  File \"/opt/conda/envs/cubeenv/lib/python3.6/site-packages/tornado/gen.py\", line 742, in run\n",
      "    yielded = self.gen.throw(*exc_info)  # type: ignore\n",
      "  File \"/opt/conda/envs/cubeenv/lib/python3.6/site-packages/distributed/core.py\", line 533, in send_recv\n",
      "    deserializers = serializers\n",
      "  File \"/opt/conda/envs/cubeenv/lib/python3.6/site-packages/tornado/gen.py\", line 735, in run\n",
      "    value = future.result()\n",
      "  File \"/opt/conda/envs/cubeenv/lib/python3.6/site-packages/tornado/gen.py\", line 748, in run\n",
      "    yielded = self.gen.send(value)\n",
      "  File \"/opt/conda/envs/cubeenv/lib/python3.6/site-packages/distributed/comm/tcp.py\", line 245, in write\n",
      "    # Can't wait for the write() Future as it may be lost\n",
      "NameError: name 'PY3' is not defined\n",
      "tornado.application - ERROR - Exception in callback functools.partial(<bound method IOLoop._discard_future_result of <zmq.eventloop.ioloop.ZMQIOLoop object at 0x7f1570ace400>>, <Future finished exception=NameError(\"name 'PY3' is not defined\",)>)\n",
      "Traceback (most recent call last):\n",
      "  File \"/opt/conda/envs/cubeenv/lib/python3.6/site-packages/tornado/ioloop.py\", line 743, in _run_callback\n",
      "    ret = callback()\n",
      "  File \"/opt/conda/envs/cubeenv/lib/python3.6/site-packages/tornado/ioloop.py\", line 767, in _discard_future_result\n",
      "    future.result()\n",
      "  File \"/opt/conda/envs/cubeenv/lib/python3.6/site-packages/tornado/gen.py\", line 742, in run\n",
      "    yielded = self.gen.throw(*exc_info)  # type: ignore\n",
      "  File \"/opt/conda/envs/cubeenv/lib/python3.6/site-packages/distributed/client.py\", line 1060, in _update_scheduler_info\n",
      "    raise\n",
      "  File \"/opt/conda/envs/cubeenv/lib/python3.6/site-packages/tornado/gen.py\", line 735, in run\n",
      "    value = future.result()\n",
      "  File \"/opt/conda/envs/cubeenv/lib/python3.6/site-packages/tornado/gen.py\", line 742, in run\n",
      "    yielded = self.gen.throw(*exc_info)  # type: ignore\n",
      "  File \"/opt/conda/envs/cubeenv/lib/python3.6/site-packages/distributed/core.py\", line 741, in send_recv_from_rpc\n",
      "    self.serializers = serializers\n",
      "  File \"/opt/conda/envs/cubeenv/lib/python3.6/site-packages/tornado/gen.py\", line 735, in run\n",
      "    value = future.result()\n",
      "  File \"/opt/conda/envs/cubeenv/lib/python3.6/site-packages/tornado/gen.py\", line 742, in run\n",
      "    yielded = self.gen.throw(*exc_info)  # type: ignore\n",
      "  File \"/opt/conda/envs/cubeenv/lib/python3.6/site-packages/distributed/core.py\", line 533, in send_recv\n",
      "    deserializers = serializers\n",
      "  File \"/opt/conda/envs/cubeenv/lib/python3.6/site-packages/tornado/gen.py\", line 735, in run\n",
      "    value = future.result()\n",
      "  File \"/opt/conda/envs/cubeenv/lib/python3.6/site-packages/tornado/gen.py\", line 748, in run\n",
      "    yielded = self.gen.send(value)\n",
      "  File \"/opt/conda/envs/cubeenv/lib/python3.6/site-packages/distributed/comm/tcp.py\", line 245, in write\n",
      "    # Can't wait for the write() Future as it may be lost\n",
      "NameError: name 'PY3' is not defined\n",
      "tornado.application - ERROR - Exception in callback functools.partial(<bound method IOLoop._discard_future_result of <zmq.eventloop.ioloop.ZMQIOLoop object at 0x7f1570ace400>>, <Future finished exception=NameError(\"name 'PY3' is not defined\",)>)\n",
      "Traceback (most recent call last):\n",
      "  File \"/opt/conda/envs/cubeenv/lib/python3.6/site-packages/tornado/ioloop.py\", line 743, in _run_callback\n",
      "    ret = callback()\n",
      "  File \"/opt/conda/envs/cubeenv/lib/python3.6/site-packages/tornado/ioloop.py\", line 767, in _discard_future_result\n",
      "    future.result()\n",
      "  File \"/opt/conda/envs/cubeenv/lib/python3.6/site-packages/tornado/gen.py\", line 742, in run\n",
      "    yielded = self.gen.throw(*exc_info)  # type: ignore\n",
      "  File \"/opt/conda/envs/cubeenv/lib/python3.6/site-packages/distributed/client.py\", line 1060, in _update_scheduler_info\n",
      "    raise\n",
      "  File \"/opt/conda/envs/cubeenv/lib/python3.6/site-packages/tornado/gen.py\", line 735, in run\n",
      "    value = future.result()\n",
      "  File \"/opt/conda/envs/cubeenv/lib/python3.6/site-packages/tornado/gen.py\", line 742, in run\n",
      "    yielded = self.gen.throw(*exc_info)  # type: ignore\n",
      "  File \"/opt/conda/envs/cubeenv/lib/python3.6/site-packages/distributed/core.py\", line 741, in send_recv_from_rpc\n",
      "    self.serializers = serializers\n",
      "  File \"/opt/conda/envs/cubeenv/lib/python3.6/site-packages/tornado/gen.py\", line 735, in run\n",
      "    value = future.result()\n",
      "  File \"/opt/conda/envs/cubeenv/lib/python3.6/site-packages/tornado/gen.py\", line 742, in run\n",
      "    yielded = self.gen.throw(*exc_info)  # type: ignore\n",
      "  File \"/opt/conda/envs/cubeenv/lib/python3.6/site-packages/distributed/core.py\", line 533, in send_recv\n",
      "    deserializers = serializers\n",
      "  File \"/opt/conda/envs/cubeenv/lib/python3.6/site-packages/tornado/gen.py\", line 735, in run\n",
      "    value = future.result()\n",
      "  File \"/opt/conda/envs/cubeenv/lib/python3.6/site-packages/tornado/gen.py\", line 748, in run\n",
      "    yielded = self.gen.send(value)\n",
      "  File \"/opt/conda/envs/cubeenv/lib/python3.6/site-packages/distributed/comm/tcp.py\", line 245, in write\n",
      "    # Can't wait for the write() Future as it may be lost\n",
      "NameError: name 'PY3' is not defined\n",
      "tornado.application - ERROR - Exception in callback functools.partial(<bound method IOLoop._discard_future_result of <zmq.eventloop.ioloop.ZMQIOLoop object at 0x7f1570ace400>>, <Future finished exception=NameError(\"name 'PY3' is not defined\",)>)\n",
      "Traceback (most recent call last):\n",
      "  File \"/opt/conda/envs/cubeenv/lib/python3.6/site-packages/tornado/ioloop.py\", line 743, in _run_callback\n",
      "    ret = callback()\n",
      "  File \"/opt/conda/envs/cubeenv/lib/python3.6/site-packages/tornado/ioloop.py\", line 767, in _discard_future_result\n",
      "    future.result()\n",
      "  File \"/opt/conda/envs/cubeenv/lib/python3.6/site-packages/tornado/gen.py\", line 742, in run\n",
      "    yielded = self.gen.throw(*exc_info)  # type: ignore\n",
      "  File \"/opt/conda/envs/cubeenv/lib/python3.6/site-packages/distributed/client.py\", line 1060, in _update_scheduler_info\n",
      "    raise\n",
      "  File \"/opt/conda/envs/cubeenv/lib/python3.6/site-packages/tornado/gen.py\", line 735, in run\n",
      "    value = future.result()\n",
      "  File \"/opt/conda/envs/cubeenv/lib/python3.6/site-packages/tornado/gen.py\", line 742, in run\n",
      "    yielded = self.gen.throw(*exc_info)  # type: ignore\n",
      "  File \"/opt/conda/envs/cubeenv/lib/python3.6/site-packages/distributed/core.py\", line 741, in send_recv_from_rpc\n",
      "    self.serializers = serializers\n",
      "  File \"/opt/conda/envs/cubeenv/lib/python3.6/site-packages/tornado/gen.py\", line 735, in run\n",
      "    value = future.result()\n",
      "  File \"/opt/conda/envs/cubeenv/lib/python3.6/site-packages/tornado/gen.py\", line 742, in run\n",
      "    yielded = self.gen.throw(*exc_info)  # type: ignore\n",
      "  File \"/opt/conda/envs/cubeenv/lib/python3.6/site-packages/distributed/core.py\", line 533, in send_recv\n",
      "    deserializers = serializers\n",
      "  File \"/opt/conda/envs/cubeenv/lib/python3.6/site-packages/tornado/gen.py\", line 735, in run\n",
      "    value = future.result()\n",
      "  File \"/opt/conda/envs/cubeenv/lib/python3.6/site-packages/tornado/gen.py\", line 748, in run\n",
      "    yielded = self.gen.send(value)\n",
      "  File \"/opt/conda/envs/cubeenv/lib/python3.6/site-packages/distributed/comm/tcp.py\", line 245, in write\n",
      "    # Can't wait for the write() Future as it may be lost\n",
      "NameError: name 'PY3' is not defined\n",
      "tornado.application - ERROR - Exception in callback functools.partial(<bound method IOLoop._discard_future_result of <zmq.eventloop.ioloop.ZMQIOLoop object at 0x7f1570ace400>>, <Future finished exception=NameError(\"name 'PY3' is not defined\",)>)\n",
      "Traceback (most recent call last):\n",
      "  File \"/opt/conda/envs/cubeenv/lib/python3.6/site-packages/tornado/ioloop.py\", line 743, in _run_callback\n",
      "    ret = callback()\n",
      "  File \"/opt/conda/envs/cubeenv/lib/python3.6/site-packages/tornado/ioloop.py\", line 767, in _discard_future_result\n",
      "    future.result()\n",
      "  File \"/opt/conda/envs/cubeenv/lib/python3.6/site-packages/tornado/gen.py\", line 742, in run\n",
      "    yielded = self.gen.throw(*exc_info)  # type: ignore\n",
      "  File \"/opt/conda/envs/cubeenv/lib/python3.6/site-packages/distributed/client.py\", line 1060, in _update_scheduler_info\n",
      "    raise\n",
      "  File \"/opt/conda/envs/cubeenv/lib/python3.6/site-packages/tornado/gen.py\", line 735, in run\n",
      "    value = future.result()\n",
      "  File \"/opt/conda/envs/cubeenv/lib/python3.6/site-packages/tornado/gen.py\", line 742, in run\n",
      "    yielded = self.gen.throw(*exc_info)  # type: ignore\n",
      "  File \"/opt/conda/envs/cubeenv/lib/python3.6/site-packages/distributed/core.py\", line 741, in send_recv_from_rpc\n",
      "    self.serializers = serializers\n",
      "  File \"/opt/conda/envs/cubeenv/lib/python3.6/site-packages/tornado/gen.py\", line 735, in run\n",
      "    value = future.result()\n",
      "  File \"/opt/conda/envs/cubeenv/lib/python3.6/site-packages/tornado/gen.py\", line 742, in run\n",
      "    yielded = self.gen.throw(*exc_info)  # type: ignore\n",
      "  File \"/opt/conda/envs/cubeenv/lib/python3.6/site-packages/distributed/core.py\", line 533, in send_recv\n",
      "    deserializers = serializers\n",
      "  File \"/opt/conda/envs/cubeenv/lib/python3.6/site-packages/tornado/gen.py\", line 735, in run\n",
      "    value = future.result()\n",
      "  File \"/opt/conda/envs/cubeenv/lib/python3.6/site-packages/tornado/gen.py\", line 748, in run\n",
      "    yielded = self.gen.send(value)\n",
      "  File \"/opt/conda/envs/cubeenv/lib/python3.6/site-packages/distributed/comm/tcp.py\", line 245, in write\n",
      "    # Can't wait for the write() Future as it may be lost\n",
      "NameError: name 'PY3' is not defined\n",
      "tornado.application - ERROR - Exception in callback functools.partial(<bound method IOLoop._discard_future_result of <zmq.eventloop.ioloop.ZMQIOLoop object at 0x7f1570ace400>>, <Future finished exception=NameError(\"name 'PY3' is not defined\",)>)\n",
      "Traceback (most recent call last):\n",
      "  File \"/opt/conda/envs/cubeenv/lib/python3.6/site-packages/tornado/ioloop.py\", line 743, in _run_callback\n",
      "    ret = callback()\n",
      "  File \"/opt/conda/envs/cubeenv/lib/python3.6/site-packages/tornado/ioloop.py\", line 767, in _discard_future_result\n",
      "    future.result()\n",
      "  File \"/opt/conda/envs/cubeenv/lib/python3.6/site-packages/tornado/gen.py\", line 742, in run\n",
      "    yielded = self.gen.throw(*exc_info)  # type: ignore\n",
      "  File \"/opt/conda/envs/cubeenv/lib/python3.6/site-packages/distributed/client.py\", line 1060, in _update_scheduler_info\n",
      "    raise\n",
      "  File \"/opt/conda/envs/cubeenv/lib/python3.6/site-packages/tornado/gen.py\", line 735, in run\n",
      "    value = future.result()\n",
      "  File \"/opt/conda/envs/cubeenv/lib/python3.6/site-packages/tornado/gen.py\", line 742, in run\n",
      "    yielded = self.gen.throw(*exc_info)  # type: ignore\n",
      "  File \"/opt/conda/envs/cubeenv/lib/python3.6/site-packages/distributed/core.py\", line 741, in send_recv_from_rpc\n",
      "    self.serializers = serializers\n",
      "  File \"/opt/conda/envs/cubeenv/lib/python3.6/site-packages/tornado/gen.py\", line 735, in run\n",
      "    value = future.result()\n",
      "  File \"/opt/conda/envs/cubeenv/lib/python3.6/site-packages/tornado/gen.py\", line 742, in run\n",
      "    yielded = self.gen.throw(*exc_info)  # type: ignore\n",
      "  File \"/opt/conda/envs/cubeenv/lib/python3.6/site-packages/distributed/core.py\", line 533, in send_recv\n",
      "    deserializers = serializers\n",
      "  File \"/opt/conda/envs/cubeenv/lib/python3.6/site-packages/tornado/gen.py\", line 735, in run\n",
      "    value = future.result()\n",
      "  File \"/opt/conda/envs/cubeenv/lib/python3.6/site-packages/tornado/gen.py\", line 748, in run\n",
      "    yielded = self.gen.send(value)\n",
      "  File \"/opt/conda/envs/cubeenv/lib/python3.6/site-packages/distributed/comm/tcp.py\", line 245, in write\n",
      "    # Can't wait for the write() Future as it may be lost\n",
      "NameError: name 'PY3' is not defined\n",
      "tornado.application - ERROR - Exception in callback functools.partial(<bound method IOLoop._discard_future_result of <zmq.eventloop.ioloop.ZMQIOLoop object at 0x7f1570ace400>>, <Future finished exception=NameError(\"name 'PY3' is not defined\",)>)\n",
      "Traceback (most recent call last):\n",
      "  File \"/opt/conda/envs/cubeenv/lib/python3.6/site-packages/tornado/ioloop.py\", line 743, in _run_callback\n",
      "    ret = callback()\n",
      "  File \"/opt/conda/envs/cubeenv/lib/python3.6/site-packages/tornado/ioloop.py\", line 767, in _discard_future_result\n",
      "    future.result()\n",
      "  File \"/opt/conda/envs/cubeenv/lib/python3.6/site-packages/tornado/gen.py\", line 742, in run\n",
      "    yielded = self.gen.throw(*exc_info)  # type: ignore\n",
      "  File \"/opt/conda/envs/cubeenv/lib/python3.6/site-packages/distributed/client.py\", line 1060, in _update_scheduler_info\n",
      "    raise\n",
      "  File \"/opt/conda/envs/cubeenv/lib/python3.6/site-packages/tornado/gen.py\", line 735, in run\n",
      "    value = future.result()\n",
      "  File \"/opt/conda/envs/cubeenv/lib/python3.6/site-packages/tornado/gen.py\", line 742, in run\n",
      "    yielded = self.gen.throw(*exc_info)  # type: ignore\n",
      "  File \"/opt/conda/envs/cubeenv/lib/python3.6/site-packages/distributed/core.py\", line 741, in send_recv_from_rpc\n",
      "    self.serializers = serializers\n",
      "  File \"/opt/conda/envs/cubeenv/lib/python3.6/site-packages/tornado/gen.py\", line 735, in run\n",
      "    value = future.result()\n",
      "  File \"/opt/conda/envs/cubeenv/lib/python3.6/site-packages/tornado/gen.py\", line 742, in run\n",
      "    yielded = self.gen.throw(*exc_info)  # type: ignore\n",
      "  File \"/opt/conda/envs/cubeenv/lib/python3.6/site-packages/distributed/core.py\", line 533, in send_recv\n",
      "    deserializers = serializers\n",
      "  File \"/opt/conda/envs/cubeenv/lib/python3.6/site-packages/tornado/gen.py\", line 735, in run\n",
      "    value = future.result()\n",
      "  File \"/opt/conda/envs/cubeenv/lib/python3.6/site-packages/tornado/gen.py\", line 748, in run\n",
      "    yielded = self.gen.send(value)\n",
      "  File \"/opt/conda/envs/cubeenv/lib/python3.6/site-packages/distributed/comm/tcp.py\", line 245, in write\n",
      "    # Can't wait for the write() Future as it may be lost\n",
      "NameError: name 'PY3' is not defined\n"
     ]
    }
   ],
   "source": [
    "from dask_ml.preprocessing import Categorizer, DummyEncoder\n"
   ]
  },
  {
   "cell_type": "code",
   "execution_count": 78,
   "metadata": {},
   "outputs": [
    {
     "name": "stdout",
     "output_type": "stream",
     "text": [
      "0 green\n",
      "1 red\n",
      "2 blue\n",
      "3 nir\n",
      "4 swir1\n",
      "5 swir2\n",
      "6 scene_classification\n",
      "CPU times: user 20.6 s, sys: 24.1 s, total: 44.7 s\n",
      "Wall time: 2min 22s\n"
     ]
    }
   ],
   "source": [
    "%%time\n",
    "des_vars = ['green','red','blue','nir','swir1','swir2']\n",
    "\n",
    "lenx, leny = np.shape(T1_img[ref_channel]) # dims of each raster\n",
    "dsvals = np.zeros([len(des_vars),lenx, leny]) #set up array based on shape of xr and no. des bands\n",
    "\n",
    "for i, m in zip(np.arange(0,len(T1_img.data_vars),1), T1_img.variables): # loop through bands in xr\n",
    "    print(i, m)\n",
    "    if m in des_vars: # only want relevant channels\n",
    "        vals = np.array(T1_img[m].values) # extract only the reflectance values\n",
    "        dsvals[i,:,:] = vals # append to 'master' ND array\n",
    "# plt.imshow(dsvals[0,:,:])"
   ]
  },
  {
   "cell_type": "markdown",
   "metadata": {},
   "source": [
    "**re-shape**/flatten T1 data + T1 labels"
   ]
  },
  {
   "cell_type": "code",
   "execution_count": 79,
   "metadata": {},
   "outputs": [
    {
     "data": {
      "text/plain": [
       "(6, 124133022)"
      ]
     },
     "execution_count": 79,
     "metadata": {},
     "output_type": "execute_result"
    }
   ],
   "source": [
    "Ximp = dsvals.reshape(dsvals.shape[0], lenx * leny)  # reshape into nbands x 1D arrays\n",
    "dsvals = None\n",
    "\n",
    "Ximp.shape"
   ]
  },
  {
   "cell_type": "markdown",
   "metadata": {},
   "source": [
    "**replace coincident nd from arrays** variables"
   ]
  },
  {
   "cell_type": "markdown",
   "metadata": {},
   "source": [
    "**transpose** variables"
   ]
  },
  {
   "cell_type": "code",
   "execution_count": 80,
   "metadata": {},
   "outputs": [
    {
     "data": {
      "text/plain": [
       "(124133022, 6)"
      ]
     },
     "execution_count": 80,
     "metadata": {},
     "output_type": "execute_result"
    }
   ],
   "source": [
    "Ximp = Ximp.transpose()  # transpose so that bands are read as features\n",
    "\n",
    "Ximp.shape"
   ]
  },
  {
   "cell_type": "code",
   "execution_count": 81,
   "metadata": {},
   "outputs": [],
   "source": [
    "foundnans = np.isnan(Ximp)\n",
    "Ximp[foundnans] = 0"
   ]
  },
  {
   "cell_type": "markdown",
   "metadata": {},
   "source": [
    "# **(4) Class Exploration**"
   ]
  },
  {
   "cell_type": "markdown",
   "metadata": {},
   "source": [
    "**separate class vars**"
   ]
  },
  {
   "cell_type": "code",
   "execution_count": null,
   "metadata": {},
   "outputs": [],
   "source": [
    "X, Y = Xtrain, Ytrain\n",
    "X, X.shape, Y,Y.shape\n",
    "\n",
    "x_t = [X[:, i][Y==1] for i in range(X.shape[1])]\n",
    "x_f = [X[:, i][Y==0] for i in range(X.shape[1])]\n",
    "# x_t, x_f"
   ]
  },
  {
   "cell_type": "markdown",
   "metadata": {},
   "source": [
    "**plot native class distributions in available vars**"
   ]
  },
  {
   "cell_type": "code",
   "execution_count": null,
   "metadata": {},
   "outputs": [],
   "source": [
    "n_bins = 50\n",
    "i = 0\n",
    "for t, f in zip(x_t, x_f):\n",
    "    fig, ax = plt.subplots()\n",
    "    ax.set_title(f\"class dist in {[j for j in T1_img][i]}\")\n",
    "    ax.hist(t, bins=n_bins, color='orange', edgecolor='orange',alpha=0.2);\n",
    "    ax.hist(f, bins=n_bins, color='blue', edgecolor='blue',alpha=0.2)\n",
    "    ax.set_xlim(0, 6000)\n",
    "    i+=1"
   ]
  },
  {
   "cell_type": "code",
   "execution_count": null,
   "metadata": {},
   "outputs": [],
   "source": [
    "# from sklearn.decomposition import PCA"
   ]
  },
  {
   "cell_type": "code",
   "execution_count": null,
   "metadata": {},
   "outputs": [],
   "source": [
    "# pca = PCA(n_components=2)"
   ]
  },
  {
   "cell_type": "code",
   "execution_count": null,
   "metadata": {},
   "outputs": [],
   "source": [
    "# %%time\n",
    "# pca.fit(x_t)"
   ]
  },
  {
   "cell_type": "code",
   "execution_count": null,
   "metadata": {},
   "outputs": [],
   "source": [
    "# print(pca.singular_values_)\n",
    "# print(pca.explained_variance_ratio_)"
   ]
  },
  {
   "cell_type": "code",
   "execution_count": null,
   "metadata": {},
   "outputs": [],
   "source": [
    "# %%time\n",
    "# x_t_tpca = pca.fit_transform(np.transpose(x_t))\n",
    "# x_f_tpca = pca.transform(np.transpose(x_f))\n",
    "\n",
    "# x_f_fpca = pca.fit_transform(np.transpose(x_f))\n",
    "# x_t_fpca = pca.transform(np.transpose(x_t))"
   ]
  },
  {
   "cell_type": "code",
   "execution_count": null,
   "metadata": {},
   "outputs": [],
   "source": [
    "# for i, p in enumerate(['Principle Component 1','Principle Component 2']):\n",
    "#     fig, ax = plt.subplots()\n",
    "#     ax.set_title(f'Water Class PCA Distributions: {p}')\n",
    "#     ax.hist(x_t_tpca[:,i], bins=n_bins, color='orange', edgecolor='orange',alpha=0.2);\n",
    "#     ax.hist(x_f_tpca[:,i], bins=n_bins, color='blue', edgecolor='blue',alpha=0.2);\n",
    "\n",
    "# for i, p in enumerate(['Principle Component 1','Principle Component 2']):\n",
    "#     fig, ax = plt.subplots()\n",
    "#     ax.set_title(f'non-Water Class PCA Distributions: {p}')\n",
    "#     ax.hist(x_f_fpca[:,i], bins=n_bins, color='orange', edgecolor='orange',alpha=0.2);\n",
    "#     ax.hist(x_t_fpca[:,i], bins=n_bins, color='blue', edgecolor='blue',alpha=0.2);"
   ]
  },
  {
   "cell_type": "markdown",
   "metadata": {},
   "source": [
    "TBD"
   ]
  },
  {
   "cell_type": "markdown",
   "metadata": {},
   "source": [
    "# **(5) Training of T1 using T0 labels**"
   ]
  },
  {
   "cell_type": "markdown",
   "metadata": {},
   "source": [
    "define **model params**"
   ]
  },
  {
   "cell_type": "code",
   "execution_count": 87,
   "metadata": {},
   "outputs": [
    {
     "name": "stderr",
     "output_type": "stream",
     "text": [
      "tornado.application - ERROR - Exception in callback functools.partial(<bound method IOLoop._discard_future_result of <zmq.eventloop.ioloop.ZMQIOLoop object at 0x7f1570ace400>>, <Future finished exception=NameError(\"name 'PY3' is not defined\",)>)\n",
      "Traceback (most recent call last):\n",
      "  File \"/opt/conda/envs/cubeenv/lib/python3.6/site-packages/tornado/ioloop.py\", line 743, in _run_callback\n",
      "    ret = callback()\n",
      "  File \"/opt/conda/envs/cubeenv/lib/python3.6/site-packages/tornado/ioloop.py\", line 767, in _discard_future_result\n",
      "    future.result()\n",
      "  File \"/opt/conda/envs/cubeenv/lib/python3.6/site-packages/tornado/gen.py\", line 742, in run\n",
      "    yielded = self.gen.throw(*exc_info)  # type: ignore\n",
      "  File \"/opt/conda/envs/cubeenv/lib/python3.6/site-packages/distributed/client.py\", line 1060, in _update_scheduler_info\n",
      "    raise\n",
      "  File \"/opt/conda/envs/cubeenv/lib/python3.6/site-packages/tornado/gen.py\", line 735, in run\n",
      "    value = future.result()\n",
      "  File \"/opt/conda/envs/cubeenv/lib/python3.6/site-packages/tornado/gen.py\", line 742, in run\n",
      "    yielded = self.gen.throw(*exc_info)  # type: ignore\n",
      "  File \"/opt/conda/envs/cubeenv/lib/python3.6/site-packages/distributed/core.py\", line 741, in send_recv_from_rpc\n",
      "    self.serializers = serializers\n",
      "  File \"/opt/conda/envs/cubeenv/lib/python3.6/site-packages/tornado/gen.py\", line 735, in run\n",
      "    value = future.result()\n",
      "  File \"/opt/conda/envs/cubeenv/lib/python3.6/site-packages/tornado/gen.py\", line 742, in run\n",
      "    yielded = self.gen.throw(*exc_info)  # type: ignore\n",
      "  File \"/opt/conda/envs/cubeenv/lib/python3.6/site-packages/distributed/core.py\", line 533, in send_recv\n",
      "    deserializers = serializers\n",
      "  File \"/opt/conda/envs/cubeenv/lib/python3.6/site-packages/tornado/gen.py\", line 735, in run\n",
      "    value = future.result()\n",
      "  File \"/opt/conda/envs/cubeenv/lib/python3.6/site-packages/tornado/gen.py\", line 748, in run\n",
      "    yielded = self.gen.send(value)\n",
      "  File \"/opt/conda/envs/cubeenv/lib/python3.6/site-packages/distributed/comm/tcp.py\", line 245, in write\n",
      "    # Can't wait for the write() Future as it may be lost\n",
      "NameError: name 'PY3' is not defined\n",
      "tornado.application - ERROR - Exception in callback functools.partial(<bound method IOLoop._discard_future_result of <zmq.eventloop.ioloop.ZMQIOLoop object at 0x7f1570ace400>>, <Future finished exception=NameError(\"name 'PY3' is not defined\",)>)\n",
      "Traceback (most recent call last):\n",
      "  File \"/opt/conda/envs/cubeenv/lib/python3.6/site-packages/tornado/ioloop.py\", line 743, in _run_callback\n",
      "    ret = callback()\n",
      "  File \"/opt/conda/envs/cubeenv/lib/python3.6/site-packages/tornado/ioloop.py\", line 767, in _discard_future_result\n",
      "    future.result()\n",
      "  File \"/opt/conda/envs/cubeenv/lib/python3.6/site-packages/tornado/gen.py\", line 742, in run\n",
      "    yielded = self.gen.throw(*exc_info)  # type: ignore\n",
      "  File \"/opt/conda/envs/cubeenv/lib/python3.6/site-packages/distributed/client.py\", line 1060, in _update_scheduler_info\n",
      "    raise\n",
      "  File \"/opt/conda/envs/cubeenv/lib/python3.6/site-packages/tornado/gen.py\", line 735, in run\n",
      "    value = future.result()\n",
      "  File \"/opt/conda/envs/cubeenv/lib/python3.6/site-packages/tornado/gen.py\", line 742, in run\n",
      "    yielded = self.gen.throw(*exc_info)  # type: ignore\n",
      "  File \"/opt/conda/envs/cubeenv/lib/python3.6/site-packages/distributed/core.py\", line 741, in send_recv_from_rpc\n",
      "    self.serializers = serializers\n",
      "  File \"/opt/conda/envs/cubeenv/lib/python3.6/site-packages/tornado/gen.py\", line 735, in run\n",
      "    value = future.result()\n",
      "  File \"/opt/conda/envs/cubeenv/lib/python3.6/site-packages/tornado/gen.py\", line 742, in run\n",
      "    yielded = self.gen.throw(*exc_info)  # type: ignore\n",
      "  File \"/opt/conda/envs/cubeenv/lib/python3.6/site-packages/distributed/core.py\", line 533, in send_recv\n",
      "    deserializers = serializers\n",
      "  File \"/opt/conda/envs/cubeenv/lib/python3.6/site-packages/tornado/gen.py\", line 735, in run\n",
      "    value = future.result()\n",
      "  File \"/opt/conda/envs/cubeenv/lib/python3.6/site-packages/tornado/gen.py\", line 748, in run\n",
      "    yielded = self.gen.send(value)\n",
      "  File \"/opt/conda/envs/cubeenv/lib/python3.6/site-packages/distributed/comm/tcp.py\", line 245, in write\n",
      "    # Can't wait for the write() Future as it may be lost\n",
      "NameError: name 'PY3' is not defined\n",
      "tornado.application - ERROR - Exception in callback functools.partial(<bound method IOLoop._discard_future_result of <zmq.eventloop.ioloop.ZMQIOLoop object at 0x7f1570ace400>>, <Future finished exception=NameError(\"name 'PY3' is not defined\",)>)\n",
      "Traceback (most recent call last):\n",
      "  File \"/opt/conda/envs/cubeenv/lib/python3.6/site-packages/tornado/ioloop.py\", line 743, in _run_callback\n",
      "    ret = callback()\n",
      "  File \"/opt/conda/envs/cubeenv/lib/python3.6/site-packages/tornado/ioloop.py\", line 767, in _discard_future_result\n",
      "    future.result()\n",
      "  File \"/opt/conda/envs/cubeenv/lib/python3.6/site-packages/tornado/gen.py\", line 742, in run\n",
      "    yielded = self.gen.throw(*exc_info)  # type: ignore\n",
      "  File \"/opt/conda/envs/cubeenv/lib/python3.6/site-packages/distributed/client.py\", line 1060, in _update_scheduler_info\n",
      "    raise\n",
      "  File \"/opt/conda/envs/cubeenv/lib/python3.6/site-packages/tornado/gen.py\", line 735, in run\n",
      "    value = future.result()\n",
      "  File \"/opt/conda/envs/cubeenv/lib/python3.6/site-packages/tornado/gen.py\", line 742, in run\n",
      "    yielded = self.gen.throw(*exc_info)  # type: ignore\n",
      "  File \"/opt/conda/envs/cubeenv/lib/python3.6/site-packages/distributed/core.py\", line 741, in send_recv_from_rpc\n",
      "    self.serializers = serializers\n",
      "  File \"/opt/conda/envs/cubeenv/lib/python3.6/site-packages/tornado/gen.py\", line 735, in run\n",
      "    value = future.result()\n",
      "  File \"/opt/conda/envs/cubeenv/lib/python3.6/site-packages/tornado/gen.py\", line 742, in run\n",
      "    yielded = self.gen.throw(*exc_info)  # type: ignore\n",
      "  File \"/opt/conda/envs/cubeenv/lib/python3.6/site-packages/distributed/core.py\", line 533, in send_recv\n",
      "    deserializers = serializers\n",
      "  File \"/opt/conda/envs/cubeenv/lib/python3.6/site-packages/tornado/gen.py\", line 735, in run\n",
      "    value = future.result()\n",
      "  File \"/opt/conda/envs/cubeenv/lib/python3.6/site-packages/tornado/gen.py\", line 748, in run\n",
      "    yielded = self.gen.send(value)\n",
      "  File \"/opt/conda/envs/cubeenv/lib/python3.6/site-packages/distributed/comm/tcp.py\", line 245, in write\n",
      "    # Can't wait for the write() Future as it may be lost\n",
      "NameError: name 'PY3' is not defined\n",
      "tornado.application - ERROR - Exception in callback functools.partial(<bound method IOLoop._discard_future_result of <zmq.eventloop.ioloop.ZMQIOLoop object at 0x7f1570ace400>>, <Future finished exception=NameError(\"name 'PY3' is not defined\",)>)\n",
      "Traceback (most recent call last):\n",
      "  File \"/opt/conda/envs/cubeenv/lib/python3.6/site-packages/tornado/ioloop.py\", line 743, in _run_callback\n",
      "    ret = callback()\n",
      "  File \"/opt/conda/envs/cubeenv/lib/python3.6/site-packages/tornado/ioloop.py\", line 767, in _discard_future_result\n",
      "    future.result()\n",
      "  File \"/opt/conda/envs/cubeenv/lib/python3.6/site-packages/tornado/gen.py\", line 742, in run\n",
      "    yielded = self.gen.throw(*exc_info)  # type: ignore\n",
      "  File \"/opt/conda/envs/cubeenv/lib/python3.6/site-packages/distributed/client.py\", line 1060, in _update_scheduler_info\n",
      "    raise\n",
      "  File \"/opt/conda/envs/cubeenv/lib/python3.6/site-packages/tornado/gen.py\", line 735, in run\n",
      "    value = future.result()\n",
      "  File \"/opt/conda/envs/cubeenv/lib/python3.6/site-packages/tornado/gen.py\", line 742, in run\n",
      "    yielded = self.gen.throw(*exc_info)  # type: ignore\n",
      "  File \"/opt/conda/envs/cubeenv/lib/python3.6/site-packages/distributed/core.py\", line 741, in send_recv_from_rpc\n",
      "    self.serializers = serializers\n",
      "  File \"/opt/conda/envs/cubeenv/lib/python3.6/site-packages/tornado/gen.py\", line 735, in run\n",
      "    value = future.result()\n",
      "  File \"/opt/conda/envs/cubeenv/lib/python3.6/site-packages/tornado/gen.py\", line 742, in run\n",
      "    yielded = self.gen.throw(*exc_info)  # type: ignore\n",
      "  File \"/opt/conda/envs/cubeenv/lib/python3.6/site-packages/distributed/core.py\", line 533, in send_recv\n",
      "    deserializers = serializers\n",
      "  File \"/opt/conda/envs/cubeenv/lib/python3.6/site-packages/tornado/gen.py\", line 735, in run\n",
      "    value = future.result()\n",
      "  File \"/opt/conda/envs/cubeenv/lib/python3.6/site-packages/tornado/gen.py\", line 748, in run\n",
      "    yielded = self.gen.send(value)\n",
      "  File \"/opt/conda/envs/cubeenv/lib/python3.6/site-packages/distributed/comm/tcp.py\", line 245, in write\n",
      "    # Can't wait for the write() Future as it may be lost\n",
      "NameError: name 'PY3' is not defined\n",
      "tornado.application - ERROR - Exception in callback functools.partial(<bound method IOLoop._discard_future_result of <zmq.eventloop.ioloop.ZMQIOLoop object at 0x7f1570ace400>>, <Future finished exception=NameError(\"name 'PY3' is not defined\",)>)\n",
      "Traceback (most recent call last):\n",
      "  File \"/opt/conda/envs/cubeenv/lib/python3.6/site-packages/tornado/ioloop.py\", line 743, in _run_callback\n",
      "    ret = callback()\n",
      "  File \"/opt/conda/envs/cubeenv/lib/python3.6/site-packages/tornado/ioloop.py\", line 767, in _discard_future_result\n",
      "    future.result()\n",
      "  File \"/opt/conda/envs/cubeenv/lib/python3.6/site-packages/tornado/gen.py\", line 742, in run\n",
      "    yielded = self.gen.throw(*exc_info)  # type: ignore\n",
      "  File \"/opt/conda/envs/cubeenv/lib/python3.6/site-packages/distributed/client.py\", line 1060, in _update_scheduler_info\n",
      "    raise\n",
      "  File \"/opt/conda/envs/cubeenv/lib/python3.6/site-packages/tornado/gen.py\", line 735, in run\n",
      "    value = future.result()\n",
      "  File \"/opt/conda/envs/cubeenv/lib/python3.6/site-packages/tornado/gen.py\", line 742, in run\n",
      "    yielded = self.gen.throw(*exc_info)  # type: ignore\n",
      "  File \"/opt/conda/envs/cubeenv/lib/python3.6/site-packages/distributed/core.py\", line 741, in send_recv_from_rpc\n",
      "    self.serializers = serializers\n",
      "  File \"/opt/conda/envs/cubeenv/lib/python3.6/site-packages/tornado/gen.py\", line 735, in run\n",
      "    value = future.result()\n",
      "  File \"/opt/conda/envs/cubeenv/lib/python3.6/site-packages/tornado/gen.py\", line 742, in run\n",
      "    yielded = self.gen.throw(*exc_info)  # type: ignore\n",
      "  File \"/opt/conda/envs/cubeenv/lib/python3.6/site-packages/distributed/core.py\", line 533, in send_recv\n",
      "    deserializers = serializers\n",
      "  File \"/opt/conda/envs/cubeenv/lib/python3.6/site-packages/tornado/gen.py\", line 735, in run\n",
      "    value = future.result()\n",
      "  File \"/opt/conda/envs/cubeenv/lib/python3.6/site-packages/tornado/gen.py\", line 748, in run\n",
      "    yielded = self.gen.send(value)\n",
      "  File \"/opt/conda/envs/cubeenv/lib/python3.6/site-packages/distributed/comm/tcp.py\", line 245, in write\n",
      "    # Can't wait for the write() Future as it may be lost\n",
      "NameError: name 'PY3' is not defined\n",
      "tornado.application - ERROR - Exception in callback functools.partial(<bound method IOLoop._discard_future_result of <zmq.eventloop.ioloop.ZMQIOLoop object at 0x7f1570ace400>>, <Future finished exception=NameError(\"name 'PY3' is not defined\",)>)\n",
      "Traceback (most recent call last):\n",
      "  File \"/opt/conda/envs/cubeenv/lib/python3.6/site-packages/tornado/ioloop.py\", line 743, in _run_callback\n",
      "    ret = callback()\n",
      "  File \"/opt/conda/envs/cubeenv/lib/python3.6/site-packages/tornado/ioloop.py\", line 767, in _discard_future_result\n",
      "    future.result()\n",
      "  File \"/opt/conda/envs/cubeenv/lib/python3.6/site-packages/tornado/gen.py\", line 742, in run\n",
      "    yielded = self.gen.throw(*exc_info)  # type: ignore\n",
      "  File \"/opt/conda/envs/cubeenv/lib/python3.6/site-packages/distributed/client.py\", line 1060, in _update_scheduler_info\n",
      "    raise\n",
      "  File \"/opt/conda/envs/cubeenv/lib/python3.6/site-packages/tornado/gen.py\", line 735, in run\n",
      "    value = future.result()\n",
      "  File \"/opt/conda/envs/cubeenv/lib/python3.6/site-packages/tornado/gen.py\", line 742, in run\n",
      "    yielded = self.gen.throw(*exc_info)  # type: ignore\n",
      "  File \"/opt/conda/envs/cubeenv/lib/python3.6/site-packages/distributed/core.py\", line 741, in send_recv_from_rpc\n",
      "    self.serializers = serializers\n",
      "  File \"/opt/conda/envs/cubeenv/lib/python3.6/site-packages/tornado/gen.py\", line 735, in run\n",
      "    value = future.result()\n",
      "  File \"/opt/conda/envs/cubeenv/lib/python3.6/site-packages/tornado/gen.py\", line 742, in run\n",
      "    yielded = self.gen.throw(*exc_info)  # type: ignore\n",
      "  File \"/opt/conda/envs/cubeenv/lib/python3.6/site-packages/distributed/core.py\", line 533, in send_recv\n",
      "    deserializers = serializers\n",
      "  File \"/opt/conda/envs/cubeenv/lib/python3.6/site-packages/tornado/gen.py\", line 735, in run\n",
      "    value = future.result()\n",
      "  File \"/opt/conda/envs/cubeenv/lib/python3.6/site-packages/tornado/gen.py\", line 748, in run\n",
      "    yielded = self.gen.send(value)\n",
      "  File \"/opt/conda/envs/cubeenv/lib/python3.6/site-packages/distributed/comm/tcp.py\", line 245, in write\n",
      "    # Can't wait for the write() Future as it may be lost\n",
      "NameError: name 'PY3' is not defined\n",
      "tornado.application - ERROR - Exception in callback functools.partial(<bound method IOLoop._discard_future_result of <zmq.eventloop.ioloop.ZMQIOLoop object at 0x7f1570ace400>>, <Future finished exception=NameError(\"name 'PY3' is not defined\",)>)\n",
      "Traceback (most recent call last):\n",
      "  File \"/opt/conda/envs/cubeenv/lib/python3.6/site-packages/tornado/ioloop.py\", line 743, in _run_callback\n",
      "    ret = callback()\n",
      "  File \"/opt/conda/envs/cubeenv/lib/python3.6/site-packages/tornado/ioloop.py\", line 767, in _discard_future_result\n",
      "    future.result()\n",
      "  File \"/opt/conda/envs/cubeenv/lib/python3.6/site-packages/tornado/gen.py\", line 742, in run\n",
      "    yielded = self.gen.throw(*exc_info)  # type: ignore\n",
      "  File \"/opt/conda/envs/cubeenv/lib/python3.6/site-packages/distributed/client.py\", line 1060, in _update_scheduler_info\n",
      "    raise\n",
      "  File \"/opt/conda/envs/cubeenv/lib/python3.6/site-packages/tornado/gen.py\", line 735, in run\n",
      "    value = future.result()\n",
      "  File \"/opt/conda/envs/cubeenv/lib/python3.6/site-packages/tornado/gen.py\", line 742, in run\n",
      "    yielded = self.gen.throw(*exc_info)  # type: ignore\n",
      "  File \"/opt/conda/envs/cubeenv/lib/python3.6/site-packages/distributed/core.py\", line 741, in send_recv_from_rpc\n",
      "    self.serializers = serializers\n",
      "  File \"/opt/conda/envs/cubeenv/lib/python3.6/site-packages/tornado/gen.py\", line 735, in run\n",
      "    value = future.result()\n",
      "  File \"/opt/conda/envs/cubeenv/lib/python3.6/site-packages/tornado/gen.py\", line 742, in run\n",
      "    yielded = self.gen.throw(*exc_info)  # type: ignore\n",
      "  File \"/opt/conda/envs/cubeenv/lib/python3.6/site-packages/distributed/core.py\", line 533, in send_recv\n",
      "    deserializers = serializers\n",
      "  File \"/opt/conda/envs/cubeenv/lib/python3.6/site-packages/tornado/gen.py\", line 735, in run\n",
      "    value = future.result()\n",
      "  File \"/opt/conda/envs/cubeenv/lib/python3.6/site-packages/tornado/gen.py\", line 748, in run\n",
      "    yielded = self.gen.send(value)\n",
      "  File \"/opt/conda/envs/cubeenv/lib/python3.6/site-packages/distributed/comm/tcp.py\", line 245, in write\n",
      "    # Can't wait for the write() Future as it may be lost\n",
      "NameError: name 'PY3' is not defined\n",
      "tornado.application - ERROR - Exception in callback functools.partial(<bound method IOLoop._discard_future_result of <zmq.eventloop.ioloop.ZMQIOLoop object at 0x7f1570ace400>>, <Future finished exception=NameError(\"name 'PY3' is not defined\",)>)\n",
      "Traceback (most recent call last):\n",
      "  File \"/opt/conda/envs/cubeenv/lib/python3.6/site-packages/tornado/ioloop.py\", line 743, in _run_callback\n",
      "    ret = callback()\n",
      "  File \"/opt/conda/envs/cubeenv/lib/python3.6/site-packages/tornado/ioloop.py\", line 767, in _discard_future_result\n",
      "    future.result()\n",
      "  File \"/opt/conda/envs/cubeenv/lib/python3.6/site-packages/tornado/gen.py\", line 742, in run\n",
      "    yielded = self.gen.throw(*exc_info)  # type: ignore\n",
      "  File \"/opt/conda/envs/cubeenv/lib/python3.6/site-packages/distributed/client.py\", line 1060, in _update_scheduler_info\n",
      "    raise\n",
      "  File \"/opt/conda/envs/cubeenv/lib/python3.6/site-packages/tornado/gen.py\", line 735, in run\n",
      "    value = future.result()\n",
      "  File \"/opt/conda/envs/cubeenv/lib/python3.6/site-packages/tornado/gen.py\", line 742, in run\n",
      "    yielded = self.gen.throw(*exc_info)  # type: ignore\n",
      "  File \"/opt/conda/envs/cubeenv/lib/python3.6/site-packages/distributed/core.py\", line 741, in send_recv_from_rpc\n",
      "    self.serializers = serializers\n",
      "  File \"/opt/conda/envs/cubeenv/lib/python3.6/site-packages/tornado/gen.py\", line 735, in run\n",
      "    value = future.result()\n",
      "  File \"/opt/conda/envs/cubeenv/lib/python3.6/site-packages/tornado/gen.py\", line 742, in run\n",
      "    yielded = self.gen.throw(*exc_info)  # type: ignore\n",
      "  File \"/opt/conda/envs/cubeenv/lib/python3.6/site-packages/distributed/core.py\", line 533, in send_recv\n",
      "    deserializers = serializers\n",
      "  File \"/opt/conda/envs/cubeenv/lib/python3.6/site-packages/tornado/gen.py\", line 735, in run\n",
      "    value = future.result()\n",
      "  File \"/opt/conda/envs/cubeenv/lib/python3.6/site-packages/tornado/gen.py\", line 748, in run\n",
      "    yielded = self.gen.send(value)\n",
      "  File \"/opt/conda/envs/cubeenv/lib/python3.6/site-packages/distributed/comm/tcp.py\", line 245, in write\n",
      "    # Can't wait for the write() Future as it may be lost\n",
      "NameError: name 'PY3' is not defined\n",
      "tornado.application - ERROR - Exception in callback functools.partial(<bound method IOLoop._discard_future_result of <zmq.eventloop.ioloop.ZMQIOLoop object at 0x7f1570ace400>>, <Future finished exception=NameError(\"name 'PY3' is not defined\",)>)\n",
      "Traceback (most recent call last):\n",
      "  File \"/opt/conda/envs/cubeenv/lib/python3.6/site-packages/tornado/ioloop.py\", line 743, in _run_callback\n",
      "    ret = callback()\n",
      "  File \"/opt/conda/envs/cubeenv/lib/python3.6/site-packages/tornado/ioloop.py\", line 767, in _discard_future_result\n",
      "    future.result()\n",
      "  File \"/opt/conda/envs/cubeenv/lib/python3.6/site-packages/tornado/gen.py\", line 742, in run\n",
      "    yielded = self.gen.throw(*exc_info)  # type: ignore\n",
      "  File \"/opt/conda/envs/cubeenv/lib/python3.6/site-packages/distributed/client.py\", line 1060, in _update_scheduler_info\n",
      "    raise\n",
      "  File \"/opt/conda/envs/cubeenv/lib/python3.6/site-packages/tornado/gen.py\", line 735, in run\n",
      "    value = future.result()\n",
      "  File \"/opt/conda/envs/cubeenv/lib/python3.6/site-packages/tornado/gen.py\", line 742, in run\n",
      "    yielded = self.gen.throw(*exc_info)  # type: ignore\n",
      "  File \"/opt/conda/envs/cubeenv/lib/python3.6/site-packages/distributed/core.py\", line 741, in send_recv_from_rpc\n",
      "    self.serializers = serializers\n",
      "  File \"/opt/conda/envs/cubeenv/lib/python3.6/site-packages/tornado/gen.py\", line 735, in run\n",
      "    value = future.result()\n",
      "  File \"/opt/conda/envs/cubeenv/lib/python3.6/site-packages/tornado/gen.py\", line 742, in run\n",
      "    yielded = self.gen.throw(*exc_info)  # type: ignore\n",
      "  File \"/opt/conda/envs/cubeenv/lib/python3.6/site-packages/distributed/core.py\", line 533, in send_recv\n",
      "    deserializers = serializers\n",
      "  File \"/opt/conda/envs/cubeenv/lib/python3.6/site-packages/tornado/gen.py\", line 735, in run\n",
      "    value = future.result()\n",
      "  File \"/opt/conda/envs/cubeenv/lib/python3.6/site-packages/tornado/gen.py\", line 748, in run\n",
      "    yielded = self.gen.send(value)\n",
      "  File \"/opt/conda/envs/cubeenv/lib/python3.6/site-packages/distributed/comm/tcp.py\", line 245, in write\n",
      "    # Can't wait for the write() Future as it may be lost\n",
      "NameError: name 'PY3' is not defined\n",
      "tornado.application - ERROR - Exception in callback functools.partial(<bound method IOLoop._discard_future_result of <zmq.eventloop.ioloop.ZMQIOLoop object at 0x7f1570ace400>>, <Future finished exception=NameError(\"name 'PY3' is not defined\",)>)\n",
      "Traceback (most recent call last):\n",
      "  File \"/opt/conda/envs/cubeenv/lib/python3.6/site-packages/tornado/ioloop.py\", line 743, in _run_callback\n",
      "    ret = callback()\n",
      "  File \"/opt/conda/envs/cubeenv/lib/python3.6/site-packages/tornado/ioloop.py\", line 767, in _discard_future_result\n",
      "    future.result()\n",
      "  File \"/opt/conda/envs/cubeenv/lib/python3.6/site-packages/tornado/gen.py\", line 742, in run\n",
      "    yielded = self.gen.throw(*exc_info)  # type: ignore\n",
      "  File \"/opt/conda/envs/cubeenv/lib/python3.6/site-packages/distributed/client.py\", line 1060, in _update_scheduler_info\n",
      "    raise\n",
      "  File \"/opt/conda/envs/cubeenv/lib/python3.6/site-packages/tornado/gen.py\", line 735, in run\n",
      "    value = future.result()\n",
      "  File \"/opt/conda/envs/cubeenv/lib/python3.6/site-packages/tornado/gen.py\", line 742, in run\n",
      "    yielded = self.gen.throw(*exc_info)  # type: ignore\n",
      "  File \"/opt/conda/envs/cubeenv/lib/python3.6/site-packages/distributed/core.py\", line 741, in send_recv_from_rpc\n",
      "    self.serializers = serializers\n",
      "  File \"/opt/conda/envs/cubeenv/lib/python3.6/site-packages/tornado/gen.py\", line 735, in run\n",
      "    value = future.result()\n",
      "  File \"/opt/conda/envs/cubeenv/lib/python3.6/site-packages/tornado/gen.py\", line 742, in run\n",
      "    yielded = self.gen.throw(*exc_info)  # type: ignore\n",
      "  File \"/opt/conda/envs/cubeenv/lib/python3.6/site-packages/distributed/core.py\", line 533, in send_recv\n",
      "    deserializers = serializers\n",
      "  File \"/opt/conda/envs/cubeenv/lib/python3.6/site-packages/tornado/gen.py\", line 735, in run\n",
      "    value = future.result()\n",
      "  File \"/opt/conda/envs/cubeenv/lib/python3.6/site-packages/tornado/gen.py\", line 748, in run\n",
      "    yielded = self.gen.send(value)\n",
      "  File \"/opt/conda/envs/cubeenv/lib/python3.6/site-packages/distributed/comm/tcp.py\", line 245, in write\n",
      "    # Can't wait for the write() Future as it may be lost\n",
      "NameError: name 'PY3' is not defined\n"
     ]
    }
   ],
   "source": [
    "# Create the model with 100 trees\n",
    "model = RandomForestClassifier(n_estimators=10, \n",
    "                               bootstrap = True,\n",
    "                               max_features = 'sqrt',\n",
    "                               max_depth=3,\n",
    "                               n_jobs=4,\n",
    "                               verbose=2\n",
    "                              )"
   ]
  },
  {
   "cell_type": "markdown",
   "metadata": {},
   "source": [
    "**fit model**"
   ]
  },
  {
   "cell_type": "code",
   "execution_count": null,
   "metadata": {},
   "outputs": [],
   "source": [
    "%%time\n",
    "rf = model.fit(Xtrain, Ytrain)"
   ]
  },
  {
   "cell_type": "markdown",
   "metadata": {},
   "source": [
    "**score model on training set** - should be replaced with cross-validation"
   ]
  },
  {
   "cell_type": "code",
   "execution_count": null,
   "metadata": {},
   "outputs": [],
   "source": [
    "rf_score = rf.score(Xtrain, Ytrain)\n",
    "rf_score"
   ]
  },
  {
   "cell_type": "markdown",
   "metadata": {},
   "source": [
    "extract & plot **variable importances**"
   ]
  },
  {
   "cell_type": "code",
   "execution_count": null,
   "metadata": {},
   "outputs": [],
   "source": [
    "importances = rf.feature_importances_\n",
    "\n",
    "indices = np.argsort(importances)\n",
    "features = [i for i in T1_img]\n",
    "plt.title('Feature Importances')\n",
    "plt.barh(range(len(indices)), importances[indices], color='b', align='center')\n",
    "plt.yticks(range(len(indices)), [features[i] for i in indices])\n",
    "plt.xlabel('Relative Importance')\n",
    "plt.show()"
   ]
  },
  {
   "cell_type": "markdown",
   "metadata": {},
   "source": [
    "extract and **plot decision tree** - TBC"
   ]
  },
  {
   "cell_type": "markdown",
   "metadata": {},
   "source": [
    "# **(6) Validate against full T1 image & mask**"
   ]
  },
  {
   "cell_type": "code",
   "execution_count": null,
   "metadata": {},
   "outputs": [],
   "source": [
    "# rf_val_res = rf.predict(Xval)\n",
    "# rf_val_probs = rf.predict_proba(Xval)[:, 1]"
   ]
  },
  {
   "cell_type": "code",
   "execution_count": null,
   "metadata": {},
   "outputs": [],
   "source": [
    "# rf_val_score = rf.score(Xval, Yval)\n",
    "# f\"{round(rf_val_score, 4)*100} %\""
   ]
  },
  {
   "cell_type": "markdown",
   "metadata": {},
   "source": [
    "# **(6) Implement on full T1 image**"
   ]
  },
  {
   "cell_type": "code",
   "execution_count": null,
   "metadata": {},
   "outputs": [],
   "source": [
    "predicted = rf.predict(Ximp)\n",
    "predicted = np.array(predicted)\n",
    "probability = rf.predict_proba(Ximp)[:, 1]\n",
    "probability = np.array(probability)"
   ]
  },
  {
   "cell_type": "markdown",
   "metadata": {},
   "source": [
    "make dataset again"
   ]
  },
  {
   "cell_type": "code",
   "execution_count": null,
   "metadata": {},
   "outputs": [],
   "source": [
    "probability = probability*100\n",
    "probability[foundnans[:,0]] = -9999\n",
    "probability = probability.astype(np.int16)\n",
    "probability = np.reshape(probability, [lenx, leny])\n",
    "\n",
    "predicted = predicted\n",
    "predicted[foundnans[:,0]] = -9999\n",
    "predicted = predicted.astype(np.int16)\n",
    "predicted = np.reshape(predicted, [lenx, leny])"
   ]
  },
  {
   "cell_type": "code",
   "execution_count": null,
   "metadata": {},
   "outputs": [],
   "source": [
    "# predicted[foundnans[:,0]] = np.nan\n",
    "# probability[foundnans[:,0]] = np.nan"
   ]
  },
  {
   "cell_type": "code",
   "execution_count": null,
   "metadata": {},
   "outputs": [],
   "source": [
    "# predicted = np.reshape(predicted, [lenx, leny])\n",
    "# probability = np.reshape(probability, [lenx, leny])"
   ]
  },
  {
   "cell_type": "code",
   "execution_count": null,
   "metadata": {},
   "outputs": [],
   "source": [
    "ds = T1_dataset\n",
    "ds['water_mask'] = (('y','x'), predicted)\n",
    "ds['water_prob'] = (('y','x'), probability)"
   ]
  },
  {
   "cell_type": "code",
   "execution_count": null,
   "metadata": {},
   "outputs": [],
   "source": [
    "fig, ax = plt.subplots(figsize=(50,50))\n",
    "# ds.water_mask.plot(ax=ax);\n",
    "ax.imshow(ds.water_mask.where(ds.water_mask>=0))\n",
    "ax.set_title('Inferred Water Mask')\n",
    "fig, ax = plt.subplots(figsize=(50,50))\n",
    "ax.imshow(ds.water_prob.where(ds.water_prob>=0))\n",
    "# ds.water_prob.plot(ax=ax);\n",
    "ax.set_title('Inferred Water Probability')\n",
    "fig, ax = plt.subplots(figsize=(50,50))\n",
    "# T1_water.plot(ax=ax);\n",
    "# ax.imshow(T1_water)\n",
    "# ax.set_title('Wofs Water Mask')\n",
    "fig, ax = plt.subplots(figsize=(50,50))\n",
    "# ds.swir1.where(ds.red>0).plot(ax=ax);\n",
    "ax.imshow(T1_img.swir1)\n",
    "ax.set_title('SWIR1 Channel');"
   ]
  },
  {
   "cell_type": "markdown",
   "metadata": {},
   "source": [
    "# **(7) Export(s)**"
   ]
  },
  {
   "cell_type": "code",
   "execution_count": null,
   "metadata": {},
   "outputs": [],
   "source": [
    "from utils_dcal.data_cube_utilities.import_export import export_xarray_to_geotiff\n",
    "import os"
   ]
  },
  {
   "cell_type": "code",
   "execution_count": null,
   "metadata": {},
   "outputs": [],
   "source": [
    "# export stuff\n",
    "inter_dir = '/home/jovyan/ml_outputs/water_products/'\n",
    "scene_nm = original_metadata.uris[0].split('/')[-2] # assumes scenename as dir of indexed metadata \n",
    "local_prodir = inter_dir + scene_nm + '/'\n",
    "os.makedirs(local_prodir, exist_ok=True)\n",
    "out_mask_prod = local_prodir + scene_nm + '_watermask.tif'\n",
    "out_prob_prod = local_prodir + scene_nm + '_waterprob.tif'\n",
    "\n",
    "scene_nm, local_prodir, out_mask_prod, out_prob_prod"
   ]
  },
  {
   "cell_type": "code",
   "execution_count": null,
   "metadata": {},
   "outputs": [],
   "source": [
    "%%time\n",
    "export_xarray_to_geotiff(ds, out_mask_prod, bands=['water_mask'], crs=\"EPSG:3460\", x_coord='x', y_coord='y', no_data=-9999)"
   ]
  },
  {
   "cell_type": "code",
   "execution_count": null,
   "metadata": {},
   "outputs": [],
   "source": [
    "%%time\n",
    "export_xarray_to_geotiff(ds, out_prob_prod, bands=['water_prob'], crs=\"EPSG:3460\", x_coord='x', y_coord='y', no_data=-9999)"
   ]
  },
  {
   "cell_type": "code",
   "execution_count": null,
   "metadata": {},
   "outputs": [],
   "source": [
    "!ls -lh /home/shared/ml_outputs/water_products/S2A_MSIL2A_20190417T223011_T60KWF/*"
   ]
  },
  {
   "cell_type": "code",
   "execution_count": null,
   "metadata": {},
   "outputs": [],
   "source": []
  },
  {
   "cell_type": "code",
   "execution_count": null,
   "metadata": {},
   "outputs": [],
   "source": []
  },
  {
   "cell_type": "code",
   "execution_count": null,
   "metadata": {},
   "outputs": [],
   "source": []
  },
  {
   "cell_type": "code",
   "execution_count": null,
   "metadata": {},
   "outputs": [],
   "source": []
  },
  {
   "cell_type": "code",
   "execution_count": null,
   "metadata": {},
   "outputs": [],
   "source": [
    "# yaml stuff\n",
    "o_dtme = pd.to_datetime(original_metadata.center_time)"
   ]
  },
  {
   "cell_type": "code",
   "execution_count": null,
   "metadata": {},
   "outputs": [],
   "source": [
    "vars(original_metadata)"
   ]
  },
  {
   "cell_type": "code",
   "execution_count": null,
   "metadata": {},
   "outputs": [],
   "source": [
    "T1[0]"
   ]
  },
  {
   "cell_type": "code",
   "execution_count": null,
   "metadata": {},
   "outputs": [],
   "source": [
    "f\"{T1[0][:4]}_{T1[0][:4]}\""
   ]
  },
  {
   "cell_type": "code",
   "execution_count": null,
   "metadata": {},
   "outputs": [],
   "source": [
    "gdf.iloc[[n]]"
   ]
  },
  {
   "cell_type": "code",
   "execution_count": null,
   "metadata": {},
   "outputs": [],
   "source": []
  }
 ],
 "metadata": {
  "kernelspec": {
   "display_name": "Python [conda env:cubeenv]",
   "language": "python",
   "name": "conda-env-cubeenv-py"
  },
  "language_info": {
   "codemirror_mode": {
    "name": "ipython",
    "version": 3
   },
   "file_extension": ".py",
   "mimetype": "text/x-python",
   "name": "python",
   "nbconvert_exporter": "python",
   "pygments_lexer": "ipython3",
   "version": "3.6.7"
  }
 },
 "nbformat": 4,
 "nbformat_minor": 2
}
