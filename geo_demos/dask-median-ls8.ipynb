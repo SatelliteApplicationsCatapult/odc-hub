{
 "cells": [
  {
   "cell_type": "markdown",
   "metadata": {},
   "source": [
    "# `median()` for a dask-backed xarray\n",
    "\n",
    "Runs a median on an dask-backed xarray. Based on the [gist](https://gist.github.com/andrewdhicks/d89849997453cdfad6fa568816ca7160) by Andrew Hicks.\n",
    "    \n",
    "It will rechunk along the given dimension, so make sure your other chunk sizes are small enough that it will fit into memory."
   ]
  },
  {
   "cell_type": "code",
   "execution_count": 1,
   "metadata": {},
   "outputs": [],
   "source": [
    "%matplotlib inline\n",
    "import dask.array\n",
    "import numpy as np\n",
    "import xarray as xr\n",
    "import matplotlib.pyplot as plt"
   ]
  },
  {
   "cell_type": "code",
   "execution_count": 2,
   "metadata": {},
   "outputs": [],
   "source": [
    "def median(array, dim, keep_attrs=False, skipna=False, **kwargs):\n",
    "    \"\"\" Runs a median on an dask-backed xarray.\n",
    "    \n",
    "    This function does not scale!\n",
    "    It will rechunk along the given dimension, so make sure \n",
    "    your other chunk sizes are small enough that it \n",
    "    will fit into memory.\n",
    "    \n",
    "    :param array: An xarray.DataArray wrapping a dask array\n",
    "    :type array: xarray.DataArray\n",
    "    :param dim: The name of the dim in array to calculate the median\n",
    "    :type dim: str\n",
    "    \"\"\"\n",
    "    if type(array) is xr.Dataset:\n",
    "        return array.apply(median, dim=dim, keep_attrs=keep_attrs, **kwargs)\n",
    "    \n",
    "    if not hasattr(array.data, 'dask'):\n",
    "        return array.median(dim, keep_attrs=keep_attrs, **kwargs)\n",
    "    \n",
    "    array = array.chunk({dim:-1})\n",
    "    axis = array.dims.index(dim)\n",
    "    median_func = np.nanmedian if skipna else np.median\n",
    "    blocks = dask.array.map_blocks(median_func, array.data, dtype=array.dtype, drop_axis=axis, axis=axis, **kwargs)\n",
    "    \n",
    "    new_coords={k: v for k, v in array.coords.items() if k != dim and dim not in v.dims}\n",
    "    new_dims = tuple(d for d in array.dims if d != dim)\n",
    "    new_attrs = array.attrs if keep_attrs else None\n",
    "    \n",
    "    return xr.DataArray(blocks, coords=new_coords, dims=new_dims, attrs=new_attrs)"
   ]
  },
  {
   "cell_type": "code",
   "execution_count": 3,
   "metadata": {},
   "outputs": [
    {
     "data": {
      "text/html": [
       "<table style=\"border: 2px solid white;\">\n",
       "<tr>\n",
       "<td style=\"vertical-align: top; border: 0px solid white\">\n",
       "<h3>Client</h3>\n",
       "<ul>\n",
       "  <li><b>Scheduler: </b>tcp://dask-scheduler.dask.svc.cluster.local:8786\n",
       "  <li><b>Dashboard: </b><a href='http://dask-scheduler.dask.svc.cluster.local:8787/status' target='_blank'>http://dask-scheduler.dask.svc.cluster.local:8787/status</a>\n",
       "</ul>\n",
       "</td>\n",
       "<td style=\"vertical-align: top; border: 0px solid white\">\n",
       "<h3>Cluster</h3>\n",
       "<ul>\n",
       "  <li><b>Workers: </b>7</li>\n",
       "  <li><b>Cores: </b>56</li>\n",
       "  <li><b>Memory: </b>236.12 GB</li>\n",
       "</ul>\n",
       "</td>\n",
       "</tr>\n",
       "</table>"
      ],
      "text/plain": [
       "<Client: scheduler='tcp://10.244.1.3:8786' processes=7 cores=56>"
      ]
     },
     "execution_count": 3,
     "metadata": {},
     "output_type": "execute_result"
    }
   ],
   "source": [
    "import dask\n",
    "from dask.distributed import Client\n",
    "client = Client('dask-scheduler.dask.svc.cluster.local:8786')\n",
    "client"
   ]
  },
  {
   "cell_type": "markdown",
   "metadata": {},
   "source": [
    "## Let's try it out"
   ]
  },
  {
   "cell_type": "code",
   "execution_count": 4,
   "metadata": {},
   "outputs": [],
   "source": [
    "from datacube import Datacube\n",
    "from datacube.storage.masking import mask_invalid_data\n",
    "\n",
    "dc = Datacube()"
   ]
  },
  {
   "cell_type": "code",
   "execution_count": 5,
   "metadata": {},
   "outputs": [],
   "source": [
    "platform = 'LANDSAT_8'\n",
    "\n",
    "product = 'ls8_usgs_sr_scene'\n",
    "measurements = ['red', 'green', 'blue', 'pixel_qa']\n",
    "\n",
    "output_crs = 'EPSG:3460'\n",
    "resolution = (-30, 30)"
   ]
  },
  {
   "cell_type": "code",
   "execution_count": 6,
   "metadata": {},
   "outputs": [],
   "source": [
    "# Sub-region selection - e.g. Viti Levu\n",
    "#latitude = (-18.2962, -17.2867)\n",
    "#longitude = (177.1594, 178.7222)\n",
    "\n",
    "#Viti Levu\n",
    "latitude = (-17.323976662026, -18.345705177651) \n",
    "longitude = (177.21496582032, 178.76403808594) \n",
    "\n",
    "# Sub-region selection - e.g. Viti Levu's eastern coast\n",
    "#latitude = (-18.0438, -17.5391)\n",
    "#longitude = (178.3315, 178.7222)\n",
    "\n",
    "# Sub-region selection - e.g. the city of Suva\n",
    "#latitude = (-18.2316, -18.0516)\n",
    "#longitude = (178.2819, 178.6019)\n",
    "\n",
    "time_extents = ('2017-01-01', '2019-06-01')"
   ]
  },
  {
   "cell_type": "code",
   "execution_count": 7,
   "metadata": {},
   "outputs": [
    {
     "data": {
      "text/plain": [
       "<xarray.Dataset>\n",
       "Dimensions:   (time: 90, x: 5489, y: 3793)\n",
       "Coordinates:\n",
       "  * time      (time) datetime64[ns] 2017-01-07T22:06:49.107044 ... 2019-04-10T22:12:17.894022\n",
       "  * y         (y) float64 3.964e+06 3.964e+06 3.964e+06 ... 3.85e+06 3.85e+06\n",
       "  * x         (x) float64 1.837e+06 1.837e+06 1.837e+06 ... 2.001e+06 2.001e+06\n",
       "Data variables:\n",
       "    red       (time, y, x) int16 dask.array<shape=(90, 3793, 5489), chunksize=(1, 500, 500)>\n",
       "    green     (time, y, x) int16 dask.array<shape=(90, 3793, 5489), chunksize=(1, 500, 500)>\n",
       "    blue      (time, y, x) int16 dask.array<shape=(90, 3793, 5489), chunksize=(1, 500, 500)>\n",
       "    pixel_qa  (time, y, x) uint16 dask.array<shape=(90, 3793, 5489), chunksize=(1, 500, 500)>\n",
       "Attributes:\n",
       "    crs:      EPSG:3460"
      ]
     },
     "execution_count": 7,
     "metadata": {},
     "output_type": "execute_result"
    }
   ],
   "source": [
    "landsat_dataset = dc.load(\n",
    "    product=product,\n",
    "    time=time_extents,\n",
    "    lat=latitude,\n",
    "    lon=longitude,\n",
    "    output_crs=output_crs,\n",
    "    resolution=resolution,\n",
    "    measurements = measurements,\n",
    "    group_by='solar_day',\n",
    "    dask_chunks={\n",
    "        'time': 1,\n",
    "        'x': 500,\n",
    "        'y': 500,\n",
    "    }\n",
    ")\n",
    "landsat_dataset"
   ]
  },
  {
   "cell_type": "code",
   "execution_count": 8,
   "metadata": {},
   "outputs": [
    {
     "name": "stdout",
     "output_type": "stream",
     "text": [
      "Up to 1.9 billion pixels might be involved\n"
     ]
    }
   ],
   "source": [
    "print(\"Up to {:2.1f} billion pixels might be involved\".format((len(landsat_dataset.x) * len(landsat_dataset.y) * len(landsat_dataset.time)) / 1e9))"
   ]
  },
  {
   "cell_type": "code",
   "execution_count": 9,
   "metadata": {},
   "outputs": [],
   "source": [
    "# Identify pixels with valid data\n",
    "good_quality = (\n",
    "    (landsat_dataset.pixel_qa == 322)  | # clear\n",
    "    (landsat_dataset.pixel_qa == 386)  |\n",
    "    (landsat_dataset.pixel_qa == 834)  |\n",
    "    (landsat_dataset.pixel_qa == 898)  |\n",
    "    (landsat_dataset.pixel_qa == 1346) |\n",
    "    (landsat_dataset.pixel_qa == 324)  | # water\n",
    "    (landsat_dataset.pixel_qa == 388)  |\n",
    "    (landsat_dataset.pixel_qa == 836)  |\n",
    "    (landsat_dataset.pixel_qa == 900)  |\n",
    "    (landsat_dataset.pixel_qa == 1348)\n",
    ")\n",
    "\n",
    "# Apply mask\n",
    "landsat_dataset = landsat_dataset.where(good_quality)"
   ]
  },
  {
   "cell_type": "code",
   "execution_count": 10,
   "metadata": {},
   "outputs": [],
   "source": [
    "red_nanmedian   = median(landsat_dataset.red,   dim='time', skipna=True)\n",
    "green_nanmedian = median(landsat_dataset.green, dim='time', skipna=True)\n",
    "blue_nanmedian  = median(landsat_dataset.blue,  dim='time', skipna=True)"
   ]
  },
  {
   "cell_type": "code",
   "execution_count": 11,
   "metadata": {},
   "outputs": [],
   "source": [
    "#plt.figure()\n",
    "#im = red_nanmedian.compute().plot.imshow()\n",
    "#plt.axis('equal')\n",
    "#plt.show()"
   ]
  },
  {
   "cell_type": "code",
   "execution_count": 12,
   "metadata": {},
   "outputs": [
    {
     "name": "stdout",
     "output_type": "stream",
     "text": [
      "CPU times: user 32.1 s, sys: 3.37 s, total: 35.5 s\n",
      "Wall time: 6min 54s\n"
     ]
    }
   ],
   "source": [
    "%%time\n",
    "#median_composite = np.dstack([red_nanmedian, green_nanmedian, blue_nanmedian])\n",
    "median_composite = np.stack([red_nanmedian, green_nanmedian, blue_nanmedian], axis=-1)\n",
    "median_composite /= (np.nanmax(median_composite) / 2.5)"
   ]
  },
  {
   "cell_type": "code",
   "execution_count": 13,
   "metadata": {},
   "outputs": [],
   "source": [
    "del landsat_dataset"
   ]
  },
  {
   "cell_type": "code",
   "execution_count": null,
   "metadata": {},
   "outputs": [
    {
     "name": "stderr",
     "output_type": "stream",
     "text": [
      "Clipping input data to the valid range for imshow with RGB data ([0..1] for floats or [0..255] for integers).\n"
     ]
    },
    {
     "data": {
      "text/plain": [
       "<matplotlib.image.AxesImage at 0x7f51a592e390>"
      ]
     },
     "execution_count": 14,
     "metadata": {},
     "output_type": "execute_result"
    }
   ],
   "source": [
    "fig, ax = plt.subplots(figsize=(100, 100))\n",
    "ax.imshow(median_composite)"
   ]
  },
  {
   "cell_type": "code",
   "execution_count": null,
   "metadata": {},
   "outputs": [],
   "source": [
    "client.restart()"
   ]
  },
  {
   "cell_type": "code",
   "execution_count": null,
   "metadata": {},
   "outputs": [],
   "source": []
  }
 ],
 "metadata": {
  "kernelspec": {
   "display_name": "Python [conda env:cubeenv]",
   "language": "python",
   "name": "conda-env-cubeenv-py"
  },
  "language_info": {
   "codemirror_mode": {
    "name": "ipython",
    "version": 3
   },
   "file_extension": ".py",
   "mimetype": "text/x-python",
   "name": "python",
   "nbconvert_exporter": "python",
   "pygments_lexer": "ipython3",
   "version": "3.6.7"
  }
 },
 "nbformat": 4,
 "nbformat_minor": 2
}
