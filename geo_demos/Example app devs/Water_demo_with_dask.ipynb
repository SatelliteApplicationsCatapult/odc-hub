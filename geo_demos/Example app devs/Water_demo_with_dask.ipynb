{
 "cells": [
  {
   "cell_type": "code",
   "execution_count": 1,
   "metadata": {},
   "outputs": [],
   "source": [
    "# Magic + imports\n",
    "%load_ext autoreload\n",
    "%autoreload 2\n",
    "%matplotlib inline\n",
    "\n",
    "CMAP = \"Blues\""
   ]
  },
  {
   "cell_type": "code",
   "execution_count": 2,
   "metadata": {},
   "outputs": [],
   "source": [
    "# set path\n",
    "import sys\n",
    "sys.path.append('/home/jovyan/odc-hub/')\n",
    "# import required modules\n",
    "import warnings\n",
    "warnings.filterwarnings('ignore')\n",
    "import xarray as xr \n",
    "import functools as fct\n",
    "from pathlib import Path\n",
    "import matplotlib.pyplot as plt\n",
    "import numpy as np\n",
    "from functools import reduce \n",
    "import pandas as pd\n",
    "\n",
    "# import required datacube modules\n",
    "from utils_sac.interactive_maps import display_map\n",
    "from utils_sac.notebook_animation_widgets import create_movie_on_np_array\n",
    "from utils_sac.plotting import plot_availability\n",
    "\n",
    "import utils_sac.waterline_functions_deaafrica as waterline_funcs\n",
    "from utils_sac.clean_mask import landsat_qa_clean_mask\n",
    "from utils_dcal.data_cube_utilities.dc_water_classifier import wofs_classify\n",
    "\n",
    "import datacube\n",
    "dc = datacube.Datacube(app='wofs dask')"
   ]
  },
  {
   "cell_type": "code",
   "execution_count": 3,
   "metadata": {},
   "outputs": [],
   "source": [
    "import dask\n",
    "from dask.distributed import Client\n",
    "client = Client('dask-scheduler.dask.svc.cluster.local:8786')"
   ]
  },
  {
   "cell_type": "code",
   "execution_count": 4,
   "metadata": {},
   "outputs": [],
   "source": [
    "lon_range = (177.481, 177.855)\n",
    "lat_range = (-18.00, -18.3732)\n",
    "#smaller area\n",
    "#lon_range = (177.36740112307, 177.46044158938)\n",
    "#lat_range = (-18.107528686523, -18.159027099609)\n",
    "time_range = (\"2017\")\n",
    "tide_range = (0.00, 10.00)\n",
    "time_step = '1Y'\n",
    "output_projection = \"EPSG:32760\"\n",
    "\n",
    "path = \"/home/shared/geo_demos/tides/\"\n",
    "tide_file_2017 = \"/home/shared/geo_demos/tides/IDO70004_2017.csv\"\n",
    "tide_file_2018 = \"/home/shared/geo_demos/tides/IDO70004_2018.csv\"\n"
   ]
  },
  {
   "cell_type": "code",
   "execution_count": 5,
   "metadata": {},
   "outputs": [
    {
     "data": {
      "text/html": [
       "<div style=\"width:100%;\"><div style=\"position:relative;width:100%;height:0;padding-bottom:60%;\"><iframe src=\"data:text/html;charset=utf-8;base64,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\" style=\"position:absolute;width:100%;height:100%;left:0;top:0;border:none !important;\" allowfullscreen webkitallowfullscreen mozallowfullscreen></iframe></div></div>"
      ],
      "text/plain": [
       "<folium.folium.Map at 0x7f36524c4a20>"
      ]
     },
     "execution_count": 5,
     "metadata": {},
     "output_type": "execute_result"
    }
   ],
   "source": [
    "waterline_funcs.display_map(latitude=lat_range, longitude=lon_range)"
   ]
  },
  {
   "cell_type": "code",
   "execution_count": 6,
   "metadata": {},
   "outputs": [],
   "source": [
    "# Create the 'query' dictionary object, which contains the longitudes, latitudes and time provided above\n",
    "query = {\n",
    "    'y': lat_range,\n",
    "    'x': lon_range,\n",
    "    'time': time_range,\n",
    "    'output_crs': output_projection,  \n",
    "    'resolution': (-90, 90)\n",
    "}"
   ]
  },
  {
   "cell_type": "code",
   "execution_count": null,
   "metadata": {},
   "outputs": [],
   "source": [
    "#landsat_ds = dc.load(product=\"ls8_usgs_wofs_scene\",\n",
    "#               group_by='solar_day',\n",
    "#               #measurements = [\"green\",\"red\", \"blue\", \"nir\",\"swir1\",\"swir2\",\"coastal_aerosol\",\"pixel_qa\"],\n",
    "#               **query)"
   ]
  },
  {
   "cell_type": "code",
   "execution_count": 9,
   "metadata": {},
   "outputs": [],
   "source": [
    "#use raw S2 and apply wofs function from utils.\n",
    "scenes = dc.load(product=\"ls8_usgs_sr_scene\",\n",
    "               group_by='solar_day',\n",
    "               measurements = [\"green\",\"red\", \"blue\", \"nir\",\"swir1\",\"swir2\",\"coastal_aerosol\",\"pixel_qa\"],\n",
    "               **query)"
   ]
  },
  {
   "cell_type": "code",
   "execution_count": 8,
   "metadata": {},
   "outputs": [
    {
     "ename": "AttributeError",
     "evalue": "'Dataset' object has no attribute 'pixel_qa'",
     "output_type": "error",
     "traceback": [
      "\u001b[0;31m---------------------------------------------------------------------------\u001b[0m",
      "\u001b[0;31mAttributeError\u001b[0m                            Traceback (most recent call last)",
      "\u001b[0;32m<ipython-input-8-4d722e11932f>\u001b[0m in \u001b[0;36m<module>\u001b[0;34m\u001b[0m\n\u001b[1;32m      1\u001b[0m \u001b[0;31m#apply wofs classifier from utils.\u001b[0m\u001b[0;34m\u001b[0m\u001b[0;34m\u001b[0m\u001b[0;34m\u001b[0m\u001b[0m\n\u001b[0;32m----> 2\u001b[0;31m \u001b[0mclearsky_masks\u001b[0m \u001b[0;34m=\u001b[0m \u001b[0mlandsat_qa_clean_mask\u001b[0m\u001b[0;34m(\u001b[0m\u001b[0mscenes\u001b[0m\u001b[0;34m,\u001b[0m \u001b[0;34m'LANDSAT_8'\u001b[0m\u001b[0;34m)\u001b[0m\u001b[0;34m\u001b[0m\u001b[0;34m\u001b[0m\u001b[0m\n\u001b[0m\u001b[1;32m      3\u001b[0m \u001b[0mclearsky_scenes\u001b[0m \u001b[0;34m=\u001b[0m \u001b[0mscenes\u001b[0m\u001b[0;34m.\u001b[0m\u001b[0mwhere\u001b[0m\u001b[0;34m(\u001b[0m\u001b[0mclearsky_masks\u001b[0m\u001b[0;34m)\u001b[0m\u001b[0;34m\u001b[0m\u001b[0;34m\u001b[0m\u001b[0m\n\u001b[1;32m      4\u001b[0m \u001b[0mwater_classes\u001b[0m \u001b[0;34m=\u001b[0m \u001b[0mwofs_classify\u001b[0m\u001b[0;34m(\u001b[0m\u001b[0mscenes\u001b[0m\u001b[0;34m,\u001b[0m \u001b[0mclean_mask\u001b[0m\u001b[0;34m=\u001b[0m\u001b[0mclearsky_masks\u001b[0m\u001b[0;34m.\u001b[0m\u001b[0mvalues\u001b[0m \u001b[0;34m,\u001b[0m \u001b[0mno_data\u001b[0m \u001b[0;34m=\u001b[0m \u001b[0mnp\u001b[0m\u001b[0;34m.\u001b[0m\u001b[0mnan\u001b[0m \u001b[0;34m,\u001b[0m \u001b[0mx_coord\u001b[0m\u001b[0;34m=\u001b[0m\u001b[0;34m'x'\u001b[0m\u001b[0;34m,\u001b[0m \u001b[0my_coord\u001b[0m \u001b[0;34m=\u001b[0m \u001b[0;34m\"y\"\u001b[0m\u001b[0;34m)\u001b[0m\u001b[0;34m\u001b[0m\u001b[0;34m\u001b[0m\u001b[0m\n\u001b[1;32m      5\u001b[0m \u001b[0;34m\u001b[0m\u001b[0m\n",
      "\u001b[0;32m~/odc-hub/utils_sac/clean_mask.py\u001b[0m in \u001b[0;36mlandsat_qa_clean_mask\u001b[0;34m(dataset, platform, cover_types)\u001b[0m\n\u001b[1;32m    116\u001b[0m \u001b[0;34m\u001b[0m\u001b[0m\n\u001b[1;32m    117\u001b[0m         \u001b[0;32mfor\u001b[0m \u001b[0mi\u001b[0m\u001b[0;34m,\u001b[0m \u001b[0mcover_type\u001b[0m \u001b[0;32min\u001b[0m \u001b[0menumerate\u001b[0m\u001b[0;34m(\u001b[0m\u001b[0mcover_types\u001b[0m\u001b[0;34m)\u001b[0m\u001b[0;34m:\u001b[0m\u001b[0;34m\u001b[0m\u001b[0;34m\u001b[0m\u001b[0m\n\u001b[0;32m--> 118\u001b[0;31m                 \u001b[0mcover_type_clean_mask\u001b[0m \u001b[0;34m=\u001b[0m \u001b[0mprocessing_options\u001b[0m\u001b[0;34m[\u001b[0m\u001b[0mplatform\u001b[0m\u001b[0;34m]\u001b[0m\u001b[0;34m(\u001b[0m\u001b[0mdataset\u001b[0m\u001b[0;34m.\u001b[0m\u001b[0mpixel_qa\u001b[0m\u001b[0;34m,\u001b[0m \u001b[0mcover_type\u001b[0m\u001b[0;34m)\u001b[0m\u001b[0;34m\u001b[0m\u001b[0;34m\u001b[0m\u001b[0m\n\u001b[0m\u001b[1;32m    119\u001b[0m                 \u001b[0mclean_mask\u001b[0m \u001b[0;34m=\u001b[0m \u001b[0mcover_type_clean_mask\u001b[0m \u001b[0;32mif\u001b[0m \u001b[0mi\u001b[0m \u001b[0;34m==\u001b[0m \u001b[0;36m0\u001b[0m \u001b[0;32melse\u001b[0m \u001b[0mxr_or\u001b[0m\u001b[0;34m(\u001b[0m\u001b[0mclean_mask\u001b[0m\u001b[0;34m,\u001b[0m \u001b[0mcover_type_clean_mask\u001b[0m\u001b[0;34m)\u001b[0m\u001b[0;34m\u001b[0m\u001b[0;34m\u001b[0m\u001b[0m\n\u001b[1;32m    120\u001b[0m \u001b[0;34m\u001b[0m\u001b[0m\n",
      "\u001b[0;32m/opt/conda/envs/cubeenv/lib/python3.6/site-packages/xarray/core/common.py\u001b[0m in \u001b[0;36m__getattr__\u001b[0;34m(self, name)\u001b[0m\n\u001b[1;32m    177\u001b[0m                     \u001b[0;32mreturn\u001b[0m \u001b[0msource\u001b[0m\u001b[0;34m[\u001b[0m\u001b[0mname\u001b[0m\u001b[0;34m]\u001b[0m\u001b[0;34m\u001b[0m\u001b[0;34m\u001b[0m\u001b[0m\n\u001b[1;32m    178\u001b[0m         raise AttributeError(\"%r object has no attribute %r\" %\n\u001b[0;32m--> 179\u001b[0;31m                              (type(self).__name__, name))\n\u001b[0m\u001b[1;32m    180\u001b[0m \u001b[0;34m\u001b[0m\u001b[0m\n\u001b[1;32m    181\u001b[0m     \u001b[0;32mdef\u001b[0m \u001b[0m__setattr__\u001b[0m\u001b[0;34m(\u001b[0m\u001b[0mself\u001b[0m\u001b[0;34m,\u001b[0m \u001b[0mname\u001b[0m\u001b[0;34m,\u001b[0m \u001b[0mvalue\u001b[0m\u001b[0;34m)\u001b[0m\u001b[0;34m:\u001b[0m\u001b[0;34m\u001b[0m\u001b[0;34m\u001b[0m\u001b[0m\n",
      "\u001b[0;31mAttributeError\u001b[0m: 'Dataset' object has no attribute 'pixel_qa'"
     ]
    }
   ],
   "source": [
    "#apply wofs classifier from utils. \n",
    "clearsky_masks = landsat_qa_clean_mask(scenes, 'LANDSAT_8')\n",
    "clearsky_scenes = scenes.where(clearsky_masks)\n",
    "water_classes = wofs_classify(scenes, clean_mask=clearsky_masks.values , no_data = np.nan , x_coord='x', y_coord = \"y\")\n",
    " "
   ]
  },
  {
   "cell_type": "markdown",
   "metadata": {},
   "source": []
  },
  {
   "cell_type": "code",
   "execution_count": null,
   "metadata": {},
   "outputs": [],
   "source": [
    "#landsat_ds.water.isel(time=3).plot(cmap='RdBu', size=6, vmin=-0.5, vmax=0.5)\n",
    "water_classes.isel(time=3).plot(cmap='RdBu', size=6, vmin=-0.5, vmax=0.5)\n",
    "#plt.show()"
   ]
  },
  {
   "cell_type": "code",
   "execution_count": null,
   "metadata": {},
   "outputs": [],
   "source": [
    "tide_data_2017 = pd.read_csv(tide_file_2017, parse_dates=['time'], index_col='time')\n",
    "tide_data_2018 = pd.read_csv(tide_file_2018, parse_dates=['time'], index_col='time')\n",
    "tide_data = pd.concat([tide_data_2017, tide_data_2018])\n",
    "tide_data.head()\n",
    "tide_data['tide_height'] = tide_data['tide']\n",
    "tide_data.head()"
   ]
  },
  {
   "cell_type": "code",
   "execution_count": null,
   "metadata": {},
   "outputs": [],
   "source": [
    "# First, we convert the data to an xarray dataset so we can analyse it in the same way as our Landsat data\n",
    "tide_data_xr = tide_data.to_xarray()\n",
    "\n",
    "# We want to convert our hourly tide heights to estimates of exactly how high the tide was at the time that\n",
    "# each satellite image was taken. To do this, we can use `.interp` to 'interpolate' a tide height for each\n",
    "# Landsat timestamp:\n",
    "#landsat_tideheights = tide_data_xr.interp(time=landsat_ds.time)\n",
    "\n",
    "landsat_tideheights = tide_data_xr.interp(time=water_classes.time)\n",
    "\n",
    "# We then want to put these values back into the Landsat dataset so that each image has an estimated tide height:\n",
    "landsat_ds['tide_height'] = landsat_tideheights.tide_height\n",
    "#clearsky_scenes['tide_height'] = landsat_tideheights.tide_height\n",
    "\n",
    "\n",
    "# Plot the resulting tide heights for each Landsat image:\n",
    "landsat_ds.tide_height.plot()\n",
    "#clearsky_scenes.tide_height.plot()\n",
    "plt.show()"
   ]
  },
  {
   "cell_type": "code",
   "execution_count": null,
   "metadata": {},
   "outputs": [],
   "source": [
    "landsat_hightide = landsat_ds.where((landsat_ds.tide_height > tide_range[0]) & \n",
    "                                    (landsat_ds.tide_height < tide_range[1]), drop=True)\n",
    "#landsat_hightide = landsat_ds.where((landsat_ds == 1), drop=True)\n",
    "landsat_hightide = landsat_ds.where(landsat_ds.water != 1)  \n",
    "#landsat_hightide = clearsky_scenes.where((clearsky_scenes.tide_height > tide_range[0]) & \n",
    " #                                  (clearsky_scenes.tide_height < tide_range[1]), drop=True)\n",
    "print(landsat_hightide)\n",
    "landsat_hightide.water.isel(time=3).plot(cmap='YlOrRd', size=6, vmin=-0.5, vmax=0.5)"
   ]
  },
  {
   "cell_type": "code",
   "execution_count": null,
   "metadata": {},
   "outputs": [],
   "source": [
    "landsat_resampled = landsat_hightide.water.compute().resample(time=time_step).min('time')\n",
    "landsat_resampled.plot(col='time', cmap='RdBu', col_wrap=3, vmin=-0.5, vmax=0.5)"
   ]
  },
  {
   "cell_type": "code",
   "execution_count": null,
   "metadata": {},
   "outputs": [],
   "source": [
    "# Set up attributes to assign to each waterline\n",
    "attribute_data = {'time': [str(i)[0:10] for i in landsat_resampled.time.values]}\n",
    "attribute_dtypes = {'time': 'str'}\n",
    "\n",
    "# Extract waterline contours for the '0' water index threshold:\n",
    "contour_gdf = waterline_funcs.contour_extract(\n",
    "    z_values=[0],\n",
    "    ds_array=landsat_resampled,\n",
    "    ds_crs=landsat_ds.crs,\n",
    "    ds_affine=landsat_ds.geobox.transform,\n",
    "    output_shp=f'output_waterlines.shp',\n",
    "    attribute_data=attribute_data,\n",
    "    attribute_dtypes=attribute_dtypes,\n",
    "    min_vertices=50\n",
    ")\n",
    "\n",
    "# Plot output shapefile over the top of the first year's MNDWI layer\n",
    "fig, ax = plt.subplots(1, 1, figsize=(20, 7))\n",
    "#landsat_resampled.isel(time=-1).plot(ax=ax, cmap='Greys', alpha=1.0, edgecolors=None)\n",
    "contour_gdf.plot(cmap='YlOrRd', ax=ax)\n"
   ]
  },
  {
   "cell_type": "code",
   "execution_count": null,
   "metadata": {},
   "outputs": [],
   "source": [
    "waterline_funcs.map_shapefile(gdf=contour_gdf)"
   ]
  },
  {
   "cell_type": "code",
   "execution_count": null,
   "metadata": {},
   "outputs": [],
   "source": [
    "client.restart()"
   ]
  },
  {
   "cell_type": "code",
   "execution_count": null,
   "metadata": {},
   "outputs": [],
   "source": []
  },
  {
   "cell_type": "code",
   "execution_count": null,
   "metadata": {},
   "outputs": [],
   "source": []
  },
  {
   "cell_type": "code",
   "execution_count": null,
   "metadata": {},
   "outputs": [],
   "source": []
  }
 ],
 "metadata": {
  "kernelspec": {
   "display_name": "Python [conda env:cubeenv]",
   "language": "python",
   "name": "conda-env-cubeenv-py"
  },
  "language_info": {
   "codemirror_mode": {
    "name": "ipython",
    "version": 3
   },
   "file_extension": ".py",
   "mimetype": "text/x-python",
   "name": "python",
   "nbconvert_exporter": "python",
   "pygments_lexer": "ipython3",
   "version": "3.6.7"
  }
 },
 "nbformat": 4,
 "nbformat_minor": 2
}
