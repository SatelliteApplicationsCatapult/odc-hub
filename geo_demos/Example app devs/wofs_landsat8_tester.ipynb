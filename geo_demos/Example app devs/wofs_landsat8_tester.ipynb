{
 "cells": [
  {
   "cell_type": "code",
   "execution_count": 18,
   "metadata": {},
   "outputs": [
    {
     "name": "stdout",
     "output_type": "stream",
     "text": [
      "The autoreload extension is already loaded. To reload it, use:\n",
      "  %reload_ext autoreload\n"
     ]
    }
   ],
   "source": [
    "# Magic + imports likely common across all notebooks\n",
    "%load_ext autoreload\n",
    "%autoreload 2\n",
    "%matplotlib inline\n",
    "# Supress Warning \n",
    "import warnings\n",
    "warnings.filterwarnings('ignore')\n",
    "# Set reference for util modules\n",
    "import sys\n",
    "sys.path.append('/home/jovyan/odc-hub/')\n",
    "# Generic python\n",
    "import matplotlib.pyplot as plt\n",
    "import numpy as np\n",
    "# Bonus vector manipulation\n",
    "import pandas as pd\n",
    "import geopandas as gpd\n",
    "from shapely import wkt\n",
    "from datetime import datetime"
   ]
  },
  {
   "cell_type": "markdown",
   "metadata": {},
   "source": [
    "# **Landsat-8 WOFS Product Creation**"
   ]
  },
  {
   "cell_type": "markdown",
   "metadata": {},
   "source": [
    "### Config"
   ]
  },
  {
   "cell_type": "markdown",
   "metadata": {},
   "source": [
    "Import required DC utils"
   ]
  },
  {
   "cell_type": "code",
   "execution_count": 19,
   "metadata": {},
   "outputs": [],
   "source": [
    "import datacube\n",
    "# DC utilities\n",
    "from utils_dcal.data_cube_utilities.clean_mask import landsat_qa_clean_mask\n",
    "from utils_dcal.data_cube_utilities.dc_water_classifier import wofs_classify\n",
    "from utils_dcal.data_cube_utilities.import_export import export_xarray_to_netcdf"
   ]
  },
  {
   "cell_type": "markdown",
   "metadata": {},
   "source": [
    "Define aoi via wkt polygon (could be subbed or shapefile)"
   ]
  },
  {
   "cell_type": "code",
   "execution_count": 20,
   "metadata": {},
   "outputs": [],
   "source": [
    "aoi_wkt = \"POLYGON((178.12 -18.25,178.15 -18.25,178.15 -18.27,178.12 -18.27,178.12 -18.25))\"\n",
    "aoi = gpd.GeoDataFrame(pd.DataFrame({'geoms':[wkt.loads(aoi_wkt)]}), geometry='geoms')"
   ]
  },
  {
   "cell_type": "code",
   "execution_count": 21,
   "metadata": {},
   "outputs": [],
   "source": [
    "dc = datacube.Datacube(app=\"na\")"
   ]
  },
  {
   "cell_type": "code",
   "execution_count": 22,
   "metadata": {},
   "outputs": [],
   "source": [
    "area_json = {\n",
    "  \"type\": \"FeatureCollection\",\n",
    "  \"features\": [\n",
    "    {\n",
    "      \"type\": \"Feature\",\n",
    "      \"properties\": {},\n",
    "      \"geometry\": {\n",
    "        \"type\": \"Polygon\",\n",
    "        \"coordinates\": [\n",
    "          [\n",
    "            [\n",
    "                aoi.bounds.minx.values[0],\n",
    "                aoi.bounds.maxy.values[0]\n",
    "            ],\n",
    "            [\n",
    "                aoi.bounds.maxx.values[0],\n",
    "                aoi.bounds.maxy.values[0]\n",
    "            ],\n",
    "            [\n",
    "                aoi.bounds.maxx.values[0],\n",
    "                aoi.bounds.miny.values[0]\n",
    "            ],\n",
    "            [\n",
    "                aoi.bounds.minx.values[0],\n",
    "                aoi.bounds.miny.values[0]\n",
    "            ],\n",
    "            [\n",
    "                aoi.bounds.minx.values[0],\n",
    "                aoi.bounds.maxy.values[0]\n",
    "            ]\n",
    "          ]\n",
    "        ]\n",
    "      }\n",
    "    }\n",
    "  ]\n",
    "}"
   ]
  },
  {
   "cell_type": "code",
   "execution_count": 23,
   "metadata": {},
   "outputs": [
    {
     "name": "stdout",
     "output_type": "stream",
     "text": [
      "Lat: (-18.27, -18.25) \n",
      "Lon: (178.12, 178.15)\n"
     ]
    }
   ],
   "source": [
    "lons, lats = zip(*area_json[\"features\"][0][\"geometry\"][\"coordinates\"][0])\n",
    "lat_extents = (min(lats), max(lats))\n",
    "lon_extents = (min(lons), max(lons))\n",
    "print(\"Lat:\", lat_extents, \"\\n\"\n",
    "      \"Lon:\", lon_extents)"
   ]
  },
  {
   "cell_type": "markdown",
   "metadata": {},
   "source": [
    "### Load Data"
   ]
  },
  {
   "cell_type": "markdown",
   "metadata": {},
   "source": [
    "Generic query specs"
   ]
  },
  {
   "cell_type": "code",
   "execution_count": 24,
   "metadata": {},
   "outputs": [],
   "source": [
    "query = dict(   latitude = lat_extents,\n",
    "                longitude = lon_extents,\n",
    "                output_crs = \"EPSG:32760\",\n",
    "                time = (datetime(2017,1,1), datetime(2017,2,1)),\n",
    "                resolution = (30,30))"
   ]
  },
  {
   "cell_type": "markdown",
   "metadata": {},
   "source": [
    "Dataset-specifics"
   ]
  },
  {
   "cell_type": "code",
   "execution_count": 25,
   "metadata": {},
   "outputs": [],
   "source": [
    "scenes = dc.load(product=\"ls8_usgs_sr_scene\",\n",
    "               group_by='solar_day',\n",
    "               measurements = [\"green\",\"red\",\"blue\",\"nir\",\"swir1\",\"swir2\",\"coastal_aerosol\",\"pixel_qa\"],\n",
    "               **query)"
   ]
  },
  {
   "cell_type": "markdown",
   "metadata": {},
   "source": [
    "We've been testing removal of no-data value to nan. This doesn't seem to work though as outputs from wofs over nan areas is 0, which skews the total no. observations."
   ]
  },
  {
   "cell_type": "code",
   "execution_count": 26,
   "metadata": {},
   "outputs": [],
   "source": [
    "scenes = scenes.where(scenes != -9999.) "
   ]
  },
  {
   "cell_type": "markdown",
   "metadata": {},
   "source": [
    "Check loaded"
   ]
  },
  {
   "cell_type": "code",
   "execution_count": 27,
   "metadata": {},
   "outputs": [
    {
     "data": {
      "text/plain": [
       "<xarray.Dataset>\n",
       "Dimensions:          (time: 4, x: 107, y: 75)\n",
       "Coordinates:\n",
       "  * time             (time) datetime64[ns] 2017-01-07T22:06:49.107044 ... 2017-01-30T22:12:51.641971\n",
       "  * y                (y) float64 7.98e+06 7.98e+06 ... 7.982e+06 7.982e+06\n",
       "  * x                (x) float64 6.184e+05 6.184e+05 ... 6.216e+05 6.216e+05\n",
       "Data variables:\n",
       "    green            (time, y, x) float64 550.0 554.0 556.0 ... nan nan nan\n",
       "    red              (time, y, x) float64 386.0 403.0 405.0 ... nan nan nan\n",
       "    blue             (time, y, x) float64 339.0 340.0 343.0 ... nan nan nan\n",
       "    nir              (time, y, x) float64 192.0 199.0 207.0 ... nan nan nan\n",
       "    swir1            (time, y, x) float64 197.0 201.0 205.0 ... nan nan nan\n",
       "    swir2            (time, y, x) float64 165.0 170.0 170.0 ... nan nan nan\n",
       "    coastal_aerosol  (time, y, x) float64 228.0 230.0 241.0 ... nan nan nan\n",
       "    pixel_qa         (time, y, x) float64 324.0 324.0 324.0 ... 1.0 1.0 1.0\n",
       "Attributes:\n",
       "    crs:      EPSG:32760"
      ]
     },
     "execution_count": 27,
     "metadata": {},
     "output_type": "execute_result"
    }
   ],
   "source": [
    "scenes"
   ]
  },
  {
   "cell_type": "code",
   "execution_count": 28,
   "metadata": {},
   "outputs": [
    {
     "data": {
      "image/png": "[encoded data removed]",
      "text/plain": [
       "<Figure size 432x288 with 2 Axes>"
      ]
     },
     "metadata": {
      "needs_background": "light"
     },
     "output_type": "display_data"
    }
   ],
   "source": [
    "scenes.isel(time = 0).swir1.plot();"
   ]
  },
  {
   "cell_type": "markdown",
   "metadata": {},
   "source": [
    "Create + apply 'cleansky' mask"
   ]
  },
  {
   "cell_type": "code",
   "execution_count": 29,
   "metadata": {},
   "outputs": [],
   "source": [
    "clearsky_masks = landsat_qa_clean_mask(scenes, 'LANDSAT_8')\n",
    "clearsky_scenes = scenes.where(clearsky_masks)"
   ]
  },
  {
   "cell_type": "markdown",
   "metadata": {},
   "source": [
    "Apply wofs classification"
   ]
  },
  {
   "cell_type": "code",
   "execution_count": 30,
   "metadata": {},
   "outputs": [],
   "source": [
    "water_classes = wofs_classify(clearsky_scenes, no_data = np.nan , x_coord='x', y_coord = \"y\")"
   ]
  },
  {
   "cell_type": "markdown",
   "metadata": {},
   "source": [
    "Visualise wofs summary product"
   ]
  },
  {
   "cell_type": "code",
   "execution_count": 31,
   "metadata": {},
   "outputs": [
    {
     "data": {
      "image/png": "[encoded data removed]",
      "text/plain": [
       "<Figure size 720x576 with 2 Axes>"
      ]
     },
     "metadata": {
      "needs_background": "light"
     },
     "output_type": "display_data"
    }
   ],
   "source": [
    "plt.figure(figsize = (10,8))\n",
    "water_classes.wofs.mean(dim = 'time').plot();"
   ]
  },
  {
   "cell_type": "markdown",
   "metadata": {},
   "source": [
    "### Export to file within shared storage"
   ]
  },
  {
   "cell_type": "markdown",
   "metadata": {},
   "source": [
    "Define output path"
   ]
  },
  {
   "cell_type": "code",
   "execution_count": 32,
   "metadata": {},
   "outputs": [],
   "source": [
    "# Ensure the output directory exists before writing to it.\n",
    "!mkdir -p /home/shared/geo_demos/wofs_testers\n",
    "output_file_name  =  \"/home/shared/geo_demos/wofs_testers/l8_wofs_product.nc\""
   ]
  },
  {
   "cell_type": "markdown",
   "metadata": {},
   "source": [
    "Correct attributes and add to wofs xarray (for some reason we have 'dc_partual_load' as true...)"
   ]
  },
  {
   "cell_type": "code",
   "execution_count": 33,
   "metadata": {},
   "outputs": [
    {
     "data": {
      "text/plain": [
       "OrderedDict([('crs', CRS('EPSG:32760'))])"
      ]
     },
     "execution_count": 33,
     "metadata": {},
     "output_type": "execute_result"
    }
   ],
   "source": [
    "scenes.attrs"
   ]
  },
  {
   "cell_type": "code",
   "execution_count": 34,
   "metadata": {},
   "outputs": [],
   "source": [
    "# at = scenes.attrs\n",
    "# del at['dc_partial_load']\n",
    "# at"
   ]
  },
  {
   "cell_type": "code",
   "execution_count": 35,
   "metadata": {},
   "outputs": [],
   "source": [
    "dataset_to_output =  water_classes.assign_attrs(scenes.attrs)"
   ]
  },
  {
   "cell_type": "code",
   "execution_count": 36,
   "metadata": {},
   "outputs": [
    {
     "data": {
      "text/plain": [
       "OrderedDict([('crs', CRS('EPSG:32760'))])"
      ]
     },
     "execution_count": 36,
     "metadata": {},
     "output_type": "execute_result"
    }
   ],
   "source": [
    "dataset_to_output.attrs"
   ]
  },
  {
   "cell_type": "markdown",
   "metadata": {},
   "source": [
    "Export"
   ]
  },
  {
   "cell_type": "code",
   "execution_count": 37,
   "metadata": {},
   "outputs": [],
   "source": [
    "export_xarray_to_netcdf(dataset_to_output, output_file_name)"
   ]
  },
  {
   "cell_type": "code",
   "execution_count": null,
   "metadata": {},
   "outputs": [],
   "source": []
  }
 ],
 "metadata": {
  "kernelspec": {
   "display_name": "Python [conda env:cubeenv]",
   "language": "python",
   "name": "conda-env-cubeenv-py"
  },
  "language_info": {
   "codemirror_mode": {
    "name": "ipython",
    "version": 3
   },
   "file_extension": ".py",
   "mimetype": "text/x-python",
   "name": "python",
   "nbconvert_exporter": "python",
   "pygments_lexer": "ipython3",
   "version": "3.6.7"
  }
 },
 "nbformat": 4,
 "nbformat_minor": 2
}
