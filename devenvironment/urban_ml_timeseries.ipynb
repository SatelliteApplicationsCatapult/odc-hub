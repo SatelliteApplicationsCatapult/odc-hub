{
 "cells": [
  {
   "cell_type": "code",
   "execution_count": 1,
   "metadata": {},
   "outputs": [],
   "source": [
    "#carry out ML to extract urban areas. \n",
    "#can then extend this back in time to get when urban change took place."
   ]
  },
  {
   "cell_type": "code",
   "execution_count": 2,
   "metadata": {},
   "outputs": [],
   "source": [
    "# Magic + imports likely common across all notebooks\n",
    "%load_ext autoreload\n",
    "%autoreload 2\n",
    "%matplotlib inline\n",
    "# Supress Warning \n",
    "import warnings\n",
    "warnings.filterwarnings('ignore')\n",
    "# Set reference for util modules\n",
    "#import sys\n",
    "#sys.path.append('/home/jovyan/odc-hub/')\n",
    "# Generic python\n",
    "import matplotlib.pyplot as plt\n",
    "import numpy as np\n",
    "import xarray as xr \n",
    "import odc.algo\n",
    "\n",
    "# Bonus vector manipulation\n",
    "import pandas as pd\n",
    "import geopandas as gpd\n",
    "from shapely import wkt\n",
    "from datetime import datetime\n",
    "import datacube\n",
    "\n",
    "import dask\n",
    "\n",
    "CMAP = \"Blues\""
   ]
  },
  {
   "cell_type": "code",
   "execution_count": 3,
   "metadata": {},
   "outputs": [],
   "source": [
    "from __future__ import print_function, division\n",
    "from osgeo import gdal, gdal_array\n",
    "import numpy as np\n",
    "import pandas as pd\n",
    "import matplotlib.pyplot as plt\n",
    "from sklearn.metrics import confusion_matrix\n",
    "from sklearn import metrics\n",
    "from sklearn.metrics import accuracy_score, cohen_kappa_score, mean_squared_error, classification_report\n",
    "from matplotlib.colors import ListedColormap, BoundaryNorm\n",
    "from sklearn.ensemble import RandomForestClassifier\n",
    "from sklearn.model_selection import train_test_split\n",
    "import seaborn as sns\n",
    "from PIL import Image as ImageSave\n",
    "from math import sqrt\n",
    "import os\n",
    "from IPython.display import Image"
   ]
  },
  {
   "cell_type": "code",
   "execution_count": 4,
   "metadata": {},
   "outputs": [
    {
     "name": "stdout",
     "output_type": "stream",
     "text": [
      "Requirement already satisfied: datacube_utilities from git+https://github.com/SatelliteApplicationsCatapult/datacube-utilities.git#egg=datacube_utilities in /opt/conda/envs/cubeenv/lib/python3.6/site-packages (0.0.1)\n",
      "Requirement already satisfied: msgpack==1.0.0 in /opt/conda/envs/cubeenv/lib/python3.6/site-packages (from datacube_utilities) (1.0.0)\n",
      "Requirement already satisfied: distributed==2.14.0 in /opt/conda/envs/cubeenv/lib/python3.6/site-packages (from datacube_utilities) (2.14.0)\n",
      "Requirement already satisfied: blosc==1.9.0 in /opt/conda/envs/cubeenv/lib/python3.6/site-packages (from datacube_utilities) (1.9.0)\n",
      "Requirement already satisfied: folium==0.10.1 in /opt/conda/envs/cubeenv/lib/python3.6/site-packages (from datacube_utilities) (0.10.1)\n",
      "Requirement already satisfied: descartes==1.1.0 in /opt/conda/envs/cubeenv/lib/python3.6/site-packages (from datacube_utilities) (1.1.0)\n",
      "Requirement already satisfied: boto3==1.12.36 in /opt/conda/envs/cubeenv/lib/python3.6/site-packages (from datacube_utilities) (1.12.36)\n",
      "Requirement already satisfied: cloudpickle==1.3.0 in /opt/conda/envs/cubeenv/lib/python3.6/site-packages (from datacube_utilities) (1.3.0)\n",
      "Requirement already satisfied: matplotlib==3.2.1 in /opt/conda/envs/cubeenv/lib/python3.6/site-packages (from datacube_utilities) (3.2.1)\n",
      "Requirement already satisfied: scikit-image==0.16.2 in /opt/conda/envs/cubeenv/lib/python3.6/site-packages (from datacube_utilities) (0.16.2)\n",
      "Requirement already satisfied: shapely==1.7.0 in /opt/conda/envs/cubeenv/lib/python3.6/site-packages (from datacube_utilities) (1.7.0)\n",
      "Requirement already satisfied: ruamel.yaml==0.15.87 in /opt/conda/envs/cubeenv/lib/python3.6/site-packages (from datacube_utilities) (0.15.87)\n",
      "Requirement already satisfied: numpy==1.18.1 in /opt/conda/envs/cubeenv/lib/python3.6/site-packages (from datacube_utilities) (1.18.1)\n",
      "Requirement already satisfied: dask==2.14.0 in /opt/conda/envs/cubeenv/lib/python3.6/site-packages (from datacube_utilities) (2.14.0)\n",
      "Requirement already satisfied: toolz==0.10.0 in /opt/conda/envs/cubeenv/lib/python3.6/site-packages (from datacube_utilities) (0.10.0)\n",
      "Requirement already satisfied: scipy==1.4.1 in /opt/conda/envs/cubeenv/lib/python3.6/site-packages (from datacube_utilities) (1.4.1)\n",
      "Requirement already satisfied: lcmap-pyccd==2017.08.18 in /opt/conda/envs/cubeenv/lib/python3.6/site-packages (from datacube_utilities) (2017.8.18)\n",
      "Requirement already satisfied: scikit-learn==0.22.2.post1 in /opt/conda/envs/cubeenv/lib/python3.6/site-packages (from datacube_utilities) (0.22.2.post1)\n",
      "Requirement already satisfied: hdmedians==0.13 in /opt/conda/envs/cubeenv/lib/python3.6/site-packages (from datacube_utilities) (0.13)\n",
      "Requirement already satisfied: geopandas==0.7.0 in /opt/conda/envs/cubeenv/lib/python3.6/site-packages (from datacube_utilities) (0.7.0)\n",
      "Requirement already satisfied: ipyleaflet==0.12.3 in /opt/conda/envs/cubeenv/lib/python3.6/site-packages (from datacube_utilities) (0.12.3)\n",
      "Requirement already satisfied: seaborn==0.10.0 in /opt/conda/envs/cubeenv/lib/python3.6/site-packages (from datacube_utilities) (0.10.0)\n",
      "Requirement already satisfied: xarray==0.15.1 in /opt/conda/envs/cubeenv/lib/python3.6/site-packages (from datacube_utilities) (0.15.1)\n",
      "Requirement already satisfied: rasterstats==0.14.0 in /opt/conda/envs/cubeenv/lib/python3.6/site-packages (from datacube_utilities) (0.14.0)\n",
      "Requirement already satisfied: datacube==1.7 in /opt/conda/envs/cubeenv/lib/python3.6/site-packages (from datacube_utilities) (1.7)\n",
      "Requirement already satisfied: gdal==2.4.4 in /opt/conda/envs/cubeenv/lib/python3.6/site-packages (from datacube_utilities) (2.4.4)\n",
      "Requirement already satisfied: tornado==6.0.4 in /opt/conda/envs/cubeenv/lib/python3.6/site-packages (from datacube_utilities) (6.0.4)\n",
      "Requirement already satisfied: lz4==3.0.2 in /opt/conda/envs/cubeenv/lib/python3.6/site-packages (from datacube_utilities) (3.0.2)\n",
      "Requirement already satisfied: setuptools in /opt/conda/envs/cubeenv/lib/python3.6/site-packages (from distributed==2.14.0->datacube_utilities) (46.1.3.post20200325)\n",
      "Requirement already satisfied: psutil>=5.0 in /opt/conda/envs/cubeenv/lib/python3.6/site-packages (from distributed==2.14.0->datacube_utilities) (5.7.0)\n",
      "Requirement already satisfied: tblib>=1.6.0 in /opt/conda/envs/cubeenv/lib/python3.6/site-packages (from distributed==2.14.0->datacube_utilities) (1.6.0)\n",
      "Requirement already satisfied: sortedcontainers!=2.0.0,!=2.0.1 in /opt/conda/envs/cubeenv/lib/python3.6/site-packages (from distributed==2.14.0->datacube_utilities) (2.1.0)\n",
      "Requirement already satisfied: click>=6.6 in /opt/conda/envs/cubeenv/lib/python3.6/site-packages (from distributed==2.14.0->datacube_utilities) (7.1.1)\n",
      "Requirement already satisfied: zict>=0.1.3 in /opt/conda/envs/cubeenv/lib/python3.6/site-packages (from distributed==2.14.0->datacube_utilities) (2.0.0)\n",
      "Requirement already satisfied: pyyaml in /opt/conda/envs/cubeenv/lib/python3.6/site-packages (from distributed==2.14.0->datacube_utilities) (5.3.1)\n",
      "Requirement already satisfied: branca>=0.3.0 in /opt/conda/envs/cubeenv/lib/python3.6/site-packages (from folium==0.10.1->datacube_utilities) (0.3.1)\n",
      "Requirement already satisfied: jinja2>=2.9 in /opt/conda/envs/cubeenv/lib/python3.6/site-packages (from folium==0.10.1->datacube_utilities) (2.11.1)\n",
      "Requirement already satisfied: requests in /opt/conda/envs/cubeenv/lib/python3.6/site-packages (from folium==0.10.1->datacube_utilities) (2.23.0)\n",
      "Requirement already satisfied: jmespath<1.0.0,>=0.7.1 in /opt/conda/envs/cubeenv/lib/python3.6/site-packages (from boto3==1.12.36->datacube_utilities) (0.9.5)\n",
      "Requirement already satisfied: s3transfer<0.4.0,>=0.3.0 in /opt/conda/envs/cubeenv/lib/python3.6/site-packages (from boto3==1.12.36->datacube_utilities) (0.3.3)\n",
      "Requirement already satisfied: botocore<1.16.0,>=1.15.36 in /opt/conda/envs/cubeenv/lib/python3.6/site-packages (from boto3==1.12.36->datacube_utilities) (1.15.36)\n",
      "Requirement already satisfied: pyparsing!=2.0.4,!=2.1.2,!=2.1.6,>=2.0.1 in /opt/conda/envs/cubeenv/lib/python3.6/site-packages (from matplotlib==3.2.1->datacube_utilities) (2.4.6)\n",
      "Requirement already satisfied: cycler>=0.10 in /opt/conda/envs/cubeenv/lib/python3.6/site-packages (from matplotlib==3.2.1->datacube_utilities) (0.10.0)\n",
      "Requirement already satisfied: python-dateutil>=2.1 in /opt/conda/envs/cubeenv/lib/python3.6/site-packages (from matplotlib==3.2.1->datacube_utilities) (2.8.1)\n",
      "Requirement already satisfied: kiwisolver>=1.0.1 in /opt/conda/envs/cubeenv/lib/python3.6/site-packages (from matplotlib==3.2.1->datacube_utilities) (1.2.0)\n",
      "Requirement already satisfied: networkx>=2.0 in /opt/conda/envs/cubeenv/lib/python3.6/site-packages (from scikit-image==0.16.2->datacube_utilities) (2.4)\n",
      "Requirement already satisfied: pillow>=4.3.0 in /opt/conda/envs/cubeenv/lib/python3.6/site-packages (from scikit-image==0.16.2->datacube_utilities) (7.1.1)\n",
      "Requirement already satisfied: imageio>=2.3.0 in /opt/conda/envs/cubeenv/lib/python3.6/site-packages (from scikit-image==0.16.2->datacube_utilities) (2.8.0)\n",
      "Requirement already satisfied: PyWavelets>=0.4.0 in /opt/conda/envs/cubeenv/lib/python3.6/site-packages (from scikit-image==0.16.2->datacube_utilities) (1.1.1)\n",
      "Requirement already satisfied: cachetools>=2.0.0 in /opt/conda/envs/cubeenv/lib/python3.6/site-packages (from lcmap-pyccd==2017.08.18->datacube_utilities) (3.1.1)\n",
      "Requirement already satisfied: click-plugins>=1.0.3 in /opt/conda/envs/cubeenv/lib/python3.6/site-packages (from lcmap-pyccd==2017.08.18->datacube_utilities) (1.1.1)\n",
      "Requirement already satisfied: joblib>=0.11 in /opt/conda/envs/cubeenv/lib/python3.6/site-packages (from scikit-learn==0.22.2.post1->datacube_utilities) (0.14.1)\n",
      "Requirement already satisfied: Cython>=0.23 in /opt/conda/envs/cubeenv/lib/python3.6/site-packages (from hdmedians==0.13->datacube_utilities) (0.29.16)\n",
      "Requirement already satisfied: pandas>=0.23.0 in /opt/conda/envs/cubeenv/lib/python3.6/site-packages (from geopandas==0.7.0->datacube_utilities) (1.0.1)\n",
      "Requirement already satisfied: pyproj>=2.2.0 in /opt/conda/envs/cubeenv/lib/python3.6/site-packages (from geopandas==0.7.0->datacube_utilities) (2.5.0)\n",
      "Requirement already satisfied: fiona in /opt/conda/envs/cubeenv/lib/python3.6/site-packages (from geopandas==0.7.0->datacube_utilities) (1.8.9.post2)\n",
      "Requirement already satisfied: traittypes<3,>=0.2.1 in /opt/conda/envs/cubeenv/lib/python3.6/site-packages (from ipyleaflet==0.12.3->datacube_utilities) (0.2.1)\n",
      "Requirement already satisfied: ipywidgets<8,>=7.5.0 in /opt/conda/envs/cubeenv/lib/python3.6/site-packages (from ipyleaflet==0.12.3->datacube_utilities) (7.5.1)\n",
      "Requirement already satisfied: rasterio>=1.0 in /opt/conda/envs/cubeenv/lib/python3.6/site-packages (from rasterstats==0.14.0->datacube_utilities) (1.1.3)\n",
      "Requirement already satisfied: simplejson in /opt/conda/envs/cubeenv/lib/python3.6/site-packages (from rasterstats==0.14.0->datacube_utilities) (3.17.0)\n",
      "Requirement already satisfied: affine<3.0 in /opt/conda/envs/cubeenv/lib/python3.6/site-packages (from rasterstats==0.14.0->datacube_utilities) (2.3.0)\n",
      "Requirement already satisfied: cligj>=0.4 in /opt/conda/envs/cubeenv/lib/python3.6/site-packages (from rasterstats==0.14.0->datacube_utilities) (0.5.0)\n",
      "Requirement already satisfied: lark-parser>=0.6.7 in /opt/conda/envs/cubeenv/lib/python3.6/site-packages (from datacube==1.7->datacube_utilities) (0.8.5)\n",
      "Requirement already satisfied: sqlalchemy in /opt/conda/envs/cubeenv/lib/python3.6/site-packages (from datacube==1.7->datacube_utilities) (1.3.15)\n",
      "Requirement already satisfied: pypeg2 in /opt/conda/envs/cubeenv/lib/python3.6/site-packages (from datacube==1.7->datacube_utilities) (2.15.2)\n",
      "Requirement already satisfied: netcdf4 in /opt/conda/envs/cubeenv/lib/python3.6/site-packages (from datacube==1.7->datacube_utilities) (1.5.3)\n",
      "Requirement already satisfied: singledispatch in /opt/conda/envs/cubeenv/lib/python3.6/site-packages (from datacube==1.7->datacube_utilities) (3.4.0.3)\n",
      "Requirement already satisfied: psycopg2 in /opt/conda/envs/cubeenv/lib/python3.6/site-packages (from datacube==1.7->datacube_utilities) (2.8.4)\n",
      "Requirement already satisfied: jsonschema in /opt/conda/envs/cubeenv/lib/python3.6/site-packages (from datacube==1.7->datacube_utilities) (3.2.0)\n",
      "Requirement already satisfied: heapdict in /opt/conda/envs/cubeenv/lib/python3.6/site-packages (from zict>=0.1.3->distributed==2.14.0->datacube_utilities) (1.0.1)\n",
      "Requirement already satisfied: six in /opt/conda/envs/cubeenv/lib/python3.6/site-packages (from branca>=0.3.0->folium==0.10.1->datacube_utilities) (1.14.0)\n",
      "Requirement already satisfied: MarkupSafe>=0.23 in /opt/conda/envs/cubeenv/lib/python3.6/site-packages (from jinja2>=2.9->folium==0.10.1->datacube_utilities) (1.1.1)\n",
      "Requirement already satisfied: certifi>=2017.4.17 in /opt/conda/envs/cubeenv/lib/python3.6/site-packages (from requests->folium==0.10.1->datacube_utilities) (2020.4.5.1)\n",
      "Requirement already satisfied: urllib3!=1.25.0,!=1.25.1,<1.26,>=1.21.1 in /opt/conda/envs/cubeenv/lib/python3.6/site-packages (from requests->folium==0.10.1->datacube_utilities) (1.25.7)\n",
      "Requirement already satisfied: chardet<4,>=3.0.2 in /opt/conda/envs/cubeenv/lib/python3.6/site-packages (from requests->folium==0.10.1->datacube_utilities) (3.0.4)\n",
      "Requirement already satisfied: idna<3,>=2.5 in /opt/conda/envs/cubeenv/lib/python3.6/site-packages (from requests->folium==0.10.1->datacube_utilities) (2.9)\n",
      "Requirement already satisfied: docutils<0.16,>=0.10 in /opt/conda/envs/cubeenv/lib/python3.6/site-packages (from botocore<1.16.0,>=1.15.36->boto3==1.12.36->datacube_utilities) (0.15.2)\n",
      "Requirement already satisfied: decorator>=4.3.0 in /opt/conda/envs/cubeenv/lib/python3.6/site-packages (from networkx>=2.0->scikit-image==0.16.2->datacube_utilities) (4.4.2)\n",
      "Requirement already satisfied: pytz>=2017.2 in /opt/conda/envs/cubeenv/lib/python3.6/site-packages (from pandas>=0.23.0->geopandas==0.7.0->datacube_utilities) (2019.3)\n",
      "Requirement already satisfied: attrs>=17 in /opt/conda/envs/cubeenv/lib/python3.6/site-packages (from fiona->geopandas==0.7.0->datacube_utilities) (19.3.0)\n",
      "Requirement already satisfied: munch in /opt/conda/envs/cubeenv/lib/python3.6/site-packages (from fiona->geopandas==0.7.0->datacube_utilities) (2.5.0)\n",
      "Requirement already satisfied: traitlets>=4.2.2 in /opt/conda/envs/cubeenv/lib/python3.6/site-packages (from traittypes<3,>=0.2.1->ipyleaflet==0.12.3->datacube_utilities) (4.3.3)\n",
      "Requirement already satisfied: widgetsnbextension~=3.5.0 in /opt/conda/envs/cubeenv/lib/python3.6/site-packages (from ipywidgets<8,>=7.5.0->ipyleaflet==0.12.3->datacube_utilities) (3.5.1)\n",
      "Requirement already satisfied: ipykernel>=4.5.1 in /opt/conda/envs/cubeenv/lib/python3.6/site-packages (from ipywidgets<8,>=7.5.0->ipyleaflet==0.12.3->datacube_utilities) (5.2.0)\n",
      "Requirement already satisfied: nbformat>=4.2.0 in /opt/conda/envs/cubeenv/lib/python3.6/site-packages (from ipywidgets<8,>=7.5.0->ipyleaflet==0.12.3->datacube_utilities) (5.0.4)\n",
      "Requirement already satisfied: ipython>=4.0.0; python_version >= \"3.3\" in /opt/conda/envs/cubeenv/lib/python3.6/site-packages (from ipywidgets<8,>=7.5.0->ipyleaflet==0.12.3->datacube_utilities) (7.13.0)\n",
      "Requirement already satisfied: snuggs>=1.4.1 in /opt/conda/envs/cubeenv/lib/python3.6/site-packages (from rasterio>=1.0->rasterstats==0.14.0->datacube_utilities) (1.4.7)\n",
      "Requirement already satisfied: cftime in /opt/conda/envs/cubeenv/lib/python3.6/site-packages (from netcdf4->datacube==1.7->datacube_utilities) (1.1.1.2)\n",
      "Requirement already satisfied: pyrsistent>=0.14.0 in /opt/conda/envs/cubeenv/lib/python3.6/site-packages (from jsonschema->datacube==1.7->datacube_utilities) (0.16.0)\n",
      "Requirement already satisfied: importlib-metadata; python_version < \"3.8\" in /opt/conda/envs/cubeenv/lib/python3.6/site-packages (from jsonschema->datacube==1.7->datacube_utilities) (1.6.0)\n",
      "Requirement already satisfied: ipython-genutils in /opt/conda/envs/cubeenv/lib/python3.6/site-packages (from traitlets>=4.2.2->traittypes<3,>=0.2.1->ipyleaflet==0.12.3->datacube_utilities) (0.2.0)\n",
      "Requirement already satisfied: notebook>=4.4.1 in /opt/conda/envs/cubeenv/lib/python3.6/site-packages (from widgetsnbextension~=3.5.0->ipywidgets<8,>=7.5.0->ipyleaflet==0.12.3->datacube_utilities) (6.0.3)\n",
      "Requirement already satisfied: jupyter-client in /opt/conda/envs/cubeenv/lib/python3.6/site-packages (from ipykernel>=4.5.1->ipywidgets<8,>=7.5.0->ipyleaflet==0.12.3->datacube_utilities) (6.1.2)\n",
      "Requirement already satisfied: jupyter-core in /opt/conda/envs/cubeenv/lib/python3.6/site-packages (from nbformat>=4.2.0->ipywidgets<8,>=7.5.0->ipyleaflet==0.12.3->datacube_utilities) (4.6.3)\n",
      "Requirement already satisfied: jedi>=0.10 in /opt/conda/envs/cubeenv/lib/python3.6/site-packages (from ipython>=4.0.0; python_version >= \"3.3\"->ipywidgets<8,>=7.5.0->ipyleaflet==0.12.3->datacube_utilities) (0.16.0)\n",
      "Requirement already satisfied: pexpect; sys_platform != \"win32\" in /opt/conda/envs/cubeenv/lib/python3.6/site-packages (from ipython>=4.0.0; python_version >= \"3.3\"->ipywidgets<8,>=7.5.0->ipyleaflet==0.12.3->datacube_utilities) (4.8.0)\n",
      "Requirement already satisfied: pygments in /opt/conda/envs/cubeenv/lib/python3.6/site-packages (from ipython>=4.0.0; python_version >= \"3.3\"->ipywidgets<8,>=7.5.0->ipyleaflet==0.12.3->datacube_utilities) (2.6.1)\n",
      "Requirement already satisfied: prompt-toolkit!=3.0.0,!=3.0.1,<3.1.0,>=2.0.0 in /opt/conda/envs/cubeenv/lib/python3.6/site-packages (from ipython>=4.0.0; python_version >= \"3.3\"->ipywidgets<8,>=7.5.0->ipyleaflet==0.12.3->datacube_utilities) (3.0.5)\n",
      "Requirement already satisfied: backcall in /opt/conda/envs/cubeenv/lib/python3.6/site-packages (from ipython>=4.0.0; python_version >= \"3.3\"->ipywidgets<8,>=7.5.0->ipyleaflet==0.12.3->datacube_utilities) (0.1.0)\n",
      "Requirement already satisfied: pickleshare in /opt/conda/envs/cubeenv/lib/python3.6/site-packages (from ipython>=4.0.0; python_version >= \"3.3\"->ipywidgets<8,>=7.5.0->ipyleaflet==0.12.3->datacube_utilities) (0.7.5)\n",
      "Requirement already satisfied: zipp>=0.5 in /opt/conda/envs/cubeenv/lib/python3.6/site-packages (from importlib-metadata; python_version < \"3.8\"->jsonschema->datacube==1.7->datacube_utilities) (3.1.0)\n",
      "Requirement already satisfied: nbconvert in /opt/conda/envs/cubeenv/lib/python3.6/site-packages (from notebook>=4.4.1->widgetsnbextension~=3.5.0->ipywidgets<8,>=7.5.0->ipyleaflet==0.12.3->datacube_utilities) (5.6.1)\n",
      "Requirement already satisfied: pyzmq>=17 in /opt/conda/envs/cubeenv/lib/python3.6/site-packages (from notebook>=4.4.1->widgetsnbextension~=3.5.0->ipywidgets<8,>=7.5.0->ipyleaflet==0.12.3->datacube_utilities) (19.0.0)\n",
      "Requirement already satisfied: prometheus-client in /opt/conda/envs/cubeenv/lib/python3.6/site-packages (from notebook>=4.4.1->widgetsnbextension~=3.5.0->ipywidgets<8,>=7.5.0->ipyleaflet==0.12.3->datacube_utilities) (0.7.1)\n",
      "Requirement already satisfied: Send2Trash in /opt/conda/envs/cubeenv/lib/python3.6/site-packages (from notebook>=4.4.1->widgetsnbextension~=3.5.0->ipywidgets<8,>=7.5.0->ipyleaflet==0.12.3->datacube_utilities) (1.5.0)\n",
      "Requirement already satisfied: terminado>=0.8.1 in /opt/conda/envs/cubeenv/lib/python3.6/site-packages (from notebook>=4.4.1->widgetsnbextension~=3.5.0->ipywidgets<8,>=7.5.0->ipyleaflet==0.12.3->datacube_utilities) (0.8.3)\n",
      "Requirement already satisfied: parso>=0.5.2 in /opt/conda/envs/cubeenv/lib/python3.6/site-packages (from jedi>=0.10->ipython>=4.0.0; python_version >= \"3.3\"->ipywidgets<8,>=7.5.0->ipyleaflet==0.12.3->datacube_utilities) (0.6.2)\n",
      "Requirement already satisfied: ptyprocess>=0.5 in /opt/conda/envs/cubeenv/lib/python3.6/site-packages (from pexpect; sys_platform != \"win32\"->ipython>=4.0.0; python_version >= \"3.3\"->ipywidgets<8,>=7.5.0->ipyleaflet==0.12.3->datacube_utilities) (0.6.0)\n",
      "Requirement already satisfied: wcwidth in /opt/conda/envs/cubeenv/lib/python3.6/site-packages (from prompt-toolkit!=3.0.0,!=3.0.1,<3.1.0,>=2.0.0->ipython>=4.0.0; python_version >= \"3.3\"->ipywidgets<8,>=7.5.0->ipyleaflet==0.12.3->datacube_utilities) (0.1.9)\n",
      "Requirement already satisfied: testpath in /opt/conda/envs/cubeenv/lib/python3.6/site-packages (from nbconvert->notebook>=4.4.1->widgetsnbextension~=3.5.0->ipywidgets<8,>=7.5.0->ipyleaflet==0.12.3->datacube_utilities) (0.4.4)\n",
      "Requirement already satisfied: entrypoints>=0.2.2 in /opt/conda/envs/cubeenv/lib/python3.6/site-packages (from nbconvert->notebook>=4.4.1->widgetsnbextension~=3.5.0->ipywidgets<8,>=7.5.0->ipyleaflet==0.12.3->datacube_utilities) (0.3)\n",
      "Requirement already satisfied: bleach in /opt/conda/envs/cubeenv/lib/python3.6/site-packages (from nbconvert->notebook>=4.4.1->widgetsnbextension~=3.5.0->ipywidgets<8,>=7.5.0->ipyleaflet==0.12.3->datacube_utilities) (3.1.4)\n",
      "Requirement already satisfied: pandocfilters>=1.4.1 in /opt/conda/envs/cubeenv/lib/python3.6/site-packages (from nbconvert->notebook>=4.4.1->widgetsnbextension~=3.5.0->ipywidgets<8,>=7.5.0->ipyleaflet==0.12.3->datacube_utilities) (1.4.2)\n",
      "Requirement already satisfied: mistune<2,>=0.8.1 in /opt/conda/envs/cubeenv/lib/python3.6/site-packages (from nbconvert->notebook>=4.4.1->widgetsnbextension~=3.5.0->ipywidgets<8,>=7.5.0->ipyleaflet==0.12.3->datacube_utilities) (0.8.4)\n",
      "Requirement already satisfied: defusedxml in /opt/conda/envs/cubeenv/lib/python3.6/site-packages (from nbconvert->notebook>=4.4.1->widgetsnbextension~=3.5.0->ipywidgets<8,>=7.5.0->ipyleaflet==0.12.3->datacube_utilities) (0.6.0)\n",
      "Requirement already satisfied: webencodings in /opt/conda/envs/cubeenv/lib/python3.6/site-packages (from bleach->nbconvert->notebook>=4.4.1->widgetsnbextension~=3.5.0->ipywidgets<8,>=7.5.0->ipyleaflet==0.12.3->datacube_utilities) (0.5.1)\n"
     ]
    }
   ],
   "source": [
    "!pip install git+https://github.com/SatelliteApplicationsCatapult/datacube-utilities.git#egg=datacube_utilities"
   ]
  },
  {
   "cell_type": "code",
   "execution_count": 5,
   "metadata": {},
   "outputs": [],
   "source": [
    "dc = datacube.Datacube(app = 'land_degredation')#, config = '/home/localuser/.datacube.conf')\n",
    "\n",
    "from matplotlib.cm import RdYlGn, Greens\n",
    "from odc.algo import to_f32, from_float, xr_geomedian\n",
    "from datacube_utilities.dc_load import get_product_extents\n",
    "from datacube_utilities.dc_time import dt_to_str\n",
    "from datacube_utilities.dc_display_map import display_map\n",
    "from datacube_utilities.dc_mosaic import create_max_ndvi_mosaic, create_median_mosaic, create_mosaic\n",
    "from datacube_utilities.dc_rgb import rgb\n",
    "from datacube_utilities.createAOI import create_lat_lon\n",
    "from datacube_utilities.dc_water_classifier import wofs_classify\n",
    "from datacube_utilities.createindices import NDVI\n",
    "from datacube_utilities.fromDCALscripts import threshold_plot\n",
    "from datacube_utilities.dc_utilities import write_geotiff_from_xr\n",
    "from datacube_utilities.clean_mask import landsat_qa_clean_mask\n",
    "from datacube_utilities.dc_fractional_coverage_classifier import frac_coverage_classify \n",
    "from datacube_utilities.dc_utilities import write_geotiff_from_xr\n",
    "from datacube_utilities.import_export import export_xarray_to_multiple_geotiffs\n"
   ]
  },
  {
   "cell_type": "code",
   "execution_count": 6,
   "metadata": {},
   "outputs": [],
   "source": [
    "###Load in image\n",
    "#inputs\n",
    "#options \"LANDSAT_8\", \"LANDSAT_7\", \"LANDSAT_5\", \"LANDSAT_4\" and \"SENTINEL_2\"\n",
    "platform_base = \"SENTINEL_2\"\n",
    "#For Fiji this should be the only option - may change for Solomon and Vanuatu\n",
    "output_projection = \"EPSG:3460\"\n",
    "crs = \"EPSG:3460\"\n",
    "res = (10)\n",
    "\n",
    "# Select the start and end periods for your analysis products\n",
    "# The datetime function is (Year,Month,Day)\n",
    "# These time windows will be used to make a mosaic, so typically pick a year length or more\n",
    "# Be sure to evaluate the RGB mosaics to affirm they are not full of clouds\n",
    "\n",
    "#set baseline start and end of period\n",
    "baseline_start_date = '2018-1-1'\n",
    "baseline_end_date = '2019-12-30'\n",
    "#nadi\n",
    "aoi_wkt = \"POLYGON((177.384445215936 -17.725841212511558,177.53619387316257 -17.725841212511558,177.53619387316257 -17.8278433805643,177.384445215936 -17.8278433805643,177.384445215936 -17.725841212511558))\"\n",
    "\n",
    "#suva\n",
    "#aoi_wkt = \"POLYGON((178.39699689321165 -18.061332095979633,178.55080548696165 -18.061332095979633,178.55080548696165 -18.18467000208122,178.39699689321165 -18.18467000208122,178.39699689321165 -18.061332095979633))\""
   ]
  },
  {
   "cell_type": "code",
   "execution_count": 7,
   "metadata": {},
   "outputs": [],
   "source": [
    "lat_extents, lon_extents = create_lat_lon(aoi_wkt)"
   ]
  },
  {
   "cell_type": "code",
   "execution_count": 8,
   "metadata": {},
   "outputs": [
    {
     "data": {
      "text/html": [
       "<div style=\"width:100%;\"><div style=\"position:relative;width:100%;height:0;padding-bottom:60%;\"><iframe src=\"data:text/html;charset=utf-8;base64,PCFET0NUWVBFIGh0bWw+CjxoZWFkPiAgICAKICAgIDxtZXRhIGh0dHAtZXF1aXY9ImNvbnRlbnQtdHlwZSIgY29udGVudD0idGV4dC9odG1sOyBjaGFyc2V0PVVURi04IiAvPgogICAgCiAgICAgICAgPHNjcmlwdD4KICAgICAgICAgICAgTF9OT19UT1VDSCA9IGZhbHNlOwogICAgICAgICAgICBMX0RJU0FCTEVfM0QgPSBmYWxzZTsKICAgICAgICA8L3NjcmlwdD4KICAgIAogICAgPHNjcmlwdCBzcmM9Imh0dHBzOi8vY2RuLmpzZGVsaXZyLm5ldC9ucG0vbGVhZmxldEAxLjUuMS9kaXN0L2xlYWZsZXQuanMiPjwvc2NyaXB0PgogICAgPHNjcmlwdCBzcmM9Imh0dHBzOi8vY29kZS5qcXVlcnkuY29tL2pxdWVyeS0xLjEyLjQubWluLmpzIj48L3NjcmlwdD4KICAgIDxzY3JpcHQgc3JjPSJodHRwczovL21heGNkbi5ib290c3RyYXBjZG4uY29tL2Jvb3RzdHJhcC8zLjIuMC9qcy9ib290c3RyYXAubWluLmpzIj48L3NjcmlwdD4KICAgIDxzY3JpcHQgc3JjPSJodHRwczovL2NkbmpzLmNsb3VkZmxhcmUuY29tL2FqYXgvbGlicy9MZWFmbGV0LmF3ZXNvbWUtbWFya2Vycy8yLjAuMi9sZWFmbGV0LmF3ZXNvbWUtbWFya2Vycy5qcyI+PC9zY3JpcHQ+CiAgICA8bGluayByZWw9InN0eWxlc2hlZXQiIGhyZWY9Imh0dHBzOi8vY2RuLmpzZGVsaXZyLm5ldC9ucG0vbGVhZmxldEAxLjUuMS9kaXN0L2xlYWZsZXQuY3NzIi8+CiAgICA8bGluayByZWw9InN0eWxlc2hlZXQiIGhyZWY9Imh0dHBzOi8vbWF4Y2RuLmJvb3RzdHJhcGNkbi5jb20vYm9vdHN0cmFwLzMuMi4wL2Nzcy9ib290c3RyYXAubWluLmNzcyIvPgogICAgPGxpbmsgcmVsPSJzdHlsZXNoZWV0IiBocmVmPSJodHRwczovL21heGNkbi5ib290c3RyYXBjZG4uY29tL2Jvb3RzdHJhcC8zLjIuMC9jc3MvYm9vdHN0cmFwLXRoZW1lLm1pbi5jc3MiLz4KICAgIDxsaW5rIHJlbD0ic3R5bGVzaGVldCIgaHJlZj0iaHR0cHM6Ly9tYXhjZG4uYm9vdHN0cmFwY2RuLmNvbS9mb250LWF3ZXNvbWUvNC42LjMvY3NzL2ZvbnQtYXdlc29tZS5taW4uY3NzIi8+CiAgICA8bGluayByZWw9InN0eWxlc2hlZXQiIGhyZWY9Imh0dHBzOi8vY2RuanMuY2xvdWRmbGFyZS5jb20vYWpheC9saWJzL0xlYWZsZXQuYXdlc29tZS1tYXJrZXJzLzIuMC4yL2xlYWZsZXQuYXdlc29tZS1tYXJrZXJzLmNzcyIvPgogICAgPGxpbmsgcmVsPSJzdHlsZXNoZWV0IiBocmVmPSJodHRwczovL3Jhd2Nkbi5naXRoYWNrLmNvbS9weXRob24tdmlzdWFsaXphdGlvbi9mb2xpdW0vbWFzdGVyL2ZvbGl1bS90ZW1wbGF0ZXMvbGVhZmxldC5hd2Vzb21lLnJvdGF0ZS5jc3MiLz4KICAgIDxzdHlsZT5odG1sLCBib2R5IHt3aWR0aDogMTAwJTtoZWlnaHQ6IDEwMCU7bWFyZ2luOiAwO3BhZGRpbmc6IDA7fTwvc3R5bGU+CiAgICA8c3R5bGU+I21hcCB7cG9zaXRpb246YWJzb2x1dGU7dG9wOjA7Ym90dG9tOjA7cmlnaHQ6MDtsZWZ0OjA7fTwvc3R5bGU+CiAgICAKICAgICAgICAgICAgPG1ldGEgbmFtZT0idmlld3BvcnQiIGNvbnRlbnQ9IndpZHRoPWRldmljZS13aWR0aCwKICAgICAgICAgICAgICAgIGluaXRpYWwtc2NhbGU9MS4wLCBtYXhpbXVtLXNjYWxlPTEuMCwgdXNlci1zY2FsYWJsZT1ubyIgLz4KICAgICAgICAgICAgPHN0eWxlPgogICAgICAgICAgICAgICAgI21hcF9hNTEwMWQxZDBhNWM0ODhiYjcxMTc4ZDUyYTQ1NGJiYyB7CiAgICAgICAgICAgICAgICAgICAgcG9zaXRpb246IHJlbGF0aXZlOwogICAgICAgICAgICAgICAgICAgIHdpZHRoOiAxMDAuMCU7CiAgICAgICAgICAgICAgICAgICAgaGVpZ2h0OiAxMDAuMCU7CiAgICAgICAgICAgICAgICAgICAgbGVmdDogMC4wJTsKICAgICAgICAgICAgICAgICAgICB0b3A6IDAuMCU7CiAgICAgICAgICAgICAgICB9CiAgICAgICAgICAgIDwvc3R5bGU+CiAgICAgICAgCjwvaGVhZD4KPGJvZHk+ICAgIAogICAgCiAgICAgICAgICAgIDxkaXYgY2xhc3M9ImZvbGl1bS1tYXAiIGlkPSJtYXBfYTUxMDFkMWQwYTVjNDg4YmI3MTE3OGQ1MmE0NTRiYmMiID48L2Rpdj4KICAgICAgICAKPC9ib2R5Pgo8c2NyaXB0PiAgICAKICAgIAogICAgICAgICAgICB2YXIgbWFwX2E1MTAxZDFkMGE1YzQ4OGJiNzExNzhkNTJhNDU0YmJjID0gTC5tYXAoCiAgICAgICAgICAgICAgICAibWFwX2E1MTAxZDFkMGE1YzQ4OGJiNzExNzhkNTJhNDU0YmJjIiwKICAgICAgICAgICAgICAgIHsKICAgICAgICAgICAgICAgICAgICBjZW50ZXI6IFstMTcuNzc2ODQyMjk2NTM3OTMsIDE3Ny40NjAzMTk1NDQ1NDkzXSwKICAgICAgICAgICAgICAgICAgICBjcnM6IEwuQ1JTLkVQU0czODU3LAogICAgICAgICAgICAgICAgICAgIHpvb206IDEyLAogICAgICAgICAgICAgICAgICAgIHpvb21Db250cm9sOiB0cnVlLAogICAgICAgICAgICAgICAgICAgIHByZWZlckNhbnZhczogZmFsc2UsCiAgICAgICAgICAgICAgICB9CiAgICAgICAgICAgICk7CgogICAgICAgICAgICAKCiAgICAgICAgCiAgICAKICAgICAgICAgICAgdmFyIHRpbGVfbGF5ZXJfYmRlN2JkYTQ2N2FiNGU2ZGE4MGI5OTNmMjczMGIxYTEgPSBMLnRpbGVMYXllcigKICAgICAgICAgICAgICAgICIgaHR0cDovL210MS5nb29nbGUuY29tL3Z0L2x5cnM9eVx1MDAyNno9e3p9XHUwMDI2eD17eH1cdTAwMjZ5PXt5fSIsCiAgICAgICAgICAgICAgICB7ImF0dHJpYnV0aW9uIjogIkdvb2dsZSIsICJkZXRlY3RSZXRpbmEiOiBmYWxzZSwgIm1heE5hdGl2ZVpvb20iOiAxOCwgIm1heFpvb20iOiAxOCwgIm1pblpvb20iOiAwLCAibm9XcmFwIjogZmFsc2UsICJvcGFjaXR5IjogMSwgInN1YmRvbWFpbnMiOiAiYWJjIiwgInRtcyI6IGZhbHNlfQogICAgICAgICAgICApLmFkZFRvKG1hcF9hNTEwMWQxZDBhNWM0ODhiYjcxMTc4ZDUyYTQ1NGJiYyk7CiAgICAgICAgCiAgICAKICAgICAgICAgICAgdmFyIHBvbHlfbGluZV8zYjQyMjNkMjg3ZWE0NzUzOGRkZGE4YWZlNWVjMDZkYiA9IEwucG9seWxpbmUoCiAgICAgICAgICAgICAgICBbWy0xNy44Mjc4NDMzODA1NjQzLCAxNzcuMzg0NDQ1MjE1OTM2XSwgWy0xNy44Mjc4NDMzODA1NjQzLCAxNzcuNTM2MTkzODczMTYyNTddLCBbLTE3LjcyNTg0MTIxMjUxMTU1OCwgMTc3LjUzNjE5Mzg3MzE2MjU3XSwgWy0xNy43MjU4NDEyMTI1MTE1NTgsIDE3Ny4zODQ0NDUyMTU5MzZdLCBbLTE3LjgyNzg0MzM4MDU2NDMsIDE3Ny4zODQ0NDUyMTU5MzZdXSwKICAgICAgICAgICAgICAgIHsiYnViYmxpbmdNb3VzZUV2ZW50cyI6IHRydWUsICJjb2xvciI6ICJyZWQiLCAiZGFzaEFycmF5IjogbnVsbCwgImRhc2hPZmZzZXQiOiBudWxsLCAiZmlsbCI6IGZhbHNlLCAiZmlsbENvbG9yIjogInJlZCIsICJmaWxsT3BhY2l0eSI6IDAuMiwgImZpbGxSdWxlIjogImV2ZW5vZGQiLCAibGluZUNhcCI6ICJyb3VuZCIsICJsaW5lSm9pbiI6ICJyb3VuZCIsICJub0NsaXAiOiBmYWxzZSwgIm9wYWNpdHkiOiAwLjgsICJzbW9vdGhGYWN0b3IiOiAxLjAsICJzdHJva2UiOiB0cnVlLCAid2VpZ2h0IjogM30KICAgICAgICAgICAgKS5hZGRUbyhtYXBfYTUxMDFkMWQwYTVjNDg4YmI3MTE3OGQ1MmE0NTRiYmMpOwogICAgICAgIAogICAgCiAgICAgICAgICAgICAgICB2YXIgbGF0X2xuZ19wb3B1cF9iZDg4MDlhMjQzMTc0NjBjOTQ3MWVkYTdkNWM5MzJlYSA9IEwucG9wdXAoKTsKICAgICAgICAgICAgICAgIGZ1bmN0aW9uIGxhdExuZ1BvcChlKSB7CiAgICAgICAgICAgICAgICAgICAgbGF0X2xuZ19wb3B1cF9iZDg4MDlhMjQzMTc0NjBjOTQ3MWVkYTdkNWM5MzJlYQogICAgICAgICAgICAgICAgICAgICAgICAuc2V0TGF0TG5nKGUubGF0bG5nKQogICAgICAgICAgICAgICAgICAgICAgICAuc2V0Q29udGVudCgiTGF0aXR1ZGU6ICIgKyBlLmxhdGxuZy5sYXQudG9GaXhlZCg0KSArCiAgICAgICAgICAgICAgICAgICAgICAgICAgICAgICAgICAgICI8YnI+TG9uZ2l0dWRlOiAiICsgZS5sYXRsbmcubG5nLnRvRml4ZWQoNCkpCiAgICAgICAgICAgICAgICAgICAgICAgIC5vcGVuT24obWFwX2E1MTAxZDFkMGE1YzQ4OGJiNzExNzhkNTJhNDU0YmJjKTsKICAgICAgICAgICAgICAgICAgICB9CiAgICAgICAgICAgICAgICBtYXBfYTUxMDFkMWQwYTVjNDg4YmI3MTE3OGQ1MmE0NTRiYmMub24oJ2NsaWNrJywgbGF0TG5nUG9wKTsKICAgICAgICAgICAgCjwvc2NyaXB0Pg==\" style=\"position:absolute;width:100%;height:100%;left:0;top:0;border:none !important;\" allowfullscreen webkitallowfullscreen mozallowfullscreen></iframe></div></div>"
      ],
      "text/plain": [
       "<folium.folium.Map at 0x7f697dc51c88>"
      ]
     },
     "execution_count": 8,
     "metadata": {},
     "output_type": "execute_result"
    }
   ],
   "source": [
    "## The code below renders a map that can be used to orient yourself with the region.\n",
    "display_map(latitude = lat_extents, longitude = lon_extents)"
   ]
  },
  {
   "cell_type": "code",
   "execution_count": 9,
   "metadata": {},
   "outputs": [
    {
     "name": "stdout",
     "output_type": "stream",
     "text": [
      "(3907860.7267941996, 3919261.380868996)\n",
      "(1855235.5250584628, 1871249.8610571926)\n"
     ]
    }
   ],
   "source": [
    "from pyproj import Proj, transform\n",
    "inProj  = Proj(\"+init=EPSG:4326\")\n",
    "outProj = Proj(\"+init=EPSG:3460\")\n",
    "min_lat, max_lat = (lat_extents) \n",
    "min_lon, max_lon = (lon_extents)\n",
    "x_A, y_A = transform(inProj, outProj, min_lon, min_lat)\n",
    "x_B, y_B = transform(inProj, outProj, max_lon, max_lat)\n",
    "lat_range = (y_A, y_B)\n",
    "lon_range = (x_A, x_B)\n",
    "print(lat_range)\n",
    "print(lon_range)"
   ]
  },
  {
   "cell_type": "code",
   "execution_count": 10,
   "metadata": {},
   "outputs": [],
   "source": [
    "allmeasurements = [\"green\",\"red\", \"blue\", \"nir\",\"swir1\",\"swir2\"]\n",
    "#water_measurements = [\"water_classification\"]\n",
    "def create_product_measurement(platform):\n",
    "    if platform  in [\"SENTINEL_2\"]:\n",
    "        product = 's2_geomedian_annual'\n",
    "        measurements = allmeasurements\n",
    "        ###CHANGE WHEN S2 WOFS READY\n",
    "        #water_product = 'SENTINEL_2_PRODUCT DEFS'\n",
    "    elif platform in [\"LANDSAT_8\"]:    \n",
    "        measurements = allmeasurements\n",
    "        product = 'ls8_geomedian_annual'\n",
    "        #water_product = 'ls8_water_classification'\n",
    "    elif platform in [\"LANDSAT_7\"]:    \n",
    "        measurements = allmeasurements\n",
    "        product = 'ls7_geomedian_annual'\n",
    "        #water_product = 'ls7_water_classification'\n",
    "    elif platform in [\"LANDSAT_5\"]:    \n",
    "        measurements = allmeasurements + [\"pixel_qa\"]\n",
    "        product = 'ls5_usgs_sr_scene'\n",
    "        water_product = 'ls5_water_classification'\n",
    "    elif platform in [\"LANDSAT_4\"]:    \n",
    "        measurements = allmeasurements + [\"pixel_qa\"]\n",
    "        product = 'ls4_usgs_sr_scene'\n",
    "        water_product = 'ls4_water_classification'\n",
    "    else:\n",
    "        print(\"invalid platform\")\n",
    "    return product, measurements"
   ]
  },
  {
   "cell_type": "code",
   "execution_count": 11,
   "metadata": {},
   "outputs": [],
   "source": [
    "baseline_product, measurement = create_product_measurement(platform_base)"
   ]
  },
  {
   "cell_type": "code",
   "execution_count": 12,
   "metadata": {},
   "outputs": [],
   "source": [
    "#create resolution\n",
    "resolution = (-res, res)"
   ]
  },
  {
   "cell_type": "code",
   "execution_count": 13,
   "metadata": {},
   "outputs": [],
   "source": [
    "dask_chunks = dict(\n",
    "    x = 1000,\n",
    "    y = 1000\n",
    ")"
   ]
  },
  {
   "cell_type": "code",
   "execution_count": 14,
   "metadata": {},
   "outputs": [],
   "source": [
    "#format dates\n",
    "def createDate(inputStart, inputEnd):\n",
    "    start = datetime.strptime(inputStart, '%Y-%m-%d')\n",
    "    end = datetime.strptime(inputEnd, '%Y-%m-%d')\n",
    "    startDates = start.date()\n",
    "    endDates = end.date()\n",
    "    time_period = (startDates, endDates)\n",
    "    return time_period\n",
    "\n",
    "baseline_time_period = createDate(baseline_start_date, baseline_end_date)"
   ]
  },
  {
   "cell_type": "code",
   "execution_count": 15,
   "metadata": {},
   "outputs": [],
   "source": [
    "# Create the 'query' dictionary object, which contains the longitudes, latitudes \n",
    "query = {\n",
    "    'y': lat_range,\n",
    "    'x': lon_range,\n",
    "    'output_crs': output_projection,\n",
    "    'measurements': measurement,\n",
    "    'resolution': resolution,\n",
    "    'dask_chunks': dask_chunks\n",
    "}\n"
   ]
  },
  {
   "cell_type": "code",
   "execution_count": 16,
   "metadata": {},
   "outputs": [],
   "source": [
    "baseline_ds = dc.load(\n",
    "    time = baseline_time_period,\n",
    "    product = baseline_product,\n",
    "    platform = platform_base,\n",
    "    crs = crs,\n",
    "    **query\n",
    ")\n"
   ]
  },
  {
   "cell_type": "code",
   "execution_count": 17,
   "metadata": {},
   "outputs": [
    {
     "name": "stdout",
     "output_type": "stream",
     "text": [
      "<xarray.Dataset>\n",
      "Dimensions:  (time: 2, x: 1602, y: 1141)\n",
      "Coordinates:\n",
      "  * time     (time) datetime64[ns] 2018-07-02 2019-07-02\n",
      "  * y        (y) float64 3.919e+06 3.919e+06 3.919e+06 ... 3.908e+06 3.908e+06\n",
      "  * x        (x) float64 1.855e+06 1.855e+06 1.855e+06 ... 1.871e+06 1.871e+06\n",
      "Data variables:\n",
      "    green    (time, y, x) int16 dask.array<chunksize=(1, 1000, 1000), meta=np.ndarray>\n",
      "    red      (time, y, x) int16 dask.array<chunksize=(1, 1000, 1000), meta=np.ndarray>\n",
      "    blue     (time, y, x) int16 dask.array<chunksize=(1, 1000, 1000), meta=np.ndarray>\n",
      "    nir      (time, y, x) int16 dask.array<chunksize=(1, 1000, 1000), meta=np.ndarray>\n",
      "    swir1    (time, y, x) int16 dask.array<chunksize=(1, 1000, 1000), meta=np.ndarray>\n",
      "    swir2    (time, y, x) int16 dask.array<chunksize=(1, 1000, 1000), meta=np.ndarray>\n",
      "Attributes:\n",
      "    crs:      EPSG:3460\n"
     ]
    }
   ],
   "source": [
    "print(baseline_ds)"
   ]
  },
  {
   "cell_type": "code",
   "execution_count": 18,
   "metadata": {},
   "outputs": [],
   "source": [
    "img_ds = baseline_ds.compute()"
   ]
  },
  {
   "cell_type": "code",
   "execution_count": 19,
   "metadata": {},
   "outputs": [],
   "source": [
    "#NDBI\n",
    "def NDBI(dataset):\n",
    "    return (dataset.swir1 - dataset.nir)/(dataset.swir1 + dataset.nir)\n",
    "img_ds['ndbi'] = NDBI(img_ds)"
   ]
  },
  {
   "cell_type": "code",
   "execution_count": 20,
   "metadata": {},
   "outputs": [],
   "source": [
    "#NDVI\n",
    "from datacube_utilities.createindices import NDVI\n",
    "img_ds['ndvi'] = NDVI(img_ds)"
   ]
  },
  {
   "cell_type": "code",
   "execution_count": 21,
   "metadata": {},
   "outputs": [],
   "source": [
    "#MNDWI\n",
    "def MNDWI(dataset):\n",
    "    return (dataset.green - dataset.swir2)/(dataset.green + dataset.swir2)\n",
    "img_ds['mndwi'] = MNDWI(img_ds)"
   ]
  },
  {
   "cell_type": "code",
   "execution_count": 22,
   "metadata": {},
   "outputs": [],
   "source": [
    "#BU\n",
    "img_ds['bu'] = img_ds['ndbi'] - img_ds['ndvi']"
   ]
  },
  {
   "cell_type": "code",
   "execution_count": 23,
   "metadata": {},
   "outputs": [],
   "source": [
    "#print(img_ds)"
   ]
  },
  {
   "cell_type": "code",
   "execution_count": 86,
   "metadata": {},
   "outputs": [],
   "source": [
    "T1_img = img_ds.isel(time = 0)"
   ]
  },
  {
   "cell_type": "code",
   "execution_count": 112,
   "metadata": {},
   "outputs": [
    {
     "name": "stdout",
     "output_type": "stream",
     "text": [
      "2\n"
     ]
    }
   ],
   "source": [
    "print(len(img_ds.time))"
   ]
  },
  {
   "cell_type": "code",
   "execution_count": 129,
   "metadata": {},
   "outputs": [
    {
     "name": "stdout",
     "output_type": "stream",
     "text": [
      "0\n",
      "2018_01_01\n",
      "n\n",
      "1\n",
      "2019_01_01\n",
      "<xarray.Dataset>\n",
      "Dimensions:           (x: 1602, y: 1141)\n",
      "Coordinates:\n",
      "  * y                 (y) float64 3.919e+06 3.919e+06 ... 3.908e+06 3.908e+06\n",
      "  * x                 (x) float64 1.855e+06 1.855e+06 ... 1.871e+06 1.871e+06\n",
      "Data variables:\n",
      "    blue_2018_01_01   (y, x) float64 434.0 435.0 430.0 ... 189.0 202.0 190.0\n",
      "    blue_2019_01_01   (y, x) float64 521.0 512.0 497.0 ... 223.0 231.0 233.0\n",
      "    bu_2018_01_01     (y, x) float64 0.04182 0.01844 0.02321 ... -1.383 -1.367\n",
      "    bu_2019_01_01     (y, x) float64 0.09478 0.08243 0.09474 ... -1.334 -1.311\n",
      "    green_2018_01_01  (y, x) float64 345.0 344.0 341.0 ... 385.0 423.0 373.0\n",
      "    green_2019_01_01  (y, x) float64 431.0 420.0 410.0 ... 440.0 436.0 405.0\n",
      "    mndwi_2018_01_01  (y, x) float64 0.5611 0.5708 0.5714 ... -0.1151 -0.1729\n",
      "    mndwi_2019_01_01  (y, x) float64 0.3994 0.4094 0.4336 ... -0.1615 -0.194\n",
      "    ndbi2018_01_01    (y, x) float64 -0.08621 -0.1004 ... -0.4749 -0.4637\n",
      "    ndbi2019_01_01    (y, x) float64 0.005155 -0.005376 0.0 ... -0.4364 -0.423\n",
      "    ndvi_2018_01_01   (y, x) float64 -0.128 -0.1189 -0.1214 ... 0.908 0.9033\n",
      "    ndvi_2019_01_01   (y, x) float64 -0.08962 -0.0878 -0.09474 ... 0.8972 0.8884\n",
      "    nir_2018_01_01    (y, x) float64 126.0 126.0 123.0 ... 3.671e+03 3.543e+03\n",
      "    nir_2019_01_01    (y, x) float64 193.0 187.0 172.0 ... 3.634e+03 3.487e+03\n",
      "    red_2018_01_01    (y, x) float64 163.0 160.0 157.0 ... 169.0 177.0 180.0\n",
      "    red_2019_01_01    (y, x) float64 231.0 223.0 208.0 ... 195.0 197.0 206.0\n",
      "    swir1_2018_01_01  (y, x) float64 106.0 103.0 101.0 ... 1.307e+03 1.298e+03\n",
      "    swir1_2019_01_01  (y, x) float64 195.0 185.0 172.0 ... 1.426e+03 1.414e+03\n",
      "    swir2_2018_01_01  (y, x) float64 97.0 94.0 93.0 93.0 ... 518.0 533.0 529.0\n",
      "    swir2_2019_01_01  (y, x) float64 185.0 176.0 162.0 ... 575.0 604.0 600.0\n",
      "Attributes:\n",
      "    crs:      EPSG:3460\n"
     ]
    }
   ],
   "source": [
    "for i in range (len(img_ds.time)):\n",
    "    print(i)\n",
    "    ab = img_ds.isel(time = i)\n",
    "    #access datetime as string\n",
    "    time1 = ab.time.dt.year\n",
    "    time2= pd.to_datetime(str(time1.values))\n",
    "    t = time2.strftime('%Y_%m_%d')\n",
    "    print(t)\n",
    "    testDic = {'green': 'green_'+ t, 'red': 'red_'+ t, 'blue': 'blue_' + t, 'nir': 'nir_' + t, 'swir1': 'swir1_' + t, 'swir2': 'swir2_' + t, 'ndbi': 'ndbi' + t, 'ndvi': 'ndvi_' + t, 'mndwi': 'mndwi_' + t, 'bu': 'bu_' + t}\n",
    "    rn = xr.Dataset.rename_vars(ab, testDic)\n",
    "    rn_D = xr.Dataset.to_array(rn)\n",
    "    #print(rn_D)\n",
    "    new_ds = xr.DataArray.drop(rn_D, 'time')\n",
    "    if i == 0:\n",
    "        print('n')\n",
    "        xy = new_ds\n",
    "    else:\n",
    "        xy = xy.combine_first(new_ds)\n",
    "    #print(xy)\n",
    "    #print('end')\n",
    "#print(xy)\n",
    "xds = xr.DataArray.to_dataset(xy, dim = 'variable')\n",
    "print(xds)"
   ]
  },
  {
   "cell_type": "code",
   "execution_count": 87,
   "metadata": {},
   "outputs": [
    {
     "name": "stdout",
     "output_type": "stream",
     "text": [
      "<xarray.Dataset>\n",
      "Dimensions:  (x: 1602, y: 1141)\n",
      "Coordinates:\n",
      "    time     datetime64[ns] 2018-07-02\n",
      "  * y        (y) float64 3.919e+06 3.919e+06 3.919e+06 ... 3.908e+06 3.908e+06\n",
      "  * x        (x) float64 1.855e+06 1.855e+06 1.855e+06 ... 1.871e+06 1.871e+06\n",
      "Data variables:\n",
      "    green    (y, x) int16 345 344 341 341 340 342 ... 356 379 339 385 423 373\n",
      "    red      (y, x) int16 163 160 157 161 154 157 ... 171 172 160 169 177 180\n",
      "    blue     (y, x) int16 434 435 430 433 427 431 ... 173 188 177 189 202 190\n",
      "    nir      (y, x) int16 126 126 123 121 116 120 ... 3452 2932 3228 3671 3543\n",
      "    swir1    (y, x) int16 106 103 101 101 92 97 ... 1551 1266 1272 1307 1298\n",
      "    swir2    (y, x) int16 97 94 93 93 85 88 85 ... 859 649 648 519 518 533 529\n",
      "    ndbi     (y, x) float64 -0.08621 -0.1004 -0.09821 ... -0.4749 -0.4637\n",
      "    ndvi     (y, x) float64 -0.128 -0.1189 -0.1214 ... 0.9005 0.908 0.9033\n",
      "    mndwi    (y, x) float64 0.5611 0.5708 0.5714 ... -0.1473 -0.1151 -0.1729\n",
      "    bu       (y, x) float64 0.04182 0.01844 0.02321 ... -1.335 -1.383 -1.367\n",
      "Attributes:\n",
      "    crs:      EPSG:3460\n"
     ]
    }
   ],
   "source": [
    "print(T1_img)"
   ]
  },
  {
   "cell_type": "code",
   "execution_count": 88,
   "metadata": {},
   "outputs": [],
   "source": [
    "T2_img = img_ds.isel(time = 1)"
   ]
  },
  {
   "cell_type": "code",
   "execution_count": 106,
   "metadata": {},
   "outputs": [
    {
     "name": "stdout",
     "output_type": "stream",
     "text": [
      "2018_01_01\n"
     ]
    }
   ],
   "source": []
  },
  {
   "cell_type": "code",
   "execution_count": 108,
   "metadata": {},
   "outputs": [],
   "source": [
    "testDic = {'green': 'green_'+ t, 'red': 'red_'+ t, 'blue': 'blue_' + t, 'nir': 'nir_' + t, 'swir1': 'swir1_' + t, 'swir2': 'swir2_' + t, 'ndbi': 'ndbi' + t, 'ndvi': 'ndvi_' + t, 'mndwi': 'mndwi_' + t, 'bu': 'bu_' + t}"
   ]
  },
  {
   "cell_type": "code",
   "execution_count": 109,
   "metadata": {},
   "outputs": [],
   "source": [
    "testDic2 = {'green': 'green_2019', 'red': 'red_2019', 'blue': 'blue_2019', 'nir': 'nir_2019', 'swir1': 'swir1_2019', 'swir2': 'swir2_2019', 'ndbi': 'ndbi_2019', 'ndvi': 'ndvi_2019', 'mndwi': 'mndwi_2019', 'bu': 'bu_2019'}"
   ]
  },
  {
   "cell_type": "code",
   "execution_count": 110,
   "metadata": {},
   "outputs": [
    {
     "name": "stdout",
     "output_type": "stream",
     "text": [
      "<xarray.Dataset>\n",
      "Dimensions:           (x: 1602, y: 1141)\n",
      "Coordinates:\n",
      "    time              datetime64[ns] 2018-07-02\n",
      "  * y                 (y) float64 3.919e+06 3.919e+06 ... 3.908e+06 3.908e+06\n",
      "  * x                 (x) float64 1.855e+06 1.855e+06 ... 1.871e+06 1.871e+06\n",
      "Data variables:\n",
      "    green_2018_01_01  (y, x) int16 345 344 341 341 340 ... 379 339 385 423 373\n",
      "    red_2018_01_01    (y, x) int16 163 160 157 161 154 ... 172 160 169 177 180\n",
      "    blue_2018_01_01   (y, x) int16 434 435 430 433 427 ... 188 177 189 202 190\n",
      "    nir_2018_01_01    (y, x) int16 126 126 123 121 116 ... 2932 3228 3671 3543\n",
      "    swir1_2018_01_01  (y, x) int16 106 103 101 101 92 ... 1266 1272 1307 1298\n",
      "    swir2_2018_01_01  (y, x) int16 97 94 93 93 85 88 ... 649 648 519 518 533 529\n",
      "    ndbi2018_01_01    (y, x) float64 -0.08621 -0.1004 ... -0.4749 -0.4637\n",
      "    ndvi_2018_01_01   (y, x) float64 -0.128 -0.1189 -0.1214 ... 0.908 0.9033\n",
      "    mndwi_2018_01_01  (y, x) float64 0.5611 0.5708 0.5714 ... -0.1151 -0.1729\n",
      "    bu_2018_01_01     (y, x) float64 0.04182 0.01844 0.02321 ... -1.383 -1.367\n",
      "Attributes:\n",
      "    crs:      EPSG:3460\n",
      "<xarray.DataArray (variable: 10, y: 1141, x: 1602)>\n",
      "array([[[ 3.45000000e+02,  3.44000000e+02,  3.41000000e+02, ...,\n",
      "          7.53000000e+02,  7.72000000e+02,  7.39000000e+02],\n",
      "        [ 3.49000000e+02,  3.38000000e+02,  3.36000000e+02, ...,\n",
      "          7.86000000e+02,  7.74000000e+02,  7.53000000e+02],\n",
      "        [ 3.48000000e+02,  3.51000000e+02,  3.40000000e+02, ...,\n",
      "          8.14000000e+02,  7.92000000e+02,  7.82000000e+02],\n",
      "        ...,\n",
      "        [ 4.91000000e+02,  5.15000000e+02,  6.59000000e+02, ...,\n",
      "          3.72000000e+02,  3.31000000e+02,  3.53000000e+02],\n",
      "        [ 5.27000000e+02,  6.58000000e+02,  7.23000000e+02, ...,\n",
      "          4.02000000e+02,  3.59000000e+02,  3.38000000e+02],\n",
      "        [ 6.21000000e+02,  7.70000000e+02,  8.21000000e+02, ...,\n",
      "          3.85000000e+02,  4.23000000e+02,  3.73000000e+02]],\n",
      "\n",
      "       [[ 1.63000000e+02,  1.60000000e+02,  1.57000000e+02, ...,\n",
      "          4.69000000e+02,  4.96000000e+02,  4.73000000e+02],\n",
      "        [ 1.61000000e+02,  1.56000000e+02,  1.52000000e+02, ...,\n",
      "          4.34000000e+02,  4.30000000e+02,  4.17000000e+02],\n",
      "        [ 1.66000000e+02,  1.64000000e+02,  1.54000000e+02, ...,\n",
      "          4.05000000e+02,  4.13000000e+02,  4.18000000e+02],\n",
      "        ...,\n",
      "        [ 3.74000000e+02,  3.83000000e+02,  5.00000000e+02, ...,\n",
      "          1.79000000e+02,  1.57000000e+02,  1.61000000e+02],\n",
      "        [ 3.87000000e+02,  4.37000000e+02,  5.64000000e+02, ...,\n",
      "          1.80000000e+02,  1.58000000e+02,  1.53000000e+02],\n",
      "        [ 3.75000000e+02,  5.04000000e+02,  6.81000000e+02, ...,\n",
      "          1.69000000e+02,  1.77000000e+02,  1.80000000e+02]],\n",
      "\n",
      "       [[ 4.34000000e+02,  4.35000000e+02,  4.30000000e+02, ...,\n",
      "          4.18000000e+02,  4.45000000e+02,  4.16000000e+02],\n",
      "        [ 4.31000000e+02,  4.32000000e+02,  4.23000000e+02, ...,\n",
      "          4.03000000e+02,  4.10000000e+02,  4.07000000e+02],\n",
      "        [ 4.31000000e+02,  4.35000000e+02,  4.22000000e+02, ...,\n",
      "          3.89000000e+02,  3.96000000e+02,  4.09000000e+02],\n",
      "        ...,\n",
      "        [ 3.35000000e+02,  3.39000000e+02,  3.99000000e+02, ...,\n",
      "          1.94000000e+02,  1.69000000e+02,  1.83000000e+02],\n",
      "        [ 3.44000000e+02,  3.90000000e+02,  4.28000000e+02, ...,\n",
      "          2.00000000e+02,  1.70000000e+02,  1.66000000e+02],\n",
      "        [ 3.50000000e+02,  4.26000000e+02,  4.96000000e+02, ...,\n",
      "          1.89000000e+02,  2.02000000e+02,  1.90000000e+02]],\n",
      "\n",
      "       ...,\n",
      "\n",
      "       [[-1.28027682e-01, -1.18881119e-01, -1.21428571e-01, ...,\n",
      "          7.78093210e-01,  7.68926159e-01,  7.85195277e-01],\n",
      "        [-1.29824561e-01, -1.18279570e-01, -1.17647059e-01, ...,\n",
      "          8.06853583e-01,  8.07520143e-01,  8.15853389e-01],\n",
      "        [-1.25423729e-01, -1.19453925e-01, -1.15942029e-01, ...,\n",
      "          8.27328928e-01,  8.20512821e-01,  8.14098288e-01],\n",
      "        ...,\n",
      "        [ 4.57577955e-01,  5.99372385e-01,  6.78042498e-01, ...,\n",
      "          8.84664948e-01,  9.01875000e-01,  8.98837575e-01],\n",
      "        [ 6.12806403e-01,  7.13536545e-01,  6.72378739e-01, ...,\n",
      "          8.95773017e-01,  9.09920182e-01,  9.11917098e-01],\n",
      "        [ 7.77514091e-01,  7.37294762e-01,  6.41578947e-01, ...,\n",
      "          9.00500442e-01,  9.08004158e-01,  9.03303787e-01]],\n",
      "\n",
      "       [[ 5.61085973e-01,  5.70776256e-01,  5.71428571e-01, ...,\n",
      "         -2.38624874e-01, -2.27613807e-01, -2.48601932e-01],\n",
      "        [ 5.65022422e-01,  5.64814815e-01,  5.66433566e-01, ...,\n",
      "         -2.03647416e-01, -2.08993357e-01, -2.03595981e-01],\n",
      "        [ 5.67567568e-01,  5.70469799e-01,  5.81395349e-01, ...,\n",
      "         -1.81498240e-01, -1.94712761e-01, -1.87532468e-01],\n",
      "        ...,\n",
      "        [-4.84496124e-02, -1.31534570e-01, -8.27689992e-03, ...,\n",
      "         -1.80616740e-01, -2.10023866e-01, -1.88505747e-01],\n",
      "        [-7.38137083e-02, -2.27246036e-01, -1.76537585e-01, ...,\n",
      "         -1.51003168e-01, -1.71856978e-01, -1.99052133e-01],\n",
      "        [ 5.66801619e-03, -1.46341463e-01, -1.15301724e-01, ...,\n",
      "         -1.47286822e-01, -1.15062762e-01, -1.72949002e-01]],\n",
      "\n",
      "       [[ 4.18207851e-02,  1.84444377e-02,  2.32142857e-02, ...,\n",
      "         -1.04256158e+00, -1.03522598e+00, -1.07637609e+00],\n",
      "        [ 5.15636918e-02,  2.49462366e-02,  3.16742081e-02, ...,\n",
      "         -1.08660142e+00, -1.08496399e+00, -1.11897492e+00],\n",
      "        [ 1.81275915e-02,  1.21577876e-02,  1.78677784e-03, ...,\n",
      "         -1.13204734e+00, -1.11441243e+00, -1.11210943e+00],\n",
      "        ...,\n",
      "        [-4.10184590e-01, -6.88791694e-01, -1.01995805e+00, ...,\n",
      "         -1.26699009e+00, -1.32383762e+00, -1.31131713e+00],\n",
      "        [-7.40473420e-01, -8.88632072e-01, -8.94624547e-01, ...,\n",
      "         -1.31708841e+00, -1.36675863e+00, -1.36626350e+00],\n",
      "        [-1.18772826e+00, -1.02990675e+00, -9.01526433e-01, ...,\n",
      "         -1.33516711e+00, -1.38289367e+00, -1.36705095e+00]]])\n",
      "Coordinates:\n",
      "    time      datetime64[ns] 2018-07-02\n",
      "  * y         (y) float64 3.919e+06 3.919e+06 3.919e+06 ... 3.908e+06 3.908e+06\n",
      "  * x         (x) float64 1.855e+06 1.855e+06 1.855e+06 ... 1.871e+06 1.871e+06\n",
      "  * variable  (variable) <U16 'green_2018_01_01' ... 'bu_2018_01_01'\n",
      "Attributes:\n",
      "    crs:      EPSG:3460\n"
     ]
    }
   ],
   "source": [
    "T1_rename = xr.Dataset.rename_vars(T1_img, testDic)\n",
    "T1_renameD = xr.Dataset.to_array(T1_rename)"
   ]
  },
  {
   "cell_type": "code",
   "execution_count": 260,
   "metadata": {},
   "outputs": [],
   "source": [
    "T1_rename_DD = xr.DataArray.drop(T1_renameD, 'time')"
   ]
  },
  {
   "cell_type": "code",
   "execution_count": 37,
   "metadata": {},
   "outputs": [],
   "source": [
    "#print(T1_rename_DD)"
   ]
  },
  {
   "cell_type": "code",
   "execution_count": 262,
   "metadata": {},
   "outputs": [],
   "source": [
    "T2_rename = xr.Dataset.rename_vars(T2_img, testDic2)"
   ]
  },
  {
   "cell_type": "code",
   "execution_count": 263,
   "metadata": {},
   "outputs": [],
   "source": [
    "T2_renameD = xr.Dataset.to_array(T2_rename)\n",
    "T2_rename_DD = xr.DataArray.drop(T2_renameD, 'time')"
   ]
  },
  {
   "cell_type": "code",
   "execution_count": 264,
   "metadata": {},
   "outputs": [
    {
     "name": "stdout",
     "output_type": "stream",
     "text": [
      "<xarray.DataArray (variable: 10, y: 1141, x: 1602)>\n",
      "array([[[ 4.31e+02,  4.20e+02,  4.10e+02, ...,  7.40e+02,  7.61e+02,\n",
      "          7.52e+02],\n",
      "        [ 4.40e+02,  4.24e+02,  4.16e+02, ...,  7.31e+02,  7.04e+02,\n",
      "          6.52e+02],\n",
      "        [ 4.37e+02,  4.24e+02,  4.32e+02, ...,  7.42e+02,  7.16e+02,\n",
      "          6.87e+02],\n",
      "        ...,\n",
      "        [ 4.85e+02,  5.15e+02,  6.48e+02, ...,  3.99e+02,  3.33e+02,\n",
      "          3.36e+02],\n",
      "        [ 5.45e+02,  6.41e+02,  6.92e+02, ...,  4.31e+02,  3.77e+02,\n",
      "          3.95e+02],\n",
      "        [ 6.40e+02,  7.46e+02,  7.82e+02, ...,  4.40e+02,  4.36e+02,\n",
      "          4.05e+02]],\n",
      "\n",
      "       [[ 2.31e+02,  2.23e+02,  2.08e+02, ...,  5.33e+02,  5.69e+02,\n",
      "          5.94e+02],\n",
      "        [ 2.46e+02,  2.27e+02,  2.24e+02, ...,  4.51e+02,  4.46e+02,\n",
      "          4.17e+02],\n",
      "        [ 2.40e+02,  2.26e+02,  2.36e+02, ...,  4.28e+02,  4.30e+02,\n",
      "          4.23e+02],\n",
      "        ...,\n",
      "        [ 3.95e+02,  3.95e+02,  5.20e+02, ...,  1.80e+02,  1.66e+02,\n",
      "          1.67e+02],\n",
      "        [ 3.91e+02,  4.42e+02,  5.51e+02, ...,  1.94e+02,  1.85e+02,\n",
      "          1.89e+02],\n",
      "        [ 3.96e+02,  5.11e+02,  6.71e+02, ...,  1.95e+02,  1.97e+02,\n",
      "          2.06e+02]],\n",
      "\n",
      "       [[ 5.21e+02,  5.12e+02,  4.97e+02, ...,  4.26e+02,  4.42e+02,\n",
      "          4.43e+02],\n",
      "        [ 5.33e+02,  5.17e+02,  5.08e+02, ...,  3.94e+02,  3.89e+02,\n",
      "          3.74e+02],\n",
      "        [ 5.28e+02,  5.13e+02,  5.24e+02, ...,  3.84e+02,  3.81e+02,\n",
      "          3.78e+02],\n",
      "        ...,\n",
      "        [ 3.34e+02,  3.28e+02,  3.96e+02, ...,  1.96e+02,  1.96e+02,\n",
      "          1.98e+02],\n",
      "        [ 3.34e+02,  3.59e+02,  4.12e+02, ...,  2.09e+02,  2.01e+02,\n",
      "          2.16e+02],\n",
      "        [ 3.46e+02,  4.11e+02,  4.67e+02, ...,  2.23e+02,  2.31e+02,\n",
      "          2.33e+02]],\n",
      "\n",
      "       ...,\n",
      "\n",
      "       [[-8.96e-02, -8.78e-02, -9.47e-02, ...,  7.31e-01,  7.17e-01,\n",
      "          7.07e-01],\n",
      "        [-8.13e-02, -6.57e-02, -9.80e-02, ...,  7.81e-01,  7.80e-01,\n",
      "          7.91e-01],\n",
      "        [-8.60e-02, -8.13e-02, -9.01e-02, ...,  7.95e-01,  7.91e-01,\n",
      "          7.89e-01],\n",
      "        ...,\n",
      "        [ 4.00e-01,  6.04e-01,  6.51e-01, ...,  8.94e-01,  9.07e-01,\n",
      "          8.95e-01],\n",
      "        [ 6.51e-01,  7.04e-01,  6.62e-01, ...,  8.95e-01,  9.02e-01,\n",
      "          8.97e-01],\n",
      "        [ 7.67e-01,  7.17e-01,  6.18e-01, ...,  8.93e-01,  8.97e-01,\n",
      "          8.88e-01]],\n",
      "\n",
      "       [[ 3.99e-01,  4.09e-01,  4.34e-01, ..., -2.53e-01, -2.40e-01,\n",
      "         -2.58e-01],\n",
      "        [ 3.88e-01,  3.99e-01,  4.25e-01, ..., -2.40e-01, -2.55e-01,\n",
      "         -2.67e-01],\n",
      "        [ 3.98e-01,  4.09e-01,  4.12e-01, ..., -2.31e-01, -2.40e-01,\n",
      "         -2.38e-01],\n",
      "        ...,\n",
      "        [-1.03e-01, -1.87e-01, -6.09e-02, ..., -1.76e-01, -2.47e-01,\n",
      "         -2.47e-01],\n",
      "        [-9.99e-02, -2.45e-01, -2.04e-01, ..., -1.47e-01, -1.94e-01,\n",
      "         -1.77e-01],\n",
      "        [-1.23e-02, -1.71e-01, -1.47e-01, ..., -1.33e-01, -1.62e-01,\n",
      "         -1.94e-01]],\n",
      "\n",
      "       [[ 9.48e-02,  8.24e-02,  9.47e-02, ..., -9.58e-01, -9.50e-01,\n",
      "         -9.43e-01],\n",
      "        [ 6.92e-02,  4.78e-02,  8.43e-02, ..., -1.02e+00, -1.02e+00,\n",
      "         -1.05e+00],\n",
      "        [ 7.85e-02,  7.08e-02,  7.72e-02, ..., -1.05e+00, -1.04e+00,\n",
      "         -1.05e+00],\n",
      "        ...,\n",
      "        [-3.10e-01, -6.92e-01, -9.50e-01, ..., -1.30e+00, -1.35e+00,\n",
      "         -1.28e+00],\n",
      "        [-8.32e-01, -8.81e-01, -8.72e-01, ..., -1.33e+00, -1.37e+00,\n",
      "         -1.34e+00],\n",
      "        [-1.17e+00, -9.88e-01, -8.46e-01, ..., -1.33e+00, -1.33e+00,\n",
      "         -1.31e+00]]])\n",
      "Coordinates:\n",
      "  * y         (y) float64 3.919e+06 3.919e+06 3.919e+06 ... 3.908e+06 3.908e+06\n",
      "  * x         (x) float64 1.855e+06 1.855e+06 1.855e+06 ... 1.871e+06 1.871e+06\n",
      "  * variable  (variable) <U10 'green_2019' 'red_2019' ... 'mndwi_2019' 'bu_2019'\n",
      "Attributes:\n",
      "    crs:      EPSG:3460\n"
     ]
    }
   ],
   "source": [
    "print(T2_rename_DD)"
   ]
  },
  {
   "cell_type": "code",
   "execution_count": 265,
   "metadata": {},
   "outputs": [],
   "source": [
    "#help = xr.merge([T1_rename_DD, T2_rename_DD], dim = 'variable')"
   ]
  },
  {
   "cell_type": "code",
   "execution_count": 266,
   "metadata": {},
   "outputs": [],
   "source": [
    "help2 = T1_rename_DD.combine_first(T2_rename_DD)"
   ]
  },
  {
   "cell_type": "code",
   "execution_count": 34,
   "metadata": {},
   "outputs": [],
   "source": [
    "#print(help2)"
   ]
  },
  {
   "cell_type": "code",
   "execution_count": 35,
   "metadata": {},
   "outputs": [],
   "source": [
    "#stacked = help2.stack(z=(\"T1\", \"T2\"))"
   ]
  },
  {
   "cell_type": "code",
   "execution_count": 36,
   "metadata": {},
   "outputs": [],
   "source": [
    "#print(help2)"
   ]
  },
  {
   "cell_type": "code",
   "execution_count": 269,
   "metadata": {},
   "outputs": [],
   "source": [
    "x = xr.DataArray.to_dataset(help2, dim = 'variable')"
   ]
  },
  {
   "cell_type": "code",
   "execution_count": 270,
   "metadata": {},
   "outputs": [
    {
     "name": "stdout",
     "output_type": "stream",
     "text": [
      "<xarray.Dataset>\n",
      "Dimensions:     (x: 1602, y: 1141)\n",
      "Coordinates:\n",
      "  * y           (y) float64 3.919e+06 3.919e+06 ... 3.908e+06 3.908e+06\n",
      "  * x           (x) float64 1.855e+06 1.855e+06 ... 1.871e+06 1.871e+06\n",
      "Data variables:\n",
      "    blue_2018   (y, x) float64 434.0 435.0 430.0 433.0 ... 189.0 202.0 190.0\n",
      "    blue_2019   (y, x) float64 521.0 512.0 497.0 503.0 ... 223.0 231.0 233.0\n",
      "    bu_2018     (y, x) float64 0.04182 0.01844 0.02321 ... -1.335 -1.383 -1.367\n",
      "    bu_2019     (y, x) float64 0.09478 0.08243 0.09474 ... -1.326 -1.334 -1.311\n",
      "    green_2018  (y, x) float64 345.0 344.0 341.0 341.0 ... 385.0 423.0 373.0\n",
      "    green_2019  (y, x) float64 431.0 420.0 410.0 413.0 ... 440.0 436.0 405.0\n",
      "    mndwi_2018  (y, x) float64 0.5611 0.5708 0.5714 ... -0.1473 -0.1151 -0.1729\n",
      "    mndwi_2019  (y, x) float64 0.3994 0.4094 0.4336 ... -0.133 -0.1615 -0.194\n",
      "    ndbi_2018   (y, x) float64 -0.08621 -0.1004 -0.09821 ... -0.4749 -0.4637\n",
      "    ndbi_2019   (y, x) float64 0.005155 -0.005376 0.0 ... -0.4327 -0.4364 -0.423\n",
      "    ndvi_2018   (y, x) float64 -0.128 -0.1189 -0.1214 ... 0.9005 0.908 0.9033\n",
      "    ndvi_2019   (y, x) float64 -0.08962 -0.0878 -0.09474 ... 0.8972 0.8884\n",
      "    nir_2018    (y, x) float64 126.0 126.0 123.0 ... 3.671e+03 3.543e+03\n",
      "    nir_2019    (y, x) float64 193.0 187.0 172.0 ... 3.634e+03 3.487e+03\n",
      "    red_2018    (y, x) float64 163.0 160.0 157.0 161.0 ... 169.0 177.0 180.0\n",
      "    red_2019    (y, x) float64 231.0 223.0 208.0 212.0 ... 195.0 197.0 206.0\n",
      "    swir1_2018  (y, x) float64 106.0 103.0 101.0 ... 1.307e+03 1.298e+03\n",
      "    swir1_2019  (y, x) float64 195.0 185.0 172.0 ... 1.426e+03 1.414e+03\n",
      "    swir2_2018  (y, x) float64 97.0 94.0 93.0 93.0 ... 519.0 518.0 533.0 529.0\n",
      "    swir2_2019  (y, x) float64 185.0 176.0 162.0 163.0 ... 575.0 604.0 600.0\n",
      "Attributes:\n",
      "    crs:      EPSG:3460\n"
     ]
    }
   ],
   "source": [
    "print(x)"
   ]
  },
  {
   "cell_type": "code",
   "execution_count": 27,
   "metadata": {},
   "outputs": [],
   "source": [
    "#write_geotiff_from_xr('test_today.tiff', img_ds, crs=output_projection, x_coord = 'x', y_coord = 'y')"
   ]
  },
  {
   "cell_type": "code",
   "execution_count": 196,
   "metadata": {},
   "outputs": [
    {
     "name": "stdout",
     "output_type": "stream",
     "text": [
      "<xarray.Dataset>\n",
      "Dimensions:  (x: 1626, y: 1368)\n",
      "Coordinates:\n",
      "    time     datetime64[ns] 2018-07-02\n",
      "  * y        (y) float64 3.883e+06 3.883e+06 3.883e+06 ... 3.869e+06 3.869e+06\n",
      "  * x        (x) float64 1.963e+06 1.963e+06 1.963e+06 ... 1.979e+06 1.979e+06\n",
      "Data variables:\n",
      "    green    (y, x) int16 702 752 685 649 659 633 ... 450 443 438 437 441 443\n",
      "    red      (y, x) int16 455 494 479 431 439 438 ... 220 217 208 206 209 208\n",
      "    blue     (y, x) int16 462 490 473 448 483 481 ... 469 463 456 455 455 453\n",
      "    nir      (y, x) int16 3497 3483 2938 2874 2945 2803 ... 142 136 134 130 130\n",
      "    swir1    (y, x) int16 1558 1522 1503 1369 1368 1438 ... 129 126 125 125 122\n",
      "    swir2    (y, x) int16 791 830 819 717 724 769 ... 125 123 117 115 118 116\n",
      "    ndbi     (y, x) float64 -0.3836 -0.3918 -0.3231 ... -0.01961 -0.03175\n",
      "    ndvi     (y, x) float64 0.7697 0.7516 0.7196 ... -0.2118 -0.233 -0.2308\n",
      "    mndwi    (y, x) float64 -0.05961 -0.0493 -0.0891 ... 0.5833 0.5778 0.585\n",
      "    bu       (y, x) float64 -1.153 -1.143 -1.043 -1.094 ... 0.177 0.2134 0.199\n",
      "Attributes:\n",
      "    crs:      EPSG:3460\n"
     ]
    }
   ],
   "source": [
    "#print(T1_img)"
   ]
  },
  {
   "cell_type": "code",
   "execution_count": 194,
   "metadata": {},
   "outputs": [],
   "source": [
    "def export_slice_to_geotiff(ds, path, x_coord='longitude', y_coord='latitude'):\n",
    "    \"\"\"\n",
    "    Exports a single slice of an xarray.Dataset as a GeoTIFF.\n",
    "    ds: xarray.Dataset\n",
    "        The Dataset to export. Must have exactly 2 dimensions - 'latitude' and 'longitude'.\n",
    "    x_coord, y_coord: string\n",
    "        Names of the x and y coordinates in `ds`.\n",
    "    path: str\n",
    "        The path to store the exported GeoTIFF.\n",
    "    \"\"\"\n",
    "    kwargs = dict(tif_path=path, data=ds.astype(np.float64), bands=list(ds.data_vars.keys()),\n",
    "                  x_coord=x_coord, y_coord=y_coord)\n",
    "    if 'crs' in ds.attrs:\n",
    "        kwargs['crs'] = str(ds.attrs['crs'])\n",
    "    write_geotiff_from_xr(**kwargs)"
   ]
  },
  {
   "cell_type": "code",
   "execution_count": 271,
   "metadata": {},
   "outputs": [],
   "source": [
    "export_slice_to_geotiff(x, 'combine_test_Nadi.tif', x_coord = 'x', y_coord = 'y')"
   ]
  },
  {
   "cell_type": "code",
   "execution_count": null,
   "metadata": {},
   "outputs": [],
   "source": [
    "#####Need to get each band as a seperate netcdf????"
   ]
  },
  {
   "cell_type": "code",
   "execution_count": 33,
   "metadata": {},
   "outputs": [],
   "source": [
    "#fil1 = 'img_ds_s2_suva_new.tif'"
   ]
  },
  {
   "cell_type": "code",
   "execution_count": 39,
   "metadata": {},
   "outputs": [
    {
     "ename": "TypeError",
     "evalue": "'DatasetReader' object is not iterable",
     "output_type": "error",
     "traceback": [
      "\u001b[0;31m---------------------------------------------------------------------------\u001b[0m",
      "\u001b[0;31mTypeError\u001b[0m                                 Traceback (most recent call last)",
      "\u001b[0;32m<ipython-input-39-0ecbaaf66259>\u001b[0m in \u001b[0;36m<module>\u001b[0;34m\u001b[0m\n\u001b[1;32m      1\u001b[0m \u001b[0;32mimport\u001b[0m \u001b[0mrasterio\u001b[0m\u001b[0;34m\u001b[0m\u001b[0;34m\u001b[0m\u001b[0m\n\u001b[1;32m      2\u001b[0m \u001b[0;32mwith\u001b[0m \u001b[0mrasterio\u001b[0m\u001b[0;34m.\u001b[0m\u001b[0mopen\u001b[0m\u001b[0;34m(\u001b[0m\u001b[0mfil1\u001b[0m\u001b[0;34m)\u001b[0m \u001b[0;32mas\u001b[0m \u001b[0msrc\u001b[0m\u001b[0;34m:\u001b[0m\u001b[0;34m\u001b[0m\u001b[0;34m\u001b[0m\u001b[0m\n\u001b[0;32m----> 3\u001b[0;31m     \u001b[0;32mfor\u001b[0m \u001b[0mi\u001b[0m \u001b[0;32min\u001b[0m \u001b[0msrc\u001b[0m\u001b[0;34m:\u001b[0m\u001b[0;34m\u001b[0m\u001b[0;34m\u001b[0m\u001b[0m\n\u001b[0m\u001b[1;32m      4\u001b[0m         \u001b[0mprint\u001b[0m\u001b[0;34m(\u001b[0m\u001b[0mi\u001b[0m\u001b[0;34m)\u001b[0m\u001b[0;34m\u001b[0m\u001b[0;34m\u001b[0m\u001b[0m\n",
      "\u001b[0;31mTypeError\u001b[0m: 'DatasetReader' object is not iterable"
     ]
    }
   ],
   "source": [
    "#import rasterio\n",
    "#with rasterio.open(fil1) as src:\n",
    "#    for i in src:\n",
    "#        print(i)"
   ]
  },
  {
   "cell_type": "code",
   "execution_count": null,
   "metadata": {},
   "outputs": [],
   "source": []
  },
  {
   "cell_type": "code",
   "execution_count": null,
   "metadata": {},
   "outputs": [],
   "source": []
  },
  {
   "cell_type": "code",
   "execution_count": null,
   "metadata": {},
   "outputs": [],
   "source": []
  },
  {
   "cell_type": "code",
   "execution_count": null,
   "metadata": {},
   "outputs": [],
   "source": []
  },
  {
   "cell_type": "code",
   "execution_count": null,
   "metadata": {},
   "outputs": [],
   "source": []
  },
  {
   "cell_type": "code",
   "execution_count": null,
   "metadata": {},
   "outputs": [],
   "source": []
  },
  {
   "cell_type": "code",
   "execution_count": null,
   "metadata": {},
   "outputs": [],
   "source": []
  },
  {
   "cell_type": "code",
   "execution_count": 200,
   "metadata": {},
   "outputs": [],
   "source": [
    "# Tell GDAL to throw Python exceptions, and register all drivers\n",
    "gdal.UseExceptions()\n",
    "gdal.AllRegister()"
   ]
  },
  {
   "cell_type": "code",
   "execution_count": 201,
   "metadata": {},
   "outputs": [],
   "source": [
    "## vector to raster wtih same res as input raster"
   ]
  },
  {
   "cell_type": "code",
   "execution_count": 2,
   "metadata": {},
   "outputs": [],
   "source": [
    "from osgeo import gdal\n",
    "from osgeo import ogr\n",
    "from osgeo import gdalconst\n",
    "\n",
    "#dataset from which to base pixel size and extent for rasterization of training datasets\n",
    "ndsm = 'combine_test_Suva.tif'\n",
    "#training data\n",
    "shp = 'attempt106.geojson'\n",
    "#openlayers\n",
    "data = gdal.Open(ndsm, gdalconst.GA_ReadOnly)\n",
    "geo_transform = data.GetGeoTransform()\n",
    "#source_layer = data.GetLayer()\n",
    "#get dimensions\n",
    "x_min = geo_transform[0]\n",
    "y_max = geo_transform[3]\n",
    "x_max = x_min + geo_transform[1] * data.RasterXSize\n",
    "y_min = y_max + geo_transform[5] * data.RasterYSize\n",
    "x_res = data.RasterXSize\n",
    "y_res = data.RasterYSize\n",
    "mb_v = ogr.Open(shp)\n",
    "mb_l = mb_v.GetLayer()\n",
    "pixel_width = geo_transform[1]\n",
    "#name for output of rasterized geotif\n",
    "output = 'my_s2.tif'\n",
    "\n",
    "target_ds = gdal.GetDriverByName('GTiff').Create(output, x_res, y_res, 1, gdal.GDT_Byte)\n",
    "proj=data.GetProjection() #y\n",
    "target_ds.SetProjection(proj)\n",
    "#target_ds.SetGeoTransform((x_min, pixel_width, 0, y_min, 0, pixel_width))\n",
    "geotrans=data.GetGeoTransform()  #get GeoTranform from existed 'data0'\n",
    "\n",
    "band = target_ds.GetRasterBand(1)\n",
    "NoData_value = -999999\n",
    "band.SetNoDataValue(NoData_value)\n",
    "band.FlushCache()\n",
    "target_ds.SetGeoTransform(geotrans)\n",
    "gdal.RasterizeLayer(target_ds, [1], mb_l, options=[\"ATTRIBUTE=Class\"])\n",
    "\n",
    "\n",
    "target_ds = None"
   ]
  },
  {
   "cell_type": "code",
   "execution_count": 203,
   "metadata": {},
   "outputs": [],
   "source": [
    "#bands_data = []\n",
    "#for b in range(1, raster_dataset.RasterCount+1):\n",
    " #   band = raster_dataset.GetRasterBand(b)\n",
    "  #  bands_data.append(band.ReadAsArray())\n"
   ]
  },
  {
   "cell_type": "code",
   "execution_count": 114,
   "metadata": {},
   "outputs": [
    {
     "ename": "AttributeError",
     "evalue": "'DatasetReader' object has no attribute 'RasterYSize'",
     "output_type": "error",
     "traceback": [
      "\u001b[0;31m---------------------------------------------------------------------------\u001b[0m",
      "\u001b[0;31mAttributeError\u001b[0m                            Traceback (most recent call last)",
      "\u001b[0;32m<ipython-input-114-f84c06c5efe9>\u001b[0m in \u001b[0;36m<module>\u001b[0;34m\u001b[0m\n\u001b[1;32m     16\u001b[0m         \u001b[0;31m#print(layer)\u001b[0m\u001b[0;34m\u001b[0m\u001b[0;34m\u001b[0m\u001b[0;34m\u001b[0m\u001b[0m\n\u001b[1;32m     17\u001b[0m         \u001b[0;32mwith\u001b[0m \u001b[0mrasterio\u001b[0m\u001b[0;34m.\u001b[0m\u001b[0mopen\u001b[0m\u001b[0;34m(\u001b[0m\u001b[0mlayer\u001b[0m\u001b[0;34m)\u001b[0m \u001b[0;32mas\u001b[0m \u001b[0msrc1\u001b[0m\u001b[0;34m:\u001b[0m\u001b[0;34m\u001b[0m\u001b[0;34m\u001b[0m\u001b[0m\n\u001b[0;32m---> 18\u001b[0;31m             img = np.zeros((src1.RasterYSize, src1.RasterXSize, src1.RasterCount),\n\u001b[0m\u001b[1;32m     19\u001b[0m                gdal_array.GDALTypeCodeToNumericTypeCode(src1.GetRasterBand(1).DataType))\n\u001b[1;32m     20\u001b[0m            \u001b[0;31m# dst.write_band(id, src1.read(1))\u001b[0m\u001b[0;34m\u001b[0m\u001b[0;34m\u001b[0m\u001b[0;34m\u001b[0m\u001b[0m\n",
      "\u001b[0;31mAttributeError\u001b[0m: 'DatasetReader' object has no attribute 'RasterYSize'"
     ]
    }
   ],
   "source": [
    "import rasterio\n",
    "\n",
    "file_list = ['img_ds_s2_suva_new.tif', '2018_img_ds_s2_Suva_new.tif']\n",
    "\n",
    "# Read metadata of first file\n",
    "with rasterio.open(file_list[0]) as src0:\n",
    "    #print(src0)\n",
    "    meta = src0.meta\n",
    "\n",
    "# Update meta to reflect the number of layers\n",
    "meta.update(count = len(file_list))\n",
    "\n",
    "# Read each layer and write it to stack\n",
    "with rasterio.open('stack.tif', 'w', **meta) as dst:\n",
    "    for id, layer in enumerate(file_list, start=1):\n",
    "        #print(layer)\n",
    "        with rasterio.open(layer) as src2\n",
    "            img = np.zeros((src1.RasterYSize, src1.RasterXSize, src1.RasterCount),\n",
    "               gdal_array.GDALTypeCodeToNumericTypeCode(src1.GetRasterBand(1).DataType))\n",
    "           # dst.write_band(id, src1.read(1))\n",
    "            print(src1)\n",
    "            for b in range(img.shape[2]):\n",
    "                print('worked')\n",
    "            #new = src1.GetRasterBand(b+1).ReadAsArray()\n",
    "            #print(new)\n"
   ]
  },
  {
   "cell_type": "code",
   "execution_count": null,
   "metadata": {},
   "outputs": [],
   "source": [
    "bands_data = []\n",
    "for b in range(1, raster_dataset.RasterCount+1):\n",
    "    band = raster_dataset.GetRasterBand(b)\n",
    "    bands_data.append(band.ReadAsArray())"
   ]
  },
  {
   "cell_type": "markdown",
   "metadata": {},
   "source": [
    "##FIGURING OUT HOW TO GET ALL BANDS of ALL TIME PERIODS\n",
    "###THINK NEED TO MAKE A VRT FROM A LIST OF BANDS??\n",
    "from osgeo import gdal\n",
    "outvrt = 'stacked.vrt' #/vsimem is special in-memory virtual \"directory\"\n",
    "outtif = 'stacked.tif'\n",
    "#or for all tifs in a dir\n",
    "#import glob\n",
    "#tifs = glob.glob('dir/*.tif')\n",
    "\n",
    "outds = gdal.BuildVRT(outvrt, file_list, separate=True)\n",
    "outds = gdal.Translate(outtif, outds)"
   ]
  },
  {
   "cell_type": "markdown",
   "metadata": {},
   "source": [
    "import rasterio\n",
    "import numpy as np\n",
    "\n",
    "#vstack = '/path/to/virtual_stack.vrt'\n",
    "bands = [1,2,3,4,5,6,7,8,9]\n",
    "\n",
    "sizeguide = gdal.Open('stacked.tif', gdal.GA_ReadOnly)\n",
    "print(outvrt)\n",
    "\n",
    "ulx, xres, xskew, uly, yskew, yres  = sizeguide.GetGeoTransform()\n",
    "print(ulx)\n",
    "print(xskew)\n",
    "lrx = ulx + (sizeguide.RasterXSize * xres)\n",
    "lry = uly + (sizeguide.RasterYSize * yres)\n",
    "window = ((xskew, ulx), (yskew, uly))\n",
    "print(window)M\n",
    "\n",
    "\n",
    "# define cropping window ((row_start, row_stop), (col_start, col_stop))\n",
    "#window = ((10, 50), (30, 40))\n",
    "\n",
    "with rasterio.open(outvrt)as src:\n",
    "    print(src)\n",
    "    # Create zero array (you may want to set dtype too)\n",
    "    #array = np.zeros((window[0][1] - window[0][0],\n",
    "     #                 window[1][1] - window[1][0],\n",
    "      #                len(bands)))\n",
    "    #array = np.zeros((sizeguide.RasterYSize, sizeguide.RasterXSize, len(bands)))\n",
    "    array = np.zeros((sizeguide.RasterYSize, sizeguide.RasterXSize, sizeguide.RasterCount),\n",
    "               gdal_array.GDALTypeCodeToNumericTypeCode(sizeguide.GetRasterBand(1).DataType))\n",
    "    # Fill the array\n",
    "    print(img)\n",
    "    for b in range(array.shape[2]):\n",
    "        print(b)\n",
    "        array[:, :, b] = src.read(b + 1)\n",
    "    for i, band in enumerate(bands):\n",
    "        print(i)\n",
    "        array[:,:,i] = src.read(band)\n",
    "print(array.shape)"
   ]
  },
  {
   "cell_type": "code",
   "execution_count": 71,
   "metadata": {},
   "outputs": [
    {
     "name": "stdout",
     "output_type": "stream",
     "text": [
      "0\n",
      "1\n",
      "2\n",
      "3\n",
      "4\n",
      "5\n",
      "6\n",
      "7\n",
      "8\n",
      "9\n",
      "[array([[603., 654., 559., ..., 917., 837., 852.],\n",
      "       [649., 631., 544., ..., 857., 859., 869.],\n",
      "       [593., 638., 591., ..., 828., 840., 827.],\n",
      "       ...,\n",
      "       [196., 196., 204., ..., 460., 469., 469.],\n",
      "       [186., 189., 208., ..., 461., 464., 452.],\n",
      "       [185., 190., 213., ..., 454., 453., 451.]]), array([[352., 373., 340., ..., 672., 559., 588.],\n",
      "       [367., 353., 313., ..., 544., 568., 576.],\n",
      "       [317., 363., 349., ..., 487., 518., 513.],\n",
      "       ...,\n",
      "       [110., 115., 116., ..., 242., 248., 252.],\n",
      "       [105., 104., 120., ..., 233., 238., 245.],\n",
      "       [103., 103., 124., ..., 234., 230., 238.]]), array([[417., 444., 412., ..., 597., 506., 532.],\n",
      "       [438., 399., 363., ..., 518., 517., 518.],\n",
      "       [382., 407., 394., ..., 483., 474., 479.],\n",
      "       ...,\n",
      "       [308., 303., 308., ..., 458., 466., 464.],\n",
      "       [305., 298., 314., ..., 452., 458., 453.],\n",
      "       [301., 302., 320., ..., 453., 456., 451.]]), array([[3570., 3515., 2953., ..., 3366., 3771., 3670.],\n",
      "       [3639., 3686., 3084., ..., 3927., 3919., 3737.],\n",
      "       [3594., 3779., 3448., ..., 4321., 4188., 3732.],\n",
      "       ...,\n",
      "       [  87.,   84.,   98., ...,  158.,  163.,  161.],\n",
      "       [  85.,   81.,   99., ...,  153.,  151.,  152.],\n",
      "       [  78.,   81.,  102., ...,  146.,  151.,  158.]]), array([[1589., 1450., 1445., ..., 2106., 2086., 2244.],\n",
      "       [1587., 1553., 1535., ..., 2108., 2087., 2270.],\n",
      "       [1534., 1544., 1544., ..., 2226., 2214., 2184.],\n",
      "       ...,\n",
      "       [  96.,   97.,  108., ...,  149.,  149.,  149.],\n",
      "       [  89.,   90.,  111., ...,  143.,  141.,  141.],\n",
      "       [  92.,   94.,  113., ...,  140.,  140.,  144.]]), array([[ 718.,  652.,  660., ..., 1179., 1165., 1397.],\n",
      "       [ 723.,  678.,  664., ..., 1174., 1163., 1418.],\n",
      "       [ 654.,  683.,  677., ..., 1180., 1176., 1280.],\n",
      "       ...,\n",
      "       [  90.,   92.,  102., ...,  140.,  141.,  141.],\n",
      "       [  85.,   86.,  107., ...,  137.,  136.,  135.],\n",
      "       [  87.,   91.,  110., ...,  135.,  136.,  139.]]), array([[-0.38398915, -0.41591138, -0.34288313, ..., -0.23026316,\n",
      "        -0.28768994, -0.24112276],\n",
      "       [-0.39265212, -0.40713877, -0.33535397, ..., -0.30140845,\n",
      "        -0.30502831, -0.24421508],\n",
      "       [-0.40171607, -0.41987601, -0.38141026, ..., -0.31999389,\n",
      "        -0.30834114, -0.26166329],\n",
      "       ...,\n",
      "       [ 0.04918033,  0.0718232 ,  0.04854369, ..., -0.02931596,\n",
      "        -0.04487179, -0.03870968],\n",
      "       [ 0.02298851,  0.05263158,  0.05714286, ..., -0.03378378,\n",
      "        -0.03424658, -0.03754266],\n",
      "       [ 0.08235294,  0.07428571,  0.05116279, ..., -0.02097902,\n",
      "        -0.03780069, -0.04635762]]), array([[ 0.82049975,  0.80812757,  0.79350137, ...,  0.66716196,\n",
      "         0.74180139,  0.723814  ],\n",
      "       [ 0.81677484,  0.82520426,  0.81571975, ...,  0.75665399,\n",
      "         0.74682416,  0.73290053],\n",
      "       [ 0.83789312,  0.82472236,  0.81617066, ...,  0.79742097,\n",
      "         0.7798555 ,  0.75830389],\n",
      "       ...,\n",
      "       [-0.11675127, -0.15577889, -0.08411215, ..., -0.21      ,\n",
      "        -0.20681265, -0.22033898],\n",
      "       [-0.10526316, -0.12432432, -0.09589041, ..., -0.20725389,\n",
      "        -0.22365039, -0.23425693],\n",
      "       [-0.13812155, -0.11956522, -0.09734513, ..., -0.23157895,\n",
      "        -0.20734908, -0.2020202 ]]), array([[-0.08705526,  0.00153139, -0.0828548 , ..., -0.125     ,\n",
      "        -0.16383616, -0.24232992],\n",
      "       [-0.05393586, -0.03590527, -0.09933775, ..., -0.15608075,\n",
      "        -0.15034619, -0.24005247],\n",
      "       [-0.0489174 , -0.0340651 , -0.06782334, ..., -0.1752988 ,\n",
      "        -0.16666667, -0.21499763],\n",
      "       ...,\n",
      "       [ 0.37062937,  0.36111111,  0.33333333, ...,  0.53333333,\n",
      "         0.53770492,  0.53770492],\n",
      "       [ 0.37269373,  0.37454545,  0.32063492, ...,  0.54180602,\n",
      "         0.54666667,  0.54003407],\n",
      "       [ 0.36029412,  0.35231317,  0.31888545, ...,  0.54159593,\n",
      "         0.53820034,  0.52881356]]), array([[-1.20448889, -1.22403895, -1.1363845 , ..., -0.89742512,\n",
      "        -1.02949133, -0.96493676],\n",
      "       [-1.20942696, -1.23234303, -1.15107373, ..., -1.05806244,\n",
      "        -1.05185246, -0.97711562],\n",
      "       [-1.23960919, -1.24459837, -1.19758092, ..., -1.11741486,\n",
      "        -1.08819665, -1.01996717],\n",
      "       ...,\n",
      "       [ 0.1659316 ,  0.2276021 ,  0.13265584, ...,  0.18068404,\n",
      "         0.16194086,  0.18162931],\n",
      "       [ 0.12825166,  0.1769559 ,  0.15303327, ...,  0.1734701 ,\n",
      "         0.18940381,  0.19671426],\n",
      "       [ 0.22047449,  0.19385093,  0.14850792, ...,  0.21059993,\n",
      "         0.16954839,  0.15566259]])]\n",
      "[[[ 6.03000000e+02  3.52000000e+02  4.17000000e+02 ...  8.20499745e-01\n",
      "   -8.70552612e-02 -1.20448889e+00]\n",
      "  [ 6.54000000e+02  3.73000000e+02  4.44000000e+02 ...  8.08127572e-01\n",
      "    1.53139357e-03 -1.22403895e+00]\n",
      "  [ 5.59000000e+02  3.40000000e+02  4.12000000e+02 ...  7.93501367e-01\n",
      "   -8.28547990e-02 -1.13638450e+00]\n",
      "  ...\n",
      "  [ 9.17000000e+02  6.72000000e+02  5.97000000e+02 ...  6.67161961e-01\n",
      "   -1.25000000e-01 -8.97425119e-01]\n",
      "  [ 8.37000000e+02  5.59000000e+02  5.06000000e+02 ...  7.41801386e-01\n",
      "   -1.63836164e-01 -1.02949133e+00]\n",
      "  [ 8.52000000e+02  5.88000000e+02  5.32000000e+02 ...  7.23813997e-01\n",
      "   -2.42329924e-01 -9.64936757e-01]]\n",
      "\n",
      " [[ 6.49000000e+02  3.67000000e+02  4.38000000e+02 ...  8.16774838e-01\n",
      "   -5.39358601e-02 -1.20942696e+00]\n",
      "  [ 6.31000000e+02  3.53000000e+02  3.99000000e+02 ...  8.25204258e-01\n",
      "   -3.59052712e-02 -1.23234303e+00]\n",
      "  [ 5.44000000e+02  3.13000000e+02  3.63000000e+02 ...  8.15719753e-01\n",
      "   -9.93377483e-02 -1.15107373e+00]\n",
      "  ...\n",
      "  [ 8.57000000e+02  5.44000000e+02  5.18000000e+02 ...  7.56653992e-01\n",
      "   -1.56080748e-01 -1.05806244e+00]\n",
      "  [ 8.59000000e+02  5.68000000e+02  5.17000000e+02 ...  7.46824159e-01\n",
      "   -1.50346192e-01 -1.05185246e+00]\n",
      "  [ 8.69000000e+02  5.76000000e+02  5.18000000e+02 ...  7.32900533e-01\n",
      "   -2.40052470e-01 -9.77115616e-01]]\n",
      "\n",
      " [[ 5.93000000e+02  3.17000000e+02  3.82000000e+02 ...  8.37893122e-01\n",
      "   -4.89174018e-02 -1.23960919e+00]\n",
      "  [ 6.38000000e+02  3.63000000e+02  4.07000000e+02 ...  8.24722356e-01\n",
      "   -3.40651022e-02 -1.24459837e+00]\n",
      "  [ 5.91000000e+02  3.49000000e+02  3.94000000e+02 ...  8.16170661e-01\n",
      "   -6.78233438e-02 -1.19758092e+00]\n",
      "  ...\n",
      "  [ 8.28000000e+02  4.87000000e+02  4.83000000e+02 ...  7.97420965e-01\n",
      "   -1.75298805e-01 -1.11741486e+00]\n",
      "  [ 8.40000000e+02  5.18000000e+02  4.74000000e+02 ...  7.79855504e-01\n",
      "   -1.66666667e-01 -1.08819665e+00]\n",
      "  [ 8.27000000e+02  5.13000000e+02  4.79000000e+02 ...  7.58303887e-01\n",
      "   -2.14997627e-01 -1.01996717e+00]]\n",
      "\n",
      " ...\n",
      "\n",
      " [[ 1.96000000e+02  1.10000000e+02  3.08000000e+02 ... -1.16751269e-01\n",
      "    3.70629371e-01  1.65931597e-01]\n",
      "  [ 1.96000000e+02  1.15000000e+02  3.03000000e+02 ... -1.55778894e-01\n",
      "    3.61111111e-01  2.27602099e-01]\n",
      "  [ 2.04000000e+02  1.16000000e+02  3.08000000e+02 ... -8.41121495e-02\n",
      "    3.33333333e-01  1.32655839e-01]\n",
      "  ...\n",
      "  [ 4.60000000e+02  2.42000000e+02  4.58000000e+02 ... -2.10000000e-01\n",
      "    5.33333333e-01  1.80684039e-01]\n",
      "  [ 4.69000000e+02  2.48000000e+02  4.66000000e+02 ... -2.06812652e-01\n",
      "    5.37704918e-01  1.61940857e-01]\n",
      "  [ 4.69000000e+02  2.52000000e+02  4.64000000e+02 ... -2.20338983e-01\n",
      "    5.37704918e-01  1.81629306e-01]]\n",
      "\n",
      " [[ 1.86000000e+02  1.05000000e+02  3.05000000e+02 ... -1.05263158e-01\n",
      "    3.72693727e-01  1.28251664e-01]\n",
      "  [ 1.89000000e+02  1.04000000e+02  2.98000000e+02 ... -1.24324324e-01\n",
      "    3.74545455e-01  1.76955903e-01]\n",
      "  [ 2.08000000e+02  1.20000000e+02  3.14000000e+02 ... -9.58904110e-02\n",
      "    3.20634921e-01  1.53033268e-01]\n",
      "  ...\n",
      "  [ 4.61000000e+02  2.33000000e+02  4.52000000e+02 ... -2.07253886e-01\n",
      "    5.41806020e-01  1.73470102e-01]\n",
      "  [ 4.64000000e+02  2.38000000e+02  4.58000000e+02 ... -2.23650386e-01\n",
      "    5.46666667e-01  1.89403810e-01]\n",
      "  [ 4.52000000e+02  2.45000000e+02  4.53000000e+02 ... -2.34256927e-01\n",
      "    5.40034072e-01  1.96714265e-01]]\n",
      "\n",
      " [[ 1.85000000e+02  1.03000000e+02  3.01000000e+02 ... -1.38121547e-01\n",
      "    3.60294118e-01  2.20474488e-01]\n",
      "  [ 1.90000000e+02  1.03000000e+02  3.02000000e+02 ... -1.19565217e-01\n",
      "    3.52313167e-01  1.93850932e-01]\n",
      "  [ 2.13000000e+02  1.24000000e+02  3.20000000e+02 ... -9.73451327e-02\n",
      "    3.18885449e-01  1.48507923e-01]\n",
      "  ...\n",
      "  [ 4.54000000e+02  2.34000000e+02  4.53000000e+02 ... -2.31578947e-01\n",
      "    5.41595925e-01  2.10599926e-01]\n",
      "  [ 4.53000000e+02  2.30000000e+02  4.56000000e+02 ... -2.07349081e-01\n",
      "    5.38200340e-01  1.69548394e-01]\n",
      "  [ 4.51000000e+02  2.38000000e+02  4.51000000e+02 ... -2.02020202e-01\n",
      "    5.28813559e-01  1.55662586e-01]]]\n"
     ]
    }
   ],
   "source": [
    "#try seperate\n",
    "bands_data = []\n",
    "file1 = 'img_ds_s2_suva_new.tif'\n",
    "img_ds1 = gdal.Open(file1, gdal.GA_ReadOnly)\n",
    "img1 = np.zeros((img_ds1.RasterYSize, img_ds1.RasterXSize, img_ds1.RasterCount),\n",
    "               gdal_array.GDALTypeCodeToNumericTypeCode(img_ds1.GetRasterBand(1).DataType))\n",
    "#print(img.dtype)\n",
    "for b in range(img1.shape[2]):\n",
    "    print(b)\n",
    "    img1[:, :, b] = img_ds1.GetRasterBand(b + 1).ReadAsArray()\n",
    "    band = img_ds1.GetRasterBand(b + 1)\n",
    "    bands_data.append(band.ReadAsArray())\n",
    "#print(bands_data)\n",
    "#print(img1)"
   ]
  },
  {
   "cell_type": "code",
   "execution_count": 72,
   "metadata": {},
   "outputs": [
    {
     "name": "stdout",
     "output_type": "stream",
     "text": [
      "float64\n"
     ]
    }
   ],
   "source": [
    "print(img1.dtype)"
   ]
  },
  {
   "cell_type": "code",
   "execution_count": 4,
   "metadata": {},
   "outputs": [],
   "source": [
    "#file2 = '2018_img_ds_s2_Suva_new.tif'\n",
    "#img_ds2 = gdal.Open(file2, gdal.GA_ReadOnly)\n",
    "#img2 = np.zeros((img_ds2.RasterYSize, img_ds2.RasterXSize, img_ds2.RasterCount),\n",
    " #              gdal_array.GDALTypeCodeToNumericTypeCode(img_ds2.GetRasterBand(1).DataType))\n",
    "#print(img.dtype)\n",
    "#for b in range(img2.shape[2]):\n",
    "#    print(b)\n",
    "#    img2[:, :, b] = img_ds2.GetRasterBand(b + 1).ReadAsArray()\n",
    "#    band2 = img_ds2.GetRasterBand(b + 1)\n",
    "#    bands_data.append(band2.ReadAsArray())\n",
    "#print(bands_data)"
   ]
  },
  {
   "cell_type": "code",
   "execution_count": 86,
   "metadata": {},
   "outputs": [],
   "source": [
    "#img_ds = np.asarray(bands_data)"
   ]
  },
  {
   "cell_type": "code",
   "execution_count": 5,
   "metadata": {},
   "outputs": [],
   "source": [
    "#print(test)"
   ]
  },
  {
   "cell_type": "code",
   "execution_count": 6,
   "metadata": {},
   "outputs": [],
   "source": [
    "#path to image\n",
    "#path to training/test data\n",
    "#roi_ds = gdal.Open('testoutput.tif', gdal.GA_ReadOnly)\n",
    "roi_ds = gdal.Open('my_s2.tif', gdal.GA_ReadOnly)\n",
    "img_ds = gdal.Open('combine_test_Suva.tif', gdal.GA_ReadOnly)"
   ]
  },
  {
   "cell_type": "code",
   "execution_count": 7,
   "metadata": {},
   "outputs": [
    {
     "name": "stdout",
     "output_type": "stream",
     "text": [
      "<osgeo.gdal.Dataset; proxy of <Swig Object of type 'GDALDatasetShadow *' at 0x7f3ca0654a80> >\n"
     ]
    }
   ],
   "source": [
    "print(img_ds)"
   ]
  },
  {
   "cell_type": "code",
   "execution_count": 12,
   "metadata": {},
   "outputs": [],
   "source": [
    "roi_dataset = roi_ds.GetRasterBand(1).ReadAsArray().astype(np.uint8)"
   ]
  },
  {
   "cell_type": "code",
   "execution_count": 13,
   "metadata": {},
   "outputs": [
    {
     "name": "stdout",
     "output_type": "stream",
     "text": [
      "5\n"
     ]
    }
   ],
   "source": [
    "print(roi_dataset.max())"
   ]
  },
  {
   "cell_type": "markdown",
   "metadata": {},
   "source": [
    "roi = np.zeros((roi_ds.RasterYSize, roi_ds.RasterXSize, roi_ds.RasterCount),\n",
    "               gdal_array.GDALTypeCodeToNumericTypeCode(roi_ds.GetRasterBand(1).DataType))\n",
    "for b in range(roi.shape[2]):\n",
    "    roi[:, :, b] = roi_ds.GetRasterBand(b + 1).ReadAsArray()\n",
    "print(roi)"
   ]
  },
  {
   "cell_type": "code",
   "execution_count": 15,
   "metadata": {},
   "outputs": [
    {
     "name": "stdout",
     "output_type": "stream",
     "text": [
      "0\n",
      "1\n",
      "2\n",
      "3\n",
      "4\n",
      "5\n",
      "6\n",
      "7\n",
      "8\n",
      "9\n",
      "10\n",
      "11\n",
      "12\n",
      "13\n",
      "14\n",
      "15\n",
      "16\n",
      "17\n",
      "18\n",
      "19\n"
     ]
    }
   ],
   "source": [
    "img = np.zeros((img_ds.RasterYSize, img_ds.RasterXSize, img_ds.RasterCount),\n",
    "               gdal_array.GDALTypeCodeToNumericTypeCode(img_ds.GetRasterBand(1).DataType))\n",
    "#print(img.dtype)\n",
    "for b in range(img.shape[2]):\n",
    "    img[:, :, b] = img_ds.GetRasterBand(b + 1).ReadAsArray()\n",
    "    print(b)\n",
    "#print(img)"
   ]
  },
  {
   "cell_type": "code",
   "execution_count": 16,
   "metadata": {},
   "outputs": [],
   "source": [
    "#print(img)"
   ]
  },
  {
   "cell_type": "code",
   "execution_count": 95,
   "metadata": {},
   "outputs": [
    {
     "ename": "ModuleNotFoundError",
     "evalue": "No module named 'sklearn_xarray'",
     "output_type": "error",
     "traceback": [
      "\u001b[0;31m---------------------------------------------------------------------------\u001b[0m",
      "\u001b[0;31mModuleNotFoundError\u001b[0m                       Traceback (most recent call last)",
      "\u001b[0;32m<ipython-input-95-e3ec412cd8fe>\u001b[0m in \u001b[0;36m<module>\u001b[0;34m\u001b[0m\n\u001b[0;32m----> 1\u001b[0;31m \u001b[0;32mfrom\u001b[0m \u001b[0msklearn_xarray\u001b[0m \u001b[0;32mimport\u001b[0m \u001b[0mwrap\u001b[0m\u001b[0;34m\u001b[0m\u001b[0;34m\u001b[0m\u001b[0m\n\u001b[0m\u001b[1;32m      2\u001b[0m \u001b[0;32mfrom\u001b[0m \u001b[0msklearn_xarray\u001b[0m\u001b[0;34m.\u001b[0m\u001b[0mdatasets\u001b[0m \u001b[0;32mimport\u001b[0m \u001b[0mload_dummy_dataset\u001b[0m\u001b[0;34m\u001b[0m\u001b[0;34m\u001b[0m\u001b[0m\n\u001b[1;32m      3\u001b[0m \u001b[0;32mfrom\u001b[0m \u001b[0msklearn\u001b[0m\u001b[0;34m.\u001b[0m\u001b[0mpreprocessing\u001b[0m \u001b[0;32mimport\u001b[0m \u001b[0mStandardScaler\u001b[0m\u001b[0;34m\u001b[0m\u001b[0;34m\u001b[0m\u001b[0m\n\u001b[1;32m      4\u001b[0m \u001b[0;34m\u001b[0m\u001b[0m\n\u001b[1;32m      5\u001b[0m \u001b[0mX\u001b[0m \u001b[0;34m=\u001b[0m \u001b[0mload_dummy_dataset\u001b[0m\u001b[0;34m(\u001b[0m\u001b[0;34m)\u001b[0m\u001b[0;34m\u001b[0m\u001b[0;34m\u001b[0m\u001b[0m\n",
      "\u001b[0;31mModuleNotFoundError\u001b[0m: No module named 'sklearn_xarray'"
     ]
    }
   ],
   "source": [
    "from sklearn_xarray import wrap\n",
    "from sklearn_xarray.datasets import load_dummy_dataset\n",
    "from sklearn.preprocessing import StandardScaler\n",
    "\n",
    "X = load_dummy_dataset()\n",
    "print(X)\n",
    "wrapper = wrap(StandardScaler())\n",
    "print(wrapper)\n",
    "wrapper = wrapper.fit(X)\n",
    "#print(wrapper)\n",
    "\n",
    "#wrapper.estimator_dict_\n",
    "#{'var_1': StandardScaler(copy=True, with_mean=True, with_std=True)}"
   ]
  },
  {
   "cell_type": "code",
   "execution_count": 96,
   "metadata": {},
   "outputs": [],
   "source": [
    "img = img_ds"
   ]
  },
  {
   "cell_type": "code",
   "execution_count": 17,
   "metadata": {},
   "outputs": [
    {
     "data": {
      "image/png": "[encoded data removed]",
      "text/plain": [
       "<Figure size 432x288 with 2 Axes>"
      ]
     },
     "metadata": {
      "needs_background": "light"
     },
     "output_type": "display_data"
    }
   ],
   "source": [
    "# Display the image and the Training/Test raster\n",
    "plt.subplot(121)\n",
    "plt.imshow(img[:, :, 0], cmap=plt.cm.Greys_r)\n",
    "plt.title('Image')\n",
    "plt.subplot(122)\n",
    "plt.imshow(roi_dataset, cmap=plt.cm.Spectral, vmin=0, vmax=0.5)\n",
    "plt.title('ROI Training Data')\n",
    "plt.show()"
   ]
  },
  {
   "cell_type": "code",
   "execution_count": 18,
   "metadata": {},
   "outputs": [
    {
     "name": "stdout",
     "output_type": "stream",
     "text": [
      "The training data include 5 classes: [1 2 3 4 5]\n"
     ]
    }
   ],
   "source": [
    "labels = np.unique(roi_dataset[roi_dataset > 0])\n",
    "print('The training data include {n} classes: {classes}'.format(n=labels.size, classes=labels))"
   ]
  },
  {
   "cell_type": "code",
   "execution_count": 19,
   "metadata": {},
   "outputs": [],
   "source": [
    "#set X and y as image and training/test data.\n",
    "#X = img[roi_dataset > 0, :]\n",
    "X = img[roi_dataset > 0, :]\n",
    "y = roi_dataset[roi_dataset > 0 ]"
   ]
  },
  {
   "cell_type": "code",
   "execution_count": 20,
   "metadata": {},
   "outputs": [],
   "source": [
    "#Split the data into training and testing, by 80:20 split.\n",
    "X_train, X_test, y_train, y_test = train_test_split(X, y, test_size=0.4, random_state=0, stratify=y)"
   ]
  },
  {
   "cell_type": "code",
   "execution_count": 21,
   "metadata": {},
   "outputs": [
    {
     "name": "stdout",
     "output_type": "stream",
     "text": [
      "counts\n",
      "Train counts [31559   488   483 31420   583]\n",
      "Test counts [21040   326   321 20947   389]\n"
     ]
    }
   ],
   "source": [
    "unique, counts = np.unique(y_train, return_counts=True)\n",
    "dict_ytrain = dict(zip(unique, counts))\n",
    "unique2, counts2 = np.unique(y_test, return_counts=True)\n",
    "dict_ytest = dict(zip(unique2,counts2))\n",
    "print(\"counts\")\n",
    "print('Train counts', counts)\n",
    "print('Test counts', counts2)\n"
   ]
  },
  {
   "cell_type": "code",
   "execution_count": 22,
   "metadata": {},
   "outputs": [],
   "source": [
    "X_train2 = np.nan_to_num(X_train)\n",
    "y_train2 = np.nan_to_num(y_train)"
   ]
  },
  {
   "cell_type": "code",
   "execution_count": 23,
   "metadata": {},
   "outputs": [],
   "source": [
    "X_test2 = np.nan_to_num(X_test)\n",
    "y_test2 = np.nan_to_num(y_test)"
   ]
  },
  {
   "cell_type": "code",
   "execution_count": 24,
   "metadata": {},
   "outputs": [],
   "source": [
    "# Initialize random forest model with 200 trees, and balanced class weight\n",
    "rf = RandomForestClassifier(n_estimators=200, oob_score=True, class_weight=\"balanced\", min_samples_leaf=100)\n",
    "rf = rf.fit(X_train2,y_train2)"
   ]
  },
  {
   "cell_type": "code",
   "execution_count": 25,
   "metadata": {},
   "outputs": [
    {
     "name": "stdout",
     "output_type": "stream",
     "text": [
      "Our OOB prediction of accuracy is: 96.82023150946027%\n"
     ]
    }
   ],
   "source": [
    "print('Our OOB prediction of accuracy is: {oob}%'.format(oob=rf.oob_score_ * 100))"
   ]
  },
  {
   "cell_type": "code",
   "execution_count": 26,
   "metadata": {},
   "outputs": [],
   "source": [
    "# Setup a dataframe, for truth and predicted values of training data\n",
    "df = pd.DataFrame()\n",
    "df['truth'] = y_train2\n",
    "df['predict'] = rf.predict(X_train2)\n",
    "# Setup a dataframe, for truth and predicted values of test data\n",
    "df2 = pd.DataFrame()\n",
    "df2['truth'] = y_test2\n",
    "df2['predict'] = rf.predict(X_test2)"
   ]
  },
  {
   "cell_type": "code",
   "execution_count": 27,
   "metadata": {},
   "outputs": [
    {
     "name": "stdout",
     "output_type": "stream",
     "text": [
      "predict      1    2    3      4     5    All\n",
      "truth                                       \n",
      "1        19763   31  616      9   621  21040\n",
      "2            0  325    1      0     0    326\n",
      "3            7    3  304      0     7    321\n",
      "4            0    0    0  20929    18  20947\n",
      "5            3    5   11      0   370    389\n",
      "All      19773  364  932  20938  1016  43023\n"
     ]
    }
   ],
   "source": [
    "# Cross-tabulate predictions\n",
    "print(pd.crosstab(df2['truth'], df2['predict'], margins=True))"
   ]
  },
  {
   "cell_type": "code",
   "execution_count": 28,
   "metadata": {},
   "outputs": [],
   "source": [
    "#pip install https://github.com/phausamann/sklearn-xarray/archive/master.zip"
   ]
  },
  {
   "cell_type": "code",
   "execution_count": 29,
   "metadata": {},
   "outputs": [
    {
     "name": "stdout",
     "output_type": "stream",
     "text": [
      "this is kappa 94.24373982489774\n"
     ]
    }
   ],
   "source": [
    "#calculate kappa score\n",
    "#print(\"this is kappa\", cohen_kappa_score(df2['truth'], df2['predict'])) *100\n",
    "kappaScore = cohen_kappa_score(df2['truth'], df2['predict'])\n",
    "kSPer = kappaScore*100\n",
    "print(\"this is kappa\", kSPer) \n",
    "#print(\"this is kappa\", cohen_kappa_score(df2['truth'], df2['predict']))\n"
   ]
  },
  {
   "cell_type": "code",
   "execution_count": 30,
   "metadata": {},
   "outputs": [
    {
     "name": "stdout",
     "output_type": "stream",
     "text": [
      "accuracy score 0.969039815912419\n",
      "              precision    recall  f1-score   support\n",
      "\n",
      "           1       1.00      0.94      0.97     21040\n",
      "           2       0.89      1.00      0.94       326\n",
      "           3       0.33      0.95      0.49       321\n",
      "           4       1.00      1.00      1.00     20947\n",
      "           5       0.36      0.95      0.53       389\n",
      "\n",
      "    accuracy                           0.97     43023\n",
      "   macro avg       0.72      0.97      0.78     43023\n",
      "weighted avg       0.99      0.97      0.98     43023\n",
      "\n"
     ]
    }
   ],
   "source": [
    "#calculate accuracy score\n",
    "print('accuracy score', accuracy_score(df2['truth'], df2['predict']))\n",
    "#print classification report\n",
    "print(classification_report(df2['truth'], df2['predict']))"
   ]
  },
  {
   "cell_type": "code",
   "execution_count": 31,
   "metadata": {},
   "outputs": [],
   "source": [
    "#This function prints and plots the confusion matrix.\n",
    "def plot_confusion_matrix(y_true, y_pred, classes,\n",
    "                          normalize=False,\n",
    "                          cmap=plt.cm.Blues, annot=True, annot_kws={\"size\": 3}):\n",
    "    # Compute confusion matrix\n",
    "    cm = confusion_matrix(df2['truth'], df2['predict'])\n",
    "    # Only use the labels that appear in the data\n",
    "    #classes = ('Built-up', 'Forest', 'Water', 'Grass', 'WB', 'WW', 'OSR')\n",
    "    classes = ('Built-up', 'Forest', 'Grass', 'Water', 'Bare Soil')\n",
    "    print(\"diagonal\", cm.diagonal()/cm.sum(axis=1))\n",
    "    if normalize:\n",
    "        cm = cm.astype('float') / cm.sum(axis=1)[:, np.newaxis]\n",
    "        print(\"Normalized confusion matrix\")\n",
    "    else:\n",
    "        print('Confusion matrix, without normalization')\n",
    "\n",
    "    print(cm)\n",
    "    VALUE_SIZE = 10\n",
    "    LABEL_SIZE = 12\n",
    "\n",
    "    fig, ax = plt.subplots()\n",
    "    im = ax.imshow(cm, interpolation='nearest', cmap=cmap)\n",
    "    ax.figure.colorbar(im, ax=ax)\n",
    "    #show tick labels and label them with list enteries.\n",
    "    ax.set(xticks=np.arange(cm.shape[1]),\n",
    "           yticks=np.arange(cm.shape[0]),\n",
    "           xticklabels=classes, yticklabels=classes,\n",
    "           ylabel='True label',\n",
    "           xlabel='Predicted label')\n",
    "\n",
    "    # Rotate the tick labels and set their alignment.\n",
    "    plt.setp(ax.get_xticklabels(), rotation=45, ha=\"right\",\n",
    "             rotation_mode=\"anchor\", fontsize = LABEL_SIZE)\n",
    "    plt.setp(ax.get_yticklabels(), fontsize = LABEL_SIZE)\n",
    "    #path for output of normalised and non-normalised confusion matrices\n",
    "    notn = 'cm.png'\n",
    "    norm = 'ncm.png'\n",
    "\n",
    "    # Loop over data dimensions and create text annotations.\n",
    "    fmt = '.2f' if normalize else 'd'\n",
    "    thresh = cm.max() / 2.\n",
    "    for i in range(cm.shape[0]):\n",
    "        for j in range(cm.shape[1]):\n",
    "            ax.text(j, i, format(cm[i, j], fmt),\n",
    "                    ha=\"center\", va=\"center\", fontsize=VALUE_SIZE,\n",
    "                    color=\"white\" if cm[i, j] > thresh else \"black\")\n",
    "    fig.tight_layout()\n",
    "    #save the outputs on the confusion matrices\n",
    "    if normalize:\n",
    "        plt.savefig(norm)\n",
    "        print(\"saved to\", norm)\n",
    "    else:\n",
    "        plt.savefig(notn)\n",
    "        print(\"saved to\", notn)\n",
    "    return ax\n"
   ]
  },
  {
   "cell_type": "code",
   "execution_count": 32,
   "metadata": {},
   "outputs": [
    {
     "name": "stdout",
     "output_type": "stream",
     "text": [
      "diagonal [0.94 1.   0.95 1.   0.95]\n",
      "Confusion matrix, without normalization\n",
      "[[19763    31   616     9   621]\n",
      " [    0   325     1     0     0]\n",
      " [    7     3   304     0     7]\n",
      " [    0     0     0 20929    18]\n",
      " [    3     5    11     0   370]]\n",
      "saved to cm.png\n",
      "diagonal [0.94 1.   0.95 1.   0.95]\n",
      "Normalized confusion matrix\n",
      "[[9.39e-01 1.47e-03 2.93e-02 4.28e-04 2.95e-02]\n",
      " [0.00e+00 9.97e-01 3.07e-03 0.00e+00 0.00e+00]\n",
      " [2.18e-02 9.35e-03 9.47e-01 0.00e+00 2.18e-02]\n",
      " [0.00e+00 0.00e+00 0.00e+00 9.99e-01 8.59e-04]\n",
      " [7.71e-03 1.29e-02 2.83e-02 0.00e+00 9.51e-01]]\n",
      "saved to ncm.png\n"
     ]
    },
    {
     "data": {
      "image/png": "[encoded data removed]",
      "text/plain": [
       "<Figure size 432x288 with 2 Axes>"
      ]
     },
     "metadata": {
      "needs_background": "light"
     },
     "output_type": "display_data"
    },
    {
     "data": {
      "image/png": "[encoded data removed]",
      "text/plain": [
       "<Figure size 432x288 with 2 Axes>"
      ]
     },
     "metadata": {
      "needs_background": "light"
     },
     "output_type": "display_data"
    }
   ],
   "source": [
    "#class labels\n",
    "classes = ('Built-up', 'Forest', 'Grass', 'Water', 'Bare Soil')\n",
    "\n",
    "np.set_printoptions(precision=2)\n",
    "# Plot non-normalized confusion matrix\n",
    "plot_confusion_matrix(df2['truth'], df2['predict'], classes=classes)\n",
    "\n",
    "# Plot normalized confusion matrix\n",
    "plot_confusion_matrix(df2['truth'], df2['predict'], classes=classes, normalize=True)\n",
    "plt.show()\n",
    "\n"
   ]
  },
  {
   "cell_type": "code",
   "execution_count": 33,
   "metadata": {},
   "outputs": [],
   "source": [
    "# Use full image, reshape to 2darray for classification (nrow * ncol, nband)\n",
    "new_shape = (img.shape[0] * img.shape[1], img.shape[2])\n",
    "img_as_array = img[:, :, :].reshape(new_shape)"
   ]
  },
  {
   "cell_type": "code",
   "execution_count": 34,
   "metadata": {},
   "outputs": [],
   "source": [
    "img_as_array2 = np.nan_to_num(img_as_array)"
   ]
  },
  {
   "cell_type": "code",
   "execution_count": 35,
   "metadata": {},
   "outputs": [],
   "source": [
    "# Now predict each pixel in the image.\n",
    "class_prediction = rf.predict(img_as_array2)"
   ]
  },
  {
   "cell_type": "code",
   "execution_count": 36,
   "metadata": {},
   "outputs": [
    {
     "name": "stdout",
     "output_type": "stream",
     "text": [
      "[1 2 3 4 5]\n"
     ]
    }
   ],
   "source": [
    "# Reshape classification map\n",
    "class_prediction = class_prediction.reshape(img[:, :, 0].shape)\n",
    "print(np.unique(class_prediction))\n",
    "#im = ImageSave.fromarray(class_prediction)\n",
    "#im.save('map.tif')"
   ]
  },
  {
   "cell_type": "code",
   "execution_count": 37,
   "metadata": {},
   "outputs": [
    {
     "name": "stdout",
     "output_type": "stream",
     "text": [
      "(1368, 1626)\n",
      "1368\n"
     ]
    }
   ],
   "source": [
    "print(class_prediction.shape)\n",
    "xsize = class_prediction.shape[0]\n",
    "ysize = class_prediction.shape[1]\n",
    "print(xsize)"
   ]
  },
  {
   "cell_type": "code",
   "execution_count": 38,
   "metadata": {},
   "outputs": [
    {
     "data": {
      "image/png": "[encoded data removed]",
      "text/plain": [
       "<Figure size 720x432 with 1 Axes>"
      ]
     },
     "metadata": {},
     "output_type": "display_data"
    }
   ],
   "source": [
    "# use seaborne raster plots\n",
    "sns.set_style(\"white\")\n",
    "#set colours for each class\n",
    "colors = ['red', 'darkgreen', 'lightgreen', 'blue', 'orange']\n",
    "cmap = ListedColormap(colors)\n",
    "# Plot newly classified and masked raster\n",
    "fig, ax = plt.subplots(figsize = (10,6))\n",
    "ax.imshow(class_prediction, cmap = cmap)\n",
    "ax.set_yticks([])\n",
    "ax.set_xticks([])\n",
    "ax.legend(np.unique(class_prediction))\n",
    "plt.show()"
   ]
  },
  {
   "cell_type": "code",
   "execution_count": 39,
   "metadata": {},
   "outputs": [],
   "source": [
    "dst_filename = 'combined_run.tiff'\n",
    "x_pixels = ysize  # number of pixels in x\n",
    "y_pixels = xsize  # number of pixels in y\n",
    "driver = gdal.GetDriverByName('GTiff')\n",
    "dataset = driver.Create(dst_filename, x_pixels, y_pixels, 1,gdal.GDT_Float32)\n",
    "dataset.GetRasterBand(1).WriteArray(class_prediction)\n",
    "\n",
    "# follow code is adding GeoTranform and Projection\n",
    "geotrans=img_ds.GetGeoTransform()  #get GeoTranform from existed 'data0'\n",
    "proj=img_ds.GetProjection() #you can get from a exsited tif or import \n",
    "dataset.SetGeoTransform(geotrans)\n",
    "dataset.SetProjection(proj)\n",
    "dataset.FlushCache()\n",
    "dataset=None"
   ]
  },
  {
   "cell_type": "markdown",
   "metadata": {},
   "source": [
    "## Test on new area"
   ]
  },
  {
   "cell_type": "code",
   "execution_count": 40,
   "metadata": {},
   "outputs": [],
   "source": [
    "#img_ds2 = gdal.Open('img_ds2.tiff', gdal.GA_ReadOnly)\n",
    "img_ds2 = gdal.Open('combine_test_Nadi.tif', gdal.GA_ReadOnly)"
   ]
  },
  {
   "cell_type": "code",
   "execution_count": 41,
   "metadata": {},
   "outputs": [
    {
     "name": "stdout",
     "output_type": "stream",
     "text": [
      "0\n",
      "1\n",
      "2\n",
      "3\n",
      "4\n",
      "5\n",
      "6\n",
      "7\n",
      "8\n",
      "9\n",
      "10\n",
      "11\n",
      "12\n",
      "13\n",
      "14\n",
      "15\n",
      "16\n",
      "17\n",
      "18\n",
      "19\n"
     ]
    }
   ],
   "source": [
    "img2 = np.zeros((img_ds2.RasterYSize, img_ds2.RasterXSize, img_ds2.RasterCount),\n",
    "               gdal_array.GDALTypeCodeToNumericTypeCode(img_ds2.GetRasterBand(1).DataType))\n",
    "#print(img.dtype)\n",
    "for b in range(img2.shape[2]):\n",
    "    img2[:, :, b] = img_ds2.GetRasterBand(b + 1).ReadAsArray()\n",
    "    print(b)\n",
    "#print(img2)"
   ]
  },
  {
   "cell_type": "code",
   "execution_count": 42,
   "metadata": {},
   "outputs": [],
   "source": [
    "# Use full image, reshape to 2darray for classification (nrow * ncol, nband)\n",
    "new_shape3 = (img2.shape[0] * img2.shape[1], img2.shape[2])\n",
    "img_as_array3 = img2[:, :, :].reshape(new_shape3)"
   ]
  },
  {
   "cell_type": "code",
   "execution_count": 43,
   "metadata": {},
   "outputs": [],
   "source": [
    "img_as_array4 = np.nan_to_num(img_as_array3)"
   ]
  },
  {
   "cell_type": "code",
   "execution_count": 44,
   "metadata": {},
   "outputs": [],
   "source": [
    "# Now predict each pixel in the image.\n",
    "class_prediction2 = rf.predict(img_as_array4)"
   ]
  },
  {
   "cell_type": "code",
   "execution_count": 45,
   "metadata": {},
   "outputs": [
    {
     "name": "stdout",
     "output_type": "stream",
     "text": [
      "[1 2 3 4 5]\n"
     ]
    }
   ],
   "source": [
    "# Reshape classification map\n",
    "class_prediction2 = class_prediction2.reshape(img2[:, :, 0].shape)\n",
    "print(np.unique(class_prediction2))\n",
    "#im = ImageSave.fromarray(class_prediction)\n",
    "#im.save('map.tif')"
   ]
  },
  {
   "cell_type": "code",
   "execution_count": 46,
   "metadata": {},
   "outputs": [
    {
     "name": "stdout",
     "output_type": "stream",
     "text": [
      "(1141, 1602)\n",
      "1141\n"
     ]
    }
   ],
   "source": [
    "print(class_prediction2.shape)\n",
    "xsize2 = class_prediction2.shape[0]\n",
    "ysize2 = class_prediction2.shape[1]\n",
    "print(xsize2)"
   ]
  },
  {
   "cell_type": "code",
   "execution_count": 47,
   "metadata": {},
   "outputs": [
    {
     "data": {
      "image/png": "[encoded data removed]",
      "text/plain": [
       "<Figure size 720x432 with 1 Axes>"
      ]
     },
     "metadata": {},
     "output_type": "display_data"
    }
   ],
   "source": [
    "# use seaborne raster plots\n",
    "sns.set_style(\"white\")\n",
    "#set colours for each class\n",
    "colors = ['red', 'darkgreen', 'lightgreen', 'blue', 'orange']\n",
    "cmap = ListedColormap(colors)\n",
    "# Plot newly classified and masked raster\n",
    "fig, ax = plt.subplots(figsize = (10,6))\n",
    "ax.imshow(class_prediction2, cmap = cmap)\n",
    "ax.set_yticks([])\n",
    "ax.set_xticks([])\n",
    "ax.legend(np.unique(class_prediction2))\n",
    "plt.show()"
   ]
  },
  {
   "cell_type": "code",
   "execution_count": 48,
   "metadata": {},
   "outputs": [],
   "source": [
    "dst_filename = 'combine_run_nadi.tiff'\n",
    "x_pixels = ysize  # number of pixels in x\n",
    "y_pixels = xsize  # number of pixels in y\n",
    "driver = gdal.GetDriverByName('GTiff')\n",
    "dataset = driver.Create(dst_filename,x_pixels, y_pixels, 1,gdal.GDT_Float32)\n",
    "dataset.GetRasterBand(1).WriteArray(class_prediction2)\n",
    "\n",
    "# follow code is adding GeoTranform and Projection\n",
    "geotrans=img_ds2.GetGeoTransform()  #get GeoTranform from existed 'data0'\n",
    "proj=img_ds2.GetProjection() #you can get from a exsited tif or import \n",
    "dataset.SetGeoTransform(geotrans)\n",
    "dataset.SetProjection(proj)\n",
    "dataset.FlushCache()\n",
    "dataset=None"
   ]
  },
  {
   "cell_type": "code",
   "execution_count": null,
   "metadata": {},
   "outputs": [],
   "source": []
  },
  {
   "cell_type": "code",
   "execution_count": null,
   "metadata": {},
   "outputs": [],
   "source": []
  }
 ],
 "metadata": {
  "kernelspec": {
   "display_name": "Python [conda env:cubeenv]",
   "language": "python",
   "name": "conda-env-cubeenv-py"
  },
  "language_info": {
   "codemirror_mode": {
    "name": "ipython",
    "version": 3
   },
   "file_extension": ".py",
   "mimetype": "text/x-python",
   "name": "python",
   "nbconvert_exporter": "python",
   "pygments_lexer": "ipython3",
   "version": "3.6.10"
  }
 },
 "nbformat": 4,
 "nbformat_minor": 2
}
