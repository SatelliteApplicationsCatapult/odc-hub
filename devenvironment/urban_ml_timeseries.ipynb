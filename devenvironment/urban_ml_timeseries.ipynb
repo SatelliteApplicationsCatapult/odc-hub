{
 "cells": [
  {
   "cell_type": "code",
   "execution_count": 1,
   "metadata": {},
   "outputs": [],
   "source": [
    "#carry out ML to extract urban areas. \n",
    "#can then extend this back in time to get when urban change took place."
   ]
  },
  {
   "cell_type": "code",
   "execution_count": 2,
   "metadata": {},
   "outputs": [],
   "source": [
    "# Magic + imports likely common across all notebooks\n",
    "%load_ext autoreload\n",
    "%autoreload 2\n",
    "%matplotlib inline\n",
    "# Supress Warning \n",
    "import warnings\n",
    "warnings.filterwarnings('ignore')\n",
    "# Set reference for util modules\n",
    "#import sys\n",
    "#sys.path.append('/home/jovyan/odc-hub/')\n",
    "# Generic python\n",
    "import matplotlib.pyplot as plt\n",
    "import numpy as np\n",
    "import xarray as xr \n",
    "import odc.algo\n",
    "\n",
    "# Bonus vector manipulation\n",
    "import pandas as pd\n",
    "import geopandas as gpd\n",
    "from shapely import wkt\n",
    "from datetime import datetime\n",
    "import datacube\n",
    "\n",
    "import dask\n",
    "\n",
    "CMAP = \"Blues\""
   ]
  },
  {
   "cell_type": "code",
   "execution_count": 3,
   "metadata": {},
   "outputs": [],
   "source": [
    "from __future__ import print_function, division\n",
    "from osgeo import gdal, gdal_array\n",
    "import numpy as np\n",
    "import pandas as pd\n",
    "import matplotlib.pyplot as plt\n",
    "from sklearn.metrics import confusion_matrix\n",
    "from sklearn import metrics\n",
    "from sklearn.metrics import accuracy_score, cohen_kappa_score, mean_squared_error, classification_report\n",
    "from matplotlib.colors import ListedColormap, BoundaryNorm\n",
    "from sklearn.ensemble import RandomForestClassifier\n",
    "from sklearn.model_selection import train_test_split\n",
    "import seaborn as sns\n",
    "from PIL import Image as ImageSave\n",
    "from math import sqrt\n",
    "import os\n",
    "from IPython.display import Image"
   ]
  },
  {
   "cell_type": "code",
   "execution_count": 4,
   "metadata": {},
   "outputs": [
    {
     "name": "stdout",
     "output_type": "stream",
     "text": [
      "Requirement already satisfied: datacube_utilities from git+https://github.com/SatelliteApplicationsCatapult/datacube-utilities.git#egg=datacube_utilities in /opt/conda/envs/cubeenv/lib/python3.6/site-packages (0.0.1)\n",
      "Requirement already satisfied: lcmap-pyccd==2017.08.18 in /opt/conda/envs/cubeenv/lib/python3.6/site-packages (from datacube_utilities) (2017.8.18)\n",
      "Requirement already satisfied: scipy==1.4.1 in /opt/conda/envs/cubeenv/lib/python3.6/site-packages (from datacube_utilities) (1.4.1)\n",
      "Requirement already satisfied: xarray==0.15.1 in /opt/conda/envs/cubeenv/lib/python3.6/site-packages (from datacube_utilities) (0.15.1)\n",
      "Requirement already satisfied: matplotlib==3.2.1 in /opt/conda/envs/cubeenv/lib/python3.6/site-packages (from datacube_utilities) (3.2.1)\n",
      "Requirement already satisfied: msgpack==1.0.0 in /opt/conda/envs/cubeenv/lib/python3.6/site-packages (from datacube_utilities) (1.0.0)\n",
      "Requirement already satisfied: numpy==1.18.1 in /opt/conda/envs/cubeenv/lib/python3.6/site-packages (from datacube_utilities) (1.18.1)\n",
      "Requirement already satisfied: scikit-learn==0.22.2.post1 in /opt/conda/envs/cubeenv/lib/python3.6/site-packages (from datacube_utilities) (0.22.2.post1)\n",
      "Requirement already satisfied: blosc==1.9.0 in /opt/conda/envs/cubeenv/lib/python3.6/site-packages (from datacube_utilities) (1.9.0)\n",
      "Requirement already satisfied: folium==0.10.1 in /opt/conda/envs/cubeenv/lib/python3.6/site-packages (from datacube_utilities) (0.10.1)\n",
      "Requirement already satisfied: shapely==1.7.0 in /opt/conda/envs/cubeenv/lib/python3.6/site-packages (from datacube_utilities) (1.7.0)\n",
      "Requirement already satisfied: dask==2.14.0 in /opt/conda/envs/cubeenv/lib/python3.6/site-packages (from datacube_utilities) (2.14.0)\n",
      "Requirement already satisfied: ipyleaflet==0.12.3 in /opt/conda/envs/cubeenv/lib/python3.6/site-packages (from datacube_utilities) (0.12.3)\n",
      "Requirement already satisfied: ruamel.yaml==0.15.87 in /opt/conda/envs/cubeenv/lib/python3.6/site-packages (from datacube_utilities) (0.15.87)\n",
      "Requirement already satisfied: gdal==2.4.4 in /opt/conda/envs/cubeenv/lib/python3.6/site-packages (from datacube_utilities) (2.4.4)\n",
      "Requirement already satisfied: seaborn==0.10.0 in /opt/conda/envs/cubeenv/lib/python3.6/site-packages (from datacube_utilities) (0.10.0)\n",
      "Requirement already satisfied: toolz==0.10.0 in /opt/conda/envs/cubeenv/lib/python3.6/site-packages (from datacube_utilities) (0.10.0)\n",
      "Requirement already satisfied: distributed==2.14.0 in /opt/conda/envs/cubeenv/lib/python3.6/site-packages (from datacube_utilities) (2.14.0)\n",
      "Requirement already satisfied: datacube==1.7 in /opt/conda/envs/cubeenv/lib/python3.6/site-packages (from datacube_utilities) (1.7)\n",
      "Requirement already satisfied: boto3==1.12.36 in /opt/conda/envs/cubeenv/lib/python3.6/site-packages (from datacube_utilities) (1.12.36)\n",
      "Requirement already satisfied: lz4==3.0.2 in /opt/conda/envs/cubeenv/lib/python3.6/site-packages (from datacube_utilities) (3.0.2)\n",
      "Requirement already satisfied: hdmedians==0.13 in /opt/conda/envs/cubeenv/lib/python3.6/site-packages (from datacube_utilities) (0.13)\n",
      "Requirement already satisfied: tornado==6.0.4 in /opt/conda/envs/cubeenv/lib/python3.6/site-packages (from datacube_utilities) (6.0.4)\n",
      "Requirement already satisfied: geopandas==0.7.0 in /opt/conda/envs/cubeenv/lib/python3.6/site-packages (from datacube_utilities) (0.7.0)\n",
      "Requirement already satisfied: descartes==1.1.0 in /opt/conda/envs/cubeenv/lib/python3.6/site-packages (from datacube_utilities) (1.1.0)\n",
      "Requirement already satisfied: cloudpickle==1.3.0 in /opt/conda/envs/cubeenv/lib/python3.6/site-packages (from datacube_utilities) (1.3.0)\n",
      "Requirement already satisfied: scikit-image==0.16.2 in /opt/conda/envs/cubeenv/lib/python3.6/site-packages (from datacube_utilities) (0.16.2)\n",
      "Requirement already satisfied: rasterstats==0.14.0 in /opt/conda/envs/cubeenv/lib/python3.6/site-packages (from datacube_utilities) (0.14.0)\n",
      "Requirement already satisfied: PyYAML>=3.12 in /opt/conda/envs/cubeenv/lib/python3.6/site-packages (from lcmap-pyccd==2017.08.18->datacube_utilities) (5.3.1)\n",
      "Requirement already satisfied: cachetools>=2.0.0 in /opt/conda/envs/cubeenv/lib/python3.6/site-packages (from lcmap-pyccd==2017.08.18->datacube_utilities) (3.1.1)\n",
      "Requirement already satisfied: click-plugins>=1.0.3 in /opt/conda/envs/cubeenv/lib/python3.6/site-packages (from lcmap-pyccd==2017.08.18->datacube_utilities) (1.1.1)\n",
      "Requirement already satisfied: click>=6.6 in /opt/conda/envs/cubeenv/lib/python3.6/site-packages (from lcmap-pyccd==2017.08.18->datacube_utilities) (7.1.1)\n",
      "Requirement already satisfied: pandas>=0.25 in /opt/conda/envs/cubeenv/lib/python3.6/site-packages (from xarray==0.15.1->datacube_utilities) (1.0.1)\n",
      "Requirement already satisfied: setuptools>=41.2 in /opt/conda/envs/cubeenv/lib/python3.6/site-packages (from xarray==0.15.1->datacube_utilities) (46.1.3.post20200325)\n",
      "Requirement already satisfied: kiwisolver>=1.0.1 in /opt/conda/envs/cubeenv/lib/python3.6/site-packages (from matplotlib==3.2.1->datacube_utilities) (1.2.0)\n",
      "Requirement already satisfied: cycler>=0.10 in /opt/conda/envs/cubeenv/lib/python3.6/site-packages (from matplotlib==3.2.1->datacube_utilities) (0.10.0)\n",
      "Requirement already satisfied: python-dateutil>=2.1 in /opt/conda/envs/cubeenv/lib/python3.6/site-packages (from matplotlib==3.2.1->datacube_utilities) (2.8.1)\n",
      "Requirement already satisfied: pyparsing!=2.0.4,!=2.1.2,!=2.1.6,>=2.0.1 in /opt/conda/envs/cubeenv/lib/python3.6/site-packages (from matplotlib==3.2.1->datacube_utilities) (2.4.6)\n",
      "Requirement already satisfied: joblib>=0.11 in /opt/conda/envs/cubeenv/lib/python3.6/site-packages (from scikit-learn==0.22.2.post1->datacube_utilities) (0.14.1)\n",
      "Requirement already satisfied: jinja2>=2.9 in /opt/conda/envs/cubeenv/lib/python3.6/site-packages (from folium==0.10.1->datacube_utilities) (2.11.1)\n",
      "Requirement already satisfied: requests in /opt/conda/envs/cubeenv/lib/python3.6/site-packages (from folium==0.10.1->datacube_utilities) (2.23.0)\n",
      "Requirement already satisfied: branca>=0.3.0 in /opt/conda/envs/cubeenv/lib/python3.6/site-packages (from folium==0.10.1->datacube_utilities) (0.3.1)\n",
      "Requirement already satisfied: ipywidgets<8,>=7.5.0 in /opt/conda/envs/cubeenv/lib/python3.6/site-packages (from ipyleaflet==0.12.3->datacube_utilities) (7.5.1)\n",
      "Requirement already satisfied: traittypes<3,>=0.2.1 in /opt/conda/envs/cubeenv/lib/python3.6/site-packages (from ipyleaflet==0.12.3->datacube_utilities) (0.2.1)\n",
      "Requirement already satisfied: psutil>=5.0 in /opt/conda/envs/cubeenv/lib/python3.6/site-packages (from distributed==2.14.0->datacube_utilities) (5.7.0)\n",
      "Requirement already satisfied: sortedcontainers!=2.0.0,!=2.0.1 in /opt/conda/envs/cubeenv/lib/python3.6/site-packages (from distributed==2.14.0->datacube_utilities) (2.1.0)\n",
      "Requirement already satisfied: zict>=0.1.3 in /opt/conda/envs/cubeenv/lib/python3.6/site-packages (from distributed==2.14.0->datacube_utilities) (2.0.0)\n",
      "Requirement already satisfied: tblib>=1.6.0 in /opt/conda/envs/cubeenv/lib/python3.6/site-packages (from distributed==2.14.0->datacube_utilities) (1.6.0)\n",
      "Requirement already satisfied: sqlalchemy in /opt/conda/envs/cubeenv/lib/python3.6/site-packages (from datacube==1.7->datacube_utilities) (1.3.15)\n",
      "Requirement already satisfied: pypeg2 in /opt/conda/envs/cubeenv/lib/python3.6/site-packages (from datacube==1.7->datacube_utilities) (2.15.2)\n",
      "Requirement already satisfied: lark-parser>=0.6.7 in /opt/conda/envs/cubeenv/lib/python3.6/site-packages (from datacube==1.7->datacube_utilities) (0.8.5)\n",
      "Requirement already satisfied: affine in /opt/conda/envs/cubeenv/lib/python3.6/site-packages (from datacube==1.7->datacube_utilities) (2.3.0)\n",
      "Requirement already satisfied: jsonschema in /opt/conda/envs/cubeenv/lib/python3.6/site-packages (from datacube==1.7->datacube_utilities) (3.2.0)\n",
      "Requirement already satisfied: psycopg2 in /opt/conda/envs/cubeenv/lib/python3.6/site-packages (from datacube==1.7->datacube_utilities) (2.8.4)\n",
      "Requirement already satisfied: netcdf4 in /opt/conda/envs/cubeenv/lib/python3.6/site-packages (from datacube==1.7->datacube_utilities) (1.5.3)\n",
      "Requirement already satisfied: singledispatch in /opt/conda/envs/cubeenv/lib/python3.6/site-packages (from datacube==1.7->datacube_utilities) (3.4.0.3)\n",
      "Requirement already satisfied: rasterio>=1.0.2 in /opt/conda/envs/cubeenv/lib/python3.6/site-packages (from datacube==1.7->datacube_utilities) (1.1.3)\n",
      "Requirement already satisfied: s3transfer<0.4.0,>=0.3.0 in /opt/conda/envs/cubeenv/lib/python3.6/site-packages (from boto3==1.12.36->datacube_utilities) (0.3.3)\n",
      "Requirement already satisfied: botocore<1.16.0,>=1.15.36 in /opt/conda/envs/cubeenv/lib/python3.6/site-packages (from boto3==1.12.36->datacube_utilities) (1.15.36)\n",
      "Requirement already satisfied: jmespath<1.0.0,>=0.7.1 in /opt/conda/envs/cubeenv/lib/python3.6/site-packages (from boto3==1.12.36->datacube_utilities) (0.9.5)\n",
      "Requirement already satisfied: Cython>=0.23 in /opt/conda/envs/cubeenv/lib/python3.6/site-packages (from hdmedians==0.13->datacube_utilities) (0.29.16)\n",
      "Requirement already satisfied: pyproj>=2.2.0 in /opt/conda/envs/cubeenv/lib/python3.6/site-packages (from geopandas==0.7.0->datacube_utilities) (2.5.0)\n",
      "Requirement already satisfied: fiona in /opt/conda/envs/cubeenv/lib/python3.6/site-packages (from geopandas==0.7.0->datacube_utilities) (1.8.9.post2)\n",
      "Requirement already satisfied: networkx>=2.0 in /opt/conda/envs/cubeenv/lib/python3.6/site-packages (from scikit-image==0.16.2->datacube_utilities) (2.4)\n",
      "Requirement already satisfied: pillow>=4.3.0 in /opt/conda/envs/cubeenv/lib/python3.6/site-packages (from scikit-image==0.16.2->datacube_utilities) (7.1.1)\n",
      "Requirement already satisfied: imageio>=2.3.0 in /opt/conda/envs/cubeenv/lib/python3.6/site-packages (from scikit-image==0.16.2->datacube_utilities) (2.8.0)\n",
      "Requirement already satisfied: PyWavelets>=0.4.0 in /opt/conda/envs/cubeenv/lib/python3.6/site-packages (from scikit-image==0.16.2->datacube_utilities) (1.1.1)\n",
      "Requirement already satisfied: simplejson in /opt/conda/envs/cubeenv/lib/python3.6/site-packages (from rasterstats==0.14.0->datacube_utilities) (3.17.0)\n",
      "Requirement already satisfied: cligj>=0.4 in /opt/conda/envs/cubeenv/lib/python3.6/site-packages (from rasterstats==0.14.0->datacube_utilities) (0.5.0)\n",
      "Requirement already satisfied: pytz>=2017.2 in /opt/conda/envs/cubeenv/lib/python3.6/site-packages (from pandas>=0.25->xarray==0.15.1->datacube_utilities) (2019.3)\n",
      "Requirement already satisfied: six in /opt/conda/envs/cubeenv/lib/python3.6/site-packages (from cycler>=0.10->matplotlib==3.2.1->datacube_utilities) (1.14.0)\n",
      "Requirement already satisfied: MarkupSafe>=0.23 in /opt/conda/envs/cubeenv/lib/python3.6/site-packages (from jinja2>=2.9->folium==0.10.1->datacube_utilities) (1.1.1)\n",
      "Requirement already satisfied: idna<3,>=2.5 in /opt/conda/envs/cubeenv/lib/python3.6/site-packages (from requests->folium==0.10.1->datacube_utilities) (2.9)\n",
      "Requirement already satisfied: certifi>=2017.4.17 in /opt/conda/envs/cubeenv/lib/python3.6/site-packages (from requests->folium==0.10.1->datacube_utilities) (2020.4.5.1)\n",
      "Requirement already satisfied: urllib3!=1.25.0,!=1.25.1,<1.26,>=1.21.1 in /opt/conda/envs/cubeenv/lib/python3.6/site-packages (from requests->folium==0.10.1->datacube_utilities) (1.25.7)\n",
      "Requirement already satisfied: chardet<4,>=3.0.2 in /opt/conda/envs/cubeenv/lib/python3.6/site-packages (from requests->folium==0.10.1->datacube_utilities) (3.0.4)\n",
      "Requirement already satisfied: ipython>=4.0.0; python_version >= \"3.3\" in /opt/conda/envs/cubeenv/lib/python3.6/site-packages (from ipywidgets<8,>=7.5.0->ipyleaflet==0.12.3->datacube_utilities) (7.13.0)\n",
      "Requirement already satisfied: traitlets>=4.3.1 in /opt/conda/envs/cubeenv/lib/python3.6/site-packages (from ipywidgets<8,>=7.5.0->ipyleaflet==0.12.3->datacube_utilities) (4.3.3)\n",
      "Requirement already satisfied: nbformat>=4.2.0 in /opt/conda/envs/cubeenv/lib/python3.6/site-packages (from ipywidgets<8,>=7.5.0->ipyleaflet==0.12.3->datacube_utilities) (5.0.4)\n",
      "Requirement already satisfied: ipykernel>=4.5.1 in /opt/conda/envs/cubeenv/lib/python3.6/site-packages (from ipywidgets<8,>=7.5.0->ipyleaflet==0.12.3->datacube_utilities) (5.2.0)\n",
      "Requirement already satisfied: widgetsnbextension~=3.5.0 in /opt/conda/envs/cubeenv/lib/python3.6/site-packages (from ipywidgets<8,>=7.5.0->ipyleaflet==0.12.3->datacube_utilities) (3.5.1)\n",
      "Requirement already satisfied: heapdict in /opt/conda/envs/cubeenv/lib/python3.6/site-packages (from zict>=0.1.3->distributed==2.14.0->datacube_utilities) (1.0.1)\n",
      "Requirement already satisfied: importlib-metadata; python_version < \"3.8\" in /opt/conda/envs/cubeenv/lib/python3.6/site-packages (from jsonschema->datacube==1.7->datacube_utilities) (1.6.0)\n",
      "Requirement already satisfied: attrs>=17.4.0 in /opt/conda/envs/cubeenv/lib/python3.6/site-packages (from jsonschema->datacube==1.7->datacube_utilities) (19.3.0)\n",
      "Requirement already satisfied: pyrsistent>=0.14.0 in /opt/conda/envs/cubeenv/lib/python3.6/site-packages (from jsonschema->datacube==1.7->datacube_utilities) (0.16.0)\n",
      "Requirement already satisfied: cftime in /opt/conda/envs/cubeenv/lib/python3.6/site-packages (from netcdf4->datacube==1.7->datacube_utilities) (1.1.1.2)\n",
      "Requirement already satisfied: snuggs>=1.4.1 in /opt/conda/envs/cubeenv/lib/python3.6/site-packages (from rasterio>=1.0.2->datacube==1.7->datacube_utilities) (1.4.7)\n",
      "Requirement already satisfied: docutils<0.16,>=0.10 in /opt/conda/envs/cubeenv/lib/python3.6/site-packages (from botocore<1.16.0,>=1.15.36->boto3==1.12.36->datacube_utilities) (0.15.2)\n",
      "Requirement already satisfied: munch in /opt/conda/envs/cubeenv/lib/python3.6/site-packages (from fiona->geopandas==0.7.0->datacube_utilities) (2.5.0)\n",
      "Requirement already satisfied: decorator>=4.3.0 in /opt/conda/envs/cubeenv/lib/python3.6/site-packages (from networkx>=2.0->scikit-image==0.16.2->datacube_utilities) (4.4.2)\n",
      "Requirement already satisfied: jedi>=0.10 in /opt/conda/envs/cubeenv/lib/python3.6/site-packages (from ipython>=4.0.0; python_version >= \"3.3\"->ipywidgets<8,>=7.5.0->ipyleaflet==0.12.3->datacube_utilities) (0.16.0)\n",
      "Requirement already satisfied: pygments in /opt/conda/envs/cubeenv/lib/python3.6/site-packages (from ipython>=4.0.0; python_version >= \"3.3\"->ipywidgets<8,>=7.5.0->ipyleaflet==0.12.3->datacube_utilities) (2.6.1)\n",
      "Requirement already satisfied: pickleshare in /opt/conda/envs/cubeenv/lib/python3.6/site-packages (from ipython>=4.0.0; python_version >= \"3.3\"->ipywidgets<8,>=7.5.0->ipyleaflet==0.12.3->datacube_utilities) (0.7.5)\n",
      "Requirement already satisfied: prompt-toolkit!=3.0.0,!=3.0.1,<3.1.0,>=2.0.0 in /opt/conda/envs/cubeenv/lib/python3.6/site-packages (from ipython>=4.0.0; python_version >= \"3.3\"->ipywidgets<8,>=7.5.0->ipyleaflet==0.12.3->datacube_utilities) (3.0.5)\n",
      "Requirement already satisfied: pexpect; sys_platform != \"win32\" in /opt/conda/envs/cubeenv/lib/python3.6/site-packages (from ipython>=4.0.0; python_version >= \"3.3\"->ipywidgets<8,>=7.5.0->ipyleaflet==0.12.3->datacube_utilities) (4.8.0)\n",
      "Requirement already satisfied: backcall in /opt/conda/envs/cubeenv/lib/python3.6/site-packages (from ipython>=4.0.0; python_version >= \"3.3\"->ipywidgets<8,>=7.5.0->ipyleaflet==0.12.3->datacube_utilities) (0.1.0)\n",
      "Requirement already satisfied: ipython-genutils in /opt/conda/envs/cubeenv/lib/python3.6/site-packages (from traitlets>=4.3.1->ipywidgets<8,>=7.5.0->ipyleaflet==0.12.3->datacube_utilities) (0.2.0)\n",
      "Requirement already satisfied: jupyter-core in /opt/conda/envs/cubeenv/lib/python3.6/site-packages (from nbformat>=4.2.0->ipywidgets<8,>=7.5.0->ipyleaflet==0.12.3->datacube_utilities) (4.6.3)\n",
      "Requirement already satisfied: jupyter-client in /opt/conda/envs/cubeenv/lib/python3.6/site-packages (from ipykernel>=4.5.1->ipywidgets<8,>=7.5.0->ipyleaflet==0.12.3->datacube_utilities) (6.1.2)\n",
      "Requirement already satisfied: notebook>=4.4.1 in /opt/conda/envs/cubeenv/lib/python3.6/site-packages (from widgetsnbextension~=3.5.0->ipywidgets<8,>=7.5.0->ipyleaflet==0.12.3->datacube_utilities) (6.0.3)\n",
      "Requirement already satisfied: zipp>=0.5 in /opt/conda/envs/cubeenv/lib/python3.6/site-packages (from importlib-metadata; python_version < \"3.8\"->jsonschema->datacube==1.7->datacube_utilities) (3.1.0)\n",
      "Requirement already satisfied: parso>=0.5.2 in /opt/conda/envs/cubeenv/lib/python3.6/site-packages (from jedi>=0.10->ipython>=4.0.0; python_version >= \"3.3\"->ipywidgets<8,>=7.5.0->ipyleaflet==0.12.3->datacube_utilities) (0.6.2)\n",
      "Requirement already satisfied: wcwidth in /opt/conda/envs/cubeenv/lib/python3.6/site-packages (from prompt-toolkit!=3.0.0,!=3.0.1,<3.1.0,>=2.0.0->ipython>=4.0.0; python_version >= \"3.3\"->ipywidgets<8,>=7.5.0->ipyleaflet==0.12.3->datacube_utilities) (0.1.9)\n",
      "Requirement already satisfied: ptyprocess>=0.5 in /opt/conda/envs/cubeenv/lib/python3.6/site-packages (from pexpect; sys_platform != \"win32\"->ipython>=4.0.0; python_version >= \"3.3\"->ipywidgets<8,>=7.5.0->ipyleaflet==0.12.3->datacube_utilities) (0.6.0)\n",
      "Requirement already satisfied: pyzmq>=13 in /opt/conda/envs/cubeenv/lib/python3.6/site-packages (from jupyter-client->ipykernel>=4.5.1->ipywidgets<8,>=7.5.0->ipyleaflet==0.12.3->datacube_utilities) (19.0.0)\n",
      "Requirement already satisfied: prometheus-client in /opt/conda/envs/cubeenv/lib/python3.6/site-packages (from notebook>=4.4.1->widgetsnbextension~=3.5.0->ipywidgets<8,>=7.5.0->ipyleaflet==0.12.3->datacube_utilities) (0.7.1)\n",
      "Requirement already satisfied: nbconvert in /opt/conda/envs/cubeenv/lib/python3.6/site-packages (from notebook>=4.4.1->widgetsnbextension~=3.5.0->ipywidgets<8,>=7.5.0->ipyleaflet==0.12.3->datacube_utilities) (5.6.1)\n",
      "Requirement already satisfied: terminado>=0.8.1 in /opt/conda/envs/cubeenv/lib/python3.6/site-packages (from notebook>=4.4.1->widgetsnbextension~=3.5.0->ipywidgets<8,>=7.5.0->ipyleaflet==0.12.3->datacube_utilities) (0.8.3)\n",
      "Requirement already satisfied: Send2Trash in /opt/conda/envs/cubeenv/lib/python3.6/site-packages (from notebook>=4.4.1->widgetsnbextension~=3.5.0->ipywidgets<8,>=7.5.0->ipyleaflet==0.12.3->datacube_utilities) (1.5.0)\n",
      "Requirement already satisfied: bleach in /opt/conda/envs/cubeenv/lib/python3.6/site-packages (from nbconvert->notebook>=4.4.1->widgetsnbextension~=3.5.0->ipywidgets<8,>=7.5.0->ipyleaflet==0.12.3->datacube_utilities) (3.1.4)\n",
      "Requirement already satisfied: pandocfilters>=1.4.1 in /opt/conda/envs/cubeenv/lib/python3.6/site-packages (from nbconvert->notebook>=4.4.1->widgetsnbextension~=3.5.0->ipywidgets<8,>=7.5.0->ipyleaflet==0.12.3->datacube_utilities) (1.4.2)\n",
      "Requirement already satisfied: testpath in /opt/conda/envs/cubeenv/lib/python3.6/site-packages (from nbconvert->notebook>=4.4.1->widgetsnbextension~=3.5.0->ipywidgets<8,>=7.5.0->ipyleaflet==0.12.3->datacube_utilities) (0.4.4)\n",
      "Requirement already satisfied: entrypoints>=0.2.2 in /opt/conda/envs/cubeenv/lib/python3.6/site-packages (from nbconvert->notebook>=4.4.1->widgetsnbextension~=3.5.0->ipywidgets<8,>=7.5.0->ipyleaflet==0.12.3->datacube_utilities) (0.3)\n",
      "Requirement already satisfied: mistune<2,>=0.8.1 in /opt/conda/envs/cubeenv/lib/python3.6/site-packages (from nbconvert->notebook>=4.4.1->widgetsnbextension~=3.5.0->ipywidgets<8,>=7.5.0->ipyleaflet==0.12.3->datacube_utilities) (0.8.4)\n",
      "Requirement already satisfied: defusedxml in /opt/conda/envs/cubeenv/lib/python3.6/site-packages (from nbconvert->notebook>=4.4.1->widgetsnbextension~=3.5.0->ipywidgets<8,>=7.5.0->ipyleaflet==0.12.3->datacube_utilities) (0.6.0)\n",
      "Requirement already satisfied: webencodings in /opt/conda/envs/cubeenv/lib/python3.6/site-packages (from bleach->nbconvert->notebook>=4.4.1->widgetsnbextension~=3.5.0->ipywidgets<8,>=7.5.0->ipyleaflet==0.12.3->datacube_utilities) (0.5.1)\n"
     ]
    }
   ],
   "source": [
    "!pip install git+https://github.com/SatelliteApplicationsCatapult/datacube-utilities.git#egg=datacube_utilities"
   ]
  },
  {
   "cell_type": "code",
   "execution_count": 5,
   "metadata": {},
   "outputs": [],
   "source": [
    "dc = datacube.Datacube(app = 'land_degredation')#, config = '/home/localuser/.datacube.conf')\n",
    "\n",
    "from matplotlib.cm import RdYlGn, Greens\n",
    "from odc.algo import to_f32, from_float, xr_geomedian\n",
    "from datacube_utilities.dc_load import get_product_extents\n",
    "from datacube_utilities.dc_time import dt_to_str\n",
    "from datacube_utilities.dc_display_map import display_map\n",
    "from datacube_utilities.dc_mosaic import create_max_ndvi_mosaic, create_median_mosaic, create_mosaic\n",
    "from datacube_utilities.dc_rgb import rgb\n",
    "from datacube_utilities.createAOI import create_lat_lon\n",
    "from datacube_utilities.dc_water_classifier import wofs_classify\n",
    "from datacube_utilities.createindices import NDVI\n",
    "from datacube_utilities.fromDCALscripts import threshold_plot\n",
    "from datacube_utilities.dc_utilities import write_geotiff_from_xr\n",
    "from datacube_utilities.clean_mask import landsat_qa_clean_mask\n",
    "from datacube_utilities.dc_fractional_coverage_classifier import frac_coverage_classify \n",
    "from datacube_utilities.dc_utilities import write_geotiff_from_xr\n",
    "from datacube_utilities.import_export import export_xarray_to_multiple_geotiffs\n"
   ]
  },
  {
   "cell_type": "code",
   "execution_count": 6,
   "metadata": {},
   "outputs": [],
   "source": [
    "###Load in image\n",
    "#inputs\n",
    "#options \"LANDSAT_8\", \"LANDSAT_7\", \"LANDSAT_5\", \"LANDSAT_4\" and \"SENTINEL_2\"\n",
    "platform_base = \"SENTINEL_2\"\n",
    "#For Fiji this should be the only option - may change for Solomon and Vanuatu\n",
    "output_projection = \"EPSG:3460\"\n",
    "crs = \"EPSG:3460\"\n",
    "res = (10)\n",
    "\n",
    "# Select the start and end periods for your analysis products\n",
    "# The datetime function is (Year,Month,Day)\n",
    "# These time windows will be used to make a mosaic, so typically pick a year length or more\n",
    "# Be sure to evaluate the RGB mosaics to affirm they are not full of clouds\n",
    "\n",
    "#set baseline start and end of period\n",
    "baseline_start_date = '2018-1-1'\n",
    "baseline_end_date = '2019-12-30'\n",
    "#nadi\n",
    "#aoi_wkt = \"POLYGON((177.384445215936 -17.725841212511558,177.53619387316257 -17.725841212511558,177.53619387316257 -17.8278433805643,177.384445215936 -17.8278433805643,177.384445215936 -17.725841212511558))\"\n",
    "\n",
    "#suva\n",
    "aoi_wkt = \"POLYGON((178.39699689321165 -18.061332095979633,178.55080548696165 -18.061332095979633,178.55080548696165 -18.18467000208122,178.39699689321165 -18.18467000208122,178.39699689321165 -18.061332095979633))\""
   ]
  },
  {
   "cell_type": "code",
   "execution_count": 7,
   "metadata": {},
   "outputs": [],
   "source": [
    "lat_extents, lon_extents = create_lat_lon(aoi_wkt)"
   ]
  },
  {
   "cell_type": "code",
   "execution_count": 8,
   "metadata": {},
   "outputs": [
    {
     "data": {
      "text/html": [
       "<div style=\"width:100%;\"><div style=\"position:relative;width:100%;height:0;padding-bottom:60%;\"><iframe src=\"data:text/html;charset=utf-8;base64,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\" style=\"position:absolute;width:100%;height:100%;left:0;top:0;border:none !important;\" allowfullscreen webkitallowfullscreen mozallowfullscreen></iframe></div></div>"
      ],
      "text/plain": [
       "<folium.folium.Map at 0x7f01f233eeb8>"
      ]
     },
     "execution_count": 8,
     "metadata": {},
     "output_type": "execute_result"
    }
   ],
   "source": [
    "## The code below renders a map that can be used to orient yourself with the region.\n",
    "display_map(latitude = lat_extents, longitude = lon_extents)"
   ]
  },
  {
   "cell_type": "code",
   "execution_count": 9,
   "metadata": {},
   "outputs": [
    {
     "name": "stdout",
     "output_type": "stream",
     "text": [
      "(3868865.296636806, 3882539.0512192366)\n",
      "(1962643.4711290102, 1978898.4636792026)\n"
     ]
    }
   ],
   "source": [
    "from pyproj import Proj, transform\n",
    "inProj  = Proj(\"+init=EPSG:4326\")\n",
    "outProj = Proj(\"+init=EPSG:3460\")\n",
    "min_lat, max_lat = (lat_extents) \n",
    "min_lon, max_lon = (lon_extents)\n",
    "x_A, y_A = transform(inProj, outProj, min_lon, min_lat)\n",
    "x_B, y_B = transform(inProj, outProj, max_lon, max_lat)\n",
    "lat_range = (y_A, y_B)\n",
    "lon_range = (x_A, x_B)\n",
    "print(lat_range)\n",
    "print(lon_range)"
   ]
  },
  {
   "cell_type": "code",
   "execution_count": 10,
   "metadata": {},
   "outputs": [],
   "source": [
    "allmeasurements = [\"green\",\"red\", \"blue\", \"nir\",\"swir1\",\"swir2\"]\n",
    "#water_measurements = [\"water_classification\"]\n",
    "def create_product_measurement(platform):\n",
    "    if platform  in [\"SENTINEL_2\"]:\n",
    "        product = 's2_geomedian_annual'\n",
    "        measurements = allmeasurements\n",
    "        ###CHANGE WHEN S2 WOFS READY\n",
    "        #water_product = 'SENTINEL_2_PRODUCT DEFS'\n",
    "    elif platform in [\"LANDSAT_8\"]:    \n",
    "        measurements = allmeasurements\n",
    "        product = 'ls8_geomedian_annual'\n",
    "        #water_product = 'ls8_water_classification'\n",
    "    elif platform in [\"LANDSAT_7\"]:    \n",
    "        measurements = allmeasurements\n",
    "        product = 'ls7_geomedian_annual'\n",
    "        #water_product = 'ls7_water_classification'\n",
    "    elif platform in [\"LANDSAT_5\"]:    \n",
    "        measurements = allmeasurements + [\"pixel_qa\"]\n",
    "        product = 'ls5_usgs_sr_scene'\n",
    "        water_product = 'ls5_water_classification'\n",
    "    elif platform in [\"LANDSAT_4\"]:    \n",
    "        measurements = allmeasurements + [\"pixel_qa\"]\n",
    "        product = 'ls4_usgs_sr_scene'\n",
    "        water_product = 'ls4_water_classification'\n",
    "    else:\n",
    "        print(\"invalid platform\")\n",
    "    return product, measurements"
   ]
  },
  {
   "cell_type": "code",
   "execution_count": 11,
   "metadata": {},
   "outputs": [],
   "source": [
    "baseline_product, measurement = create_product_measurement(platform_base)"
   ]
  },
  {
   "cell_type": "code",
   "execution_count": 12,
   "metadata": {},
   "outputs": [],
   "source": [
    "#create resolution\n",
    "resolution = (-res, res)"
   ]
  },
  {
   "cell_type": "code",
   "execution_count": 13,
   "metadata": {},
   "outputs": [],
   "source": [
    "dask_chunks = dict(\n",
    "    x = 1000,\n",
    "    y = 1000\n",
    ")"
   ]
  },
  {
   "cell_type": "code",
   "execution_count": 14,
   "metadata": {},
   "outputs": [],
   "source": [
    "#format dates\n",
    "def createDate(inputStart, inputEnd):\n",
    "    start = datetime.strptime(inputStart, '%Y-%m-%d')\n",
    "    end = datetime.strptime(inputEnd, '%Y-%m-%d')\n",
    "    startDates = start.date()\n",
    "    endDates = end.date()\n",
    "    time_period = (startDates, endDates)\n",
    "    return time_period\n",
    "\n",
    "baseline_time_period = createDate(baseline_start_date, baseline_end_date)"
   ]
  },
  {
   "cell_type": "code",
   "execution_count": 15,
   "metadata": {},
   "outputs": [],
   "source": [
    "# Create the 'query' dictionary object, which contains the longitudes, latitudes \n",
    "query = {\n",
    "    'y': lat_range,\n",
    "    'x': lon_range,\n",
    "    'output_crs': output_projection,\n",
    "    'measurements': measurement,\n",
    "    'resolution': resolution,\n",
    "    'dask_chunks': dask_chunks\n",
    "}\n"
   ]
  },
  {
   "cell_type": "code",
   "execution_count": 16,
   "metadata": {},
   "outputs": [],
   "source": [
    "baseline_ds = dc.load(\n",
    "    time = baseline_time_period,\n",
    "    product = baseline_product,\n",
    "    platform = platform_base,\n",
    "    crs = crs,\n",
    "    **query\n",
    ")\n"
   ]
  },
  {
   "cell_type": "code",
   "execution_count": 17,
   "metadata": {},
   "outputs": [
    {
     "name": "stdout",
     "output_type": "stream",
     "text": [
      "<xarray.Dataset>\n",
      "Dimensions:  (time: 2, x: 1626, y: 1368)\n",
      "Coordinates:\n",
      "  * time     (time) datetime64[ns] 2018-07-02 2019-07-02\n",
      "  * y        (y) float64 3.883e+06 3.883e+06 3.883e+06 ... 3.869e+06 3.869e+06\n",
      "  * x        (x) float64 1.963e+06 1.963e+06 1.963e+06 ... 1.979e+06 1.979e+06\n",
      "Data variables:\n",
      "    green    (time, y, x) int16 dask.array<chunksize=(1, 1000, 1000), meta=np.ndarray>\n",
      "    red      (time, y, x) int16 dask.array<chunksize=(1, 1000, 1000), meta=np.ndarray>\n",
      "    blue     (time, y, x) int16 dask.array<chunksize=(1, 1000, 1000), meta=np.ndarray>\n",
      "    nir      (time, y, x) int16 dask.array<chunksize=(1, 1000, 1000), meta=np.ndarray>\n",
      "    swir1    (time, y, x) int16 dask.array<chunksize=(1, 1000, 1000), meta=np.ndarray>\n",
      "    swir2    (time, y, x) int16 dask.array<chunksize=(1, 1000, 1000), meta=np.ndarray>\n",
      "Attributes:\n",
      "    crs:      EPSG:3460\n"
     ]
    }
   ],
   "source": [
    "print(baseline_ds)"
   ]
  },
  {
   "cell_type": "code",
   "execution_count": 18,
   "metadata": {},
   "outputs": [],
   "source": [
    "img_ds = baseline_ds.compute()"
   ]
  },
  {
   "cell_type": "code",
   "execution_count": 19,
   "metadata": {},
   "outputs": [],
   "source": [
    "#NDBI\n",
    "def NDBI(dataset):\n",
    "    return (dataset.swir1 - dataset.nir)/(dataset.swir1 + dataset.nir)\n",
    "img_ds['ndbi'] = NDBI(img_ds)"
   ]
  },
  {
   "cell_type": "code",
   "execution_count": 20,
   "metadata": {},
   "outputs": [],
   "source": [
    "#NDVI\n",
    "from datacube_utilities.createindices import NDVI\n",
    "img_ds['ndvi'] = NDVI(img_ds)"
   ]
  },
  {
   "cell_type": "code",
   "execution_count": 21,
   "metadata": {},
   "outputs": [],
   "source": [
    "#MNDWI\n",
    "def MNDWI(dataset):\n",
    "    return (dataset.green - dataset.swir2)/(dataset.green + dataset.swir2)\n",
    "img_ds['mndwi'] = MNDWI(img_ds)"
   ]
  },
  {
   "cell_type": "code",
   "execution_count": 22,
   "metadata": {},
   "outputs": [],
   "source": [
    "#BU\n",
    "img_ds['bu'] = img_ds['ndbi'] - img_ds['ndvi']"
   ]
  },
  {
   "cell_type": "code",
   "execution_count": 23,
   "metadata": {},
   "outputs": [],
   "source": [
    "#print(img_ds)"
   ]
  },
  {
   "cell_type": "code",
   "execution_count": 24,
   "metadata": {},
   "outputs": [],
   "source": [
    "T1_img = img_ds.isel(time = 0)"
   ]
  },
  {
   "cell_type": "code",
   "execution_count": 25,
   "metadata": {},
   "outputs": [
    {
     "name": "stdout",
     "output_type": "stream",
     "text": [
      "2\n"
     ]
    }
   ],
   "source": [
    "print(len(img_ds.time))"
   ]
  },
  {
   "cell_type": "code",
   "execution_count": 26,
   "metadata": {},
   "outputs": [
    {
     "name": "stdout",
     "output_type": "stream",
     "text": [
      "0\n",
      "2018_01_01\n",
      "1\n",
      "2019_01_01\n",
      "<xarray.Dataset>\n",
      "Dimensions:           (x: 1626, y: 1368)\n",
      "Coordinates:\n",
      "  * y                 (y) float64 3.883e+06 3.883e+06 ... 3.869e+06 3.869e+06\n",
      "  * x                 (x) float64 1.963e+06 1.963e+06 ... 1.979e+06 1.979e+06\n",
      "Data variables:\n",
      "    blue_2018_01_01   (y, x) float64 462.0 490.0 473.0 ... 455.0 455.0 453.0\n",
      "    blue_2019_01_01   (y, x) float64 417.0 444.0 412.0 ... 453.0 456.0 451.0\n",
      "    bu_2018_01_01     (y, x) float64 -1.153 -1.143 -1.043 ... 0.177 0.2134 0.199\n",
      "    bu_2019_01_01     (y, x) float64 -1.204 -1.224 -1.136 ... 0.1695 0.1557\n",
      "    green_2018_01_01  (y, x) float64 702.0 752.0 685.0 ... 437.0 441.0 443.0\n",
      "    green_2019_01_01  (y, x) float64 603.0 654.0 559.0 ... 454.0 453.0 451.0\n",
      "    mndwi_2018_01_01  (y, x) float64 -0.05961 -0.0493 -0.0891 ... 0.5778 0.585\n",
      "    mndwi_2019_01_01  (y, x) float64 -0.08706 0.001531 ... 0.5382 0.5288\n",
      "    ndbi2018_01_01    (y, x) float64 -0.3836 -0.3918 ... -0.01961 -0.03175\n",
      "    ndbi2019_01_01    (y, x) float64 -0.384 -0.4159 -0.3429 ... -0.0378 -0.04636\n",
      "    ndvi_2018_01_01   (y, x) float64 0.7697 0.7516 0.7196 ... -0.233 -0.2308\n",
      "    ndvi_2019_01_01   (y, x) float64 0.8205 0.8081 0.7935 ... -0.2073 -0.202\n",
      "    nir_2018_01_01    (y, x) float64 3.497e+03 3.483e+03 ... 130.0 130.0\n",
      "    nir_2019_01_01    (y, x) float64 3.57e+03 3.515e+03 ... 151.0 158.0\n",
      "    red_2018_01_01    (y, x) float64 455.0 494.0 479.0 ... 206.0 209.0 208.0\n",
      "    red_2019_01_01    (y, x) float64 352.0 373.0 340.0 ... 234.0 230.0 238.0\n",
      "    swir1_2018_01_01  (y, x) float64 1.558e+03 1.522e+03 ... 125.0 122.0\n",
      "    swir1_2019_01_01  (y, x) float64 1.589e+03 1.45e+03 ... 140.0 144.0\n",
      "    swir2_2018_01_01  (y, x) float64 791.0 830.0 819.0 ... 115.0 118.0 116.0\n",
      "    swir2_2019_01_01  (y, x) float64 718.0 652.0 660.0 ... 135.0 136.0 139.0\n",
      "Attributes:\n",
      "    crs:      EPSG:3460\n"
     ]
    }
   ],
   "source": [
    "for i in range (len(img_ds.time)):\n",
    "    print(i)\n",
    "    ab = img_ds.isel(time = i)\n",
    "    #access datetime as string\n",
    "    time1 = ab.time.dt.year\n",
    "    time2= pd.to_datetime(str(time1.values))\n",
    "    t = time2.strftime('%Y_%m_%d')\n",
    "    print(t)\n",
    "    testDic = {'green': 'green_'+ t, 'red': 'red_'+ t, 'blue': 'blue_' + t, 'nir': 'nir_' + t, 'swir1': 'swir1_' + t, 'swir2': 'swir2_' + t, 'ndbi': 'ndbi' + t, 'ndvi': 'ndvi_' + t, 'mndwi': 'mndwi_' + t, 'bu': 'bu_' + t}\n",
    "    rn = xr.Dataset.rename_vars(ab, testDic)\n",
    "    rn_D = xr.Dataset.to_array(rn)\n",
    "    #print(rn_D)\n",
    "    new_ds = xr.DataArray.drop(rn_D, 'time')\n",
    "    if i == 0:\n",
    "        xy = new_ds\n",
    "    else:\n",
    "        xy = xy.combine_first(new_ds)\n",
    "    #print(xy)\n",
    "    #print('end')\n",
    "#print(xy)\n",
    "xds = xr.DataArray.to_dataset(xy, dim = 'variable')\n",
    "print(xds)"
   ]
  },
  {
   "cell_type": "code",
   "execution_count": 27,
   "metadata": {},
   "outputs": [],
   "source": [
    "def export_slice_to_geotiff(ds, path, x_coord='longitude', y_coord='latitude'):\n",
    "    \"\"\"\n",
    "    Exports a single slice of an xarray.Dataset as a GeoTIFF.\n",
    "    ds: xarray.Dataset\n",
    "        The Dataset to export. Must have exactly 2 dimensions - 'latitude' and 'longitude'.\n",
    "    x_coord, y_coord: string\n",
    "        Names of the x and y coordinates in `ds`.\n",
    "    path: str\n",
    "        The path to store the exported GeoTIFF.\n",
    "    \"\"\"\n",
    "    kwargs = dict(tif_path=path, data=ds.astype(np.float64), bands=list(ds.data_vars.keys()),\n",
    "                  x_coord=x_coord, y_coord=y_coord)\n",
    "    if 'crs' in ds.attrs:\n",
    "        kwargs['crs'] = str(ds.attrs['crs'])\n",
    "    write_geotiff_from_xr(**kwargs)"
   ]
  },
  {
   "cell_type": "code",
   "execution_count": 28,
   "metadata": {},
   "outputs": [],
   "source": [
    "export_slice_to_geotiff(xds, 'combine_test_Suva.tif', x_coord = 'x', y_coord = 'y')"
   ]
  },
  {
   "cell_type": "code",
   "execution_count": 29,
   "metadata": {},
   "outputs": [],
   "source": [
    "# Tell GDAL to throw Python exceptions, and register all drivers\n",
    "gdal.UseExceptions()\n",
    "gdal.AllRegister()"
   ]
  },
  {
   "cell_type": "code",
   "execution_count": 30,
   "metadata": {},
   "outputs": [],
   "source": [
    "## vector to raster wtih same res as input raster"
   ]
  },
  {
   "cell_type": "code",
   "execution_count": 31,
   "metadata": {},
   "outputs": [],
   "source": [
    "from osgeo import gdal\n",
    "from osgeo import ogr\n",
    "from osgeo import gdalconst\n",
    "\n",
    "#dataset from which to base pixel size and extent for rasterization of training datasets\n",
    "ndsm = 'combine_test_Suva.tif'\n",
    "#training data\n",
    "shp = 'attempt106.geojson'\n",
    "#openlayers\n",
    "data = gdal.Open(ndsm, gdalconst.GA_ReadOnly)\n",
    "geo_transform = data.GetGeoTransform()\n",
    "#source_layer = data.GetLayer()\n",
    "#get dimensions\n",
    "x_min = geo_transform[0]\n",
    "y_max = geo_transform[3]\n",
    "x_max = x_min + geo_transform[1] * data.RasterXSize\n",
    "y_min = y_max + geo_transform[5] * data.RasterYSize\n",
    "x_res = data.RasterXSize\n",
    "y_res = data.RasterYSize\n",
    "mb_v = ogr.Open(shp)\n",
    "mb_l = mb_v.GetLayer()\n",
    "pixel_width = geo_transform[1]\n",
    "#name for output of rasterized geotif\n",
    "output = 'my_s2.tif'\n",
    "\n",
    "target_ds = gdal.GetDriverByName('GTiff').Create(output, x_res, y_res, 1, gdal.GDT_Byte)\n",
    "proj=data.GetProjection() #y\n",
    "target_ds.SetProjection(proj)\n",
    "#target_ds.SetGeoTransform((x_min, pixel_width, 0, y_min, 0, pixel_width))\n",
    "geotrans=data.GetGeoTransform()  #get GeoTranform from existed 'data0'\n",
    "\n",
    "band = target_ds.GetRasterBand(1)\n",
    "NoData_value = -999999\n",
    "band.SetNoDataValue(NoData_value)\n",
    "band.FlushCache()\n",
    "target_ds.SetGeoTransform(geotrans)\n",
    "gdal.RasterizeLayer(target_ds, [1], mb_l, options=[\"ATTRIBUTE=Class\"])\n",
    "\n",
    "\n",
    "target_ds = None"
   ]
  },
  {
   "cell_type": "code",
   "execution_count": 32,
   "metadata": {},
   "outputs": [],
   "source": [
    "#path to image\n",
    "#path to training/test data\n",
    "#roi_ds = gdal.Open('testoutput.tif', gdal.GA_ReadOnly)\n",
    "roi_ds = gdal.Open('my_s2.tif', gdal.GA_ReadOnly)\n",
    "img_ds = gdal.Open('combine_test_Suva.tif', gdal.GA_ReadOnly)"
   ]
  },
  {
   "cell_type": "code",
   "execution_count": 33,
   "metadata": {},
   "outputs": [
    {
     "name": "stdout",
     "output_type": "stream",
     "text": [
      "5\n"
     ]
    }
   ],
   "source": [
    "roi_dataset = roi_ds.GetRasterBand(1).ReadAsArray().astype(np.uint8)\n",
    "print(roi_dataset.max())"
   ]
  },
  {
   "cell_type": "markdown",
   "metadata": {},
   "source": [
    "roi = np.zeros((roi_ds.RasterYSize, roi_ds.RasterXSize, roi_ds.RasterCount),\n",
    "               gdal_array.GDALTypeCodeToNumericTypeCode(roi_ds.GetRasterBand(1).DataType))\n",
    "for b in range(roi.shape[2]):\n",
    "    roi[:, :, b] = roi_ds.GetRasterBand(b + 1).ReadAsArray()\n",
    "print(roi)"
   ]
  },
  {
   "cell_type": "code",
   "execution_count": 34,
   "metadata": {},
   "outputs": [
    {
     "name": "stdout",
     "output_type": "stream",
     "text": [
      "19\n"
     ]
    }
   ],
   "source": [
    "img = np.zeros((img_ds.RasterYSize, img_ds.RasterXSize, img_ds.RasterCount),\n",
    "               gdal_array.GDALTypeCodeToNumericTypeCode(img_ds.GetRasterBand(1).DataType))\n",
    "#print(img.dtype)\n",
    "for b in range(img.shape[2]):\n",
    "    img[:, :, b] = img_ds.GetRasterBand(b + 1).ReadAsArray()\n",
    "print(b)\n"
   ]
  },
  {
   "cell_type": "code",
   "execution_count": 35,
   "metadata": {},
   "outputs": [],
   "source": [
    "#print(img)"
   ]
  },
  {
   "cell_type": "code",
   "execution_count": 36,
   "metadata": {},
   "outputs": [
    {
     "data": {
      "image/png": "[encoded data removed]",
      "text/plain": [
       "<Figure size 432x288 with 2 Axes>"
      ]
     },
     "metadata": {
      "needs_background": "light"
     },
     "output_type": "display_data"
    }
   ],
   "source": [
    "# Display the image and the Training/Test raster\n",
    "plt.subplot(121)\n",
    "plt.imshow(img[:, :, 0], cmap=plt.cm.Greys_r)\n",
    "plt.title('Image')\n",
    "plt.subplot(122)\n",
    "plt.imshow(roi_dataset, cmap=plt.cm.Spectral, vmin=0, vmax=0.5)\n",
    "plt.title('ROI Training Data')\n",
    "plt.show()"
   ]
  },
  {
   "cell_type": "code",
   "execution_count": 37,
   "metadata": {},
   "outputs": [
    {
     "name": "stdout",
     "output_type": "stream",
     "text": [
      "The training data include 5 classes: [1 2 3 4 5]\n"
     ]
    }
   ],
   "source": [
    "labels = np.unique(roi_dataset[roi_dataset > 0])\n",
    "print('The training data include {n} classes: {classes}'.format(n=labels.size, classes=labels))"
   ]
  },
  {
   "cell_type": "code",
   "execution_count": 38,
   "metadata": {},
   "outputs": [],
   "source": [
    "#set X and y as image and training/test data.\n",
    "#X = img[roi_dataset > 0, :]\n",
    "X = img[roi_dataset > 0, :]\n",
    "y = roi_dataset[roi_dataset > 0 ]"
   ]
  },
  {
   "cell_type": "code",
   "execution_count": 39,
   "metadata": {},
   "outputs": [],
   "source": [
    "#Split the data into training and testing, by 80:20 split.\n",
    "X_train, X_test, y_train, y_test = train_test_split(X, y, test_size=0.4, random_state=0, stratify=y)"
   ]
  },
  {
   "cell_type": "code",
   "execution_count": 40,
   "metadata": {},
   "outputs": [
    {
     "name": "stdout",
     "output_type": "stream",
     "text": [
      "counts\n",
      "Train counts [31559   488   483 31420   583]\n",
      "Test counts [21040   326   321 20947   389]\n"
     ]
    }
   ],
   "source": [
    "unique, counts = np.unique(y_train, return_counts=True)\n",
    "dict_ytrain = dict(zip(unique, counts))\n",
    "unique2, counts2 = np.unique(y_test, return_counts=True)\n",
    "dict_ytest = dict(zip(unique2,counts2))\n",
    "print(\"counts\")\n",
    "print('Train counts', counts)\n",
    "print('Test counts', counts2)\n"
   ]
  },
  {
   "cell_type": "code",
   "execution_count": 41,
   "metadata": {},
   "outputs": [],
   "source": [
    "X_train2 = np.nan_to_num(X_train)\n",
    "y_train2 = np.nan_to_num(y_train)"
   ]
  },
  {
   "cell_type": "code",
   "execution_count": 42,
   "metadata": {},
   "outputs": [],
   "source": [
    "X_test2 = np.nan_to_num(X_test)\n",
    "y_test2 = np.nan_to_num(y_test)"
   ]
  },
  {
   "cell_type": "code",
   "execution_count": 43,
   "metadata": {},
   "outputs": [],
   "source": [
    "# Initialize random forest model with 200 trees, and balanced class weight\n",
    "rf = RandomForestClassifier(n_estimators=200, oob_score=True, class_weight=\"balanced\", min_samples_leaf=100)\n",
    "rf = rf.fit(X_train2,y_train2)"
   ]
  },
  {
   "cell_type": "code",
   "execution_count": 44,
   "metadata": {},
   "outputs": [
    {
     "name": "stdout",
     "output_type": "stream",
     "text": [
      "Our OOB prediction of accuracy is: 96.81558272511738%\n"
     ]
    }
   ],
   "source": [
    "print('Our OOB prediction of accuracy is: {oob}%'.format(oob=rf.oob_score_ * 100))"
   ]
  },
  {
   "cell_type": "code",
   "execution_count": 45,
   "metadata": {},
   "outputs": [],
   "source": [
    "# Setup a dataframe, for truth and predicted values of training data\n",
    "df = pd.DataFrame()\n",
    "df['truth'] = y_train2\n",
    "df['predict'] = rf.predict(X_train2)\n",
    "# Setup a dataframe, for truth and predicted values of test data\n",
    "df2 = pd.DataFrame()\n",
    "df2['truth'] = y_test2\n",
    "df2['predict'] = rf.predict(X_test2)"
   ]
  },
  {
   "cell_type": "code",
   "execution_count": 46,
   "metadata": {},
   "outputs": [
    {
     "name": "stdout",
     "output_type": "stream",
     "text": [
      "predict      1    2    3      4     5    All\n",
      "truth                                       \n",
      "1        19776   28  600      9   627  21040\n",
      "2            0  325    1      0     0    326\n",
      "3            9    3  302      0     7    321\n",
      "4            3    0    0  20929    15  20947\n",
      "5            3    5   14      0   367    389\n",
      "All      19791  361  917  20938  1016  43023\n"
     ]
    }
   ],
   "source": [
    "# Cross-tabulate predictions\n",
    "print(pd.crosstab(df2['truth'], df2['predict'], margins=True))"
   ]
  },
  {
   "cell_type": "code",
   "execution_count": 47,
   "metadata": {},
   "outputs": [
    {
     "name": "stdout",
     "output_type": "stream",
     "text": [
      "this is kappa 94.27616785225548\n"
     ]
    }
   ],
   "source": [
    "#calculate kappa score\n",
    "kappaScore = cohen_kappa_score(df2['truth'], df2['predict'])\n",
    "kSPer = kappaScore*100\n",
    "print(\"this is kappa\", kSPer) "
   ]
  },
  {
   "cell_type": "code",
   "execution_count": 48,
   "metadata": {},
   "outputs": [
    {
     "name": "stdout",
     "output_type": "stream",
     "text": [
      "accuracy score 0.969225762963996\n",
      "              precision    recall  f1-score   support\n",
      "\n",
      "           1       1.00      0.94      0.97     21040\n",
      "           2       0.90      1.00      0.95       326\n",
      "           3       0.33      0.94      0.49       321\n",
      "           4       1.00      1.00      1.00     20947\n",
      "           5       0.36      0.94      0.52       389\n",
      "\n",
      "    accuracy                           0.97     43023\n",
      "   macro avg       0.72      0.96      0.78     43023\n",
      "weighted avg       0.99      0.97      0.98     43023\n",
      "\n"
     ]
    }
   ],
   "source": [
    "#calculate accuracy score\n",
    "print('accuracy score', accuracy_score(df2['truth'], df2['predict']))\n",
    "#print classification report\n",
    "print(classification_report(df2['truth'], df2['predict']))"
   ]
  },
  {
   "cell_type": "code",
   "execution_count": 49,
   "metadata": {},
   "outputs": [],
   "source": [
    "#This function prints and plots the confusion matrix.\n",
    "def plot_confusion_matrix(y_true, y_pred, classes,\n",
    "                          normalize=False,\n",
    "                          cmap=plt.cm.Blues, annot=True, annot_kws={\"size\": 3}):\n",
    "    # Compute confusion matrix\n",
    "    cm = confusion_matrix(df2['truth'], df2['predict'])\n",
    "    # Only use the labels that appear in the data\n",
    "    #classes = ('Built-up', 'Forest', 'Water', 'Grass', 'WB', 'WW', 'OSR')\n",
    "    classes = ('Built-up', 'Forest', 'Grass', 'Water', 'Bare Soil')\n",
    "    print(\"diagonal\", cm.diagonal()/cm.sum(axis=1))\n",
    "    if normalize:\n",
    "        cm = cm.astype('float') / cm.sum(axis=1)[:, np.newaxis]\n",
    "        print(\"Normalized confusion matrix\")\n",
    "    else:\n",
    "        print('Confusion matrix, without normalization')\n",
    "\n",
    "    print(cm)\n",
    "    VALUE_SIZE = 10\n",
    "    LABEL_SIZE = 12\n",
    "\n",
    "    fig, ax = plt.subplots()\n",
    "    im = ax.imshow(cm, interpolation='nearest', cmap=cmap)\n",
    "    ax.figure.colorbar(im, ax=ax)\n",
    "    #show tick labels and label them with list enteries.\n",
    "    ax.set(xticks=np.arange(cm.shape[1]),\n",
    "           yticks=np.arange(cm.shape[0]),\n",
    "           xticklabels=classes, yticklabels=classes,\n",
    "           ylabel='True label',\n",
    "           xlabel='Predicted label')\n",
    "\n",
    "    # Rotate the tick labels and set their alignment.\n",
    "    plt.setp(ax.get_xticklabels(), rotation=45, ha=\"right\",\n",
    "             rotation_mode=\"anchor\", fontsize = LABEL_SIZE)\n",
    "    plt.setp(ax.get_yticklabels(), fontsize = LABEL_SIZE)\n",
    "    #path for output of normalised and non-normalised confusion matrices\n",
    "    notn = 'cm.png'\n",
    "    norm = 'ncm.png'\n",
    "\n",
    "    # Loop over data dimensions and create text annotations.\n",
    "    fmt = '.2f' if normalize else 'd'\n",
    "    thresh = cm.max() / 2.\n",
    "    for i in range(cm.shape[0]):\n",
    "        for j in range(cm.shape[1]):\n",
    "            ax.text(j, i, format(cm[i, j], fmt),\n",
    "                    ha=\"center\", va=\"center\", fontsize=VALUE_SIZE,\n",
    "                    color=\"white\" if cm[i, j] > thresh else \"black\")\n",
    "    fig.tight_layout()\n",
    "    #save the outputs on the confusion matrices\n",
    "    if normalize:\n",
    "        plt.savefig(norm)\n",
    "        print(\"saved to\", norm)\n",
    "    else:\n",
    "        plt.savefig(notn)\n",
    "        print(\"saved to\", notn)\n",
    "    return ax\n"
   ]
  },
  {
   "cell_type": "code",
   "execution_count": 50,
   "metadata": {},
   "outputs": [
    {
     "name": "stdout",
     "output_type": "stream",
     "text": [
      "diagonal [0.94 1.   0.94 1.   0.94]\n",
      "Confusion matrix, without normalization\n",
      "[[19776    28   600     9   627]\n",
      " [    0   325     1     0     0]\n",
      " [    9     3   302     0     7]\n",
      " [    3     0     0 20929    15]\n",
      " [    3     5    14     0   367]]\n",
      "saved to cm.png\n",
      "diagonal [0.94 1.   0.94 1.   0.94]\n",
      "Normalized confusion matrix\n",
      "[[9.40e-01 1.33e-03 2.85e-02 4.28e-04 2.98e-02]\n",
      " [0.00e+00 9.97e-01 3.07e-03 0.00e+00 0.00e+00]\n",
      " [2.80e-02 9.35e-03 9.41e-01 0.00e+00 2.18e-02]\n",
      " [1.43e-04 0.00e+00 0.00e+00 9.99e-01 7.16e-04]\n",
      " [7.71e-03 1.29e-02 3.60e-02 0.00e+00 9.43e-01]]\n",
      "saved to ncm.png\n"
     ]
    },
    {
     "data": {
      "image/png": "[encoded data removed]",
      "text/plain": [
       "<Figure size 432x288 with 2 Axes>"
      ]
     },
     "metadata": {
      "needs_background": "light"
     },
     "output_type": "display_data"
    },
    {
     "data": {
      "image/png": "[encoded data removed]",
      "text/plain": [
       "<Figure size 432x288 with 2 Axes>"
      ]
     },
     "metadata": {
      "needs_background": "light"
     },
     "output_type": "display_data"
    }
   ],
   "source": [
    "#class labels\n",
    "classes = ('Built-up', 'Forest', 'Grass', 'Water', 'Bare Soil')\n",
    "\n",
    "np.set_printoptions(precision=2)\n",
    "# Plot non-normalized confusion matrix\n",
    "plot_confusion_matrix(df2['truth'], df2['predict'], classes=classes)\n",
    "\n",
    "# Plot normalized confusion matrix\n",
    "plot_confusion_matrix(df2['truth'], df2['predict'], classes=classes, normalize=True)\n",
    "plt.show()\n",
    "\n"
   ]
  },
  {
   "cell_type": "code",
   "execution_count": 51,
   "metadata": {},
   "outputs": [],
   "source": [
    "# Use full image, reshape to 2darray for classification (nrow * ncol, nband)\n",
    "new_shape = (img.shape[0] * img.shape[1], img.shape[2])\n",
    "img_as_array = img[:, :, :].reshape(new_shape)"
   ]
  },
  {
   "cell_type": "code",
   "execution_count": 52,
   "metadata": {},
   "outputs": [],
   "source": [
    "img_as_array2 = np.nan_to_num(img_as_array)"
   ]
  },
  {
   "cell_type": "code",
   "execution_count": 53,
   "metadata": {},
   "outputs": [],
   "source": [
    "# Now predict each pixel in the image.\n",
    "class_prediction = rf.predict(img_as_array2)"
   ]
  },
  {
   "cell_type": "code",
   "execution_count": 54,
   "metadata": {},
   "outputs": [
    {
     "name": "stdout",
     "output_type": "stream",
     "text": [
      "[1 2 3 4 5]\n"
     ]
    }
   ],
   "source": [
    "# Reshape classification map\n",
    "class_prediction = class_prediction.reshape(img[:, :, 0].shape)\n",
    "print(np.unique(class_prediction))\n",
    "#im = ImageSave.fromarray(class_prediction)\n",
    "#im.save('map.tif')"
   ]
  },
  {
   "cell_type": "code",
   "execution_count": 55,
   "metadata": {},
   "outputs": [
    {
     "name": "stdout",
     "output_type": "stream",
     "text": [
      "(1368, 1626)\n",
      "1368\n"
     ]
    }
   ],
   "source": [
    "print(class_prediction.shape)\n",
    "xsize = class_prediction.shape[0]\n",
    "ysize = class_prediction.shape[1]\n",
    "print(xsize)"
   ]
  },
  {
   "cell_type": "code",
   "execution_count": 56,
   "metadata": {},
   "outputs": [
    {
     "data": {
      "image/png": "[encoded data removed]",
      "text/plain": [
       "<Figure size 720x432 with 1 Axes>"
      ]
     },
     "metadata": {},
     "output_type": "display_data"
    }
   ],
   "source": [
    "# use seaborne raster plots\n",
    "sns.set_style(\"white\")\n",
    "#set colours for each class\n",
    "colors = ['red', 'darkgreen', 'lightgreen', 'blue', 'orange']\n",
    "cmap = ListedColormap(colors)\n",
    "# Plot newly classified and masked raster\n",
    "fig, ax = plt.subplots(figsize = (10,6))\n",
    "ax.imshow(class_prediction, cmap = cmap)\n",
    "ax.set_yticks([])\n",
    "ax.set_xticks([])\n",
    "ax.legend(np.unique(class_prediction))\n",
    "plt.show()"
   ]
  },
  {
   "cell_type": "code",
   "execution_count": 57,
   "metadata": {},
   "outputs": [],
   "source": [
    "dst_filename = 'combined_run.tiff'\n",
    "x_pixels = ysize  # number of pixels in x\n",
    "y_pixels = xsize  # number of pixels in y\n",
    "driver = gdal.GetDriverByName('GTiff')\n",
    "dataset = driver.Create(dst_filename, x_pixels, y_pixels, 1,gdal.GDT_Float32)\n",
    "dataset.GetRasterBand(1).WriteArray(class_prediction)\n",
    "\n",
    "# follow code is adding GeoTranform and Projection\n",
    "geotrans=img_ds.GetGeoTransform()  #get GeoTranform from existed 'data0'\n",
    "proj=img_ds.GetProjection() #you can get from a exsited tif or import \n",
    "dataset.SetGeoTransform(geotrans)\n",
    "dataset.SetProjection(proj)\n",
    "dataset.FlushCache()\n",
    "dataset=None"
   ]
  },
  {
   "cell_type": "markdown",
   "metadata": {},
   "source": [
    "## Test on new area"
   ]
  },
  {
   "cell_type": "code",
   "execution_count": 58,
   "metadata": {},
   "outputs": [],
   "source": [
    "#img_ds2 = gdal.Open('img_ds2.tiff', gdal.GA_ReadOnly)\n",
    "img_ds2 = gdal.Open('combine_test_Nadi.tif', gdal.GA_ReadOnly)"
   ]
  },
  {
   "cell_type": "code",
   "execution_count": 59,
   "metadata": {},
   "outputs": [
    {
     "name": "stdout",
     "output_type": "stream",
     "text": [
      "0\n",
      "1\n",
      "2\n",
      "3\n",
      "4\n",
      "5\n",
      "6\n",
      "7\n",
      "8\n",
      "9\n",
      "10\n",
      "11\n",
      "12\n",
      "13\n",
      "14\n",
      "15\n",
      "16\n",
      "17\n",
      "18\n",
      "19\n"
     ]
    }
   ],
   "source": [
    "img2 = np.zeros((img_ds2.RasterYSize, img_ds2.RasterXSize, img_ds2.RasterCount),\n",
    "               gdal_array.GDALTypeCodeToNumericTypeCode(img_ds2.GetRasterBand(1).DataType))\n",
    "#print(img.dtype)\n",
    "for b in range(img2.shape[2]):\n",
    "    img2[:, :, b] = img_ds2.GetRasterBand(b + 1).ReadAsArray()\n",
    "    print(b)\n",
    "#print(img2)"
   ]
  },
  {
   "cell_type": "code",
   "execution_count": 60,
   "metadata": {},
   "outputs": [],
   "source": [
    "# Use full image, reshape to 2darray for classification (nrow * ncol, nband)\n",
    "new_shape3 = (img2.shape[0] * img2.shape[1], img2.shape[2])\n",
    "img_as_array3 = img2[:, :, :].reshape(new_shape3)"
   ]
  },
  {
   "cell_type": "code",
   "execution_count": 61,
   "metadata": {},
   "outputs": [],
   "source": [
    "img_as_array4 = np.nan_to_num(img_as_array3)"
   ]
  },
  {
   "cell_type": "code",
   "execution_count": 62,
   "metadata": {},
   "outputs": [],
   "source": [
    "# Now predict each pixel in the image.\n",
    "class_prediction2 = rf.predict(img_as_array4)"
   ]
  },
  {
   "cell_type": "code",
   "execution_count": 63,
   "metadata": {},
   "outputs": [
    {
     "name": "stdout",
     "output_type": "stream",
     "text": [
      "[1 2 3 4 5]\n"
     ]
    }
   ],
   "source": [
    "# Reshape classification map\n",
    "class_prediction2 = class_prediction2.reshape(img2[:, :, 0].shape)\n",
    "print(np.unique(class_prediction2))\n",
    "#im = ImageSave.fromarray(class_prediction)\n",
    "#im.save('map.tif')"
   ]
  },
  {
   "cell_type": "code",
   "execution_count": 64,
   "metadata": {},
   "outputs": [
    {
     "name": "stdout",
     "output_type": "stream",
     "text": [
      "(1368, 1626)\n",
      "1368\n"
     ]
    }
   ],
   "source": [
    "print(class_prediction2.shape)\n",
    "xsize2 = class_prediction2.shape[0]\n",
    "ysize2 = class_prediction2.shape[1]\n",
    "print(xsize2)"
   ]
  },
  {
   "cell_type": "code",
   "execution_count": 65,
   "metadata": {},
   "outputs": [
    {
     "data": {
      "image/png": "[encoded data removed]",
      "text/plain": [
       "<Figure size 720x432 with 1 Axes>"
      ]
     },
     "metadata": {},
     "output_type": "display_data"
    }
   ],
   "source": [
    "# use seaborne raster plots\n",
    "sns.set_style(\"white\")\n",
    "#set colours for each class\n",
    "colors = ['red', 'darkgreen', 'lightgreen', 'blue', 'orange']\n",
    "cmap = ListedColormap(colors)\n",
    "# Plot newly classified and masked raster\n",
    "fig, ax = plt.subplots(figsize = (10,6))\n",
    "ax.imshow(class_prediction2, cmap = cmap)\n",
    "ax.set_yticks([])\n",
    "ax.set_xticks([])\n",
    "ax.legend(np.unique(class_prediction2))\n",
    "plt.show()"
   ]
  },
  {
   "cell_type": "code",
   "execution_count": 66,
   "metadata": {},
   "outputs": [],
   "source": [
    "dst_filename = 'combine_run_nadi.tiff'\n",
    "x_pixels = ysize  # number of pixels in x\n",
    "y_pixels = xsize  # number of pixels in y\n",
    "driver = gdal.GetDriverByName('GTiff')\n",
    "dataset = driver.Create(dst_filename,x_pixels, y_pixels, 1,gdal.GDT_Float32)\n",
    "dataset.GetRasterBand(1).WriteArray(class_prediction2)\n",
    "\n",
    "# follow code is adding GeoTranform and Projection\n",
    "geotrans=img_ds2.GetGeoTransform()  #get GeoTranform from existed 'data0'\n",
    "proj=img_ds2.GetProjection() #you can get from a exsited tif or import \n",
    "dataset.SetGeoTransform(geotrans)\n",
    "dataset.SetProjection(proj)\n",
    "dataset.FlushCache()\n",
    "dataset=None"
   ]
  },
  {
   "cell_type": "code",
   "execution_count": null,
   "metadata": {},
   "outputs": [],
   "source": []
  },
  {
   "cell_type": "code",
   "execution_count": null,
   "metadata": {},
   "outputs": [],
   "source": []
  }
 ],
 "metadata": {
  "kernelspec": {
   "display_name": "Python [conda env:cubeenv]",
   "language": "python",
   "name": "conda-env-cubeenv-py"
  },
  "language_info": {
   "codemirror_mode": {
    "name": "ipython",
    "version": 3
   },
   "file_extension": ".py",
   "mimetype": "text/x-python",
   "name": "python",
   "nbconvert_exporter": "python",
   "pygments_lexer": "ipython3",
   "version": "3.6.10"
  }
 },
 "nbformat": 4,
 "nbformat_minor": 2
}
