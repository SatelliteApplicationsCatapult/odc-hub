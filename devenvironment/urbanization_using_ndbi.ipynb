{
 "cells": [
  {
   "cell_type": "code",
   "execution_count": 1,
   "metadata": {
    "scrolled": true
   },
   "outputs": [],
   "source": [
    "%matplotlib inline\n",
    "# Magic + imports likely common across all notebooks\n",
    "%load_ext autoreload\n",
    "%autoreload 2\n",
    "%matplotlib inline\n",
    "# Supress Warning \n",
    "import warnings\n",
    "warnings.filterwarnings('ignore')\n",
    "# Set reference for util modules\n",
    "import sys\n",
    "sys.path.append('/home/jovyan/odc-hub/')\n",
    "\n",
    "# supress warnings\n",
    "import warnings\n",
    "warnings.filterwarnings('ignore')\n",
    "\n",
    "from utils_sac.createindices import NDVI, NDWI, NDBI\n",
    "from utils_dcal.data_cube_utilities.dc_mosaic import create_median_mosaic, ls8_unpack_qa\n",
    "from utils_dcal.data_cube_utilities.dc_mosaic import create_mosaic, ls8_unpack_qa\n",
    "import numpy as np\n",
    "import datacube \n",
    "from datetime import datetime\n",
    "from utils_dcal.data_cube_utilities.dc_utilities import write_png_from_xr, write_geotiff_from_xr\n",
    "from utils_dcal.data_cube_utilities.dc_display_map import display_map"
   ]
  },
  {
   "cell_type": "markdown",
   "metadata": {},
   "source": [
    "# NDVI  \n",
    "<br>  \n",
    "  \n",
    "> **NDVI(Normalized Difference Vegetation Index**  \n",
    "> A derived index that correlates well with the existance of vegetation.  \n",
    "\n",
    "<br>\n",
    "\n",
    "$$ NDVI =  \\frac{(NIR - RED)}{(NIR + RED)}$$  \n",
    "\n",
    "<br>"
   ]
  },
  {
   "cell_type": "markdown",
   "metadata": {},
   "source": [
    "# NDWI  \n",
    "  \n",
    "> **NDWI Normalized Difference Water Index**  \n",
    "> A derived index that correlates well with the existance of water.  \n",
    "<br>\n",
    "\n",
    "$$ NDWI =  \\frac{GREEN - NIR}{GREEN + NIR}$$  \n",
    "  \n",
    "<br>"
   ]
  },
  {
   "cell_type": "markdown",
   "metadata": {},
   "source": [
    "# NDBI  \n",
    "\n",
    "> **NDWI Normalized Difference Build-Up Index**  \n",
    "> A derived index that correlates well with the existance of urbanization.  \n",
    "<br>\n",
    "\n",
    "$$ NDBI =  \\frac{(SWIR - NIR)}{(SWIR + NIR)}$$  \n",
    " \n",
    "<br>  "
   ]
  },
  {
   "cell_type": "markdown",
   "metadata": {},
   "source": [
    "# MOSAIC  \n",
    "  \n",
    ">**Recent-Pixel-First Mosaic**   \n",
    ">A cloud free representation of satellite imagery. Works by masking out clouds from imagery, and using the most recent cloud-free pixels in an image.  \n",
    "\n",
    "![](diagrams/urbanization/flat_mosaic.png)\n",
    "  \n",
    "<br>  "
   ]
  },
  {
   "cell_type": "code",
   "execution_count": 2,
   "metadata": {
    "scrolled": true
   },
   "outputs": [],
   "source": [
    "\n",
    "\n",
    "def mosaic(dataset):\n",
    "    # The mask here is based on pixel_qa. It comes bundled in with most Landsat Products.\n",
    "    clear_xarray  = ls8_unpack_qa(dataset.pixel_qa, \"clear\")  # Boolean Xarray indicating landcover\n",
    "    water_xarray  = ls8_unpack_qa(dataset.pixel_qa, \"water\")  # Boolean Xarray indicating watercover\n",
    "    \n",
    "    cloud_free_boolean_mask = np.logical_or(clear_xarray, water_xarray)\n",
    "    \n",
    "    return create_mosaic(dataset, clean_mask = cloud_free_boolean_mask)"
   ]
  },
  {
   "cell_type": "markdown",
   "metadata": {},
   "source": [
    "<br>\n",
    "  \n",
    "> **Median Mosaic**  \n",
    ">  A cloud free representation fo satellite imagery. Works by masking out clouds from imagery, and using the median valued cloud-free pixels in the time series  \n",
    "  \n",
    "<br>\n",
    "\n",
    "\n",
    "![](diagrams/urbanization/median_comp.png)  \n",
    "  \n",
    "<br>"
   ]
  },
  {
   "cell_type": "code",
   "execution_count": 3,
   "metadata": {
    "scrolled": true
   },
   "outputs": [],
   "source": [
    "\n",
    "def median_mosaic(dataset):\n",
    "    # The mask here is based on pixel_qa. It comes bundled in with most Landsat Products.\n",
    "    clear_xarray  = ls8_unpack_qa(dataset.pixel_qa, \"clear\")  # Boolean Xarray indicating landcover\n",
    "    water_xarray  = ls8_unpack_qa(dataset.pixel_qa, \"water\")  # Boolean Xarray indicating watercover\n",
    "    \n",
    "    cloud_free_boolean_mask = np.logical_or(clear_xarray, water_xarray)\n",
    "    \n",
    "    return create_median_mosaic(dataset, clean_mask = cloud_free_boolean_mask)"
   ]
  },
  {
   "cell_type": "markdown",
   "metadata": {},
   "source": [
    "<br>  \n",
    "\n",
    "# Loading Data"
   ]
  },
  {
   "cell_type": "markdown",
   "metadata": {},
   "source": [
    "> **Data cube object**  \n",
    "> A datacube object is your interface with data stored on your data cube system.  \n",
    "<br>  "
   ]
  },
  {
   "cell_type": "code",
   "execution_count": 4,
   "metadata": {
    "scrolled": true
   },
   "outputs": [],
   "source": [
    " \n",
    "dc = datacube.Datacube(app = '3B_urban')  "
   ]
  },
  {
   "cell_type": "markdown",
   "metadata": {},
   "source": [
    "<br>\n",
    "\n",
    "> **Loading a Dataset**  \n",
    "> Requires latitude-longitude bounds of an area, a time-range, list of desired measurements, platform and product names."
   ]
  },
  {
   "cell_type": "code",
   "execution_count": 5,
   "metadata": {},
   "outputs": [],
   "source": [
    "output_projection = \"EPSG:32760\"\n",
    "resolution = (-30, 30)\n",
    "platform = 'LANDSAT_4'\n",
    "product = 'ls4_usgs_sr_scene'\n",
    "platform_analy = 'LANDSAT_8'\n",
    "product_analy = 'ls8_usgs_sr_scene'"
   ]
  },
  {
   "cell_type": "code",
   "execution_count": 6,
   "metadata": {},
   "outputs": [
    {
     "name": "stdout",
     "output_type": "stream",
     "text": [
      "Lat: (-18.166893514761473, -18.094460132375914) \n",
      "Lon: (178.3652687072754, 178.5051727294922)\n"
     ]
    }
   ],
   "source": [
    "from utils_sac.createAOI import create_lat_lon\n",
    "aoi_wkt = \"POLYGON ((178.3652687072754 -18.166893514761473, 178.5051727294922 -18.166893514761473, 178.5051727294922 -18.094460132375914, 178.3652687072754 -18.094460132375914, 178.3652687072754 -18.166893514761473))\"\n",
    "#aoi_wkt = \"POLYGON((178.98101806642 -17.592544555664, 179.03903961183 -17.593231201171, 179.03903961183 -17.66258239746, 178.97998809815 -17.661209106445, 178.98101806642 -17.592544555664))\"\n",
    "lat, lon = create_lat_lon(aoi_wkt)\n",
    "print(\"Lat:\", lat, \"\\n\"\n",
    "      \"Lon:\", lon)"
   ]
  },
  {
   "cell_type": "code",
   "execution_count": 7,
   "metadata": {},
   "outputs": [],
   "source": [
    "query = {\n",
    "    'latitude' : lat,\n",
    "    'longitude': lon,\n",
    "    'output_crs': output_projection,  \n",
    "    'resolution': resolution,\n",
    "    'product' : product,\n",
    "    'platform' : platform \n",
    "}"
   ]
  },
  {
   "cell_type": "code",
   "execution_count": 8,
   "metadata": {},
   "outputs": [],
   "source": [
    "query_analy = {\n",
    "    'latitude' : lat,\n",
    "    'longitude': lon,\n",
    "    'output_crs': output_projection,  \n",
    "    'resolution': resolution,\n",
    "    'product' : product_analy,\n",
    "    'platform' : platform_analy \n",
    "}"
   ]
  },
  {
   "cell_type": "code",
   "execution_count": 9,
   "metadata": {
    "scrolled": true
   },
   "outputs": [
    {
     "name": "stdout",
     "output_type": "stream",
     "text": [
      "<xarray.Dataset>\n",
      "Dimensions:  ()\n",
      "Data variables:\n",
      "    *empty*\n"
     ]
    }
   ],
   "source": [
    "## Loading in a region\n",
    "start_date = datetime(2017,1,1)\n",
    "end_date = datetime(2017,12,24)\n",
    "date_range_base = (start_date,end_date)\n",
    "\n",
    "desired_bands = ['red','green','nir','swir2', 'pixel_qa']  # needed by ndvi, ndwi, ndbi and cloud masking\n",
    "desired_bands = desired_bands + ['blue'] # blue is needed for a true color visualization purposes\n",
    "\n",
    "landsat_dataset_base = dc.load(\n",
    "    group_by='solar_day',\n",
    "    time = date_range_base,\n",
    "    measurements = desired_bands,\n",
    "    **query\n",
    ")\n",
    "\n",
    "print(landsat_dataset_base)"
   ]
  },
  {
   "cell_type": "code",
   "execution_count": 10,
   "metadata": {},
   "outputs": [],
   "source": [
    "start_date_analy = datetime(2013,1,1)\n",
    "end_date_analy = datetime(2013,12,30)\n",
    "date_range_analy = (start_date_analy,end_date_analy)\n",
    "\n",
    "landsat_dataset_analysis = dc.load(\n",
    "    group_by='solar_day',\n",
    "    time = date_range_analy,\n",
    "    measurements = desired_bands,\n",
    "    **query_analy\n",
    ")"
   ]
  },
  {
   "cell_type": "code",
   "execution_count": 11,
   "metadata": {},
   "outputs": [
    {
     "name": "stdout",
     "output_type": "stream",
     "text": [
      "<xarray.Dataset>\n",
      "Dimensions:   (time: 31, x: 496, y: 272)\n",
      "Coordinates:\n",
      "  * time      (time) datetime64[ns] 2013-04-25T22:14:33 ... 2013-12-23T22:01:54\n",
      "  * y         (y) float64 7.999e+06 7.999e+06 7.999e+06 ... 7.991e+06 7.991e+06\n",
      "  * x         (x) float64 6.444e+05 6.444e+05 6.445e+05 ... 6.592e+05 6.593e+05\n",
      "Data variables:\n",
      "    red       (time, y, x) int16 -9999 -9999 -9999 -9999 ... -9999 -9999 -9999\n",
      "    green     (time, y, x) int16 -9999 -9999 -9999 -9999 ... -9999 -9999 -9999\n",
      "    nir       (time, y, x) int16 -9999 -9999 -9999 -9999 ... -9999 -9999 -9999\n",
      "    swir2     (time, y, x) int16 -9999 -9999 -9999 -9999 ... -9999 -9999 -9999\n",
      "    pixel_qa  (time, y, x) uint16 1 1 1 1 1 1 1 1 1 1 1 ... 1 1 1 1 1 1 1 1 1 1\n",
      "    blue      (time, y, x) int16 -9999 -9999 -9999 -9999 ... -9999 -9999 -9999\n",
      "Attributes:\n",
      "    crs:      EPSG:32760\n"
     ]
    }
   ],
   "source": [
    "print(landsat_dataset_analysis)"
   ]
  },
  {
   "cell_type": "code",
   "execution_count": 12,
   "metadata": {},
   "outputs": [
    {
     "data": {
      "text/html": [
       "<div style=\"width:100%;\"><div style=\"position:relative;width:100%;height:0;padding-bottom:60%;\"><iframe src=\"data:text/html;charset=utf-8;base64,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\" style=\"position:absolute;width:100%;height:100%;left:0;top:0;border:none !important;\" allowfullscreen webkitallowfullscreen mozallowfullscreen></iframe></div></div>"
      ],
      "text/plain": [
       "<folium.folium.Map at 0x7f1cf0b0e2e8>"
      ]
     },
     "execution_count": 12,
     "metadata": {},
     "output_type": "execute_result"
    }
   ],
   "source": [
    "display_map(latitude = lat, longitude = lon)  "
   ]
  },
  {
   "cell_type": "markdown",
   "metadata": {},
   "source": [
    "<br>  \n",
    "\n",
    "# Displaying Data  \n",
    "<br>  \n",
    "\n",
    ">**A cloud free composite**  \n",
    "Clouds get in the way of understanding the area. Cloud free composites draw from a history of acquisitions to generate a cloud free representation of your area  \n",
    "\n",
    "<br>  "
   ]
  },
  {
   "cell_type": "code",
   "execution_count": 13,
   "metadata": {
    "scrolled": true
   },
   "outputs": [
    {
     "ename": "AttributeError",
     "evalue": "'Dataset' object has no attribute 'pixel_qa'",
     "output_type": "error",
     "traceback": [
      "\u001b[0;31m---------------------------------------------------------------------------\u001b[0m",
      "\u001b[0;31mAttributeError\u001b[0m                            Traceback (most recent call last)",
      "\u001b[0;32m<ipython-input-13-a7a26693c4e0>\u001b[0m in \u001b[0;36m<module>\u001b[0;34m\u001b[0m\n\u001b[0;32m----> 1\u001b[0;31m \u001b[0mlandsat_mosaic_base\u001b[0m \u001b[0;34m=\u001b[0m \u001b[0mmedian_mosaic\u001b[0m\u001b[0;34m(\u001b[0m\u001b[0mlandsat_dataset_base\u001b[0m\u001b[0;34m)\u001b[0m\u001b[0;34m\u001b[0m\u001b[0;34m\u001b[0m\u001b[0m\n\u001b[0m\u001b[1;32m      2\u001b[0m \u001b[0mlandsat_mosaic_analy\u001b[0m \u001b[0;34m=\u001b[0m \u001b[0mmedian_mosaic\u001b[0m\u001b[0;34m(\u001b[0m\u001b[0mlandsat_dataset_analysis\u001b[0m\u001b[0;34m)\u001b[0m\u001b[0;34m\u001b[0m\u001b[0;34m\u001b[0m\u001b[0m\n",
      "\u001b[0;32m<ipython-input-3-510120eea0a0>\u001b[0m in \u001b[0;36mmedian_mosaic\u001b[0;34m(dataset)\u001b[0m\n\u001b[1;32m      2\u001b[0m \u001b[0;32mdef\u001b[0m \u001b[0mmedian_mosaic\u001b[0m\u001b[0;34m(\u001b[0m\u001b[0mdataset\u001b[0m\u001b[0;34m)\u001b[0m\u001b[0;34m:\u001b[0m\u001b[0;34m\u001b[0m\u001b[0;34m\u001b[0m\u001b[0m\n\u001b[1;32m      3\u001b[0m     \u001b[0;31m# The mask here is based on pixel_qa. It comes bundled in with most Landsat Products.\u001b[0m\u001b[0;34m\u001b[0m\u001b[0;34m\u001b[0m\u001b[0;34m\u001b[0m\u001b[0m\n\u001b[0;32m----> 4\u001b[0;31m     \u001b[0mclear_xarray\u001b[0m  \u001b[0;34m=\u001b[0m \u001b[0mls8_unpack_qa\u001b[0m\u001b[0;34m(\u001b[0m\u001b[0mdataset\u001b[0m\u001b[0;34m.\u001b[0m\u001b[0mpixel_qa\u001b[0m\u001b[0;34m,\u001b[0m \u001b[0;34m\"clear\"\u001b[0m\u001b[0;34m)\u001b[0m  \u001b[0;31m# Boolean Xarray indicating landcover\u001b[0m\u001b[0;34m\u001b[0m\u001b[0;34m\u001b[0m\u001b[0m\n\u001b[0m\u001b[1;32m      5\u001b[0m     \u001b[0mwater_xarray\u001b[0m  \u001b[0;34m=\u001b[0m \u001b[0mls8_unpack_qa\u001b[0m\u001b[0;34m(\u001b[0m\u001b[0mdataset\u001b[0m\u001b[0;34m.\u001b[0m\u001b[0mpixel_qa\u001b[0m\u001b[0;34m,\u001b[0m \u001b[0;34m\"water\"\u001b[0m\u001b[0;34m)\u001b[0m  \u001b[0;31m# Boolean Xarray indicating watercover\u001b[0m\u001b[0;34m\u001b[0m\u001b[0;34m\u001b[0m\u001b[0m\n\u001b[1;32m      6\u001b[0m \u001b[0;34m\u001b[0m\u001b[0m\n",
      "\u001b[0;32m/opt/conda/envs/cubeenv/lib/python3.6/site-packages/xarray/core/common.py\u001b[0m in \u001b[0;36m__getattr__\u001b[0;34m(self, name)\u001b[0m\n\u001b[1;32m    177\u001b[0m                     \u001b[0;32mreturn\u001b[0m \u001b[0msource\u001b[0m\u001b[0;34m[\u001b[0m\u001b[0mname\u001b[0m\u001b[0;34m]\u001b[0m\u001b[0;34m\u001b[0m\u001b[0;34m\u001b[0m\u001b[0m\n\u001b[1;32m    178\u001b[0m         raise AttributeError(\"%r object has no attribute %r\" %\n\u001b[0;32m--> 179\u001b[0;31m                              (type(self).__name__, name))\n\u001b[0m\u001b[1;32m    180\u001b[0m \u001b[0;34m\u001b[0m\u001b[0m\n\u001b[1;32m    181\u001b[0m     \u001b[0;32mdef\u001b[0m \u001b[0m__setattr__\u001b[0m\u001b[0;34m(\u001b[0m\u001b[0mself\u001b[0m\u001b[0;34m,\u001b[0m \u001b[0mname\u001b[0m\u001b[0;34m,\u001b[0m \u001b[0mvalue\u001b[0m\u001b[0;34m)\u001b[0m\u001b[0;34m:\u001b[0m\u001b[0;34m\u001b[0m\u001b[0;34m\u001b[0m\u001b[0m\n",
      "\u001b[0;31mAttributeError\u001b[0m: 'Dataset' object has no attribute 'pixel_qa'"
     ]
    }
   ],
   "source": [
    "landsat_mosaic_base = median_mosaic(landsat_dataset_base)\n",
    "landsat_mosaic_analy = median_mosaic(landsat_dataset_analysis)"
   ]
  },
  {
   "cell_type": "markdown",
   "metadata": {},
   "source": [
    "<br>  \n",
    "> **Saving your data**  \n",
    "> A .tiff or png is a great way to represent true color mosaics. The image below is a saved .png representation of of a landsat mosaic.  "
   ]
  },
  {
   "cell_type": "code",
   "execution_count": null,
   "metadata": {
    "scrolled": true
   },
   "outputs": [],
   "source": [
    "landsat_mosaic_base = landsat_mosaic_base.rename({\"x\":\"latitude\", \"y\":\"longitude\"})\n",
    "cloud_Free_base = write_png_from_xr('cloud_free_mosaic_base.png', landsat_mosaic_base, [\"red\", \"green\", \"blue\"], scale = [(0,2000),(0,2000),(0,2000)], crs=\"EPSG:32760\")\n",
    "write_geotiff_from_xr('cloud_free_mosaic_base.tiff', landsat_mosaic_base, [\"red\", \"green\", \"blue\"], crs=output_projection)\n"
   ]
  },
  {
   "cell_type": "code",
   "execution_count": null,
   "metadata": {},
   "outputs": [],
   "source": [
    "landsat_mosaic_analy = landsat_mosaic_analy.rename({\"x\":\"latitude\", \"y\":\"longitude\"})\n",
    "cloud_Free_analy = write_png_from_xr('cloud_free_mosaic_analy.png', landsat_mosaic_analy, [\"red\", \"green\", \"blue\"], scale = [(0,2000),(0,2000),(0,2000)], crs=\"EPSG:32760\")\n",
    "write_geotiff_from_xr('cloud_free_mosaic_analy.tiff', landsat_mosaic_analy, [\"red\", \"green\", \"blue\"], crs=output_projection)\n"
   ]
  },
  {
   "cell_type": "markdown",
   "metadata": {},
   "source": [
    "<br>  \n",
    "\n",
    "![](diagrams/urbanization/cloud_free_mosaic.png)  \n",
    "  \n",
    "<br>  "
   ]
  },
  {
   "cell_type": "markdown",
   "metadata": {},
   "source": [
    "# Urbanization Analysis  \n",
    "\n",
    "> **NDWI, NDVI, NDBI**  \n",
    "You will very rarely have urban classification and water classifications apply to the same pixel. For urban analysis, it may make sense to compute not just urban classes, but classes that are unlikely to co-occur with urbanization. \n",
    "  \n",
    "<br>"
   ]
  },
  {
   "cell_type": "code",
   "execution_count": null,
   "metadata": {
    "scrolled": true
   },
   "outputs": [],
   "source": [
    "ndbi_base = NDBI(landsat_mosaic_base)  # Urbanization\n",
    "ndvi_base = NDVI(landsat_mosaic_base)  # Dense Vegetation\n",
    "ndwi_base = NDWI(landsat_mosaic_base)  # High Concentrations of Water"
   ]
  },
  {
   "cell_type": "code",
   "execution_count": null,
   "metadata": {},
   "outputs": [],
   "source": [
    "ndbi_analy = NDBI(landsat_mosaic_analy)  # Urbanization\n",
    "ndvi_analy = NDVI(landsat_mosaic_analy)  # Dense Vegetation\n",
    "ndwi_analy = NDWI(landsat_mosaic_analy)  # High Concentrations of Water"
   ]
  },
  {
   "cell_type": "markdown",
   "metadata": {},
   "source": [
    ">**Plot Values**  \n",
    "> xarray data-arrays have built in plotting functions you can use to validate trends or differences in your data.  \n",
    "<br>\n",
    "  "
   ]
  },
  {
   "cell_type": "code",
   "execution_count": null,
   "metadata": {
    "scrolled": true
   },
   "outputs": [],
   "source": [
    "(ndvi_base).plot(cmap = \"Greens\", vmin = -1, vmax = 1)"
   ]
  },
  {
   "cell_type": "code",
   "execution_count": null,
   "metadata": {},
   "outputs": [],
   "source": [
    "(ndvi_analy).plot(cmap = \"Greens\", vmin = -1, vmax = 1)"
   ]
  },
  {
   "cell_type": "code",
   "execution_count": null,
   "metadata": {
    "scrolled": true
   },
   "outputs": [],
   "source": [
    "(ndwi_base).plot(cmap = \"Blues\", vmin = -1, vmax = 1)"
   ]
  },
  {
   "cell_type": "code",
   "execution_count": null,
   "metadata": {},
   "outputs": [],
   "source": [
    "(ndwi_analy).plot(cmap = \"Blues\", vmin = -1, vmax = 1)"
   ]
  },
  {
   "cell_type": "code",
   "execution_count": null,
   "metadata": {
    "scrolled": true
   },
   "outputs": [],
   "source": [
    "(ndbi_base).plot(cmap = \"Reds\", vmin = -1, vmax = 0)"
   ]
  },
  {
   "cell_type": "code",
   "execution_count": null,
   "metadata": {},
   "outputs": [],
   "source": [
    "(ndbi_analy).plot(cmap = \"Reds\", vmin = -1, vmax = 0)"
   ]
  },
  {
   "cell_type": "markdown",
   "metadata": {},
   "source": [
    "> **Convert To a Dataset**  \n",
    "It's good practice to accurately name your datasets and data-arrays. If you'd like to merge data-arrays into a larger datasets, you should convert data-arrays to datasets"
   ]
  },
  {
   "cell_type": "code",
   "execution_count": null,
   "metadata": {
    "scrolled": true
   },
   "outputs": [],
   "source": [
    "ds_ndvi_base = ndvi_base.to_dataset(name = \"NDVI\")\n",
    "ds_ndwi_base = ndwi_base.to_dataset(name=  \"NDWI\")\n",
    "ds_ndbi_base = ndbi_base.to_dataset(name = \"NDBI\")"
   ]
  },
  {
   "cell_type": "code",
   "execution_count": null,
   "metadata": {},
   "outputs": [],
   "source": [
    "ds_ndvi_analy = ndvi_analy.to_dataset(name = \"NDVI\")\n",
    "ds_ndwi_analy = ndwi_analy.to_dataset(name = \"NDWI\")\n",
    "ds_ndbi_analy = ndbi_analy.to_dataset(name = \"NDBI\")"
   ]
  },
  {
   "cell_type": "markdown",
   "metadata": {},
   "source": [
    "> **Merge into one large Dataset**  \n",
    "> If your data-arrays share the same set of coordinates, or if you feel that you'll be using these values together in the future,  you should consider merging them into a dataset"
   ]
  },
  {
   "cell_type": "code",
   "execution_count": null,
   "metadata": {
    "scrolled": true
   },
   "outputs": [],
   "source": [
    "urbanization_dataset_base = ds_ndvi_analy.merge(ds_ndwi_base).merge(ds_ndbi_base)\n",
    "urbanization_dataset_analy = ds_ndvi_analy.merge(ds_ndwi_analy).merge(ds_ndbi_analy)"
   ]
  },
  {
   "cell_type": "code",
   "execution_count": null,
   "metadata": {},
   "outputs": [],
   "source": [
    "#####edited up to here"
   ]
  },
  {
   "cell_type": "markdown",
   "metadata": {},
   "source": [
    ">**Checking your Merge**  \n",
    ">The string readout of your new dataset should give you a good idea about how the `.merge` went.  \n",
    "<br>"
   ]
  },
  {
   "cell_type": "markdown",
   "metadata": {},
   "source": [
    "<br>  \n",
    "<br>  \n",
    "\n",
    ">**Building a False Color Composite**  \n",
    "> If you have three lowly correlated measurements, place each measurement on its own Red, Green, Blue channel and visualize it. "
   ]
  },
  {
   "cell_type": "code",
   "execution_count": null,
   "metadata": {
    "scrolled": true
   },
   "outputs": [],
   "source": [
    "write_png_from_xr('false_color_base.png', urbanization_dataset_base, [\"NDBI\", \"NDVI\", \"NDWI\"], scale = [(-1,1),(0,1),(0,1)])\n",
    "write_geotiff_from_xr('false_color_base.tiff', urbanization_dataset_base, [\"NDBI\", \"NDVI\", \"NDWI\"], crs=output_projection)"
   ]
  },
  {
   "cell_type": "code",
   "execution_count": null,
   "metadata": {},
   "outputs": [],
   "source": [
    "import matplotlib.pyplot as plt\n",
    "import matplotlib.image as mpimg\n",
    "image_base = mpimg.imread(\"false_color_base.png\")\n",
    "plt.imshow(image_base)\n",
    "plt.show()"
   ]
  },
  {
   "cell_type": "code",
   "execution_count": null,
   "metadata": {},
   "outputs": [],
   "source": [
    "write_png_from_xr('false_color_analy.png', urbanization_dataset_analy, [\"NDBI\", \"NDVI\", \"NDWI\"], scale = [(-1,1),(0,1),(0,1)])\n",
    "write_geotiff_from_xr('false_color_analy.tiff', urbanization_dataset_analy, [\"NDBI\", \"NDVI\", \"NDWI\"], crs=output_projection)"
   ]
  },
  {
   "cell_type": "code",
   "execution_count": null,
   "metadata": {},
   "outputs": [],
   "source": [
    "image_base = mpimg.imread(\"false_color_analy.png\")\n",
    "plt.imshow(image_base)\n",
    "plt.show()"
   ]
  },
  {
   "cell_type": "code",
   "execution_count": null,
   "metadata": {},
   "outputs": [],
   "source": [
    "cloud_free_image = mpimg.imread(\"cloud_free_mosaic.png\")\n",
    "plt.imshow(cloud_free_image)\n",
    "plt.show()"
   ]
  },
  {
   "cell_type": "markdown",
   "metadata": {},
   "source": [
    "![](diagrams/urbanization/false_color.png)"
   ]
  },
  {
   "cell_type": "markdown",
   "metadata": {},
   "source": [
    ">**Analyze The False Color Image**  \n",
    "\n",
    "> Values that adhere strongly to individual classes adhere to their own color channel. In this example, NDVI adheres to green, NDWI adheres to blue, and NDBI seems to adhere to red  "
   ]
  },
  {
   "cell_type": "markdown",
   "metadata": {},
   "source": [
    "> **Validate urbanization using other imagery**  \n",
    "> Double check results using high-resolution imagery.  Compare to the false color mosaic\n",
    "<br>"
   ]
  },
  {
   "cell_type": "code",
   "execution_count": null,
   "metadata": {
    "scrolled": true
   },
   "outputs": [],
   "source": [
    "display_map(latitude = lat ,longitude = lon)  "
   ]
  },
  {
   "cell_type": "markdown",
   "metadata": {},
   "source": [
    "## set thresholds for ndvi, ndwi and ndbi"
   ]
  },
  {
   "cell_type": "code",
   "execution_count": null,
   "metadata": {},
   "outputs": [],
   "source": [
    "#ndwi\n",
    "ndwi_min = -1\n",
    "ndwi_max = -0.1\n",
    "#ndvi\n",
    "ndvi_min = -1\n",
    "ndvi_max = 0.5\n",
    "#ndbi\n",
    "ndbi_min = -0.9\n",
    "ndbi_max = 0\n"
   ]
  },
  {
   "cell_type": "code",
   "execution_count": null,
   "metadata": {},
   "outputs": [],
   "source": [
    "ndwi_mask_base = np.logical_and(ndwi_base > ndwi_min, ndwi_base < ndwi_max) \n",
    "ndvi_mask_base = np.logical_and(ndvi_base > ndvi_min, ndvi_base < ndvi_max)\n",
    "ndbi_mask_base = np.logical_and(ndbi_base > ndbi_min, ndbi_base < ndbi_max)"
   ]
  },
  {
   "cell_type": "code",
   "execution_count": null,
   "metadata": {},
   "outputs": [],
   "source": [
    "ndwi_mask_analy = np.logical_and(ndwi_analy > ndwi_min, ndwi_analy < ndwi_max) \n",
    "ndvi_mask_analy = np.logical_and(ndvi_analy > ndvi_min, ndvi_analy < ndvi_max)\n",
    "ndbi_mask_analy = np.logical_and(ndbi_analy > ndbi_min, ndbi_analy < ndbi_max)"
   ]
  },
  {
   "cell_type": "code",
   "execution_count": null,
   "metadata": {},
   "outputs": [],
   "source": [
    "ndwi_mask_base.plot(cmap = \"Greens\")"
   ]
  },
  {
   "cell_type": "code",
   "execution_count": null,
   "metadata": {},
   "outputs": [],
   "source": [
    "ndvi_mask_base.plot(cmap = \"Greens\")"
   ]
  },
  {
   "cell_type": "code",
   "execution_count": null,
   "metadata": {},
   "outputs": [],
   "source": [
    "ndbi_mask_base.plot(cmap = \"Reds\")"
   ]
  },
  {
   "cell_type": "code",
   "execution_count": null,
   "metadata": {},
   "outputs": [],
   "source": [
    "#create a mask here "
   ]
  },
  {
   "cell_type": "code",
   "execution_count": null,
   "metadata": {},
   "outputs": [],
   "source": [
    "from datacube.storage import masking\n",
    "mask_ndwi_base = masking.mask_invalid_data(ndwi_mask_base)\n",
    "mask_ndvi_base = masking.mask_invalid_data(ndvi_mask_base)\n",
    "mask_ndbi_base = masking.mask_invalid_data(ndbi_mask_base)"
   ]
  },
  {
   "cell_type": "code",
   "execution_count": null,
   "metadata": {},
   "outputs": [],
   "source": [
    "mask_ndwi_analy = masking.mask_invalid_data(ndwi_mask_analy)\n",
    "mask_ndvi_analy = masking.mask_invalid_data(ndvi_mask_analy)\n",
    "mask_ndbi_analy = masking.mask_invalid_data(ndbi_mask_analy)"
   ]
  },
  {
   "cell_type": "code",
   "execution_count": null,
   "metadata": {},
   "outputs": [],
   "source": [
    "ndbi_test_base = ndbi_base.where(mask_ndwi_base)\n",
    "ndbi_test_base = ndbi_test_base.where(mask_ndvi_base)\n",
    "ndbi_test_base = ndbi_test_base.where(mask_ndbi_base)"
   ]
  },
  {
   "cell_type": "code",
   "execution_count": null,
   "metadata": {},
   "outputs": [],
   "source": [
    "ndbi_test_analy = ndbi_analy.where(mask_ndwi_analy)\n",
    "ndbi_test_analy = ndbi_test_analy.where(mask_ndvi_analy)\n",
    "ndbi_test_analy = ndbi_test_analy.where(mask_ndbi_analy)"
   ]
  },
  {
   "cell_type": "code",
   "execution_count": null,
   "metadata": {},
   "outputs": [],
   "source": [
    "ndbi_test_base.plot(cmap = \"RdYlGn\")"
   ]
  },
  {
   "cell_type": "code",
   "execution_count": null,
   "metadata": {},
   "outputs": [],
   "source": [
    "ndbi_test_analy.plot(cmap = \"RdYlGn\")"
   ]
  },
  {
   "cell_type": "code",
   "execution_count": null,
   "metadata": {},
   "outputs": [],
   "source": [
    "#####experimenting with ndvi - ndbi\n",
    "#test2 = ndvi_base - ndbi_base\n",
    "test2 = np.subtract(ndbi_base, ndvi_base)\n",
    "#RdYlGn.set_bad('black',1.)\n",
    "test2.plot(cmap = RdYlGn)\n",
    "test3 = test2.where(mask_ndwi_base)\n",
    "test3 = test3.where(mask_ndvi_base)"
   ]
  },
  {
   "cell_type": "code",
   "execution_count": null,
   "metadata": {},
   "outputs": [],
   "source": [
    "test3.plot(cmap = RdYlGn)"
   ]
  },
  {
   "cell_type": "code",
   "execution_count": null,
   "metadata": {},
   "outputs": [],
   "source": [
    "cloud_free_image = mpimg.imread(\"cloud_free_mosaic.png\")\n",
    "plt.imshow(cloud_free_image)\n",
    "plt.show()"
   ]
  },
  {
   "cell_type": "code",
   "execution_count": null,
   "metadata": {},
   "outputs": [],
   "source": [
    "test = np.subtract(ndbi_test_analy, ndbi_test_base)"
   ]
  },
  {
   "cell_type": "code",
   "execution_count": null,
   "metadata": {},
   "outputs": [],
   "source": [
    "test.plot()"
   ]
  },
  {
   "cell_type": "code",
   "execution_count": null,
   "metadata": {},
   "outputs": [],
   "source": [
    "def aspect_ratio_helper(ds, fixed_width = 12):\n",
    "        y,x = ds.values.shape\n",
    "        width = fixed_width\n",
    "        height = y * (fixed_width / x)\n",
    "        return (width, height)"
   ]
  },
  {
   "cell_type": "code",
   "execution_count": null,
   "metadata": {},
   "outputs": [],
   "source": [
    "from matplotlib.cm import RdYlGn, Greens\n",
    "RdYlGn.set_bad('black',1.)\n",
    "Greens.set_bad('black',1.)"
   ]
  },
  {
   "cell_type": "code",
   "execution_count": null,
   "metadata": {},
   "outputs": [],
   "source": [
    "plt.figure(figsize = aspect_ratio_helper(test)) \n",
    "test.plot(cmap = RdYlGn)"
   ]
  },
  {
   "cell_type": "code",
   "execution_count": null,
   "metadata": {},
   "outputs": [],
   "source": [
    "# CHANGE HERE >>>>>>>>>>>>>>>>>>>>\n",
    "\n",
    "# Select an Anomaly Threshold Range to filter the results from the previous image\n",
    "# Be sure to put the smallest value in the \"minimum_change\" location (be careful of negative values)\n",
    "\n",
    "# Losses are typically in these ranges for deforestation\n",
    "# NDVI: -0.2 to -0.7\n",
    "# EVI: -0.5 to -1.75\n",
    "# Fractional Cover PV: -20 to -70\n",
    "\n",
    "minimum_change = -0.3\n",
    "maximum_change = -1"
   ]
  },
  {
   "cell_type": "code",
   "execution_count": null,
   "metadata": {},
   "outputs": [],
   "source": [
    "# Create a threshold plot using the MIN and MAX range defined above\n",
    "\n",
    "from matplotlib.ticker import FuncFormatter\n",
    "\n",
    "def threshold_plot(da, min_threshold, max_threshold, mask = None, width = 10, *args, **kwargs): \n",
    "    color_in    = np.array([255,0,0])\n",
    "    color_out   = np.array([0,0,0])\n",
    "    color_cloud = np.array([255,255,255])\n",
    "    \n",
    "    array = np.zeros((*da.values.shape, 3)).astype(np.int16)\n",
    "    \n",
    "    inside  = np.logical_and(da.values > min_threshold, da.values < max_threshold)\n",
    "    outside = np.invert(inside)\n",
    "    masked  = np.zeros(da.values.shape).astype(bool) if mask is None else mask\n",
    "    \n",
    "    array[inside] =  color_in\n",
    "    array[outside] = color_out\n",
    "    array[masked] =  color_cloud\n",
    "\n",
    "    def figure_ratio(ds, fixed_width = 10):\n",
    "        width = fixed_width\n",
    "        height = len(ds.latitude) * (fixed_width / len(ds.longitude))\n",
    "        return (width, height)\n",
    "\n",
    "\n",
    "    fig, ax = plt.subplots(figsize = figure_ratio(da,fixed_width = width))\n",
    "    \n",
    "    lat_formatter = FuncFormatter(lambda y_val, tick_pos: \"{0:.3f}\".format(da.latitude.values[tick_pos] ))\n",
    "    lon_formatter = FuncFormatter(lambda x_val, tick_pos: \"{0:.3f}\".format(da.longitude.values[tick_pos]))\n",
    "\n",
    "    ax.xaxis.set_major_formatter(lon_formatter)\n",
    "    ax.yaxis.set_major_formatter(lat_formatter)\n",
    "    \n",
    "    plt.title(\"Threshold: {} < x < {}\".format(min_threshold, max_threshold))\n",
    "    plt.xlabel('Longitude')\n",
    "    plt.ylabel('Latitude')\n",
    "    \n",
    "    plt.imshow(array, *args, **kwargs)\n",
    "    plt.show()"
   ]
  },
  {
   "cell_type": "code",
   "execution_count": null,
   "metadata": {},
   "outputs": [],
   "source": [
    "no_data_mask = np.logical_or(np.isnan(ndbi_test_analy.values), np.isnan(ndbi_test_base.values)) "
   ]
  },
  {
   "cell_type": "code",
   "execution_count": null,
   "metadata": {},
   "outputs": [],
   "source": [
    "threshold_plot(test, minimum_change, maximum_change, mask = no_data_mask)"
   ]
  },
  {
   "cell_type": "code",
   "execution_count": null,
   "metadata": {},
   "outputs": [],
   "source": [
    "min_change = 0.3\n",
    "max_change = 1\n",
    "threshold_plot(test, min_change, max_change, mask = no_data_mask )"
   ]
  },
  {
   "cell_type": "code",
   "execution_count": null,
   "metadata": {},
   "outputs": [],
   "source": []
  }
 ],
 "metadata": {
  "kernelspec": {
   "display_name": "Python [conda env:cubeenv]",
   "language": "python",
   "name": "conda-env-cubeenv-py"
  },
  "language_info": {
   "codemirror_mode": {
    "name": "ipython",
    "version": 3
   },
   "file_extension": ".py",
   "mimetype": "text/x-python",
   "name": "python",
   "nbconvert_exporter": "python",
   "pygments_lexer": "ipython3",
   "version": "3.6.7"
  }
 },
 "nbformat": 4,
 "nbformat_minor": 2
}
