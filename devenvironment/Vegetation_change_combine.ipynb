{
 "cells": [
  {
   "cell_type": "code",
   "execution_count": 18,
   "metadata": {},
   "outputs": [
    {
     "name": "stdout",
     "output_type": "stream",
     "text": [
      "The autoreload extension is already loaded. To reload it, use:\n",
      "  %reload_ext autoreload\n"
     ]
    }
   ],
   "source": [
    "# Magic + imports likely common across all notebooks\n",
    "%load_ext autoreload\n",
    "%autoreload 2\n",
    "%matplotlib inline\n",
    "# Supress Warning \n",
    "import warnings\n",
    "warnings.filterwarnings('ignore')\n",
    "# Set reference for util modules\n",
    "import sys\n",
    "sys.path.append('/home/jovyan/odc-hub/')\n",
    "# Generic python\n",
    "import matplotlib.pyplot as plt\n",
    "import numpy as np\n",
    "import xarray as xr \n",
    "\n",
    "# Bonus vector manipulation\n",
    "import pandas as pd\n",
    "#from pandas import Dataframe\n",
    "import geopandas as gpd\n",
    "from shapely import wkt\n",
    "from datetime import datetime\n",
    "\n",
    "CMAP = \"Blues\""
   ]
  },
  {
   "cell_type": "markdown",
   "metadata": {},
   "source": [
    "# Land Change\n",
    "\n",
    "This notebook uses changes in NDVI, EVI or Fractional Cover to identify land change. The algorithm identifies a \"baseline\" and \"analysis\" time period and then compares the spectral parameters in each of those time periods. Significant reductions in vegetation are coincident with land change. In some cases these changes could be deforestation. Users of this algorithm should not accept the accuracy of the results but should conduct ground validation testing to assess accuracy. In most cases, these algorithms can be used to identify clusters of pixels that have experienced change and allow targeted investigation of those areas by local or regional governments."
   ]
  },
  {
   "cell_type": "code",
   "execution_count": 48,
   "metadata": {},
   "outputs": [],
   "source": [
    "# Load Data Cube Configuration\n",
    "import datacube\n",
    "dc = datacube.Datacube(app = 'land_degredation')#, config = '/home/localuser/.datacube.conf')\n",
    "\n",
    "# Import Data Cube API\n",
    "import utils_dcal.data_cube_utilities.data_access_api as dc_api  \n",
    "api = dc_api.DataAccessApi()#config = '/home/localuser/.datacube.conf')\n",
    "dc = api.dc\n",
    "\n",
    "from utils_dcal.data_cube_utilities.dc_display_map import display_map\n",
    "from utils_sac.createAOI import create_lat_lon\n",
    "from utils_sac.createindices import NDVI, EVI\n",
    "from utils_sac.clean_mask import landsat_qa_clean_mask\n",
    "from utils_sac.dc_mosaic import create_max_ndvi_mosaic, create_min_ndvi_mosaic, create_median_mosaic, create_mosaic, create_hdmedians_multiple_band_mosaic\n",
    "#from utils_dcal.data_cube_utilities.dc_mosaic import create_max_ndvi_mosaic, create_min_ndvi_mosaic, create_median_mosaic, create_mosaic, create_hdmedians_multiple_band_mosaic\n",
    "from deaAfricascripts.deafrica_plotting import rgb\n",
    "#if S2\n",
    "#from utils_sac.fractional_cover import frac_coverage_classify\n",
    "#if L8\n",
    "from utils_dcal.data_cube_utilities.dc_fractional_coverage_classifier import frac_coverage_classify \n",
    "import matplotlib.pyplot as plt\n",
    "from matplotlib.cm import RdYlGn, Greens\n",
    "from utils_sac.fromDCALscripts import threshold_plot\n",
    "from utils_dcal.data_cube_utilities.dc_rgb import rgb\n"
   ]
  },
  {
   "cell_type": "code",
   "execution_count": 49,
   "metadata": {},
   "outputs": [],
   "source": [
    "RdYlGn.set_bad('black',1.)\n",
    "Greens.set_bad('black',1.)"
   ]
  },
  {
   "cell_type": "markdown",
   "metadata": {},
   "source": [
    "## Set Variables"
   ]
  },
  {
   "cell_type": "code",
   "execution_count": 179,
   "metadata": {},
   "outputs": [],
   "source": [
    "#inputs\n",
    "#options \"LANDSAT_8\" and \"SENTINEL_2\"\n",
    "#platform is the sensor, options include 'LANSAT_8', 'LANSAT_7', 'LANSAT_5', 'LANSAT_4', 'SENTINEL_2'\n",
    "platform_base = 'LANDSAT_4'\n",
    "platform_analysis = 'LANDSAT_4'\n",
    "#For Fiji this should be the only option - may change for Solomon and Vanuatu\n",
    "output_projection = \"EPSG:32760\"\n",
    "res = (200)\n",
    "\n",
    "# Select the start and end periods for your analysis products\n",
    "# The datetime function is (Year,Month,Day)\n",
    "# These time windows will be used to make a mosaic, so typically pick a year length or more\n",
    "# Be sure to evaluate the RGB mosaics to affirm they are not full of clouds\n",
    "\n",
    "# Select the baseline time period (start and end)\n",
    "baseline_time_period = (datetime(1990,1,1), datetime(1995,12,30))\n",
    "\n",
    "# Select the analysis time period (start and end)\n",
    "analysis_time_period = (datetime(1990,1,1), datetime(1995,12,31))\n",
    "\n",
    "# Select the cloud-free mosaic type\n",
    "# Options are: max_ndvi, min_ndvi, median, most_recent_pixel, geomedian\n",
    "# If a geomedian is selected, it will take much longer to process\n",
    "# It is most common to use the max_ndvi or median for these land change analyses\n",
    "# HINT: Consider max_ndvi mosaics for NDVI analyses and median mosaics for EVI analyses \n",
    "mosaic_type = \"max\" \n",
    "\n",
    "#central area - do dates 2013- 2014 and 2018-2019\n",
    "#aoi_wkt = \"POLYGON ((177.42576599121094 -18.058395415674948, 177.5390625 -18.058395415674948, 177.5390625 -17.96567026450931, 177.42576599121094 -17.96567026450931, 177.42576599121094 -18.058395415674948))\"\n",
    "# wakaya island - hit by cyclone winston in feb 2016  - dates end of JAn 2015-2016, start of March 2016 - 2017\n",
    "aoi_wkt = \"POLYGON((178.98101806642 -17.592544555664, 179.03903961183 -17.593231201171, 179.03903961183 -17.66258239746, 178.97998809815 -17.661209106445, 178.98101806642 -17.592544555664))\"\n",
    "\n",
    "#select an indicies, options are 'EVI', 'NDVI' or 'FC', different indicies will perform better in different areas. \n",
    "indices = 'FC'\n",
    "\n"
   ]
  },
  {
   "cell_type": "markdown",
   "metadata": {},
   "source": [
    "## Create AOI"
   ]
  },
  {
   "cell_type": "code",
   "execution_count": 138,
   "metadata": {},
   "outputs": [],
   "source": [
    "lat_extents, lon_extents = create_lat_lon(aoi_wkt)"
   ]
  },
  {
   "cell_type": "code",
   "execution_count": 139,
   "metadata": {},
   "outputs": [
    {
     "data": {
      "text/html": [
       "<div style=\"width:100%;\"><div style=\"position:relative;width:100%;height:0;padding-bottom:60%;\"><iframe src=\"data:text/html;charset=utf-8;base64,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\" style=\"position:absolute;width:100%;height:100%;left:0;top:0;border:none !important;\" allowfullscreen webkitallowfullscreen mozallowfullscreen></iframe></div></div>"
      ],
      "text/plain": [
       "<folium.folium.Map at 0x7f6410f68240>"
      ]
     },
     "execution_count": 139,
     "metadata": {},
     "output_type": "execute_result"
    }
   ],
   "source": [
    "## The code below renders a map that can be used to orient yourself with the region.\n",
    "display_map(latitude = lat_extents, longitude = lon_extents)"
   ]
  },
  {
   "cell_type": "markdown",
   "metadata": {},
   "source": [
    "## Translate inputs and load data"
   ]
  },
  {
   "cell_type": "code",
   "execution_count": 53,
   "metadata": {},
   "outputs": [],
   "source": [
    "allmeasurements = [\"green\",\"red\",\"blue\",\"nir\",\"swir1\",\"swir2\"]\n",
    "def create_product_measurement(platform):\n",
    "    if platform  in [\"SENTINEL_2\"]:\n",
    "        product = 's2_esa_sr_granule'\n",
    "        measurements = allmeasurements + [\"coastal_aerosol\",\"scene_classification\"]\n",
    "    elif platform_analysis in [\"LANDSAT_8\"]:    \n",
    "        measurements = allmeasurements + [\"pixel_qa\"]\n",
    "        product = 'ls8_usgs_sr_scene'\n",
    "    elif platform_analysis in [\"LANDSAT_7\"]:    \n",
    "        measurements = allmeasurements + [\"pixel_qa\"]\n",
    "        product = 'ls7_usgs_sr_scene'\n",
    "    elif platform_analysis in [\"LANDSAT_5\"]:    \n",
    "        measurements = allmeasurements + [\"pixel_qa\"]\n",
    "        product = 'ls5_usgs_sr_scene'\n",
    "    elif platform_analysis in [\"LANDSAT_4\"]:    \n",
    "        measurements = allmeasurements + [\"pixel_qa\"]\n",
    "        product = 'ls4_usgs_sr_scene'\n",
    "    else:\n",
    "        print(\"invalid platform\")\n",
    "    return product, measurements "
   ]
  },
  {
   "cell_type": "code",
   "execution_count": 54,
   "metadata": {},
   "outputs": [],
   "source": [
    "#create resolution\n",
    "resolution = (-res, res)"
   ]
  },
  {
   "cell_type": "code",
   "execution_count": 55,
   "metadata": {},
   "outputs": [],
   "source": [
    "baseline_product, baseline_measurement = create_product_measurement(platform_base)\n",
    "analysis_product, analysis_measurement = create_product_measurement(platform_analysis)"
   ]
  },
  {
   "cell_type": "markdown",
   "metadata": {},
   "source": [
    "# Load and Clean Data"
   ]
  },
  {
   "cell_type": "code",
   "execution_count": 56,
   "metadata": {},
   "outputs": [],
   "source": [
    "query = {\n",
    "    'y': lat_extents,\n",
    "    'x': lon_extents,\n",
    "    'output_crs': output_projection,  \n",
    "    'resolution': resolution\n",
    "}"
   ]
  },
  {
   "cell_type": "code",
   "execution_count": 57,
   "metadata": {},
   "outputs": [],
   "source": [
    "baseline_ds = dc.load(\n",
    "    time = baseline_time_period,\n",
    "    platform = platform_base,\n",
    "    product = baseline_product,\n",
    "    measurements = baseline_measurement,\n",
    "    **query\n",
    ")\n"
   ]
  },
  {
   "cell_type": "code",
   "execution_count": 58,
   "metadata": {},
   "outputs": [],
   "source": [
    "analysis_ds = dc.load(\n",
    "    time = analysis_time_period,\n",
    "    platform = platform_analysis,\n",
    "    product = analysis_product,\n",
    "    measurements = analysis_measurement,\n",
    "    **query\n",
    ")"
   ]
  },
  {
   "cell_type": "markdown",
   "metadata": {},
   "source": [
    "> #### Check if loads are valid"
   ]
  },
  {
   "cell_type": "code",
   "execution_count": 180,
   "metadata": {},
   "outputs": [],
   "source": [
    "def is_dataset_empty(ds:xr.Dataset) -> bool:\n",
    "    checks_for_empty = [\n",
    "                        lambda x: len(x.dims) == 0,      #Dataset has no dimensions\n",
    "                        lambda x: len(x.data_vars) == 0  #Dataset no variables \n",
    "                       ]\n",
    "    for f in checks_for_empty:\n",
    "         if f(ds) == True:\n",
    "                return True\n",
    "    return False"
   ]
  },
  {
   "cell_type": "code",
   "execution_count": 181,
   "metadata": {},
   "outputs": [],
   "source": [
    "if is_dataset_empty(baseline_ds): raise Exception(\"DataCube Load returned an empty Dataset.\" +  \n",
    "                                               \"Please check load parameters for Baseline Dataset!\")"
   ]
  },
  {
   "cell_type": "code",
   "execution_count": 182,
   "metadata": {},
   "outputs": [],
   "source": [
    "if is_dataset_empty(analysis_ds): raise Exception(\"DataCube Load returned an empty Dataset.\" +  \n",
    "                                               \"Please check load parameters for Analysis Dataset!\")"
   ]
  },
  {
   "cell_type": "markdown",
   "metadata": {},
   "source": [
    "## Create Cloud Mask\n",
    "Generating boolean masks that highlight valid pixels\n",
    "Pixels must be cloud-free over land or water to be considered"
   ]
  },
  {
   "cell_type": "code",
   "execution_count": 183,
   "metadata": {},
   "outputs": [],
   "source": [
    "#create cloud mask\n",
    "baseline_clean_mask = landsat_qa_clean_mask(baseline_ds, platform_base)\n",
    "analysis_clean_mask = landsat_qa_clean_mask(analysis_ds, platform_analysis)"
   ]
  },
  {
   "cell_type": "code",
   "execution_count": 184,
   "metadata": {},
   "outputs": [],
   "source": [
    "#mask products\n",
    "baseline_ds = baseline_ds.where(baseline_clean_mask)\n",
    "analysis_ds = analysis_ds.where(analysis_clean_mask)"
   ]
  },
  {
   "cell_type": "markdown",
   "metadata": {},
   "source": [
    ">#### Mosaic\n",
    "> Use clean masks in a time series composite"
   ]
  },
  {
   "cell_type": "code",
   "execution_count": 185,
   "metadata": {},
   "outputs": [],
   "source": [
    "mosaic_function = {\"median\": create_median_mosaic,\n",
    "                   \"max\": create_max_ndvi_mosaic,\n",
    "                   \"min_ndvi\": create_min_ndvi_mosaic,\n",
    "                   \"geomedian\": create_hdmedians_multiple_band_mosaic,\n",
    "                   \"most_recent_pixel\": create_mosaic}"
   ]
  },
  {
   "cell_type": "code",
   "execution_count": 186,
   "metadata": {},
   "outputs": [],
   "source": [
    "new_compositor = mosaic_function[mosaic_type]"
   ]
  },
  {
   "cell_type": "code",
   "execution_count": 187,
   "metadata": {},
   "outputs": [],
   "source": [
    "baseline_composite = new_compositor(baseline_ds, clean_mask = baseline_clean_mask.values, no_data=float('nan'))\n",
    "analysis_composite = new_compositor(analysis_ds, clean_mask = analysis_clean_mask.values, no_data=float('nan'))"
   ]
  },
  {
   "cell_type": "code",
   "execution_count": 188,
   "metadata": {},
   "outputs": [],
   "source": [
    "baseline_clean_masked = landsat_qa_clean_mask(baseline_composite, platform_base)\n",
    "baseline_composite = baseline_composite.where(baseline_clean_masked)"
   ]
  },
  {
   "cell_type": "code",
   "execution_count": 189,
   "metadata": {},
   "outputs": [],
   "source": [
    "analysis_clean_masked = landsat_qa_clean_mask(analysis_composite, platform_analysis)\n",
    "analysis_composite = analysis_composite.where(analysis_clean_masked)"
   ]
  },
  {
   "cell_type": "markdown",
   "metadata": {},
   "source": [
    "## Mask Water"
   ]
  },
  {
   "cell_type": "code",
   "execution_count": 190,
   "metadata": {},
   "outputs": [],
   "source": [
    "from utils_dcal.data_cube_utilities.dc_water_classifier import wofs_classify\n",
    "water_class_base = wofs_classify(baseline_composite, mosaic=True, x_coord='x', y_coord='y').wofs\n",
    "baseline_composite = baseline_composite.copy(deep=True).where((baseline_composite != np.nan) & (water_class_base == 0))\n",
    "water_class_analy = wofs_classify(analysis_composite, mosaic=True, x_coord='x', y_coord='y').wofs\n",
    "analysis_composite = analysis_composite.copy(deep=True).where((analysis_composite != np.nan) & (water_class_analy == 0))"
   ]
  },
  {
   "cell_type": "code",
   "execution_count": 191,
   "metadata": {},
   "outputs": [
    {
     "data": {
      "text/plain": [
       "(<Figure size 720x576 with 1 Axes>,\n",
       " <matplotlib.axes._subplots.AxesSubplot at 0x7f6410980d68>)"
      ]
     },
     "execution_count": 191,
     "metadata": {},
     "output_type": "execute_result"
    },
    {
     "data": {
      "image/png": "[encoded data removed]",
      "text/plain": [
       "<Figure size 720x576 with 1 Axes>"
      ]
     },
     "metadata": {
      "needs_background": "light"
     },
     "output_type": "display_data"
    }
   ],
   "source": [
    "baseline_composite = baseline_composite.rename({\"x\": \"longitude\", \"y\":\"latitude\"})\n",
    "analysis_composite = analysis_composite.rename({\"x\": \"longitude\", \"y\":\"latitude\"})\n",
    "rgb(baseline_composite, use_data_min=True, use_data_max=True)"
   ]
  },
  {
   "cell_type": "code",
   "execution_count": 192,
   "metadata": {},
   "outputs": [
    {
     "data": {
      "text/plain": [
       "(<Figure size 720x576 with 1 Axes>,\n",
       " <matplotlib.axes._subplots.AxesSubplot at 0x7f64109065c0>)"
      ]
     },
     "execution_count": 192,
     "metadata": {},
     "output_type": "execute_result"
    },
    {
     "data": {
      "image/png": "[encoded data removed]",
      "text/plain": [
       "<Figure size 720x576 with 1 Axes>"
      ]
     },
     "metadata": {
      "needs_background": "light"
     },
     "output_type": "display_data"
    }
   ],
   "source": [
    "rgb(analysis_composite, use_data_min=True, use_data_max=True)"
   ]
  },
  {
   "cell_type": "markdown",
   "metadata": {},
   "source": [
    ">## Plot a spectral index using the cloud-filtered mosaic"
   ]
  },
  {
   "cell_type": "code",
   "execution_count": 193,
   "metadata": {},
   "outputs": [],
   "source": [
    "ndvi = NDVI(baseline_composite) \n",
    "evi = EVI(baseline_composite)"
   ]
  },
  {
   "cell_type": "code",
   "execution_count": 194,
   "metadata": {},
   "outputs": [],
   "source": [
    "\n",
    "if indices in ['FC']:\n",
    "    frac_classes = frac_coverage_classify(baseline_composite, clean_mask = baseline_clean_masked.values, no_data=0)\n",
    "    #frac_classes = frac_coverage_classify(baseline_composite, no_data=0) \n",
    "else:\n",
    "    print('indices not fractional cover')"
   ]
  },
  {
   "cell_type": "code",
   "execution_count": 195,
   "metadata": {
    "scrolled": false
   },
   "outputs": [],
   "source": [
    "# CHANGE HERE >>>>>>>>>>>>>>>>>>\n",
    "\n",
    "# Select a spectral index to plot by removing one of the comment tags (#) below\n",
    "# Adjust the scale of the output using vmin and vmax\n",
    "\n",
    "#(ndvi).plot(figsize=(10,10),cmap = \"Greens\", vmin=0.3, vmax=1.0)\n",
    "#(evi).plot(figsize=(10,10),cmap = \"Greens\", vmin=1.75, vmax=2.5)\n",
    "#(frac_classes.pv).plot(figsize=(10,10),cmap = \"Greens\", vmin=70.0, vmax=100.0)"
   ]
  },
  {
   "cell_type": "code",
   "execution_count": 196,
   "metadata": {},
   "outputs": [],
   "source": [
    "# CHANGE HERE >>>>>>>>>>>>>>>>>>>>\n",
    "\n",
    "# Select a baseline threshold range for a given parameter ... which is basically a \"mask\"\n",
    "# The analysis will only consider pixels in this range for change detection\n",
    "# No data or cloud pixels will also be masked in this process\n",
    "\n",
    "# If you want to see all change, you should select the full range of values for each parameter\n",
    "# NDVI full range = 0.0 to 1.0\n",
    "# EVI full range = 0.0 to 2.5\n",
    "# Fractional Cover full range = 0.0 to 100.0\n",
    "\n",
    "# If you want to mask out dense vegetation, typical of forested land, use the values below\n",
    "# NDVI: 0.7 to 1.0\n",
    "# EVI: 2.0 to 2.5\n",
    "\n"
   ]
  },
  {
   "cell_type": "code",
   "execution_count": null,
   "metadata": {},
   "outputs": [],
   "source": []
  },
  {
   "cell_type": "code",
   "execution_count": 197,
   "metadata": {},
   "outputs": [],
   "source": [
    "def determineThresholdRange(indices):\n",
    "    '''Return the baseline_threshold_range based on indicies input.\n",
    "    '''\n",
    "    if indices in ['ndvi', 'NDVI']:\n",
    "        baseline_threshold_range = (0.7, 1.0) \n",
    "        a = (NDVI(baseline_composite))\n",
    "    elif indices in ['EVI', 'evi']:\n",
    "        baseline_threshold_range = (2, 2.5)\n",
    "        a = (EVI(baseline_composite))\n",
    "    elif indices in ['FC']:\n",
    "        baseline_threshold_range = (70, 100)\n",
    "        a = frac_classes.pv\n",
    "    else:\n",
    "        print('indicies not valid')\n",
    "    _min, _max = baseline_threshold_range\n",
    "    baseline_filter_mask = np.logical_and(a > _min, a < _max) \n",
    "    return baseline_filter_mask "
   ]
  },
  {
   "cell_type": "code",
   "execution_count": 198,
   "metadata": {},
   "outputs": [],
   "source": [
    "baseline_filter_mask = determineThresholdRange(indices)\n"
   ]
  },
  {
   "cell_type": "code",
   "execution_count": 199,
   "metadata": {},
   "outputs": [],
   "source": [
    "RdYlGn.set_bad('black',1.)\n",
    "Greens.set_bad('black',1.)"
   ]
  },
  {
   "cell_type": "code",
   "execution_count": 200,
   "metadata": {
    "scrolled": false
   },
   "outputs": [
    {
     "data": {
      "text/plain": [
       "<matplotlib.collections.QuadMesh at 0x7f64108a9d30>"
      ]
     },
     "execution_count": 200,
     "metadata": {},
     "output_type": "execute_result"
    },
    {
     "data": {
      "image/png": "[encoded data removed]",
      "text/plain": [
       "<Figure size 432x288 with 2 Axes>"
      ]
     },
     "metadata": {
      "needs_background": "light"
     },
     "output_type": "display_data"
    }
   ],
   "source": [
    "# This is the baseline threshold plot that shows GREEN pixels in the threshold range\n",
    "# Pixels with values outside the threshold range are white \n",
    "\n",
    "#plt.figure(figsize = aspect_ratio_helper(baseline_filter_mask)) \n",
    "baseline_filter_mask.plot(cmap = \"Greens\")"
   ]
  },
  {
   "cell_type": "code",
   "execution_count": 201,
   "metadata": {},
   "outputs": [
    {
     "data": {
      "text/plain": [
       "<matplotlib.collections.QuadMesh at 0x7f64107d69e8>"
      ]
     },
     "execution_count": 201,
     "metadata": {},
     "output_type": "execute_result"
    },
    {
     "data": {
      "image/png": "[encoded data removed]",
      "text/plain": [
       "<Figure size 432x288 with 2 Axes>"
      ]
     },
     "metadata": {
      "needs_background": "light"
     },
     "output_type": "display_data"
    }
   ],
   "source": [
    "baseline_composite.red.plot(cmap = \"Greens\")"
   ]
  },
  {
   "cell_type": "code",
   "execution_count": 202,
   "metadata": {},
   "outputs": [
    {
     "data": {
      "text/plain": [
       "<matplotlib.collections.QuadMesh at 0x7f641070ba58>"
      ]
     },
     "execution_count": 202,
     "metadata": {},
     "output_type": "execute_result"
    },
    {
     "data": {
      "image/png": "[encoded data removed]",
      "text/plain": [
       "<Figure size 432x288 with 2 Axes>"
      ]
     },
     "metadata": {
      "needs_background": "light"
     },
     "output_type": "display_data"
    }
   ],
   "source": [
    "baseline_composite = baseline_composite.where(baseline_filter_mask)\n",
    "baseline_composite.red.plot(cmap = \"Greens\")"
   ]
  },
  {
   "cell_type": "code",
   "execution_count": 203,
   "metadata": {},
   "outputs": [
    {
     "data": {
      "text/plain": [
       "<matplotlib.collections.QuadMesh at 0x7f6410641278>"
      ]
     },
     "execution_count": 203,
     "metadata": {},
     "output_type": "execute_result"
    },
    {
     "data": {
      "image/png": "[encoded data removed]",
      "text/plain": [
       "<Figure size 432x288 with 2 Axes>"
      ]
     },
     "metadata": {
      "needs_background": "light"
     },
     "output_type": "display_data"
    }
   ],
   "source": [
    "#analysis_composite = analysis_composite.where(analysis_filter_mask)\n",
    "analysis_composite.red.plot(cmap = \"Greens\")"
   ]
  },
  {
   "cell_type": "markdown",
   "metadata": {},
   "source": [
    "# Spectral Parameter Anomaly"
   ]
  },
  {
   "cell_type": "code",
   "execution_count": 204,
   "metadata": {},
   "outputs": [],
   "source": [
    "from utils_dcal.data_cube_utilities.dc_fractional_coverage_classifier import frac_coverage_classify \n",
    "#from utils_sac.fractional_cover import frac_coverage_classify \n",
    "#odc-hub/utils_sac/.py"
   ]
  },
  {
   "cell_type": "code",
   "execution_count": 212,
   "metadata": {},
   "outputs": [
    {
     "name": "stdout",
     "output_type": "stream",
     "text": [
      "<xarray.Dataset>\n",
      "Dimensions:    (latitude: 40, longitude: 32)\n",
      "Coordinates:\n",
      "  * latitude   (latitude) float64 8.054e+06 8.054e+06 ... 8.046e+06 8.046e+06\n",
      "  * longitude  (longitude) float64 7.101e+05 7.103e+05 ... 7.161e+05 7.163e+05\n",
      "Data variables:\n",
      "    green      (latitude, longitude) float64 nan nan nan nan ... nan nan nan nan\n",
      "    red        (latitude, longitude) float64 nan nan nan nan ... nan nan nan nan\n",
      "    blue       (latitude, longitude) float64 nan nan nan nan ... nan nan nan nan\n",
      "    nir        (latitude, longitude) float64 nan nan nan nan ... nan nan nan nan\n",
      "    swir1      (latitude, longitude) float64 nan nan nan nan ... nan nan nan nan\n",
      "    swir2      (latitude, longitude) float64 nan nan nan nan ... nan nan nan nan\n",
      "    pixel_qa   (latitude, longitude) float64 nan nan nan nan ... nan nan nan nan\n",
      "    ndvi       (latitude, longitude) float64 nan nan nan nan ... nan nan nan nan\n"
     ]
    }
   ],
   "source": [
    "print(baseline_composite)"
   ]
  },
  {
   "cell_type": "code",
   "execution_count": 219,
   "metadata": {},
   "outputs": [],
   "source": [
    "def createparametercomposite(indices, baseline, analysis):\n",
    "    '''Return the baseline_threshold_range based on indicies input.\n",
    "    '''\n",
    "    if indices in ['ndvi', 'NDVI']:\n",
    "        parameter_baseline_composite = NDVI(baseline)\n",
    "        parameter_analysis_composite = NDVI(analysis)\n",
    "    elif indices in ['EVI', 'evi']:\n",
    "        parameter_baseline_composite = EVI(baseline)\n",
    "        parameter_analysis_composite = EVI(analysis)\n",
    "    elif indices in ['FC']:\n",
    "        parameter_baseline_composite2 = frac_coverage_classify(baseline, clean_mask = baseline_clean_masked.values, no_data=np.nan) \n",
    "        parameter_analysis_composite2 = frac_coverage_classify(analysis, clean_mask = baseline_clean_masked.values, no_data=np.nan)  \n",
    "        parameter_baseline_composite = parameter_baseline_composite2.pv.where(baseline_clean_masked.values)\n",
    "        parameter_analysis_composite = parameter_analysis_composite2.pv.where(baseline_clean_masked.values)\n",
    "    return parameter_baseline_composite, parameter_analysis_composite"
   ]
  },
  {
   "cell_type": "code",
   "execution_count": 220,
   "metadata": {},
   "outputs": [],
   "source": [
    "parameter_baseline_composite, parameter_analysis_composite = createparametercomposite(indices, baseline_composite, analysis_composite)"
   ]
  },
  {
   "cell_type": "code",
   "execution_count": 221,
   "metadata": {},
   "outputs": [
    {
     "data": {
      "text/plain": [
       "<matplotlib.collections.QuadMesh at 0x7f64102edeb8>"
      ]
     },
     "execution_count": 221,
     "metadata": {},
     "output_type": "execute_result"
    },
    {
     "data": {
      "image/png": "[encoded data removed]",
      "text/plain": [
       "<Figure size 432x288 with 2 Axes>"
      ]
     },
     "metadata": {
      "needs_background": "light"
     },
     "output_type": "display_data"
    }
   ],
   "source": [
    "parameter_baseline_composite.plot(cmap = \"Greens\")"
   ]
  },
  {
   "cell_type": "code",
   "execution_count": 222,
   "metadata": {},
   "outputs": [
    {
     "data": {
      "text/plain": [
       "<matplotlib.collections.QuadMesh at 0x7f64102167b8>"
      ]
     },
     "execution_count": 222,
     "metadata": {},
     "output_type": "execute_result"
    },
    {
     "data": {
      "image/png": "[encoded data removed]",
      "text/plain": [
       "<Figure size 576x576 with 2 Axes>"
      ]
     },
     "metadata": {
      "needs_background": "light"
     },
     "output_type": "display_data"
    }
   ],
   "source": [
    "plt.figure(figsize = (8,8))\n",
    "parameter_analysis_composite.plot(cmap = \"Greens\")"
   ]
  },
  {
   "cell_type": "code",
   "execution_count": 169,
   "metadata": {},
   "outputs": [],
   "source": [
    "parameter_anomaly = parameter_analysis_composite - parameter_baseline_composite"
   ]
  },
  {
   "cell_type": "code",
   "execution_count": 170,
   "metadata": {},
   "outputs": [
    {
     "data": {
      "text/plain": [
       "<matplotlib.collections.QuadMesh at 0x7f64109c0048>"
      ]
     },
     "execution_count": 170,
     "metadata": {},
     "output_type": "execute_result"
    },
    {
     "data": {
      "image/png": "[encoded data removed]",
      "text/plain": [
       "<Figure size 432x288 with 2 Axes>"
      ]
     },
     "metadata": {
      "needs_background": "light"
     },
     "output_type": "display_data"
    }
   ],
   "source": [
    "# Plot the parameter change from the baseline to the analysis period\n",
    "# Significant loss in vegetation will be shown in RED\n",
    "# Gains in vegetation will be shown in GREEN\n",
    "\n",
    "#plt.figure(figsize = aspect_ratio_helper(parameter_anomaly)) \n",
    "parameter_anomaly.plot(cmap = RdYlGn)"
   ]
  },
  {
   "cell_type": "markdown",
   "metadata": {},
   "source": [
    "# Anomaly Threshold Product"
   ]
  },
  {
   "cell_type": "code",
   "execution_count": 171,
   "metadata": {},
   "outputs": [],
   "source": [
    "# CHANGE HERE >>>>>>>>>>>>>>>>>>>>\n",
    "\n",
    "# Select an Anomaly Threshold Range to filter the results from the previous image\n",
    "# Be sure to put the smallest value in the \"minimum_change\" location (be careful of negative values)\n",
    "# Losses are typically in these ranges for deforestation\n"
   ]
  },
  {
   "cell_type": "code",
   "execution_count": 172,
   "metadata": {},
   "outputs": [],
   "source": [
    "def changeAnomalyRange(indices):\n",
    "    '''Return the baseline_threshold_range based on indicies input.\n",
    "    '''\n",
    "    if indices in ['ndvi', 'NDVI']:\n",
    "        minC = -0.7\n",
    "        maxC = -0.2\n",
    "    elif indices in ['EVI', 'evi']:\n",
    "        minC = -1.75\n",
    "        maxC = -0.5\n",
    "    elif indices in ['FC']:\n",
    "        minC = -70\n",
    "        maxC = -20\n",
    "    return minC, maxC"
   ]
  },
  {
   "cell_type": "code",
   "execution_count": 173,
   "metadata": {},
   "outputs": [],
   "source": [
    "# Create a threshold plot using the MIN and MAX range defined above\n",
    "minimum_change, maximum_change = changeAnomalyRange(indices)"
   ]
  },
  {
   "cell_type": "code",
   "execution_count": 174,
   "metadata": {},
   "outputs": [],
   "source": [
    "no_data_mask = np.logical_or(np.isnan(baseline_composite.red.values), np.isnan(analysis_composite.red.values))"
   ]
  },
  {
   "cell_type": "code",
   "execution_count": 175,
   "metadata": {},
   "outputs": [
    {
     "data": {
      "image/png": "[encoded data removed]",
      "text/plain": [
       "<Figure size 720x900 with 1 Axes>"
      ]
     },
     "metadata": {
      "needs_background": "light"
     },
     "output_type": "display_data"
    }
   ],
   "source": [
    "# Plot the parameter change using thresholds and 3 colors \n",
    "# RED = data in the threshold range (significant land change)\n",
    "# BLACK = data outside the threshold range (no significant change)\n",
    "# WHITE = data outside the baseline mask (not dense vegetation) or clouds (no data)\n",
    "#parameter_anomaly = parameter_anomaly.rename({\"x\":\"latitude\", \"y\":\"longitude\"})\n",
    "threshold_plot(parameter_anomaly, minimum_change, maximum_change, mask = no_data_mask, width  = 10)"
   ]
  },
  {
   "cell_type": "code",
   "execution_count": 176,
   "metadata": {},
   "outputs": [],
   "source": [
    "from utils_dcal.data_cube_utilities.dc_utilities import write_png_from_xr, write_geotiff_from_xr"
   ]
  },
  {
   "cell_type": "code",
   "execution_count": 177,
   "metadata": {},
   "outputs": [],
   "source": [
    "# CHANGE HERE >>>>>>>>>>>>>\n",
    "\n",
    "write_geotiff_from_xr('veg_change.tiff', parameter_anomaly, crs=output_projection)"
   ]
  },
  {
   "cell_type": "code",
   "execution_count": null,
   "metadata": {},
   "outputs": [],
   "source": []
  },
  {
   "cell_type": "code",
   "execution_count": null,
   "metadata": {},
   "outputs": [],
   "source": []
  }
 ],
 "metadata": {
  "kernelspec": {
   "display_name": "Python [conda env:cubeenv]",
   "language": "python",
   "name": "conda-env-cubeenv-py"
  },
  "language_info": {
   "codemirror_mode": {
    "name": "ipython",
    "version": 3
   },
   "file_extension": ".py",
   "mimetype": "text/x-python",
   "name": "python",
   "nbconvert_exporter": "python",
   "pygments_lexer": "ipython3",
   "version": "3.6.7"
  },
  "widgets": {
   "application/vnd.jupyter.widget-state+json": {
    "state": {},
    "version_major": 2,
    "version_minor": 0
   }
  }
 },
 "nbformat": 4,
 "nbformat_minor": 2
}
