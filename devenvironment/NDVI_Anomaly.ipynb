{
 "cells": [
  {
   "cell_type": "markdown",
   "metadata": {},
   "source": [
    "# NDVI Anomaly\n",
    "Notebook to generate NDVI anomaly, showing changes in NDVI between two time periods. To show actual change two time period of similar seasonality should be used. \n",
    "The output is an NDVI anomaly and also a threshold product, the thresholds assocaited with the product can be adjusted depending on what you changes the user is interested in. \n",
    "\n",
    "Adapted from https://github.com/ceos-seo/data_cube_notebooks for us in Satellite Applications Catapult Common Sensing DataCube\n",
    "\n",
    "This notebook compares NDVI between two time periods to detect land change. In the case of deforestation, the NDVI values will reduce from (0.6 to 0.9 ... typical for forests) to lower values (<0.6). This change can be detected and used to investigate deforestation or monitor the extent of the land change."
   ]
  },
  {
   "cell_type": "code",
   "execution_count": 125,
   "metadata": {},
   "outputs": [
    {
     "name": "stdout",
     "output_type": "stream",
     "text": [
      "The autoreload extension is already loaded. To reload it, use:\n",
      "  %reload_ext autoreload\n"
     ]
    }
   ],
   "source": [
    "# Magic + imports likely common across all notebooks\n",
    "%load_ext autoreload\n",
    "%autoreload 2\n",
    "%matplotlib inline\n",
    "# Supress Warning \n",
    "import warnings\n",
    "warnings.filterwarnings('ignore')\n",
    "# Set reference for util modules\n",
    "import sys\n",
    "sys.path.append('/home/jovyan/odc-hub/')\n",
    "# Generic python\n",
    "import matplotlib.pyplot as plt\n",
    "import numpy as np\n",
    "import xarray as xr \n",
    "\n",
    "# Bonus vector manipulation\n",
    "import pandas as pd\n",
    "#from pandas import Dataframe\n",
    "import geopandas as gpd\n",
    "from shapely import wkt\n",
    "from datetime import datetime\n",
    "import datacube\n",
    "\n",
    "from matplotlib.cm import RdYlGn, Greens\n",
    "\n",
    "CMAP = \"Blues\""
   ]
  },
  {
   "cell_type": "code",
   "execution_count": 126,
   "metadata": {},
   "outputs": [],
   "source": [
    "#import datacube utilities\n",
    "import utils_dcal.data_cube_utilities.data_access_api as dc_api  \n",
    "from utils_dcal.data_cube_utilities.dc_load import get_product_extents\n",
    "from utils_dcal.data_cube_utilities.dc_time import dt_to_str\n",
    "from utils_dcal.data_cube_utilities.dc_display_map import display_map\n",
    "from utils_dcal.data_cube_utilities.dc_mosaic import create_max_ndvi_mosaic, create_median_mosaic, create_mosaic\n",
    "from utils_dcal.data_cube_utilities.dc_rgb import rgb\n",
    "from utils_sac.createAOI import create_lat_lon\n",
    "from utils_dcal.data_cube_utilities.dc_water_classifier import wofs_classify\n",
    "from utils_sac.createindices import NDVI\n",
    "from utils_sac.fromDCALscripts import threshold_plot\n"
   ]
  },
  {
   "cell_type": "markdown",
   "metadata": {},
   "source": [
    "# NDVI Anomaly \n",
    "Adapted from https://github.com/ceos-seo/data_cube_notebooks for us in Satellite Applications Catapult Common Sensing DataCube\n",
    "\n",
    "This notebook compares NDVI between two time periods to detect land change. In the case of deforestation, the NDVI values will reduce from (0.6 to 0.9 ... typical for forests) to lower values (<0.6). This change can be detected and used to investigate deforestation or monitor the extent of the land change."
   ]
  },
  {
   "cell_type": "markdown",
   "metadata": {},
   "source": [
    "# Choose Platform and Product"
   ]
  },
  {
   "cell_type": "code",
   "execution_count": 127,
   "metadata": {},
   "outputs": [],
   "source": [
    "api = dc_api.DataAccessApi()\n",
    "dc = datacube.Datacube(app='ndvi anomoly')"
   ]
  },
  {
   "cell_type": "markdown",
   "metadata": {},
   "source": [
    "## Set Variables"
   ]
  },
  {
   "cell_type": "code",
   "execution_count": 128,
   "metadata": {},
   "outputs": [],
   "source": [
    "#area of interest: load in as wkt\n",
    "aoi_wkt = \"POLYGON((178.98101806642 -17.592544555664, 179.03903961183 -17.593231201171, 179.03903961183 -17.66258239746, 178.97998809815 -17.661209106445, 178.98101806642 -17.592544555664))\"\n",
    "#set-project: This is the same for all of FIJI so this may not need to be a variable within the Fijian cube.\n",
    "output_projection = \"EPSG:32760\"\n",
    "#set resolution_if using Landsat min 30m, if sentinel min 10m \n",
    "res = (200)\n",
    "#platform is the sensor, options include 'LANSAT_8', 'LANSAT_7', 'LANSAT_5', 'LANSAT_4', 'SENTINEL_2'\n",
    "platform = 'LANDSAT_4'"
   ]
  },
  {
   "cell_type": "code",
   "execution_count": 129,
   "metadata": {},
   "outputs": [],
   "source": [
    "# Select the baseline time period (start and end)\n",
    "baseline_time_period = (datetime(1990,1,1), datetime(1995,12,30))\n",
    "\n",
    "# Select the analysis time period (start and end)\n",
    "analysis_time_period = (datetime(1990,1,1), datetime(1995,12,30)) \n",
    "\n",
    "# Select the cloud-free mosaic type\n",
    "# Options are: max_ndvi, median, most_recent_pixel\n",
    "mosaic_type = \"median\"\n",
    "\n",
    "# Select a baseline NDVI threshold range\n",
    "# The analysis will only consider pixels in this range for change detection\n",
    "# Example: use 0.6 to 0.9 for dense vegetation\n",
    "# grasslands are 0.2 to 0.6\n",
    "# all vegetation 0.2 to 1\n",
    "ndvi_baseline_threshold_range = (0.2, 1)  "
   ]
  },
  {
   "cell_type": "code",
   "execution_count": 130,
   "metadata": {},
   "outputs": [],
   "source": [
    "# Select NDVI Anomaly Threshold Range\n",
    "# We are looking for pixels that have lost significant vegetation\n",
    "# NDVI losses are typically 0.1 or more for deforestation\n",
    "\n",
    "minimum_change = -0.7\n",
    "maximum_change = -0.1"
   ]
  },
  {
   "cell_type": "markdown",
   "metadata": {},
   "source": [
    "### Create AOI"
   ]
  },
  {
   "cell_type": "code",
   "execution_count": 131,
   "metadata": {},
   "outputs": [],
   "source": [
    "lat_extents, lon_extents = create_lat_lon(aoi_wkt)"
   ]
  },
  {
   "cell_type": "code",
   "execution_count": 132,
   "metadata": {
    "scrolled": false
   },
   "outputs": [
    {
     "data": {
      "text/html": [
       "<div style=\"width:100%;\"><div style=\"position:relative;width:100%;height:0;padding-bottom:60%;\"><iframe src=\"data:text/html;charset=utf-8;base64,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\" style=\"position:absolute;width:100%;height:100%;left:0;top:0;border:none !important;\" allowfullscreen webkitallowfullscreen mozallowfullscreen></iframe></div></div>"
      ],
      "text/plain": [
       "<folium.folium.Map at 0x7f193f6a1b00>"
      ]
     },
     "execution_count": 132,
     "metadata": {},
     "output_type": "execute_result"
    }
   ],
   "source": [
    "## The code below renders a map that can be used to orient yourself with the region.\n",
    "display_map(latitude = lat_extents, longitude = lon_extents)"
   ]
  },
  {
   "cell_type": "markdown",
   "metadata": {},
   "source": [
    "## Translate inputs and load data"
   ]
  },
  {
   "cell_type": "code",
   "execution_count": 133,
   "metadata": {},
   "outputs": [],
   "source": [
    "allmeasurements = [\"green\",\"red\",\"blue\",\"nir\",\"swir1\",\"swir2\"]\n",
    "if platform  in [\"SENTINEL_2\"]:\n",
    "    product = 's2_esa_sr_granule'\n",
    "    measurements = allmeasurements + [\"coastal_aerosol\",\"scene_classification\"]\n",
    "elif platform in [\"LANDSAT_8\"]:    \n",
    "    measurements = allmeasurements + [\"pixel_qa\"]\n",
    "    product = 'ls8_usgs_sr_scene'\n",
    "elif platform in [\"LANDSAT_7\"]:    \n",
    "    measurements = allmeasurements + [\"pixel_qa\"]\n",
    "    product = 'ls7_usgs_sr_scene'\n",
    "elif platform in [\"LANDSAT_5\"]:    \n",
    "    measurements = allmeasurements + [\"pixel_qa\"]\n",
    "    product = 'ls5_usgs_sr_scene'\n",
    "elif platform in [\"LANDSAT_4\"]:    \n",
    "    measurements = allmeasurements + [\"pixel_qa\"]\n",
    "    product = 'ls4_usgs_sr_scene'\n",
    "else:\n",
    "    print(\"invalid platform\")"
   ]
  },
  {
   "cell_type": "code",
   "execution_count": 134,
   "metadata": {},
   "outputs": [],
   "source": [
    "#create resolution\n",
    "resolution = (-res, res)"
   ]
  },
  {
   "cell_type": "markdown",
   "metadata": {},
   "source": [
    "### Import products from datacube "
   ]
  },
  {
   "cell_type": "code",
   "execution_count": 135,
   "metadata": {},
   "outputs": [],
   "source": [
    "# Create the 'query' dictionary object, which contains the longitudes, latitudes \n",
    "query = {\n",
    "    'y': lat_extents,\n",
    "    'x': lon_extents,\n",
    "    'output_crs': output_projection,  \n",
    "    'resolution': resolution,\n",
    "    'product' : product,\n",
    "    'platform' : platform, \n",
    "    'measurements' : measurements\n",
    "}"
   ]
  },
  {
   "cell_type": "markdown",
   "metadata": {},
   "source": [
    ">#### Load Data ( Baseline, Analysis) "
   ]
  },
  {
   "cell_type": "code",
   "execution_count": 136,
   "metadata": {},
   "outputs": [],
   "source": [
    "baseline_ds = dc.load(\n",
    "    time = baseline_time_period,\n",
    "    **query\n",
    ")\n"
   ]
  },
  {
   "cell_type": "code",
   "execution_count": 137,
   "metadata": {},
   "outputs": [],
   "source": [
    "analysis_ds = dc.load(\n",
    "    time = analysis_time_period,\n",
    "    **query\n",
    ")"
   ]
  },
  {
   "cell_type": "markdown",
   "metadata": {},
   "source": [
    "### Check if loads are valid"
   ]
  },
  {
   "cell_type": "code",
   "execution_count": 138,
   "metadata": {},
   "outputs": [],
   "source": [
    "def is_dataset_empty(ds:xr.Dataset) -> bool:\n",
    "    checks_for_empty = [\n",
    "                        lambda x: len(x.dims) == 0,      #Dataset has no dimensions\n",
    "                        lambda x: len(x.data_vars) == 0  #Dataset no variables \n",
    "                       ]\n",
    "    for f in checks_for_empty:\n",
    "         if f(ds) == True:\n",
    "                return True\n",
    "    return False"
   ]
  },
  {
   "cell_type": "code",
   "execution_count": 139,
   "metadata": {},
   "outputs": [],
   "source": [
    "if is_dataset_empty(baseline_ds): raise Exception(\"DataCube Load returned an empty Dataset.\" +  \n",
    "                                               \"Please check load parameters for Baseline Dataset!\")"
   ]
  },
  {
   "cell_type": "code",
   "execution_count": 140,
   "metadata": {},
   "outputs": [],
   "source": [
    "if is_dataset_empty(analysis_ds): raise Exception(\"DataCube Load returned an empty Dataset.\" +  \n",
    "                                               \"Please check load parameters for Analysis Dataset!\")"
   ]
  },
  {
   "cell_type": "markdown",
   "metadata": {},
   "source": [
    "#### Create CLoud Mask\n",
    "Generating boolean masks that highlight valid pixels\n",
    "Pixels must be cloud-free over land or water to be considered"
   ]
  },
  {
   "cell_type": "code",
   "execution_count": 141,
   "metadata": {},
   "outputs": [],
   "source": [
    "from utils_sac.clean_mask import landsat_qa_clean_mask\n",
    "#create cloud mask\n",
    "baseline_clean_mask = landsat_qa_clean_mask(baseline_ds, platform)\n",
    "analysis_clean_mask = landsat_qa_clean_mask(analysis_ds, platform)"
   ]
  },
  {
   "cell_type": "code",
   "execution_count": 142,
   "metadata": {},
   "outputs": [],
   "source": [
    "baseline_ds = baseline_ds.where(baseline_clean_mask)\n",
    "analysis_ds = analysis_ds.where(analysis_clean_mask)"
   ]
  },
  {
   "cell_type": "markdown",
   "metadata": {},
   "source": [
    "### Perform Mosaic\n",
    " Use clean masks in a time series composite"
   ]
  },
  {
   "cell_type": "code",
   "execution_count": 143,
   "metadata": {},
   "outputs": [],
   "source": [
    "mosaic_function = {\"median\": create_median_mosaic,\n",
    "                   \"max_ndvi\": create_max_ndvi_mosaic,\n",
    "                   \"most_recent_pixel\": create_mosaic}"
   ]
  },
  {
   "cell_type": "code",
   "execution_count": 144,
   "metadata": {},
   "outputs": [],
   "source": [
    "baseline_compositor = mosaic_function[mosaic_type]\n",
    "analysis_compositor = mosaic_function[mosaic_type]"
   ]
  },
  {
   "cell_type": "code",
   "execution_count": 145,
   "metadata": {},
   "outputs": [],
   "source": [
    "baseline_composite = baseline_compositor(baseline_ds, clean_mask = baseline_clean_mask)\n",
    "analysis_composite = analysis_compositor(analysis_ds, clean_mask = analysis_clean_mask)"
   ]
  },
  {
   "cell_type": "markdown",
   "metadata": {},
   "source": [
    "### Mask out Water"
   ]
  },
  {
   "cell_type": "code",
   "execution_count": 146,
   "metadata": {},
   "outputs": [],
   "source": [
    "water_class_base = wofs_classify(baseline_composite, mosaic=True, x_coord='x', y_coord='y').wofs\n",
    "baseline_composite = baseline_composite.copy(deep=True).where((baseline_composite != np.nan) & (water_class_base == 0))\n",
    "water_class_analy = wofs_classify(analysis_composite, mosaic=True, x_coord='x', y_coord='y').wofs\n",
    "analysis_composite = analysis_composite.copy(deep=True).where((analysis_composite != np.nan) & (water_class_analy == 0))"
   ]
  },
  {
   "cell_type": "code",
   "execution_count": 147,
   "metadata": {
    "scrolled": false
   },
   "outputs": [
    {
     "data": {
      "text/plain": [
       "(<Figure size 720x576 with 1 Axes>,\n",
       " <matplotlib.axes._subplots.AxesSubplot at 0x7f193f5482b0>)"
      ]
     },
     "execution_count": 147,
     "metadata": {},
     "output_type": "execute_result"
    },
    {
     "data": {
      "text/plain": [
       "<Figure size 432x216 with 0 Axes>"
      ]
     },
     "metadata": {},
     "output_type": "display_data"
    },
    {
     "data": {
      "image/png": "[encoded data removed]",
      "text/plain": [
       "<Figure size 720x576 with 1 Axes>"
      ]
     },
     "metadata": {
      "needs_background": "light"
     },
     "output_type": "display_data"
    }
   ],
   "source": [
    "plt.figure(figsize = (6,3))\n",
    "rgb(baseline_composite, x_coord='x', y_coord='y')"
   ]
  },
  {
   "cell_type": "code",
   "execution_count": 148,
   "metadata": {},
   "outputs": [
    {
     "name": "stdout",
     "output_type": "stream",
     "text": [
      "<xarray.Dataset>\n",
      "Dimensions:   (x: 32, y: 40)\n",
      "Coordinates:\n",
      "  * y         (y) float64 8.054e+06 8.054e+06 8.053e+06 ... 8.046e+06 8.046e+06\n",
      "  * x         (x) float64 7.101e+05 7.103e+05 7.105e+05 ... 7.161e+05 7.163e+05\n",
      "Data variables:\n",
      "    green     (y, x) float64 nan nan nan nan nan nan ... nan nan nan nan nan nan\n",
      "    red       (y, x) float64 nan nan nan nan nan nan ... nan nan nan nan nan nan\n",
      "    blue      (y, x) float64 nan nan nan nan nan nan ... nan nan nan nan nan nan\n",
      "    nir       (y, x) float64 nan nan nan nan nan nan ... nan nan nan nan nan nan\n",
      "    swir1     (y, x) float64 nan nan nan nan nan nan ... nan nan nan nan nan nan\n",
      "    swir2     (y, x) float64 nan nan nan nan nan nan ... nan nan nan nan nan nan\n",
      "    pixel_qa  (y, x) float64 nan nan nan nan nan nan ... nan nan nan nan nan nan\n"
     ]
    }
   ],
   "source": [
    "print(baseline_composite)"
   ]
  },
  {
   "cell_type": "code",
   "execution_count": 149,
   "metadata": {},
   "outputs": [
    {
     "data": {
      "text/plain": [
       "(<Figure size 720x576 with 1 Axes>,\n",
       " <matplotlib.axes._subplots.AxesSubplot at 0x7f193e393908>)"
      ]
     },
     "execution_count": 149,
     "metadata": {},
     "output_type": "execute_result"
    },
    {
     "data": {
      "text/plain": [
       "<Figure size 432x216 with 0 Axes>"
      ]
     },
     "metadata": {},
     "output_type": "display_data"
    },
    {
     "data": {
      "image/png": "[encoded data removed]",
      "text/plain": [
       "<Figure size 720x576 with 1 Axes>"
      ]
     },
     "metadata": {
      "needs_background": "light"
     },
     "output_type": "display_data"
    }
   ],
   "source": [
    "plt.figure(figsize = (6,3))\n",
    "rgb(analysis_composite, x_coord='x', y_coord='y')"
   ]
  },
  {
   "cell_type": "markdown",
   "metadata": {},
   "source": [
    "### Baseline Mosaic using the NDVI Threshold Range\n",
    "To only include pixels within our interest threshold range"
   ]
  },
  {
   "cell_type": "code",
   "execution_count": 150,
   "metadata": {},
   "outputs": [],
   "source": [
    "_min, _max = ndvi_baseline_threshold_range  \n",
    "baseline_ndvi_filter_mask = np.logical_and(NDVI(baseline_composite) > _min, NDVI(baseline_composite) < _max)    "
   ]
  },
  {
   "cell_type": "code",
   "execution_count": 151,
   "metadata": {},
   "outputs": [],
   "source": [
    "def aspect_ratio_helper(ds, fixed_width = 15):\n",
    "        y,x = ds.values.shape\n",
    "        width = fixed_width\n",
    "        height = y * (fixed_width / x)\n",
    "        return (width, height)"
   ]
  },
  {
   "cell_type": "code",
   "execution_count": 152,
   "metadata": {},
   "outputs": [],
   "source": [
    "RdYlGn.set_bad('black',1.)\n",
    "Greens.set_bad('black',1.)"
   ]
  },
  {
   "cell_type": "code",
   "execution_count": 153,
   "metadata": {
    "scrolled": false
   },
   "outputs": [
    {
     "data": {
      "text/plain": [
       "<matplotlib.collections.QuadMesh at 0x7f193f65ffd0>"
      ]
     },
     "execution_count": 153,
     "metadata": {},
     "output_type": "execute_result"
    },
    {
     "data": {
      "text/plain": [
       "<Figure size 1080x1350 with 0 Axes>"
      ]
     },
     "metadata": {},
     "output_type": "display_data"
    },
    {
     "data": {
      "image/png": "[encoded data removed]",
      "text/plain": [
       "<Figure size 576x576 with 2 Axes>"
      ]
     },
     "metadata": {
      "needs_background": "light"
     },
     "output_type": "display_data"
    }
   ],
   "source": [
    "# This is the baseline NDVI threshold plot that shows GREEN pixels in the threshold range\n",
    "plt.figure(figsize = aspect_ratio_helper(baseline_ndvi_filter_mask)) \n",
    "plt.figure(figsize = (8,8))\n",
    "baseline_ndvi_filter_mask.plot(cmap = \"Greens\")"
   ]
  },
  {
   "cell_type": "code",
   "execution_count": 154,
   "metadata": {},
   "outputs": [],
   "source": [
    "baseline_composite = baseline_composite.where(baseline_ndvi_filter_mask)"
   ]
  },
  {
   "cell_type": "markdown",
   "metadata": {},
   "source": [
    "# NDVI Anomaly"
   ]
  },
  {
   "cell_type": "code",
   "execution_count": 155,
   "metadata": {},
   "outputs": [],
   "source": [
    "#calculate NDVI\n",
    "ndvi_baseline_composite = NDVI(baseline_composite)\n",
    "ndvi_analysis_composite = NDVI(analysis_composite)"
   ]
  },
  {
   "cell_type": "code",
   "execution_count": 156,
   "metadata": {},
   "outputs": [
    {
     "data": {
      "text/plain": [
       "<matplotlib.collections.QuadMesh at 0x7f193f4ae320>"
      ]
     },
     "execution_count": 156,
     "metadata": {},
     "output_type": "execute_result"
    },
    {
     "data": {
      "image/png": "[encoded data removed]",
      "text/plain": [
       "<Figure size 576x576 with 2 Axes>"
      ]
     },
     "metadata": {
      "needs_background": "light"
     },
     "output_type": "display_data"
    }
   ],
   "source": [
    "plt.figure(figsize = (8,8))\n",
    "ndvi_baseline_composite.plot(vmin=0.4, vmax=1, cmap = RdYlGn)"
   ]
  },
  {
   "cell_type": "code",
   "execution_count": 157,
   "metadata": {},
   "outputs": [
    {
     "data": {
      "text/plain": [
       "<matplotlib.collections.QuadMesh at 0x7f193e32ef98>"
      ]
     },
     "execution_count": 157,
     "metadata": {},
     "output_type": "execute_result"
    },
    {
     "data": {
      "image/png": "[encoded data removed]",
      "text/plain": [
       "<Figure size 576x576 with 2 Axes>"
      ]
     },
     "metadata": {
      "needs_background": "light"
     },
     "output_type": "display_data"
    }
   ],
   "source": [
    "plt.figure(figsize = (8,8))\n",
    "ndvi_analysis_composite.plot(vmin=0.4, vmax=1, cmap = RdYlGn)"
   ]
  },
  {
   "cell_type": "code",
   "execution_count": 158,
   "metadata": {},
   "outputs": [],
   "source": [
    "#calculate ndvi anomaly\n",
    "ndvi_anomaly = ndvi_analysis_composite - ndvi_baseline_composite"
   ]
  },
  {
   "cell_type": "markdown",
   "metadata": {},
   "source": [
    "NDVI Anomaly Plot\n"
   ]
  },
  {
   "cell_type": "code",
   "execution_count": 159,
   "metadata": {},
   "outputs": [
    {
     "data": {
      "text/plain": [
       "<matplotlib.collections.QuadMesh at 0x7f193e2ade10>"
      ]
     },
     "execution_count": 159,
     "metadata": {},
     "output_type": "execute_result"
    },
    {
     "data": {
      "image/png": "[encoded data removed]",
      "text/plain": [
       "<Figure size 576x576 with 2 Axes>"
      ]
     },
     "metadata": {
      "needs_background": "light"
     },
     "output_type": "display_data"
    }
   ],
   "source": [
    "plt.figure(figsize = (8,8))\n",
    "ndvi_anomaly.plot(vmin=-1, vmax=1, cmap = RdYlGn)"
   ]
  },
  {
   "cell_type": "markdown",
   "metadata": {},
   "source": [
    "Discretized/Binned plot"
   ]
  },
  {
   "cell_type": "code",
   "execution_count": 160,
   "metadata": {},
   "outputs": [
    {
     "data": {
      "text/plain": [
       "<matplotlib.collections.QuadMesh at 0x7f193e1deba8>"
      ]
     },
     "execution_count": 160,
     "metadata": {},
     "output_type": "execute_result"
    },
    {
     "data": {
      "image/png": "[encoded data removed]",
      "text/plain": [
       "<Figure size 576x576 with 2 Axes>"
      ]
     },
     "metadata": {
      "needs_background": "light"
     },
     "output_type": "display_data"
    }
   ],
   "source": [
    "#plt.figure(figsize = aspect_ratio_helper(ndvi_anomaly)) \n",
    "plt.figure(figsize = (8,8))\n",
    "ndvi_anomaly.plot(levels = 8, vmin=-0.5, vmax=0.5, cmap = RdYlGn)"
   ]
  },
  {
   "cell_type": "code",
   "execution_count": 161,
   "metadata": {},
   "outputs": [],
   "source": [
    "# from dc_notebook_utilities import create_discrete_color_map\n",
    "from utils_dcal.data_cube_utilities.plotter_utils import create_discrete_color_map\n",
    "cmap = create_discrete_color_map(data_range=(-1,1), \n",
    "                                 th=[0.0], colors=[(240,93,94), (126,243,125)])\n",
    "cmap.set_bad(\"black\", 1.)"
   ]
  },
  {
   "cell_type": "markdown",
   "metadata": {},
   "source": [
    ">#### NDVI Anomaly\n",
    "\n",
    "This product shows the following ...<br>\n",
    "BLACK = Cloud or Pixels NOT in the baseline threshold range<br>\n",
    "GREEN = Pixels with an increase in NDVI<br>\n",
    "RED = Pixels with a decrease in NDVI<br>"
   ]
  },
  {
   "cell_type": "code",
   "execution_count": 162,
   "metadata": {},
   "outputs": [
    {
     "data": {
      "image/png": "[encoded data removed]",
      "text/plain": [
       "<Figure size 576x576 with 1 Axes>"
      ]
     },
     "metadata": {
      "needs_background": "light"
     },
     "output_type": "display_data"
    }
   ],
   "source": [
    "# plt.figure(figsize = aspect_ratio_helper(ndvi_anomaly)) \n",
    "plt.figure(figsize = (8,8))\n",
    "plt.imshow(ndvi_anomaly.values, cmap=cmap, vmin=-1, vmax=1)\n",
    "plt.show()"
   ]
  },
  {
   "cell_type": "code",
   "execution_count": 212,
   "metadata": {},
   "outputs": [
    {
     "name": "stdout",
     "output_type": "stream",
     "text": [
      "<xarray.DataArray (longitude: 40, latitude: 32)>\n",
      "array([[nan, nan, nan, ..., nan, nan, nan],\n",
      "       [nan, nan, nan, ..., nan, nan, nan],\n",
      "       [nan, nan, nan, ..., nan, nan, nan],\n",
      "       ...,\n",
      "       [nan, nan, nan, ..., nan, nan, nan],\n",
      "       [nan, nan, nan, ..., nan, nan, nan],\n",
      "       [nan, nan, nan, ..., nan, nan, nan]])\n",
      "Coordinates:\n",
      "  * longitude  (longitude) float64 8.054e+06 8.054e+06 ... 8.046e+06 8.046e+06\n",
      "  * latitude   (latitude) float64 7.101e+05 7.103e+05 ... 7.161e+05 7.163e+05\n"
     ]
    }
   ],
   "source": [
    "print(ndvi_anomaly)"
   ]
  },
  {
   "cell_type": "markdown",
   "metadata": {},
   "source": [
    "# NDVI Anomaly Threshold Product"
   ]
  },
  {
   "cell_type": "markdown",
   "metadata": {},
   "source": [
    ">#### NDVI Change Distribution\n",
    "Threshold range, highlighted in red"
   ]
  },
  {
   "cell_type": "code",
   "execution_count": 163,
   "metadata": {},
   "outputs": [],
   "source": [
    "no_data_mask = np.logical_or(np.isnan(baseline_composite.red.values), np.isnan(analysis_composite.red.values)) "
   ]
  },
  {
   "cell_type": "code",
   "execution_count": 164,
   "metadata": {},
   "outputs": [],
   "source": [
    "if hasattr(ndvi_anomaly, 'x'):\n",
    "    ndvi_anomaly = ndvi_anomaly.rename({\"x\":\"latitude\", \"y\":\"longitude\"})\n",
    "else:\n",
    "    print('latitude and longitude exist')"
   ]
  },
  {
   "cell_type": "code",
   "execution_count": 165,
   "metadata": {
    "scrolled": false
   },
   "outputs": [
    {
     "data": {
      "image/png": "[encoded data removed]",
      "text/plain": [
       "<Figure size 576x460.8 with 1 Axes>"
      ]
     },
     "metadata": {
      "needs_background": "light"
     },
     "output_type": "display_data"
    }
   ],
   "source": [
    "threshold_plot(ndvi_anomaly, minimum_change, maximum_change, mask = no_data_mask, width  = 8)"
   ]
  },
  {
   "cell_type": "code",
   "execution_count": null,
   "metadata": {},
   "outputs": [],
   "source": []
  },
  {
   "cell_type": "code",
   "execution_count": 166,
   "metadata": {},
   "outputs": [],
   "source": [
    "ndvi_anomaly_thres = np.logical_and(ndvi_anomaly > minimum_change, ndvi_anomaly < maximum_change) \n",
    "#masked  = np.zeros(ndvi_anomaly.values.shape).astype(bool)"
   ]
  },
  {
   "cell_type": "code",
   "execution_count": 177,
   "metadata": {},
   "outputs": [],
   "source": [
    "ndvi_anomaly_thres2 = ndvi_anomaly.where(ndvi_anomaly > minimum_change, ndvi_anomaly < maximum_change)"
   ]
  },
  {
   "cell_type": "code",
   "execution_count": 216,
   "metadata": {},
   "outputs": [
    {
     "name": "stdout",
     "output_type": "stream",
     "text": [
      "<xarray.DataArray (longitude: 40, latitude: 32)>\n",
      "array([[0., 0., 0., ..., 0., 0., 0.],\n",
      "       [0., 0., 0., ..., 0., 0., 0.],\n",
      "       [0., 0., 0., ..., 0., 0., 0.],\n",
      "       ...,\n",
      "       [0., 0., 0., ..., 0., 0., 0.],\n",
      "       [0., 0., 0., ..., 0., 0., 0.],\n",
      "       [0., 0., 0., ..., 0., 0., 0.]])\n",
      "Coordinates:\n",
      "  * longitude  (longitude) float64 8.054e+06 8.054e+06 ... 8.046e+06 8.046e+06\n",
      "  * latitude   (latitude) float64 7.101e+05 7.103e+05 ... 7.161e+05 7.163e+05\n"
     ]
    }
   ],
   "source": [
    "print(ndvi_anomaly_thres2)"
   ]
  },
  {
   "cell_type": "code",
   "execution_count": 213,
   "metadata": {},
   "outputs": [],
   "source": [
    "new2 = ndvi_anomaly_thres2.where(ndvi_anomaly != np.nan)"
   ]
  },
  {
   "cell_type": "code",
   "execution_count": 214,
   "metadata": {},
   "outputs": [
    {
     "name": "stdout",
     "output_type": "stream",
     "text": [
      "<xarray.DataArray (longitude: 40, latitude: 32)>\n",
      "array([[0., 0., 0., ..., 0., 0., 0.],\n",
      "       [0., 0., 0., ..., 0., 0., 0.],\n",
      "       [0., 0., 0., ..., 0., 0., 0.],\n",
      "       ...,\n",
      "       [0., 0., 0., ..., 0., 0., 0.],\n",
      "       [0., 0., 0., ..., 0., 0., 0.],\n",
      "       [0., 0., 0., ..., 0., 0., 0.]])\n",
      "Coordinates:\n",
      "  * longitude  (longitude) float64 8.054e+06 8.054e+06 ... 8.046e+06 8.046e+06\n",
      "  * latitude   (latitude) float64 7.101e+05 7.103e+05 ... 7.161e+05 7.163e+05\n"
     ]
    }
   ],
   "source": [
    "print(new2)"
   ]
  },
  {
   "cell_type": "code",
   "execution_count": 190,
   "metadata": {},
   "outputs": [
    {
     "name": "stdout",
     "output_type": "stream",
     "text": [
      "<xarray.DataArray (longitude: 40, latitude: 32)>\n",
      "array([[nan, nan, nan, ..., nan, nan, nan],\n",
      "       [nan, nan, nan, ..., nan, nan, nan],\n",
      "       [nan, nan, nan, ..., nan, nan, nan],\n",
      "       ...,\n",
      "       [nan, nan, nan, ..., nan, nan, nan],\n",
      "       [nan, nan, nan, ..., nan, nan, nan],\n",
      "       [nan, nan, nan, ..., nan, nan, nan]])\n",
      "Coordinates:\n",
      "  * longitude  (longitude) float64 8.054e+06 8.054e+06 ... 8.046e+06 8.046e+06\n",
      "  * latitude   (latitude) float64 7.101e+05 7.103e+05 ... 7.161e+05 7.163e+05\n"
     ]
    }
   ],
   "source": [
    "print(ndvi_anomaly)"
   ]
  },
  {
   "cell_type": "code",
   "execution_count": 228,
   "metadata": {},
   "outputs": [],
   "source": [
    "from datacube.storage import masking\n",
    "mask_here = masking.mask_invalid_data(ndvi_anomaly)"
   ]
  },
  {
   "cell_type": "code",
   "execution_count": 229,
   "metadata": {},
   "outputs": [
    {
     "data": {
      "text/plain": [
       "<xarray.DataArray (longitude: 40, latitude: 32)>\n",
       "array([[0., 0., 0., ..., 0., 0., 0.],\n",
       "       [0., 0., 0., ..., 0., 0., 0.],\n",
       "       [0., 0., 0., ..., 0., 0., 0.],\n",
       "       ...,\n",
       "       [0., 0., 0., ..., 0., 0., 0.],\n",
       "       [0., 0., 0., ..., 0., 0., 0.],\n",
       "       [0., 0., 0., ..., 0., 0., 0.]])\n",
       "Coordinates:\n",
       "  * longitude  (longitude) float64 8.054e+06 8.054e+06 ... 8.046e+06 8.046e+06\n",
       "  * latitude   (latitude) float64 7.101e+05 7.103e+05 ... 7.161e+05 7.163e+05"
      ]
     },
     "execution_count": 229,
     "metadata": {},
     "output_type": "execute_result"
    }
   ],
   "source": [
    "ndvi_anomaly_thres.where(mask_here)"
   ]
  },
  {
   "cell_type": "code",
   "execution_count": 224,
   "metadata": {},
   "outputs": [],
   "source": [
    "test2 = ndvi_anomaly_thres2.where(ndvi_anomaly != np.nan)"
   ]
  },
  {
   "cell_type": "code",
   "execution_count": 225,
   "metadata": {},
   "outputs": [
    {
     "name": "stdout",
     "output_type": "stream",
     "text": [
      "<xarray.DataArray (longitude: 40, latitude: 32)>\n",
      "array([[0., 0., 0., ..., 0., 0., 0.],\n",
      "       [0., 0., 0., ..., 0., 0., 0.],\n",
      "       [0., 0., 0., ..., 0., 0., 0.],\n",
      "       ...,\n",
      "       [0., 0., 0., ..., 0., 0., 0.],\n",
      "       [0., 0., 0., ..., 0., 0., 0.],\n",
      "       [0., 0., 0., ..., 0., 0., 0.]])\n",
      "Coordinates:\n",
      "  * longitude  (longitude) float64 8.054e+06 8.054e+06 ... 8.046e+06 8.046e+06\n",
      "  * latitude   (latitude) float64 7.101e+05 7.103e+05 ... 7.161e+05 7.163e+05\n"
     ]
    }
   ],
   "source": [
    "print(test2)"
   ]
  },
  {
   "cell_type": "code",
   "execution_count": 226,
   "metadata": {},
   "outputs": [
    {
     "data": {
      "text/plain": [
       "<matplotlib.collections.QuadMesh at 0x7f193d9dac50>"
      ]
     },
     "execution_count": 226,
     "metadata": {},
     "output_type": "execute_result"
    },
    {
     "data": {
      "image/png": "[encoded data removed]",
      "text/plain": [
       "<Figure size 1080x1350 with 2 Axes>"
      ]
     },
     "metadata": {
      "needs_background": "light"
     },
     "output_type": "display_data"
    }
   ],
   "source": [
    "plt.figure(figsize = aspect_ratio_helper(ndvi_anomaly_thres2)) \n",
    "test2.plot(cmap = \"RdYlGn\")"
   ]
  },
  {
   "cell_type": "code",
   "execution_count": 203,
   "metadata": {},
   "outputs": [],
   "source": [
    "#test = ndvi_anomaly_thres.np.nan.where(test2 == np.nan)\n",
    "test = ndvi_anomaly_thres2.where(ndvi_anomaly)\n",
    "new = xr.DataArray.to_masked_array(self, copy: bool = True)\n",
    "\n",
    " #blue = src.read(1, masked=True)\n",
    "#analysis_composite = analysis_composite.copy(deep=True).where((analysis_composite != np.nan)\n",
    "#masked.plot(cmap = \"RdYlGn\")"
   ]
  },
  {
   "cell_type": "code",
   "execution_count": 204,
   "metadata": {},
   "outputs": [
    {
     "name": "stdout",
     "output_type": "stream",
     "text": [
      "<xarray.DataArray (longitude: 40, latitude: 32)>\n",
      "array([[0., 0., 0., ..., 0., 0., 0.],\n",
      "       [0., 0., 0., ..., 0., 0., 0.],\n",
      "       [0., 0., 0., ..., 0., 0., 0.],\n",
      "       ...,\n",
      "       [0., 0., 0., ..., 0., 0., 0.],\n",
      "       [0., 0., 0., ..., 0., 0., 0.],\n",
      "       [0., 0., 0., ..., 0., 0., 0.]])\n",
      "Coordinates:\n",
      "  * longitude  (longitude) float64 8.054e+06 8.054e+06 ... 8.046e+06 8.046e+06\n",
      "  * latitude   (latitude) float64 7.101e+05 7.103e+05 ... 7.161e+05 7.163e+05\n"
     ]
    }
   ],
   "source": [
    "print(test)"
   ]
  },
  {
   "cell_type": "code",
   "execution_count": 205,
   "metadata": {},
   "outputs": [
    {
     "name": "stdout",
     "output_type": "stream",
     "text": [
      "[[0.0 0.0 0.0 ... 0.0 0.0 0.0]\n",
      " [0.0 0.0 0.0 ... 0.0 0.0 0.0]\n",
      " [0.0 0.0 0.0 ... 0.0 0.0 0.0]\n",
      " ...\n",
      " [0.0 0.0 0.0 ... 0.0 0.0 0.0]\n",
      " [0.0 0.0 0.0 ... 0.0 0.0 0.0]\n",
      " [0.0 0.0 0.0 ... 0.0 0.0 0.0]]\n"
     ]
    }
   ],
   "source": []
  },
  {
   "cell_type": "code",
   "execution_count": 185,
   "metadata": {},
   "outputs": [
    {
     "data": {
      "text/plain": [
       "<matplotlib.collections.QuadMesh at 0x7f193dd54048>"
      ]
     },
     "execution_count": 185,
     "metadata": {},
     "output_type": "execute_result"
    },
    {
     "data": {
      "image/png": "[encoded data removed]",
      "text/plain": [
       "<Figure size 432x288 with 2 Axes>"
      ]
     },
     "metadata": {
      "needs_background": "light"
     },
     "output_type": "display_data"
    }
   ],
   "source": [
    "test.plot(cmap = \"RdYlGn\")"
   ]
  },
  {
   "cell_type": "code",
   "execution_count": 198,
   "metadata": {},
   "outputs": [
    {
     "name": "stdout",
     "output_type": "stream",
     "text": [
      "(40, 32)\n"
     ]
    }
   ],
   "source": [
    "print(test.shape)"
   ]
  },
  {
   "cell_type": "code",
   "execution_count": 174,
   "metadata": {},
   "outputs": [
    {
     "name": "stdout",
     "output_type": "stream",
     "text": [
      "<xarray.DataArray (longitude: 40, latitude: 32)>\n",
      "array([[0., 0., 0., ..., 0., 0., 0.],\n",
      "       [0., 0., 0., ..., 0., 0., 0.],\n",
      "       [0., 0., 0., ..., 0., 0., 0.],\n",
      "       ...,\n",
      "       [0., 0., 0., ..., 0., 0., 0.],\n",
      "       [0., 0., 0., ..., 0., 0., 0.],\n",
      "       [0., 0., 0., ..., 0., 0., 0.]])\n",
      "Coordinates:\n",
      "  * longitude  (longitude) float64 8.054e+06 8.054e+06 ... 8.046e+06 8.046e+06\n",
      "  * latitude   (latitude) float64 7.101e+05 7.103e+05 ... 7.161e+05 7.163e+05\n"
     ]
    }
   ],
   "source": [
    "print(test)"
   ]
  },
  {
   "cell_type": "code",
   "execution_count": null,
   "metadata": {},
   "outputs": [],
   "source": []
  }
 ],
 "metadata": {
  "kernelspec": {
   "display_name": "Python [conda env:cubeenv]",
   "language": "python",
   "name": "conda-env-cubeenv-py"
  },
  "language_info": {
   "codemirror_mode": {
    "name": "ipython",
    "version": 3
   },
   "file_extension": ".py",
   "mimetype": "text/x-python",
   "name": "python",
   "nbconvert_exporter": "python",
   "pygments_lexer": "ipython3",
   "version": "3.6.7"
  }
 },
 "nbformat": 4,
 "nbformat_minor": 2
}
