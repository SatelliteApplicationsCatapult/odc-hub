{
 "cells": [
  {
   "cell_type": "code",
   "execution_count": 1,
   "metadata": {},
   "outputs": [],
   "source": [
    "# Magic + imports likely common across all notebooks\n",
    "%load_ext autoreload\n",
    "%autoreload 2\n",
    "%matplotlib inline\n",
    "# Supress Warning \n",
    "import warnings\n",
    "warnings.filterwarnings('ignore')\n",
    "# Set reference for util modules\n",
    "#import sys\n",
    "#sys.path.append('/home/jovyan/odc-hub/')\n",
    "# Generic python\n",
    "import matplotlib.pyplot as plt\n",
    "import numpy as np\n",
    "import xarray as xr \n",
    "\n",
    "# Bonus vector manipulation\n",
    "import pandas as pd\n",
    "import geopandas as gpd\n",
    "from shapely import wkt\n",
    "from datetime import datetime\n",
    "import datacube\n",
    "\n",
    "import dask\n",
    "\n",
    "CMAP = \"Blues\""
   ]
  },
  {
   "cell_type": "markdown",
   "metadata": {},
   "source": [
    "# Land Change\n",
    "\n",
    "This notebook uses changes in Fractional Cover to identify land change. The algorithm identifies a \"baseline\" and \"analysis\" time period and then compares the spectral parameters in each of those time periods. Significant reductions in vegetation are coincident with land change. In some cases these changes could be deforestation. Users of this algorithm should not accept the accuracy of the results but should conduct ground validation testing to assess accuracy. In most cases, these algorithms can be used to identify clusters of pixels that have experienced change and allow targeted investigation of those areas by local or regional governments."
   ]
  },
  {
   "cell_type": "code",
   "execution_count": 2,
   "metadata": {},
   "outputs": [
    {
     "name": "stdout",
     "output_type": "stream",
     "text": [
      "Requirement already satisfied: datacube_utilities from git+https://github.com/SatelliteApplicationsCatapult/datacube-utilities.git#egg=datacube_utilities in /opt/conda/envs/cubeenv/lib/python3.6/site-packages (0.0.1)\n",
      "Requirement already satisfied: scikit-image==0.15.0 in /opt/conda/envs/cubeenv/lib/python3.6/site-packages (from datacube_utilities) (0.15.0)\n",
      "Requirement already satisfied: shapely==1.6.4 in /opt/conda/envs/cubeenv/lib/python3.6/site-packages (from datacube_utilities) (1.6.4)\n",
      "Requirement already satisfied: geopandas==0.5.0 in /opt/conda/envs/cubeenv/lib/python3.6/site-packages (from datacube_utilities) (0.5.0)\n",
      "Requirement already satisfied: hdmedians==0.13 in /opt/conda/envs/cubeenv/lib/python3.6/site-packages (from datacube_utilities) (0.13)\n",
      "Requirement already satisfied: seaborn==0.9.0 in /opt/conda/envs/cubeenv/lib/python3.6/site-packages (from datacube_utilities) (0.9.0)\n",
      "Requirement already satisfied: descartes==1.1.0 in /opt/conda/envs/cubeenv/lib/python3.6/site-packages (from datacube_utilities) (1.1.0)\n",
      "Requirement already satisfied: dask==2.0.0 in /opt/conda/envs/cubeenv/lib/python3.6/site-packages (from datacube_utilities) (2.0.0)\n",
      "Requirement already satisfied: datacube==1.7 in /opt/conda/envs/cubeenv/lib/python3.6/site-packages (from datacube_utilities) (1.7)\n",
      "Requirement already satisfied: distributed==2.0.1 in /opt/conda/envs/cubeenv/lib/python3.6/site-packages (from datacube_utilities) (2.0.1)\n",
      "Requirement already satisfied: ipyleaflet==0.10.8 in /opt/conda/envs/cubeenv/lib/python3.6/site-packages (from datacube_utilities) (0.10.8)\n",
      "Requirement already satisfied: matplotlib==3.1.0 in /opt/conda/envs/cubeenv/lib/python3.6/site-packages (from datacube_utilities) (3.1.0)\n",
      "Requirement already satisfied: ruamel.yaml==0.15.96 in /opt/conda/envs/cubeenv/lib/python3.6/site-packages (from datacube_utilities) (0.15.96)\n",
      "Requirement already satisfied: scipy==1.3.0 in /opt/conda/envs/cubeenv/lib/python3.6/site-packages (from datacube_utilities) (1.3.0)\n",
      "Requirement already satisfied: boto3==1.9.179 in /opt/conda/envs/cubeenv/lib/python3.6/site-packages (from datacube_utilities) (1.9.179)\n",
      "Requirement already satisfied: folium==0.9.1 in /opt/conda/envs/cubeenv/lib/python3.6/site-packages (from datacube_utilities) (0.9.1)\n",
      "Requirement already satisfied: scikit-learn==0.21.2 in /opt/conda/envs/cubeenv/lib/python3.6/site-packages (from datacube_utilities) (0.21.2)\n",
      "Requirement already satisfied: rasterstats==0.13.1 in /opt/conda/envs/cubeenv/lib/python3.6/site-packages (from datacube_utilities) (0.13.1)\n",
      "Requirement already satisfied: lcmap-pyccd==2017.08.18 in /opt/conda/envs/cubeenv/lib/python3.6/site-packages (from datacube_utilities) (2017.8.18)\n",
      "Requirement already satisfied: networkx>=2.0 in /opt/conda/envs/cubeenv/lib/python3.6/site-packages (from scikit-image==0.15.0->datacube_utilities) (2.3)\n",
      "Requirement already satisfied: pillow>=4.3.0 in /opt/conda/envs/cubeenv/lib/python3.6/site-packages (from scikit-image==0.15.0->datacube_utilities) (6.0.0)\n",
      "Requirement already satisfied: imageio>=2.0.1 in /opt/conda/envs/cubeenv/lib/python3.6/site-packages (from scikit-image==0.15.0->datacube_utilities) (2.5.0)\n",
      "Requirement already satisfied: PyWavelets>=0.4.0 in /opt/conda/envs/cubeenv/lib/python3.6/site-packages (from scikit-image==0.15.0->datacube_utilities) (1.0.3)\n",
      "Requirement already satisfied: fiona in /opt/conda/envs/cubeenv/lib/python3.6/site-packages (from geopandas==0.5.0->datacube_utilities) (1.8.6)\n",
      "Requirement already satisfied: pandas in /opt/conda/envs/cubeenv/lib/python3.6/site-packages (from geopandas==0.5.0->datacube_utilities) (0.24.2)\n",
      "Requirement already satisfied: pyproj in /opt/conda/envs/cubeenv/lib/python3.6/site-packages (from geopandas==0.5.0->datacube_utilities) (2.2.1)\n",
      "Requirement already satisfied: numpy in /opt/conda/envs/cubeenv/lib/python3.6/site-packages (from hdmedians==0.13->datacube_utilities) (1.16.4)\n",
      "Requirement already satisfied: Cython>=0.23 in /opt/conda/envs/cubeenv/lib/python3.6/site-packages (from hdmedians==0.13->datacube_utilities) (0.29.15)\n",
      "Requirement already satisfied: pypeg2 in /opt/conda/envs/cubeenv/lib/python3.6/site-packages (from datacube==1.7->datacube_utilities) (2.15.2)\n",
      "Requirement already satisfied: gdal>=1.9 in /opt/conda/envs/cubeenv/lib/python3.6/site-packages (from datacube==1.7->datacube_utilities) (2.4.1)\n",
      "Requirement already satisfied: netcdf4 in /opt/conda/envs/cubeenv/lib/python3.6/site-packages (from datacube==1.7->datacube_utilities) (1.5.1.2)\n",
      "Requirement already satisfied: psycopg2 in /opt/conda/envs/cubeenv/lib/python3.6/site-packages (from datacube==1.7->datacube_utilities) (2.8.3)\n",
      "Requirement already satisfied: jsonschema in /opt/conda/envs/cubeenv/lib/python3.6/site-packages (from datacube==1.7->datacube_utilities) (3.0.1)\n",
      "Requirement already satisfied: rasterio>=1.0.2 in /opt/conda/envs/cubeenv/lib/python3.6/site-packages (from datacube==1.7->datacube_utilities) (1.0.22)\n",
      "Requirement already satisfied: sqlalchemy in /opt/conda/envs/cubeenv/lib/python3.6/site-packages (from datacube==1.7->datacube_utilities) (1.3.5)\n",
      "Requirement already satisfied: singledispatch in /opt/conda/envs/cubeenv/lib/python3.6/site-packages (from datacube==1.7->datacube_utilities) (3.4.0.3)\n",
      "Requirement already satisfied: cloudpickle>=0.4 in /opt/conda/envs/cubeenv/lib/python3.6/site-packages (from datacube==1.7->datacube_utilities) (1.2.1)\n",
      "Requirement already satisfied: toolz in /opt/conda/envs/cubeenv/lib/python3.6/site-packages (from datacube==1.7->datacube_utilities) (0.9.0)\n",
      "Requirement already satisfied: lark-parser>=0.6.7 in /opt/conda/envs/cubeenv/lib/python3.6/site-packages (from datacube==1.7->datacube_utilities) (0.8.1)\n",
      "Requirement already satisfied: affine in /opt/conda/envs/cubeenv/lib/python3.6/site-packages (from datacube==1.7->datacube_utilities) (2.2.2)\n",
      "Requirement already satisfied: python-dateutil in /opt/conda/envs/cubeenv/lib/python3.6/site-packages (from datacube==1.7->datacube_utilities) (2.8.0)\n",
      "Requirement already satisfied: pyyaml in /opt/conda/envs/cubeenv/lib/python3.6/site-packages (from datacube==1.7->datacube_utilities) (5.1)\n",
      "Requirement already satisfied: xarray>=0.9 in /opt/conda/envs/cubeenv/lib/python3.6/site-packages (from datacube==1.7->datacube_utilities) (0.12.1)\n",
      "Requirement already satisfied: cachetools in /opt/conda/envs/cubeenv/lib/python3.6/site-packages (from datacube==1.7->datacube_utilities) (3.1.1)\n",
      "Requirement already satisfied: click>=5.0 in /opt/conda/envs/cubeenv/lib/python3.6/site-packages (from datacube==1.7->datacube_utilities) (7.0)\n",
      "Requirement already satisfied: six in /opt/conda/envs/cubeenv/lib/python3.6/site-packages (from distributed==2.0.1->datacube_utilities) (1.12.0)\n",
      "Requirement already satisfied: psutil>=5.0 in /opt/conda/envs/cubeenv/lib/python3.6/site-packages (from distributed==2.0.1->datacube_utilities) (5.6.3)\n",
      "Requirement already satisfied: sortedcontainers!=2.0.0,!=2.0.1 in /opt/conda/envs/cubeenv/lib/python3.6/site-packages (from distributed==2.0.1->datacube_utilities) (2.1.0)\n",
      "Requirement already satisfied: msgpack in /opt/conda/envs/cubeenv/lib/python3.6/site-packages (from distributed==2.0.1->datacube_utilities) (0.6.1)\n",
      "Requirement already satisfied: tornado>=5 in /opt/conda/envs/cubeenv/lib/python3.6/site-packages (from distributed==2.0.1->datacube_utilities) (6.0.3)\n",
      "Requirement already satisfied: zict>=0.1.3 in /opt/conda/envs/cubeenv/lib/python3.6/site-packages (from distributed==2.0.1->datacube_utilities) (1.0.0)\n",
      "Requirement already satisfied: tblib in /opt/conda/envs/cubeenv/lib/python3.6/site-packages (from distributed==2.0.1->datacube_utilities) (1.4.0)\n",
      "Requirement already satisfied: branca<0.4,>=0.3.1 in /opt/conda/envs/cubeenv/lib/python3.6/site-packages (from ipyleaflet==0.10.8->datacube_utilities) (0.3.1)\n",
      "Requirement already satisfied: ipywidgets<8,>=7.0.0 in /opt/conda/envs/cubeenv/lib/python3.6/site-packages (from ipyleaflet==0.10.8->datacube_utilities) (7.4.2)\n",
      "Requirement already satisfied: traittypes<3,>=0.2.1 in /opt/conda/envs/cubeenv/lib/python3.6/site-packages (from ipyleaflet==0.10.8->datacube_utilities) (0.2.1)\n",
      "Requirement already satisfied: cycler>=0.10 in /opt/conda/envs/cubeenv/lib/python3.6/site-packages (from matplotlib==3.1.0->datacube_utilities) (0.10.0)\n",
      "Requirement already satisfied: pyparsing!=2.0.4,!=2.1.2,!=2.1.6,>=2.0.1 in /opt/conda/envs/cubeenv/lib/python3.6/site-packages (from matplotlib==3.1.0->datacube_utilities) (2.4.0)\n",
      "Requirement already satisfied: kiwisolver>=1.0.1 in /opt/conda/envs/cubeenv/lib/python3.6/site-packages (from matplotlib==3.1.0->datacube_utilities) (1.1.0)\n",
      "Requirement already satisfied: jmespath<1.0.0,>=0.7.1 in /opt/conda/envs/cubeenv/lib/python3.6/site-packages (from boto3==1.9.179->datacube_utilities) (0.9.4)\n",
      "Requirement already satisfied: botocore<1.13.0,>=1.12.179 in /opt/conda/envs/cubeenv/lib/python3.6/site-packages (from boto3==1.9.179->datacube_utilities) (1.12.179)\n",
      "Requirement already satisfied: s3transfer<0.3.0,>=0.2.0 in /opt/conda/envs/cubeenv/lib/python3.6/site-packages (from boto3==1.9.179->datacube_utilities) (0.2.1)\n",
      "Requirement already satisfied: jinja2>=2.9 in /opt/conda/envs/cubeenv/lib/python3.6/site-packages (from folium==0.9.1->datacube_utilities) (2.10.1)\n",
      "Requirement already satisfied: requests in /opt/conda/envs/cubeenv/lib/python3.6/site-packages (from folium==0.9.1->datacube_utilities) (2.22.0)\n",
      "Requirement already satisfied: joblib>=0.11 in /opt/conda/envs/cubeenv/lib/python3.6/site-packages (from scikit-learn==0.21.2->datacube_utilities) (0.13.2)\n",
      "Requirement already satisfied: cligj>=0.4 in /opt/conda/envs/cubeenv/lib/python3.6/site-packages (from rasterstats==0.13.1->datacube_utilities) (0.5.0)\n",
      "Requirement already satisfied: simplejson in /opt/conda/envs/cubeenv/lib/python3.6/site-packages (from rasterstats==0.13.1->datacube_utilities) (3.16.1)\n",
      "Requirement already satisfied: click-plugins>=1.0.3 in /opt/conda/envs/cubeenv/lib/python3.6/site-packages (from lcmap-pyccd==2017.08.18->datacube_utilities) (1.1.1)\n",
      "Requirement already satisfied: decorator>=4.3.0 in /opt/conda/envs/cubeenv/lib/python3.6/site-packages (from networkx>=2.0->scikit-image==0.15.0->datacube_utilities) (4.4.0)\n",
      "Requirement already satisfied: attrs>=17 in /opt/conda/envs/cubeenv/lib/python3.6/site-packages (from fiona->geopandas==0.5.0->datacube_utilities) (19.1.0)\n",
      "Requirement already satisfied: munch in /opt/conda/envs/cubeenv/lib/python3.6/site-packages (from fiona->geopandas==0.5.0->datacube_utilities) (2.3.2)\n",
      "Requirement already satisfied: pytz>=2011k in /opt/conda/envs/cubeenv/lib/python3.6/site-packages (from pandas->geopandas==0.5.0->datacube_utilities) (2019.1)\n",
      "Requirement already satisfied: cftime in /opt/conda/envs/cubeenv/lib/python3.6/site-packages (from netcdf4->datacube==1.7->datacube_utilities) (1.0.3.4)\n",
      "Requirement already satisfied: pyrsistent>=0.14.0 in /opt/conda/envs/cubeenv/lib/python3.6/site-packages (from jsonschema->datacube==1.7->datacube_utilities) (0.15.2)\n",
      "Requirement already satisfied: setuptools in /opt/conda/envs/cubeenv/lib/python3.6/site-packages (from jsonschema->datacube==1.7->datacube_utilities) (41.0.1)\n",
      "Requirement already satisfied: snuggs>=1.4.1 in /opt/conda/envs/cubeenv/lib/python3.6/site-packages (from rasterio>=1.0.2->datacube==1.7->datacube_utilities) (1.4.6)\n",
      "Requirement already satisfied: heapdict in /opt/conda/envs/cubeenv/lib/python3.6/site-packages (from zict>=0.1.3->distributed==2.0.1->datacube_utilities) (1.0.0)\n",
      "Requirement already satisfied: nbformat>=4.2.0 in /opt/conda/envs/cubeenv/lib/python3.6/site-packages (from ipywidgets<8,>=7.0.0->ipyleaflet==0.10.8->datacube_utilities) (4.4.0)\n",
      "Requirement already satisfied: widgetsnbextension~=3.4.0 in /opt/conda/envs/cubeenv/lib/python3.6/site-packages (from ipywidgets<8,>=7.0.0->ipyleaflet==0.10.8->datacube_utilities) (3.4.2)\n",
      "Requirement already satisfied: ipython>=4.0.0; python_version >= \"3.3\" in /opt/conda/envs/cubeenv/lib/python3.6/site-packages (from ipywidgets<8,>=7.0.0->ipyleaflet==0.10.8->datacube_utilities) (7.5.0)\n",
      "Requirement already satisfied: ipykernel>=4.5.1 in /opt/conda/envs/cubeenv/lib/python3.6/site-packages (from ipywidgets<8,>=7.0.0->ipyleaflet==0.10.8->datacube_utilities) (5.1.1)\n",
      "Requirement already satisfied: traitlets>=4.3.1 in /opt/conda/envs/cubeenv/lib/python3.6/site-packages (from ipywidgets<8,>=7.0.0->ipyleaflet==0.10.8->datacube_utilities) (4.3.2)\n",
      "Requirement already satisfied: docutils>=0.10 in /opt/conda/envs/cubeenv/lib/python3.6/site-packages (from botocore<1.13.0,>=1.12.179->boto3==1.9.179->datacube_utilities) (0.14)\n",
      "Requirement already satisfied: urllib3<1.26,>=1.20 in /opt/conda/envs/cubeenv/lib/python3.6/site-packages (from botocore<1.13.0,>=1.12.179->boto3==1.9.179->datacube_utilities) (1.24.3)\n",
      "Requirement already satisfied: MarkupSafe>=0.23 in /opt/conda/envs/cubeenv/lib/python3.6/site-packages (from jinja2>=2.9->folium==0.9.1->datacube_utilities) (1.1.1)\n",
      "Requirement already satisfied: certifi>=2017.4.17 in /opt/conda/envs/cubeenv/lib/python3.6/site-packages (from requests->folium==0.9.1->datacube_utilities) (2019.6.16)\n",
      "Requirement already satisfied: idna<2.9,>=2.5 in /opt/conda/envs/cubeenv/lib/python3.6/site-packages (from requests->folium==0.9.1->datacube_utilities) (2.8)\n",
      "Requirement already satisfied: chardet<3.1.0,>=3.0.2 in /opt/conda/envs/cubeenv/lib/python3.6/site-packages (from requests->folium==0.9.1->datacube_utilities) (3.0.4)\n",
      "Requirement already satisfied: ipython_genutils in /opt/conda/envs/cubeenv/lib/python3.6/site-packages (from nbformat>=4.2.0->ipywidgets<8,>=7.0.0->ipyleaflet==0.10.8->datacube_utilities) (0.2.0)\n",
      "Requirement already satisfied: jupyter_core in /opt/conda/envs/cubeenv/lib/python3.6/site-packages (from nbformat>=4.2.0->ipywidgets<8,>=7.0.0->ipyleaflet==0.10.8->datacube_utilities) (4.4.0)\n",
      "Requirement already satisfied: notebook>=4.4.1 in /opt/conda/envs/cubeenv/lib/python3.6/site-packages (from widgetsnbextension~=3.4.0->ipywidgets<8,>=7.0.0->ipyleaflet==0.10.8->datacube_utilities) (5.7.8)\n",
      "Requirement already satisfied: pexpect; sys_platform != \"win32\" in /opt/conda/envs/cubeenv/lib/python3.6/site-packages (from ipython>=4.0.0; python_version >= \"3.3\"->ipywidgets<8,>=7.0.0->ipyleaflet==0.10.8->datacube_utilities) (4.7.0)\n",
      "Requirement already satisfied: jedi>=0.10 in /opt/conda/envs/cubeenv/lib/python3.6/site-packages (from ipython>=4.0.0; python_version >= \"3.3\"->ipywidgets<8,>=7.0.0->ipyleaflet==0.10.8->datacube_utilities) (0.14.0)\n",
      "Requirement already satisfied: pygments in /opt/conda/envs/cubeenv/lib/python3.6/site-packages (from ipython>=4.0.0; python_version >= \"3.3\"->ipywidgets<8,>=7.0.0->ipyleaflet==0.10.8->datacube_utilities) (2.4.2)\n",
      "Requirement already satisfied: backcall in /opt/conda/envs/cubeenv/lib/python3.6/site-packages (from ipython>=4.0.0; python_version >= \"3.3\"->ipywidgets<8,>=7.0.0->ipyleaflet==0.10.8->datacube_utilities) (0.1.0)\n",
      "Requirement already satisfied: prompt-toolkit<2.1.0,>=2.0.0 in /opt/conda/envs/cubeenv/lib/python3.6/site-packages (from ipython>=4.0.0; python_version >= \"3.3\"->ipywidgets<8,>=7.0.0->ipyleaflet==0.10.8->datacube_utilities) (2.0.9)\n",
      "Requirement already satisfied: pickleshare in /opt/conda/envs/cubeenv/lib/python3.6/site-packages (from ipython>=4.0.0; python_version >= \"3.3\"->ipywidgets<8,>=7.0.0->ipyleaflet==0.10.8->datacube_utilities) (0.7.5)\n",
      "Requirement already satisfied: jupyter-client in /opt/conda/envs/cubeenv/lib/python3.6/site-packages (from ipykernel>=4.5.1->ipywidgets<8,>=7.0.0->ipyleaflet==0.10.8->datacube_utilities) (5.2.4)\n",
      "Requirement already satisfied: Send2Trash in /opt/conda/envs/cubeenv/lib/python3.6/site-packages (from notebook>=4.4.1->widgetsnbextension~=3.4.0->ipywidgets<8,>=7.0.0->ipyleaflet==0.10.8->datacube_utilities) (1.5.0)\n",
      "Requirement already satisfied: terminado>=0.8.1 in /opt/conda/envs/cubeenv/lib/python3.6/site-packages (from notebook>=4.4.1->widgetsnbextension~=3.4.0->ipywidgets<8,>=7.0.0->ipyleaflet==0.10.8->datacube_utilities) (0.8.2)\n",
      "Requirement already satisfied: pyzmq>=17 in /opt/conda/envs/cubeenv/lib/python3.6/site-packages (from notebook>=4.4.1->widgetsnbextension~=3.4.0->ipywidgets<8,>=7.0.0->ipyleaflet==0.10.8->datacube_utilities) (18.0.2)\n",
      "Requirement already satisfied: nbconvert in /opt/conda/envs/cubeenv/lib/python3.6/site-packages (from notebook>=4.4.1->widgetsnbextension~=3.4.0->ipywidgets<8,>=7.0.0->ipyleaflet==0.10.8->datacube_utilities) (5.5.0)\n",
      "Requirement already satisfied: prometheus-client in /opt/conda/envs/cubeenv/lib/python3.6/site-packages (from notebook>=4.4.1->widgetsnbextension~=3.4.0->ipywidgets<8,>=7.0.0->ipyleaflet==0.10.8->datacube_utilities) (0.7.1)\n",
      "Requirement already satisfied: ptyprocess>=0.5 in /opt/conda/envs/cubeenv/lib/python3.6/site-packages (from pexpect; sys_platform != \"win32\"->ipython>=4.0.0; python_version >= \"3.3\"->ipywidgets<8,>=7.0.0->ipyleaflet==0.10.8->datacube_utilities) (0.6.0)\n",
      "Requirement already satisfied: parso>=0.3.0 in /opt/conda/envs/cubeenv/lib/python3.6/site-packages (from jedi>=0.10->ipython>=4.0.0; python_version >= \"3.3\"->ipywidgets<8,>=7.0.0->ipyleaflet==0.10.8->datacube_utilities) (0.5.0)\n",
      "Requirement already satisfied: wcwidth in /opt/conda/envs/cubeenv/lib/python3.6/site-packages (from prompt-toolkit<2.1.0,>=2.0.0->ipython>=4.0.0; python_version >= \"3.3\"->ipywidgets<8,>=7.0.0->ipyleaflet==0.10.8->datacube_utilities) (0.1.7)\n",
      "Requirement already satisfied: testpath in /opt/conda/envs/cubeenv/lib/python3.6/site-packages (from nbconvert->notebook>=4.4.1->widgetsnbextension~=3.4.0->ipywidgets<8,>=7.0.0->ipyleaflet==0.10.8->datacube_utilities) (0.4.2)\n",
      "Requirement already satisfied: bleach in /opt/conda/envs/cubeenv/lib/python3.6/site-packages (from nbconvert->notebook>=4.4.1->widgetsnbextension~=3.4.0->ipywidgets<8,>=7.0.0->ipyleaflet==0.10.8->datacube_utilities) (3.1.0)\n",
      "Requirement already satisfied: defusedxml in /opt/conda/envs/cubeenv/lib/python3.6/site-packages (from nbconvert->notebook>=4.4.1->widgetsnbextension~=3.4.0->ipywidgets<8,>=7.0.0->ipyleaflet==0.10.8->datacube_utilities) (0.5.0)\n",
      "Requirement already satisfied: entrypoints>=0.2.2 in /opt/conda/envs/cubeenv/lib/python3.6/site-packages (from nbconvert->notebook>=4.4.1->widgetsnbextension~=3.4.0->ipywidgets<8,>=7.0.0->ipyleaflet==0.10.8->datacube_utilities) (0.3)\n",
      "Requirement already satisfied: pandocfilters>=1.4.1 in /opt/conda/envs/cubeenv/lib/python3.6/site-packages (from nbconvert->notebook>=4.4.1->widgetsnbextension~=3.4.0->ipywidgets<8,>=7.0.0->ipyleaflet==0.10.8->datacube_utilities) (1.4.2)\n",
      "Requirement already satisfied: mistune>=0.8.1 in /opt/conda/envs/cubeenv/lib/python3.6/site-packages (from nbconvert->notebook>=4.4.1->widgetsnbextension~=3.4.0->ipywidgets<8,>=7.0.0->ipyleaflet==0.10.8->datacube_utilities) (0.8.4)\n",
      "Requirement already satisfied: webencodings in /opt/conda/envs/cubeenv/lib/python3.6/site-packages (from bleach->nbconvert->notebook>=4.4.1->widgetsnbextension~=3.4.0->ipywidgets<8,>=7.0.0->ipyleaflet==0.10.8->datacube_utilities) (0.5.1)\n"
     ]
    }
   ],
   "source": [
    "!pip install git+https://github.com/SatelliteApplicationsCatapult/datacube-utilities.git#egg=datacube_utilities"
   ]
  },
  {
   "cell_type": "code",
   "execution_count": 3,
   "metadata": {},
   "outputs": [],
   "source": [
    "# Load Data Cube Configuration\n",
    "\n",
    "dc = datacube.Datacube(app = 'land_degredation')#, config = '/home/localuser/.datacube.conf')\n",
    "\n",
    "# Import Data Cube API\n",
    "#import utils_dcal.data_cube_utilities.data_access_api as dc_api  \n",
    "#api = dc_api.DataAccessApi()#config = '/home/localuser/.datacube.conf')\n",
    "#dc = api.dc\n",
    "\n",
    "#from utils_dcal.data_cube_utilities.dc_display_map import display_map\n",
    "#from sac_utils.createAOI import create_lat_lon\n",
    "#from sac_utils.createindices import NDVI, EVI\n",
    "#from sac_utils.clean_mask import landsat_qa_clean_mask\n",
    "#from sac_utils.dc_mosaic import create_max_ndvi_mosaic, create_min_ndvi_mosaic, create_median_mosaic, create_mosaic, create_hdmedians_multiple_band_mosaic\n",
    "#from utils_dcal.data_cube_utilities.dc_mosaic import create_max_ndvi_mosaic, create_min_ndvi_mosaic, create_median_mosaic, create_mosaic, create_hdmedians_multiple_band_mosaic\n",
    "#from deaAfricascripts.deafrica_plotting import rgb\n",
    "#from utils_dcal.data_cube_utilities.dc_fractional_coverage_classifier import frac_coverage_classify \n",
    "#import matplotlib.pyplot as plt\n",
    "from matplotlib.cm import RdYlGn, Greens\n",
    "#from sac_utils.fromDCALscripts import threshold_plot\n",
    "\n",
    "from datacube_utilities.dc_load import get_product_extents\n",
    "from datacube_utilities.dc_time import dt_to_str\n",
    "from datacube_utilities.dc_display_map import display_map\n",
    "from datacube_utilities.dc_mosaic import create_max_ndvi_mosaic, create_median_mosaic, create_mosaic\n",
    "from datacube_utilities.dc_rgb import rgb\n",
    "from datacube_utilities.createAOI import create_lat_lon\n",
    "from datacube_utilities.dc_water_classifier import wofs_classify\n",
    "from datacube_utilities.createindices import NDVI\n",
    "from datacube_utilities.fromDCALscripts import threshold_plot\n",
    "from datacube_utilities.dc_utilities import write_geotiff_from_xr\n",
    "from datacube_utilities.clean_mask import landsat_qa_clean_mask\n",
    "from datacube_utilities.dc_fractional_coverage_classifier import frac_coverage_classify \n"
   ]
  },
  {
   "cell_type": "code",
   "execution_count": 4,
   "metadata": {},
   "outputs": [],
   "source": [
    "RdYlGn.set_bad('black',1.)\n",
    "Greens.set_bad('black',1.)"
   ]
  },
  {
   "cell_type": "markdown",
   "metadata": {},
   "source": [
    "## Set Variables"
   ]
  },
  {
   "cell_type": "code",
   "execution_count": 5,
   "metadata": {},
   "outputs": [],
   "source": [
    "#inputs\n",
    "#options \"LANDSAT_8\", \"LANDSAT_7\", \"LANDSAT_5\", \"LANDSAT_4\" and \"SENTINEL_2\"\n",
    "platform_base = \"LANDSAT_8\"\n",
    "platform_analysis = \"LANDSAT_8\"\n",
    "#For Fiji this should be the only option - may change for Solomon and Vanuatu\n",
    "output_projection = \"EPSG:32760\"\n",
    "res = (30)\n",
    "\n",
    "\n",
    "# Select the start and end periods for your analysis products\n",
    "# The datetime function is (Year,Month,Day)\n",
    "# These time windows will be used to make a mosaic, so typically pick a year length or more\n",
    "# Be sure to evaluate the RGB mosaics to affirm they are not full of clouds\n",
    "\n",
    "#set baseline start and end of period\n",
    "baseline_start_date = '2015-3-1'\n",
    "baseline_end_date = '2015-5-1'\n",
    "\n",
    "#set the analysis start and end of period\n",
    "analysis_start_date = '2016-3-1'\n",
    "analysis_end_date = '2016-5-1'\n",
    "\n",
    "\n",
    "# If a geomedian is selected, it will take much longer to process\n",
    "\n",
    "# options are \"median\" or \"geomedian\"\n",
    "mosaic_type = \"median\" # change this to geomedian \n",
    "\n",
    "#define AOI\n",
    "#central area - do dates 2013- 2014 and 2018-2019\n",
    "#aoi_wkt = \"POLYGON ((177.42576599121094 -18.058395415674948, 177.5390625 -18.058395415674948, 177.5390625 -17.96567026450931, 177.42576599121094 -17.96567026450931, 177.42576599121094 -18.058395415674948))\"\n",
    "# wakaya island - hit by cyclone winston in feb 2016  - dates end of JAn 2015-2016, start of March 2016 - 2017\n",
    "aoi_wkt = \"POLYGON((178.98101806642 -17.592544555664, 179.03903961183 -17.593231201171, 179.03903961183 -17.66258239746, 178.97998809815 -17.661209106445, 178.98101806642 -17.592544555664))\""
   ]
  },
  {
   "cell_type": "markdown",
   "metadata": {},
   "source": [
    "## create AOI"
   ]
  },
  {
   "cell_type": "code",
   "execution_count": 6,
   "metadata": {},
   "outputs": [],
   "source": [
    "lat_extents, lon_extents = create_lat_lon(aoi_wkt)"
   ]
  },
  {
   "cell_type": "code",
   "execution_count": 7,
   "metadata": {},
   "outputs": [
    {
     "data": {
      "text/html": [
       "<div style=\"width:100%;\"><div style=\"position:relative;width:100%;height:0;padding-bottom:60%;\"><iframe src=\"data:text/html;charset=utf-8;base64,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\" style=\"position:absolute;width:100%;height:100%;left:0;top:0;border:none !important;\" allowfullscreen webkitallowfullscreen mozallowfullscreen></iframe></div></div>"
      ],
      "text/plain": [
       "<folium.folium.Map at 0x7f7fe0291c50>"
      ]
     },
     "execution_count": 7,
     "metadata": {},
     "output_type": "execute_result"
    }
   ],
   "source": [
    "## The code below renders a map that can be used to orient yourself with the region.\n",
    "display_map(latitude = lat_extents, longitude = lon_extents)"
   ]
  },
  {
   "cell_type": "markdown",
   "metadata": {},
   "source": [
    "## Translate inputs and load data"
   ]
  },
  {
   "cell_type": "code",
   "execution_count": 8,
   "metadata": {},
   "outputs": [],
   "source": [
    "allmeasurements = [\"green\",\"red\",\"blue\",\"nir\",\"swir1\",\"swir2\"]\n",
    "water_measurements = [\"water_classification\"]\n",
    "def create_product_measurement(platform):\n",
    "    if platform  in [\"SENTINEL_2\"]:\n",
    "        product = 's2_esa_sr_granule'\n",
    "        measurements = allmeasurements + [\"coastal_aerosol\",\"scene_classification\"]\n",
    "        ###CHANGE WHEN S2 WOFS READY\n",
    "        water_product = 'SENTINEL_2_PRODUCT DEFS'\n",
    "    elif platform in [\"LANDSAT_8\"]:    \n",
    "        measurements = allmeasurements + [\"pixel_qa\"]\n",
    "        product = 'ls8_usgs_sr_scene'\n",
    "        water_product = 'ls8_water_classification'\n",
    "    elif platform in [\"LANDSAT_7\"]:    \n",
    "        measurements = allmeasurements + [\"pixel_qa\"]\n",
    "        product = 'ls7_usgs_sr_scene'\n",
    "        water_product = 'ls7_water_classification'\n",
    "    elif platform in [\"LANDSAT_5\"]:    \n",
    "        measurements = allmeasurements + [\"pixel_qa\"]\n",
    "        product = 'ls5_usgs_sr_scene'\n",
    "        water_product = 'ls5_water_classification'\n",
    "    elif platform in [\"LANDSAT_4\"]:    \n",
    "        measurements = allmeasurements + [\"pixel_qa\"]\n",
    "        product = 'ls4_usgs_sr_scene'\n",
    "        water_product = 'ls4_water_classification'\n",
    "    else:\n",
    "        print(\"invalid platform\")\n",
    "    return product, measurements, water_product"
   ]
  },
  {
   "cell_type": "code",
   "execution_count": 9,
   "metadata": {},
   "outputs": [],
   "source": [
    "baseline_product, baseline_measurement, baseline_water_product = create_product_measurement(platform_base)\n",
    "analysis_product, analysis_measurement, analysis_water_product = create_product_measurement(platform_analysis)"
   ]
  },
  {
   "cell_type": "code",
   "execution_count": 10,
   "metadata": {},
   "outputs": [],
   "source": [
    "#create resolution\n",
    "resolution = (-res, res)"
   ]
  },
  {
   "cell_type": "code",
   "execution_count": 11,
   "metadata": {},
   "outputs": [],
   "source": [
    "dask_chunks = dict(\n",
    "    x = 1000,\n",
    "    y = 1000\n",
    ")"
   ]
  },
  {
   "cell_type": "code",
   "execution_count": 12,
   "metadata": {},
   "outputs": [],
   "source": [
    "#format dates\n",
    "def createDate(inputStart, inputEnd):\n",
    "    start = datetime.strptime(inputStart, '%Y-%m-%d')\n",
    "    end = datetime.strptime(inputEnd, '%Y-%m-%d')\n",
    "    startDates = start.date()\n",
    "    endDates = end.date()\n",
    "    time_period = (startDates, endDates)\n",
    "    return time_period\n",
    "\n",
    "baseline_time_period = createDate(baseline_start_date, baseline_end_date)\n",
    "analysis_time_period = createDate(analysis_start_date, analysis_end_date)"
   ]
  },
  {
   "cell_type": "code",
   "execution_count": 13,
   "metadata": {},
   "outputs": [],
   "source": [
    "# Create the 'query' dictionary object, which contains the longitudes, latitudes \n",
    "query = {\n",
    "    'y': lat_extents,\n",
    "    'x': lon_extents,\n",
    "    'output_crs': output_projection,  \n",
    "    'resolution': resolution,\n",
    "    'dask_chunks': dask_chunks\n",
    "}"
   ]
  },
  {
   "cell_type": "code",
   "execution_count": 14,
   "metadata": {},
   "outputs": [],
   "source": [
    "baseline_ds = dc.load(\n",
    "    time = baseline_time_period,\n",
    "    measurements = baseline_measurement,\n",
    "    product = baseline_product,\n",
    "    platform = platform_base,\n",
    "    **query\n",
    ")\n"
   ]
  },
  {
   "cell_type": "code",
   "execution_count": 15,
   "metadata": {},
   "outputs": [],
   "source": [
    "analysis_ds = dc.load(\n",
    "    time = analysis_time_period,\n",
    "    measurements = analysis_measurement,\n",
    "    product = analysis_product,\n",
    "    platform = platform_analysis,                         \n",
    "    **query\n",
    ")"
   ]
  },
  {
   "cell_type": "markdown",
   "metadata": {},
   "source": [
    "> #### Check if loads are valid"
   ]
  },
  {
   "cell_type": "code",
   "execution_count": 16,
   "metadata": {},
   "outputs": [],
   "source": [
    "def is_dataset_empty(ds:xr.Dataset) -> bool:\n",
    "    checks_for_empty = [\n",
    "                        lambda x: len(x.dims) == 0,      #Dataset has no dimensions\n",
    "                        lambda x: len(x.data_vars) == 0  #Dataset no variables \n",
    "                       ]\n",
    "    for f in checks_for_empty:\n",
    "         if f(ds) == True:\n",
    "                return True\n",
    "    return False"
   ]
  },
  {
   "cell_type": "code",
   "execution_count": 17,
   "metadata": {},
   "outputs": [],
   "source": [
    "if is_dataset_empty(baseline_ds): raise Exception(\"DataCube Load returned an empty Dataset.\" +  \n",
    "                                               \"Please check load parameters for Baseline Dataset!\")"
   ]
  },
  {
   "cell_type": "code",
   "execution_count": 18,
   "metadata": {},
   "outputs": [],
   "source": [
    "if is_dataset_empty(analysis_ds): raise Exception(\"DataCube Load returned an empty Dataset.\" +  \n",
    "                                               \"Please check load parameters for Analysis Dataset!\")"
   ]
  },
  {
   "cell_type": "markdown",
   "metadata": {},
   "source": [
    "> #### Clean Data\n",
    "> Generating boolean masks that highlight valid pixels\n",
    "> Pixels must be cloud-free over land or water to be considered"
   ]
  },
  {
   "cell_type": "markdown",
   "metadata": {},
   "source": [
    "#create cloud mask\n",
    "baseline_clean_mask = landsat_qa_clean_mask(baseline_ds, platform_base)\n",
    "analysis_clean_mask = landsat_qa_clean_mask(analysis_ds, platform_analysis)"
   ]
  },
  {
   "cell_type": "markdown",
   "metadata": {},
   "source": [
    "#mask products\n",
    "baseline_ds = baseline_ds.where(baseline_clean_mask)\n",
    "analysis_ds = analysis_ds.where(analysis_clean_mask)"
   ]
  },
  {
   "cell_type": "code",
   "execution_count": 19,
   "metadata": {},
   "outputs": [],
   "source": [
    "def look_up_clean(platform, ds):\n",
    "    if platform  in [\"SENTINEL_2\"]:\n",
    "        good_quality = (\n",
    "            (loaded_ds.scene_classification == 4) | # clear\n",
    "            (loaded_ds.scene_classification == 5) | \n",
    "            (loaded_ds.scene_classification == 7) | \n",
    "            (loaded_ds.scene_classification == 2) | \n",
    "            (loaded_ds.scene_classification == 6)  #water\n",
    "        )\n",
    "    elif platform in [\"LANDSAT_8\"]:  \n",
    "        good_quality = (\n",
    "            (ds.pixel_qa == 322)  | # clear\n",
    "            (ds.pixel_qa == 386)  |\n",
    "            (ds.pixel_qa == 834)  |\n",
    "            (ds.pixel_qa == 898)  |\n",
    "            (ds.pixel_qa == 1346) |\n",
    "            (ds.pixel_qa == 324)  | # water\n",
    "            (ds.pixel_qa == 388)  |\n",
    "            (ds.pixel_qa == 836)  |\n",
    "            (ds.pixel_qa == 900)  |\n",
    "            (ds.pixel_qa == 1348)\n",
    "        )\n",
    "    elif platform in [\"LANDSAT_7\", \"LANDSAT_5\", \"LANDSAT_4\"]:    \n",
    "        good_quality = (\n",
    "            (ds.pixel_qa == 66)  | # clear\n",
    "            (ds.pixel_qa == 130) |\n",
    "            (ds.pixel_qa == 68)  | # water\n",
    "            (ds.pixel_qa == 132)  \n",
    "        )\n",
    "    else:\n",
    "        print(\"invalid platform\")\n",
    "    return good_quality"
   ]
  },
  {
   "cell_type": "code",
   "execution_count": 20,
   "metadata": {},
   "outputs": [],
   "source": [
    "baseline_clean_mask = look_up_clean(platform_base, baseline_ds)\n",
    "analysis_clean_mask = look_up_clean(platform_analysis, analysis_ds)"
   ]
  },
  {
   "cell_type": "code",
   "execution_count": 21,
   "metadata": {},
   "outputs": [],
   "source": [
    "baseline_ds = baseline_ds.where(baseline_clean_mask)\n",
    "analysis_ds = analysis_ds.where(analysis_clean_mask)"
   ]
  },
  {
   "cell_type": "markdown",
   "metadata": {},
   "source": [
    ">#### Mosaic\n",
    "> Use clean masks in a time series composite"
   ]
  },
  {
   "cell_type": "code",
   "execution_count": 22,
   "metadata": {},
   "outputs": [],
   "source": [
    "mosaic_function = {\"median\": create_median_mosaic}"
   ]
  },
  {
   "cell_type": "code",
   "execution_count": 23,
   "metadata": {},
   "outputs": [],
   "source": [
    "new_compositor = mosaic_function[mosaic_type]"
   ]
  },
  {
   "cell_type": "code",
   "execution_count": 24,
   "metadata": {},
   "outputs": [],
   "source": [
    "baseline_composite = dask.delayed(new_compositor)(baseline_ds, clean_mask = baseline_clean_mask, no_data = np.nan)\n",
    "analysis_composite = dask.delayed(new_compositor)(analysis_ds, clean_mask = analysis_clean_mask, no_data = np.nan)"
   ]
  },
  {
   "cell_type": "markdown",
   "metadata": {},
   "source": [
    "baseline_clean_masked = landsat_qa_clean_mask(baseline_composite, platform_base)\n",
    "baseline_composite = baseline_composite.where(baseline_clean_masked)"
   ]
  },
  {
   "cell_type": "markdown",
   "metadata": {},
   "source": [
    "analysis_clean_masked = landsat_qa_clean_mask(analysis_composite, platform_analysis)\n",
    "analysis_composite = analysis_composite.where(analysis_clean_masked)"
   ]
  },
  {
   "cell_type": "markdown",
   "metadata": {},
   "source": [
    "## Mask Water New"
   ]
  },
  {
   "cell_type": "code",
   "execution_count": 25,
   "metadata": {},
   "outputs": [],
   "source": [
    "#when S2 mask is ready - can remove the if statement. \n",
    "if platform_base in [\"LANDSAT_8\", \"LANDSAT_7\", \"LANDSAT_5\", \"LANDSAT_4\"]:   \n",
    "    water_scenes_base = dc.load(product=baseline_water_product,\n",
    "            measurements = [\"water_classification\"],\n",
    "            time = baseline_time_period,\n",
    "            platform = platform_base, \n",
    "               **query)\n",
    "    #change clouds to no data value\n",
    "    water_classes_base = water_scenes_base.where(water_scenes_base >= 0)\n",
    "elif platform_base in [\"SENTINEL_2\"]:\n",
    "    water_classes_base = dask.delayed(wofs_classify)(baseline_ds, clean_mask=baseline_clean_mask.values , no_data = np.nan , x_coord='x', y_coord = \"y\")\n",
    "    water_classes_base = dask.delayed(water_classes.rename({'wofs': 'water_classification'}))\n",
    "               "
   ]
  },
  {
   "cell_type": "code",
   "execution_count": 26,
   "metadata": {},
   "outputs": [],
   "source": [
    "#when S2 mask is ready - can remove the if statement. \n",
    "if platform_analysis in [\"LANDSAT_8\", \"LANDSAT_7\", \"LANDSAT_5\", \"LANDSAT_4\"]:   \n",
    "    water_scenes_analysis = dc.load(product=analysis_water_product,\n",
    "            measurements = [\"water_classification\"],\n",
    "            time = analysis_time_period,\n",
    "            platform = platform_analysis,  \n",
    "               **query)\n",
    "    #change clouds to no data value\n",
    "    water_classes_analysis = water_scenes_analysis.where(water_scenes_analysis >= 0)\n",
    "elif platform_analysis in [\"SENTINEL_2\"]:\n",
    "    water_classes_analysis = dask.delayed(wofs_classify)(ds, clean_mask=analysis_clean_mask.values , no_data = np.nan , x_coord='x', y_coord = \"y\")\n",
    "    water_classes_analysis = dask.delayed(water_classes_analysis.rename({'wofs': 'water_classification'}))\n",
    "               "
   ]
  },
  {
   "cell_type": "markdown",
   "metadata": {},
   "source": [
    "## mask water\n"
   ]
  },
  {
   "cell_type": "code",
   "execution_count": 27,
   "metadata": {},
   "outputs": [],
   "source": [
    "#create per scene water mask\n",
    "#from utils_dcal.data_cube_utilities.dc_water_classifier import wofs_classify\n",
    "#from utils_dcal.data_cube_utilities.dc_mosaic import create_max_ndvi_mosaic, create_mean_mosaic, create_mosaic, create_median_mosaic\n",
    "#water_classes_base = wofs_classify(baseline_ds, clean_mask=baseline_clean_mask.values , no_data = np.nan , x_coord='x', y_coord = \"y\")\n",
    "#create mosiac of water mask\n",
    "#change this to mean or median?\n",
    "#water_composite_base = create_mean_mosaic(water_classes_base)\n",
    "water_composite_base = water_classes_base.water_classification.mean(dim='time')\n",
    "#water_composite_mean_b= water_composite_base.compute()\n",
    "#water_composite_mean_b.plot()"
   ]
  },
  {
   "cell_type": "code",
   "execution_count": 28,
   "metadata": {},
   "outputs": [],
   "source": [
    "#water_classes_analysis = wofs_classify(analysis_ds, clean_mask=analysis_clean_mask.values , no_data = np.nan , x_coord='x', y_coord = \"y\")\n",
    "#print(water_classes_analysis)\n",
    "#water_classes_analysis2 = xr.Dataset.fillna(water_classes_analysis, -9999)\n",
    "#create mosiac of water mask\n",
    "#change this to mean or median?\n",
    "#water_composite_analysis = create_mean_mosaic(water_classes_analysis2, no_data = -9999)\n",
    "#water_composite_analysis.wofs.plot()\n",
    "water_composite_analysis = water_classes_analysis.water_classification.mean(dim='time')\n",
    "#water_composite_mean_a = water_composite_analysis.compute()\n",
    "#water_composite_mean_a.plot()"
   ]
  },
  {
   "cell_type": "code",
   "execution_count": 35,
   "metadata": {},
   "outputs": [],
   "source": [
    "#from utils_dcal.data_cube_utilities.dc_rgb import rgb\n",
    "#baseline_composite = baseline_composite.rename({\"y\": \"latitude\", \"x\":\"longitude\"})\n",
    "#analysis_composite = analysis_composite.rename({\"y\": \"latitude\", \"x\":\"longitude\"})\n",
    "#rgb(baseline_composite, use_data_min=True, use_data_max=True)"
   ]
  },
  {
   "cell_type": "code",
   "execution_count": 36,
   "metadata": {},
   "outputs": [],
   "source": [
    "#rgb(analysis_composite, use_data_min=True, use_data_max=True)"
   ]
  },
  {
   "cell_type": "code",
   "execution_count": 37,
   "metadata": {},
   "outputs": [],
   "source": [
    "#(baseline_composite.red).plot(figsize=(10,10),cmap = \"Greens\")"
   ]
  },
  {
   "cell_type": "code",
   "execution_count": 38,
   "metadata": {},
   "outputs": [],
   "source": [
    "#(analysis_composite.red).plot(figsize=(10,10),cmap = \"Greens\")"
   ]
  },
  {
   "cell_type": "markdown",
   "metadata": {},
   "source": [
    ">## Plot a spectral index using the cloud-filtered mosaic"
   ]
  },
  {
   "cell_type": "code",
   "execution_count": 39,
   "metadata": {},
   "outputs": [
    {
     "name": "stdout",
     "output_type": "stream",
     "text": [
      "indices chosen is FC\n"
     ]
    }
   ],
   "source": [
    "indices = 'FC'\n",
    "\n",
    "if indices in ['FC']:\n",
    "    print(\"indices chosen is FC\")\n",
    "else:\n",
    "    print(\"indicies is invalid\")"
   ]
  },
  {
   "cell_type": "code",
   "execution_count": null,
   "metadata": {},
   "outputs": [],
   "source": []
  },
  {
   "cell_type": "code",
   "execution_count": 40,
   "metadata": {},
   "outputs": [],
   "source": [
    "\n",
    "#if indices in ['FC']:\n",
    "#    frac_classes = frac_coverage_classify(baseline_composite, clean_mask = baseline_clean_masked.values, no_data=0) \n",
    "#else:\n",
    "#    print('indices not fractional cover')\n",
    "    "
   ]
  },
  {
   "cell_type": "code",
   "execution_count": 41,
   "metadata": {
    "scrolled": false
   },
   "outputs": [],
   "source": [
    "# CHANGE HERE >>>>>>>>>>>>>>>>>>\n",
    "\n",
    "# Select a spectral index to plot by removing one of the comment tags (#) below\n",
    "# Adjust the scale of the output using vmin and vmax\n",
    "\n",
    "#(ndvi).plot(figsize=(10,10),cmap = \"Greens\", vmin=0.3, vmax=1.0)\n",
    "#(evi).plot(figsize=(10,10),cmap = \"Greens\", vmin=1.75, vmax=2.5)\n",
    "#(frac_classes.pv).plot(figsize=(10,10),cmap = \"Greens\", vmin=70.0, vmax=100.0)"
   ]
  },
  {
   "cell_type": "code",
   "execution_count": 42,
   "metadata": {},
   "outputs": [],
   "source": [
    "# CHANGE HERE >>>>>>>>>>>>>>>>>>>>\n",
    "\n",
    "# Select a baseline threshold range for a given parameter ... which is basically a \"mask\"\n",
    "# The analysis will only consider pixels in this range for change detection\n",
    "# No data or cloud pixels will also be masked in this process\n",
    "\n",
    "# If you want to see all change, you should select the full range of values for each parameter\n",
    "# NDVI full range = 0.0 to 1.0\n",
    "# EVI full range = 0.0 to 2.5\n",
    "# Fractional Cover full range = 0.0 to 100.0\n",
    "\n",
    "# If you want to mask out dense vegetation, typical of forested land, use the values below\n",
    "# NDVI: 0.7 to 1.0\n",
    "# EVI: 2.0 to 2.5\n",
    "\n"
   ]
  },
  {
   "cell_type": "code",
   "execution_count": null,
   "metadata": {},
   "outputs": [],
   "source": []
  },
  {
   "cell_type": "markdown",
   "metadata": {},
   "source": [
    "def determineThresholdRange(indices):\n",
    "    '''Return the baseline_threshold_range based on indicies input.\n",
    "    '''\n",
    "    if indices in ['ndvi', 'NDVI']:\n",
    "        baseline_threshold_range = (0.7, 1.0) \n",
    "        a = (NDVI(baseline_composite))\n",
    "    elif indices in ['EVI', 'evi']:\n",
    "        baseline_threshold_range = (2, 2.5)\n",
    "        a = (EVI(baseline_composite))\n",
    "    elif indices in ['FC']:\n",
    "        baseline_threshold_range = (70, 100)\n",
    "        a = frac_classes.pv\n",
    "    else:\n",
    "        print('indicies not valid')\n",
    "    _min, _max = baseline_threshold_range\n",
    "    baseline_filter_mask = np.logical_and(a > _min, a < _max) \n",
    "    return baseline_filter_mask "
   ]
  },
  {
   "cell_type": "code",
   "execution_count": 43,
   "metadata": {},
   "outputs": [],
   "source": [
    "#baseline_filter_mask = determineThresholdRange(indices)\n"
   ]
  },
  {
   "cell_type": "code",
   "execution_count": 44,
   "metadata": {},
   "outputs": [],
   "source": [
    "\n",
    "RdYlGn.set_bad('black',1.)\n",
    "Greens.set_bad('black',1.)"
   ]
  },
  {
   "cell_type": "code",
   "execution_count": 45,
   "metadata": {
    "scrolled": false
   },
   "outputs": [],
   "source": [
    "# This is the baseline threshold plot that shows GREEN pixels in the threshold range\n",
    "# Pixels with values outside the threshold range are white \n",
    "\n",
    "#plt.figure(figsize = aspect_ratio_helper(baseline_filter_mask)) \n",
    "#baseline_filter_mask.plot(cmap = \"Greens\")"
   ]
  },
  {
   "cell_type": "code",
   "execution_count": 46,
   "metadata": {},
   "outputs": [],
   "source": [
    "#baseline_composite.red.plot(cmap = \"Greens\")"
   ]
  },
  {
   "cell_type": "markdown",
   "metadata": {},
   "source": [
    "baseline_composite = baseline_composite.where(baseline_filter_mask)\n",
    "baseline_composite.red.plot(cmap = \"Greens\")"
   ]
  },
  {
   "cell_type": "markdown",
   "metadata": {},
   "source": [
    "#analysis_composite = analysis_composite.where(analysis_filter_mask)\n",
    "analysis_composite.red.plot(cmap = \"Greens\")"
   ]
  },
  {
   "cell_type": "markdown",
   "metadata": {},
   "source": [
    "# Spectral Parameter Anomaly"
   ]
  },
  {
   "cell_type": "markdown",
   "metadata": {},
   "source": [
    "from utils_dcal.data_cube_utilities.dc_fractional_coverage_classifier import frac_coverage_classify \n",
    "#from sac_utils.fractional_cover import frac_coverage_classify \n",
    "#odc-hub/utils_sac/.py"
   ]
  },
  {
   "cell_type": "code",
   "execution_count": 47,
   "metadata": {},
   "outputs": [],
   "source": [
    "def createparametercomposite(indices, ds):\n",
    "    '''Return the baseline_threshold_range based on indicies input.\n",
    "    '''\n",
    "    if indices in ['FC']:\n",
    "        parameter_composite = frac_coverage_classify(ds, no_data = np.nan) \n",
    "        #parameter_analysis_composite = frac_coverage_classify(analysis, clean_mask = baseline_clean_masked.values, no_data=0)  \n",
    "        #parameter_baseline_composite = parameter_baseline_composite.pv\n",
    "        #parameter_analysis_composite = parameter_analysis_composite.pv\n",
    "    else:\n",
    "        print('invalid indices')\n",
    "    return parameter_composite"
   ]
  },
  {
   "cell_type": "code",
   "execution_count": 48,
   "metadata": {},
   "outputs": [],
   "source": [
    "parameter_baseline_composite = dask.delayed(createparametercomposite)(indices, baseline_composite)\n",
    "parameter_analysis_composite = dask.delayed(createparametercomposite)(indices, analysis_composite)"
   ]
  },
  {
   "cell_type": "code",
   "execution_count": 49,
   "metadata": {},
   "outputs": [
    {
     "data": {
      "text/plain": [
       "Delayed('plot-5a861751-61d0-44d8-b9da-1b344941e342')"
      ]
     },
     "execution_count": 49,
     "metadata": {},
     "output_type": "execute_result"
    }
   ],
   "source": [
    "parameter_baseline_composite.pv.plot(cmap = \"Greens\")"
   ]
  },
  {
   "cell_type": "code",
   "execution_count": 50,
   "metadata": {},
   "outputs": [
    {
     "data": {
      "text/plain": [
       "Delayed('plot-8392d854-b906-48cb-925c-93fd07608ac1')"
      ]
     },
     "execution_count": 50,
     "metadata": {},
     "output_type": "execute_result"
    }
   ],
   "source": [
    "parameter_analysis_composite.pv.plot(cmap = \"Greens\")"
   ]
  },
  {
   "cell_type": "markdown",
   "metadata": {},
   "source": [
    "## Apply water mask\n"
   ]
  },
  {
   "cell_type": "code",
   "execution_count": 51,
   "metadata": {},
   "outputs": [],
   "source": [
    "frac_cov_baseline = parameter_baseline_composite.where(water_composite_base.values <= 0.4).where(parameter_baseline_composite !=-9999)"
   ]
  },
  {
   "cell_type": "code",
   "execution_count": 52,
   "metadata": {},
   "outputs": [],
   "source": [
    "#frac_cov_baseline = frac_cov_baseline.compute()"
   ]
  },
  {
   "cell_type": "code",
   "execution_count": 53,
   "metadata": {},
   "outputs": [],
   "source": [
    "#frac_cov_baseline.pv.plot(cmap = \"Greens\")"
   ]
  },
  {
   "cell_type": "code",
   "execution_count": 54,
   "metadata": {},
   "outputs": [],
   "source": [
    "frac_cov_analysis = parameter_analysis_composite.where(water_composite_analysis.values <= 0.4).where(parameter_analysis_composite !=-9999)"
   ]
  },
  {
   "cell_type": "code",
   "execution_count": 55,
   "metadata": {},
   "outputs": [
    {
     "data": {
      "text/plain": [
       "Delayed('plot-8fa7fe2a-76ca-4e30-9bdb-14499f0d5bc8')"
      ]
     },
     "execution_count": 55,
     "metadata": {},
     "output_type": "execute_result"
    }
   ],
   "source": [
    "frac_cov_analysis.pv.plot(cmap = \"Greens\")"
   ]
  },
  {
   "cell_type": "code",
   "execution_count": 56,
   "metadata": {},
   "outputs": [],
   "source": [
    "#parameter_anomaly = parameter_analysis_composite - parameter_baseline_composite\n",
    "parameter_anomaly = frac_cov_analysis - frac_cov_baseline"
   ]
  },
  {
   "cell_type": "code",
   "execution_count": 57,
   "metadata": {},
   "outputs": [],
   "source": [
    "parameter_anomaly = parameter_anomaly.compute()"
   ]
  },
  {
   "cell_type": "code",
   "execution_count": 58,
   "metadata": {},
   "outputs": [
    {
     "data": {
      "text/plain": [
       "<matplotlib.collections.QuadMesh at 0x7f7fac787630>"
      ]
     },
     "execution_count": 58,
     "metadata": {},
     "output_type": "execute_result"
    },
    {
     "data": {
      "image/png": "[encoded data removed]",
      "text/plain": [
       "<Figure size 432x288 with 2 Axes>"
      ]
     },
     "metadata": {
      "needs_background": "light"
     },
     "output_type": "display_data"
    }
   ],
   "source": [
    "# Plot the parameter change from the baseline to the analysis period\n",
    "# Significant loss in vegetation will be shown in RED\n",
    "# Gains in vegetation will be shown in GREEN\n",
    "\n",
    "#plt.figure(figsize = aspect_ratio_helper(parameter_anomaly)) \n",
    "parameter_anomaly.pv.plot(cmap = RdYlGn)"
   ]
  },
  {
   "cell_type": "code",
   "execution_count": 59,
   "metadata": {},
   "outputs": [
    {
     "data": {
      "text/plain": [
       "<matplotlib.collections.QuadMesh at 0x7f7fa465c160>"
      ]
     },
     "execution_count": 59,
     "metadata": {},
     "output_type": "execute_result"
    },
    {
     "data": {
      "image/png": "[encoded data removed]",
      "text/plain": [
       "<Figure size 432x288 with 2 Axes>"
      ]
     },
     "metadata": {
      "needs_background": "light"
     },
     "output_type": "display_data"
    }
   ],
   "source": [
    "parameter_anomaly.bs.plot(cmap = RdYlGn)"
   ]
  },
  {
   "cell_type": "code",
   "execution_count": 60,
   "metadata": {},
   "outputs": [
    {
     "data": {
      "text/plain": [
       "<matplotlib.collections.QuadMesh at 0x7f7fa4587b38>"
      ]
     },
     "execution_count": 60,
     "metadata": {},
     "output_type": "execute_result"
    },
    {
     "data": {
      "image/png": "[encoded data removed]",
      "text/plain": [
       "<Figure size 432x288 with 2 Axes>"
      ]
     },
     "metadata": {
      "needs_background": "light"
     },
     "output_type": "display_data"
    }
   ],
   "source": [
    "parameter_anomaly.npv.plot(cmap = RdYlGn)"
   ]
  },
  {
   "cell_type": "code",
   "execution_count": 61,
   "metadata": {},
   "outputs": [
    {
     "name": "stdout",
     "output_type": "stream",
     "text": [
      "<xarray.Dataset>\n",
      "Dimensions:    (latitude: 261, longitude: 213)\n",
      "Coordinates:\n",
      "  * latitude   (latitude) float64 8.054e+06 8.054e+06 ... 8.046e+06 8.046e+06\n",
      "  * longitude  (longitude) float64 7.1e+05 7.101e+05 ... 7.164e+05 7.164e+05\n",
      "Data variables:\n",
      "    bs         (latitude, longitude) float32 nan nan nan nan ... nan nan nan nan\n",
      "    pv         (latitude, longitude) float32 nan nan nan nan ... nan nan nan nan\n",
      "    npv        (latitude, longitude) float32 nan nan nan nan ... nan nan nan nan\n"
     ]
    }
   ],
   "source": [
    "print(parameter_anomaly)"
   ]
  },
  {
   "cell_type": "markdown",
   "metadata": {},
   "source": [
    "# Anomaly Threshold Product"
   ]
  },
  {
   "cell_type": "code",
   "execution_count": 50,
   "metadata": {},
   "outputs": [],
   "source": [
    "# CHANGE HERE >>>>>>>>>>>>>>>>>>>>\n",
    "\n",
    "# Select an Anomaly Threshold Range to filter the results from the previous image\n",
    "# Be sure to put the smallest value in the \"minimum_change\" location (be careful of negative values)\n",
    "# Losses are typically in these ranges for deforestation\n"
   ]
  },
  {
   "cell_type": "code",
   "execution_count": 51,
   "metadata": {},
   "outputs": [],
   "source": [
    "def changeAnomalyRange(indices):\n",
    "    '''Return the baseline_threshold_range based on indicies input.\n",
    "    '''\n",
    "    if indices in ['ndvi']:\n",
    "        minC = -0.7\n",
    "        maxC = -0.2\n",
    "    elif indices in ['EVI', 'evi']:\n",
    "        minC = -1.75\n",
    "        maxC = -0.5\n",
    "    elif indices in ['FC']:\n",
    "        minC = -70\n",
    "        maxC = -20\n",
    "    return minC, maxC"
   ]
  },
  {
   "cell_type": "code",
   "execution_count": 52,
   "metadata": {},
   "outputs": [],
   "source": [
    "# Create a threshold plot using the MIN and MAX range defined above\n",
    "minimum_change, maximum_change = changeAnomalyRange(indices)"
   ]
  },
  {
   "cell_type": "code",
   "execution_count": 53,
   "metadata": {},
   "outputs": [],
   "source": [
    "no_data_mask = np.logical_or(np.isnan(baseline_composite.red.values), np.isnan(analysis_composite.red.values))"
   ]
  },
  {
   "cell_type": "code",
   "execution_count": 54,
   "metadata": {},
   "outputs": [
    {
     "data": {
      "image/png": "[encoded data removed]",
      "text/plain": [
       "<Figure size 720x882.254 with 1 Axes>"
      ]
     },
     "metadata": {
      "needs_background": "light"
     },
     "output_type": "display_data"
    }
   ],
   "source": [
    "# Plot the parameter change using thresholds and 3 colors \n",
    "# RED = data in the threshold range (significant land change)\n",
    "# BLACK = data outside the threshold range (no significant change)\n",
    "# WHITE = data outside the baseline mask (not dense vegetation) or clouds (no data)\n",
    "#parameter_anomaly = parameter_anomaly.rename({\"x\":\"latitude\", \"y\":\"longitude\"})\n",
    "threshold_plot(parameter_anomaly, minimum_change, maximum_change, mask = no_data_mask, width  = 10)"
   ]
  },
  {
   "cell_type": "code",
   "execution_count": 55,
   "metadata": {},
   "outputs": [],
   "source": []
  },
  {
   "cell_type": "code",
   "execution_count": 68,
   "metadata": {},
   "outputs": [],
   "source": [
    "#from utils_dcal.data_cube_utilities.dc_utilities import write_geotiff_from_xr"
   ]
  },
  {
   "cell_type": "code",
   "execution_count": 62,
   "metadata": {},
   "outputs": [],
   "source": [
    "# CHANGE HERE >>>>>>>>>>>>>\n",
    "\n",
    "write_geotiff_from_xr('land_change.tiff', parameter_anomaly, crs=output_projection,  x_coord = 'longitude', y_coord = 'latitude')"
   ]
  },
  {
   "cell_type": "code",
   "execution_count": null,
   "metadata": {},
   "outputs": [],
   "source": []
  },
  {
   "cell_type": "code",
   "execution_count": null,
   "metadata": {},
   "outputs": [],
   "source": []
  }
 ],
 "metadata": {
  "kernelspec": {
   "display_name": "Python [conda env:cubeenv]",
   "language": "python",
   "name": "conda-env-cubeenv-py"
  },
  "language_info": {
   "codemirror_mode": {
    "name": "ipython",
    "version": 3
   },
   "file_extension": ".py",
   "mimetype": "text/x-python",
   "name": "python",
   "nbconvert_exporter": "python",
   "pygments_lexer": "ipython3",
   "version": "3.6.7"
  },
  "widgets": {
   "application/vnd.jupyter.widget-state+json": {
    "state": {},
    "version_major": 2,
    "version_minor": 0
   }
  }
 },
 "nbformat": 4,
 "nbformat_minor": 2
}
