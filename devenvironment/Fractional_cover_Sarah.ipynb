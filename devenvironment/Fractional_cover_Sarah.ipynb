{
 "cells": [
  {
   "cell_type": "markdown",
   "metadata": {},
   "source": [
    "# Fractional Cover\n",
    "\n",
    "## This notebook is currently under development!\n",
    "\n",
    "## Notebook Summary\n",
    "\n",
    "This notebook provides a fractional cover product which can be used to represent land cover. \n",
    "\n",
    "We're utilising Landsat 8 on AWS data https://docs.opendata.aws/landsat-pds/readme.html, and have indexed into an instance of the ODC, for more information about ODC please visit our landing page Landing Page.\n",
    "\n",
    "The basis for this notebook below and the following explanation are from Digital Earth Australia http://geoscienceaustralia.github.io/digitalearthau/notebooks/02_DEA_datasets/Introduction_to_Fractional_Cover.html.\n",
    "\n",
    "### What is Fractional Cover\n",
    "\n",
    "Fractional Cover represents the proportion of the land surface that is bare (BS), covered by photosynthetic vegetation (PV), or non-photosynethic vegetation (NPV).\n",
    "\n",
    "The Fractional Cover product was generated using the spectral unmixing algorithm developed by the Joint Remote Sensing Research Program (JRSRP) which used the spectral signature for each pixel to break it up into three fractions, based on field work that determined the spectral characteristics of these fractions. The fractions were retrieved by inverting multiple linear regression estimates and using synthetic endmembers in a constrained non-negative least squares unmixing model.\n",
    "\n",
    "The green (PV) fraction includes leaves and grass, the non-photosynthetic fraction (NPV) includes branches, dry grass and dead leaf litter, and the bare soil (BS) fraction includes bare soil or rock.\n",
    "\n",
    "### Fractional Cover Bands\n",
    "\n",
    "Bare Soil (bare ground, rock, disturbed) (BS): - Bare Ground (bare soil, rock) percentage; Digital Number 10000 = 100%\n",
    "\n",
    "Photosythetic Vegetation. (green grass, trees, etc.) (PV): - Photosynthetic Vegetation: Green Vegetation percentage;Digital Number 10000 = 100%\n",
    "\n",
    "Non-Photosythetic vegetation (litter, dead leaf and branches) (NPV): - Non-Photosynthetic Vegetation (litter, dead leaves andbranches) percentage; Digital Number 10000 = 100%\n",
    "\n",
    "Unmixing Error (UE): - Unmixing Error. The residual error, defined as the Euclidean Norm of the Residual Vector. High values express less confidence in the fractional components.\n",
    "\n",
    "The initial instance of this product provides fractional cover of a single L8 image with cloud and water removal. Additional iterations will incorporate a time range for which the median product will be used to reduce the influence of cloud on the product.\n",
    "\n",
    "Additionally a change product will be produced to allow for areas where changes in land cover have been experienced to be identified. \n"
   ]
  },
  {
   "cell_type": "markdown",
   "metadata": {},
   "source": [
    "### Import required modules"
   ]
  },
  {
   "cell_type": "code",
   "execution_count": 1,
   "metadata": {},
   "outputs": [],
   "source": [
    "%matplotlib inline\n",
    "\n",
    "import datacube\n",
    "import matplotlib.gridspec as gridspec\n",
    "import matplotlib.pyplot as plt\n",
    "from datacube.storage import masking\n",
    "\n",
    "import sys\n",
    "sys.path.append('/home/jovyan/odc-hub/')"
   ]
  },
  {
   "cell_type": "markdown",
   "metadata": {},
   "source": [
    "## Initialise"
   ]
  },
  {
   "cell_type": "code",
   "execution_count": 2,
   "metadata": {},
   "outputs": [],
   "source": [
    "dc = datacube.Datacube(app='ls8-fcscene')"
   ]
  },
  {
   "cell_type": "markdown",
   "metadata": {},
   "source": [
    "## Set up datacube query.\n",
    "This includes options for crs, a groupby for overlapping datasets, a time range, and a spatial extent. "
   ]
  },
  {
   "cell_type": "code",
   "execution_count": 3,
   "metadata": {},
   "outputs": [],
   "source": [
    "\n",
    "\n",
    "# You can specify a specific Sentinel 2 MGRS location using region code:\n",
    "# query['region_code']='089079'\n",
    "# alternatively you can create a bounding box, to do this you need three parameters:\n",
    "\n",
    "#set baseline start and end of period\n",
    "baseline_start_date = '2015-3-1'\n",
    "baseline_end_date = '2015-9-1'\n",
    "\n",
    "res = (200)\n",
    "\n",
    "from utils_sac.createAOI import create_lat_lon\n",
    "aoi_wkt = \"POLYGON ((177.62557983398438 -17.590848708679893, 177.77372360229492 -17.590848708679893, 177.77372360229492 -17.488875828028657, 177.62557983398438 -17.488875828028657, 177.62557983398438 -17.590848708679893))\"\n",
    "\n",
    "output_projection = \"EPSG:32760\"\n"
   ]
  },
  {
   "cell_type": "code",
   "execution_count": 4,
   "metadata": {},
   "outputs": [],
   "source": [
    "#time_range\n",
    "#format dates\n",
    "from datetime import datetime\n",
    "def createDate(inputStart, inputEnd):\n",
    "    start = datetime.strptime(inputStart, '%Y-%m-%d')\n",
    "    end = datetime.strptime(inputEnd, '%Y-%m-%d')\n",
    "    startDates = start.date()\n",
    "    endDates = end.date()\n",
    "    time_period = (startDates, endDates)\n",
    "    return time_period\n",
    "baseline_time_period = createDate(baseline_start_date, baseline_end_date)\n",
    "#create resolution\n",
    "resolution = (-res, res)"
   ]
  },
  {
   "cell_type": "code",
   "execution_count": 5,
   "metadata": {},
   "outputs": [
    {
     "name": "stdout",
     "output_type": "stream",
     "text": [
      "Lat: (-17.590848708679893, -17.488875828028657) \n",
      "Lon: (177.62557983398438, 177.77372360229492)\n"
     ]
    }
   ],
   "source": [
    "# format area\n",
    "lat_extents, lon_extents = create_lat_lon(aoi_wkt)\n",
    "print(\"Lat:\", lat_extents, \"\\n\"\n",
    "      \"Lon:\", lon_extents)"
   ]
  },
  {
   "cell_type": "markdown",
   "metadata": {},
   "source": [
    "## Load Data "
   ]
  },
  {
   "cell_type": "code",
   "execution_count": 6,
   "metadata": {},
   "outputs": [],
   "source": [
    "query = {\n",
    "    'x': lon_extents,\n",
    "    'y': lat_extents,\n",
    "    'output_crs': output_projection,\n",
    "    'resolution': resolution,\n",
    "    'time': baseline_time_period,\n",
    "}"
   ]
  },
  {
   "cell_type": "code",
   "execution_count": null,
   "metadata": {},
   "outputs": [],
   "source": [
    "#Load rgb from L8 and pixel quality band, and display the image.  \n",
    "landsat_ds = dc.load(\n",
    "    platform = 'LANDSAT_8',\n",
    "    product = 'ls8_usgs_sr_scene',\n",
    "    measurements = ['red', 'green', 'blue', 'nir', 'swir1', 'swir2', 'pixel_qa'],\n",
    "    **query\n",
    ")"
   ]
  },
  {
   "cell_type": "code",
   "execution_count": null,
   "metadata": {},
   "outputs": [],
   "source": [
    "from utils_sac.clean_mask import landsat_qa_clean_mask\n",
    "platform = 'LANDSAT_8'\n",
    "cloud_mask = landsat_qa_clean_mask(landsat_ds, platform)\n",
    "#land_mask = landsat_qa_clean_mask(landsat_ds, platform, cover_types=['clear'])\n",
    "land_and_water_dataset = landsat_ds.where(cloud_mask)\n",
    "#land_dataset = qamasks.where(land_mask)"
   ]
  },
  {
   "cell_type": "code",
   "execution_count": null,
   "metadata": {},
   "outputs": [],
   "source": [
    "from utils_sac.dc_mosaic import create_max_ndvi_mosaic, create_median_mosaic, create_mosaic"
   ]
  },
  {
   "cell_type": "code",
   "execution_count": null,
   "metadata": {},
   "outputs": [],
   "source": [
    "land_composite = create_median_mosaic(land_and_water_dataset, cloud_mask)\n",
    "mosaic_masked = landsat_qa_clean_mask(land_composite, platform)"
   ]
  },
  {
   "cell_type": "code",
   "execution_count": null,
   "metadata": {},
   "outputs": [],
   "source": [
    "mosaic_masked.plot()"
   ]
  },
  {
   "cell_type": "code",
   "execution_count": null,
   "metadata": {},
   "outputs": [],
   "source": [
    "from utils_dcal.data_cube_utilities.dc_rgb import rgb\n",
    "rgb(land_composite, x_coord='x', y_coord='y', use_data_min=True, use_data_max=True)\n",
    "#land_composite.red.plot(cmap = \"Greens\")"
   ]
  },
  {
   "cell_type": "code",
   "execution_count": null,
   "metadata": {},
   "outputs": [],
   "source": [
    "from utils_dcal.data_cube_utilities.dc_fractional_coverage_classifier import frac_coverage_classify \n",
    "#land_composite = land_composite.rename({\"x\":\"longitude\", \"y\":\"latitude\"})\n",
    "frac_classes = frac_coverage_classify(land_composite, clean_mask = mosaic_masked.values)\n",
    "frac_classes = frac_classes.where(mosaic_masked != 0)\n"
   ]
  },
  {
   "cell_type": "code",
   "execution_count": null,
   "metadata": {},
   "outputs": [],
   "source": []
  },
  {
   "cell_type": "code",
   "execution_count": null,
   "metadata": {},
   "outputs": [],
   "source": [
    "print(frac_classes)"
   ]
  },
  {
   "cell_type": "code",
   "execution_count": null,
   "metadata": {},
   "outputs": [],
   "source": [
    "#load the bands of the fractional cover product. \n",
    "#full_resolution = dc.load(\n",
    "#    measurements=['PV','BS','NPV','UE'],\n",
    "#    product = 'ls8_usgs_fc_scene',\n",
    "#    **query #use the query we defined above\n",
    "#)"
   ]
  },
  {
   "cell_type": "markdown",
   "metadata": {},
   "source": [
    "## Plot Fractional Cover and Unmixing Error bands\n",
    "\n",
    "The Unmixing Error is high over water. "
   ]
  },
  {
   "cell_type": "code",
   "execution_count": null,
   "metadata": {},
   "outputs": [],
   "source": [
    "#plot the fractional cover bands. \n",
    "scene = 0\n",
    "plt.figure(figsize=(12,8))\n",
    "gs = gridspec.GridSpec(2,2) # set up a 2 x 2 grid of 4 images for better presentation\n",
    "\n",
    "ax1=plt.subplot(gs[0,0])\n",
    "frac_classes.pv.plot(cmap='gist_earth_r')\n",
    "ax1.set_title('PV')\n",
    "\n",
    "ax2=plt.subplot(gs[1,0])\n",
    "frac_classes.bs.plot(cmap='Oranges')\n",
    "ax2.set_title('BS')\n",
    "\n",
    "ax3=plt.subplot(gs[0,1])\n",
    "frac_classes.npv.plot(cmap='copper')\n",
    "ax3.set_title('NPV')\n",
    "\n",
    "\n",
    "\n",
    "plt.tight_layout()\n",
    "plt.show()"
   ]
  },
  {
   "cell_type": "markdown",
   "metadata": {},
   "source": [
    "### To remove the error, the UE band can be filtered - although WOfS provides a more robust mask. "
   ]
  },
  {
   "cell_type": "code",
   "execution_count": null,
   "metadata": {},
   "outputs": [],
   "source": [
    "#this image shows that you can filter using unmixing error if you wish\n",
    "#plt.figure(figsize=(12,8))\n",
    "#full_resolution.UE.where(full_resolution.UE<=40.0).isel(time=scene).plot(cmap='gist_earth_r')\n",
    "#ax1.set_title('UE filtered')"
   ]
  },
  {
   "cell_type": "markdown",
   "metadata": {},
   "source": [
    "## Filter Fractional cover scenes using WOfS feature layers (WOFLs)\n",
    "\n",
    "WOfS provides a scene by scene mask to remove areas of water. Additional it provides cloud and cloud shadow masks. "
   ]
  },
  {
   "cell_type": "markdown",
   "metadata": {},
   "source": [
    "## HERE ADD in water_classification function"
   ]
  },
  {
   "cell_type": "code",
   "execution_count": null,
   "metadata": {},
   "outputs": [],
   "source": [
    "#Load in water classification.\n",
    "\n",
    "water_scenes = dc.load(product=\"water_classification\",\n",
    "               group_by='solar_day',\n",
    "               measurements = [\"water\"],\n",
    "               **query)\n"
   ]
  },
  {
   "cell_type": "code",
   "execution_count": null,
   "metadata": {},
   "outputs": [],
   "source": [
    "# change cloud to no data value\n",
    "#clearsky_scenes = scenes.where(scenes != -9999)"
   ]
  },
  {
   "cell_type": "code",
   "execution_count": null,
   "metadata": {},
   "outputs": [],
   "source": [
    "#water_classes = wofs_classify(scenes, clean_mask=clearsky_masks.values , no_data = np.nan , x_coord='x', y_coord = \"y\")"
   ]
  },
  {
   "cell_type": "markdown",
   "metadata": {},
   "source": [
    "## Create mask layers based on WOfS.\n",
    "\n",
    "Masks for to remove undesired features from the fractional cover product - clouds, cloud-shadow and water. "
   ]
  },
  {
   "cell_type": "code",
   "execution_count": null,
   "metadata": {},
   "outputs": [],
   "source": [
    "clearwofl = masking.make_mask(wofls, dry=True)\n",
    "wetwofl = masking.make_mask(wofls, wet=True)\n",
    "cloudwofl = masking.make_mask(wofls, cloud=True)\n",
    "cloudshwofl = masking.make_mask(wofls, cloud_shadow=True)\n"
   ]
  },
  {
   "cell_type": "code",
   "execution_count": null,
   "metadata": {},
   "outputs": [],
   "source": [
    "#Plot showing each of the created masks. \n",
    "scene = 0\n",
    "plt.figure(figsize=(12,8))\n",
    "gs = gridspec.GridSpec(2,2) # set up a 2 x 2 grid of 4 images for better presentation\n",
    "\n",
    "ax1=plt.subplot(gs[0,0])\n",
    "wetwofl.water.isel(time=0).plot()\n",
    "ax1.set_title('Wet')\n",
    "\n",
    "ax2=plt.subplot(gs[1,0])\n",
    "cloudshwofl.water.isel(time=0).plot()  \n",
    "ax2.set_title('Cloud Shadow')\n",
    "\n",
    "ax3=plt.subplot(gs[0,1])\n",
    "cloudwofl.water.isel(time=0).plot()  \n",
    "ax3.set_title('Cloud')\n",
    "\n",
    "ax4=plt.subplot(gs[1,1])\n",
    "clearwofl.water.isel(time=0).plot()  \n",
    "ax4.set_title('Clear and Dry')\n",
    "\n",
    "plt.tight_layout()\n",
    "plt.show()"
   ]
  },
  {
   "cell_type": "code",
   "execution_count": null,
   "metadata": {},
   "outputs": [],
   "source": [
    "#match WOFL times to our fractional cover times\n",
    "unwofld = full_resolution.where(full_resolution.time == wetwofl.time)\n",
    "#unwofld = full_resolution.where(full_resolution.output_crs == wetwofl.output_crs)\n",
    "#mask out water, clouds and cloudshadow from fractional cover\n",
    "unwofld = unwofld.where(wetwofl.water==False).where(cloudwofl.water==False).where(cloudwofl.water==False)\n",
    "#plot masked PV> \n",
    "unwofld.PV.isel(time=0).plot()"
   ]
  },
  {
   "cell_type": "markdown",
   "metadata": {},
   "source": [
    "## Create a plot showing FC components.\n",
    "\n",
    "#Current mask issues in south west corner - with the water mask. "
   ]
  },
  {
   "cell_type": "code",
   "execution_count": null,
   "metadata": {},
   "outputs": [],
   "source": [
    "# Plot fractional cover as cloud free RGB image\n",
    "###work out how to plot this for single image and also how to make a mosaic. \n",
    "unwofld[['BS','PV','NPV']].to_array().plot.imshow(\n",
    "    col='time',\n",
    "    figsize=(12, 8),\n",
    "    vmin=0,\n",
    "    vmax=3000\n",
    ");\n",
    "\n",
    "#clearwofl.water.isel(time=0).plot() "
   ]
  },
  {
   "cell_type": "markdown",
   "metadata": {},
   "source": []
  },
  {
   "cell_type": "code",
   "execution_count": null,
   "metadata": {},
   "outputs": [],
   "source": []
  },
  {
   "cell_type": "code",
   "execution_count": null,
   "metadata": {},
   "outputs": [],
   "source": []
  }
 ],
 "metadata": {
  "kernelspec": {
   "display_name": "Python [conda env:cubeenv]",
   "language": "python",
   "name": "conda-env-cubeenv-py"
  },
  "language_info": {
   "codemirror_mode": {
    "name": "ipython",
    "version": 3
   },
   "file_extension": ".py",
   "mimetype": "text/x-python",
   "name": "python",
   "nbconvert_exporter": "python",
   "pygments_lexer": "ipython3",
   "version": "3.6.7"
  }
 },
 "nbformat": 4,
 "nbformat_minor": 2
}
