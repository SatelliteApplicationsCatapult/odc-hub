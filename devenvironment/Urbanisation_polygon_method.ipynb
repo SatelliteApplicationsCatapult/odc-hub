{
 "cells": [
  {
   "cell_type": "code",
   "execution_count": 1,
   "metadata": {},
   "outputs": [],
   "source": [
    "# Magic + imports likely common across all notebooks\n",
    "%load_ext autoreload\n",
    "%autoreload 2\n",
    "%matplotlib inline\n",
    "# Supress Warning \n",
    "import warnings\n",
    "warnings.filterwarnings('ignore')\n",
    "# Set reference for util modules\n",
    "#import sys\n",
    "#sys.path.append('/home/jovyan/odc-hub/')\n",
    "# Generic python\n",
    "import matplotlib.pyplot as plt\n",
    "import numpy as np\n",
    "import xarray as xr \n",
    "import odc.algo\n",
    "\n",
    "# Bonus vector manipulation\n",
    "import pandas as pd\n",
    "import geopandas as gpd\n",
    "from shapely import wkt\n",
    "from datetime import datetime\n",
    "import datacube\n",
    "\n",
    "import dask\n",
    "\n",
    "CMAP = \"Blues\""
   ]
  },
  {
   "cell_type": "markdown",
   "metadata": {},
   "source": [
    "# Urbanisation\n",
    "\n",
    "** ADD description"
   ]
  },
  {
   "cell_type": "code",
   "execution_count": 2,
   "metadata": {},
   "outputs": [
    {
     "name": "stdout",
     "output_type": "stream",
     "text": [
      "Requirement already satisfied: datacube_utilities from git+https://github.com/SatelliteApplicationsCatapult/datacube-utilities.git#egg=datacube_utilities in /opt/conda/envs/cubeenv/lib/python3.6/site-packages (0.0.1)\n",
      "Requirement already satisfied: descartes==1.1.0 in /opt/conda/envs/cubeenv/lib/python3.6/site-packages (from datacube_utilities) (1.1.0)\n",
      "Requirement already satisfied: numpy==1.18.1 in /opt/conda/envs/cubeenv/lib/python3.6/site-packages (from datacube_utilities) (1.18.1)\n",
      "Requirement already satisfied: lz4==3.0.2 in /opt/conda/envs/cubeenv/lib/python3.6/site-packages (from datacube_utilities) (3.0.2)\n",
      "Requirement already satisfied: scikit-image==0.16.2 in /opt/conda/envs/cubeenv/lib/python3.6/site-packages (from datacube_utilities) (0.16.2)\n",
      "Requirement already satisfied: tornado==6.0.4 in /opt/conda/envs/cubeenv/lib/python3.6/site-packages (from datacube_utilities) (6.0.4)\n",
      "Requirement already satisfied: matplotlib==3.2.1 in /opt/conda/envs/cubeenv/lib/python3.6/site-packages (from datacube_utilities) (3.2.1)\n",
      "Requirement already satisfied: xarray==0.15.1 in /opt/conda/envs/cubeenv/lib/python3.6/site-packages (from datacube_utilities) (0.15.1)\n",
      "Requirement already satisfied: rasterstats==0.14.0 in /opt/conda/envs/cubeenv/lib/python3.6/site-packages (from datacube_utilities) (0.14.0)\n",
      "Requirement already satisfied: seaborn==0.10.0 in /opt/conda/envs/cubeenv/lib/python3.6/site-packages (from datacube_utilities) (0.10.0)\n",
      "Requirement already satisfied: geopandas==0.7.0 in /opt/conda/envs/cubeenv/lib/python3.6/site-packages (from datacube_utilities) (0.7.0)\n",
      "Requirement already satisfied: folium==0.10.1 in /opt/conda/envs/cubeenv/lib/python3.6/site-packages (from datacube_utilities) (0.10.1)\n",
      "Requirement already satisfied: shapely==1.7.0 in /opt/conda/envs/cubeenv/lib/python3.6/site-packages (from datacube_utilities) (1.7.0)\n",
      "Requirement already satisfied: distributed==2.14.0 in /opt/conda/envs/cubeenv/lib/python3.6/site-packages (from datacube_utilities) (2.14.0)\n",
      "Requirement already satisfied: datacube==1.7 in /opt/conda/envs/cubeenv/lib/python3.6/site-packages (from datacube_utilities) (1.7)\n",
      "Requirement already satisfied: gdal==2.4.4 in /opt/conda/envs/cubeenv/lib/python3.6/site-packages (from datacube_utilities) (2.4.4)\n",
      "Requirement already satisfied: hdmedians==0.13 in /opt/conda/envs/cubeenv/lib/python3.6/site-packages (from datacube_utilities) (0.13)\n",
      "Requirement already satisfied: scipy==1.4.1 in /opt/conda/envs/cubeenv/lib/python3.6/site-packages (from datacube_utilities) (1.4.1)\n",
      "Requirement already satisfied: msgpack==1.0.0 in /opt/conda/envs/cubeenv/lib/python3.6/site-packages (from datacube_utilities) (1.0.0)\n",
      "Requirement already satisfied: blosc==1.9.0 in /opt/conda/envs/cubeenv/lib/python3.6/site-packages (from datacube_utilities) (1.9.0)\n",
      "Requirement already satisfied: ruamel.yaml==0.15.87 in /opt/conda/envs/cubeenv/lib/python3.6/site-packages (from datacube_utilities) (0.15.87)\n",
      "Requirement already satisfied: ipyleaflet==0.12.3 in /opt/conda/envs/cubeenv/lib/python3.6/site-packages (from datacube_utilities) (0.12.3)\n",
      "Requirement already satisfied: lcmap-pyccd==2017.08.18 in /opt/conda/envs/cubeenv/lib/python3.6/site-packages (from datacube_utilities) (2017.8.18)\n",
      "Requirement already satisfied: dask==2.14.0 in /opt/conda/envs/cubeenv/lib/python3.6/site-packages (from datacube_utilities) (2.14.0)\n",
      "Requirement already satisfied: scikit-learn==0.22.2.post1 in /opt/conda/envs/cubeenv/lib/python3.6/site-packages (from datacube_utilities) (0.22.2.post1)\n",
      "Requirement already satisfied: cloudpickle==1.3.0 in /opt/conda/envs/cubeenv/lib/python3.6/site-packages (from datacube_utilities) (1.3.0)\n",
      "Requirement already satisfied: toolz==0.10.0 in /opt/conda/envs/cubeenv/lib/python3.6/site-packages (from datacube_utilities) (0.10.0)\n",
      "Requirement already satisfied: boto3==1.12.36 in /opt/conda/envs/cubeenv/lib/python3.6/site-packages (from datacube_utilities) (1.12.36)\n",
      "Requirement already satisfied: networkx>=2.0 in /opt/conda/envs/cubeenv/lib/python3.6/site-packages (from scikit-image==0.16.2->datacube_utilities) (2.4)\n",
      "Requirement already satisfied: pillow>=4.3.0 in /opt/conda/envs/cubeenv/lib/python3.6/site-packages (from scikit-image==0.16.2->datacube_utilities) (7.1.1)\n",
      "Requirement already satisfied: imageio>=2.3.0 in /opt/conda/envs/cubeenv/lib/python3.6/site-packages (from scikit-image==0.16.2->datacube_utilities) (2.8.0)\n",
      "Requirement already satisfied: PyWavelets>=0.4.0 in /opt/conda/envs/cubeenv/lib/python3.6/site-packages (from scikit-image==0.16.2->datacube_utilities) (1.1.1)\n",
      "Requirement already satisfied: pyparsing!=2.0.4,!=2.1.2,!=2.1.6,>=2.0.1 in /opt/conda/envs/cubeenv/lib/python3.6/site-packages (from matplotlib==3.2.1->datacube_utilities) (2.4.6)\n",
      "Requirement already satisfied: python-dateutil>=2.1 in /opt/conda/envs/cubeenv/lib/python3.6/site-packages (from matplotlib==3.2.1->datacube_utilities) (2.8.1)\n",
      "Requirement already satisfied: kiwisolver>=1.0.1 in /opt/conda/envs/cubeenv/lib/python3.6/site-packages (from matplotlib==3.2.1->datacube_utilities) (1.2.0)\n",
      "Requirement already satisfied: cycler>=0.10 in /opt/conda/envs/cubeenv/lib/python3.6/site-packages (from matplotlib==3.2.1->datacube_utilities) (0.10.0)\n",
      "Requirement already satisfied: pandas>=0.25 in /opt/conda/envs/cubeenv/lib/python3.6/site-packages (from xarray==0.15.1->datacube_utilities) (1.0.1)\n",
      "Requirement already satisfied: setuptools>=41.2 in /opt/conda/envs/cubeenv/lib/python3.6/site-packages (from xarray==0.15.1->datacube_utilities) (46.1.3.post20200325)\n",
      "Requirement already satisfied: simplejson in /opt/conda/envs/cubeenv/lib/python3.6/site-packages (from rasterstats==0.14.0->datacube_utilities) (3.17.0)\n",
      "Requirement already satisfied: affine<3.0 in /opt/conda/envs/cubeenv/lib/python3.6/site-packages (from rasterstats==0.14.0->datacube_utilities) (2.3.0)\n",
      "Requirement already satisfied: rasterio>=1.0 in /opt/conda/envs/cubeenv/lib/python3.6/site-packages (from rasterstats==0.14.0->datacube_utilities) (1.1.3)\n",
      "Requirement already satisfied: fiona in /opt/conda/envs/cubeenv/lib/python3.6/site-packages (from rasterstats==0.14.0->datacube_utilities) (1.8.9.post2)\n",
      "Requirement already satisfied: cligj>=0.4 in /opt/conda/envs/cubeenv/lib/python3.6/site-packages (from rasterstats==0.14.0->datacube_utilities) (0.5.0)\n",
      "Requirement already satisfied: pyproj>=2.2.0 in /opt/conda/envs/cubeenv/lib/python3.6/site-packages (from geopandas==0.7.0->datacube_utilities) (2.5.0)\n",
      "Requirement already satisfied: jinja2>=2.9 in /opt/conda/envs/cubeenv/lib/python3.6/site-packages (from folium==0.10.1->datacube_utilities) (2.11.1)\n",
      "Requirement already satisfied: requests in /opt/conda/envs/cubeenv/lib/python3.6/site-packages (from folium==0.10.1->datacube_utilities) (2.23.0)\n",
      "Requirement already satisfied: branca>=0.3.0 in /opt/conda/envs/cubeenv/lib/python3.6/site-packages (from folium==0.10.1->datacube_utilities) (0.3.1)\n",
      "Requirement already satisfied: pyyaml in /opt/conda/envs/cubeenv/lib/python3.6/site-packages (from distributed==2.14.0->datacube_utilities) (5.3.1)\n",
      "Requirement already satisfied: psutil>=5.0 in /opt/conda/envs/cubeenv/lib/python3.6/site-packages (from distributed==2.14.0->datacube_utilities) (5.7.0)\n",
      "Requirement already satisfied: sortedcontainers!=2.0.0,!=2.0.1 in /opt/conda/envs/cubeenv/lib/python3.6/site-packages (from distributed==2.14.0->datacube_utilities) (2.1.0)\n",
      "Requirement already satisfied: tblib>=1.6.0 in /opt/conda/envs/cubeenv/lib/python3.6/site-packages (from distributed==2.14.0->datacube_utilities) (1.6.0)\n",
      "Requirement already satisfied: zict>=0.1.3 in /opt/conda/envs/cubeenv/lib/python3.6/site-packages (from distributed==2.14.0->datacube_utilities) (2.0.0)\n",
      "Requirement already satisfied: click>=6.6 in /opt/conda/envs/cubeenv/lib/python3.6/site-packages (from distributed==2.14.0->datacube_utilities) (7.1.1)\n",
      "Requirement already satisfied: cachetools in /opt/conda/envs/cubeenv/lib/python3.6/site-packages (from datacube==1.7->datacube_utilities) (3.1.1)\n",
      "Requirement already satisfied: lark-parser>=0.6.7 in /opt/conda/envs/cubeenv/lib/python3.6/site-packages (from datacube==1.7->datacube_utilities) (0.8.5)\n",
      "Requirement already satisfied: netcdf4 in /opt/conda/envs/cubeenv/lib/python3.6/site-packages (from datacube==1.7->datacube_utilities) (1.5.3)\n",
      "Requirement already satisfied: psycopg2 in /opt/conda/envs/cubeenv/lib/python3.6/site-packages (from datacube==1.7->datacube_utilities) (2.8.4)\n",
      "Requirement already satisfied: singledispatch in /opt/conda/envs/cubeenv/lib/python3.6/site-packages (from datacube==1.7->datacube_utilities) (3.4.0.3)\n",
      "Requirement already satisfied: pypeg2 in /opt/conda/envs/cubeenv/lib/python3.6/site-packages (from datacube==1.7->datacube_utilities) (2.15.2)\n",
      "Requirement already satisfied: jsonschema in /opt/conda/envs/cubeenv/lib/python3.6/site-packages (from datacube==1.7->datacube_utilities) (3.2.0)\n",
      "Requirement already satisfied: sqlalchemy in /opt/conda/envs/cubeenv/lib/python3.6/site-packages (from datacube==1.7->datacube_utilities) (1.3.15)\n",
      "Requirement already satisfied: Cython>=0.23 in /opt/conda/envs/cubeenv/lib/python3.6/site-packages (from hdmedians==0.13->datacube_utilities) (0.29.16)\n",
      "Requirement already satisfied: traittypes<3,>=0.2.1 in /opt/conda/envs/cubeenv/lib/python3.6/site-packages (from ipyleaflet==0.12.3->datacube_utilities) (0.2.1)\n",
      "Requirement already satisfied: ipywidgets<8,>=7.5.0 in /opt/conda/envs/cubeenv/lib/python3.6/site-packages (from ipyleaflet==0.12.3->datacube_utilities) (7.5.1)\n",
      "Requirement already satisfied: click-plugins>=1.0.3 in /opt/conda/envs/cubeenv/lib/python3.6/site-packages (from lcmap-pyccd==2017.08.18->datacube_utilities) (1.1.1)\n",
      "Requirement already satisfied: joblib>=0.11 in /opt/conda/envs/cubeenv/lib/python3.6/site-packages (from scikit-learn==0.22.2.post1->datacube_utilities) (0.14.1)\n",
      "Requirement already satisfied: jmespath<1.0.0,>=0.7.1 in /opt/conda/envs/cubeenv/lib/python3.6/site-packages (from boto3==1.12.36->datacube_utilities) (0.9.5)\n",
      "Requirement already satisfied: s3transfer<0.4.0,>=0.3.0 in /opt/conda/envs/cubeenv/lib/python3.6/site-packages (from boto3==1.12.36->datacube_utilities) (0.3.3)\n",
      "Requirement already satisfied: botocore<1.16.0,>=1.15.36 in /opt/conda/envs/cubeenv/lib/python3.6/site-packages (from boto3==1.12.36->datacube_utilities) (1.15.36)\n",
      "Requirement already satisfied: decorator>=4.3.0 in /opt/conda/envs/cubeenv/lib/python3.6/site-packages (from networkx>=2.0->scikit-image==0.16.2->datacube_utilities) (4.4.2)\n",
      "Requirement already satisfied: six>=1.5 in /opt/conda/envs/cubeenv/lib/python3.6/site-packages (from python-dateutil>=2.1->matplotlib==3.2.1->datacube_utilities) (1.14.0)\n",
      "Requirement already satisfied: pytz>=2017.2 in /opt/conda/envs/cubeenv/lib/python3.6/site-packages (from pandas>=0.25->xarray==0.15.1->datacube_utilities) (2019.3)\n",
      "Requirement already satisfied: snuggs>=1.4.1 in /opt/conda/envs/cubeenv/lib/python3.6/site-packages (from rasterio>=1.0->rasterstats==0.14.0->datacube_utilities) (1.4.7)\n",
      "Requirement already satisfied: attrs in /opt/conda/envs/cubeenv/lib/python3.6/site-packages (from rasterio>=1.0->rasterstats==0.14.0->datacube_utilities) (19.3.0)\n",
      "Requirement already satisfied: munch in /opt/conda/envs/cubeenv/lib/python3.6/site-packages (from fiona->rasterstats==0.14.0->datacube_utilities) (2.5.0)\n",
      "Requirement already satisfied: MarkupSafe>=0.23 in /opt/conda/envs/cubeenv/lib/python3.6/site-packages (from jinja2>=2.9->folium==0.10.1->datacube_utilities) (1.1.1)\n",
      "Requirement already satisfied: urllib3!=1.25.0,!=1.25.1,<1.26,>=1.21.1 in /opt/conda/envs/cubeenv/lib/python3.6/site-packages (from requests->folium==0.10.1->datacube_utilities) (1.25.7)\n",
      "Requirement already satisfied: chardet<4,>=3.0.2 in /opt/conda/envs/cubeenv/lib/python3.6/site-packages (from requests->folium==0.10.1->datacube_utilities) (3.0.4)\n",
      "Requirement already satisfied: certifi>=2017.4.17 in /opt/conda/envs/cubeenv/lib/python3.6/site-packages (from requests->folium==0.10.1->datacube_utilities) (2020.4.5.1)\n",
      "Requirement already satisfied: idna<3,>=2.5 in /opt/conda/envs/cubeenv/lib/python3.6/site-packages (from requests->folium==0.10.1->datacube_utilities) (2.9)\n",
      "Requirement already satisfied: heapdict in /opt/conda/envs/cubeenv/lib/python3.6/site-packages (from zict>=0.1.3->distributed==2.14.0->datacube_utilities) (1.0.1)\n",
      "Requirement already satisfied: cftime in /opt/conda/envs/cubeenv/lib/python3.6/site-packages (from netcdf4->datacube==1.7->datacube_utilities) (1.1.1.2)\n",
      "Requirement already satisfied: pyrsistent>=0.14.0 in /opt/conda/envs/cubeenv/lib/python3.6/site-packages (from jsonschema->datacube==1.7->datacube_utilities) (0.16.0)\n",
      "Requirement already satisfied: importlib-metadata; python_version < \"3.8\" in /opt/conda/envs/cubeenv/lib/python3.6/site-packages (from jsonschema->datacube==1.7->datacube_utilities) (1.6.0)\n",
      "Requirement already satisfied: traitlets>=4.2.2 in /opt/conda/envs/cubeenv/lib/python3.6/site-packages (from traittypes<3,>=0.2.1->ipyleaflet==0.12.3->datacube_utilities) (4.3.3)\n",
      "Requirement already satisfied: nbformat>=4.2.0 in /opt/conda/envs/cubeenv/lib/python3.6/site-packages (from ipywidgets<8,>=7.5.0->ipyleaflet==0.12.3->datacube_utilities) (5.0.4)\n",
      "Requirement already satisfied: ipykernel>=4.5.1 in /opt/conda/envs/cubeenv/lib/python3.6/site-packages (from ipywidgets<8,>=7.5.0->ipyleaflet==0.12.3->datacube_utilities) (5.2.0)\n",
      "Requirement already satisfied: widgetsnbextension~=3.5.0 in /opt/conda/envs/cubeenv/lib/python3.6/site-packages (from ipywidgets<8,>=7.5.0->ipyleaflet==0.12.3->datacube_utilities) (3.5.1)\n",
      "Requirement already satisfied: ipython>=4.0.0; python_version >= \"3.3\" in /opt/conda/envs/cubeenv/lib/python3.6/site-packages (from ipywidgets<8,>=7.5.0->ipyleaflet==0.12.3->datacube_utilities) (7.13.0)\n",
      "Requirement already satisfied: docutils<0.16,>=0.10 in /opt/conda/envs/cubeenv/lib/python3.6/site-packages (from botocore<1.16.0,>=1.15.36->boto3==1.12.36->datacube_utilities) (0.15.2)\n",
      "Requirement already satisfied: zipp>=0.5 in /opt/conda/envs/cubeenv/lib/python3.6/site-packages (from importlib-metadata; python_version < \"3.8\"->jsonschema->datacube==1.7->datacube_utilities) (3.1.0)\n",
      "Requirement already satisfied: ipython-genutils in /opt/conda/envs/cubeenv/lib/python3.6/site-packages (from traitlets>=4.2.2->traittypes<3,>=0.2.1->ipyleaflet==0.12.3->datacube_utilities) (0.2.0)\n",
      "Requirement already satisfied: jupyter-core in /opt/conda/envs/cubeenv/lib/python3.6/site-packages (from nbformat>=4.2.0->ipywidgets<8,>=7.5.0->ipyleaflet==0.12.3->datacube_utilities) (4.6.3)\n",
      "Requirement already satisfied: jupyter-client in /opt/conda/envs/cubeenv/lib/python3.6/site-packages (from ipykernel>=4.5.1->ipywidgets<8,>=7.5.0->ipyleaflet==0.12.3->datacube_utilities) (6.1.2)\n",
      "Requirement already satisfied: notebook>=4.4.1 in /opt/conda/envs/cubeenv/lib/python3.6/site-packages (from widgetsnbextension~=3.5.0->ipywidgets<8,>=7.5.0->ipyleaflet==0.12.3->datacube_utilities) (6.0.3)\n",
      "Requirement already satisfied: prompt-toolkit!=3.0.0,!=3.0.1,<3.1.0,>=2.0.0 in /opt/conda/envs/cubeenv/lib/python3.6/site-packages (from ipython>=4.0.0; python_version >= \"3.3\"->ipywidgets<8,>=7.5.0->ipyleaflet==0.12.3->datacube_utilities) (3.0.5)\n",
      "Requirement already satisfied: jedi>=0.10 in /opt/conda/envs/cubeenv/lib/python3.6/site-packages (from ipython>=4.0.0; python_version >= \"3.3\"->ipywidgets<8,>=7.5.0->ipyleaflet==0.12.3->datacube_utilities) (0.16.0)\n",
      "Requirement already satisfied: pickleshare in /opt/conda/envs/cubeenv/lib/python3.6/site-packages (from ipython>=4.0.0; python_version >= \"3.3\"->ipywidgets<8,>=7.5.0->ipyleaflet==0.12.3->datacube_utilities) (0.7.5)\n",
      "Requirement already satisfied: backcall in /opt/conda/envs/cubeenv/lib/python3.6/site-packages (from ipython>=4.0.0; python_version >= \"3.3\"->ipywidgets<8,>=7.5.0->ipyleaflet==0.12.3->datacube_utilities) (0.1.0)\n",
      "Requirement already satisfied: pexpect; sys_platform != \"win32\" in /opt/conda/envs/cubeenv/lib/python3.6/site-packages (from ipython>=4.0.0; python_version >= \"3.3\"->ipywidgets<8,>=7.5.0->ipyleaflet==0.12.3->datacube_utilities) (4.8.0)\n",
      "Requirement already satisfied: pygments in /opt/conda/envs/cubeenv/lib/python3.6/site-packages (from ipython>=4.0.0; python_version >= \"3.3\"->ipywidgets<8,>=7.5.0->ipyleaflet==0.12.3->datacube_utilities) (2.6.1)\n",
      "Requirement already satisfied: pyzmq>=13 in /opt/conda/envs/cubeenv/lib/python3.6/site-packages (from jupyter-client->ipykernel>=4.5.1->ipywidgets<8,>=7.5.0->ipyleaflet==0.12.3->datacube_utilities) (19.0.0)\n",
      "Requirement already satisfied: nbconvert in /opt/conda/envs/cubeenv/lib/python3.6/site-packages (from notebook>=4.4.1->widgetsnbextension~=3.5.0->ipywidgets<8,>=7.5.0->ipyleaflet==0.12.3->datacube_utilities) (5.6.1)\n",
      "Requirement already satisfied: Send2Trash in /opt/conda/envs/cubeenv/lib/python3.6/site-packages (from notebook>=4.4.1->widgetsnbextension~=3.5.0->ipywidgets<8,>=7.5.0->ipyleaflet==0.12.3->datacube_utilities) (1.5.0)\n",
      "Requirement already satisfied: prometheus-client in /opt/conda/envs/cubeenv/lib/python3.6/site-packages (from notebook>=4.4.1->widgetsnbextension~=3.5.0->ipywidgets<8,>=7.5.0->ipyleaflet==0.12.3->datacube_utilities) (0.7.1)\n",
      "Requirement already satisfied: terminado>=0.8.1 in /opt/conda/envs/cubeenv/lib/python3.6/site-packages (from notebook>=4.4.1->widgetsnbextension~=3.5.0->ipywidgets<8,>=7.5.0->ipyleaflet==0.12.3->datacube_utilities) (0.8.3)\n",
      "Requirement already satisfied: wcwidth in /opt/conda/envs/cubeenv/lib/python3.6/site-packages (from prompt-toolkit!=3.0.0,!=3.0.1,<3.1.0,>=2.0.0->ipython>=4.0.0; python_version >= \"3.3\"->ipywidgets<8,>=7.5.0->ipyleaflet==0.12.3->datacube_utilities) (0.1.9)\n",
      "Requirement already satisfied: parso>=0.5.2 in /opt/conda/envs/cubeenv/lib/python3.6/site-packages (from jedi>=0.10->ipython>=4.0.0; python_version >= \"3.3\"->ipywidgets<8,>=7.5.0->ipyleaflet==0.12.3->datacube_utilities) (0.6.2)\n",
      "Requirement already satisfied: ptyprocess>=0.5 in /opt/conda/envs/cubeenv/lib/python3.6/site-packages (from pexpect; sys_platform != \"win32\"->ipython>=4.0.0; python_version >= \"3.3\"->ipywidgets<8,>=7.5.0->ipyleaflet==0.12.3->datacube_utilities) (0.6.0)\n",
      "Requirement already satisfied: testpath in /opt/conda/envs/cubeenv/lib/python3.6/site-packages (from nbconvert->notebook>=4.4.1->widgetsnbextension~=3.5.0->ipywidgets<8,>=7.5.0->ipyleaflet==0.12.3->datacube_utilities) (0.4.4)\n",
      "Requirement already satisfied: entrypoints>=0.2.2 in /opt/conda/envs/cubeenv/lib/python3.6/site-packages (from nbconvert->notebook>=4.4.1->widgetsnbextension~=3.5.0->ipywidgets<8,>=7.5.0->ipyleaflet==0.12.3->datacube_utilities) (0.3)\n",
      "Requirement already satisfied: defusedxml in /opt/conda/envs/cubeenv/lib/python3.6/site-packages (from nbconvert->notebook>=4.4.1->widgetsnbextension~=3.5.0->ipywidgets<8,>=7.5.0->ipyleaflet==0.12.3->datacube_utilities) (0.6.0)\n",
      "Requirement already satisfied: pandocfilters>=1.4.1 in /opt/conda/envs/cubeenv/lib/python3.6/site-packages (from nbconvert->notebook>=4.4.1->widgetsnbextension~=3.5.0->ipywidgets<8,>=7.5.0->ipyleaflet==0.12.3->datacube_utilities) (1.4.2)\n",
      "Requirement already satisfied: bleach in /opt/conda/envs/cubeenv/lib/python3.6/site-packages (from nbconvert->notebook>=4.4.1->widgetsnbextension~=3.5.0->ipywidgets<8,>=7.5.0->ipyleaflet==0.12.3->datacube_utilities) (3.1.4)\n",
      "Requirement already satisfied: mistune<2,>=0.8.1 in /opt/conda/envs/cubeenv/lib/python3.6/site-packages (from nbconvert->notebook>=4.4.1->widgetsnbextension~=3.5.0->ipywidgets<8,>=7.5.0->ipyleaflet==0.12.3->datacube_utilities) (0.8.4)\n",
      "Requirement already satisfied: webencodings in /opt/conda/envs/cubeenv/lib/python3.6/site-packages (from bleach->nbconvert->notebook>=4.4.1->widgetsnbextension~=3.5.0->ipywidgets<8,>=7.5.0->ipyleaflet==0.12.3->datacube_utilities) (0.5.1)\n"
     ]
    }
   ],
   "source": [
    "!pip install git+https://github.com/SatelliteApplicationsCatapult/datacube-utilities.git#egg=datacube_utilities"
   ]
  },
  {
   "cell_type": "code",
   "execution_count": 3,
   "metadata": {},
   "outputs": [],
   "source": [
    "dc = datacube.Datacube(app = 'land_degredation')#, config = '/home/localuser/.datacube.conf')\n",
    "\n",
    "from matplotlib.cm import RdYlGn, Greens\n",
    "from odc.algo import to_f32, from_float, xr_geomedian\n",
    "from datacube_utilities.dc_load import get_product_extents\n",
    "from datacube_utilities.dc_time import dt_to_str\n",
    "from datacube_utilities.dc_display_map import display_map\n",
    "from datacube_utilities.dc_mosaic import create_max_ndvi_mosaic, create_median_mosaic, create_mosaic\n",
    "from datacube_utilities.dc_rgb import rgb\n",
    "from datacube_utilities.createAOI import create_lat_lon\n",
    "from datacube_utilities.dc_water_classifier import wofs_classify\n",
    "from datacube_utilities.createindices import NDVI\n",
    "from datacube_utilities.fromDCALscripts import threshold_plot\n",
    "from datacube_utilities.dc_utilities import write_geotiff_from_xr\n",
    "from datacube_utilities.clean_mask import landsat_qa_clean_mask\n",
    "from datacube_utilities.dc_fractional_coverage_classifier import frac_coverage_classify \n",
    "from datacube_utilities.dc_utilities import write_geotiff_from_xr\n"
   ]
  },
  {
   "cell_type": "code",
   "execution_count": 4,
   "metadata": {},
   "outputs": [],
   "source": [
    "RdYlGn.set_bad('black',1.)\n",
    "Greens.set_bad('black',1.)"
   ]
  },
  {
   "cell_type": "markdown",
   "metadata": {},
   "source": [
    "## Set Variables"
   ]
  },
  {
   "cell_type": "code",
   "execution_count": 86,
   "metadata": {},
   "outputs": [],
   "source": [
    "#inputs\n",
    "#options \"LANDSAT_8\", \"LANDSAT_7\", \"LANDSAT_5\", \"LANDSAT_4\" and \"SENTINEL_2\"\n",
    "platform_base = \"LANDSAT_8\"\n",
    "platform_analysis = \"LANDSAT_8\"\n",
    "#For Fiji this should be the only option - may change for Solomon and Vanuatu\n",
    "output_projection = \"EPSG:3460\"\n",
    "crs = \"EPSG:3460\"\n",
    "res = (30)\n",
    "\n",
    "# Select the start and end periods for your analysis products\n",
    "# The datetime function is (Year,Month,Day)\n",
    "# These time windows will be used to make a mosaic, so typically pick a year length or more\n",
    "# Be sure to evaluate the RGB mosaics to affirm they are not full of clouds\n",
    "\n",
    "#set baseline start and end of period\n",
    "baseline_start_date = '2013-1-1'\n",
    "baseline_end_date = '2014-12-1'\n",
    "\n",
    "#set the analysis start and end of period\n",
    "#analysis_start_date = '2017-1-1'\n",
    "#analysis_end_date = '2017-12-1'\n",
    "\n",
    "# If a geomedian is selected, it will take much longer to process\n",
    "\n",
    "# options are \"median\" or \"geomedian\"\n",
    "#mosaic_type = \"geomedian\" # change this to geomedian \n",
    "\n",
    "#define AOI\n",
    "#central area - do dates 2013- 2014 and 2018-2019\n",
    "#aoi_wkt = \"POLYGON ((177.42576599121094 -18.058395415674948, 177.5390625 -18.058395415674948, 177.5390625 -17.96567026450931, 177.42576599121094 -17.96567026450931, 177.42576599121094 -18.058395415674948))\"\n",
    "# wakaya island - hit by cyclone winston in feb 2016  - dates end of JAn 2015-2016, start of March 2016 - 2017\n",
    "#ai_wkt = \"POLYGON((178.98101806642 -17.592544555664, 179.03903961183 -17.593231201171, 179.03903961183 -17.66258239746, 178.97998809815 -17.661209106445, 178.98101806642 -17.592544555664))\"\n",
    "#aoi_wkt = \"POLYGON((179.4389622562436 -16.668794626017938,179.51758316688813 -16.668794626017938,179.51758316688813 -16.734562495004166,179.4389622562436 -16.734562495004166,179.4389622562436 -16.668794626017938))\"\n",
    "#aoi_wkt = \"POLYGON((179.34386185341157 -16.511847130448928,179.73662308388032 -16.511847130448928,179.73662308388032 -16.83810084556268,179.34386185341157 -16.83810084556268,179.34386185341157 -16.511847130448928))\"\n",
    "aoi_wkt = \"POLYGON((178.39699689321165 -18.061332095979633,178.55080548696165 -18.061332095979633,178.55080548696165 -18.18467000208122,178.39699689321165 -18.18467000208122,178.39699689321165 -18.061332095979633))\""
   ]
  },
  {
   "cell_type": "markdown",
   "metadata": {},
   "source": [
    "## create AOI"
   ]
  },
  {
   "cell_type": "code",
   "execution_count": 87,
   "metadata": {},
   "outputs": [],
   "source": [
    "from pyproj import Proj, transform\n",
    "inProj  = Proj(\"+init=EPSG:4326\")\n",
    "outProj = Proj(\"+init=EPSG:3460\")"
   ]
  },
  {
   "cell_type": "code",
   "execution_count": 88,
   "metadata": {},
   "outputs": [],
   "source": [
    "lat_extents, lon_extents = create_lat_lon(aoi_wkt)"
   ]
  },
  {
   "cell_type": "code",
   "execution_count": 89,
   "metadata": {},
   "outputs": [
    {
     "data": {
      "text/html": [
       "<div style=\"width:100%;\"><div style=\"position:relative;width:100%;height:0;padding-bottom:60%;\"><iframe src=\"data:text/html;charset=utf-8;base64,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\" style=\"position:absolute;width:100%;height:100%;left:0;top:0;border:none !important;\" allowfullscreen webkitallowfullscreen mozallowfullscreen></iframe></div></div>"
      ],
      "text/plain": [
       "<folium.folium.Map at 0x7f6b3ff3b320>"
      ]
     },
     "execution_count": 89,
     "metadata": {},
     "output_type": "execute_result"
    }
   ],
   "source": [
    "## The code below renders a map that can be used to orient yourself with the region.\n",
    "display_map(latitude = lat_extents, longitude = lon_extents)"
   ]
  },
  {
   "cell_type": "code",
   "execution_count": 90,
   "metadata": {},
   "outputs": [],
   "source": [
    "inProj  = Proj(\"+init=EPSG:4326\")\n",
    "outProj = Proj(\"+init=EPSG:3460\")"
   ]
  },
  {
   "cell_type": "code",
   "execution_count": 91,
   "metadata": {},
   "outputs": [],
   "source": [
    "min_lat, max_lat = (lat_extents) \n",
    "min_lon, max_lon = (lon_extents)"
   ]
  },
  {
   "cell_type": "code",
   "execution_count": 92,
   "metadata": {},
   "outputs": [],
   "source": [
    "x_A, y_A = transform(inProj, outProj, min_lon, min_lat)\n",
    "x_B, y_B = transform(inProj, outProj, max_lon, max_lat)"
   ]
  },
  {
   "cell_type": "code",
   "execution_count": 93,
   "metadata": {},
   "outputs": [],
   "source": [
    "lat_range = (y_A, y_B)\n",
    "lon_range = (x_A, x_B)"
   ]
  },
  {
   "cell_type": "code",
   "execution_count": 94,
   "metadata": {},
   "outputs": [
    {
     "name": "stdout",
     "output_type": "stream",
     "text": [
      "(3868865.296636806, 3882539.0512192366)\n"
     ]
    }
   ],
   "source": [
    "print(lat_range)"
   ]
  },
  {
   "cell_type": "code",
   "execution_count": 95,
   "metadata": {},
   "outputs": [
    {
     "name": "stdout",
     "output_type": "stream",
     "text": [
      "(1962643.4711290102, 1978898.4636792026)\n"
     ]
    }
   ],
   "source": [
    "print(lon_range)"
   ]
  },
  {
   "cell_type": "code",
   "execution_count": null,
   "metadata": {},
   "outputs": [],
   "source": []
  },
  {
   "cell_type": "code",
   "execution_count": null,
   "metadata": {},
   "outputs": [],
   "source": []
  },
  {
   "cell_type": "markdown",
   "metadata": {},
   "source": [
    "## Translate inputs and load data"
   ]
  },
  {
   "cell_type": "code",
   "execution_count": 96,
   "metadata": {},
   "outputs": [],
   "source": [
    "allmeasurements = [\"green\",\"red\",\"blue\",\"nir\",\"swir1\",\"swir2\"]\n",
    "#water_measurements = [\"water_classification\"]\n",
    "def create_product_measurement(platform):\n",
    "    if platform  in [\"SENTINEL_2\"]:\n",
    "        product = 's2_esa_sr_granule'\n",
    "        measurements = allmeasurements + [\"coastal_aerosol\",\"scene_classification\"]\n",
    "        ###CHANGE WHEN S2 WOFS READY\n",
    "        water_product = 'SENTINEL_2_PRODUCT DEFS'\n",
    "    elif platform in [\"LANDSAT_8\"]:    \n",
    "        measurements = allmeasurements\n",
    "        product = 'ls8_geomedian_annual'\n",
    "        #water_product = 'ls8_water_classification'\n",
    "    elif platform in [\"LANDSAT_7\"]:    \n",
    "        measurements = allmeasurements + [\"pixel_qa\"]\n",
    "        product = 'ls7_geomedian_annual'\n",
    "        water_product = 'ls7_water_classification'\n",
    "    elif platform in [\"LANDSAT_5\"]:    \n",
    "        measurements = allmeasurements + [\"pixel_qa\"]\n",
    "        product = 'ls5_usgs_sr_scene'\n",
    "        water_product = 'ls5_water_classification'\n",
    "    elif platform in [\"LANDSAT_4\"]:    \n",
    "        measurements = allmeasurements + [\"pixel_qa\"]\n",
    "        product = 'ls4_usgs_sr_scene'\n",
    "        water_product = 'ls4_water_classification'\n",
    "    else:\n",
    "        print(\"invalid platform\")\n",
    "    return product"
   ]
  },
  {
   "cell_type": "code",
   "execution_count": 97,
   "metadata": {},
   "outputs": [],
   "source": [
    "#baseline_product, baseline_measurement = create_product_measurement(platform_base)\n",
    "#analysis_product, analysis_measurement = create_product_measurement(platform_analysis)"
   ]
  },
  {
   "cell_type": "code",
   "execution_count": 98,
   "metadata": {},
   "outputs": [],
   "source": [
    "baseline_product = create_product_measurement(platform_base)\n",
    "analysis_product = create_product_measurement(platform_analysis)"
   ]
  },
  {
   "cell_type": "code",
   "execution_count": 99,
   "metadata": {},
   "outputs": [],
   "source": [
    "#create resolution\n",
    "resolution = (-res, res)"
   ]
  },
  {
   "cell_type": "code",
   "execution_count": 100,
   "metadata": {},
   "outputs": [],
   "source": [
    "dask_chunks = dict(\n",
    "    x = 1000,\n",
    "    y = 1000\n",
    ")"
   ]
  },
  {
   "cell_type": "code",
   "execution_count": 101,
   "metadata": {},
   "outputs": [],
   "source": [
    "x_extents = (2050000.0, 2150000.0)\n",
    "y_extents = (3999700.0, 4100300.0)"
   ]
  },
  {
   "cell_type": "code",
   "execution_count": 102,
   "metadata": {},
   "outputs": [],
   "source": [
    "#lon_range = (2063266.0, 2105301.0)\n",
    "#lat_range = (4017815.0, 4053752.0)"
   ]
  },
  {
   "cell_type": "code",
   "execution_count": 103,
   "metadata": {},
   "outputs": [],
   "source": [
    "#lon_range = (2050000.0, 2150000.0)\n",
    "#lat_range = (3999700.0, 4100300.0)"
   ]
  },
  {
   "cell_type": "code",
   "execution_count": 104,
   "metadata": {},
   "outputs": [],
   "source": [
    "x_extents = (2033081.0, 2133081.0)\n",
    "y_extents = (3999700.0, 4100300.0)"
   ]
  },
  {
   "cell_type": "code",
   "execution_count": 105,
   "metadata": {},
   "outputs": [],
   "source": [
    "#x_extents = (2115000.0, 2160000.0)\n",
    "#y_extents = (3995000.0, 4040000.0)"
   ]
  },
  {
   "cell_type": "code",
   "execution_count": 106,
   "metadata": {},
   "outputs": [
    {
     "ename": "NameError",
     "evalue": "name 'analysis_start_date' is not defined",
     "output_type": "error",
     "traceback": [
      "\u001b[0;31m---------------------------------------------------------------------------\u001b[0m",
      "\u001b[0;31mNameError\u001b[0m                                 Traceback (most recent call last)",
      "\u001b[0;32m<ipython-input-106-8f9df8a47598>\u001b[0m in \u001b[0;36m<module>\u001b[0;34m\u001b[0m\n\u001b[1;32m      9\u001b[0m \u001b[0;34m\u001b[0m\u001b[0m\n\u001b[1;32m     10\u001b[0m \u001b[0mbaseline_time_period\u001b[0m \u001b[0;34m=\u001b[0m \u001b[0mcreateDate\u001b[0m\u001b[0;34m(\u001b[0m\u001b[0mbaseline_start_date\u001b[0m\u001b[0;34m,\u001b[0m \u001b[0mbaseline_end_date\u001b[0m\u001b[0;34m)\u001b[0m\u001b[0;34m\u001b[0m\u001b[0;34m\u001b[0m\u001b[0m\n\u001b[0;32m---> 11\u001b[0;31m \u001b[0manalysis_time_period\u001b[0m \u001b[0;34m=\u001b[0m \u001b[0mcreateDate\u001b[0m\u001b[0;34m(\u001b[0m\u001b[0manalysis_start_date\u001b[0m\u001b[0;34m,\u001b[0m \u001b[0manalysis_end_date\u001b[0m\u001b[0;34m)\u001b[0m\u001b[0;34m\u001b[0m\u001b[0;34m\u001b[0m\u001b[0m\n\u001b[0m",
      "\u001b[0;31mNameError\u001b[0m: name 'analysis_start_date' is not defined"
     ]
    }
   ],
   "source": [
    "#format dates\n",
    "def createDate(inputStart, inputEnd):\n",
    "    start = datetime.strptime(inputStart, '%Y-%m-%d')\n",
    "    end = datetime.strptime(inputEnd, '%Y-%m-%d')\n",
    "    startDates = start.date()\n",
    "    endDates = end.date()\n",
    "    time_period = (startDates, endDates)\n",
    "    return time_period\n",
    "\n",
    "baseline_time_period = createDate(baseline_start_date, baseline_end_date)\n",
    "analysis_time_period = createDate(analysis_start_date, analysis_end_date)"
   ]
  },
  {
   "cell_type": "code",
   "execution_count": 107,
   "metadata": {},
   "outputs": [],
   "source": [
    "# Create the 'query' dictionary object, which contains the longitudes, latitudes \n",
    "query = {\n",
    "    'y': lat_range,\n",
    "    'x': lon_range,\n",
    "    #'y': y_extents,\n",
    "    #'x': x_extents,\n",
    "    'output_crs': output_projection,  \n",
    "    'resolution': resolution,\n",
    "    'dask_chunks': dask_chunks\n",
    "}\n"
   ]
  },
  {
   "cell_type": "code",
   "execution_count": 108,
   "metadata": {},
   "outputs": [],
   "source": [
    "baseline_ds = dc.load(\n",
    "    #time = 2017,\n",
    "    time = baseline_time_period,\n",
    "    #measurements = baseline_measurement,\n",
    "    product = baseline_product,\n",
    "    platform = platform_base,\n",
    "    crs = crs,\n",
    "    **query\n",
    ")\n"
   ]
  },
  {
   "cell_type": "code",
   "execution_count": 109,
   "metadata": {},
   "outputs": [
    {
     "ename": "NameError",
     "evalue": "name 'analysis_time_period' is not defined",
     "output_type": "error",
     "traceback": [
      "\u001b[0;31m---------------------------------------------------------------------------\u001b[0m",
      "\u001b[0;31mNameError\u001b[0m                                 Traceback (most recent call last)",
      "\u001b[0;32m<ipython-input-109-cc4dfc838272>\u001b[0m in \u001b[0;36m<module>\u001b[0;34m\u001b[0m\n\u001b[1;32m      1\u001b[0m analysis_ds = dc.load(\n\u001b[0;32m----> 2\u001b[0;31m     \u001b[0mtime\u001b[0m \u001b[0;34m=\u001b[0m \u001b[0manalysis_time_period\u001b[0m\u001b[0;34m,\u001b[0m\u001b[0;34m\u001b[0m\u001b[0;34m\u001b[0m\u001b[0m\n\u001b[0m\u001b[1;32m      3\u001b[0m     \u001b[0mmeasurements\u001b[0m \u001b[0;34m=\u001b[0m \u001b[0manalysis_measurement\u001b[0m\u001b[0;34m,\u001b[0m\u001b[0;34m\u001b[0m\u001b[0;34m\u001b[0m\u001b[0m\n\u001b[1;32m      4\u001b[0m     \u001b[0mproduct\u001b[0m \u001b[0;34m=\u001b[0m \u001b[0manalysis_product\u001b[0m\u001b[0;34m,\u001b[0m\u001b[0;34m\u001b[0m\u001b[0;34m\u001b[0m\u001b[0m\n\u001b[1;32m      5\u001b[0m     \u001b[0mplatform\u001b[0m \u001b[0;34m=\u001b[0m \u001b[0mplatform_analysis\u001b[0m\u001b[0;34m,\u001b[0m\u001b[0;34m\u001b[0m\u001b[0;34m\u001b[0m\u001b[0m\n",
      "\u001b[0;31mNameError\u001b[0m: name 'analysis_time_period' is not defined"
     ]
    }
   ],
   "source": [
    "analysis_ds = dc.load(\n",
    "    time = analysis_time_period,\n",
    "    measurements = analysis_measurement,\n",
    "    product = analysis_product,\n",
    "    platform = platform_analysis,\n",
    "    crs = crs,\n",
    "    **query\n",
    ")"
   ]
  },
  {
   "cell_type": "markdown",
   "metadata": {},
   "source": [
    "> #### Check if loads are valid"
   ]
  },
  {
   "cell_type": "code",
   "execution_count": 110,
   "metadata": {},
   "outputs": [],
   "source": [
    "def is_dataset_empty(ds:xr.Dataset) -> bool:\n",
    "    checks_for_empty = [\n",
    "                        lambda x: len(x.dims) == 0,      #Dataset has no dimensions\n",
    "                        lambda x: len(x.data_vars) == 0  #Dataset no variables \n",
    "                       ]\n",
    "    for f in checks_for_empty:\n",
    "         if f(ds) == True:\n",
    "                return True\n",
    "    return False"
   ]
  },
  {
   "cell_type": "code",
   "execution_count": 111,
   "metadata": {},
   "outputs": [],
   "source": [
    "if is_dataset_empty(baseline_ds): raise Exception(\"DataCube Load returned an empty Dataset.\" +  \n",
    "                                               \"Please check load parameters for Baseline Dataset!\")"
   ]
  },
  {
   "cell_type": "code",
   "execution_count": 112,
   "metadata": {},
   "outputs": [
    {
     "name": "stdout",
     "output_type": "stream",
     "text": [
      "<xarray.Dataset>\n",
      "Dimensions:  (time: 2, x: 543, y: 456)\n",
      "Coordinates:\n",
      "  * time     (time) datetime64[ns] 2013-07-02 2014-07-02\n",
      "  * y        (y) float64 3.883e+06 3.882e+06 3.882e+06 ... 3.869e+06 3.869e+06\n",
      "  * x        (x) float64 1.963e+06 1.963e+06 1.963e+06 ... 1.979e+06 1.979e+06\n",
      "Data variables:\n",
      "    blue     (time, y, x) int16 dask.array<chunksize=(1, 456, 543), meta=np.ndarray>\n",
      "    green    (time, y, x) int16 dask.array<chunksize=(1, 456, 543), meta=np.ndarray>\n",
      "    red      (time, y, x) int16 dask.array<chunksize=(1, 456, 543), meta=np.ndarray>\n",
      "    nir      (time, y, x) int16 dask.array<chunksize=(1, 456, 543), meta=np.ndarray>\n",
      "    swir1    (time, y, x) int16 dask.array<chunksize=(1, 456, 543), meta=np.ndarray>\n",
      "    swir2    (time, y, x) int16 dask.array<chunksize=(1, 456, 543), meta=np.ndarray>\n",
      "Attributes:\n",
      "    crs:      EPSG:3460\n"
     ]
    }
   ],
   "source": [
    "print(baseline_ds)"
   ]
  },
  {
   "cell_type": "code",
   "execution_count": 113,
   "metadata": {},
   "outputs": [],
   "source": [
    "#baseline_ds.red.plot(col='time', cmap='Greens', col_wrap=3)\n"
   ]
  },
  {
   "cell_type": "code",
   "execution_count": 114,
   "metadata": {},
   "outputs": [
    {
     "data": {
      "text/plain": [
       "<xarray.plot.facetgrid.FacetGrid at 0x7f6b3fe296a0>"
      ]
     },
     "execution_count": 114,
     "metadata": {},
     "output_type": "execute_result"
    },
    {
     "data": {
      "image/png": "[encoded data removed]",
      "text/plain": [
       "<Figure size 936x216 with 4 Axes>"
      ]
     },
     "metadata": {
      "needs_background": "light"
     },
     "output_type": "display_data"
    }
   ],
   "source": [
    "baseline_ds[['red','green','blue']].to_array().plot.imshow(\n",
    "    x=baseline_ds.crs.dimensions[1],\n",
    "    y=baseline_ds.crs.dimensions[0],\n",
    "    col='time',\n",
    "    #figsize=(20, 20),\n",
    "    vmin=0,\n",
    "    vmax=3000,\n",
    "    col_wrap=4,\n",
    "    #add_colorbar=False\n",
    ")"
   ]
  },
  {
   "cell_type": "code",
   "execution_count": 115,
   "metadata": {},
   "outputs": [],
   "source": [
    "baseline_ds_2 = baseline_ds.compute()"
   ]
  },
  {
   "cell_type": "code",
   "execution_count": 116,
   "metadata": {},
   "outputs": [
    {
     "name": "stdout",
     "output_type": "stream",
     "text": [
      "<xarray.Dataset>\n",
      "Dimensions:  (time: 2, x: 543, y: 456)\n",
      "Coordinates:\n",
      "  * time     (time) datetime64[ns] 2013-07-02 2014-07-02\n",
      "  * y        (y) float64 3.883e+06 3.882e+06 3.882e+06 ... 3.869e+06 3.869e+06\n",
      "  * x        (x) float64 1.963e+06 1.963e+06 1.963e+06 ... 1.979e+06 1.979e+06\n",
      "Data variables:\n",
      "    blue     (time, y, x) int16 103 -1 116 124 96 121 ... 433 433 437 425 429\n",
      "    green    (time, y, x) int16 385 270 372 375 363 431 ... 491 498 506 501 503\n",
      "    red      (time, y, x) int16 185 115 206 210 174 227 ... 237 238 242 238 240\n",
      "    nir      (time, y, x) int16 3727 3208 3288 3128 3377 ... 128 130 133 126 128\n",
      "    swir1    (time, y, x) int16 1405 1209 1322 1288 1229 ... 137 144 146 143 145\n",
      "    swir2    (time, y, x) int16 499 464 521 510 441 523 ... 118 123 125 122 122\n",
      "Attributes:\n",
      "    crs:      EPSG:3460\n"
     ]
    }
   ],
   "source": [
    "print(baseline_ds_2)"
   ]
  },
  {
   "cell_type": "markdown",
   "metadata": {},
   "source": [
    "## Calculate NDBI"
   ]
  },
  {
   "cell_type": "code",
   "execution_count": 117,
   "metadata": {},
   "outputs": [],
   "source": [
    "from datacube_utilities.createindices import NDVI, NDWI, NDBI"
   ]
  },
  {
   "cell_type": "code",
   "execution_count": 118,
   "metadata": {},
   "outputs": [],
   "source": [
    "ndbi_base = NDBI(baseline_ds_2)  # Urbanization"
   ]
  },
  {
   "cell_type": "code",
   "execution_count": 119,
   "metadata": {},
   "outputs": [],
   "source": [
    "ndbi_ds = xr.DataArray.to_dataset(ndbi_base, dim = 'time')"
   ]
  },
  {
   "cell_type": "code",
   "execution_count": 120,
   "metadata": {},
   "outputs": [],
   "source": [
    "test = ndbi_ds"
   ]
  },
  {
   "cell_type": "code",
   "execution_count": 121,
   "metadata": {},
   "outputs": [
    {
     "name": "stdout",
     "output_type": "stream",
     "text": [
      "<xarray.Dataset>\n",
      "Dimensions:              (x: 543, y: 456)\n",
      "Coordinates:\n",
      "  * y                    (y) float64 3.883e+06 3.882e+06 ... 3.869e+06 3.869e+06\n",
      "  * x                    (x) float64 1.963e+06 1.963e+06 ... 1.979e+06 1.979e+06\n",
      "Data variables:\n",
      "    2013-07-02 00:00:00  (y, x) float64 -0.7638 -0.7473 ... -0.06329 -0.06173\n",
      "    2014-07-02 00:00:00  (y, x) float64 -0.781 -0.7717 ... -0.01613 -0.024\n"
     ]
    }
   ],
   "source": [
    "print(ndbi_ds)"
   ]
  },
  {
   "cell_type": "code",
   "execution_count": 133,
   "metadata": {},
   "outputs": [],
   "source": [
    "write_geotiff_from_xr('test.tiff', ndbi_ds, crs=output_projection, x_coord = 'x', y_coord = 'y')"
   ]
  },
  {
   "cell_type": "code",
   "execution_count": 134,
   "metadata": {},
   "outputs": [
    {
     "ename": "ValueError",
     "evalue": "supplied range of [-65.0, inf] is not finite",
     "output_type": "error",
     "traceback": [
      "\u001b[0;31m---------------------------------------------------------------------------\u001b[0m",
      "\u001b[0;31mValueError\u001b[0m                                Traceback (most recent call last)",
      "\u001b[0;32m<ipython-input-134-6de247dccf06>\u001b[0m in \u001b[0;36m<module>\u001b[0;34m\u001b[0m\n\u001b[0;32m----> 1\u001b[0;31m \u001b[0;34m(\u001b[0m\u001b[0mndbi_base\u001b[0m\u001b[0;34m)\u001b[0m\u001b[0;34m.\u001b[0m\u001b[0mplot\u001b[0m\u001b[0;34m(\u001b[0m\u001b[0mcmap\u001b[0m \u001b[0;34m=\u001b[0m \u001b[0;34m\"Reds\"\u001b[0m\u001b[0;34m,\u001b[0m \u001b[0mvmin\u001b[0m \u001b[0;34m=\u001b[0m \u001b[0;34m-\u001b[0m\u001b[0;36m1\u001b[0m\u001b[0;34m,\u001b[0m \u001b[0mvmax\u001b[0m \u001b[0;34m=\u001b[0m \u001b[0;36m0\u001b[0m\u001b[0;34m)\u001b[0m\u001b[0;34m\u001b[0m\u001b[0;34m\u001b[0m\u001b[0m\n\u001b[0m\u001b[1;32m      2\u001b[0m \u001b[0;31m#ndbi_base.plot(col='time', cmap='Reds', col_wrap=3, vmin = -1, vmax = 0)\u001b[0m\u001b[0;34m\u001b[0m\u001b[0;34m\u001b[0m\u001b[0;34m\u001b[0m\u001b[0m\n",
      "\u001b[0;32m/opt/conda/envs/cubeenv/lib/python3.6/site-packages/xarray/plot/plot.py\u001b[0m in \u001b[0;36m__call__\u001b[0;34m(self, **kwargs)\u001b[0m\n\u001b[1;32m    444\u001b[0m \u001b[0;34m\u001b[0m\u001b[0m\n\u001b[1;32m    445\u001b[0m     \u001b[0;32mdef\u001b[0m \u001b[0m__call__\u001b[0m\u001b[0;34m(\u001b[0m\u001b[0mself\u001b[0m\u001b[0;34m,\u001b[0m \u001b[0;34m**\u001b[0m\u001b[0mkwargs\u001b[0m\u001b[0;34m)\u001b[0m\u001b[0;34m:\u001b[0m\u001b[0;34m\u001b[0m\u001b[0;34m\u001b[0m\u001b[0m\n\u001b[0;32m--> 446\u001b[0;31m         \u001b[0;32mreturn\u001b[0m \u001b[0mplot\u001b[0m\u001b[0;34m(\u001b[0m\u001b[0mself\u001b[0m\u001b[0;34m.\u001b[0m\u001b[0m_da\u001b[0m\u001b[0;34m,\u001b[0m \u001b[0;34m**\u001b[0m\u001b[0mkwargs\u001b[0m\u001b[0;34m)\u001b[0m\u001b[0;34m\u001b[0m\u001b[0;34m\u001b[0m\u001b[0m\n\u001b[0m\u001b[1;32m    447\u001b[0m \u001b[0;34m\u001b[0m\u001b[0m\n\u001b[1;32m    448\u001b[0m     \u001b[0;34m@\u001b[0m\u001b[0mfunctools\u001b[0m\u001b[0;34m.\u001b[0m\u001b[0mwraps\u001b[0m\u001b[0;34m(\u001b[0m\u001b[0mhist\u001b[0m\u001b[0;34m)\u001b[0m\u001b[0;34m\u001b[0m\u001b[0;34m\u001b[0m\u001b[0m\n",
      "\u001b[0;32m/opt/conda/envs/cubeenv/lib/python3.6/site-packages/xarray/plot/plot.py\u001b[0m in \u001b[0;36mplot\u001b[0;34m(darray, row, col, col_wrap, ax, hue, rtol, subplot_kws, **kwargs)\u001b[0m\n\u001b[1;32m    198\u001b[0m     \u001b[0mkwargs\u001b[0m\u001b[0;34m[\u001b[0m\u001b[0;34m\"ax\"\u001b[0m\u001b[0;34m]\u001b[0m \u001b[0;34m=\u001b[0m \u001b[0max\u001b[0m\u001b[0;34m\u001b[0m\u001b[0;34m\u001b[0m\u001b[0m\n\u001b[1;32m    199\u001b[0m \u001b[0;34m\u001b[0m\u001b[0m\n\u001b[0;32m--> 200\u001b[0;31m     \u001b[0;32mreturn\u001b[0m \u001b[0mplotfunc\u001b[0m\u001b[0;34m(\u001b[0m\u001b[0mdarray\u001b[0m\u001b[0;34m,\u001b[0m \u001b[0;34m**\u001b[0m\u001b[0mkwargs\u001b[0m\u001b[0;34m)\u001b[0m\u001b[0;34m\u001b[0m\u001b[0;34m\u001b[0m\u001b[0m\n\u001b[0m\u001b[1;32m    201\u001b[0m \u001b[0;34m\u001b[0m\u001b[0m\n\u001b[1;32m    202\u001b[0m \u001b[0;34m\u001b[0m\u001b[0m\n",
      "\u001b[0;32m/opt/conda/envs/cubeenv/lib/python3.6/site-packages/xarray/plot/plot.py\u001b[0m in \u001b[0;36mhist\u001b[0;34m(darray, figsize, size, aspect, ax, xincrease, yincrease, xscale, yscale, xticks, yticks, xlim, ylim, **kwargs)\u001b[0m\n\u001b[1;32m    420\u001b[0m     \u001b[0mno_nan\u001b[0m \u001b[0;34m=\u001b[0m \u001b[0mno_nan\u001b[0m\u001b[0;34m[\u001b[0m\u001b[0mpd\u001b[0m\u001b[0;34m.\u001b[0m\u001b[0mnotnull\u001b[0m\u001b[0;34m(\u001b[0m\u001b[0mno_nan\u001b[0m\u001b[0;34m)\u001b[0m\u001b[0;34m]\u001b[0m\u001b[0;34m\u001b[0m\u001b[0;34m\u001b[0m\u001b[0m\n\u001b[1;32m    421\u001b[0m \u001b[0;34m\u001b[0m\u001b[0m\n\u001b[0;32m--> 422\u001b[0;31m     \u001b[0mprimitive\u001b[0m \u001b[0;34m=\u001b[0m \u001b[0max\u001b[0m\u001b[0;34m.\u001b[0m\u001b[0mhist\u001b[0m\u001b[0;34m(\u001b[0m\u001b[0mno_nan\u001b[0m\u001b[0;34m,\u001b[0m \u001b[0;34m**\u001b[0m\u001b[0mkwargs\u001b[0m\u001b[0;34m)\u001b[0m\u001b[0;34m\u001b[0m\u001b[0;34m\u001b[0m\u001b[0m\n\u001b[0m\u001b[1;32m    423\u001b[0m \u001b[0;34m\u001b[0m\u001b[0m\n\u001b[1;32m    424\u001b[0m     \u001b[0max\u001b[0m\u001b[0;34m.\u001b[0m\u001b[0mset_title\u001b[0m\u001b[0;34m(\u001b[0m\u001b[0;34m\"Histogram\"\u001b[0m\u001b[0;34m)\u001b[0m\u001b[0;34m\u001b[0m\u001b[0;34m\u001b[0m\u001b[0m\n",
      "\u001b[0;32m/opt/conda/envs/cubeenv/lib/python3.6/site-packages/matplotlib/__init__.py\u001b[0m in \u001b[0;36minner\u001b[0;34m(ax, data, *args, **kwargs)\u001b[0m\n\u001b[1;32m   1563\u001b[0m     \u001b[0;32mdef\u001b[0m \u001b[0minner\u001b[0m\u001b[0;34m(\u001b[0m\u001b[0max\u001b[0m\u001b[0;34m,\u001b[0m \u001b[0;34m*\u001b[0m\u001b[0margs\u001b[0m\u001b[0;34m,\u001b[0m \u001b[0mdata\u001b[0m\u001b[0;34m=\u001b[0m\u001b[0;32mNone\u001b[0m\u001b[0;34m,\u001b[0m \u001b[0;34m**\u001b[0m\u001b[0mkwargs\u001b[0m\u001b[0;34m)\u001b[0m\u001b[0;34m:\u001b[0m\u001b[0;34m\u001b[0m\u001b[0;34m\u001b[0m\u001b[0m\n\u001b[1;32m   1564\u001b[0m         \u001b[0;32mif\u001b[0m \u001b[0mdata\u001b[0m \u001b[0;32mis\u001b[0m \u001b[0;32mNone\u001b[0m\u001b[0;34m:\u001b[0m\u001b[0;34m\u001b[0m\u001b[0;34m\u001b[0m\u001b[0m\n\u001b[0;32m-> 1565\u001b[0;31m             \u001b[0;32mreturn\u001b[0m \u001b[0mfunc\u001b[0m\u001b[0;34m(\u001b[0m\u001b[0max\u001b[0m\u001b[0;34m,\u001b[0m \u001b[0;34m*\u001b[0m\u001b[0mmap\u001b[0m\u001b[0;34m(\u001b[0m\u001b[0msanitize_sequence\u001b[0m\u001b[0;34m,\u001b[0m \u001b[0margs\u001b[0m\u001b[0;34m)\u001b[0m\u001b[0;34m,\u001b[0m \u001b[0;34m**\u001b[0m\u001b[0mkwargs\u001b[0m\u001b[0;34m)\u001b[0m\u001b[0;34m\u001b[0m\u001b[0;34m\u001b[0m\u001b[0m\n\u001b[0m\u001b[1;32m   1566\u001b[0m \u001b[0;34m\u001b[0m\u001b[0m\n\u001b[1;32m   1567\u001b[0m         \u001b[0mbound\u001b[0m \u001b[0;34m=\u001b[0m \u001b[0mnew_sig\u001b[0m\u001b[0;34m.\u001b[0m\u001b[0mbind\u001b[0m\u001b[0;34m(\u001b[0m\u001b[0max\u001b[0m\u001b[0;34m,\u001b[0m \u001b[0;34m*\u001b[0m\u001b[0margs\u001b[0m\u001b[0;34m,\u001b[0m \u001b[0;34m**\u001b[0m\u001b[0mkwargs\u001b[0m\u001b[0;34m)\u001b[0m\u001b[0;34m\u001b[0m\u001b[0;34m\u001b[0m\u001b[0m\n",
      "\u001b[0;32m/opt/conda/envs/cubeenv/lib/python3.6/site-packages/matplotlib/axes/_axes.py\u001b[0m in \u001b[0;36mhist\u001b[0;34m(self, x, bins, range, density, weights, cumulative, bottom, histtype, align, orientation, rwidth, log, color, label, stacked, **kwargs)\u001b[0m\n\u001b[1;32m   6647\u001b[0m             \u001b[0;31m# this will automatically overwrite bins,\u001b[0m\u001b[0;34m\u001b[0m\u001b[0;34m\u001b[0m\u001b[0;34m\u001b[0m\u001b[0m\n\u001b[1;32m   6648\u001b[0m             \u001b[0;31m# so that each histogram uses the same bins\u001b[0m\u001b[0;34m\u001b[0m\u001b[0;34m\u001b[0m\u001b[0;34m\u001b[0m\u001b[0m\n\u001b[0;32m-> 6649\u001b[0;31m             \u001b[0mm\u001b[0m\u001b[0;34m,\u001b[0m \u001b[0mbins\u001b[0m \u001b[0;34m=\u001b[0m \u001b[0mnp\u001b[0m\u001b[0;34m.\u001b[0m\u001b[0mhistogram\u001b[0m\u001b[0;34m(\u001b[0m\u001b[0mx\u001b[0m\u001b[0;34m[\u001b[0m\u001b[0mi\u001b[0m\u001b[0;34m]\u001b[0m\u001b[0;34m,\u001b[0m \u001b[0mbins\u001b[0m\u001b[0;34m,\u001b[0m \u001b[0mweights\u001b[0m\u001b[0;34m=\u001b[0m\u001b[0mw\u001b[0m\u001b[0;34m[\u001b[0m\u001b[0mi\u001b[0m\u001b[0;34m]\u001b[0m\u001b[0;34m,\u001b[0m \u001b[0;34m**\u001b[0m\u001b[0mhist_kwargs\u001b[0m\u001b[0;34m)\u001b[0m\u001b[0;34m\u001b[0m\u001b[0;34m\u001b[0m\u001b[0m\n\u001b[0m\u001b[1;32m   6650\u001b[0m             \u001b[0mtops\u001b[0m\u001b[0;34m.\u001b[0m\u001b[0mappend\u001b[0m\u001b[0;34m(\u001b[0m\u001b[0mm\u001b[0m\u001b[0;34m)\u001b[0m\u001b[0;34m\u001b[0m\u001b[0;34m\u001b[0m\u001b[0m\n\u001b[1;32m   6651\u001b[0m         \u001b[0mtops\u001b[0m \u001b[0;34m=\u001b[0m \u001b[0mnp\u001b[0m\u001b[0;34m.\u001b[0m\u001b[0marray\u001b[0m\u001b[0;34m(\u001b[0m\u001b[0mtops\u001b[0m\u001b[0;34m,\u001b[0m \u001b[0mfloat\u001b[0m\u001b[0;34m)\u001b[0m  \u001b[0;31m# causes problems later if it's an int\u001b[0m\u001b[0;34m\u001b[0m\u001b[0;34m\u001b[0m\u001b[0m\n",
      "\u001b[0;32m<__array_function__ internals>\u001b[0m in \u001b[0;36mhistogram\u001b[0;34m(*args, **kwargs)\u001b[0m\n",
      "\u001b[0;32m/opt/conda/envs/cubeenv/lib/python3.6/site-packages/numpy/lib/histograms.py\u001b[0m in \u001b[0;36mhistogram\u001b[0;34m(a, bins, range, normed, weights, density)\u001b[0m\n\u001b[1;32m    793\u001b[0m     \u001b[0ma\u001b[0m\u001b[0;34m,\u001b[0m \u001b[0mweights\u001b[0m \u001b[0;34m=\u001b[0m \u001b[0m_ravel_and_check_weights\u001b[0m\u001b[0;34m(\u001b[0m\u001b[0ma\u001b[0m\u001b[0;34m,\u001b[0m \u001b[0mweights\u001b[0m\u001b[0;34m)\u001b[0m\u001b[0;34m\u001b[0m\u001b[0;34m\u001b[0m\u001b[0m\n\u001b[1;32m    794\u001b[0m \u001b[0;34m\u001b[0m\u001b[0m\n\u001b[0;32m--> 795\u001b[0;31m     \u001b[0mbin_edges\u001b[0m\u001b[0;34m,\u001b[0m \u001b[0muniform_bins\u001b[0m \u001b[0;34m=\u001b[0m \u001b[0m_get_bin_edges\u001b[0m\u001b[0;34m(\u001b[0m\u001b[0ma\u001b[0m\u001b[0;34m,\u001b[0m \u001b[0mbins\u001b[0m\u001b[0;34m,\u001b[0m \u001b[0mrange\u001b[0m\u001b[0;34m,\u001b[0m \u001b[0mweights\u001b[0m\u001b[0;34m)\u001b[0m\u001b[0;34m\u001b[0m\u001b[0;34m\u001b[0m\u001b[0m\n\u001b[0m\u001b[1;32m    796\u001b[0m \u001b[0;34m\u001b[0m\u001b[0m\n\u001b[1;32m    797\u001b[0m     \u001b[0;31m# Histogram is an integer or a float array depending on the weights.\u001b[0m\u001b[0;34m\u001b[0m\u001b[0;34m\u001b[0m\u001b[0;34m\u001b[0m\u001b[0m\n",
      "\u001b[0;32m/opt/conda/envs/cubeenv/lib/python3.6/site-packages/numpy/lib/histograms.py\u001b[0m in \u001b[0;36m_get_bin_edges\u001b[0;34m(a, bins, range, weights)\u001b[0m\n\u001b[1;32m    427\u001b[0m             \u001b[0;32mraise\u001b[0m \u001b[0mValueError\u001b[0m\u001b[0;34m(\u001b[0m\u001b[0;34m'`bins` must be positive, when an integer'\u001b[0m\u001b[0;34m)\u001b[0m\u001b[0;34m\u001b[0m\u001b[0;34m\u001b[0m\u001b[0m\n\u001b[1;32m    428\u001b[0m \u001b[0;34m\u001b[0m\u001b[0m\n\u001b[0;32m--> 429\u001b[0;31m         \u001b[0mfirst_edge\u001b[0m\u001b[0;34m,\u001b[0m \u001b[0mlast_edge\u001b[0m \u001b[0;34m=\u001b[0m \u001b[0m_get_outer_edges\u001b[0m\u001b[0;34m(\u001b[0m\u001b[0ma\u001b[0m\u001b[0;34m,\u001b[0m \u001b[0mrange\u001b[0m\u001b[0;34m)\u001b[0m\u001b[0;34m\u001b[0m\u001b[0;34m\u001b[0m\u001b[0m\n\u001b[0m\u001b[1;32m    430\u001b[0m \u001b[0;34m\u001b[0m\u001b[0m\n\u001b[1;32m    431\u001b[0m     \u001b[0;32melif\u001b[0m \u001b[0mnp\u001b[0m\u001b[0;34m.\u001b[0m\u001b[0mndim\u001b[0m\u001b[0;34m(\u001b[0m\u001b[0mbins\u001b[0m\u001b[0;34m)\u001b[0m \u001b[0;34m==\u001b[0m \u001b[0;36m1\u001b[0m\u001b[0;34m:\u001b[0m\u001b[0;34m\u001b[0m\u001b[0;34m\u001b[0m\u001b[0m\n",
      "\u001b[0;32m/opt/conda/envs/cubeenv/lib/python3.6/site-packages/numpy/lib/histograms.py\u001b[0m in \u001b[0;36m_get_outer_edges\u001b[0;34m(a, range)\u001b[0m\n\u001b[1;32m    317\u001b[0m         \u001b[0;32mif\u001b[0m \u001b[0;32mnot\u001b[0m \u001b[0;34m(\u001b[0m\u001b[0mnp\u001b[0m\u001b[0;34m.\u001b[0m\u001b[0misfinite\u001b[0m\u001b[0;34m(\u001b[0m\u001b[0mfirst_edge\u001b[0m\u001b[0;34m)\u001b[0m \u001b[0;32mand\u001b[0m \u001b[0mnp\u001b[0m\u001b[0;34m.\u001b[0m\u001b[0misfinite\u001b[0m\u001b[0;34m(\u001b[0m\u001b[0mlast_edge\u001b[0m\u001b[0;34m)\u001b[0m\u001b[0;34m)\u001b[0m\u001b[0;34m:\u001b[0m\u001b[0;34m\u001b[0m\u001b[0;34m\u001b[0m\u001b[0m\n\u001b[1;32m    318\u001b[0m             raise ValueError(\n\u001b[0;32m--> 319\u001b[0;31m                 \"supplied range of [{}, {}] is not finite\".format(first_edge, last_edge))\n\u001b[0m\u001b[1;32m    320\u001b[0m     \u001b[0;32melif\u001b[0m \u001b[0ma\u001b[0m\u001b[0;34m.\u001b[0m\u001b[0msize\u001b[0m \u001b[0;34m==\u001b[0m \u001b[0;36m0\u001b[0m\u001b[0;34m:\u001b[0m\u001b[0;34m\u001b[0m\u001b[0;34m\u001b[0m\u001b[0m\n\u001b[1;32m    321\u001b[0m         \u001b[0;31m# handle empty arrays. Can't determine range, so use 0-1.\u001b[0m\u001b[0;34m\u001b[0m\u001b[0;34m\u001b[0m\u001b[0;34m\u001b[0m\u001b[0m\n",
      "\u001b[0;31mValueError\u001b[0m: supplied range of [-65.0, inf] is not finite"
     ]
    },
    {
     "data": {
      "image/png": "[encoded data removed]",
      "text/plain": [
       "<Figure size 432x288 with 1 Axes>"
      ]
     },
     "metadata": {
      "needs_background": "light"
     },
     "output_type": "display_data"
    }
   ],
   "source": [
    "(ndbi_base).plot(cmap = \"Reds\", vmin = -1, vmax = 0)\n",
    "#ndbi_base.plot(col='time', cmap='Reds', col_wrap=3, vmin = -1, vmax = 0)"
   ]
  },
  {
   "cell_type": "code",
   "execution_count": null,
   "metadata": {},
   "outputs": [],
   "source": [
    "import geopandas\n",
    "shpFile = geopandas.read_file(\"urbanisation/Urban_suva.shp\", driver='shapefile')"
   ]
  },
  {
   "cell_type": "code",
   "execution_count": 135,
   "metadata": {},
   "outputs": [],
   "source": [
    "rasterTiff = 'test.tiff'"
   ]
  },
  {
   "cell_type": "code",
   "execution_count": 136,
   "metadata": {},
   "outputs": [
    {
     "name": "stdout",
     "output_type": "stream",
     "text": [
      "   id                                           geometry\n",
      "0   1  POLYGON ((1975434.206 3880672.745, 1974116.203...\n"
     ]
    }
   ],
   "source": [
    "print(shpFile)"
   ]
  },
  {
   "cell_type": "code",
   "execution_count": 137,
   "metadata": {},
   "outputs": [],
   "source": [
    "from rasterstats import zonal_stats"
   ]
  },
  {
   "cell_type": "code",
   "execution_count": 138,
   "metadata": {},
   "outputs": [],
   "source": [
    "createData = zonal_stats(shpFile, rasterTiff, stats= 'mean', geojson_out=True)"
   ]
  },
  {
   "cell_type": "code",
   "execution_count": 160,
   "metadata": {},
   "outputs": [],
   "source": [
    "import rasterio\n",
    "with rasterio.open('test.tiff') as src:\n",
    "    affine = src.transform\n",
    "    array = src.read(2)\n",
    "zs = zonal_stats(shpFile, array, stats='mean', affine=affine)"
   ]
  },
  {
   "cell_type": "code",
   "execution_count": 161,
   "metadata": {},
   "outputs": [
    {
     "name": "stdout",
     "output_type": "stream",
     "text": [
      "[{'mean': -0.47428279630911224}]\n"
     ]
    }
   ],
   "source": [
    "print(zs)"
   ]
  },
  {
   "cell_type": "code",
   "execution_count": 166,
   "metadata": {},
   "outputs": [],
   "source": [
    "import rasterio\n",
    "with rasterio.open('test.tiff') as src2:\n",
    "    affine2 = src2.transform\n",
    "    array2 = src2.read(2)\n",
    "zs2 = zonal_stats(shpFile, array, stats='mean', affine=affine)"
   ]
  },
  {
   "cell_type": "code",
   "execution_count": 164,
   "metadata": {},
   "outputs": [
    {
     "name": "stdout",
     "output_type": "stream",
     "text": [
      "[{'mean': -0.47428279630911224}]\n"
     ]
    }
   ],
   "source": [
    "print(zs2)"
   ]
  },
  {
   "cell_type": "code",
   "execution_count": 139,
   "metadata": {},
   "outputs": [
    {
     "name": "stdout",
     "output_type": "stream",
     "text": [
      "[{'id': '0', 'type': 'Feature', 'properties': {'id': 1, 'mean': -0.43936056849946636}, 'geometry': {'type': 'Polygon', 'coordinates': (((1975434.205559892, 3880672.745187387), (1974116.203117608, 3881913.227038306), (1974116.203117608, 3881913.227038306), (1973206.8221390198, 3882789.8591889227), (1972963.9156963876, 3883708.832209846), (1973130.035027881, 3884098.329951805), (1974512.3707057647, 3884804.1941709653), (1976932.8068921263, 3881560.652509155), (1975434.205559892, 3880672.745187387)),)}, 'bbox': (1972963.9156963876, 3880672.745187387, 1976932.8068921263, 3884804.1941709653)}]\n"
     ]
    }
   ],
   "source": [
    "print(createData)"
   ]
  },
  {
   "cell_type": "code",
   "execution_count": 142,
   "metadata": {},
   "outputs": [],
   "source": [
    "from geopandas import GeoDataFrame\n",
    "dataGDF = shpFile\n",
    "zonalGDF2 = GeoDataFrame.from_features(createData)\n",
    "#append zonal statistics to the shapefile geodataframe\n",
    "dataGDF = zonalGDF2.append(dataGDF,sort=False)"
   ]
  },
  {
   "cell_type": "code",
   "execution_count": 145,
   "metadata": {},
   "outputs": [
    {
     "name": "stdout",
     "output_type": "stream",
     "text": [
      "                                            geometry  id      mean\n",
      "0  POLYGON ((1975434.206 3880672.745, 1974116.203...   1 -0.439361\n"
     ]
    }
   ],
   "source": [
    "print(zonalGDF2)"
   ]
  },
  {
   "cell_type": "code",
   "execution_count": 140,
   "metadata": {},
   "outputs": [
    {
     "ename": "SyntaxError",
     "evalue": "Missing parentheses in call to 'print'. Did you mean print('Unable to open INPUT.tif')? (<ipython-input-140-d73effc11ed7>, line 6)",
     "output_type": "error",
     "traceback": [
      "\u001b[0;36m  File \u001b[0;32m\"<ipython-input-140-d73effc11ed7>\"\u001b[0;36m, line \u001b[0;32m6\u001b[0m\n\u001b[0;31m    print 'Unable to open INPUT.tif'\u001b[0m\n\u001b[0m                                   ^\u001b[0m\n\u001b[0;31mSyntaxError\u001b[0m\u001b[0;31m:\u001b[0m Missing parentheses in call to 'print'. Did you mean print('Unable to open INPUT.tif')?\n"
     ]
    }
   ],
   "source": [
    "from osgeo import gdal\n",
    "import sys\n",
    "\n",
    "src_ds = gdal.Open( \"INPUT.tif\" )\n",
    "if src_ds is None:\n",
    "    print 'Unable to open INPUT.tif'\n",
    "    sys.exit(1)\n",
    "\n",
    "print \"[ RASTER BAND COUNT ]: \", src_ds.RasterCount\n",
    "for band in range( src_ds.RasterCount ):\n",
    "    band += 1\n",
    "    print \"[ GETTING BAND ]: \", band\n",
    "    srcband = src_ds.GetRasterBand(band)\n",
    "    if srcband is None:\n",
    "        continue\n",
    "\n",
    "    stats = srcband.GetStatistics( True, True )\n",
    "    if stats is None:\n",
    "        continue\n",
    "\n",
    "    print \"[ STATS ] =  Minimum=%.3f, Maximum=%.3f, Mean=%.3f, StdDev=%.3f\" % ( \\\n",
    "                stats[0], stats[1], stats[2], stats[3] )"
   ]
  },
  {
   "cell_type": "code",
   "execution_count": 63,
   "metadata": {},
   "outputs": [],
   "source": [
    "df = ndbi_ds.to_dataframe()"
   ]
  },
  {
   "cell_type": "code",
   "execution_count": 64,
   "metadata": {},
   "outputs": [
    {
     "name": "stdout",
     "output_type": "stream",
     "text": [
      "                     2013-07-02\n",
      "x         y                    \n",
      "1962645.0 3882525.0   -0.763843\n",
      "          3882495.0   -0.772177\n",
      "          3882465.0   -0.763733\n",
      "          3882435.0   -0.746733\n",
      "          3882405.0   -0.748027\n",
      "...                         ...\n",
      "1978905.0 3868995.0   -0.057692\n",
      "          3868965.0   -0.037736\n",
      "          3868935.0   -0.098901\n",
      "          3868905.0   -0.118280\n",
      "          3868875.0   -0.061728\n",
      "\n",
      "[247608 rows x 1 columns]\n"
     ]
    }
   ],
   "source": [
    "print(df)"
   ]
  },
  {
   "cell_type": "code",
   "execution_count": 171,
   "metadata": {},
   "outputs": [
    {
     "name": "stdout",
     "output_type": "stream",
     "text": [
      "ndbi\n"
     ]
    }
   ],
   "source": [
    "for col in df.columns: \n",
    "    print(col) "
   ]
  },
  {
   "cell_type": "code",
   "execution_count": 173,
   "metadata": {},
   "outputs": [
    {
     "ename": "ValueError",
     "evalue": "x and y arrays must be equal length.",
     "output_type": "error",
     "traceback": [
      "\u001b[0;31m---------------------------------------------------------------------------\u001b[0m",
      "\u001b[0;31mValueError\u001b[0m                                Traceback (most recent call last)",
      "\u001b[0;32m<ipython-input-173-b22205401b3a>\u001b[0m in \u001b[0;36m<module>\u001b[0;34m\u001b[0m\n\u001b[1;32m      1\u001b[0m gdf = geopandas.GeoDataFrame(\n\u001b[0;32m----> 2\u001b[0;31m     ndbi_base, geometry=geopandas.points_from_xy(ndbi_base.y, ndbi_base.x))\n\u001b[0m",
      "\u001b[0;32m/opt/conda/envs/cubeenv/lib/python3.6/site-packages/geopandas/array.py\u001b[0m in \u001b[0;36m_points_from_xy\u001b[0;34m(x, y, z)\u001b[0m\n\u001b[1;32m    192\u001b[0m     \"\"\"\n\u001b[1;32m    193\u001b[0m     \u001b[0;32mif\u001b[0m \u001b[0;32mnot\u001b[0m \u001b[0mlen\u001b[0m\u001b[0;34m(\u001b[0m\u001b[0mx\u001b[0m\u001b[0;34m)\u001b[0m \u001b[0;34m==\u001b[0m \u001b[0mlen\u001b[0m\u001b[0;34m(\u001b[0m\u001b[0my\u001b[0m\u001b[0;34m)\u001b[0m\u001b[0;34m:\u001b[0m\u001b[0;34m\u001b[0m\u001b[0;34m\u001b[0m\u001b[0m\n\u001b[0;32m--> 194\u001b[0;31m         \u001b[0;32mraise\u001b[0m \u001b[0mValueError\u001b[0m\u001b[0;34m(\u001b[0m\u001b[0;34m\"x and y arrays must be equal length.\"\u001b[0m\u001b[0;34m)\u001b[0m\u001b[0;34m\u001b[0m\u001b[0;34m\u001b[0m\u001b[0m\n\u001b[0m\u001b[1;32m    195\u001b[0m     \u001b[0;32mif\u001b[0m \u001b[0mz\u001b[0m \u001b[0;32mis\u001b[0m \u001b[0;32mnot\u001b[0m \u001b[0;32mNone\u001b[0m\u001b[0;34m:\u001b[0m\u001b[0;34m\u001b[0m\u001b[0;34m\u001b[0m\u001b[0m\n\u001b[1;32m    196\u001b[0m         \u001b[0;32mif\u001b[0m \u001b[0;32mnot\u001b[0m \u001b[0mlen\u001b[0m\u001b[0;34m(\u001b[0m\u001b[0mz\u001b[0m\u001b[0;34m)\u001b[0m \u001b[0;34m==\u001b[0m \u001b[0mlen\u001b[0m\u001b[0;34m(\u001b[0m\u001b[0mx\u001b[0m\u001b[0;34m)\u001b[0m\u001b[0;34m:\u001b[0m\u001b[0;34m\u001b[0m\u001b[0;34m\u001b[0m\u001b[0m\n",
      "\u001b[0;31mValueError\u001b[0m: x and y arrays must be equal length."
     ]
    }
   ],
   "source": []
  },
  {
   "cell_type": "code",
   "execution_count": 178,
   "metadata": {},
   "outputs": [
    {
     "ename": "AttributeError",
     "evalue": "type object 'DataArray' has no attribute 'to_array'",
     "output_type": "error",
     "traceback": [
      "\u001b[0;31m---------------------------------------------------------------------------\u001b[0m",
      "\u001b[0;31mAttributeError\u001b[0m                            Traceback (most recent call last)",
      "\u001b[0;32m<ipython-input-178-8875bdb93b49>\u001b[0m in \u001b[0;36m<module>\u001b[0;34m\u001b[0m\n\u001b[0;32m----> 1\u001b[0;31m \u001b[0moutput\u001b[0m \u001b[0;34m=\u001b[0m \u001b[0mxr\u001b[0m\u001b[0;34m.\u001b[0m\u001b[0mDataArray\u001b[0m\u001b[0;34m.\u001b[0m\u001b[0mto_array\u001b[0m\u001b[0;34m(\u001b[0m\u001b[0mndbi_base\u001b[0m\u001b[0;34m,\u001b[0m \u001b[0mname\u001b[0m \u001b[0;34m=\u001b[0m \u001b[0;34m'ndbi'\u001b[0m\u001b[0;34m)\u001b[0m\u001b[0;34m\u001b[0m\u001b[0;34m\u001b[0m\u001b[0m\n\u001b[0m",
      "\u001b[0;31mAttributeError\u001b[0m: type object 'DataArray' has no attribute 'to_array'"
     ]
    }
   ],
   "source": [
    "output = xr.DataArray.to_array(ndbi_base, name = 'ndbi')"
   ]
  },
  {
   "cell_type": "code",
   "execution_count": 163,
   "metadata": {},
   "outputs": [
    {
     "name": "stdout",
     "output_type": "stream",
     "text": [
      "<xarray.Dataset>\n",
      "Dimensions:  (time: 1, x: 543, y: 456)\n",
      "Coordinates:\n",
      "  * time     (time) datetime64[ns] 2013-07-02\n",
      "  * y        (y) float64 3.883e+06 3.882e+06 3.882e+06 ... 3.869e+06 3.869e+06\n",
      "  * x        (x) float64 1.963e+06 1.963e+06 1.963e+06 ... 1.979e+06 1.979e+06\n",
      "Data variables:\n",
      "    ndbi     (time, y, x) float64 -0.7638 -0.7473 -0.7264 ... -0.06329 -0.06173\n"
     ]
    }
   ],
   "source": [
    "print(output)"
   ]
  },
  {
   "cell_type": "code",
   "execution_count": 177,
   "metadata": {},
   "outputs": [
    {
     "ename": "ValueError",
     "evalue": "Source shape (1, 1, 456, 543) is inconsistent with given indexes 1",
     "output_type": "error",
     "traceback": [
      "\u001b[0;31m---------------------------------------------------------------------------\u001b[0m",
      "\u001b[0;31mValueError\u001b[0m                                Traceback (most recent call last)",
      "\u001b[0;32m<ipython-input-177-94a88f3a3ee5>\u001b[0m in \u001b[0;36m<module>\u001b[0;34m\u001b[0m\n\u001b[0;32m----> 1\u001b[0;31m \u001b[0mwrite_geotiff_from_xr\u001b[0m\u001b[0;34m(\u001b[0m\u001b[0;34m'param_thres.tiff'\u001b[0m\u001b[0;34m,\u001b[0m \u001b[0moutput\u001b[0m\u001b[0;34m,\u001b[0m \u001b[0mcrs\u001b[0m\u001b[0;34m=\u001b[0m\u001b[0moutput_projection\u001b[0m\u001b[0;34m,\u001b[0m \u001b[0mx_coord\u001b[0m \u001b[0;34m=\u001b[0m \u001b[0;34m'x'\u001b[0m\u001b[0;34m,\u001b[0m \u001b[0my_coord\u001b[0m \u001b[0;34m=\u001b[0m \u001b[0;34m'y'\u001b[0m\u001b[0;34m)\u001b[0m\u001b[0;34m\u001b[0m\u001b[0;34m\u001b[0m\u001b[0m\n\u001b[0m",
      "\u001b[0;32m/opt/conda/envs/cubeenv/lib/python3.6/site-packages/datacube_utilities/dc_utilities.py\u001b[0m in \u001b[0;36mwrite_geotiff_from_xr\u001b[0;34m(tif_path, data, bands, no_data, crs, x_coord, y_coord)\u001b[0m\n\u001b[1;32m    293\u001b[0m         \u001b[0;32melse\u001b[0m\u001b[0;34m:\u001b[0m\u001b[0;34m\u001b[0m\u001b[0;34m\u001b[0m\u001b[0m\n\u001b[1;32m    294\u001b[0m             \u001b[0;32mfor\u001b[0m \u001b[0mindex\u001b[0m\u001b[0;34m,\u001b[0m \u001b[0mband\u001b[0m \u001b[0;32min\u001b[0m \u001b[0menumerate\u001b[0m\u001b[0;34m(\u001b[0m\u001b[0mbands\u001b[0m\u001b[0;34m)\u001b[0m\u001b[0;34m:\u001b[0m\u001b[0;34m\u001b[0m\u001b[0;34m\u001b[0m\u001b[0m\n\u001b[0;32m--> 295\u001b[0;31m                 \u001b[0mdst\u001b[0m\u001b[0;34m.\u001b[0m\u001b[0mwrite\u001b[0m\u001b[0;34m(\u001b[0m\u001b[0mdata\u001b[0m\u001b[0;34m[\u001b[0m\u001b[0mband\u001b[0m\u001b[0;34m]\u001b[0m\u001b[0;34m.\u001b[0m\u001b[0mvalues\u001b[0m\u001b[0;34m,\u001b[0m \u001b[0mindex\u001b[0m \u001b[0;34m+\u001b[0m \u001b[0;36m1\u001b[0m\u001b[0;34m)\u001b[0m\u001b[0;34m\u001b[0m\u001b[0;34m\u001b[0m\u001b[0m\n\u001b[0m\u001b[1;32m    296\u001b[0m     \u001b[0mdst\u001b[0m\u001b[0;34m.\u001b[0m\u001b[0mclose\u001b[0m\u001b[0;34m(\u001b[0m\u001b[0;34m)\u001b[0m\u001b[0;34m\u001b[0m\u001b[0;34m\u001b[0m\u001b[0m\n\u001b[1;32m    297\u001b[0m \u001b[0;34m\u001b[0m\u001b[0m\n",
      "\u001b[0;32mrasterio/_io.pyx\u001b[0m in \u001b[0;36mrasterio._io.DatasetWriterBase.write\u001b[0;34m()\u001b[0m\n",
      "\u001b[0;31mValueError\u001b[0m: Source shape (1, 1, 456, 543) is inconsistent with given indexes 1"
     ]
    }
   ],
   "source": [
    "write_geotiff_from_xr('param_thres.tiff', output, crs=output_projection, x_coord = 'x', y_coord = 'y')"
   ]
  },
  {
   "cell_type": "code",
   "execution_count": 166,
   "metadata": {},
   "outputs": [
    {
     "ename": "TypeError",
     "evalue": "invalid path or file: <xarray.DataArray (time: 1, y: 456, x: 543)>\narray([[[-0.76384288, -0.74727669, -0.72643739, ..., -0.46133333,\n         -0.41036977, -0.28922306],\n        [-0.77217692, -0.76021532, -0.74324324, ..., -0.5073804 ,\n         -0.41579623, -0.4206278 ],\n        [-0.76373333, -0.77323062, -0.76626757, ..., -0.52043693,\n         -0.51449028, -0.5112485 ],\n        ...,\n        [-0.11666667, -0.09243697, -0.11173184, ..., -0.06024096,\n         -0.04761905, -0.0989011 ],\n        [-0.10364146, -0.10510511, -0.12166172, ..., -0.07042254,\n          0.01234568, -0.11827957],\n        [-0.04411765, -0.03731343, -0.10422535, ..., -0.01333333,\n         -0.06329114, -0.0617284 ]]])\nCoordinates:\n  * time     (time) datetime64[ns] 2013-07-02\n  * y        (y) float64 3.883e+06 3.882e+06 3.882e+06 ... 3.869e+06 3.869e+06\n  * x        (x) float64 1.963e+06 1.963e+06 1.963e+06 ... 1.979e+06 1.979e+06",
     "output_type": "error",
     "traceback": [
      "\u001b[0;31m---------------------------------------------------------------------------\u001b[0m",
      "\u001b[0;31mTypeError\u001b[0m                                 Traceback (most recent call last)",
      "\u001b[0;32m<ipython-input-166-f7d09811d76a>\u001b[0m in \u001b[0;36m<module>\u001b[0;34m\u001b[0m\n\u001b[1;32m      1\u001b[0m \u001b[0;31m#df_zonal_stats = zonal_stats(shpFile, df, stat = \"mean\")\u001b[0m\u001b[0;34m\u001b[0m\u001b[0;34m\u001b[0m\u001b[0;34m\u001b[0m\u001b[0m\n\u001b[0;32m----> 2\u001b[0;31m \u001b[0mcreateData\u001b[0m \u001b[0;34m=\u001b[0m \u001b[0mzonal_stats\u001b[0m\u001b[0;34m(\u001b[0m\u001b[0mshpFile\u001b[0m\u001b[0;34m,\u001b[0m \u001b[0mndbi_base\u001b[0m\u001b[0;34m,\u001b[0m \u001b[0mstats\u001b[0m\u001b[0;34m=\u001b[0m \u001b[0;34m'mean std count min'\u001b[0m\u001b[0;34m,\u001b[0m \u001b[0maffine\u001b[0m\u001b[0;34m=\u001b[0m\u001b[0;34m'affine'\u001b[0m\u001b[0;34m,\u001b[0m \u001b[0mgeojson_out\u001b[0m\u001b[0;34m=\u001b[0m\u001b[0;32mTrue\u001b[0m\u001b[0;34m)\u001b[0m\u001b[0;34m\u001b[0m\u001b[0;34m\u001b[0m\u001b[0m\n\u001b[0m\u001b[1;32m      3\u001b[0m     \u001b[0;31m#zonal_stats(\"polygons.shp\", \"elevation.tif\",\u001b[0m\u001b[0;34m\u001b[0m\u001b[0;34m\u001b[0m\u001b[0;34m\u001b[0m\u001b[0m\n\u001b[1;32m      4\u001b[0m      \u001b[0;31m#       stats=\"count min mean max median\")\u001b[0m\u001b[0;34m\u001b[0m\u001b[0;34m\u001b[0m\u001b[0;34m\u001b[0m\u001b[0m\n",
      "\u001b[0;32m/opt/conda/envs/cubeenv/lib/python3.6/site-packages/rasterstats/main.py\u001b[0m in \u001b[0;36mzonal_stats\u001b[0;34m(*args, **kwargs)\u001b[0m\n\u001b[1;32m     29\u001b[0m     \u001b[0mThe\u001b[0m \u001b[0monly\u001b[0m \u001b[0mdifference\u001b[0m \u001b[0;32mis\u001b[0m \u001b[0mthat\u001b[0m\u001b[0;31m \u001b[0m\u001b[0;31m`\u001b[0m\u001b[0;31m`\u001b[0m\u001b[0mzonal_stats\u001b[0m\u001b[0;31m`\u001b[0m\u001b[0;31m`\u001b[0m \u001b[0mwill\u001b[0m\u001b[0;34m\u001b[0m\u001b[0;34m\u001b[0m\u001b[0m\n\u001b[1;32m     30\u001b[0m     return a list rather than a generator.\"\"\"\n\u001b[0;32m---> 31\u001b[0;31m     \u001b[0;32mreturn\u001b[0m \u001b[0mlist\u001b[0m\u001b[0;34m(\u001b[0m\u001b[0mgen_zonal_stats\u001b[0m\u001b[0;34m(\u001b[0m\u001b[0;34m*\u001b[0m\u001b[0margs\u001b[0m\u001b[0;34m,\u001b[0m \u001b[0;34m**\u001b[0m\u001b[0mkwargs\u001b[0m\u001b[0;34m)\u001b[0m\u001b[0;34m)\u001b[0m\u001b[0;34m\u001b[0m\u001b[0;34m\u001b[0m\u001b[0m\n\u001b[0m\u001b[1;32m     32\u001b[0m \u001b[0;34m\u001b[0m\u001b[0m\n\u001b[1;32m     33\u001b[0m \u001b[0;34m\u001b[0m\u001b[0m\n",
      "\u001b[0;32m/opt/conda/envs/cubeenv/lib/python3.6/site-packages/rasterstats/main.py\u001b[0m in \u001b[0;36mgen_zonal_stats\u001b[0;34m(vectors, raster, layer, band, nodata, affine, stats, all_touched, categorical, category_map, add_stats, zone_func, raster_out, prefix, geojson_out, **kwargs)\u001b[0m\n\u001b[1;32m    144\u001b[0m         \u001b[0mband\u001b[0m \u001b[0;34m=\u001b[0m \u001b[0mband_num\u001b[0m\u001b[0;34m\u001b[0m\u001b[0;34m\u001b[0m\u001b[0m\n\u001b[1;32m    145\u001b[0m \u001b[0;34m\u001b[0m\u001b[0m\n\u001b[0;32m--> 146\u001b[0;31m     \u001b[0;32mwith\u001b[0m \u001b[0mRaster\u001b[0m\u001b[0;34m(\u001b[0m\u001b[0mraster\u001b[0m\u001b[0;34m,\u001b[0m \u001b[0maffine\u001b[0m\u001b[0;34m,\u001b[0m \u001b[0mnodata\u001b[0m\u001b[0;34m,\u001b[0m \u001b[0mband\u001b[0m\u001b[0;34m)\u001b[0m \u001b[0;32mas\u001b[0m \u001b[0mrast\u001b[0m\u001b[0;34m:\u001b[0m\u001b[0;34m\u001b[0m\u001b[0;34m\u001b[0m\u001b[0m\n\u001b[0m\u001b[1;32m    147\u001b[0m         \u001b[0mfeatures_iter\u001b[0m \u001b[0;34m=\u001b[0m \u001b[0mread_features\u001b[0m\u001b[0;34m(\u001b[0m\u001b[0mvectors\u001b[0m\u001b[0;34m,\u001b[0m \u001b[0mlayer\u001b[0m\u001b[0;34m)\u001b[0m\u001b[0;34m\u001b[0m\u001b[0;34m\u001b[0m\u001b[0m\n\u001b[1;32m    148\u001b[0m         \u001b[0;32mfor\u001b[0m \u001b[0m_\u001b[0m\u001b[0;34m,\u001b[0m \u001b[0mfeat\u001b[0m \u001b[0;32min\u001b[0m \u001b[0menumerate\u001b[0m\u001b[0;34m(\u001b[0m\u001b[0mfeatures_iter\u001b[0m\u001b[0;34m)\u001b[0m\u001b[0;34m:\u001b[0m\u001b[0;34m\u001b[0m\u001b[0;34m\u001b[0m\u001b[0m\n",
      "\u001b[0;32m/opt/conda/envs/cubeenv/lib/python3.6/site-packages/rasterstats/io.py\u001b[0m in \u001b[0;36m__init__\u001b[0;34m(self, raster, affine, nodata, band)\u001b[0m\n\u001b[1;32m    246\u001b[0m             \u001b[0mself\u001b[0m\u001b[0;34m.\u001b[0m\u001b[0mnodata\u001b[0m \u001b[0;34m=\u001b[0m \u001b[0mnodata\u001b[0m\u001b[0;34m\u001b[0m\u001b[0;34m\u001b[0m\u001b[0m\n\u001b[1;32m    247\u001b[0m         \u001b[0;32melse\u001b[0m\u001b[0;34m:\u001b[0m\u001b[0;34m\u001b[0m\u001b[0;34m\u001b[0m\u001b[0m\n\u001b[0;32m--> 248\u001b[0;31m             \u001b[0mself\u001b[0m\u001b[0;34m.\u001b[0m\u001b[0msrc\u001b[0m \u001b[0;34m=\u001b[0m \u001b[0mrasterio\u001b[0m\u001b[0;34m.\u001b[0m\u001b[0mopen\u001b[0m\u001b[0;34m(\u001b[0m\u001b[0mraster\u001b[0m\u001b[0;34m,\u001b[0m \u001b[0;34m'r'\u001b[0m\u001b[0;34m)\u001b[0m\u001b[0;34m\u001b[0m\u001b[0;34m\u001b[0m\u001b[0m\n\u001b[0m\u001b[1;32m    249\u001b[0m             \u001b[0mself\u001b[0m\u001b[0;34m.\u001b[0m\u001b[0maffine\u001b[0m \u001b[0;34m=\u001b[0m \u001b[0mguard_transform\u001b[0m\u001b[0;34m(\u001b[0m\u001b[0mself\u001b[0m\u001b[0;34m.\u001b[0m\u001b[0msrc\u001b[0m\u001b[0;34m.\u001b[0m\u001b[0mtransform\u001b[0m\u001b[0;34m)\u001b[0m\u001b[0;34m\u001b[0m\u001b[0;34m\u001b[0m\u001b[0m\n\u001b[1;32m    250\u001b[0m             \u001b[0mself\u001b[0m\u001b[0;34m.\u001b[0m\u001b[0mshape\u001b[0m \u001b[0;34m=\u001b[0m \u001b[0;34m(\u001b[0m\u001b[0mself\u001b[0m\u001b[0;34m.\u001b[0m\u001b[0msrc\u001b[0m\u001b[0;34m.\u001b[0m\u001b[0mheight\u001b[0m\u001b[0;34m,\u001b[0m \u001b[0mself\u001b[0m\u001b[0;34m.\u001b[0m\u001b[0msrc\u001b[0m\u001b[0;34m.\u001b[0m\u001b[0mwidth\u001b[0m\u001b[0;34m)\u001b[0m\u001b[0;34m\u001b[0m\u001b[0;34m\u001b[0m\u001b[0m\n",
      "\u001b[0;32m/opt/conda/envs/cubeenv/lib/python3.6/site-packages/rasterio/env.py\u001b[0m in \u001b[0;36mwrapper\u001b[0;34m(*args, **kwds)\u001b[0m\n\u001b[1;32m    432\u001b[0m \u001b[0;34m\u001b[0m\u001b[0m\n\u001b[1;32m    433\u001b[0m         \u001b[0;32mwith\u001b[0m \u001b[0menv_ctor\u001b[0m\u001b[0;34m(\u001b[0m\u001b[0msession\u001b[0m\u001b[0;34m=\u001b[0m\u001b[0msession\u001b[0m\u001b[0;34m)\u001b[0m\u001b[0;34m:\u001b[0m\u001b[0;34m\u001b[0m\u001b[0;34m\u001b[0m\u001b[0m\n\u001b[0;32m--> 434\u001b[0;31m             \u001b[0;32mreturn\u001b[0m \u001b[0mf\u001b[0m\u001b[0;34m(\u001b[0m\u001b[0;34m*\u001b[0m\u001b[0margs\u001b[0m\u001b[0;34m,\u001b[0m \u001b[0;34m**\u001b[0m\u001b[0mkwds\u001b[0m\u001b[0;34m)\u001b[0m\u001b[0;34m\u001b[0m\u001b[0;34m\u001b[0m\u001b[0m\n\u001b[0m\u001b[1;32m    435\u001b[0m \u001b[0;34m\u001b[0m\u001b[0m\n\u001b[1;32m    436\u001b[0m     \u001b[0;32mreturn\u001b[0m \u001b[0mwrapper\u001b[0m\u001b[0;34m\u001b[0m\u001b[0;34m\u001b[0m\u001b[0m\n",
      "\u001b[0;32m/opt/conda/envs/cubeenv/lib/python3.6/site-packages/rasterio/__init__.py\u001b[0m in \u001b[0;36mopen\u001b[0;34m(fp, mode, driver, width, height, count, crs, transform, dtype, nodata, sharing, **kwargs)\u001b[0m\n\u001b[1;32m    154\u001b[0m     \u001b[0;32mif\u001b[0m \u001b[0;32mnot\u001b[0m \u001b[0misinstance\u001b[0m\u001b[0;34m(\u001b[0m\u001b[0mfp\u001b[0m\u001b[0;34m,\u001b[0m \u001b[0mstring_types\u001b[0m\u001b[0;34m)\u001b[0m\u001b[0;34m:\u001b[0m\u001b[0;34m\u001b[0m\u001b[0;34m\u001b[0m\u001b[0m\n\u001b[1;32m    155\u001b[0m         \u001b[0;32mif\u001b[0m \u001b[0;32mnot\u001b[0m \u001b[0;34m(\u001b[0m\u001b[0mhasattr\u001b[0m\u001b[0;34m(\u001b[0m\u001b[0mfp\u001b[0m\u001b[0;34m,\u001b[0m \u001b[0;34m'read'\u001b[0m\u001b[0;34m)\u001b[0m \u001b[0;32mor\u001b[0m \u001b[0mhasattr\u001b[0m\u001b[0;34m(\u001b[0m\u001b[0mfp\u001b[0m\u001b[0;34m,\u001b[0m \u001b[0;34m'write'\u001b[0m\u001b[0;34m)\u001b[0m \u001b[0;32mor\u001b[0m \u001b[0misinstance\u001b[0m\u001b[0;34m(\u001b[0m\u001b[0mfp\u001b[0m\u001b[0;34m,\u001b[0m \u001b[0mPath\u001b[0m\u001b[0;34m)\u001b[0m\u001b[0;34m)\u001b[0m\u001b[0;34m:\u001b[0m\u001b[0;34m\u001b[0m\u001b[0;34m\u001b[0m\u001b[0m\n\u001b[0;32m--> 156\u001b[0;31m             \u001b[0;32mraise\u001b[0m \u001b[0mTypeError\u001b[0m\u001b[0;34m(\u001b[0m\u001b[0;34m\"invalid path or file: {0!r}\"\u001b[0m\u001b[0;34m.\u001b[0m\u001b[0mformat\u001b[0m\u001b[0;34m(\u001b[0m\u001b[0mfp\u001b[0m\u001b[0;34m)\u001b[0m\u001b[0;34m)\u001b[0m\u001b[0;34m\u001b[0m\u001b[0;34m\u001b[0m\u001b[0m\n\u001b[0m\u001b[1;32m    157\u001b[0m     \u001b[0;32mif\u001b[0m \u001b[0mmode\u001b[0m \u001b[0;32mand\u001b[0m \u001b[0;32mnot\u001b[0m \u001b[0misinstance\u001b[0m\u001b[0;34m(\u001b[0m\u001b[0mmode\u001b[0m\u001b[0;34m,\u001b[0m \u001b[0mstring_types\u001b[0m\u001b[0;34m)\u001b[0m\u001b[0;34m:\u001b[0m\u001b[0;34m\u001b[0m\u001b[0;34m\u001b[0m\u001b[0m\n\u001b[1;32m    158\u001b[0m         \u001b[0;32mraise\u001b[0m \u001b[0mTypeError\u001b[0m\u001b[0;34m(\u001b[0m\u001b[0;34m\"invalid mode: {0!r}\"\u001b[0m\u001b[0;34m.\u001b[0m\u001b[0mformat\u001b[0m\u001b[0;34m(\u001b[0m\u001b[0mmode\u001b[0m\u001b[0;34m)\u001b[0m\u001b[0;34m)\u001b[0m\u001b[0;34m\u001b[0m\u001b[0;34m\u001b[0m\u001b[0m\n",
      "\u001b[0;31mTypeError\u001b[0m: invalid path or file: <xarray.DataArray (time: 1, y: 456, x: 543)>\narray([[[-0.76384288, -0.74727669, -0.72643739, ..., -0.46133333,\n         -0.41036977, -0.28922306],\n        [-0.77217692, -0.76021532, -0.74324324, ..., -0.5073804 ,\n         -0.41579623, -0.4206278 ],\n        [-0.76373333, -0.77323062, -0.76626757, ..., -0.52043693,\n         -0.51449028, -0.5112485 ],\n        ...,\n        [-0.11666667, -0.09243697, -0.11173184, ..., -0.06024096,\n         -0.04761905, -0.0989011 ],\n        [-0.10364146, -0.10510511, -0.12166172, ..., -0.07042254,\n          0.01234568, -0.11827957],\n        [-0.04411765, -0.03731343, -0.10422535, ..., -0.01333333,\n         -0.06329114, -0.0617284 ]]])\nCoordinates:\n  * time     (time) datetime64[ns] 2013-07-02\n  * y        (y) float64 3.883e+06 3.882e+06 3.882e+06 ... 3.869e+06 3.869e+06\n  * x        (x) float64 1.963e+06 1.963e+06 1.963e+06 ... 1.979e+06 1.979e+06"
     ]
    }
   ],
   "source": [
    "#df_zonal_stats = zonal_stats(shpFile, df, stat = \"mean\")\n",
    "createData = zonal_stats(shpFile, ndbi_base, stats= 'mean std count min', affine='affine', geojson_out=True)\n",
    "    #zonal_stats(\"polygons.shp\", \"elevation.tif\",\n",
    "     #       stats=\"count min mean max median\")"
   ]
  },
  {
   "cell_type": "code",
   "execution_count": null,
   "metadata": {},
   "outputs": [],
   "source": [
    "gdf2 = pd.concat([shpFile, df_zonal_stats], axis=1) "
   ]
  },
  {
   "cell_type": "code",
   "execution_count": 33,
   "metadata": {},
   "outputs": [
    {
     "ename": "NameError",
     "evalue": "name 'analysis_ds' is not defined",
     "output_type": "error",
     "traceback": [
      "\u001b[0;31m---------------------------------------------------------------------------\u001b[0m",
      "\u001b[0;31mNameError\u001b[0m                                 Traceback (most recent call last)",
      "\u001b[0;32m<ipython-input-33-0632dfb2bb12>\u001b[0m in \u001b[0;36m<module>\u001b[0;34m\u001b[0m\n\u001b[0;32m----> 1\u001b[0;31m if is_dataset_empty(analysis_ds): raise Exception(\"DataCube Load returned an empty Dataset.\" +  \n\u001b[0m\u001b[1;32m      2\u001b[0m                                                \"Please check load parameters for Analysis Dataset!\")\n",
      "\u001b[0;31mNameError\u001b[0m: name 'analysis_ds' is not defined"
     ]
    }
   ],
   "source": [
    "if is_dataset_empty(analysis_ds): raise Exception(\"DataCube Load returned an empty Dataset.\" +  \n",
    "                                               \"Please check load parameters for Analysis Dataset!\")"
   ]
  },
  {
   "cell_type": "code",
   "execution_count": null,
   "metadata": {},
   "outputs": [],
   "source": [
    "print('broken')"
   ]
  },
  {
   "cell_type": "markdown",
   "metadata": {},
   "source": [
    "> #### Clean Data\n",
    "> Generating boolean masks that highlight valid pixels\n",
    "> Pixels must be cloud-free over land or water to be considered"
   ]
  },
  {
   "cell_type": "code",
   "execution_count": null,
   "metadata": {},
   "outputs": [],
   "source": [
    "def look_up_clean(platform, ds):\n",
    "    if platform  in [\"SENTINEL_2\"]:\n",
    "        good_quality = (\n",
    "            (ds.scene_classification == 4) | # clear\n",
    "            (ds.scene_classification == 5) | \n",
    "            (ds.scene_classification == 7) | \n",
    "            (ds.scene_classification == 2) | \n",
    "            (ds.scene_classification == 6)  #water\n",
    "        )\n",
    "    elif platform in [\"LANDSAT_8\"]:  \n",
    "        good_quality = (\n",
    "            (ds.pixel_qa == 322)  | # clear\n",
    "            (ds.pixel_qa == 386)  |\n",
    "            (ds.pixel_qa == 834)  |\n",
    "            (ds.pixel_qa == 898)  |\n",
    "            (ds.pixel_qa == 1346) |\n",
    "            (ds.pixel_qa == 324)  | # water\n",
    "            (ds.pixel_qa == 388)  |\n",
    "            (ds.pixel_qa == 836)  |\n",
    "            (ds.pixel_qa == 900)  |\n",
    "            (ds.pixel_qa == 1348)\n",
    "        )\n",
    "    elif platform in [\"LANDSAT_7\", \"LANDSAT_5\", \"LANDSAT_4\"]:    \n",
    "        good_quality = (\n",
    "            (ds.pixel_qa == 66)  | # clear\n",
    "            (ds.pixel_qa == 130) |\n",
    "            (ds.pixel_qa == 68)  | # water\n",
    "            (ds.pixel_qa == 132)  \n",
    "        )\n",
    "    else:\n",
    "        print(\"invalid platform\")\n",
    "    return good_quality"
   ]
  },
  {
   "cell_type": "code",
   "execution_count": null,
   "metadata": {},
   "outputs": [],
   "source": [
    "baseline_clean_mask = look_up_clean(platform_base, baseline_ds)\n",
    "analysis_clean_mask = look_up_clean(platform_analysis, analysis_ds)"
   ]
  },
  {
   "cell_type": "code",
   "execution_count": null,
   "metadata": {},
   "outputs": [],
   "source": [
    "#baseline_ds = baseline_ds.where(baseline_clean_mask)\n",
    "#analysis_ds = analysis_ds.where(analysis_clean_mask)"
   ]
  },
  {
   "cell_type": "code",
   "execution_count": null,
   "metadata": {},
   "outputs": [],
   "source": [
    "xx_data_b = baseline_ds[allmeasurements]\n",
    "xx_data_a = analysis_ds[allmeasurements]"
   ]
  },
  {
   "cell_type": "code",
   "execution_count": null,
   "metadata": {},
   "outputs": [],
   "source": [
    "\n",
    "xx_clean_b = odc.algo.keep_good_only(xx_data_b, where=baseline_clean_mask)"
   ]
  },
  {
   "cell_type": "code",
   "execution_count": null,
   "metadata": {},
   "outputs": [],
   "source": [
    "xx_clean_a = odc.algo.keep_good_only(xx_data_a, where=analysis_clean_mask)"
   ]
  },
  {
   "cell_type": "code",
   "execution_count": null,
   "metadata": {},
   "outputs": [],
   "source": [
    "scale, offset = (1/10_000, 0)  # differs per product, aim for 0-1 values in float32\n",
    "xx_clean_b_32 = to_f32(xx_clean_b, scale=scale, offset=offset)\n",
    "yy_b = xr_geomedian(xx_clean_b_32, \n",
    "                  num_threads=1,  # disable internal threading, dask will run several concurrently\n",
    "                  eps=0.2*scale,  # 1/5 pixel value resolution\n",
    "                  nocheck=True)   # disable some checks inside geomedian library that use too much ram\n",
    "\n",
    "baseline_composite = from_float(yy_b, \n",
    "                dtype='int16', \n",
    "                nodata=-9999, \n",
    "                scale=1/scale, \n",
    "                offset=-offset/scale)"
   ]
  },
  {
   "cell_type": "code",
   "execution_count": null,
   "metadata": {},
   "outputs": [],
   "source": [
    "#scale, offset = (1/10_000, 0)  # differs per product, aim for 0-1 values in float32\n",
    "xx_clean_a_32 = to_f32(xx_clean_a, scale=scale, offset=offset)\n",
    "yy_a = xr_geomedian(xx_clean_a_32, \n",
    "                  num_threads=1,  # disable internal threading, dask will run several concurrently\n",
    "                  eps=0.2*scale,  # 1/5 pixel value resolution\n",
    "                  nocheck=True)   # disable some checks inside geomedian library that use too much ram\n",
    "\n",
    "analysis_composite = from_float(yy_a, \n",
    "                dtype='int16', \n",
    "                nodata=-9999, \n",
    "                scale=1/scale, \n",
    "                offset=-offset/scale)"
   ]
  },
  {
   "cell_type": "markdown",
   "metadata": {},
   "source": [
    ">#### Mosaic\n",
    "> Use clean masks in a time series composite"
   ]
  },
  {
   "cell_type": "markdown",
   "metadata": {},
   "source": [
    "## Mask Water New"
   ]
  },
  {
   "cell_type": "code",
   "execution_count": null,
   "metadata": {},
   "outputs": [],
   "source": [
    "#when S2 mask is ready - can remove the if statement. \n",
    "if platform_base in [\"LANDSAT_8\", \"LANDSAT_7\", \"LANDSAT_5\", \"LANDSAT_4\"]:   \n",
    "    water_scenes_base = dc.load(product=baseline_water_product,\n",
    "            measurements = [\"water_classification\"],\n",
    "            time = baseline_time_period,\n",
    "            platform = platform_base, \n",
    "            crs = crs,\n",
    "               **query)\n",
    "    #change clouds to no data value\n",
    "    water_classes_base = water_scenes_base.where(water_scenes_base >= 0)\n",
    "elif platform_base in [\"SENTINEL_2\"]:\n",
    "    water_classes_base = dask.delayed(wofs_classify)(baseline_ds, clean_mask=baseline_clean_mask.values , no_data = np.nan , x_coord='x', y_coord = \"y\")\n",
    "    water_classes_base = dask.delayed(water_classes_base.rename({'wofs': 'water_classification'}))\n",
    "               "
   ]
  },
  {
   "cell_type": "code",
   "execution_count": null,
   "metadata": {},
   "outputs": [],
   "source": [
    "#when S2 mask is ready - can remove the if statement. \n",
    "if platform_analysis in [\"LANDSAT_8\", \"LANDSAT_7\", \"LANDSAT_5\", \"LANDSAT_4\"]:   \n",
    "    water_scenes_analysis = dc.load(product=analysis_water_product,\n",
    "            measurements = [\"water_classification\"],\n",
    "            time = analysis_time_period,\n",
    "            platform = platform_analysis,  \n",
    "            crs = crs,\n",
    "               **query)\n",
    "    #change clouds to no data value\n",
    "    water_classes_analysis = water_scenes_analysis.where(water_scenes_analysis >= 0)\n",
    "elif platform_analysis in [\"SENTINEL_2\"]:\n",
    "    water_classes_analysis = dask.delayed(wofs_classify)(analysis_ds, clean_mask=analysis_clean_mask.values , no_data = np.nan , x_coord='x', y_coord = \"y\")\n",
    "    water_classes_analysis = dask.delayed(water_classes_analysis.rename({'wofs': 'water_classification'}))\n",
    "               "
   ]
  },
  {
   "cell_type": "markdown",
   "metadata": {},
   "source": [
    "## mask water\n"
   ]
  },
  {
   "cell_type": "code",
   "execution_count": 36,
   "metadata": {},
   "outputs": [],
   "source": [
    "water_composite_base = water_classes_base.water_classification.mean(dim='time')\n"
   ]
  },
  {
   "cell_type": "code",
   "execution_count": 37,
   "metadata": {},
   "outputs": [],
   "source": [
    "water_composite_analysis = water_classes_analysis.water_classification.mean(dim='time')"
   ]
  },
  {
   "cell_type": "code",
   "execution_count": 38,
   "metadata": {},
   "outputs": [],
   "source": [
    "baseline_composite = baseline_composite.rename({\"y\": \"latitude\", \"x\":\"longitude\"})\n",
    "analysis_composite = analysis_composite.rename({\"y\": \"latitude\", \"x\":\"longitude\"})"
   ]
  },
  {
   "cell_type": "markdown",
   "metadata": {},
   "source": [
    ">## Plot a spectral index using the cloud-filtered mosaic"
   ]
  },
  {
   "cell_type": "markdown",
   "metadata": {},
   "source": [
    "# Spectral Parameter Anomaly"
   ]
  },
  {
   "cell_type": "code",
   "execution_count": 39,
   "metadata": {},
   "outputs": [],
   "source": [
    "def createparametercomposite(indices, ds):\n",
    "    '''Return the baseline_threshold_range based on indicies input.\n",
    "    '''\n",
    "    if indices in ['FC']:\n",
    "        parameter_composite = frac_coverage_classify(ds, no_data = np.nan) \n",
    "    else:\n",
    "        print('invalid indices')\n",
    "    return parameter_composite"
   ]
  },
  {
   "cell_type": "code",
   "execution_count": 40,
   "metadata": {},
   "outputs": [],
   "source": [
    "indices = 'FC'"
   ]
  },
  {
   "cell_type": "code",
   "execution_count": 41,
   "metadata": {},
   "outputs": [],
   "source": [
    "parameter_baseline_composite = dask.delayed(createparametercomposite)(indices, baseline_composite)\n",
    "parameter_analysis_composite = dask.delayed(createparametercomposite)(indices, analysis_composite)"
   ]
  },
  {
   "cell_type": "markdown",
   "metadata": {},
   "source": [
    "## Apply water mask\n"
   ]
  },
  {
   "cell_type": "code",
   "execution_count": 42,
   "metadata": {},
   "outputs": [],
   "source": [
    "frac_cov_baseline = parameter_baseline_composite.where(water_composite_base.values <= 0.4).where(parameter_baseline_composite !=-9999)"
   ]
  },
  {
   "cell_type": "code",
   "execution_count": 43,
   "metadata": {},
   "outputs": [],
   "source": [
    "frac_cov_analysis = parameter_analysis_composite.where(water_composite_analysis.values <= 0.4).where(parameter_analysis_composite !=-9999)"
   ]
  },
  {
   "cell_type": "code",
   "execution_count": 44,
   "metadata": {},
   "outputs": [],
   "source": [
    "#parameter_anomaly = parameter_analysis_composite - parameter_baseline_composite\n",
    "parameter_anomaly = frac_cov_analysis - frac_cov_baseline"
   ]
  },
  {
   "cell_type": "code",
   "execution_count": 45,
   "metadata": {},
   "outputs": [
    {
     "name": "stdout",
     "output_type": "stream",
     "text": [
      "CPU times: user 26 s, sys: 7.31 s, total: 33.3 s\n",
      "Wall time: 36.4 s\n"
     ]
    }
   ],
   "source": [
    "%%time\n",
    "parameter_anomaly_output = parameter_anomaly.compute()"
   ]
  },
  {
   "cell_type": "markdown",
   "metadata": {},
   "source": [
    "# Export Product"
   ]
  },
  {
   "cell_type": "code",
   "execution_count": 46,
   "metadata": {},
   "outputs": [],
   "source": [
    "bs_output = parameter_anomaly_output.bs\n",
    "pv_output = parameter_anomaly_output.pv\n",
    "npv_output = parameter_anomaly_output.npv"
   ]
  },
  {
   "cell_type": "code",
   "execution_count": 47,
   "metadata": {},
   "outputs": [],
   "source": [
    "write_geotiff_from_xr('land_change.tiff', parameter_anomaly_output, crs=output_projection, x_coord = 'longitude', y_coord = 'latitude')"
   ]
  },
  {
   "cell_type": "code",
   "execution_count": 48,
   "metadata": {},
   "outputs": [],
   "source": [
    "write_geotiff_from_xr('bs_change.tiff', bs_output, crs=output_projection, x_coord = 'longitude', y_coord = 'latitude')\n",
    "write_geotiff_from_xr('pv_change.tiff', pv_output, crs=output_projection, x_coord = 'longitude', y_coord = 'latitude')\n",
    "write_geotiff_from_xr('npv_change.tiff', npv_output, crs=output_projection, x_coord = 'longitude', y_coord = 'latitude')"
   ]
  },
  {
   "cell_type": "code",
   "execution_count": null,
   "metadata": {},
   "outputs": [],
   "source": []
  },
  {
   "cell_type": "code",
   "execution_count": null,
   "metadata": {},
   "outputs": [],
   "source": []
  },
  {
   "cell_type": "code",
   "execution_count": null,
   "metadata": {},
   "outputs": [],
   "source": []
  }
 ],
 "metadata": {
  "kernelspec": {
   "display_name": "Python [conda env:cubeenv]",
   "language": "python",
   "name": "conda-env-cubeenv-py"
  },
  "language_info": {
   "codemirror_mode": {
    "name": "ipython",
    "version": 3
   },
   "file_extension": ".py",
   "mimetype": "text/x-python",
   "name": "python",
   "nbconvert_exporter": "python",
   "pygments_lexer": "ipython3",
   "version": "3.6.10"
  },
  "widgets": {
   "application/vnd.jupyter.widget-state+json": {
    "state": {},
    "version_major": 2,
    "version_minor": 0
   }
  }
 },
 "nbformat": 4,
 "nbformat_minor": 2
}
