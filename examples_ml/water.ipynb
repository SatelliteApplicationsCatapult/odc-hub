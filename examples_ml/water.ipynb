{
 "cells": [
  {
   "cell_type": "code",
   "execution_count": 105,
   "metadata": {},
   "outputs": [
    {
     "name": "stdout",
     "output_type": "stream",
     "text": [
      "The autoreload extension is already loaded. To reload it, use:\n",
      "  %reload_ext autoreload\n"
     ]
    },
    {
     "data": {
      "text/html": [
       "<table style=\"border: 2px solid white;\">\n",
       "<tr>\n",
       "<td style=\"vertical-align: top; border: 0px solid white\">\n",
       "<h3>Client</h3>\n",
       "<ul>\n",
       "  <li><b>Scheduler: </b>tcp://dask-scheduler.dask.svc.cluster.local:8786\n",
       "  <li><b>Dashboard: </b><a href='http://dask-scheduler.dask.svc.cluster.local:8787/status' target='_blank'>http://dask-scheduler.dask.svc.cluster.local:8787/status</a>\n",
       "</ul>\n",
       "</td>\n",
       "<td style=\"vertical-align: top; border: 0px solid white\">\n",
       "<h3>Cluster</h3>\n",
       "<ul>\n",
       "  <li><b>Workers: </b>5</li>\n",
       "  <li><b>Cores: </b>40</li>\n",
       "  <li><b>Memory: </b>168.65 GB</li>\n",
       "</ul>\n",
       "</td>\n",
       "</tr>\n",
       "</table>"
      ],
      "text/plain": [
       "<Client: scheduler='tcp://10.244.4.62:8786' processes=5 cores=40>"
      ]
     },
     "execution_count": 105,
     "metadata": {},
     "output_type": "execute_result"
    }
   ],
   "source": [
    "# Magic + imports likely common across all notebooks\n",
    "%load_ext autoreload\n",
    "%autoreload 2\n",
    "%matplotlib inline\n",
    "# Supress Warning \n",
    "import warnings\n",
    "warnings.filterwarnings('ignore')\n",
    "# Set reference for util modules\n",
    "import sys\n",
    "sys.path.append('/home/jovyan/odc-hub/')\n",
    "# Generic python\n",
    "import matplotlib.pyplot as plt\n",
    "import numpy as np\n",
    "import xarray as xr \n",
    "from datetime import datetime\n",
    "\n",
    "# sac-specific\n",
    "from sac_utils.createAOI import create_lat_lon\n",
    "\n",
    "# dc-specific\n",
    "from datacube import Datacube\n",
    "from datacube.storage.masking import mask_invalid_data\n",
    "dc = Datacube()\n",
    "\n",
    "# dask stuff\n",
    "import dask.array\n",
    "import dask\n",
    "from dask.distributed import Client\n",
    "client = Client('dask-scheduler.dask.svc.cluster.local:8786')\n",
    "client"
   ]
  },
  {
   "cell_type": "markdown",
   "metadata": {},
   "source": [
    "## **Summary**\n",
    "- (1) create T1-1m water mask & prep T1 image\n",
    "    - load available T1-1m water masks (naturally L8 for now)\n",
    "    - load T1 dataset (L8 for now too)\n",
    "    - apply T1 dataset clearsky mask\n",
    "- (2) check class distributions of T1 image w/ T1-1m water mask\n",
    "- (3) train classifier on T1 image w/ T1-1m water mask\n",
    "- (4) run classifier on full T1 image\n",
    "- (5) export results & underlying image + masks"
   ]
  },
  {
   "cell_type": "markdown",
   "metadata": {},
   "source": [
    "## (1) create T1-1m water mask & prep T1 image"
   ]
  },
  {
   "cell_type": "markdown",
   "metadata": {},
   "source": [
    "set consistent dc query params"
   ]
  },
  {
   "cell_type": "code",
   "execution_count": 115,
   "metadata": {},
   "outputs": [],
   "source": [
    "# arbitrary time period of month. Will use most recent image for inference\n",
    "time_start = ('2018-1-1')\n",
    "time_end = ('2018-4-1')\n",
    "# arbitrary small-ish aoi (over suva)\n",
    "aoi_wkt = \"POLYGON((178.5084149387392 -18.103042187047517,178.54017229347554 -18.103042187047517,178.54017229347554 -18.12392593522968,178.5084149387392 -18.12392593522968,178.5084149387392 -18.103042187047517))\"\n",
    "# resulution chosen for speed\n",
    "res = 30\n",
    "\n",
    "output_crs = \"EPSG:32760\"\n",
    "latitude, longitude = create_lat_lon(aoi_wkt)\n",
    "# latitude = (-18.2962, -17.2867)\n",
    "# longitude = (177.1594, 178.7222)\n",
    "resolution = (-res, res)\n",
    "def createDate(inputDate):\n",
    "    outputDate = datetime.strptime(inputDate, '%Y-%m-%d')\n",
    "    outputDates = outputDate.date()\n",
    "    return outputDates\n",
    "dateStart = createDate(time_start)\n",
    "dateEnd = createDate(time_end)\n",
    "time_extents = (dateStart, dateEnd)"
   ]
  },
  {
   "cell_type": "markdown",
   "metadata": {},
   "source": [
    "### load available T1-1m water masks \n",
    "- (naturally L8 for now)"
   ]
  },
  {
   "cell_type": "markdown",
   "metadata": {},
   "source": [
    "load T1-1m water masks"
   ]
  },
  {
   "cell_type": "code",
   "execution_count": 116,
   "metadata": {},
   "outputs": [],
   "source": [
    "# dc.find_datasets(\n",
    "#     product=product,\n",
    "#     time=time_extents,\n",
    "#     lat=latitude,\n",
    "#     lon=longitude,\n",
    "#     output_crs=output_crs,\n",
    "#     resolution=resolution,\n",
    "#     measurements = measurements\n",
    "# )"
   ]
  },
  {
   "cell_type": "code",
   "execution_count": 174,
   "metadata": {},
   "outputs": [
    {
     "data": {
      "text/plain": [
       "<xarray.Dataset>\n",
       "Dimensions:  (time: 12, x: 113, y: 79)\n",
       "Coordinates:\n",
       "  * time     (time) datetime64[ns] 2018-01-03T22:00:35 ... 2018-03-31T22:06:04\n",
       "  * y        (y) float64 7.998e+06 7.998e+06 7.998e+06 ... 7.995e+06 7.995e+06\n",
       "  * x        (x) float64 6.596e+05 6.596e+05 6.597e+05 ... 6.629e+05 6.63e+05\n",
       "Data variables:\n",
       "    water    (time, y, x) int16 dask.array<shape=(12, 79, 113), chunksize=(1, 79, 113)>\n",
       "Attributes:\n",
       "    crs:      EPSG:32760"
      ]
     },
     "execution_count": 174,
     "metadata": {},
     "output_type": "execute_result"
    }
   ],
   "source": [
    "product = 'ls8_water_classification'\n",
    "measurements = ['water']\n",
    "\n",
    "water_dataset = dc.load(\n",
    "    product=product,\n",
    "    time=time_extents,\n",
    "    lat=latitude,\n",
    "    lon=longitude,\n",
    "    output_crs=output_crs,\n",
    "    resolution=resolution,\n",
    "    measurements = measurements,\n",
    "    group_by='solar_day',\n",
    "    dask_chunks={\n",
    "        #'time': 1,\n",
    "        'x': 1000,\n",
    "        'y': 1000,\n",
    "    }\n",
    ")\n",
    "water_dataset"
   ]
  },
  {
   "cell_type": "markdown",
   "metadata": {},
   "source": [
    "fully remove nodata pixels (can't just use ==-9999 due to potential nn averaging within dc.load() at res <native"
   ]
  },
  {
   "cell_type": "code",
   "execution_count": 175,
   "metadata": {},
   "outputs": [],
   "source": [
    "# Identify pixels with valid data\n",
    "good_quality = (\n",
    "    (water_dataset.water >= 0) # no data\n",
    ")\n",
    "# Apply mask\n",
    "water_dataset = water_dataset.where(good_quality)"
   ]
  },
  {
   "cell_type": "markdown",
   "metadata": {},
   "source": [
    "define computation of water summary product"
   ]
  },
  {
   "cell_type": "code",
   "execution_count": 176,
   "metadata": {},
   "outputs": [],
   "source": [
    "mean_dataset = water_dataset.water.mean(dim='time')"
   ]
  },
  {
   "cell_type": "markdown",
   "metadata": {},
   "source": [
    "apply computation to water masks dataset & plot"
   ]
  },
  {
   "cell_type": "code",
   "execution_count": 177,
   "metadata": {},
   "outputs": [
    {
     "name": "stdout",
     "output_type": "stream",
     "text": [
      "CPU times: user 150 ms, sys: 7.49 ms, total: 157 ms\n",
      "Wall time: 6.11 s\n"
     ]
    }
   ],
   "source": [
    "%%time\n",
    "mean_dataset = mean_dataset.compute()"
   ]
  },
  {
   "cell_type": "code",
   "execution_count": 121,
   "metadata": {},
   "outputs": [],
   "source": [
    "del water_dataset"
   ]
  },
  {
   "cell_type": "code",
   "execution_count": 287,
   "metadata": {},
   "outputs": [
    {
     "data": {
      "text/plain": [
       "<matplotlib.collections.QuadMesh at 0x7f8931f7af60>"
      ]
     },
     "execution_count": 287,
     "metadata": {},
     "output_type": "execute_result"
    },
    {
     "data": {
      "image/png": "[encoded data removed]",
      "text/plain": [
       "<Figure size 432x288 with 2 Axes>"
      ]
     },
     "metadata": {
      "needs_background": "light"
     },
     "output_type": "display_data"
    }
   ],
   "source": [
    "fig, ax = plt.subplots()\n",
    "# ax.imshow(mean_dataset)\n",
    "mean_dataset.plot(ax=ax)"
   ]
  },
  {
   "cell_type": "code",
   "execution_count": 179,
   "metadata": {},
   "outputs": [
    {
     "data": {
      "text/html": [
       "<table style=\"border: 2px solid white;\">\n",
       "<tr>\n",
       "<td style=\"vertical-align: top; border: 0px solid white\">\n",
       "<h3>Client</h3>\n",
       "<ul>\n",
       "  <li><b>Scheduler: </b>tcp://dask-scheduler.dask.svc.cluster.local:8786\n",
       "  <li><b>Dashboard: </b><a href='http://dask-scheduler.dask.svc.cluster.local:8787/status' target='_blank'>http://dask-scheduler.dask.svc.cluster.local:8787/status</a>\n",
       "</ul>\n",
       "</td>\n",
       "<td style=\"vertical-align: top; border: 0px solid white\">\n",
       "<h3>Cluster</h3>\n",
       "<ul>\n",
       "  <li><b>Workers: </b>5</li>\n",
       "  <li><b>Cores: </b>40</li>\n",
       "  <li><b>Memory: </b>168.65 GB</li>\n",
       "</ul>\n",
       "</td>\n",
       "</tr>\n",
       "</table>"
      ],
      "text/plain": [
       "<Client: scheduler='tcp://10.244.4.62:8786' processes=0 cores=0>"
      ]
     },
     "execution_count": 179,
     "metadata": {},
     "output_type": "execute_result"
    }
   ],
   "source": [
    "client.restart()"
   ]
  },
  {
   "cell_type": "markdown",
   "metadata": {},
   "source": [
    "create binary water mask based on summary product (based off likelihood of being persistent water bodies)"
   ]
  },
  {
   "cell_type": "code",
   "execution_count": 303,
   "metadata": {},
   "outputs": [],
   "source": [
    "waterpres_prob = 0.75\n",
    "water_nn = np.isnan(mean_dataset)\n",
    "y_init = mean_dataset.where((mean_dataset < waterpres_prob) | (water_nn == True), 1)\n",
    "y_init = y_init.where((y_init >= waterpres_prob) | (water_nn == True), 0)"
   ]
  },
  {
   "cell_type": "code",
   "execution_count": 304,
   "metadata": {},
   "outputs": [
    {
     "data": {
      "text/plain": [
       "<matplotlib.collections.QuadMesh at 0x7f89294fd320>"
      ]
     },
     "execution_count": 304,
     "metadata": {},
     "output_type": "execute_result"
    },
    {
     "data": {
      "image/png": "[encoded data removed]",
      "text/plain": [
       "<Figure size 432x288 with 2 Axes>"
      ]
     },
     "metadata": {
      "needs_background": "light"
     },
     "output_type": "display_data"
    }
   ],
   "source": [
    "fig, ax = plt.subplots()\n",
    "y_init.plot(ax=ax)"
   ]
  },
  {
   "cell_type": "markdown",
   "metadata": {},
   "source": [
    "### load available T1 image \n",
    "\n",
    "- (most recent, reasonably clear image within T1-1m water masks) \n",
    "- (naturally also L8 for now, so can use existing water mask as validation)"
   ]
  },
  {
   "cell_type": "markdown",
   "metadata": {},
   "source": [
    "load l8"
   ]
  },
  {
   "cell_type": "code",
   "execution_count": 294,
   "metadata": {},
   "outputs": [
    {
     "data": {
      "text/plain": [
       "<xarray.Dataset>\n",
       "Dimensions:   (time: 12, x: 113, y: 79)\n",
       "Coordinates:\n",
       "  * time      (time) datetime64[ns] 2018-01-03T22:00:35 ... 2018-03-31T22:06:04\n",
       "  * y         (y) float64 7.998e+06 7.998e+06 7.998e+06 ... 7.995e+06 7.995e+06\n",
       "  * x         (x) float64 6.596e+05 6.596e+05 6.597e+05 ... 6.629e+05 6.63e+05\n",
       "Data variables:\n",
       "    green     (time, y, x) int16 dask.array<shape=(12, 79, 113), chunksize=(1, 79, 113)>\n",
       "    red       (time, y, x) int16 dask.array<shape=(12, 79, 113), chunksize=(1, 79, 113)>\n",
       "    blue      (time, y, x) int16 dask.array<shape=(12, 79, 113), chunksize=(1, 79, 113)>\n",
       "    nir       (time, y, x) int16 dask.array<shape=(12, 79, 113), chunksize=(1, 79, 113)>\n",
       "    swir1     (time, y, x) int16 dask.array<shape=(12, 79, 113), chunksize=(1, 79, 113)>\n",
       "    swir2     (time, y, x) int16 dask.array<shape=(12, 79, 113), chunksize=(1, 79, 113)>\n",
       "    pixel_qa  (time, y, x) uint16 dask.array<shape=(12, 79, 113), chunksize=(1, 79, 113)>\n",
       "Attributes:\n",
       "    crs:      EPSG:32760"
      ]
     },
     "execution_count": 294,
     "metadata": {},
     "output_type": "execute_result"
    }
   ],
   "source": [
    "product = \"ls8_usgs_sr_scene\"\n",
    "measurements = [\"green\",\"red\",\"blue\",\"nir\",\"swir1\",\"swir2\", \"pixel_qa\"]\n",
    "\n",
    "landsat_dataset = dc.load(\n",
    "    product=product,\n",
    "    time=time_extents,\n",
    "    lat=latitude,\n",
    "    lon=longitude,\n",
    "    output_crs=output_crs,\n",
    "    resolution=resolution,\n",
    "    measurements = measurements,\n",
    "    group_by='solar_day',\n",
    "    dask_chunks={\n",
    "        #'time': 1,\n",
    "        'x': 1000,\n",
    "        'y': 1000,\n",
    "    }\n",
    ")\n",
    "landsat_dataset"
   ]
  },
  {
   "cell_type": "code",
   "execution_count": 264,
   "metadata": {},
   "outputs": [],
   "source": [
    "# ds = l8_dataset\n",
    "# for i,t in enumerate(ds.time.values):\n",
    "#     fig, ax = plt.subplots()\n",
    "#     ds.isel(time = i).red.plot(ax=ax);"
   ]
  },
  {
   "cell_type": "code",
   "execution_count": 295,
   "metadata": {},
   "outputs": [],
   "source": [
    "# Identify pixels with valid data\n",
    "good_quality = (\n",
    "    (landsat_dataset.pixel_qa == 322)  | # clear\n",
    "    (landsat_dataset.pixel_qa == 386)  |\n",
    "    (landsat_dataset.pixel_qa == 834)  |\n",
    "    (landsat_dataset.pixel_qa == 898)  |\n",
    "    (landsat_dataset.pixel_qa == 1346) |\n",
    "    (landsat_dataset.pixel_qa == 324)  | # water\n",
    "    (landsat_dataset.pixel_qa == 388)  |\n",
    "    (landsat_dataset.pixel_qa == 836)  |\n",
    "    (landsat_dataset.pixel_qa == 900)  |\n",
    "    (landsat_dataset.pixel_qa == 1348)\n",
    ")\n",
    "# Apply mask\n",
    "landsat_dataset = landsat_dataset.where(good_quality)"
   ]
  },
  {
   "cell_type": "code",
   "execution_count": 296,
   "metadata": {},
   "outputs": [],
   "source": [
    "img = landsat_dataset.isel(time = 5)"
   ]
  },
  {
   "cell_type": "code",
   "execution_count": 300,
   "metadata": {},
   "outputs": [
    {
     "data": {
      "text/plain": [
       "<matplotlib.collections.QuadMesh at 0x7f89289b9c88>"
      ]
     },
     "execution_count": 300,
     "metadata": {},
     "output_type": "execute_result"
    },
    {
     "data": {
      "image/png": "[encoded data removed]",
      "text/plain": [
       "<Figure size 432x288 with 2 Axes>"
      ]
     },
     "metadata": {
      "needs_background": "light"
     },
     "output_type": "display_data"
    }
   ],
   "source": [
    "img.red.plot()"
   ]
  },
  {
   "cell_type": "code",
   "execution_count": 312,
   "metadata": {},
   "outputs": [],
   "source": [
    "img_nn = np.isnan(img).red"
   ]
  },
  {
   "cell_type": "code",
   "execution_count": 311,
   "metadata": {},
   "outputs": [
    {
     "data": {
      "image/png": "[encoded data removed]",
      "text/plain": [
       "<Figure size 432x288 with 2 Axes>"
      ]
     },
     "metadata": {
      "needs_background": "light"
     },
     "output_type": "display_data"
    },
    {
     "data": {
      "image/png": "[encoded data removed]",
      "text/plain": [
       "<Figure size 432x288 with 2 Axes>"
      ]
     },
     "metadata": {
      "needs_background": "light"
     },
     "output_type": "display_data"
    },
    {
     "data": {
      "image/png": "[encoded data removed]",
      "text/plain": [
       "<Figure size 432x288 with 2 Axes>"
      ]
     },
     "metadata": {
      "needs_background": "light"
     },
     "output_type": "display_data"
    },
    {
     "data": {
      "image/png": "[encoded data removed]",
      "text/plain": [
       "<Figure size 432x288 with 2 Axes>"
      ]
     },
     "metadata": {
      "needs_background": "light"
     },
     "output_type": "display_data"
    },
    {
     "data": {
      "image/png": "[encoded data removed]",
      "text/plain": [
       "<Figure size 432x288 with 2 Axes>"
      ]
     },
     "metadata": {
      "needs_background": "light"
     },
     "output_type": "display_data"
    },
    {
     "data": {
      "image/png": "[encoded data removed]",
      "text/plain": [
       "<Figure size 432x288 with 2 Axes>"
      ]
     },
     "metadata": {
      "needs_background": "light"
     },
     "output_type": "display_data"
    },
    {
     "data": {
      "image/png": "[encoded data removed]",
      "text/plain": [
       "<Figure size 432x288 with 2 Axes>"
      ]
     },
     "metadata": {
      "needs_background": "light"
     },
     "output_type": "display_data"
    }
   ],
   "source": [
    "for m in measurements:\n",
    "    fig, ax = plt.subplots()\n",
    "    img_nn[m].plot(ax=ax)"
   ]
  },
  {
   "cell_type": "code",
   "execution_count": 351,
   "metadata": {},
   "outputs": [
    {
     "data": {
      "image/png": "[encoded data removed]",
      "text/plain": [
       "<Figure size 432x288 with 2 Axes>"
      ]
     },
     "metadata": {
      "needs_background": "light"
     },
     "output_type": "display_data"
    }
   ],
   "source": [
    "\n",
    "# merge masks for Xtrain Ytrain\n",
    "Ytrain_init = y_init.where((water_nn == False) | (img_nn == False))\n",
    "Ytrain_init.plot()\n",
    "Xtrain_init = img.where((water_nn == False) | (img_nn == False))\n",
    "\n",
    "# Xtrain = \n",
    "\n",
    "# pred & val\n"
   ]
  },
  {
   "cell_type": "code",
   "execution_count": 364,
   "metadata": {},
   "outputs": [
    {
     "data": {
      "text/plain": [
       "(array([0., 0., 0., ..., 0., 0., 0.]), (8138,))"
      ]
     },
     "execution_count": 364,
     "metadata": {},
     "output_type": "execute_result"
    }
   ],
   "source": [
    "Ytrain = Ytrain_init.values.flatten()\n",
    "Ytrain = Ytrain[~np.isnan(Ytrain)]\n",
    "Ytrain, np.shape(np.transpose(Ytrain))"
   ]
  },
  {
   "cell_type": "code",
   "execution_count": 359,
   "metadata": {},
   "outputs": [],
   "source": [
    "des_vars = ['green','red','blue','nir','swir1','swir2']\n",
    "Xtrain = []\n",
    "for v in img.variables:\n",
    "    if v in des_vars:\n",
    "        Xtrain.append(Xtrain_init[v].values.flatten())\n",
    "Xtrain = np.array([i[~np.isnan(i)] for i in Xtrain])"
   ]
  },
  {
   "cell_type": "code",
   "execution_count": 361,
   "metadata": {},
   "outputs": [
    {
     "name": "stdout",
     "output_type": "stream",
     "text": [
      "(6, 7642)\n",
      "(6, 7642)\n",
      "(6, 7642)\n",
      "(6, 7642)\n",
      "(6, 7642)\n",
      "(6, 7642)\n"
     ]
    }
   ],
   "source": [
    "for i in Xtrain:\n",
    "    print(np.shape(Xtrain))"
   ]
  },
  {
   "cell_type": "code",
   "execution_count": null,
   "metadata": {},
   "outputs": [],
   "source": []
  },
  {
   "cell_type": "code",
   "execution_count": null,
   "metadata": {},
   "outputs": [],
   "source": []
  },
  {
   "cell_type": "code",
   "execution_count": null,
   "metadata": {},
   "outputs": [],
   "source": []
  },
  {
   "cell_type": "code",
   "execution_count": null,
   "metadata": {},
   "outputs": [],
   "source": []
  },
  {
   "cell_type": "code",
   "execution_count": 269,
   "metadata": {},
   "outputs": [
    {
     "data": {
      "text/plain": [
       "<xarray.Variable (y: 79, x: 113)>\n",
       "dask.array<shape=(79, 113), dtype=float64, chunksize=(79, 113)>\n",
       "Attributes:\n",
       "    units:    reflectance\n",
       "    nodata:   -9999\n",
       "    crs:      EPSG:32760"
      ]
     },
     "execution_count": 269,
     "metadata": {},
     "output_type": "execute_result"
    }
   ],
   "source": [
    "img.variables['green']"
   ]
  },
  {
   "cell_type": "code",
   "execution_count": 256,
   "metadata": {},
   "outputs": [],
   "source": [
    "des_vars = ['green','red','blue','nir','swir1','swir2']\n",
    "X_init = []\n",
    "for v in img.variables:\n",
    "    if v in des_vars:\n",
    "        X_init.append(img[v].values.flatten())"
   ]
  },
  {
   "cell_type": "code",
   "execution_count": 259,
   "metadata": {},
   "outputs": [],
   "source": [
    "X_init = np.array(X_init)"
   ]
  },
  {
   "cell_type": "code",
   "execution_count": 260,
   "metadata": {},
   "outputs": [
    {
     "data": {
      "text/plain": [
       "(6, 8927)"
      ]
     },
     "execution_count": 260,
     "metadata": {},
     "output_type": "execute_result"
    }
   ],
   "source": [
    "X_init.shape"
   ]
  },
  {
   "cell_type": "code",
   "execution_count": null,
   "metadata": {},
   "outputs": [],
   "source": []
  },
  {
   "cell_type": "code",
   "execution_count": null,
   "metadata": {},
   "outputs": [],
   "source": []
  },
  {
   "cell_type": "code",
   "execution_count": 240,
   "metadata": {},
   "outputs": [
    {
     "ename": "AttributeError",
     "evalue": "'function' object has no attribute 'flatten'",
     "output_type": "error",
     "traceback": [
      "\u001b[0;31m---------------------------------------------------------------------------\u001b[0m",
      "\u001b[0;31mAttributeError\u001b[0m                            Traceback (most recent call last)",
      "\u001b[0;32m<ipython-input-240-24614a4c8190>\u001b[0m in \u001b[0;36m<module>\u001b[0;34m\u001b[0m\n\u001b[0;32m----> 1\u001b[0;31m \u001b[0mnp\u001b[0m\u001b[0;34m.\u001b[0m\u001b[0mshape\u001b[0m\u001b[0;34m(\u001b[0m\u001b[0mimg\u001b[0m\u001b[0;34m.\u001b[0m\u001b[0mvalues\u001b[0m\u001b[0;34m.\u001b[0m\u001b[0mflatten\u001b[0m\u001b[0;34m(\u001b[0m\u001b[0;34m)\u001b[0m\u001b[0;34m)\u001b[0m\u001b[0;34m\u001b[0m\u001b[0;34m\u001b[0m\u001b[0m\n\u001b[0m",
      "\u001b[0;31mAttributeError\u001b[0m: 'function' object has no attribute 'flatten'"
     ]
    }
   ],
   "source": [
    "np.shape(img.green.values.flatten())"
   ]
  },
  {
   "cell_type": "code",
   "execution_count": null,
   "metadata": {},
   "outputs": [],
   "source": []
  },
  {
   "cell_type": "code",
   "execution_count": 131,
   "metadata": {},
   "outputs": [
    {
     "data": {
      "text/plain": [
       "<bound method Mapping.values of <xarray.Dataset>\n",
       "Dimensions:          (x: 113, y: 79)\n",
       "Coordinates:\n",
       "    time             datetime64[ns] 2018-02-11T22:06:27\n",
       "  * y                (y) float64 7.998e+06 7.998e+06 ... 7.995e+06 7.995e+06\n",
       "  * x                (x) float64 6.596e+05 6.596e+05 ... 6.629e+05 6.63e+05\n",
       "Data variables:\n",
       "    green            (y, x) int16 dask.array<shape=(79, 113), chunksize=(79, 113)>\n",
       "    red              (y, x) int16 dask.array<shape=(79, 113), chunksize=(79, 113)>\n",
       "    blue             (y, x) int16 dask.array<shape=(79, 113), chunksize=(79, 113)>\n",
       "    nir              (y, x) int16 dask.array<shape=(79, 113), chunksize=(79, 113)>\n",
       "    swir1            (y, x) int16 dask.array<shape=(79, 113), chunksize=(79, 113)>\n",
       "    swir2            (y, x) int16 dask.array<shape=(79, 113), chunksize=(79, 113)>\n",
       "    coastal_aerosol  (y, x) int16 dask.array<shape=(79, 113), chunksize=(79, 113)>\n",
       "    pixel_qa         (y, x) uint16 dask.array<shape=(79, 113), chunksize=(79, 113)>\n",
       "Attributes:\n",
       "    crs:      EPSG:32760>"
      ]
     },
     "execution_count": 131,
     "metadata": {},
     "output_type": "execute_result"
    }
   ],
   "source": [
    "img.values"
   ]
  },
  {
   "cell_type": "markdown",
   "metadata": {},
   "source": [
    "### load T1 dataset (L8 for now too)"
   ]
  },
  {
   "cell_type": "markdown",
   "metadata": {},
   "source": [
    "### apply T1 dataset clearsky mask"
   ]
  },
  {
   "cell_type": "markdown",
   "metadata": {},
   "source": [
    "## (2) check class distributions of T1 image w/ T1-1m water mask"
   ]
  },
  {
   "cell_type": "code",
   "execution_count": null,
   "metadata": {},
   "outputs": [],
   "source": []
  },
  {
   "cell_type": "markdown",
   "metadata": {},
   "source": [
    "set consistent query params"
   ]
  },
  {
   "cell_type": "markdown",
   "metadata": {},
   "source": [
    "l8 imagery"
   ]
  },
  {
   "cell_type": "code",
   "execution_count": 31,
   "metadata": {},
   "outputs": [],
   "source": [
    "# vars to update\n",
    "platform = \"LANDSAT_8\"\n",
    "product = \"ls8_usgs_sr_scene\"\n",
    "measurements = [\"green\",\"red\",\"blue\",\"nir\",\"swir1\",\"swir2\", \"pixel_qa\"]\n",
    "query = {\n",
    "    'y': lat_extents,\n",
    "    'x': lon_extents,\n",
    "    'output_crs': output_projection,  \n",
    "    'resolution': resolution,\n",
    "    'product' : product,\n",
    "    'platform' : platform, \n",
    "    'measurements' : measurements\n",
    "}\n",
    "loaded_ds = dc.load(\n",
    "    time = time_range,\n",
    "    group_by = 'solar_day',\n",
    "    **query\n",
    ")"
   ]
  },
  {
   "cell_type": "code",
   "execution_count": null,
   "metadata": {},
   "outputs": [],
   "source": []
  },
  {
   "cell_type": "markdown",
   "metadata": {},
   "source": [
    "l8 water masks"
   ]
  },
  {
   "cell_type": "code",
   "execution_count": null,
   "metadata": {},
   "outputs": [],
   "source": [
    "# vars to update\n",
    "platform = \"LANDSAT_8\"\n",
    "product = \"ls8_usgs_sr_scene\"\n",
    "# product = \"ls8_water_classification\"\n",
    "measurements = [\"green\",\"red\",\"blue\",\"nir\",\"swir1\",\"swir2\", \"pixel_qa\"]\n",
    "# [\"coastal_aerosol\",\"scene_classification\"], [\"pixel_qa\"], [\"water\"]\n",
    "\n",
    "query = {\n",
    "    'y': lat_extents,\n",
    "    'x': lon_extents,\n",
    "    'output_crs': output_projection,  \n",
    "    'resolution': resolution,\n",
    "    'product' : product,\n",
    "    'platform' : platform, \n",
    "    'measurements' : measurements\n",
    "}\n",
    "loaded_ds = dc.load(\n",
    "    time = time_range,\n",
    "    group_by = 'solar_day',\n",
    "    **query\n",
    ")"
   ]
  },
  {
   "cell_type": "code",
   "execution_count": null,
   "metadata": {},
   "outputs": [],
   "source": []
  },
  {
   "cell_type": "code",
   "execution_count": null,
   "metadata": {},
   "outputs": [],
   "source": []
  },
  {
   "cell_type": "code",
   "execution_count": null,
   "metadata": {},
   "outputs": [],
   "source": []
  },
  {
   "cell_type": "code",
   "execution_count": null,
   "metadata": {},
   "outputs": [],
   "source": []
  },
  {
   "cell_type": "code",
   "execution_count": null,
   "metadata": {},
   "outputs": [],
   "source": []
  },
  {
   "cell_type": "code",
   "execution_count": null,
   "metadata": {},
   "outputs": [],
   "source": [
    "msk = "
   ]
  },
  {
   "cell_type": "code",
   "execution_count": null,
   "metadata": {},
   "outputs": [],
   "source": []
  },
  {
   "cell_type": "markdown",
   "metadata": {},
   "source": [
    "check imgs"
   ]
  },
  {
   "cell_type": "code",
   "execution_count": null,
   "metadata": {},
   "outputs": [],
   "source": [
    "ds = loaded_ds"
   ]
  },
  {
   "cell_type": "code",
   "execution_count": 39,
   "metadata": {},
   "outputs": [
    {
     "data": {
      "image/png": "[encoded data removed]",
      "text/plain": [
       "<Figure size 432x288 with 2 Axes>"
      ]
     },
     "metadata": {
      "needs_background": "light"
     },
     "output_type": "display_data"
    },
    {
     "data": {
      "image/png": "[encoded data removed]",
      "text/plain": [
       "<Figure size 432x288 with 2 Axes>"
      ]
     },
     "metadata": {
      "needs_background": "light"
     },
     "output_type": "display_data"
    },
    {
     "data": {
      "image/png": "[encoded data removed]",
      "text/plain": [
       "<Figure size 432x288 with 2 Axes>"
      ]
     },
     "metadata": {
      "needs_background": "light"
     },
     "output_type": "display_data"
    },
    {
     "data": {
      "image/png": "[encoded data removed]",
      "text/plain": [
       "<Figure size 432x288 with 2 Axes>"
      ]
     },
     "metadata": {
      "needs_background": "light"
     },
     "output_type": "display_data"
    }
   ],
   "source": [
    "for i,t in enumerate(ds.time.values):\n",
    "    fig, ax = plt.subplots()\n",
    "    ds.isel(time = i).red.plot(ax=ax);"
   ]
  },
  {
   "cell_type": "code",
   "execution_count": 28,
   "metadata": {},
   "outputs": [
    {
     "data": {
      "text/html": [
       "<div>\n",
       "<style scoped>\n",
       "    .dataframe tbody tr th:only-of-type {\n",
       "        vertical-align: middle;\n",
       "    }\n",
       "\n",
       "    .dataframe tbody tr th {\n",
       "        vertical-align: top;\n",
       "    }\n",
       "\n",
       "    .dataframe thead th {\n",
       "        text-align: right;\n",
       "    }\n",
       "</style>\n",
       "<table border=\"1\" class=\"dataframe\">\n",
       "  <thead>\n",
       "    <tr style=\"text-align: right;\">\n",
       "      <th></th>\n",
       "      <th></th>\n",
       "      <th>aliases</th>\n",
       "      <th>dtype</th>\n",
       "      <th>flags_definition</th>\n",
       "      <th>name</th>\n",
       "      <th>nodata</th>\n",
       "      <th>units</th>\n",
       "    </tr>\n",
       "    <tr>\n",
       "      <th>product</th>\n",
       "      <th>measurement</th>\n",
       "      <th></th>\n",
       "      <th></th>\n",
       "      <th></th>\n",
       "      <th></th>\n",
       "      <th></th>\n",
       "      <th></th>\n",
       "    </tr>\n",
       "  </thead>\n",
       "  <tbody>\n",
       "    <tr>\n",
       "      <th rowspan=\"10\" valign=\"top\">ls4_usgs_sr_scene</th>\n",
       "      <th>blue</th>\n",
       "      <td>[band_1, sr_band1]</td>\n",
       "      <td>int16</td>\n",
       "      <td>NaN</td>\n",
       "      <td>blue</td>\n",
       "      <td>-9999</td>\n",
       "      <td>reflectance</td>\n",
       "    </tr>\n",
       "    <tr>\n",
       "      <th>green</th>\n",
       "      <td>[band_2, sr_band2]</td>\n",
       "      <td>int16</td>\n",
       "      <td>NaN</td>\n",
       "      <td>green</td>\n",
       "      <td>-9999</td>\n",
       "      <td>reflectance</td>\n",
       "    </tr>\n",
       "    <tr>\n",
       "      <th>red</th>\n",
       "      <td>[band_3, sr_band3]</td>\n",
       "      <td>int16</td>\n",
       "      <td>NaN</td>\n",
       "      <td>red</td>\n",
       "      <td>-9999</td>\n",
       "      <td>reflectance</td>\n",
       "    </tr>\n",
       "    <tr>\n",
       "      <th>nir</th>\n",
       "      <td>[band_4, sr_band4]</td>\n",
       "      <td>int16</td>\n",
       "      <td>NaN</td>\n",
       "      <td>nir</td>\n",
       "      <td>-9999</td>\n",
       "      <td>reflectance</td>\n",
       "    </tr>\n",
       "    <tr>\n",
       "      <th>swir1</th>\n",
       "      <td>[band_5, sr_band5]</td>\n",
       "      <td>int16</td>\n",
       "      <td>NaN</td>\n",
       "      <td>swir1</td>\n",
       "      <td>-9999</td>\n",
       "      <td>reflectance</td>\n",
       "    </tr>\n",
       "    <tr>\n",
       "      <th>swir2</th>\n",
       "      <td>[band_7, sr_band7]</td>\n",
       "      <td>int16</td>\n",
       "      <td>NaN</td>\n",
       "      <td>swir2</td>\n",
       "      <td>-9999</td>\n",
       "      <td>reflectance</td>\n",
       "    </tr>\n",
       "    <tr>\n",
       "      <th>sr_atmos_opacity</th>\n",
       "      <td>[atmos_op]</td>\n",
       "      <td>uint8</td>\n",
       "      <td>NaN</td>\n",
       "      <td>sr_atmos_opacity</td>\n",
       "      <td>0</td>\n",
       "      <td>1</td>\n",
       "    </tr>\n",
       "    <tr>\n",
       "      <th>pixel_qa</th>\n",
       "      <td>[pixel_qa]</td>\n",
       "      <td>uint16</td>\n",
       "      <td>{'snow': {'bits': 4, 'values': {'0': 'no_snow'...</td>\n",
       "      <td>pixel_qa</td>\n",
       "      <td>1</td>\n",
       "      <td>bit_index</td>\n",
       "    </tr>\n",
       "    <tr>\n",
       "      <th>radsat_qa</th>\n",
       "      <td>[radsat_qa]</td>\n",
       "      <td>uint8</td>\n",
       "      <td>{'radsat_qa': {'bits': [0, 1, 2, 3, 4, 5, 6, 7...</td>\n",
       "      <td>radsat_qa</td>\n",
       "      <td>1</td>\n",
       "      <td>bit_index</td>\n",
       "    </tr>\n",
       "    <tr>\n",
       "      <th>sr_cloud_qa</th>\n",
       "      <td>[pixel_qa]</td>\n",
       "      <td>uint16</td>\n",
       "      <td>{'snow': {'bits': 4, 'values': {'0': 'no_snow'...</td>\n",
       "      <td>sr_cloud_qa</td>\n",
       "      <td>1</td>\n",
       "      <td>bit_index</td>\n",
       "    </tr>\n",
       "    <tr>\n",
       "      <th>ls4_water_classification</th>\n",
       "      <th>water</th>\n",
       "      <td>[wofs, water_classification]</td>\n",
       "      <td>int16</td>\n",
       "      <td>{'water_classification': {'bits': [0, 1, 2, 3,...</td>\n",
       "      <td>water</td>\n",
       "      <td>-9999</td>\n",
       "      <td>1</td>\n",
       "    </tr>\n",
       "    <tr>\n",
       "      <th rowspan=\"10\" valign=\"top\">ls5_usgs_sr_scene</th>\n",
       "      <th>blue</th>\n",
       "      <td>[band_1, sr_band1]</td>\n",
       "      <td>int16</td>\n",
       "      <td>NaN</td>\n",
       "      <td>blue</td>\n",
       "      <td>-9999</td>\n",
       "      <td>reflectance</td>\n",
       "    </tr>\n",
       "    <tr>\n",
       "      <th>green</th>\n",
       "      <td>[band_2, sr_band2]</td>\n",
       "      <td>int16</td>\n",
       "      <td>NaN</td>\n",
       "      <td>green</td>\n",
       "      <td>-9999</td>\n",
       "      <td>reflectance</td>\n",
       "    </tr>\n",
       "    <tr>\n",
       "      <th>red</th>\n",
       "      <td>[band_3, sr_band3]</td>\n",
       "      <td>int16</td>\n",
       "      <td>NaN</td>\n",
       "      <td>red</td>\n",
       "      <td>-9999</td>\n",
       "      <td>reflectance</td>\n",
       "    </tr>\n",
       "    <tr>\n",
       "      <th>nir</th>\n",
       "      <td>[band_4, sr_band4]</td>\n",
       "      <td>int16</td>\n",
       "      <td>NaN</td>\n",
       "      <td>nir</td>\n",
       "      <td>-9999</td>\n",
       "      <td>reflectance</td>\n",
       "    </tr>\n",
       "    <tr>\n",
       "      <th>swir1</th>\n",
       "      <td>[band_5, sr_band5]</td>\n",
       "      <td>int16</td>\n",
       "      <td>NaN</td>\n",
       "      <td>swir1</td>\n",
       "      <td>-9999</td>\n",
       "      <td>reflectance</td>\n",
       "    </tr>\n",
       "    <tr>\n",
       "      <th>swir2</th>\n",
       "      <td>[band_7, sr_band7]</td>\n",
       "      <td>int16</td>\n",
       "      <td>NaN</td>\n",
       "      <td>swir2</td>\n",
       "      <td>-9999</td>\n",
       "      <td>reflectance</td>\n",
       "    </tr>\n",
       "    <tr>\n",
       "      <th>sr_atmos_opacity</th>\n",
       "      <td>[atmos_op]</td>\n",
       "      <td>uint8</td>\n",
       "      <td>NaN</td>\n",
       "      <td>sr_atmos_opacity</td>\n",
       "      <td>0</td>\n",
       "      <td>1</td>\n",
       "    </tr>\n",
       "    <tr>\n",
       "      <th>pixel_qa</th>\n",
       "      <td>[pixel_qa]</td>\n",
       "      <td>uint16</td>\n",
       "      <td>{'snow': {'bits': 4, 'values': {'0': 'no_snow'...</td>\n",
       "      <td>pixel_qa</td>\n",
       "      <td>1</td>\n",
       "      <td>bit_index</td>\n",
       "    </tr>\n",
       "    <tr>\n",
       "      <th>radsat_qa</th>\n",
       "      <td>[radsat_qa]</td>\n",
       "      <td>uint8</td>\n",
       "      <td>{'radsat_qa': {'bits': [0, 1, 2, 3, 4, 5, 6, 7...</td>\n",
       "      <td>radsat_qa</td>\n",
       "      <td>1</td>\n",
       "      <td>bit_index</td>\n",
       "    </tr>\n",
       "    <tr>\n",
       "      <th>sr_cloud_qa</th>\n",
       "      <td>[pixel_qa]</td>\n",
       "      <td>uint16</td>\n",
       "      <td>{'snow': {'bits': 4, 'values': {'0': 'no_snow'...</td>\n",
       "      <td>sr_cloud_qa</td>\n",
       "      <td>1</td>\n",
       "      <td>bit_index</td>\n",
       "    </tr>\n",
       "    <tr>\n",
       "      <th>ls5_water_classification</th>\n",
       "      <th>water</th>\n",
       "      <td>[wofs, water_classification]</td>\n",
       "      <td>int16</td>\n",
       "      <td>{'water_classification': {'bits': [0, 1, 2, 3,...</td>\n",
       "      <td>water</td>\n",
       "      <td>-9999</td>\n",
       "      <td>1</td>\n",
       "    </tr>\n",
       "    <tr>\n",
       "      <th rowspan=\"8\" valign=\"top\">ls7_usgs_sr_scene</th>\n",
       "      <th>blue</th>\n",
       "      <td>[band_1, sr_band1]</td>\n",
       "      <td>int16</td>\n",
       "      <td>NaN</td>\n",
       "      <td>blue</td>\n",
       "      <td>-9999</td>\n",
       "      <td>reflectance</td>\n",
       "    </tr>\n",
       "    <tr>\n",
       "      <th>green</th>\n",
       "      <td>[band_2, sr_band2]</td>\n",
       "      <td>int16</td>\n",
       "      <td>NaN</td>\n",
       "      <td>green</td>\n",
       "      <td>-9999</td>\n",
       "      <td>reflectance</td>\n",
       "    </tr>\n",
       "    <tr>\n",
       "      <th>red</th>\n",
       "      <td>[band_3, sr_band3]</td>\n",
       "      <td>int16</td>\n",
       "      <td>NaN</td>\n",
       "      <td>red</td>\n",
       "      <td>-9999</td>\n",
       "      <td>reflectance</td>\n",
       "    </tr>\n",
       "    <tr>\n",
       "      <th>nir</th>\n",
       "      <td>[band_4, sr_band4]</td>\n",
       "      <td>int16</td>\n",
       "      <td>NaN</td>\n",
       "      <td>nir</td>\n",
       "      <td>-9999</td>\n",
       "      <td>reflectance</td>\n",
       "    </tr>\n",
       "    <tr>\n",
       "      <th>swir1</th>\n",
       "      <td>[band_5, sr_band5]</td>\n",
       "      <td>int16</td>\n",
       "      <td>NaN</td>\n",
       "      <td>swir1</td>\n",
       "      <td>-9999</td>\n",
       "      <td>reflectance</td>\n",
       "    </tr>\n",
       "    <tr>\n",
       "      <th>swir2</th>\n",
       "      <td>[band_7, sr_band7]</td>\n",
       "      <td>int16</td>\n",
       "      <td>NaN</td>\n",
       "      <td>swir2</td>\n",
       "      <td>-9999</td>\n",
       "      <td>reflectance</td>\n",
       "    </tr>\n",
       "    <tr>\n",
       "      <th>sr_atmos_opacity</th>\n",
       "      <td>[atmos_op]</td>\n",
       "      <td>uint8</td>\n",
       "      <td>NaN</td>\n",
       "      <td>sr_atmos_opacity</td>\n",
       "      <td>0</td>\n",
       "      <td>1</td>\n",
       "    </tr>\n",
       "    <tr>\n",
       "      <th>pixel_qa</th>\n",
       "      <td>[pixel_qa]</td>\n",
       "      <td>uint16</td>\n",
       "      <td>{'snow': {'bits': 4, 'values': {'0': 'no_snow'...</td>\n",
       "      <td>pixel_qa</td>\n",
       "      <td>1</td>\n",
       "      <td>bit_index</td>\n",
       "    </tr>\n",
       "    <tr>\n",
       "      <th>...</th>\n",
       "      <th>...</th>\n",
       "      <td>...</td>\n",
       "      <td>...</td>\n",
       "      <td>...</td>\n",
       "      <td>...</td>\n",
       "      <td>...</td>\n",
       "      <td>...</td>\n",
       "    </tr>\n",
       "    <tr>\n",
       "      <th rowspan=\"2\" valign=\"top\">ls8_usgs_fc_scene</th>\n",
       "      <th>NPV</th>\n",
       "      <td>[dead_veg]</td>\n",
       "      <td>int16</td>\n",
       "      <td>NaN</td>\n",
       "      <td>NPV</td>\n",
       "      <td>-1</td>\n",
       "      <td>percent</td>\n",
       "    </tr>\n",
       "    <tr>\n",
       "      <th>UE</th>\n",
       "      <td>[err]</td>\n",
       "      <td>int16</td>\n",
       "      <td>NaN</td>\n",
       "      <td>UE</td>\n",
       "      <td>-1</td>\n",
       "      <td>1</td>\n",
       "    </tr>\n",
       "    <tr>\n",
       "      <th rowspan=\"12\" valign=\"top\">ls8_usgs_sr_scene</th>\n",
       "      <th>coastal_aerosol</th>\n",
       "      <td>[band_1, sr_band1]</td>\n",
       "      <td>int16</td>\n",
       "      <td>NaN</td>\n",
       "      <td>coastal_aerosol</td>\n",
       "      <td>-9999</td>\n",
       "      <td>reflectance</td>\n",
       "    </tr>\n",
       "    <tr>\n",
       "      <th>blue</th>\n",
       "      <td>[band_2, sr_band2]</td>\n",
       "      <td>int16</td>\n",
       "      <td>NaN</td>\n",
       "      <td>blue</td>\n",
       "      <td>-9999</td>\n",
       "      <td>reflectance</td>\n",
       "    </tr>\n",
       "    <tr>\n",
       "      <th>green</th>\n",
       "      <td>[band_3, sr_band3]</td>\n",
       "      <td>int16</td>\n",
       "      <td>NaN</td>\n",
       "      <td>green</td>\n",
       "      <td>-9999</td>\n",
       "      <td>reflectance</td>\n",
       "    </tr>\n",
       "    <tr>\n",
       "      <th>red</th>\n",
       "      <td>[band_4, sr_band4]</td>\n",
       "      <td>int16</td>\n",
       "      <td>NaN</td>\n",
       "      <td>red</td>\n",
       "      <td>-9999</td>\n",
       "      <td>reflectance</td>\n",
       "    </tr>\n",
       "    <tr>\n",
       "      <th>nir</th>\n",
       "      <td>[band_5, sr_band5]</td>\n",
       "      <td>int16</td>\n",
       "      <td>NaN</td>\n",
       "      <td>nir</td>\n",
       "      <td>-9999</td>\n",
       "      <td>reflectance</td>\n",
       "    </tr>\n",
       "    <tr>\n",
       "      <th>swir1</th>\n",
       "      <td>[band_6, sr_band6]</td>\n",
       "      <td>int16</td>\n",
       "      <td>NaN</td>\n",
       "      <td>swir1</td>\n",
       "      <td>-9999</td>\n",
       "      <td>reflectance</td>\n",
       "    </tr>\n",
       "    <tr>\n",
       "      <th>swir2</th>\n",
       "      <td>[band_7, sr_band7]</td>\n",
       "      <td>int16</td>\n",
       "      <td>NaN</td>\n",
       "      <td>swir2</td>\n",
       "      <td>-9999</td>\n",
       "      <td>reflectance</td>\n",
       "    </tr>\n",
       "    <tr>\n",
       "      <th>pixel_qa</th>\n",
       "      <td>[pixel_qa]</td>\n",
       "      <td>uint16</td>\n",
       "      <td>{'snow': {'bits': 4, 'values': {'0': 'no_snow'...</td>\n",
       "      <td>pixel_qa</td>\n",
       "      <td>1</td>\n",
       "      <td>bit_index</td>\n",
       "    </tr>\n",
       "    <tr>\n",
       "      <th>sr_aerosol</th>\n",
       "      <td>[sr_aerosol_qa, aerosol_qa, aerosol]</td>\n",
       "      <td>uint8</td>\n",
       "      <td>{'aerosol_qa': {'bits': [0, 1, 2, 3, 4, 5, 6, ...</td>\n",
       "      <td>sr_aerosol</td>\n",
       "      <td>0</td>\n",
       "      <td>bit_index</td>\n",
       "    </tr>\n",
       "    <tr>\n",
       "      <th>radsat_qa</th>\n",
       "      <td>[radsat_qa]</td>\n",
       "      <td>uint16</td>\n",
       "      <td>{'radsat_qa': {'bits': [0, 1, 2, 3, 4, 5, 6, 7...</td>\n",
       "      <td>radsat_qa</td>\n",
       "      <td>1</td>\n",
       "      <td>bit_index</td>\n",
       "    </tr>\n",
       "    <tr>\n",
       "      <th>brightness_temperature_1</th>\n",
       "      <td>[band_10, bt_band10]</td>\n",
       "      <td>int16</td>\n",
       "      <td>NaN</td>\n",
       "      <td>brightness_temperature_1</td>\n",
       "      <td>-9999</td>\n",
       "      <td>temperature</td>\n",
       "    </tr>\n",
       "    <tr>\n",
       "      <th>brightness_temperature_2</th>\n",
       "      <td>[band_11, bt_band11]</td>\n",
       "      <td>int16</td>\n",
       "      <td>NaN</td>\n",
       "      <td>brightness_temperature_2</td>\n",
       "      <td>-9999</td>\n",
       "      <td>temperature</td>\n",
       "    </tr>\n",
       "    <tr>\n",
       "      <th>ls8_water_classification</th>\n",
       "      <th>water</th>\n",
       "      <td>[wofs, water_classification]</td>\n",
       "      <td>int16</td>\n",
       "      <td>{'water_classification': {'bits': [0, 1, 2, 3,...</td>\n",
       "      <td>water</td>\n",
       "      <td>-9999</td>\n",
       "      <td>1</td>\n",
       "    </tr>\n",
       "    <tr>\n",
       "      <th rowspan=\"15\" valign=\"top\">s2_esa_sr_granule</th>\n",
       "      <th>aerosol_optical_thickness</th>\n",
       "      <td>[aot_10m, aot]</td>\n",
       "      <td>uint16</td>\n",
       "      <td>NaN</td>\n",
       "      <td>aerosol_optical_thickness</td>\n",
       "      <td>0</td>\n",
       "      <td>reflectance</td>\n",
       "    </tr>\n",
       "    <tr>\n",
       "      <th>coastal_aerosol</th>\n",
       "      <td>[b01_60m, b01]</td>\n",
       "      <td>uint16</td>\n",
       "      <td>NaN</td>\n",
       "      <td>coastal_aerosol</td>\n",
       "      <td>0</td>\n",
       "      <td>reflectance</td>\n",
       "    </tr>\n",
       "    <tr>\n",
       "      <th>blue</th>\n",
       "      <td>[b02_10m, b02]</td>\n",
       "      <td>uint16</td>\n",
       "      <td>NaN</td>\n",
       "      <td>blue</td>\n",
       "      <td>0</td>\n",
       "      <td>reflectance</td>\n",
       "    </tr>\n",
       "    <tr>\n",
       "      <th>green</th>\n",
       "      <td>[b03_10m, b03]</td>\n",
       "      <td>uint16</td>\n",
       "      <td>NaN</td>\n",
       "      <td>green</td>\n",
       "      <td>0</td>\n",
       "      <td>reflectance</td>\n",
       "    </tr>\n",
       "    <tr>\n",
       "      <th>red</th>\n",
       "      <td>[b04_10m, b04]</td>\n",
       "      <td>uint16</td>\n",
       "      <td>NaN</td>\n",
       "      <td>red</td>\n",
       "      <td>0</td>\n",
       "      <td>reflectance</td>\n",
       "    </tr>\n",
       "    <tr>\n",
       "      <th>vegetation_red_edge_1</th>\n",
       "      <td>[b05_20m, b05]</td>\n",
       "      <td>uint16</td>\n",
       "      <td>NaN</td>\n",
       "      <td>vegetation_red_edge_1</td>\n",
       "      <td>0</td>\n",
       "      <td>reflectance</td>\n",
       "    </tr>\n",
       "    <tr>\n",
       "      <th>vegetation_red_edge_2</th>\n",
       "      <td>[b06_20m, b06]</td>\n",
       "      <td>uint16</td>\n",
       "      <td>NaN</td>\n",
       "      <td>vegetation_red_edge_2</td>\n",
       "      <td>0</td>\n",
       "      <td>reflectance</td>\n",
       "    </tr>\n",
       "    <tr>\n",
       "      <th>vegetation_red_edge_3</th>\n",
       "      <td>[b07_20m, b07]</td>\n",
       "      <td>uint16</td>\n",
       "      <td>NaN</td>\n",
       "      <td>vegetation_red_edge_3</td>\n",
       "      <td>0</td>\n",
       "      <td>reflectance</td>\n",
       "    </tr>\n",
       "    <tr>\n",
       "      <th>nir</th>\n",
       "      <td>[b08_10m, b08]</td>\n",
       "      <td>uint16</td>\n",
       "      <td>NaN</td>\n",
       "      <td>nir</td>\n",
       "      <td>0</td>\n",
       "      <td>reflectance</td>\n",
       "    </tr>\n",
       "    <tr>\n",
       "      <th>water_vapour</th>\n",
       "      <td>[b09_60m, b09]</td>\n",
       "      <td>uint16</td>\n",
       "      <td>NaN</td>\n",
       "      <td>water_vapour</td>\n",
       "      <td>0</td>\n",
       "      <td>reflectance</td>\n",
       "    </tr>\n",
       "    <tr>\n",
       "      <th>swir1</th>\n",
       "      <td>[b11_20m, b11]</td>\n",
       "      <td>uint16</td>\n",
       "      <td>NaN</td>\n",
       "      <td>swir1</td>\n",
       "      <td>0</td>\n",
       "      <td>reflectance</td>\n",
       "    </tr>\n",
       "    <tr>\n",
       "      <th>swir2</th>\n",
       "      <td>[b12_20m, b12]</td>\n",
       "      <td>uint16</td>\n",
       "      <td>NaN</td>\n",
       "      <td>swir2</td>\n",
       "      <td>0</td>\n",
       "      <td>reflectance</td>\n",
       "    </tr>\n",
       "    <tr>\n",
       "      <th>vegetation_red_edge_4</th>\n",
       "      <td>[b8a_20m, b8a]</td>\n",
       "      <td>uint16</td>\n",
       "      <td>NaN</td>\n",
       "      <td>vegetation_red_edge_4</td>\n",
       "      <td>0</td>\n",
       "      <td>reflectance</td>\n",
       "    </tr>\n",
       "    <tr>\n",
       "      <th>wvp</th>\n",
       "      <td>[wvp_10m, wvp]</td>\n",
       "      <td>uint16</td>\n",
       "      <td>NaN</td>\n",
       "      <td>wvp</td>\n",
       "      <td>0</td>\n",
       "      <td>reflectance</td>\n",
       "    </tr>\n",
       "    <tr>\n",
       "      <th>scene_classification</th>\n",
       "      <td>[scl_20m, scl]</td>\n",
       "      <td>uint8</td>\n",
       "      <td>{'scene_classification': {'bits': [0, 1, 2, 3,...</td>\n",
       "      <td>scene_classification</td>\n",
       "      <td>0</td>\n",
       "      <td>1</td>\n",
       "    </tr>\n",
       "  </tbody>\n",
       "</table>\n",
       "<p>65 rows × 6 columns</p>\n",
       "</div>"
      ],
      "text/plain": [
       "                                                                                 aliases  \\\n",
       "product                  measurement                                                       \n",
       "ls4_usgs_sr_scene        blue                                         [band_1, sr_band1]   \n",
       "                         green                                        [band_2, sr_band2]   \n",
       "                         red                                          [band_3, sr_band3]   \n",
       "                         nir                                          [band_4, sr_band4]   \n",
       "                         swir1                                        [band_5, sr_band5]   \n",
       "                         swir2                                        [band_7, sr_band7]   \n",
       "                         sr_atmos_opacity                                     [atmos_op]   \n",
       "                         pixel_qa                                             [pixel_qa]   \n",
       "                         radsat_qa                                           [radsat_qa]   \n",
       "                         sr_cloud_qa                                          [pixel_qa]   \n",
       "ls4_water_classification water                              [wofs, water_classification]   \n",
       "ls5_usgs_sr_scene        blue                                         [band_1, sr_band1]   \n",
       "                         green                                        [band_2, sr_band2]   \n",
       "                         red                                          [band_3, sr_band3]   \n",
       "                         nir                                          [band_4, sr_band4]   \n",
       "                         swir1                                        [band_5, sr_band5]   \n",
       "                         swir2                                        [band_7, sr_band7]   \n",
       "                         sr_atmos_opacity                                     [atmos_op]   \n",
       "                         pixel_qa                                             [pixel_qa]   \n",
       "                         radsat_qa                                           [radsat_qa]   \n",
       "                         sr_cloud_qa                                          [pixel_qa]   \n",
       "ls5_water_classification water                              [wofs, water_classification]   \n",
       "ls7_usgs_sr_scene        blue                                         [band_1, sr_band1]   \n",
       "                         green                                        [band_2, sr_band2]   \n",
       "                         red                                          [band_3, sr_band3]   \n",
       "                         nir                                          [band_4, sr_band4]   \n",
       "                         swir1                                        [band_5, sr_band5]   \n",
       "                         swir2                                        [band_7, sr_band7]   \n",
       "                         sr_atmos_opacity                                     [atmos_op]   \n",
       "                         pixel_qa                                             [pixel_qa]   \n",
       "...                                                                                  ...   \n",
       "ls8_usgs_fc_scene        NPV                                                  [dead_veg]   \n",
       "                         UE                                                        [err]   \n",
       "ls8_usgs_sr_scene        coastal_aerosol                              [band_1, sr_band1]   \n",
       "                         blue                                         [band_2, sr_band2]   \n",
       "                         green                                        [band_3, sr_band3]   \n",
       "                         red                                          [band_4, sr_band4]   \n",
       "                         nir                                          [band_5, sr_band5]   \n",
       "                         swir1                                        [band_6, sr_band6]   \n",
       "                         swir2                                        [band_7, sr_band7]   \n",
       "                         pixel_qa                                             [pixel_qa]   \n",
       "                         sr_aerosol                 [sr_aerosol_qa, aerosol_qa, aerosol]   \n",
       "                         radsat_qa                                           [radsat_qa]   \n",
       "                         brightness_temperature_1                   [band_10, bt_band10]   \n",
       "                         brightness_temperature_2                   [band_11, bt_band11]   \n",
       "ls8_water_classification water                              [wofs, water_classification]   \n",
       "s2_esa_sr_granule        aerosol_optical_thickness                        [aot_10m, aot]   \n",
       "                         coastal_aerosol                                  [b01_60m, b01]   \n",
       "                         blue                                             [b02_10m, b02]   \n",
       "                         green                                            [b03_10m, b03]   \n",
       "                         red                                              [b04_10m, b04]   \n",
       "                         vegetation_red_edge_1                            [b05_20m, b05]   \n",
       "                         vegetation_red_edge_2                            [b06_20m, b06]   \n",
       "                         vegetation_red_edge_3                            [b07_20m, b07]   \n",
       "                         nir                                              [b08_10m, b08]   \n",
       "                         water_vapour                                     [b09_60m, b09]   \n",
       "                         swir1                                            [b11_20m, b11]   \n",
       "                         swir2                                            [b12_20m, b12]   \n",
       "                         vegetation_red_edge_4                            [b8a_20m, b8a]   \n",
       "                         wvp                                              [wvp_10m, wvp]   \n",
       "                         scene_classification                             [scl_20m, scl]   \n",
       "\n",
       "                                                     dtype  \\\n",
       "product                  measurement                         \n",
       "ls4_usgs_sr_scene        blue                        int16   \n",
       "                         green                       int16   \n",
       "                         red                         int16   \n",
       "                         nir                         int16   \n",
       "                         swir1                       int16   \n",
       "                         swir2                       int16   \n",
       "                         sr_atmos_opacity            uint8   \n",
       "                         pixel_qa                   uint16   \n",
       "                         radsat_qa                   uint8   \n",
       "                         sr_cloud_qa                uint16   \n",
       "ls4_water_classification water                       int16   \n",
       "ls5_usgs_sr_scene        blue                        int16   \n",
       "                         green                       int16   \n",
       "                         red                         int16   \n",
       "                         nir                         int16   \n",
       "                         swir1                       int16   \n",
       "                         swir2                       int16   \n",
       "                         sr_atmos_opacity            uint8   \n",
       "                         pixel_qa                   uint16   \n",
       "                         radsat_qa                   uint8   \n",
       "                         sr_cloud_qa                uint16   \n",
       "ls5_water_classification water                       int16   \n",
       "ls7_usgs_sr_scene        blue                        int16   \n",
       "                         green                       int16   \n",
       "                         red                         int16   \n",
       "                         nir                         int16   \n",
       "                         swir1                       int16   \n",
       "                         swir2                       int16   \n",
       "                         sr_atmos_opacity            uint8   \n",
       "                         pixel_qa                   uint16   \n",
       "...                                                    ...   \n",
       "ls8_usgs_fc_scene        NPV                         int16   \n",
       "                         UE                          int16   \n",
       "ls8_usgs_sr_scene        coastal_aerosol             int16   \n",
       "                         blue                        int16   \n",
       "                         green                       int16   \n",
       "                         red                         int16   \n",
       "                         nir                         int16   \n",
       "                         swir1                       int16   \n",
       "                         swir2                       int16   \n",
       "                         pixel_qa                   uint16   \n",
       "                         sr_aerosol                  uint8   \n",
       "                         radsat_qa                  uint16   \n",
       "                         brightness_temperature_1    int16   \n",
       "                         brightness_temperature_2    int16   \n",
       "ls8_water_classification water                       int16   \n",
       "s2_esa_sr_granule        aerosol_optical_thickness  uint16   \n",
       "                         coastal_aerosol            uint16   \n",
       "                         blue                       uint16   \n",
       "                         green                      uint16   \n",
       "                         red                        uint16   \n",
       "                         vegetation_red_edge_1      uint16   \n",
       "                         vegetation_red_edge_2      uint16   \n",
       "                         vegetation_red_edge_3      uint16   \n",
       "                         nir                        uint16   \n",
       "                         water_vapour               uint16   \n",
       "                         swir1                      uint16   \n",
       "                         swir2                      uint16   \n",
       "                         vegetation_red_edge_4      uint16   \n",
       "                         wvp                        uint16   \n",
       "                         scene_classification        uint8   \n",
       "\n",
       "                                                                                     flags_definition  \\\n",
       "product                  measurement                                                                    \n",
       "ls4_usgs_sr_scene        blue                                                                     NaN   \n",
       "                         green                                                                    NaN   \n",
       "                         red                                                                      NaN   \n",
       "                         nir                                                                      NaN   \n",
       "                         swir1                                                                    NaN   \n",
       "                         swir2                                                                    NaN   \n",
       "                         sr_atmos_opacity                                                         NaN   \n",
       "                         pixel_qa                   {'snow': {'bits': 4, 'values': {'0': 'no_snow'...   \n",
       "                         radsat_qa                  {'radsat_qa': {'bits': [0, 1, 2, 3, 4, 5, 6, 7...   \n",
       "                         sr_cloud_qa                {'snow': {'bits': 4, 'values': {'0': 'no_snow'...   \n",
       "ls4_water_classification water                      {'water_classification': {'bits': [0, 1, 2, 3,...   \n",
       "ls5_usgs_sr_scene        blue                                                                     NaN   \n",
       "                         green                                                                    NaN   \n",
       "                         red                                                                      NaN   \n",
       "                         nir                                                                      NaN   \n",
       "                         swir1                                                                    NaN   \n",
       "                         swir2                                                                    NaN   \n",
       "                         sr_atmos_opacity                                                         NaN   \n",
       "                         pixel_qa                   {'snow': {'bits': 4, 'values': {'0': 'no_snow'...   \n",
       "                         radsat_qa                  {'radsat_qa': {'bits': [0, 1, 2, 3, 4, 5, 6, 7...   \n",
       "                         sr_cloud_qa                {'snow': {'bits': 4, 'values': {'0': 'no_snow'...   \n",
       "ls5_water_classification water                      {'water_classification': {'bits': [0, 1, 2, 3,...   \n",
       "ls7_usgs_sr_scene        blue                                                                     NaN   \n",
       "                         green                                                                    NaN   \n",
       "                         red                                                                      NaN   \n",
       "                         nir                                                                      NaN   \n",
       "                         swir1                                                                    NaN   \n",
       "                         swir2                                                                    NaN   \n",
       "                         sr_atmos_opacity                                                         NaN   \n",
       "                         pixel_qa                   {'snow': {'bits': 4, 'values': {'0': 'no_snow'...   \n",
       "...                                                                                               ...   \n",
       "ls8_usgs_fc_scene        NPV                                                                      NaN   \n",
       "                         UE                                                                       NaN   \n",
       "ls8_usgs_sr_scene        coastal_aerosol                                                          NaN   \n",
       "                         blue                                                                     NaN   \n",
       "                         green                                                                    NaN   \n",
       "                         red                                                                      NaN   \n",
       "                         nir                                                                      NaN   \n",
       "                         swir1                                                                    NaN   \n",
       "                         swir2                                                                    NaN   \n",
       "                         pixel_qa                   {'snow': {'bits': 4, 'values': {'0': 'no_snow'...   \n",
       "                         sr_aerosol                 {'aerosol_qa': {'bits': [0, 1, 2, 3, 4, 5, 6, ...   \n",
       "                         radsat_qa                  {'radsat_qa': {'bits': [0, 1, 2, 3, 4, 5, 6, 7...   \n",
       "                         brightness_temperature_1                                                 NaN   \n",
       "                         brightness_temperature_2                                                 NaN   \n",
       "ls8_water_classification water                      {'water_classification': {'bits': [0, 1, 2, 3,...   \n",
       "s2_esa_sr_granule        aerosol_optical_thickness                                                NaN   \n",
       "                         coastal_aerosol                                                          NaN   \n",
       "                         blue                                                                     NaN   \n",
       "                         green                                                                    NaN   \n",
       "                         red                                                                      NaN   \n",
       "                         vegetation_red_edge_1                                                    NaN   \n",
       "                         vegetation_red_edge_2                                                    NaN   \n",
       "                         vegetation_red_edge_3                                                    NaN   \n",
       "                         nir                                                                      NaN   \n",
       "                         water_vapour                                                             NaN   \n",
       "                         swir1                                                                    NaN   \n",
       "                         swir2                                                                    NaN   \n",
       "                         vegetation_red_edge_4                                                    NaN   \n",
       "                         wvp                                                                      NaN   \n",
       "                         scene_classification       {'scene_classification': {'bits': [0, 1, 2, 3,...   \n",
       "\n",
       "                                                                         name  \\\n",
       "product                  measurement                                            \n",
       "ls4_usgs_sr_scene        blue                                            blue   \n",
       "                         green                                          green   \n",
       "                         red                                              red   \n",
       "                         nir                                              nir   \n",
       "                         swir1                                          swir1   \n",
       "                         swir2                                          swir2   \n",
       "                         sr_atmos_opacity                    sr_atmos_opacity   \n",
       "                         pixel_qa                                    pixel_qa   \n",
       "                         radsat_qa                                  radsat_qa   \n",
       "                         sr_cloud_qa                              sr_cloud_qa   \n",
       "ls4_water_classification water                                          water   \n",
       "ls5_usgs_sr_scene        blue                                            blue   \n",
       "                         green                                          green   \n",
       "                         red                                              red   \n",
       "                         nir                                              nir   \n",
       "                         swir1                                          swir1   \n",
       "                         swir2                                          swir2   \n",
       "                         sr_atmos_opacity                    sr_atmos_opacity   \n",
       "                         pixel_qa                                    pixel_qa   \n",
       "                         radsat_qa                                  radsat_qa   \n",
       "                         sr_cloud_qa                              sr_cloud_qa   \n",
       "ls5_water_classification water                                          water   \n",
       "ls7_usgs_sr_scene        blue                                            blue   \n",
       "                         green                                          green   \n",
       "                         red                                              red   \n",
       "                         nir                                              nir   \n",
       "                         swir1                                          swir1   \n",
       "                         swir2                                          swir2   \n",
       "                         sr_atmos_opacity                    sr_atmos_opacity   \n",
       "                         pixel_qa                                    pixel_qa   \n",
       "...                                                                       ...   \n",
       "ls8_usgs_fc_scene        NPV                                              NPV   \n",
       "                         UE                                                UE   \n",
       "ls8_usgs_sr_scene        coastal_aerosol                      coastal_aerosol   \n",
       "                         blue                                            blue   \n",
       "                         green                                          green   \n",
       "                         red                                              red   \n",
       "                         nir                                              nir   \n",
       "                         swir1                                          swir1   \n",
       "                         swir2                                          swir2   \n",
       "                         pixel_qa                                    pixel_qa   \n",
       "                         sr_aerosol                                sr_aerosol   \n",
       "                         radsat_qa                                  radsat_qa   \n",
       "                         brightness_temperature_1    brightness_temperature_1   \n",
       "                         brightness_temperature_2    brightness_temperature_2   \n",
       "ls8_water_classification water                                          water   \n",
       "s2_esa_sr_granule        aerosol_optical_thickness  aerosol_optical_thickness   \n",
       "                         coastal_aerosol                      coastal_aerosol   \n",
       "                         blue                                            blue   \n",
       "                         green                                          green   \n",
       "                         red                                              red   \n",
       "                         vegetation_red_edge_1          vegetation_red_edge_1   \n",
       "                         vegetation_red_edge_2          vegetation_red_edge_2   \n",
       "                         vegetation_red_edge_3          vegetation_red_edge_3   \n",
       "                         nir                                              nir   \n",
       "                         water_vapour                            water_vapour   \n",
       "                         swir1                                          swir1   \n",
       "                         swir2                                          swir2   \n",
       "                         vegetation_red_edge_4          vegetation_red_edge_4   \n",
       "                         wvp                                              wvp   \n",
       "                         scene_classification            scene_classification   \n",
       "\n",
       "                                                    nodata        units  \n",
       "product                  measurement                                     \n",
       "ls4_usgs_sr_scene        blue                        -9999  reflectance  \n",
       "                         green                       -9999  reflectance  \n",
       "                         red                         -9999  reflectance  \n",
       "                         nir                         -9999  reflectance  \n",
       "                         swir1                       -9999  reflectance  \n",
       "                         swir2                       -9999  reflectance  \n",
       "                         sr_atmos_opacity                0            1  \n",
       "                         pixel_qa                        1    bit_index  \n",
       "                         radsat_qa                       1    bit_index  \n",
       "                         sr_cloud_qa                     1    bit_index  \n",
       "ls4_water_classification water                       -9999            1  \n",
       "ls5_usgs_sr_scene        blue                        -9999  reflectance  \n",
       "                         green                       -9999  reflectance  \n",
       "                         red                         -9999  reflectance  \n",
       "                         nir                         -9999  reflectance  \n",
       "                         swir1                       -9999  reflectance  \n",
       "                         swir2                       -9999  reflectance  \n",
       "                         sr_atmos_opacity                0            1  \n",
       "                         pixel_qa                        1    bit_index  \n",
       "                         radsat_qa                       1    bit_index  \n",
       "                         sr_cloud_qa                     1    bit_index  \n",
       "ls5_water_classification water                       -9999            1  \n",
       "ls7_usgs_sr_scene        blue                        -9999  reflectance  \n",
       "                         green                       -9999  reflectance  \n",
       "                         red                         -9999  reflectance  \n",
       "                         nir                         -9999  reflectance  \n",
       "                         swir1                       -9999  reflectance  \n",
       "                         swir2                       -9999  reflectance  \n",
       "                         sr_atmos_opacity                0            1  \n",
       "                         pixel_qa                        1    bit_index  \n",
       "...                                                    ...          ...  \n",
       "ls8_usgs_fc_scene        NPV                            -1      percent  \n",
       "                         UE                             -1            1  \n",
       "ls8_usgs_sr_scene        coastal_aerosol             -9999  reflectance  \n",
       "                         blue                        -9999  reflectance  \n",
       "                         green                       -9999  reflectance  \n",
       "                         red                         -9999  reflectance  \n",
       "                         nir                         -9999  reflectance  \n",
       "                         swir1                       -9999  reflectance  \n",
       "                         swir2                       -9999  reflectance  \n",
       "                         pixel_qa                        1    bit_index  \n",
       "                         sr_aerosol                      0    bit_index  \n",
       "                         radsat_qa                       1    bit_index  \n",
       "                         brightness_temperature_1    -9999  temperature  \n",
       "                         brightness_temperature_2    -9999  temperature  \n",
       "ls8_water_classification water                       -9999            1  \n",
       "s2_esa_sr_granule        aerosol_optical_thickness       0  reflectance  \n",
       "                         coastal_aerosol                 0  reflectance  \n",
       "                         blue                            0  reflectance  \n",
       "                         green                           0  reflectance  \n",
       "                         red                             0  reflectance  \n",
       "                         vegetation_red_edge_1           0  reflectance  \n",
       "                         vegetation_red_edge_2           0  reflectance  \n",
       "                         vegetation_red_edge_3           0  reflectance  \n",
       "                         nir                             0  reflectance  \n",
       "                         water_vapour                    0  reflectance  \n",
       "                         swir1                           0  reflectance  \n",
       "                         swir2                           0  reflectance  \n",
       "                         vegetation_red_edge_4           0  reflectance  \n",
       "                         wvp                             0  reflectance  \n",
       "                         scene_classification            0            1  \n",
       "\n",
       "[65 rows x 6 columns]"
      ]
     },
     "execution_count": 28,
     "metadata": {},
     "output_type": "execute_result"
    }
   ],
   "source": [
    "dc.list_measurements()"
   ]
  },
  {
   "cell_type": "code",
   "execution_count": null,
   "metadata": {},
   "outputs": [],
   "source": [
    "aoi_wkt = \"POLYGON((178.5084149387392 -18.103042187047517,178.54017229347554 -18.103042187047517,178.54017229347554 -18.12392593522968,178.5084149387392 -18.12392593522968,178.5084149387392 -18.103042187047517))\"\n",
    "lat_extents, lon_extents = create_lat_lon(aoi_wkt)\n",
    "output_projection = \"EPSG:32760\"\n",
    "res = 90\n",
    "resolution = (-res, res)\n",
    "time_start = ('2018-1-1')\n",
    "time_end = ('2018-2-1')\n",
    "platform = \"LANDSAT_8\"\n",
    "def createDate(inputDate):\n",
    "    outputDate = datetime.strptime(inputDate, '%Y-%m-%d')\n",
    "    outputDates = outputDate.date()\n",
    "    return outputDates\n",
    "dateStart = createDate(time_start)\n",
    "dateEnd = createDate(time_end)\n",
    "time_range = (dateStart, dateEnd)\n",
    "\n",
    "allmeasurements = [\"green\",\"red\",\"blue\",\"nir\",\"swir1\",\"swir2\"]\n",
    "if platform  in [\"SENTINEL_2\"]:\n",
    "    product = 's2_esa_sr_granule'\n",
    "    measurements = allmeasurements + [\"coastal_aerosol\",\"scene_classification\"]\n",
    "elif platform in [\"LANDSAT_8\"]:    \n",
    "    measurements = allmeasurements + [\"pixel_qa\"]\n",
    "    product = 'ls8_usgs_sr_scene'\n",
    "elif platform in [\"LANDSAT_7\"]:    \n",
    "    measurements = allmeasurements + [\"pixel_qa\"]\n",
    "    product = 'ls7_usgs_sr_scene'\n",
    "elif platform in [\"LANDSAT_5\"]:    \n",
    "    measurements = allmeasurements + [\"pixel_qa\"]\n",
    "    product = 'ls5_usgs_sr_scene'\n",
    "elif platform in [\"LANDSAT_4\"]:    \n",
    "    measurements = allmeasurements + [\"pixel_qa\"]\n",
    "    product = 'ls4_usgs_sr_scene'\n",
    "else:\n",
    "    print(\"invalid platform\")\n",
    "\n",
    "query = {\n",
    "    'y': lat_extents,\n",
    "    'x': lon_extents,\n",
    "    'output_crs': output_projection,  \n",
    "    'resolution': resolution,\n",
    "    'product' : product,\n",
    "    'platform' : platform, \n",
    "    'measurements' : measurements\n",
    "}"
   ]
  }
 ],
 "metadata": {
  "kernelspec": {
   "display_name": "Python [conda env:cubeenv]",
   "language": "python",
   "name": "conda-env-cubeenv-py"
  },
  "language_info": {
   "codemirror_mode": {
    "name": "ipython",
    "version": 3
   },
   "file_extension": ".py",
   "mimetype": "text/x-python",
   "name": "python",
   "nbconvert_exporter": "python",
   "pygments_lexer": "ipython3",
   "version": "3.6.7"
  }
 },
 "nbformat": 4,
 "nbformat_minor": 2
}
