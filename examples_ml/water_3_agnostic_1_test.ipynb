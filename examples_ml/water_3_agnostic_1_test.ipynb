{
 "cells": [
  {
   "cell_type": "markdown",
   "metadata": {},
   "source": [
    "# **Framework for Near-Real Time Sensor-Agnostic Water Classification**\n",
    "\n",
    "A new image is acquired at T1. Landsat (and potentially Sentinel-2) water masks are aggregated from a period of time T0 (T1-3months). Assuming no significant (TBD) change between T0 and T1 in water extent, it should be possible to identify likely change pixels at the boundary of class distributions if sampled across a representative a large enough area (TBD). Omitting such potential change features enables a significant no. training samples at T1 and these may be used to provide water (+ probability) masks at T1 for all clearsky pixels at T1.\n",
    "\n",
    "Assumptions\n",
    "- At least 'somewhat' a complete water mask can be obtained by generating a water summary product for T0\n",
    "- There is a sufficient area of 'clearsky' within the T1 image\n",
    "- Class transitions are on a sufficiently limited scale that either\n",
    "    - (1) they do not need to be omitted and model selection will be robust enough to treat them as outliers, or\n",
    "    - (2) they can be identified as outliers from the major class distributions using skewness/kurtosis\n",
    "- "
   ]
  },
  {
   "cell_type": "code",
   "execution_count": 1,
   "metadata": {},
   "outputs": [
    {
     "data": {
      "text/html": [
       "<table style=\"border: 2px solid white;\">\n",
       "<tr>\n",
       "<td style=\"vertical-align: top; border: 0px solid white\">\n",
       "<h3>Client</h3>\n",
       "<ul>\n",
       "  <li><b>Scheduler: </b>tcp://dask-scheduler.dask.svc.cluster.local:8786\n",
       "  <li><b>Dashboard: </b><a href='http://dask-scheduler.dask.svc.cluster.local:8787/status' target='_blank'>http://dask-scheduler.dask.svc.cluster.local:8787/status</a>\n",
       "</ul>\n",
       "</td>\n",
       "<td style=\"vertical-align: top; border: 0px solid white\">\n",
       "<h3>Cluster</h3>\n",
       "<ul>\n",
       "  <li><b>Workers: </b>5</li>\n",
       "  <li><b>Cores: </b>40</li>\n",
       "  <li><b>Memory: </b>168.65 GB</li>\n",
       "</ul>\n",
       "</td>\n",
       "</tr>\n",
       "</table>"
      ],
      "text/plain": [
       "<Client: scheduler='tcp://10.244.4.62:8786' processes=5 cores=40>"
      ]
     },
     "execution_count": 1,
     "metadata": {},
     "output_type": "execute_result"
    }
   ],
   "source": [
    "# Magic + imports likely common across all notebooks\n",
    "%load_ext autoreload\n",
    "%autoreload 2\n",
    "%matplotlib inline\n",
    "# Supress Warning \n",
    "import warnings\n",
    "warnings.filterwarnings('ignore')\n",
    "# Set reference for util modules\n",
    "import sys\n",
    "sys.path.append('/home/jovyan/odc-hub/')\n",
    "# Generic python\n",
    "import matplotlib.pyplot as plt\n",
    "import numpy as np\n",
    "import xarray as xr \n",
    "from datetime import datetime\n",
    "from datetime import timedelta\n",
    "import pandas as pd\n",
    "import geopandas as gpd\n",
    "from shapely import wkt\n",
    "import os\n",
    "\n",
    "# sac-specific\n",
    "from sac_utils.createAOI import create_lat_lon\n",
    "\n",
    "# dc-specific\n",
    "from datacube import Datacube\n",
    "from datacube.storage.masking import mask_invalid_data\n",
    "dc = Datacube()\n",
    "from utils_dcal.data_cube_utilities.import_export import export_xarray_to_geotiff\n",
    "\n",
    "# ml stuff\n",
    "from sklearn.ensemble import RandomForestClassifier\n",
    "\n",
    "# dask stuff\n",
    "import dask.array\n",
    "import dask\n",
    "from dask.distributed import Client\n",
    "client = Client('dask-scheduler.dask.svc.cluster.local:8786')\n",
    "client"
   ]
  },
  {
   "cell_type": "markdown",
   "metadata": {},
   "source": [
    "# **(0) Scope jobs**"
   ]
  },
  {
   "cell_type": "markdown",
   "metadata": {},
   "source": [
    "overall aoi and search criteria to assertain datasets across which to run app"
   ]
  },
  {
   "cell_type": "code",
   "execution_count": 2,
   "metadata": {},
   "outputs": [],
   "source": [
    "# dc.list_measurements()"
   ]
  },
  {
   "cell_type": "code",
   "execution_count": 6,
   "metadata": {},
   "outputs": [],
   "source": [
    "product = \"s2_esa_sr_granule\""
   ]
  },
  {
   "cell_type": "code",
   "execution_count": 7,
   "metadata": {},
   "outputs": [
    {
     "data": {
      "text/plain": [
       "((-18.317280451285484, -17.376103328077992),\n",
       " (177.47747109686992, 178.74364541327617))"
      ]
     },
     "execution_count": 7,
     "metadata": {},
     "output_type": "execute_result"
    }
   ],
   "source": [
    "viti_levu = \"POLYGON((177.47747109686992 -17.376103328077992,178.74364541327617 -17.376103328077992,178.74364541327617 -18.317280451285484,177.47747109686992 -18.317280451285484,177.47747109686992 -17.376103328077992))\"\n",
    "# suva = \"POLYGON((178.38384316718242 -18.090287234637962,178.49645303046367 -18.090287234637962,178.49645303046367 -18.181641888359497,178.38384316718242 -18.181641888359497,178.38384316718242 -18.090287234637962))\"\n",
    "# left = \"POLYGON((177.38533176312444 -17.934057815678187,177.52815402874944 -17.934057815678187,177.52815402874944 -18.069888303633736,177.38533176312444 -18.069888303633736,177.38533176312444 -17.934057815678187))\"\n",
    "overall_aoi_wkt = viti_levu\n",
    "overall_aoi_gdf = pd.DataFrame({'geometry':[overall_aoi_wkt]})\n",
    "overall_aoi_gdf['geometry'] = overall_aoi_gdf['geometry'].apply(wkt.loads)\n",
    "overall_aoi_gdf['aoi'] = 'aoi'\n",
    "overall_aoi_gdf = gpd.GeoDataFrame(overall_aoi_gdf, geometry='geometry', crs={\"init\": \"epsg:4326\"}) # using {init} important\n",
    "latitude, longitude = create_lat_lon(overall_aoi_wkt)\n",
    "\n",
    "latitude, longitude"
   ]
  },
  {
   "cell_type": "markdown",
   "metadata": {},
   "source": [
    "**find datasets** - *note*: lat lon returns all anti-meridian scenes at that longitude, so need additional filtering here"
   ]
  },
  {
   "cell_type": "code",
   "execution_count": 8,
   "metadata": {},
   "outputs": [
    {
     "data": {
      "text/plain": [
       "(541,)"
      ]
     },
     "execution_count": 8,
     "metadata": {},
     "output_type": "execute_result"
    }
   ],
   "source": [
    "ds = dc.find_datasets(\n",
    "    product=product,\n",
    "    lat=latitude,\n",
    "    lon=longitude,\n",
    ") \n",
    "len(ds), # vars(ds[0])"
   ]
  },
  {
   "cell_type": "markdown",
   "metadata": {},
   "source": [
    "get **ds footprints & dates** - *note*: ds.extent.wkt doesn't play nice so use yml metadata as already in 4326 wkt"
   ]
  },
  {
   "cell_type": "code",
   "execution_count": 9,
   "metadata": {},
   "outputs": [
    {
     "data": {
      "text/html": [
       "<div>\n",
       "<style scoped>\n",
       "    .dataframe tbody tr th:only-of-type {\n",
       "        vertical-align: middle;\n",
       "    }\n",
       "\n",
       "    .dataframe tbody tr th {\n",
       "        vertical-align: top;\n",
       "    }\n",
       "\n",
       "    .dataframe thead th {\n",
       "        text-align: right;\n",
       "    }\n",
       "</style>\n",
       "<table border=\"1\" class=\"dataframe\">\n",
       "  <thead>\n",
       "    <tr style=\"text-align: right;\">\n",
       "      <th></th>\n",
       "      <th>Date</th>\n",
       "      <th>xmin</th>\n",
       "      <th>xmax</th>\n",
       "      <th>ymin</th>\n",
       "      <th>ymax</th>\n",
       "      <th>id</th>\n",
       "      <th>all_meta</th>\n",
       "      <th>geometry</th>\n",
       "      <th>des</th>\n",
       "    </tr>\n",
       "  </thead>\n",
       "  <tbody>\n",
       "    <tr>\n",
       "      <th>105</th>\n",
       "      <td>2019-11-20 22:19:41</td>\n",
       "      <td>177.940346</td>\n",
       "      <td>178.983365</td>\n",
       "      <td>-18.174598</td>\n",
       "      <td>-17.174808</td>\n",
       "      <td>ac01a212-4fc8-5a19-8397-a06e4dbc7ed2</td>\n",
       "      <td>Dataset &lt;id=ac01a212-4fc8-5a19-8397-a06e4dbc7e...</td>\n",
       "      <td>POLYGON ((177.9403464638746 -18.17459849994777...</td>\n",
       "      <td>True</td>\n",
       "    </tr>\n",
       "    <tr>\n",
       "      <th>104</th>\n",
       "      <td>2019-11-20 22:19:41</td>\n",
       "      <td>177.945046</td>\n",
       "      <td>178.993869</td>\n",
       "      <td>-19.078459</td>\n",
       "      <td>-18.078345</td>\n",
       "      <td>0ceeca6c-30d1-5aee-8caf-75b1d803f715</td>\n",
       "      <td>Dataset &lt;id=0ceeca6c-30d1-5aee-8caf-75b1d803f7...</td>\n",
       "      <td>POLYGON ((177.9450459818887 -19.07845942999174...</td>\n",
       "      <td>True</td>\n",
       "    </tr>\n",
       "  </tbody>\n",
       "</table>\n",
       "</div>"
      ],
      "text/plain": [
       "                   Date        xmin        xmax       ymin       ymax  \\\n",
       "105 2019-11-20 22:19:41  177.940346  178.983365 -18.174598 -17.174808   \n",
       "104 2019-11-20 22:19:41  177.945046  178.993869 -19.078459 -18.078345   \n",
       "\n",
       "                                       id  \\\n",
       "105  ac01a212-4fc8-5a19-8397-a06e4dbc7ed2   \n",
       "104  0ceeca6c-30d1-5aee-8caf-75b1d803f715   \n",
       "\n",
       "                                              all_meta  \\\n",
       "105  Dataset <id=ac01a212-4fc8-5a19-8397-a06e4dbc7e...   \n",
       "104  Dataset <id=0ceeca6c-30d1-5aee-8caf-75b1d803f7...   \n",
       "\n",
       "                                              geometry   des  \n",
       "105  POLYGON ((177.9403464638746 -18.17459849994777...  True  \n",
       "104  POLYGON ((177.9450459818887 -19.07845942999174...  True  "
      ]
     },
     "execution_count": 9,
     "metadata": {},
     "output_type": "execute_result"
    },
    {
     "data": {
      "image/png": "[encoded data removed]",
      "text/plain": [
       "<Figure size 432x288 with 1 Axes>"
      ]
     },
     "metadata": {
      "needs_background": "light"
     },
     "output_type": "display_data"
    }
   ],
   "source": [
    "def parsemetaparams(df):\n",
    "    g = []\n",
    "    for index, row in df.iterrows():\n",
    "        g.append(f\"Polygon(({row.xmin} {row.ymin}, {row.xmax} {row.ymin}, {row.xmax} {row.ymax}, {row.xmin} {row.ymax}, {row.xmin} {row.ymin}))\")\n",
    "    df['geometry'] = g\n",
    "    return df\n",
    "df=pd.DataFrame({\n",
    "    'Date': [i.metadata.time[0] for i in ds],\n",
    "    'xmin': [i.metadata.lon[0] for i in ds],\n",
    "    'xmax': [i.metadata.lon[1] for i in ds],\n",
    "    'ymin': [i.metadata.lat[0] for i in ds],\n",
    "    'ymax': [i.metadata.lat[1] for i in ds],\n",
    "    'id': [i.metadata.id for i in ds],\n",
    "    'all_meta': [i for i in ds]\n",
    "})\n",
    "df = parsemetaparams(df)\n",
    "df['geometry'] = df['geometry'].apply(wkt.loads)\n",
    "gdf = gpd.GeoDataFrame(df, geometry='geometry', crs=({\"init\":\"epsg:4326\"}))\n",
    "# repro and intersect to omit potemtial am scenes\n",
    "a = overall_aoi_gdf.to_crs({\"init\": \"epsg:3460\"}) # speed intersect up by repro-ing aoi first\n",
    "gdf['des'] = gdf.to_crs({\"init\": \"epsg:3460\"}).geometry.map(lambda x: x.intersects(a.geometry.any())) # repro and test intersect\n",
    "gdf = gdf[gdf['des']==True] # subset\n",
    "gdf = gdf.sort_values(by=['Date'], ascending=False)\n",
    "\n",
    "# check expected footprints etc.\n",
    "fig, ax = plt.subplots()\n",
    "gdf.to_crs({\"init\": \"epsg:3460\"}).plot(facecolor=\"\",edgecolor=\"b\", ax=ax);\n",
    "overall_aoi_gdf.to_crs({\"init\": \"epsg:3460\"}).plot(facecolor=\"\",edgecolor=\"r\", ax=ax);\n",
    "gdf.head(2)"
   ]
  },
  {
   "cell_type": "code",
   "execution_count": 89,
   "metadata": {},
   "outputs": [],
   "source": [
    "# work with just most recent image for now\n",
    "n = 2"
   ]
  },
  {
   "cell_type": "markdown",
   "metadata": {},
   "source": [
    "# **(0) Set consistent params**"
   ]
  },
  {
   "cell_type": "code",
   "execution_count": 90,
   "metadata": {},
   "outputs": [
    {
     "name": "stdout",
     "output_type": "stream",
     "text": [
      "(-19.08090996444034, -18.08573914510223) (176.9998098839749, 178.0434826969856)\n",
      "('2019-11-20', '2019-11-21') ('2019-08-21', '2019-11-19')\n",
      "red\n"
     ]
    }
   ],
   "source": [
    "# original scene meta for yaml + export later\n",
    "original_metadata = gdf.iloc[[n]]['all_meta'].values[0]\n",
    "# format acquistion date of image being classified\n",
    "T = pd.to_datetime(gdf.iloc[[n]].Date.values[0]).date()\n",
    "# add a day on to satisfy dc.load time range req\n",
    "T1 = (str(T), str(pd.to_datetime(T +pd.DateOffset(1)).date()))\n",
    "# create T0 range of 90 days prior to acquisition\n",
    "T0 = (str(pd.to_datetime(T + pd.DateOffset(-91)).date()), str(pd.to_datetime(T + pd.DateOffset(-1)).date()))\n",
    "# lat and lon taken from image metadate\n",
    "latitude, longitude = create_lat_lon(str(gdf.iloc[[n]].geometry.values[0]))\n",
    "# hopefully fiji crs avoids major AM issues\n",
    "output_crs = \"EPSG:32760\"\n",
    "resolution = (-10,10)\n",
    "ref_channel = 'red'\n",
    "\n",
    "T1_prod = \"s2_esa_sr_granule\"\n",
    "T1_measurements = [\"green\",\"red\",\"blue\",\"nir\",\"swir1\",\"swir2\", \"scene_classification\"]\n",
    "T1_vars = ['green','red','blue','nir','swir1','swir2']\n",
    "\n",
    "print(latitude, longitude)\n",
    "print(T1, T0)\n",
    "print(ref_channel)"
   ]
  },
  {
   "cell_type": "markdown",
   "metadata": {},
   "source": [
    "# **(1) create T0 water mask (T1-3months)**"
   ]
  },
  {
   "cell_type": "markdown",
   "metadata": {},
   "source": [
    "**load T0 water masks**"
   ]
  },
  {
   "cell_type": "code",
   "execution_count": 91,
   "metadata": {},
   "outputs": [
    {
     "data": {
      "text/plain": [
       "<xarray.Dataset>\n",
       "Dimensions:  (time: 4, x: 11045, y: 11044)\n",
       "Coordinates:\n",
       "  * time     (time) datetime64[ns] 2019-08-25T22:06:48 ... 2019-09-10T22:06:52\n",
       "  * y        (y) float64 8e+06 8e+06 8e+06 8e+06 ... 7.89e+06 7.89e+06 7.89e+06\n",
       "  * x        (x) float64 5e+05 5e+05 5e+05 ... 6.104e+05 6.104e+05 6.104e+05\n",
       "Data variables:\n",
       "    water    (time, y, x) int16 dask.array<shape=(4, 11044, 11045), chunksize=(1, 1000, 1000)>\n",
       "Attributes:\n",
       "    crs:      EPSG:32760"
      ]
     },
     "execution_count": 91,
     "metadata": {},
     "output_type": "execute_result"
    }
   ],
   "source": [
    "product = 'ls8_water_classification'\n",
    "measurements = ['water']\n",
    "\n",
    "water_dataset = dc.load(\n",
    "    product=product,\n",
    "    time=T0, # quarter prior to T1 \n",
    "    lat=latitude,\n",
    "    lon=longitude,\n",
    "    output_crs=output_crs,\n",
    "    resolution=resolution,\n",
    "    measurements = measurements,\n",
    "    group_by='solar_day',\n",
    "    dask_chunks={\n",
    "        #'time': 1,\n",
    "        'x': 1000,\n",
    "        'y': 1000,\n",
    "    }\n",
    ")\n",
    "water_dataset"
   ]
  },
  {
   "cell_type": "markdown",
   "metadata": {},
   "source": [
    "fully **remove nodata** pixels (can't just use ==-9999 due to potential nn averaging within dc.load() at res <native"
   ]
  },
  {
   "cell_type": "code",
   "execution_count": 92,
   "metadata": {},
   "outputs": [],
   "source": [
    "# Identify pixels with valid data\n",
    "good_quality = (\n",
    "    (water_dataset.water >= 0) # no data\n",
    ")\n",
    "# Apply mask\n",
    "water_dataset = water_dataset.where(good_quality)"
   ]
  },
  {
   "cell_type": "markdown",
   "metadata": {},
   "source": [
    "**define dask computation** of water summary product"
   ]
  },
  {
   "cell_type": "code",
   "execution_count": 93,
   "metadata": {},
   "outputs": [],
   "source": [
    "mean_dataset = water_dataset.water.mean(dim='time')"
   ]
  },
  {
   "cell_type": "markdown",
   "metadata": {},
   "source": [
    "**apply computation** to water masks dataset & plot"
   ]
  },
  {
   "cell_type": "code",
   "execution_count": 94,
   "metadata": {},
   "outputs": [
    {
     "name": "stdout",
     "output_type": "stream",
     "text": [
      "CPU times: user 3.43 s, sys: 2.48 s, total: 5.91 s\n",
      "Wall time: 34.8 s\n"
     ]
    }
   ],
   "source": [
    "%%time\n",
    "mean_dataset = mean_dataset.compute()"
   ]
  },
  {
   "cell_type": "code",
   "execution_count": 95,
   "metadata": {},
   "outputs": [
    {
     "data": {
      "text/html": [
       "<table style=\"border: 2px solid white;\">\n",
       "<tr>\n",
       "<td style=\"vertical-align: top; border: 0px solid white\">\n",
       "<h3>Client</h3>\n",
       "<ul>\n",
       "  <li><b>Scheduler: </b>tcp://dask-scheduler.dask.svc.cluster.local:8786\n",
       "  <li><b>Dashboard: </b><a href='http://dask-scheduler.dask.svc.cluster.local:8787/status' target='_blank'>http://dask-scheduler.dask.svc.cluster.local:8787/status</a>\n",
       "</ul>\n",
       "</td>\n",
       "<td style=\"vertical-align: top; border: 0px solid white\">\n",
       "<h3>Cluster</h3>\n",
       "<ul>\n",
       "  <li><b>Workers: </b>5</li>\n",
       "  <li><b>Cores: </b>40</li>\n",
       "  <li><b>Memory: </b>168.65 GB</li>\n",
       "</ul>\n",
       "</td>\n",
       "</tr>\n",
       "</table>"
      ],
      "text/plain": [
       "<Client: scheduler='tcp://10.244.4.62:8786' processes=5 cores=40>"
      ]
     },
     "execution_count": 95,
     "metadata": {},
     "output_type": "execute_result"
    }
   ],
   "source": [
    "del water_dataset\n",
    "client.restart()"
   ]
  },
  {
   "cell_type": "markdown",
   "metadata": {},
   "source": [
    "**create binary water mask** based on summary product (based off likelihood of being persistent water bodies)"
   ]
  },
  {
   "cell_type": "code",
   "execution_count": 96,
   "metadata": {},
   "outputs": [
    {
     "name": "stdout",
     "output_type": "stream",
     "text": [
      "CPU times: user 1.49 s, sys: 1.24 s, total: 2.73 s\n",
      "Wall time: 2.73 s\n"
     ]
    }
   ],
   "source": [
    "%%time\n",
    "waterpres_prob = 0.5\n",
    "T0_nd_water = np.isnan(mean_dataset)\n",
    "T0_water = mean_dataset.where((mean_dataset < waterpres_prob) | (T0_nd_water == True), 1) # fix > prob to water\n",
    "T0_water = T0_water.where((T0_water >= waterpres_prob) | (T0_nd_water == True), 0) # fix < prob to no water "
   ]
  },
  {
   "cell_type": "markdown",
   "metadata": {},
   "source": [
    "# **(2) load T1 image**"
   ]
  },
  {
   "cell_type": "markdown",
   "metadata": {},
   "source": [
    "**load** l8"
   ]
  },
  {
   "cell_type": "code",
   "execution_count": 97,
   "metadata": {},
   "outputs": [],
   "source": [
    "product = T1_prod\n",
    "measurements = T1_measurements\n",
    "\n",
    "T1_dataset = dc.load(\n",
    "    product=product,\n",
    "    time=T1, # we know a nice single image is here\n",
    "    lat=latitude,\n",
    "    lon=longitude,\n",
    "    output_crs=output_crs,\n",
    "    resolution=resolution,\n",
    "    measurements = measurements,\n",
    "#     group_by='solar_day',\n",
    "    dask_chunks={\n",
    "        #'time': 1,\n",
    "        'x': 1000,\n",
    "        'y': 1000,\n",
    "    }\n",
    ")\n",
    "# T1_dataset"
   ]
  },
  {
   "cell_type": "markdown",
   "metadata": {},
   "source": [
    "apply **clearsky mask** to image"
   ]
  },
  {
   "cell_type": "code",
   "execution_count": 98,
   "metadata": {},
   "outputs": [],
   "source": [
    "# Identify pixels with valid data\n",
    "if 'usgs' in product:\n",
    "    good_quality = (\n",
    "        (T1_dataset.pixel_qa == 322)  | # clear\n",
    "        (T1_dataset.pixel_qa == 386)  |\n",
    "        (T1_dataset.pixel_qa == 834)  |\n",
    "        (T1_dataset.pixel_qa == 898)  |\n",
    "        (T1_dataset.pixel_qa == 1346) |\n",
    "        (T1_dataset.pixel_qa == 324)  | # water\n",
    "        (T1_dataset.pixel_qa == 388)  |\n",
    "        (T1_dataset.pixel_qa == 836)  |\n",
    "        (T1_dataset.pixel_qa == 900)  |\n",
    "        (T1_dataset.pixel_qa == 1348)\n",
    "    )\n",
    "elif 's2_esa' in product:\n",
    "    good_quality = (\n",
    "    (T1_dataset.scene_classification != 0) & # mask out NO_DATA\n",
    "    (T1_dataset.scene_classification != 1) & # mask out SATURATED_OR_DEFECTIVE\n",
    "    (T1_dataset.scene_classification != 3) & # mask out CLOUD_SHADOWS\n",
    "    (T1_dataset.scene_classification != 8) & # mask out CLOUD_MEDIUM_PROBABILITY\n",
    "    (T1_dataset.scene_classification != 9) & # mask out CLOUD_HIGH_PROBABILITY\n",
    "    (T1_dataset.scene_classification != 10)  # mask out THIN_CIRRUS\n",
    ")\n",
    "\n",
    "# Apply mask\n",
    "T1_dataset = T1_dataset.where(good_quality)"
   ]
  },
  {
   "cell_type": "markdown",
   "metadata": {},
   "source": [
    "**isolate image**"
   ]
  },
  {
   "cell_type": "code",
   "execution_count": 99,
   "metadata": {},
   "outputs": [],
   "source": [
    "T1_img = T1_dataset.isel(time = 0)"
   ]
  },
  {
   "cell_type": "markdown",
   "metadata": {},
   "source": [
    "# **(3) Data fusion prep**"
   ]
  },
  {
   "cell_type": "markdown",
   "metadata": {},
   "source": [
    "## (3A) Training prep"
   ]
  },
  {
   "cell_type": "markdown",
   "metadata": {},
   "source": [
    "**create outside merge of nodata** - T1 img + T0 water mask"
   ]
  },
  {
   "cell_type": "code",
   "execution_count": 100,
   "metadata": {},
   "outputs": [
    {
     "name": "stdout",
     "output_type": "stream",
     "text": [
      "CPU times: user 4.43 s, sys: 12.1 ms, total: 4.45 s\n",
      "Wall time: 4.45 s\n"
     ]
    }
   ],
   "source": [
    "%%time\n",
    "# create mask\n",
    "T0_nd_img = np.isnan(T1_img)[ref_channel]\n",
    "T0_nd = T0_nd_water.where((T0_nd_img == False),True)\n",
    "\n",
    "# apply mask\n",
    "Ytrain = T0_water.where((T0_nd == False))\n",
    "Xtrain = T1_img.where((T0_nd == False))"
   ]
  },
  {
   "cell_type": "markdown",
   "metadata": {},
   "source": [
    "**numpify** T1 image data"
   ]
  },
  {
   "cell_type": "code",
   "execution_count": null,
   "metadata": {},
   "outputs": [
    {
     "name": "stdout",
     "output_type": "stream",
     "text": [
      "0 green\n",
      "1 red\n"
     ]
    }
   ],
   "source": [
    "%%time\n",
    "des_vars = T1_vars\n",
    "\n",
    "lenx, leny = np.shape(Xtrain[ref_channel]) # dims of each raster\n",
    "dsvals = np.zeros([len(des_vars),lenx, leny]) #set up array based on shape of xr and no. des bands\n",
    "\n",
    "for i, m in zip(np.arange(0,len(Xtrain.data_vars),1), Xtrain.variables): # loop through bands in xr\n",
    "    print(i, m)\n",
    "    if m in des_vars: # only want relevant channels\n",
    "        vals = np.array(Xtrain[m].values) # extract only the reflectance values\n",
    "        dsvals[i,:,:] = vals # append to 'master' ND array"
   ]
  },
  {
   "cell_type": "markdown",
   "metadata": {},
   "source": [
    "**re-shape**/flatten T1 data + T0 labels"
   ]
  },
  {
   "cell_type": "code",
   "execution_count": null,
   "metadata": {},
   "outputs": [],
   "source": [
    "Xtrain = dsvals.reshape(dsvals.shape[0], lenx * leny)  # reshape into nbands x 1D arrays\n",
    "Ytrain = Ytrain.values.flatten()\n",
    "\n",
    "Xtrain.shape, Ytrain.shape"
   ]
  },
  {
   "cell_type": "markdown",
   "metadata": {},
   "source": [
    "**remove coincident nd from arrays** variables"
   ]
  },
  {
   "cell_type": "code",
   "execution_count": null,
   "metadata": {},
   "outputs": [],
   "source": [
    "Xtrain = np.array([i[~np.isnan(i)] for i in Xtrain])\n",
    "Ytrain = Ytrain[~np.isnan(Ytrain)]\n",
    "\n",
    "Xtrain.shape, Ytrain.shape"
   ]
  },
  {
   "cell_type": "markdown",
   "metadata": {},
   "source": [
    "**transpose** variables"
   ]
  },
  {
   "cell_type": "code",
   "execution_count": null,
   "metadata": {},
   "outputs": [],
   "source": [
    "Xtrain = Xtrain.transpose()  # transpose so that bands are read as features\n",
    "\n",
    "Xtrain.shape, Ytrain.shape"
   ]
  },
  {
   "cell_type": "markdown",
   "metadata": {},
   "source": [
    "## (3C) Inference Implementation Prep"
   ]
  },
  {
   "cell_type": "markdown",
   "metadata": {},
   "source": [
    "**numpify** T1 image data - within merge"
   ]
  },
  {
   "cell_type": "code",
   "execution_count": null,
   "metadata": {},
   "outputs": [],
   "source": [
    "%%time\n",
    "des_vars = ['green','red','blue','nir','swir1','swir2']\n",
    "\n",
    "lenx, leny = np.shape(T1_img[ref_channel]) # dims of each raster\n",
    "dsvals = np.zeros([len(des_vars),lenx, leny]) #set up array based on shape of xr and no. des bands\n",
    "\n",
    "for i, m in zip(np.arange(0,len(T1_img.data_vars),1), T1_img.variables): # loop through bands in xr\n",
    "    print(i, m)\n",
    "    if m in des_vars: # only want relevant channels\n",
    "        vals = np.array(T1_img[m].values) # extract only the reflectance values\n",
    "        dsvals[i,:,:] = vals # append to 'master' ND array\n",
    "# plt.imshow(dsvals[0,:,:])"
   ]
  },
  {
   "cell_type": "markdown",
   "metadata": {},
   "source": [
    "**re-shape**/flatten T1 data + T1 labels"
   ]
  },
  {
   "cell_type": "code",
   "execution_count": null,
   "metadata": {},
   "outputs": [],
   "source": [
    "Ximp = dsvals.reshape(dsvals.shape[0], lenx * leny)  # reshape into nbands x 1D arrays\n",
    "dsvals = None\n",
    "\n",
    "Ximp.shape"
   ]
  },
  {
   "cell_type": "markdown",
   "metadata": {},
   "source": [
    "**replace coincident nd from arrays** variables"
   ]
  },
  {
   "cell_type": "markdown",
   "metadata": {},
   "source": [
    "**transpose** variables"
   ]
  },
  {
   "cell_type": "code",
   "execution_count": null,
   "metadata": {},
   "outputs": [],
   "source": [
    "Ximp = Ximp.transpose()  # transpose so that bands are read as features\n",
    "\n",
    "Ximp.shape"
   ]
  },
  {
   "cell_type": "code",
   "execution_count": null,
   "metadata": {},
   "outputs": [],
   "source": [
    "foundnans = np.isnan(Ximp)\n",
    "Ximp[foundnans] = 0"
   ]
  },
  {
   "cell_type": "markdown",
   "metadata": {},
   "source": [
    "# **(5) Training of T1 using T0 labels**"
   ]
  },
  {
   "cell_type": "markdown",
   "metadata": {},
   "source": [
    "define **model params**"
   ]
  },
  {
   "cell_type": "code",
   "execution_count": null,
   "metadata": {},
   "outputs": [],
   "source": [
    "# Create the model with 100 trees\n",
    "model = RandomForestClassifier(n_estimators=10, \n",
    "                               bootstrap = True,\n",
    "                               max_features = 'sqrt',\n",
    "                               max_depth=2,\n",
    "                               n_jobs=4,\n",
    "                               verbose=2\n",
    "                              )"
   ]
  },
  {
   "cell_type": "markdown",
   "metadata": {},
   "source": [
    "**fit model**"
   ]
  },
  {
   "cell_type": "code",
   "execution_count": null,
   "metadata": {},
   "outputs": [],
   "source": [
    "%%time\n",
    "rf = model.fit(Xtrain, Ytrain)"
   ]
  },
  {
   "cell_type": "markdown",
   "metadata": {},
   "source": [
    "**score model on training set** - should be replaced with cross-validation"
   ]
  },
  {
   "cell_type": "code",
   "execution_count": null,
   "metadata": {},
   "outputs": [],
   "source": [
    "rf_score = rf.score(Xtrain, Ytrain)\n",
    "rf_score"
   ]
  },
  {
   "cell_type": "markdown",
   "metadata": {},
   "source": [
    "extract & plot **variable importances**"
   ]
  },
  {
   "cell_type": "code",
   "execution_count": null,
   "metadata": {},
   "outputs": [],
   "source": [
    "importances = rf.feature_importances_\n",
    "\n",
    "indices = np.argsort(importances)\n",
    "features = [i for i in T1_img]\n",
    "plt.title('Feature Importances')\n",
    "plt.barh(range(len(indices)), importances[indices], color='b', align='center')\n",
    "plt.yticks(range(len(indices)), [features[i] for i in indices])\n",
    "plt.xlabel('Relative Importance')\n",
    "plt.show()"
   ]
  },
  {
   "cell_type": "markdown",
   "metadata": {},
   "source": [
    "extract and **plot decision tree** - TBC"
   ]
  },
  {
   "cell_type": "markdown",
   "metadata": {},
   "source": [
    "# **(6) Implement on full T1 image**"
   ]
  },
  {
   "cell_type": "code",
   "execution_count": null,
   "metadata": {},
   "outputs": [],
   "source": [
    "predicted = rf.predict(Ximp)\n",
    "predicted = np.array(predicted)\n",
    "probability = rf.predict_proba(Ximp)[:, 1]\n",
    "probability = np.array(probability)"
   ]
  },
  {
   "cell_type": "markdown",
   "metadata": {},
   "source": [
    "make dataset again"
   ]
  },
  {
   "cell_type": "code",
   "execution_count": null,
   "metadata": {},
   "outputs": [],
   "source": [
    "probability = probability*100\n",
    "probability[foundnans[:,0]] = -9999\n",
    "probability = probability.astype(np.int16)\n",
    "probability = np.reshape(probability, [lenx, leny])\n",
    "\n",
    "predicted = predicted\n",
    "predicted[foundnans[:,0]] = -9999\n",
    "predicted = predicted.astype(np.int16)\n",
    "predicted = np.reshape(predicted, [lenx, leny])"
   ]
  },
  {
   "cell_type": "code",
   "execution_count": null,
   "metadata": {},
   "outputs": [],
   "source": [
    "ds = T1_dataset\n",
    "ds['water_mask'] = (('y','x'), predicted)\n",
    "ds['water_prob'] = (('y','x'), probability)"
   ]
  },
  {
   "cell_type": "code",
   "execution_count": null,
   "metadata": {},
   "outputs": [],
   "source": [
    "# fig, ax = plt.subplots(figsize=(50,50))\n",
    "# # ds.water_mask.plot(ax=ax);\n",
    "# ax.imshow(ds.water_mask.where(ds.water_mask>=0))\n",
    "# ax.set_title('Inferred Water Mask')\n",
    "# fig, ax = plt.subplots(figsize=(50,50))\n",
    "# ax.imshow(ds.water_prob.where(ds.water_prob>=0))\n",
    "# # ds.water_prob.plot(ax=ax);\n",
    "# ax.set_title('Inferred Water Probability')\n",
    "# fig, ax = plt.subplots(figsize=(50,50))\n",
    "# # T1_water.plot(ax=ax);\n",
    "# # ax.imshow(T1_water)\n",
    "# # ax.set_title('Wofs Water Mask')\n",
    "# fig, ax = plt.subplots(figsize=(50,50))\n",
    "# # ds.swir1.where(ds.red>0).plot(ax=ax);\n",
    "# ax.imshow(T1_img.swir1)\n",
    "# ax.set_title('SWIR1 Channel');"
   ]
  },
  {
   "cell_type": "markdown",
   "metadata": {},
   "source": [
    "# **(7) Export(s)**"
   ]
  },
  {
   "cell_type": "code",
   "execution_count": null,
   "metadata": {},
   "outputs": [],
   "source": [
    "# export stuff\n",
    "inter_dir = '/home/jovyan/ml_outputs/water_products/'\n",
    "scene_nm = original_metadata.uris[0].split('/')[-2] # assumes scenename as dir of indexed metadata \n",
    "local_prodir = inter_dir + scene_nm + '/'\n",
    "os.makedirs(local_prodir, exist_ok=True)\n",
    "out_mask_prod = local_prodir + scene_nm + '_watermask.tif'\n",
    "out_prob_prod = local_prodir + scene_nm + '_waterprob.tif'\n",
    "\n",
    "scene_nm, local_prodir, out_mask_prod, out_prob_prod"
   ]
  },
  {
   "cell_type": "code",
   "execution_count": null,
   "metadata": {},
   "outputs": [],
   "source": [
    "%%time\n",
    "export_xarray_to_geotiff(ds, out_mask_prod, bands=['water_mask'], crs=\"EPSG:3460\", x_coord='x', y_coord='y', no_data=-9999)"
   ]
  },
  {
   "cell_type": "code",
   "execution_count": null,
   "metadata": {},
   "outputs": [],
   "source": [
    "%%time\n",
    "export_xarray_to_geotiff(ds, out_prob_prod, bands=['water_prob'], crs=\"EPSG:3460\", x_coord='x', y_coord='y', no_data=-9999)"
   ]
  },
  {
   "cell_type": "code",
   "execution_count": null,
   "metadata": {},
   "outputs": [],
   "source": [
    "!ls -lh /home/jovyan/ml_outputs/water_products/*"
   ]
  },
  {
   "cell_type": "code",
   "execution_count": null,
   "metadata": {},
   "outputs": [],
   "source": []
  },
  {
   "cell_type": "code",
   "execution_count": null,
   "metadata": {},
   "outputs": [],
   "source": []
  },
  {
   "cell_type": "code",
   "execution_count": null,
   "metadata": {},
   "outputs": [],
   "source": []
  },
  {
   "cell_type": "code",
   "execution_count": null,
   "metadata": {},
   "outputs": [],
   "source": []
  },
  {
   "cell_type": "code",
   "execution_count": 107,
   "metadata": {},
   "outputs": [
    {
     "data": {
      "text/plain": [
       "(Timestamp('2019-04-17 22:30:11'), 'S2A_MSIL2A_20190417T223011_T60KWF')"
      ]
     },
     "execution_count": 107,
     "metadata": {},
     "output_type": "execute_result"
    }
   ],
   "source": [
    "# yaml stuff\n",
    "o_dtme = pd.to_datetime(original_metadata.center_time)"
   ]
  },
  {
   "cell_type": "code",
   "execution_count": 53,
   "metadata": {},
   "outputs": [
    {
     "data": {
      "text/plain": [
       "'2019-04-17'"
      ]
     },
     "execution_count": 53,
     "metadata": {},
     "output_type": "execute_result"
    }
   ],
   "source": [
    "T1[0]"
   ]
  },
  {
   "cell_type": "code",
   "execution_count": 54,
   "metadata": {},
   "outputs": [
    {
     "data": {
      "text/plain": [
       "'2019'"
      ]
     },
     "execution_count": 54,
     "metadata": {},
     "output_type": "execute_result"
    }
   ],
   "source": [
    "f\"{T1[0][:4]}_{T1[0][:4]}\""
   ]
  },
  {
   "cell_type": "code",
   "execution_count": 57,
   "metadata": {},
   "outputs": [
    {
     "data": {
      "text/html": [
       "<div>\n",
       "<style scoped>\n",
       "    .dataframe tbody tr th:only-of-type {\n",
       "        vertical-align: middle;\n",
       "    }\n",
       "\n",
       "    .dataframe tbody tr th {\n",
       "        vertical-align: top;\n",
       "    }\n",
       "\n",
       "    .dataframe thead th {\n",
       "        text-align: right;\n",
       "    }\n",
       "</style>\n",
       "<table border=\"1\" class=\"dataframe\">\n",
       "  <thead>\n",
       "    <tr style=\"text-align: right;\">\n",
       "      <th></th>\n",
       "      <th>Date</th>\n",
       "      <th>xmin</th>\n",
       "      <th>xmax</th>\n",
       "      <th>ymin</th>\n",
       "      <th>ymax</th>\n",
       "      <th>id</th>\n",
       "      <th>geometry</th>\n",
       "      <th>des</th>\n",
       "    </tr>\n",
       "  </thead>\n",
       "  <tbody>\n",
       "    <tr>\n",
       "      <th>64</th>\n",
       "      <td>2019-04-17 22:30:11</td>\n",
       "      <td>176.999811</td>\n",
       "      <td>178.037982</td>\n",
       "      <td>-18.176925</td>\n",
       "      <td>-17.181809</td>\n",
       "      <td>14366e25-9fce-57e7-8c2e-da6da970b9cf</td>\n",
       "      <td>POLYGON ((176.9998108864126 -18.17692485527006...</td>\n",
       "      <td>True</td>\n",
       "    </tr>\n",
       "  </tbody>\n",
       "</table>\n",
       "</div>"
      ],
      "text/plain": [
       "                  Date        xmin        xmax       ymin       ymax  \\\n",
       "64 2019-04-17 22:30:11  176.999811  178.037982 -18.176925 -17.181809   \n",
       "\n",
       "                                      id  \\\n",
       "64  14366e25-9fce-57e7-8c2e-da6da970b9cf   \n",
       "\n",
       "                                             geometry   des  \n",
       "64  POLYGON ((176.9998108864126 -18.17692485527006...  True  "
      ]
     },
     "execution_count": 57,
     "metadata": {},
     "output_type": "execute_result"
    }
   ],
   "source": [
    "gdf.iloc[[n]]"
   ]
  },
  {
   "cell_type": "code",
   "execution_count": null,
   "metadata": {},
   "outputs": [],
   "source": []
  }
 ],
 "metadata": {
  "kernelspec": {
   "display_name": "Python [conda env:cubeenv]",
   "language": "python",
   "name": "conda-env-cubeenv-py"
  },
  "language_info": {
   "codemirror_mode": {
    "name": "ipython",
    "version": 3
   },
   "file_extension": ".py",
   "mimetype": "text/x-python",
   "name": "python",
   "nbconvert_exporter": "python",
   "pygments_lexer": "ipython3",
   "version": "3.6.7"
  }
 },
 "nbformat": 4,
 "nbformat_minor": 2
}
